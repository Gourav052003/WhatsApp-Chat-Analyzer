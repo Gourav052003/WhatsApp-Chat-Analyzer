{
 "cells": [
  {
   "cell_type": "markdown",
   "id": "3c23f723",
   "metadata": {},
   "source": [
    "# Loading and Structuring the chats data"
   ]
  },
  {
   "cell_type": "code",
   "execution_count": 1,
   "metadata": {},
   "outputs": [],
   "source": [
    "from pathlib import Path\n",
    "import pandas as pd\n",
    "import re"
   ]
  },
  {
   "cell_type": "code",
   "execution_count": 2,
   "metadata": {},
   "outputs": [],
   "source": [
    "def get_structured_chats(chats:list):\n",
    "    \n",
    "    chats = ''.join(chats)\n",
    "    chats = chats.replace(\"\\n\\n\",\" \")\n",
    "    chats = chats.split('\\n')\n",
    "\n",
    "    pattern_str = r'([0-9]+(/[0-9]+)+)'\n",
    "\n",
    "    structured_chats = []\n",
    "    previous_chat = \"\"\n",
    "    right_match = True\n",
    "    hold_chat = False\n",
    "    count = 0\n",
    "\n",
    "    # Iterating through every chat message\n",
    "    for chat_number,chat in enumerate(chats):\n",
    "        #removes unwanted blank spaces\n",
    "        chat = re.sub(' +', ' ', chat)\n",
    "        chat = chat.strip()\n",
    "        \n",
    "        # To make split into atleast 2 halfs to handle chat messages without date\n",
    "        modified_chat = chat + \"x:x-x,x\"\n",
    "        date,rest_text = modified_chat.split(\",\")[:2]\n",
    "        date = date.strip()\n",
    "\n",
    "        # To check whether next chat is of valid format containing date\n",
    "        if chat_number+1 < len(chats): \n",
    "            next_modified_chat = chats[chat_number+1] + \"x:x-x,x\"\n",
    "            next_date,next_rest_text = next_modified_chat.split(\",\")[:2]\n",
    "            next_date = next_date.strip()\n",
    "\n",
    "            # Hold the current chat message for appending into structured_chats if next chat message is not valid\n",
    "            if re.match(pattern_str, next_date):\n",
    "                hold_chat = False\n",
    "            else:\n",
    "                hold_chat = True     \n",
    "        \n",
    "        # To check whether current message is valid or not\n",
    "        if not re.match(pattern_str, date) and right_match!=False:\n",
    "            \n",
    "            # If not valid store the previous chat message \n",
    "            previous_chat = chats[chat_number-1]\n",
    "            right_match = False\n",
    "            \n",
    "        \n",
    "        # Keep on adding invalid messages to previous message (which is correct)\n",
    "        if not re.match(pattern_str, date):\n",
    "            previous_chat = previous_chat + \" \" +  chat\n",
    "            \n",
    "        elif not hold_chat and right_match == False:\n",
    "            # if no invalid chat message left, then append the previous message (correct) to new_chat\n",
    "            structured_chats.append(previous_chat)\n",
    "            previous_chat = \"\"\n",
    "\n",
    "        \n",
    "        # if current chat and next chat is valid\n",
    "        if not hold_chat and re.match(pattern_str, date):\n",
    "            right_match = True\n",
    "            structured_chats.append(chat)\n",
    "\n",
    "        # if chat number is last and chat messages are not valid\n",
    "        if (chat_number+1) == len(chats) and right_match==False:\n",
    "            structured_chats.append(previous_chat)\n",
    "            \n",
    "\n",
    "    return structured_chats"
   ]
  },
  {
   "cell_type": "code",
   "execution_count": 3,
   "metadata": {},
   "outputs": [],
   "source": [
    "def get_notifications_splitted(chats:list):\n",
    "\n",
    "    notifications = []\n",
    "    without_notifications = []\n",
    "\n",
    "    for chat in chats:\n",
    "\n",
    "        chat_backup = chat\n",
    "\n",
    "        chat = chat.split(',')[1:]\n",
    "        chat =  \"\".join(chat) \n",
    "        chat = chat.split('-')[1:]   \n",
    "        chat = ''.join(chat) \n",
    "        \n",
    "        if \":\" not in chat:\n",
    "            notifications.append(chat_backup)\n",
    "        else:\n",
    "            without_notifications.append(chat_backup)\n",
    "                                                \n",
    "    return notifications,without_notifications"
   ]
  },
  {
   "cell_type": "code",
   "execution_count": 4,
   "metadata": {},
   "outputs": [],
   "source": [
    "def get_tablular_chats(chats,table_type:str):\n",
    "\n",
    "    dates = []\n",
    "    timestamps = []\n",
    "    username = []\n",
    "    message = []\n",
    "    tabular_chat = None\n",
    "        \n",
    "    for chat in chats:\n",
    "        \n",
    "        chat_splitted = chat.split(\",\")\n",
    "        date,rest_text = chat_splitted[0],chat_splitted[1:]\n",
    "        rest_text = ','.join(rest_text)\n",
    "        rest_text = rest_text.strip()\n",
    "        date = date.strip()\n",
    "       \n",
    "        chat_splitted = rest_text.split(\"-\")\n",
    "        time,rest_text = chat_splitted[0],chat_splitted[1:]\n",
    "        rest_text = '-'.join(rest_text)\n",
    "        rest_text = rest_text.strip()\n",
    "        time = time.strip()\n",
    "\n",
    "\n",
    "        if table_type == 'without_notifications':\n",
    "\n",
    "            chat_splitted = rest_text.split(\":\")\n",
    "            person,rest_text = chat_splitted[0],chat_splitted[1:]\n",
    "            rest_text = ':'.join(rest_text)\n",
    "            rest_text = rest_text.strip()\n",
    "            person = person.strip()\n",
    "\n",
    "            dates.append(date)\n",
    "            timestamps.append(time)\n",
    "            username.append(person)\n",
    "            message.append(rest_text)\n",
    "\n",
    "        elif table_type == 'only_notifications':\n",
    "\n",
    "            dates.append(date)\n",
    "            timestamps.append(time)\n",
    "            message.append(rest_text)\n",
    "\n",
    "        else:\n",
    "            print(\"specify correct table type (without_notifications/only_notifications)\")\n",
    "            return None\n",
    "    \n",
    "\n",
    "    if table_type == 'without_notifications':\n",
    "\n",
    "        tabular_chat = pd.DataFrame({\"Date\":dates,\"time\":timestamps,\"username\":username,\"message\":message})\n",
    "\n",
    "    elif table_type == 'only_notifications':\n",
    "        \n",
    "        tabular_chat = pd.DataFrame({\"Date\":dates,\"time\":timestamps,\"notifictions\":message})\n",
    "        \n",
    "             \n",
    "\n",
    "    return tabular_chat  \n",
    "       "
   ]
  },
  {
   "cell_type": "code",
   "execution_count": 5,
   "metadata": {},
   "outputs": [],
   "source": [
    "def load_chats_table(chatFile:Path):\n",
    "\n",
    "    with open(chatFile,encoding='utf-8') as textFile:\n",
    "        chats = textFile.readlines()\n",
    "\n",
    "        structured_chats = get_structured_chats(chats)\n",
    "        only_notificatitons,without_notifications = get_notifications_splitted(structured_chats)\n",
    "        only_notifications_table = get_tablular_chats(only_notificatitons,table_type = 'only_notifications')\n",
    "        without_notifications_table = get_tablular_chats(without_notifications,table_type = 'without_notifications')\n",
    "\n",
    "    return only_notifications_table,without_notifications_table"
   ]
  },
  {
   "cell_type": "code",
   "execution_count": 6,
   "metadata": {},
   "outputs": [],
   "source": [
    "CHAT_FILE = Path('Chats/WhatsApp Chat with 20BCS-38 7th Semester.txt') "
   ]
  },
  {
   "cell_type": "code",
   "execution_count": 7,
   "metadata": {},
   "outputs": [],
   "source": [
    " only_notifications,without_notifications = load_chats_table(CHAT_FILE)"
   ]
  },
  {
   "cell_type": "code",
   "execution_count": 8,
   "metadata": {},
   "outputs": [
    {
     "data": {
      "text/html": [
       "<div>\n",
       "<style scoped>\n",
       "    .dataframe tbody tr th:only-of-type {\n",
       "        vertical-align: middle;\n",
       "    }\n",
       "\n",
       "    .dataframe tbody tr th {\n",
       "        vertical-align: top;\n",
       "    }\n",
       "\n",
       "    .dataframe thead th {\n",
       "        text-align: right;\n",
       "    }\n",
       "</style>\n",
       "<table border=\"1\" class=\"dataframe\">\n",
       "  <thead>\n",
       "    <tr style=\"text-align: right;\">\n",
       "      <th></th>\n",
       "      <th>Date</th>\n",
       "      <th>time</th>\n",
       "      <th>notifictions</th>\n",
       "    </tr>\n",
       "  </thead>\n",
       "  <tbody>\n",
       "    <tr>\n",
       "      <th>0</th>\n",
       "      <td>29/07/23</td>\n",
       "      <td>12:19 pm</td>\n",
       "      <td>Messages and calls are end-to-end encrypted. N...</td>\n",
       "    </tr>\n",
       "    <tr>\n",
       "      <th>1</th>\n",
       "      <td>23/07/23</td>\n",
       "      <td>2:06 pm</td>\n",
       "      <td>Sourabh 7 Mentor created group \"Final year CSE...</td>\n",
       "    </tr>\n",
       "    <tr>\n",
       "      <th>2</th>\n",
       "      <td>29/07/23</td>\n",
       "      <td>12:19 pm</td>\n",
       "      <td>Sourabh 7 Mentor added you</td>\n",
       "    </tr>\n",
       "    <tr>\n",
       "      <th>3</th>\n",
       "      <td>29/07/23</td>\n",
       "      <td>12:19 pm</td>\n",
       "      <td>Sourabh 7 Mentor added +91 79799 69265</td>\n",
       "    </tr>\n",
       "    <tr>\n",
       "      <th>4</th>\n",
       "      <td>29/07/23</td>\n",
       "      <td>12:35 pm</td>\n",
       "      <td>Sourabh 7 Mentor added +91 98722 29498</td>\n",
       "    </tr>\n",
       "  </tbody>\n",
       "</table>\n",
       "</div>"
      ],
      "text/plain": [
       "       Date      time                                       notifictions\n",
       "0  29/07/23  12:19 pm  Messages and calls are end-to-end encrypted. N...\n",
       "1  23/07/23   2:06 pm  Sourabh 7 Mentor created group \"Final year CSE...\n",
       "2  29/07/23  12:19 pm                         Sourabh 7 Mentor added you\n",
       "3  29/07/23  12:19 pm             Sourabh 7 Mentor added +91 79799 69265\n",
       "4  29/07/23  12:35 pm             Sourabh 7 Mentor added +91 98722 29498"
      ]
     },
     "execution_count": 8,
     "metadata": {},
     "output_type": "execute_result"
    }
   ],
   "source": [
    "only_notifications.head()"
   ]
  },
  {
   "cell_type": "code",
   "execution_count": 9,
   "metadata": {},
   "outputs": [
    {
     "data": {
      "text/html": [
       "<div>\n",
       "<style scoped>\n",
       "    .dataframe tbody tr th:only-of-type {\n",
       "        vertical-align: middle;\n",
       "    }\n",
       "\n",
       "    .dataframe tbody tr th {\n",
       "        vertical-align: top;\n",
       "    }\n",
       "\n",
       "    .dataframe thead th {\n",
       "        text-align: right;\n",
       "    }\n",
       "</style>\n",
       "<table border=\"1\" class=\"dataframe\">\n",
       "  <thead>\n",
       "    <tr style=\"text-align: right;\">\n",
       "      <th></th>\n",
       "      <th>Date</th>\n",
       "      <th>time</th>\n",
       "      <th>username</th>\n",
       "      <th>message</th>\n",
       "    </tr>\n",
       "  </thead>\n",
       "  <tbody>\n",
       "    <tr>\n",
       "      <th>0</th>\n",
       "      <td>29/07/23</td>\n",
       "      <td>12:39 pm</td>\n",
       "      <td>+91 70045 64005</td>\n",
       "      <td>Already Responded  Registration Done</td>\n",
       "    </tr>\n",
       "    <tr>\n",
       "      <th>1</th>\n",
       "      <td>29/07/23</td>\n",
       "      <td>1:11 pm</td>\n",
       "      <td>+91 83077 89067</td>\n",
       "      <td>Garima  20BCS2031 Registration done! 20BCS9624...</td>\n",
       "    </tr>\n",
       "    <tr>\n",
       "      <th>2</th>\n",
       "      <td>29/07/23</td>\n",
       "      <td>3:12 pm</td>\n",
       "      <td>Sourabh 7 Mentor</td>\n",
       "      <td>gaurav 20bcs1316 mohan 20bcs2968 vasu 20bcs793...</td>\n",
       "    </tr>\n",
       "    <tr>\n",
       "      <th>3</th>\n",
       "      <td>30/07/23</td>\n",
       "      <td>7:42 pm</td>\n",
       "      <td>+91 6376 881 983</td>\n",
       "      <td>20bcs7936  Vasu Solanki Done</td>\n",
       "    </tr>\n",
       "    <tr>\n",
       "      <th>4</th>\n",
       "      <td>31/07/23</td>\n",
       "      <td>9:50 am</td>\n",
       "      <td>Karan CR Sem5,6</td>\n",
       "      <td>*Most Urgent:* *Accenture Registration :* Stud...</td>\n",
       "    </tr>\n",
       "  </tbody>\n",
       "</table>\n",
       "</div>"
      ],
      "text/plain": [
       "       Date      time          username  \\\n",
       "0  29/07/23  12:39 pm   +91 70045 64005   \n",
       "1  29/07/23   1:11 pm   +91 83077 89067   \n",
       "2  29/07/23   3:12 pm  Sourabh 7 Mentor   \n",
       "3  30/07/23   7:42 pm  +91 6376 881 983   \n",
       "4  31/07/23   9:50 am   Karan CR Sem5,6   \n",
       "\n",
       "                                             message  \n",
       "0               Already Responded  Registration Done  \n",
       "1  Garima  20BCS2031 Registration done! 20BCS9624...  \n",
       "2  gaurav 20bcs1316 mohan 20bcs2968 vasu 20bcs793...  \n",
       "3                       20bcs7936  Vasu Solanki Done  \n",
       "4  *Most Urgent:* *Accenture Registration :* Stud...  "
      ]
     },
     "execution_count": 9,
     "metadata": {},
     "output_type": "execute_result"
    }
   ],
   "source": [
    "without_notifications.head()"
   ]
  },
  {
   "cell_type": "markdown",
   "metadata": {},
   "source": [
    "# Feature engineering Date and time columns"
   ]
  },
  {
   "cell_type": "code",
   "execution_count": 10,
   "metadata": {},
   "outputs": [],
   "source": [
    "def get_24_hrs_format(date:str,time:str):\n",
    "\n",
    "    meridiem_regx = r'[A-Za-z][A-Za-z]'\n",
    "    meridiem_match = re.search(meridiem_regx,time)\n",
    "    meridiem = meridiem_match.group() # extraxt am/pm\n",
    "\n",
    "    time = time.replace(meridiem,\"\") # extract hh:mm\n",
    "    hour,minutes = time.split(':')\n",
    "\n",
    "    hour = int(hour)\n",
    "    minutes = int(minutes)\n",
    "\n",
    "    # converting to 24 hours format\n",
    "\n",
    "    if hour==12 and meridiem=='am': hour = 0\n",
    "\n",
    "    if hour>12 and meridiem == 'pm': hour+=12\n",
    "    \n",
    "    if hour<10: hour = f\"0{hour}\"\n",
    "\n",
    "    if minutes<10:minutes = f\"0{minutes}\"        \n",
    "\n",
    "\n",
    "    datetime = f\"{date} {hour}:{minutes}\"\n",
    "    \n",
    "    return datetime"
   ]
  },
  {
   "cell_type": "code",
   "execution_count": 11,
   "metadata": {},
   "outputs": [],
   "source": [
    "def get_24_hours_datetimes(dates,times) :\n",
    "\n",
    "    date_times = []\n",
    "\n",
    "    for date,time in zip(dates,times):\n",
    "\n",
    "        date_time = get_24_hrs_format(date,time)\n",
    "        date_times.append(date_time)\n",
    "\n",
    "\n",
    "    return date_times\n",
    "    "
   ]
  },
  {
   "cell_type": "code",
   "execution_count": 12,
   "metadata": {},
   "outputs": [],
   "source": [
    "dates = without_notifications.Date.values\n",
    "times = without_notifications.time.values\n",
    "\n",
    "datetime24 = get_24_hours_datetimes(dates,times)\n",
    "without_notifications.insert(2,\"datetime24\",datetime24)\n",
    "without_notifications.datetime24 = pd.to_datetime(without_notifications.datetime24,format='%d/%m/%y %H:%M')\n",
    "without_notifications.insert(2,\"only_date\",without_notifications.datetime24.dt.date)\n",
    "\n",
    "without_notifications = without_notifications.assign(\n",
    "\n",
    "    hour = without_notifications.datetime24.dt.hour,\n",
    "    minutes = without_notifications.datetime24.dt.minute,\n",
    "\n",
    "    Day = without_notifications.datetime24.dt.day,\n",
    "    Month = without_notifications.datetime24.dt.month,\n",
    "    Month_name = without_notifications.datetime24.dt.month_name(),\n",
    "    Year = without_notifications.datetime24.dt.year,\n",
    "\n",
    "    weekday = without_notifications.datetime24.dt.dayofweek,\n",
    "    weekday_name = without_notifications.datetime24.dt.day_name(),\n",
    "\n",
    ")\n"
   ]
  },
  {
   "cell_type": "code",
   "execution_count": 13,
   "metadata": {},
   "outputs": [
    {
     "data": {
      "text/html": [
       "<div>\n",
       "<style scoped>\n",
       "    .dataframe tbody tr th:only-of-type {\n",
       "        vertical-align: middle;\n",
       "    }\n",
       "\n",
       "    .dataframe tbody tr th {\n",
       "        vertical-align: top;\n",
       "    }\n",
       "\n",
       "    .dataframe thead th {\n",
       "        text-align: right;\n",
       "    }\n",
       "</style>\n",
       "<table border=\"1\" class=\"dataframe\">\n",
       "  <thead>\n",
       "    <tr style=\"text-align: right;\">\n",
       "      <th></th>\n",
       "      <th>Date</th>\n",
       "      <th>time</th>\n",
       "      <th>only_date</th>\n",
       "      <th>datetime24</th>\n",
       "      <th>username</th>\n",
       "      <th>message</th>\n",
       "      <th>hour</th>\n",
       "      <th>minutes</th>\n",
       "      <th>Day</th>\n",
       "      <th>Month</th>\n",
       "      <th>Month_name</th>\n",
       "      <th>Year</th>\n",
       "      <th>weekday</th>\n",
       "      <th>weekday_name</th>\n",
       "    </tr>\n",
       "  </thead>\n",
       "  <tbody>\n",
       "    <tr>\n",
       "      <th>0</th>\n",
       "      <td>29/07/23</td>\n",
       "      <td>12:39 pm</td>\n",
       "      <td>2023-07-29</td>\n",
       "      <td>2023-07-29 12:39:00</td>\n",
       "      <td>+91 70045 64005</td>\n",
       "      <td>Already Responded  Registration Done</td>\n",
       "      <td>12</td>\n",
       "      <td>39</td>\n",
       "      <td>29</td>\n",
       "      <td>7</td>\n",
       "      <td>July</td>\n",
       "      <td>2023</td>\n",
       "      <td>5</td>\n",
       "      <td>Saturday</td>\n",
       "    </tr>\n",
       "    <tr>\n",
       "      <th>1</th>\n",
       "      <td>29/07/23</td>\n",
       "      <td>1:11 pm</td>\n",
       "      <td>2023-07-29</td>\n",
       "      <td>2023-07-29 01:11:00</td>\n",
       "      <td>+91 83077 89067</td>\n",
       "      <td>Garima  20BCS2031 Registration done! 20BCS9624...</td>\n",
       "      <td>1</td>\n",
       "      <td>11</td>\n",
       "      <td>29</td>\n",
       "      <td>7</td>\n",
       "      <td>July</td>\n",
       "      <td>2023</td>\n",
       "      <td>5</td>\n",
       "      <td>Saturday</td>\n",
       "    </tr>\n",
       "    <tr>\n",
       "      <th>2</th>\n",
       "      <td>29/07/23</td>\n",
       "      <td>3:12 pm</td>\n",
       "      <td>2023-07-29</td>\n",
       "      <td>2023-07-29 03:12:00</td>\n",
       "      <td>Sourabh 7 Mentor</td>\n",
       "      <td>gaurav 20bcs1316 mohan 20bcs2968 vasu 20bcs793...</td>\n",
       "      <td>3</td>\n",
       "      <td>12</td>\n",
       "      <td>29</td>\n",
       "      <td>7</td>\n",
       "      <td>July</td>\n",
       "      <td>2023</td>\n",
       "      <td>5</td>\n",
       "      <td>Saturday</td>\n",
       "    </tr>\n",
       "    <tr>\n",
       "      <th>3</th>\n",
       "      <td>30/07/23</td>\n",
       "      <td>7:42 pm</td>\n",
       "      <td>2023-07-30</td>\n",
       "      <td>2023-07-30 07:42:00</td>\n",
       "      <td>+91 6376 881 983</td>\n",
       "      <td>20bcs7936  Vasu Solanki Done</td>\n",
       "      <td>7</td>\n",
       "      <td>42</td>\n",
       "      <td>30</td>\n",
       "      <td>7</td>\n",
       "      <td>July</td>\n",
       "      <td>2023</td>\n",
       "      <td>6</td>\n",
       "      <td>Sunday</td>\n",
       "    </tr>\n",
       "    <tr>\n",
       "      <th>4</th>\n",
       "      <td>31/07/23</td>\n",
       "      <td>9:50 am</td>\n",
       "      <td>2023-07-31</td>\n",
       "      <td>2023-07-31 09:50:00</td>\n",
       "      <td>Karan CR Sem5,6</td>\n",
       "      <td>*Most Urgent:* *Accenture Registration :* Stud...</td>\n",
       "      <td>9</td>\n",
       "      <td>50</td>\n",
       "      <td>31</td>\n",
       "      <td>7</td>\n",
       "      <td>July</td>\n",
       "      <td>2023</td>\n",
       "      <td>0</td>\n",
       "      <td>Monday</td>\n",
       "    </tr>\n",
       "  </tbody>\n",
       "</table>\n",
       "</div>"
      ],
      "text/plain": [
       "       Date      time   only_date          datetime24          username  \\\n",
       "0  29/07/23  12:39 pm  2023-07-29 2023-07-29 12:39:00   +91 70045 64005   \n",
       "1  29/07/23   1:11 pm  2023-07-29 2023-07-29 01:11:00   +91 83077 89067   \n",
       "2  29/07/23   3:12 pm  2023-07-29 2023-07-29 03:12:00  Sourabh 7 Mentor   \n",
       "3  30/07/23   7:42 pm  2023-07-30 2023-07-30 07:42:00  +91 6376 881 983   \n",
       "4  31/07/23   9:50 am  2023-07-31 2023-07-31 09:50:00   Karan CR Sem5,6   \n",
       "\n",
       "                                             message  hour  minutes  Day  \\\n",
       "0               Already Responded  Registration Done    12       39   29   \n",
       "1  Garima  20BCS2031 Registration done! 20BCS9624...     1       11   29   \n",
       "2  gaurav 20bcs1316 mohan 20bcs2968 vasu 20bcs793...     3       12   29   \n",
       "3                       20bcs7936  Vasu Solanki Done     7       42   30   \n",
       "4  *Most Urgent:* *Accenture Registration :* Stud...     9       50   31   \n",
       "\n",
       "   Month Month_name  Year  weekday weekday_name  \n",
       "0      7       July  2023        5     Saturday  \n",
       "1      7       July  2023        5     Saturday  \n",
       "2      7       July  2023        5     Saturday  \n",
       "3      7       July  2023        6       Sunday  \n",
       "4      7       July  2023        0       Monday  "
      ]
     },
     "execution_count": 13,
     "metadata": {},
     "output_type": "execute_result"
    }
   ],
   "source": [
    "without_notifications.head()"
   ]
  },
  {
   "cell_type": "markdown",
   "metadata": {},
   "source": [
    "# Most Active Participants"
   ]
  },
  {
   "cell_type": "code",
   "execution_count": 14,
   "metadata": {},
   "outputs": [],
   "source": [
    "from datetime import datetime,timedelta,date\n",
    "from dateutil.relativedelta import relativedelta\n",
    "import calendar\n",
    "import numpy as np"
   ]
  },
  {
   "cell_type": "code",
   "execution_count": 15,
   "metadata": {},
   "outputs": [],
   "source": [
    "def all_years_wise_activity(active_username,chat_details,start_year,end_year):\n",
    "    \n",
    "    start_date = datetime(start_year,1,1)\n",
    "    end_date = datetime(end_year,1,1)\n",
    "\n",
    "    delta = relativedelta(years=1)\n",
    "\n",
    "    years = []\n",
    "\n",
    "    while start_date <= end_date:\n",
    "        years.append(start_date.year)\n",
    "        start_date += delta\n",
    "\n",
    "    user_activity = [0 for count in range(len(years))] \n",
    "    username = [active_username for count in range(len(years))] \n",
    "\n",
    "    active_user_details = chat_details[chat_details.username == active_username]\n",
    "    activity_period = active_user_details[(active_user_details.Year >= start_year) &\n",
    "                                         (active_user_details.Year <= end_year)]\n",
    "\n",
    "    activity_details = activity_period.Year.value_counts()\n",
    "\n",
    "    year_data = activity_details.index\n",
    "    activity_data = activity_details.values\n",
    "\n",
    "    for year,activity in zip(year_data,activity_data):\n",
    "        index = years.index(year)\n",
    "        user_activity[index] = activity\n",
    "\n",
    "    \n",
    "    return username,years,user_activity"
   ]
  },
  {
   "cell_type": "code",
   "execution_count": 16,
   "metadata": {},
   "outputs": [],
   "source": [
    "def all_months_wise_activity(active_username,chat_details,year,start_month,end_month):\n",
    "    \n",
    "\n",
    "    start_date = datetime(year,start_month,1)\n",
    "    end_date = datetime(year,end_month,1)\n",
    "\n",
    "    delta = relativedelta(months=1)\n",
    "\n",
    "    months = []\n",
    "    \n",
    "    while start_date <= end_date:\n",
    "        months.append(start_date.month)\n",
    "        start_date += delta\n",
    "\n",
    "    user_activity = [0 for count in range(len(months))] \n",
    "    username = [active_username for count in range(len(months))]\n",
    "\n",
    "    active_user_details = chat_details[chat_details.username == active_username]\n",
    "    activity_period = active_user_details[(active_user_details.Month >= start_month) & \n",
    "                                        (active_user_details.Month <= end_month)]\n",
    "    \n",
    "    activity_details = activity_period.Month.value_counts()\n",
    "\n",
    "    month_data = activity_details.index\n",
    "    activity_data = activity_details.values\n",
    "\n",
    "    for month,activity in zip(month_data,activity_data):\n",
    "\n",
    "        index = months.index(month)\n",
    "        user_activity[index] = activity\n",
    "\n",
    "    #provide month number\n",
    "    month_names = []\n",
    "\n",
    "    for month_number in months:\n",
    "        datetime_object = datetime.strptime(str(month_number), \"%m\")\n",
    "        full_month_name = datetime_object.strftime(\"%B\")\n",
    "        month_names.append(full_month_name)\n",
    "\n",
    "\n",
    "    return username,month_names,user_activity\n"
   ]
  },
  {
   "cell_type": "code",
   "execution_count": 17,
   "metadata": {},
   "outputs": [],
   "source": [
    "def all_days_wise_activity(active_username,chat_details,start_year,start_month,start_day,end_year,end_month,end_day):\n",
    "\n",
    "    start_date = date(start_year,start_month,start_day)\n",
    "    end_date = date(end_year,end_month,end_day)\n",
    "\n",
    "    delta = relativedelta(days=1)\n",
    "\n",
    "    dates = []\n",
    "\n",
    "    current_date = start_date\n",
    "\n",
    "    while current_date <= end_date:\n",
    "        dates.append(current_date)\n",
    "        current_date += delta\n",
    "\n",
    "    user_activity = [0 for count in range(len(dates))] \n",
    "    username = [active_username for count in range(len(dates))]\n",
    "\n",
    "    active_user_details = chat_details[chat_details.username == active_username]\n",
    "    activity_period = active_user_details[(active_user_details.only_date >= start_date) & \n",
    "                                        (active_user_details.only_date <= end_date)]\n",
    "\n",
    "    activity_details =  activity_period.only_date.value_counts()\n",
    "\n",
    "    dates_data = activity_details.index\n",
    "    activity_data = activity_details.values\n",
    "\n",
    "    for date_data,activity in zip(dates_data,activity_data):\n",
    "\n",
    "        index = dates.index(date_data)\n",
    "        user_activity[index] = activity\n",
    "        \n",
    "         \n",
    "    return username,dates,user_activity      \n",
    "\n"
   ]
  },
  {
   "cell_type": "code",
   "execution_count": 18,
   "metadata": {},
   "outputs": [],
   "source": [
    "def all_weekday_wise_activity(username,chat_details,year,month):\n",
    "    _,_,w1_user_activity = all_days_wise_activity(username,chat_details,year,month,1,year,month,7)\n",
    "    _,_,w2_user_activity = all_days_wise_activity(username,chat_details,year,month,8,year,month,14)\n",
    "    _,_,w3_user_activity = all_days_wise_activity(username,chat_details,year,month,15,year,month,21)\n",
    "    username,weekdates,w4_user_activity = all_days_wise_activity(username,chat_details,year,month,22,year,month,28)\n",
    "\n",
    "    weekdays_names = []\n",
    "\n",
    "    for date in weekdates:\n",
    "        day_name = calendar.day_name[date.weekday()]\n",
    "        weekdays_names.append(day_name)\n",
    "\n",
    "\n",
    "    return  username,weekdays_names,\\\n",
    "            [w1_user_activity,w2_user_activity,w3_user_activity,w4_user_activity]    \n"
   ]
  },
  {
   "cell_type": "code",
   "execution_count": 19,
   "metadata": {},
   "outputs": [],
   "source": [
    "def all_hours_wise_activity(active_username,chat_details,year,month,start_day,end_day,start_hour,end_hour):\n",
    "    \n",
    "    start_dateHours = datetime(year,month,start_day,start_hour,0,0)\n",
    "    end_dateHours = datetime(year, month,end_day,end_hour,0,0)\n",
    "\n",
    "    delta = timedelta(hours=1)\n",
    "\n",
    "    dateHours = []\n",
    "    dateHours_data = []\n",
    "    current_dateHours = start_dateHours\n",
    "\n",
    "    while current_dateHours <= end_dateHours:\n",
    "\n",
    "        dateHours.append(current_dateHours)\n",
    "        current_dateHours += delta\n",
    "\n",
    "    username = [active_username for count in range(len(dateHours))] \n",
    "\n",
    "    active_user_details = chat_details[chat_details.username == active_username]\n",
    "    \n",
    "    start = range(len(dateHours)-1)\n",
    "    end = range(1,len(dateHours))\n",
    "    \n",
    "    for start_idx,end_idx in zip(start,end):\n",
    "        \n",
    "        start_Hour = dateHours[start_idx]\n",
    "        end_Hour = dateHours[end_idx]\n",
    "\n",
    "        activity_period = active_user_details[(active_user_details.datetime24>=start_Hour)&\n",
    "                                    (active_user_details.datetime24<=end_Hour)]\n",
    "\n",
    "        dateHours_data.append(activity_period.shape[0])\n",
    "\n",
    "    return username[:-1],dateHours[:-1],dateHours_data"
   ]
  },
  {
   "cell_type": "code",
   "execution_count": 20,
   "metadata": {},
   "outputs": [],
   "source": [
    "def all_minutes_wise_activity(active_username,chat_details,year,month,day,start_hour,start_minutes,end_hour,end_minutes):\n",
    "    \n",
    "    start_dateHoursMinutes = datetime(year,month,day,start_hour,start_minutes,0)\n",
    "    end_dateHoursMinutes = datetime(year, month,day,end_hour,end_minutes,0)\n",
    "\n",
    "    delta = timedelta(minutes=1)\n",
    "\n",
    "    dateHoursMinutes = []\n",
    "    dateHoursMinutes_data = []\n",
    "\n",
    "    current_dateHoursMinutes = start_dateHoursMinutes\n",
    "\n",
    "    while current_dateHoursMinutes <= end_dateHoursMinutes:\n",
    "        dateHoursMinutes.append(current_dateHoursMinutes)\n",
    "        current_dateHoursMinutes += delta\n",
    "\n",
    "    username = [active_username for count in range(len(dateHoursMinutes))] \n",
    "\n",
    "    active_user_details = chat_details[chat_details.username == active_username]\n",
    "    \n",
    "    start = range(len(dateHoursMinutes)-1)\n",
    "    end = range(1,len(dateHoursMinutes))\n",
    "    \n",
    "    for start_idx,end_idx in zip(start,end):\n",
    "        \n",
    "        start_Minute = dateHoursMinutes[start_idx]\n",
    "        end_Minute = dateHoursMinutes[end_idx]\n",
    "\n",
    "        activity_period = active_user_details[(active_user_details.datetime24>=start_Minute)&\n",
    "                                    (active_user_details.datetime24<=end_Minute)]\n",
    "\n",
    "        dateHoursMinutes_data.append(activity_period.shape[0])\n",
    "\n",
    "\n",
    "    return username[:-1],dateHoursMinutes[:-1],dateHoursMinutes_data\n"
   ]
  },
  {
   "cell_type": "code",
   "execution_count": 21,
   "metadata": {},
   "outputs": [],
   "source": [
    "top_active_users = 7\n",
    "active_participation_count = without_notifications.username.value_counts()[:top_active_users]\n",
    "active_users = active_participation_count.index"
   ]
  },
  {
   "cell_type": "code",
   "execution_count": 22,
   "metadata": {},
   "outputs": [],
   "source": [
    "others_df = without_notifications.copy()\n",
    "active_users_dfs = []\n",
    "\n",
    "for user in active_users:\n",
    "    active_users_df = without_notifications[without_notifications.username == user]\n",
    "    active_users_dfs.append(active_users_df)\n",
    "\n",
    "\n",
    "for user in active_users:\n",
    "    others_df = others_df[others_df.username != user]\n",
    "\n",
    "others_df.username = \"others\"\n",
    "active_users_dfs.append(others_df)\n",
    "\n",
    "chat_details = pd.concat(active_users_dfs)  \n",
    "active_users = active_users.insert(top_active_users,\"others\")  \n"
   ]
  },
  {
   "cell_type": "code",
   "execution_count": 23,
   "metadata": {},
   "outputs": [],
   "source": [
    "timeline_plot_names = [\"Years\",\"Months\",\"Weekdays\",\"Days\",\"Hours\",\"Minutes\"]\n",
    "\n",
    "users_timeline_plotting_details = {}\n",
    "\n",
    "for user in active_users:\n",
    "\n",
    "    users_timeline_plotting_details[user] = {}\n",
    "\n",
    "    for timeline_name in timeline_plot_names:\n",
    "\n",
    "        if timeline_name == \"Weekdays\":\n",
    "            users_timeline_plotting_details[user].update({timeline_name:{\n",
    "                                            \"username\":\"\",\"x\":\"\",\n",
    "                                            \"y1\":\"\",\"y2\":\"\",\"y3\":\"\",\"y4\":\"\"}})\n",
    "\n",
    "            continue\n",
    "\n",
    "        users_timeline_plotting_details[user].update({timeline_name:{\"username\":\"\",\"x\":\"\",\"y\":\"\"}})\n"
   ]
  },
  {
   "cell_type": "code",
   "execution_count": 24,
   "metadata": {},
   "outputs": [],
   "source": [
    "for username in active_users:\n",
    "\n",
    "    year_wise_username,years,per_year_user_activity = all_years_wise_activity(username,chat_details,\n",
    "                                                                    start_year = 2020,end_year=2025)\n",
    "                                                                    \n",
    "    month_wise_username,months,per_month_user_activity = all_months_wise_activity(username,chat_details,\n",
    "                                                                    year=2023,start_month=7,end_month=11)\n",
    "                                                                    \n",
    "    weekday_wise_username,weeks,per_week_user_activity = all_weekday_wise_activity(username,chat_details,\n",
    "                                                                    year=2023,month=10)\n",
    "                                                                    \n",
    "    day_wise_username,days,per_day_user_activity = all_days_wise_activity(username,chat_details,\n",
    "                            start_year=2023,start_month=8,start_day=1,end_year =2023,end_month=8,end_day=30)\n",
    "                            \n",
    "    hour_wise_username,hours,per_hour_user_activity = all_hours_wise_activity(username,chat_details,\n",
    "                            year=2023,month=8,start_day=3,end_day=3,start_hour=10,end_hour=20)\n",
    "                            \n",
    "    minute_wise_username,minutes,per_minute_user_activity = all_minutes_wise_activity(username,chat_details,    \n",
    "                            year=2023,month=8,day=3,start_hour = 10,end_hour=11,start_minutes=0,end_minutes=50)\n",
    "                            \n",
    "    \n",
    "   \n",
    "    users_timeline_plotting_details[username][\"Years\"][\"username\"] = year_wise_username\n",
    "    users_timeline_plotting_details[username][\"Years\"][\"x\"] = years\n",
    "    users_timeline_plotting_details[username][\"Years\"][\"y\"] = per_year_user_activity\n",
    "\n",
    "    users_timeline_plotting_details[username][\"Months\"][\"username\"] = month_wise_username\n",
    "    users_timeline_plotting_details[username][\"Months\"][\"x\"] = months\n",
    "    users_timeline_plotting_details[username][\"Months\"][\"y\"] = per_month_user_activity\n",
    "\n",
    "    users_timeline_plotting_details[username][\"Days\"][\"username\"] = day_wise_username\n",
    "    users_timeline_plotting_details[username][\"Days\"][\"x\"] = days\n",
    "    users_timeline_plotting_details[username][\"Days\"][\"y\"] = per_day_user_activity\n",
    "\n",
    "    users_timeline_plotting_details[username][\"Weekdays\"][\"username\"] = weekday_wise_username\n",
    "    users_timeline_plotting_details[username][\"Weekdays\"][\"x\"] = weeks\n",
    "    users_timeline_plotting_details[username][\"Weekdays\"][\"y1\"] = per_week_user_activity[0]\n",
    "    users_timeline_plotting_details[username][\"Weekdays\"][\"y2\"] = per_week_user_activity[1]\n",
    "    users_timeline_plotting_details[username][\"Weekdays\"][\"y3\"] = per_week_user_activity[2]\n",
    "    users_timeline_plotting_details[username][\"Weekdays\"][\"y4\"] = per_week_user_activity[3]\n",
    "\n",
    "    users_timeline_plotting_details[username][\"Hours\"][\"username\"] = hour_wise_username\n",
    "    users_timeline_plotting_details[username][\"Hours\"][\"x\"] = hours\n",
    "    users_timeline_plotting_details[username][\"Hours\"][\"y\"] = per_hour_user_activity\n",
    "\n",
    "    users_timeline_plotting_details[username][\"Minutes\"][\"username\"] = minute_wise_username\n",
    "    users_timeline_plotting_details[username][\"Minutes\"][\"x\"] = minutes\n",
    "    users_timeline_plotting_details[username][\"Minutes\"][\"y\"] = per_minute_user_activity\n",
    "    "
   ]
  },
  {
   "cell_type": "code",
   "execution_count": 25,
   "metadata": {},
   "outputs": [],
   "source": [
    "timeline_plot_names = [\"Years\",\"Months\",\"Weekdays\",\"Days\",\"Hours\",\"Minutes\"]\n",
    "\n",
    "timeline_type_dataframe = {timeline : \"\" for timeline in timeline_plot_names }\n",
    "\n",
    "for timeline in timeline_plot_names:\n",
    "\n",
    "    df_timeline_list = []\n",
    "\n",
    "    for user in active_users:\n",
    "        df = pd.DataFrame(users_timeline_plotting_details[user][timeline])\n",
    "        df_timeline_list.append(df)\n",
    "\n",
    "    timeline_df = pd.concat(df_timeline_list,ignore_index=True)\n",
    "    timeline_type_dataframe[timeline] =  timeline_df   \n"
   ]
  },
  {
   "cell_type": "code",
   "execution_count": 26,
   "metadata": {},
   "outputs": [
    {
     "data": {
      "application/vnd.plotly.v1+json": {
       "config": {
        "plotlyServerURL": "https://plot.ly"
       },
       "data": [
        {
         "hovertemplate": "Users=Avantika CR 7sem<br>Years=%{x}<br>Message count=%{y}<extra></extra>",
         "legendgroup": "Avantika CR 7sem",
         "line": {
          "color": "#636efa",
          "dash": "solid"
         },
         "marker": {
          "symbol": "circle"
         },
         "mode": "markers+lines",
         "name": "Avantika CR 7sem",
         "orientation": "v",
         "showlegend": true,
         "type": "scatter",
         "x": [
          2020,
          2021,
          2022,
          2023,
          2024,
          2025
         ],
         "xaxis": "x",
         "y": [
          0,
          0,
          0,
          359,
          0,
          0
         ],
         "yaxis": "y"
        },
        {
         "hovertemplate": "Users=+91 73511 44719<br>Years=%{x}<br>Message count=%{y}<extra></extra>",
         "legendgroup": "+91 73511 44719",
         "line": {
          "color": "#EF553B",
          "dash": "solid"
         },
         "marker": {
          "symbol": "circle"
         },
         "mode": "markers+lines",
         "name": "+91 73511 44719",
         "orientation": "v",
         "showlegend": true,
         "type": "scatter",
         "x": [
          2020,
          2021,
          2022,
          2023,
          2024,
          2025
         ],
         "xaxis": "x",
         "y": [
          0,
          0,
          0,
          234,
          0,
          0
         ],
         "yaxis": "y"
        },
        {
         "hovertemplate": "Users=Sourabh 7 Mentor<br>Years=%{x}<br>Message count=%{y}<extra></extra>",
         "legendgroup": "Sourabh 7 Mentor",
         "line": {
          "color": "#00cc96",
          "dash": "solid"
         },
         "marker": {
          "symbol": "circle"
         },
         "mode": "markers+lines",
         "name": "Sourabh 7 Mentor",
         "orientation": "v",
         "showlegend": true,
         "type": "scatter",
         "x": [
          2020,
          2021,
          2022,
          2023,
          2024,
          2025
         ],
         "xaxis": "x",
         "y": [
          0,
          0,
          0,
          199,
          0,
          0
         ],
         "yaxis": "y"
        },
        {
         "hovertemplate": "Users=+91 76784 09427<br>Years=%{x}<br>Message count=%{y}<extra></extra>",
         "legendgroup": "+91 76784 09427",
         "line": {
          "color": "#ab63fa",
          "dash": "solid"
         },
         "marker": {
          "symbol": "circle"
         },
         "mode": "markers+lines",
         "name": "+91 76784 09427",
         "orientation": "v",
         "showlegend": true,
         "type": "scatter",
         "x": [
          2020,
          2021,
          2022,
          2023,
          2024,
          2025
         ],
         "xaxis": "x",
         "y": [
          0,
          0,
          0,
          47,
          0,
          0
         ],
         "yaxis": "y"
        },
        {
         "hovertemplate": "Users=+91 95235 15421<br>Years=%{x}<br>Message count=%{y}<extra></extra>",
         "legendgroup": "+91 95235 15421",
         "line": {
          "color": "#FFA15A",
          "dash": "solid"
         },
         "marker": {
          "symbol": "circle"
         },
         "mode": "markers+lines",
         "name": "+91 95235 15421",
         "orientation": "v",
         "showlegend": true,
         "type": "scatter",
         "x": [
          2020,
          2021,
          2022,
          2023,
          2024,
          2025
         ],
         "xaxis": "x",
         "y": [
          0,
          0,
          0,
          35,
          0,
          0
         ],
         "yaxis": "y"
        },
        {
         "hovertemplate": "Users=+91 76888 20220<br>Years=%{x}<br>Message count=%{y}<extra></extra>",
         "legendgroup": "+91 76888 20220",
         "line": {
          "color": "#19d3f3",
          "dash": "solid"
         },
         "marker": {
          "symbol": "circle"
         },
         "mode": "markers+lines",
         "name": "+91 76888 20220",
         "orientation": "v",
         "showlegend": true,
         "type": "scatter",
         "x": [
          2020,
          2021,
          2022,
          2023,
          2024,
          2025
         ],
         "xaxis": "x",
         "y": [
          0,
          0,
          0,
          29,
          0,
          0
         ],
         "yaxis": "y"
        },
        {
         "hovertemplate": "Users=+91 83079 17347<br>Years=%{x}<br>Message count=%{y}<extra></extra>",
         "legendgroup": "+91 83079 17347",
         "line": {
          "color": "#FF6692",
          "dash": "solid"
         },
         "marker": {
          "symbol": "circle"
         },
         "mode": "markers+lines",
         "name": "+91 83079 17347",
         "orientation": "v",
         "showlegend": true,
         "type": "scatter",
         "x": [
          2020,
          2021,
          2022,
          2023,
          2024,
          2025
         ],
         "xaxis": "x",
         "y": [
          0,
          0,
          0,
          28,
          0,
          0
         ],
         "yaxis": "y"
        },
        {
         "hovertemplate": "Users=others<br>Years=%{x}<br>Message count=%{y}<extra></extra>",
         "legendgroup": "others",
         "line": {
          "color": "#B6E880",
          "dash": "solid"
         },
         "marker": {
          "symbol": "circle"
         },
         "mode": "markers+lines",
         "name": "others",
         "orientation": "v",
         "showlegend": true,
         "type": "scatter",
         "x": [
          2020,
          2021,
          2022,
          2023,
          2024,
          2025
         ],
         "xaxis": "x",
         "y": [
          0,
          0,
          0,
          623,
          0,
          0
         ],
         "yaxis": "y"
        }
       ],
       "layout": {
        "legend": {
         "title": {
          "text": "Users"
         },
         "tracegroupgap": 0
        },
        "template": {
         "data": {
          "bar": [
           {
            "error_x": {
             "color": "#2a3f5f"
            },
            "error_y": {
             "color": "#2a3f5f"
            },
            "marker": {
             "line": {
              "color": "#E5ECF6",
              "width": 0.5
             },
             "pattern": {
              "fillmode": "overlay",
              "size": 10,
              "solidity": 0.2
             }
            },
            "type": "bar"
           }
          ],
          "barpolar": [
           {
            "marker": {
             "line": {
              "color": "#E5ECF6",
              "width": 0.5
             },
             "pattern": {
              "fillmode": "overlay",
              "size": 10,
              "solidity": 0.2
             }
            },
            "type": "barpolar"
           }
          ],
          "carpet": [
           {
            "aaxis": {
             "endlinecolor": "#2a3f5f",
             "gridcolor": "white",
             "linecolor": "white",
             "minorgridcolor": "white",
             "startlinecolor": "#2a3f5f"
            },
            "baxis": {
             "endlinecolor": "#2a3f5f",
             "gridcolor": "white",
             "linecolor": "white",
             "minorgridcolor": "white",
             "startlinecolor": "#2a3f5f"
            },
            "type": "carpet"
           }
          ],
          "choropleth": [
           {
            "colorbar": {
             "outlinewidth": 0,
             "ticks": ""
            },
            "type": "choropleth"
           }
          ],
          "contour": [
           {
            "colorbar": {
             "outlinewidth": 0,
             "ticks": ""
            },
            "colorscale": [
             [
              0,
              "#0d0887"
             ],
             [
              0.1111111111111111,
              "#46039f"
             ],
             [
              0.2222222222222222,
              "#7201a8"
             ],
             [
              0.3333333333333333,
              "#9c179e"
             ],
             [
              0.4444444444444444,
              "#bd3786"
             ],
             [
              0.5555555555555556,
              "#d8576b"
             ],
             [
              0.6666666666666666,
              "#ed7953"
             ],
             [
              0.7777777777777778,
              "#fb9f3a"
             ],
             [
              0.8888888888888888,
              "#fdca26"
             ],
             [
              1,
              "#f0f921"
             ]
            ],
            "type": "contour"
           }
          ],
          "contourcarpet": [
           {
            "colorbar": {
             "outlinewidth": 0,
             "ticks": ""
            },
            "type": "contourcarpet"
           }
          ],
          "heatmap": [
           {
            "colorbar": {
             "outlinewidth": 0,
             "ticks": ""
            },
            "colorscale": [
             [
              0,
              "#0d0887"
             ],
             [
              0.1111111111111111,
              "#46039f"
             ],
             [
              0.2222222222222222,
              "#7201a8"
             ],
             [
              0.3333333333333333,
              "#9c179e"
             ],
             [
              0.4444444444444444,
              "#bd3786"
             ],
             [
              0.5555555555555556,
              "#d8576b"
             ],
             [
              0.6666666666666666,
              "#ed7953"
             ],
             [
              0.7777777777777778,
              "#fb9f3a"
             ],
             [
              0.8888888888888888,
              "#fdca26"
             ],
             [
              1,
              "#f0f921"
             ]
            ],
            "type": "heatmap"
           }
          ],
          "heatmapgl": [
           {
            "colorbar": {
             "outlinewidth": 0,
             "ticks": ""
            },
            "colorscale": [
             [
              0,
              "#0d0887"
             ],
             [
              0.1111111111111111,
              "#46039f"
             ],
             [
              0.2222222222222222,
              "#7201a8"
             ],
             [
              0.3333333333333333,
              "#9c179e"
             ],
             [
              0.4444444444444444,
              "#bd3786"
             ],
             [
              0.5555555555555556,
              "#d8576b"
             ],
             [
              0.6666666666666666,
              "#ed7953"
             ],
             [
              0.7777777777777778,
              "#fb9f3a"
             ],
             [
              0.8888888888888888,
              "#fdca26"
             ],
             [
              1,
              "#f0f921"
             ]
            ],
            "type": "heatmapgl"
           }
          ],
          "histogram": [
           {
            "marker": {
             "pattern": {
              "fillmode": "overlay",
              "size": 10,
              "solidity": 0.2
             }
            },
            "type": "histogram"
           }
          ],
          "histogram2d": [
           {
            "colorbar": {
             "outlinewidth": 0,
             "ticks": ""
            },
            "colorscale": [
             [
              0,
              "#0d0887"
             ],
             [
              0.1111111111111111,
              "#46039f"
             ],
             [
              0.2222222222222222,
              "#7201a8"
             ],
             [
              0.3333333333333333,
              "#9c179e"
             ],
             [
              0.4444444444444444,
              "#bd3786"
             ],
             [
              0.5555555555555556,
              "#d8576b"
             ],
             [
              0.6666666666666666,
              "#ed7953"
             ],
             [
              0.7777777777777778,
              "#fb9f3a"
             ],
             [
              0.8888888888888888,
              "#fdca26"
             ],
             [
              1,
              "#f0f921"
             ]
            ],
            "type": "histogram2d"
           }
          ],
          "histogram2dcontour": [
           {
            "colorbar": {
             "outlinewidth": 0,
             "ticks": ""
            },
            "colorscale": [
             [
              0,
              "#0d0887"
             ],
             [
              0.1111111111111111,
              "#46039f"
             ],
             [
              0.2222222222222222,
              "#7201a8"
             ],
             [
              0.3333333333333333,
              "#9c179e"
             ],
             [
              0.4444444444444444,
              "#bd3786"
             ],
             [
              0.5555555555555556,
              "#d8576b"
             ],
             [
              0.6666666666666666,
              "#ed7953"
             ],
             [
              0.7777777777777778,
              "#fb9f3a"
             ],
             [
              0.8888888888888888,
              "#fdca26"
             ],
             [
              1,
              "#f0f921"
             ]
            ],
            "type": "histogram2dcontour"
           }
          ],
          "mesh3d": [
           {
            "colorbar": {
             "outlinewidth": 0,
             "ticks": ""
            },
            "type": "mesh3d"
           }
          ],
          "parcoords": [
           {
            "line": {
             "colorbar": {
              "outlinewidth": 0,
              "ticks": ""
             }
            },
            "type": "parcoords"
           }
          ],
          "pie": [
           {
            "automargin": true,
            "type": "pie"
           }
          ],
          "scatter": [
           {
            "fillpattern": {
             "fillmode": "overlay",
             "size": 10,
             "solidity": 0.2
            },
            "type": "scatter"
           }
          ],
          "scatter3d": [
           {
            "line": {
             "colorbar": {
              "outlinewidth": 0,
              "ticks": ""
             }
            },
            "marker": {
             "colorbar": {
              "outlinewidth": 0,
              "ticks": ""
             }
            },
            "type": "scatter3d"
           }
          ],
          "scattercarpet": [
           {
            "marker": {
             "colorbar": {
              "outlinewidth": 0,
              "ticks": ""
             }
            },
            "type": "scattercarpet"
           }
          ],
          "scattergeo": [
           {
            "marker": {
             "colorbar": {
              "outlinewidth": 0,
              "ticks": ""
             }
            },
            "type": "scattergeo"
           }
          ],
          "scattergl": [
           {
            "marker": {
             "colorbar": {
              "outlinewidth": 0,
              "ticks": ""
             }
            },
            "type": "scattergl"
           }
          ],
          "scattermapbox": [
           {
            "marker": {
             "colorbar": {
              "outlinewidth": 0,
              "ticks": ""
             }
            },
            "type": "scattermapbox"
           }
          ],
          "scatterpolar": [
           {
            "marker": {
             "colorbar": {
              "outlinewidth": 0,
              "ticks": ""
             }
            },
            "type": "scatterpolar"
           }
          ],
          "scatterpolargl": [
           {
            "marker": {
             "colorbar": {
              "outlinewidth": 0,
              "ticks": ""
             }
            },
            "type": "scatterpolargl"
           }
          ],
          "scatterternary": [
           {
            "marker": {
             "colorbar": {
              "outlinewidth": 0,
              "ticks": ""
             }
            },
            "type": "scatterternary"
           }
          ],
          "surface": [
           {
            "colorbar": {
             "outlinewidth": 0,
             "ticks": ""
            },
            "colorscale": [
             [
              0,
              "#0d0887"
             ],
             [
              0.1111111111111111,
              "#46039f"
             ],
             [
              0.2222222222222222,
              "#7201a8"
             ],
             [
              0.3333333333333333,
              "#9c179e"
             ],
             [
              0.4444444444444444,
              "#bd3786"
             ],
             [
              0.5555555555555556,
              "#d8576b"
             ],
             [
              0.6666666666666666,
              "#ed7953"
             ],
             [
              0.7777777777777778,
              "#fb9f3a"
             ],
             [
              0.8888888888888888,
              "#fdca26"
             ],
             [
              1,
              "#f0f921"
             ]
            ],
            "type": "surface"
           }
          ],
          "table": [
           {
            "cells": {
             "fill": {
              "color": "#EBF0F8"
             },
             "line": {
              "color": "white"
             }
            },
            "header": {
             "fill": {
              "color": "#C8D4E3"
             },
             "line": {
              "color": "white"
             }
            },
            "type": "table"
           }
          ]
         },
         "layout": {
          "annotationdefaults": {
           "arrowcolor": "#2a3f5f",
           "arrowhead": 0,
           "arrowwidth": 1
          },
          "autotypenumbers": "strict",
          "coloraxis": {
           "colorbar": {
            "outlinewidth": 0,
            "ticks": ""
           }
          },
          "colorscale": {
           "diverging": [
            [
             0,
             "#8e0152"
            ],
            [
             0.1,
             "#c51b7d"
            ],
            [
             0.2,
             "#de77ae"
            ],
            [
             0.3,
             "#f1b6da"
            ],
            [
             0.4,
             "#fde0ef"
            ],
            [
             0.5,
             "#f7f7f7"
            ],
            [
             0.6,
             "#e6f5d0"
            ],
            [
             0.7,
             "#b8e186"
            ],
            [
             0.8,
             "#7fbc41"
            ],
            [
             0.9,
             "#4d9221"
            ],
            [
             1,
             "#276419"
            ]
           ],
           "sequential": [
            [
             0,
             "#0d0887"
            ],
            [
             0.1111111111111111,
             "#46039f"
            ],
            [
             0.2222222222222222,
             "#7201a8"
            ],
            [
             0.3333333333333333,
             "#9c179e"
            ],
            [
             0.4444444444444444,
             "#bd3786"
            ],
            [
             0.5555555555555556,
             "#d8576b"
            ],
            [
             0.6666666666666666,
             "#ed7953"
            ],
            [
             0.7777777777777778,
             "#fb9f3a"
            ],
            [
             0.8888888888888888,
             "#fdca26"
            ],
            [
             1,
             "#f0f921"
            ]
           ],
           "sequentialminus": [
            [
             0,
             "#0d0887"
            ],
            [
             0.1111111111111111,
             "#46039f"
            ],
            [
             0.2222222222222222,
             "#7201a8"
            ],
            [
             0.3333333333333333,
             "#9c179e"
            ],
            [
             0.4444444444444444,
             "#bd3786"
            ],
            [
             0.5555555555555556,
             "#d8576b"
            ],
            [
             0.6666666666666666,
             "#ed7953"
            ],
            [
             0.7777777777777778,
             "#fb9f3a"
            ],
            [
             0.8888888888888888,
             "#fdca26"
            ],
            [
             1,
             "#f0f921"
            ]
           ]
          },
          "colorway": [
           "#636efa",
           "#EF553B",
           "#00cc96",
           "#ab63fa",
           "#FFA15A",
           "#19d3f3",
           "#FF6692",
           "#B6E880",
           "#FF97FF",
           "#FECB52"
          ],
          "font": {
           "color": "#2a3f5f"
          },
          "geo": {
           "bgcolor": "white",
           "lakecolor": "white",
           "landcolor": "#E5ECF6",
           "showlakes": true,
           "showland": true,
           "subunitcolor": "white"
          },
          "hoverlabel": {
           "align": "left"
          },
          "hovermode": "closest",
          "mapbox": {
           "style": "light"
          },
          "paper_bgcolor": "white",
          "plot_bgcolor": "#E5ECF6",
          "polar": {
           "angularaxis": {
            "gridcolor": "white",
            "linecolor": "white",
            "ticks": ""
           },
           "bgcolor": "#E5ECF6",
           "radialaxis": {
            "gridcolor": "white",
            "linecolor": "white",
            "ticks": ""
           }
          },
          "scene": {
           "xaxis": {
            "backgroundcolor": "#E5ECF6",
            "gridcolor": "white",
            "gridwidth": 2,
            "linecolor": "white",
            "showbackground": true,
            "ticks": "",
            "zerolinecolor": "white"
           },
           "yaxis": {
            "backgroundcolor": "#E5ECF6",
            "gridcolor": "white",
            "gridwidth": 2,
            "linecolor": "white",
            "showbackground": true,
            "ticks": "",
            "zerolinecolor": "white"
           },
           "zaxis": {
            "backgroundcolor": "#E5ECF6",
            "gridcolor": "white",
            "gridwidth": 2,
            "linecolor": "white",
            "showbackground": true,
            "ticks": "",
            "zerolinecolor": "white"
           }
          },
          "shapedefaults": {
           "line": {
            "color": "#2a3f5f"
           }
          },
          "ternary": {
           "aaxis": {
            "gridcolor": "white",
            "linecolor": "white",
            "ticks": ""
           },
           "baxis": {
            "gridcolor": "white",
            "linecolor": "white",
            "ticks": ""
           },
           "bgcolor": "#E5ECF6",
           "caxis": {
            "gridcolor": "white",
            "linecolor": "white",
            "ticks": ""
           }
          },
          "title": {
           "x": 0.05
          },
          "xaxis": {
           "automargin": true,
           "gridcolor": "white",
           "linecolor": "white",
           "ticks": "",
           "title": {
            "standoff": 15
           },
           "zerolinecolor": "white",
           "zerolinewidth": 2
          },
          "yaxis": {
           "automargin": true,
           "gridcolor": "white",
           "linecolor": "white",
           "ticks": "",
           "title": {
            "standoff": 15
           },
           "zerolinecolor": "white",
           "zerolinewidth": 2
          }
         }
        },
        "title": {
         "text": "Years timeline"
        },
        "xaxis": {
         "anchor": "y",
         "domain": [
          0,
          1
         ],
         "range": [
          2020,
          2025
         ],
         "rangeslider": {
          "visible": true
         },
         "tickvals": [
          2020,
          2021,
          2022,
          2023,
          2024
         ],
         "title": {
          "text": "Years"
         }
        },
        "yaxis": {
         "anchor": "x",
         "domain": [
          0,
          1
         ],
         "title": {
          "text": "Message count"
         }
        }
       }
      }
     },
     "metadata": {},
     "output_type": "display_data"
    },
    {
     "data": {
      "application/vnd.plotly.v1+json": {
       "config": {
        "plotlyServerURL": "https://plot.ly"
       },
       "data": [
        {
         "hovertemplate": "Users=Avantika CR 7sem<br>Months=%{x}<br>Message count=%{y}<extra></extra>",
         "legendgroup": "Avantika CR 7sem",
         "line": {
          "color": "#636efa",
          "dash": "solid"
         },
         "marker": {
          "symbol": "circle"
         },
         "mode": "markers+lines",
         "name": "Avantika CR 7sem",
         "orientation": "v",
         "showlegend": true,
         "type": "scatter",
         "x": [
          "July",
          "August",
          "September",
          "October",
          "November"
         ],
         "xaxis": "x",
         "y": [
          0,
          102,
          76,
          90,
          64
         ],
         "yaxis": "y"
        },
        {
         "hovertemplate": "Users=+91 73511 44719<br>Months=%{x}<br>Message count=%{y}<extra></extra>",
         "legendgroup": "+91 73511 44719",
         "line": {
          "color": "#EF553B",
          "dash": "solid"
         },
         "marker": {
          "symbol": "circle"
         },
         "mode": "markers+lines",
         "name": "+91 73511 44719",
         "orientation": "v",
         "showlegend": true,
         "type": "scatter",
         "x": [
          "July",
          "August",
          "September",
          "October",
          "November"
         ],
         "xaxis": "x",
         "y": [
          0,
          70,
          73,
          40,
          26
         ],
         "yaxis": "y"
        },
        {
         "hovertemplate": "Users=Sourabh 7 Mentor<br>Months=%{x}<br>Message count=%{y}<extra></extra>",
         "legendgroup": "Sourabh 7 Mentor",
         "line": {
          "color": "#00cc96",
          "dash": "solid"
         },
         "marker": {
          "symbol": "circle"
         },
         "mode": "markers+lines",
         "name": "Sourabh 7 Mentor",
         "orientation": "v",
         "showlegend": true,
         "type": "scatter",
         "x": [
          "July",
          "August",
          "September",
          "October",
          "November"
         ],
         "xaxis": "x",
         "y": [
          3,
          44,
          46,
          75,
          28
         ],
         "yaxis": "y"
        },
        {
         "hovertemplate": "Users=+91 76784 09427<br>Months=%{x}<br>Message count=%{y}<extra></extra>",
         "legendgroup": "+91 76784 09427",
         "line": {
          "color": "#ab63fa",
          "dash": "solid"
         },
         "marker": {
          "symbol": "circle"
         },
         "mode": "markers+lines",
         "name": "+91 76784 09427",
         "orientation": "v",
         "showlegend": true,
         "type": "scatter",
         "x": [
          "July",
          "August",
          "September",
          "October",
          "November"
         ],
         "xaxis": "x",
         "y": [
          0,
          1,
          23,
          6,
          17
         ],
         "yaxis": "y"
        },
        {
         "hovertemplate": "Users=+91 95235 15421<br>Months=%{x}<br>Message count=%{y}<extra></extra>",
         "legendgroup": "+91 95235 15421",
         "line": {
          "color": "#FFA15A",
          "dash": "solid"
         },
         "marker": {
          "symbol": "circle"
         },
         "mode": "markers+lines",
         "name": "+91 95235 15421",
         "orientation": "v",
         "showlegend": true,
         "type": "scatter",
         "x": [
          "July",
          "August",
          "September",
          "October",
          "November"
         ],
         "xaxis": "x",
         "y": [
          7,
          7,
          4,
          6,
          10
         ],
         "yaxis": "y"
        },
        {
         "hovertemplate": "Users=+91 76888 20220<br>Months=%{x}<br>Message count=%{y}<extra></extra>",
         "legendgroup": "+91 76888 20220",
         "line": {
          "color": "#19d3f3",
          "dash": "solid"
         },
         "marker": {
          "symbol": "circle"
         },
         "mode": "markers+lines",
         "name": "+91 76888 20220",
         "orientation": "v",
         "showlegend": true,
         "type": "scatter",
         "x": [
          "July",
          "August",
          "September",
          "October",
          "November"
         ],
         "xaxis": "x",
         "y": [
          0,
          5,
          8,
          3,
          12
         ],
         "yaxis": "y"
        },
        {
         "hovertemplate": "Users=+91 83079 17347<br>Months=%{x}<br>Message count=%{y}<extra></extra>",
         "legendgroup": "+91 83079 17347",
         "line": {
          "color": "#FF6692",
          "dash": "solid"
         },
         "marker": {
          "symbol": "circle"
         },
         "mode": "markers+lines",
         "name": "+91 83079 17347",
         "orientation": "v",
         "showlegend": true,
         "type": "scatter",
         "x": [
          "July",
          "August",
          "September",
          "October",
          "November"
         ],
         "xaxis": "x",
         "y": [
          0,
          7,
          2,
          6,
          12
         ],
         "yaxis": "y"
        },
        {
         "hovertemplate": "Users=others<br>Months=%{x}<br>Message count=%{y}<extra></extra>",
         "legendgroup": "others",
         "line": {
          "color": "#B6E880",
          "dash": "solid"
         },
         "marker": {
          "symbol": "circle"
         },
         "mode": "markers+lines",
         "name": "others",
         "orientation": "v",
         "showlegend": true,
         "type": "scatter",
         "x": [
          "July",
          "August",
          "September",
          "October",
          "November"
         ],
         "xaxis": "x",
         "y": [
          11,
          193,
          101,
          109,
          182
         ],
         "yaxis": "y"
        }
       ],
       "layout": {
        "legend": {
         "title": {
          "text": "Users"
         },
         "tracegroupgap": 0
        },
        "template": {
         "data": {
          "bar": [
           {
            "error_x": {
             "color": "#2a3f5f"
            },
            "error_y": {
             "color": "#2a3f5f"
            },
            "marker": {
             "line": {
              "color": "#E5ECF6",
              "width": 0.5
             },
             "pattern": {
              "fillmode": "overlay",
              "size": 10,
              "solidity": 0.2
             }
            },
            "type": "bar"
           }
          ],
          "barpolar": [
           {
            "marker": {
             "line": {
              "color": "#E5ECF6",
              "width": 0.5
             },
             "pattern": {
              "fillmode": "overlay",
              "size": 10,
              "solidity": 0.2
             }
            },
            "type": "barpolar"
           }
          ],
          "carpet": [
           {
            "aaxis": {
             "endlinecolor": "#2a3f5f",
             "gridcolor": "white",
             "linecolor": "white",
             "minorgridcolor": "white",
             "startlinecolor": "#2a3f5f"
            },
            "baxis": {
             "endlinecolor": "#2a3f5f",
             "gridcolor": "white",
             "linecolor": "white",
             "minorgridcolor": "white",
             "startlinecolor": "#2a3f5f"
            },
            "type": "carpet"
           }
          ],
          "choropleth": [
           {
            "colorbar": {
             "outlinewidth": 0,
             "ticks": ""
            },
            "type": "choropleth"
           }
          ],
          "contour": [
           {
            "colorbar": {
             "outlinewidth": 0,
             "ticks": ""
            },
            "colorscale": [
             [
              0,
              "#0d0887"
             ],
             [
              0.1111111111111111,
              "#46039f"
             ],
             [
              0.2222222222222222,
              "#7201a8"
             ],
             [
              0.3333333333333333,
              "#9c179e"
             ],
             [
              0.4444444444444444,
              "#bd3786"
             ],
             [
              0.5555555555555556,
              "#d8576b"
             ],
             [
              0.6666666666666666,
              "#ed7953"
             ],
             [
              0.7777777777777778,
              "#fb9f3a"
             ],
             [
              0.8888888888888888,
              "#fdca26"
             ],
             [
              1,
              "#f0f921"
             ]
            ],
            "type": "contour"
           }
          ],
          "contourcarpet": [
           {
            "colorbar": {
             "outlinewidth": 0,
             "ticks": ""
            },
            "type": "contourcarpet"
           }
          ],
          "heatmap": [
           {
            "colorbar": {
             "outlinewidth": 0,
             "ticks": ""
            },
            "colorscale": [
             [
              0,
              "#0d0887"
             ],
             [
              0.1111111111111111,
              "#46039f"
             ],
             [
              0.2222222222222222,
              "#7201a8"
             ],
             [
              0.3333333333333333,
              "#9c179e"
             ],
             [
              0.4444444444444444,
              "#bd3786"
             ],
             [
              0.5555555555555556,
              "#d8576b"
             ],
             [
              0.6666666666666666,
              "#ed7953"
             ],
             [
              0.7777777777777778,
              "#fb9f3a"
             ],
             [
              0.8888888888888888,
              "#fdca26"
             ],
             [
              1,
              "#f0f921"
             ]
            ],
            "type": "heatmap"
           }
          ],
          "heatmapgl": [
           {
            "colorbar": {
             "outlinewidth": 0,
             "ticks": ""
            },
            "colorscale": [
             [
              0,
              "#0d0887"
             ],
             [
              0.1111111111111111,
              "#46039f"
             ],
             [
              0.2222222222222222,
              "#7201a8"
             ],
             [
              0.3333333333333333,
              "#9c179e"
             ],
             [
              0.4444444444444444,
              "#bd3786"
             ],
             [
              0.5555555555555556,
              "#d8576b"
             ],
             [
              0.6666666666666666,
              "#ed7953"
             ],
             [
              0.7777777777777778,
              "#fb9f3a"
             ],
             [
              0.8888888888888888,
              "#fdca26"
             ],
             [
              1,
              "#f0f921"
             ]
            ],
            "type": "heatmapgl"
           }
          ],
          "histogram": [
           {
            "marker": {
             "pattern": {
              "fillmode": "overlay",
              "size": 10,
              "solidity": 0.2
             }
            },
            "type": "histogram"
           }
          ],
          "histogram2d": [
           {
            "colorbar": {
             "outlinewidth": 0,
             "ticks": ""
            },
            "colorscale": [
             [
              0,
              "#0d0887"
             ],
             [
              0.1111111111111111,
              "#46039f"
             ],
             [
              0.2222222222222222,
              "#7201a8"
             ],
             [
              0.3333333333333333,
              "#9c179e"
             ],
             [
              0.4444444444444444,
              "#bd3786"
             ],
             [
              0.5555555555555556,
              "#d8576b"
             ],
             [
              0.6666666666666666,
              "#ed7953"
             ],
             [
              0.7777777777777778,
              "#fb9f3a"
             ],
             [
              0.8888888888888888,
              "#fdca26"
             ],
             [
              1,
              "#f0f921"
             ]
            ],
            "type": "histogram2d"
           }
          ],
          "histogram2dcontour": [
           {
            "colorbar": {
             "outlinewidth": 0,
             "ticks": ""
            },
            "colorscale": [
             [
              0,
              "#0d0887"
             ],
             [
              0.1111111111111111,
              "#46039f"
             ],
             [
              0.2222222222222222,
              "#7201a8"
             ],
             [
              0.3333333333333333,
              "#9c179e"
             ],
             [
              0.4444444444444444,
              "#bd3786"
             ],
             [
              0.5555555555555556,
              "#d8576b"
             ],
             [
              0.6666666666666666,
              "#ed7953"
             ],
             [
              0.7777777777777778,
              "#fb9f3a"
             ],
             [
              0.8888888888888888,
              "#fdca26"
             ],
             [
              1,
              "#f0f921"
             ]
            ],
            "type": "histogram2dcontour"
           }
          ],
          "mesh3d": [
           {
            "colorbar": {
             "outlinewidth": 0,
             "ticks": ""
            },
            "type": "mesh3d"
           }
          ],
          "parcoords": [
           {
            "line": {
             "colorbar": {
              "outlinewidth": 0,
              "ticks": ""
             }
            },
            "type": "parcoords"
           }
          ],
          "pie": [
           {
            "automargin": true,
            "type": "pie"
           }
          ],
          "scatter": [
           {
            "fillpattern": {
             "fillmode": "overlay",
             "size": 10,
             "solidity": 0.2
            },
            "type": "scatter"
           }
          ],
          "scatter3d": [
           {
            "line": {
             "colorbar": {
              "outlinewidth": 0,
              "ticks": ""
             }
            },
            "marker": {
             "colorbar": {
              "outlinewidth": 0,
              "ticks": ""
             }
            },
            "type": "scatter3d"
           }
          ],
          "scattercarpet": [
           {
            "marker": {
             "colorbar": {
              "outlinewidth": 0,
              "ticks": ""
             }
            },
            "type": "scattercarpet"
           }
          ],
          "scattergeo": [
           {
            "marker": {
             "colorbar": {
              "outlinewidth": 0,
              "ticks": ""
             }
            },
            "type": "scattergeo"
           }
          ],
          "scattergl": [
           {
            "marker": {
             "colorbar": {
              "outlinewidth": 0,
              "ticks": ""
             }
            },
            "type": "scattergl"
           }
          ],
          "scattermapbox": [
           {
            "marker": {
             "colorbar": {
              "outlinewidth": 0,
              "ticks": ""
             }
            },
            "type": "scattermapbox"
           }
          ],
          "scatterpolar": [
           {
            "marker": {
             "colorbar": {
              "outlinewidth": 0,
              "ticks": ""
             }
            },
            "type": "scatterpolar"
           }
          ],
          "scatterpolargl": [
           {
            "marker": {
             "colorbar": {
              "outlinewidth": 0,
              "ticks": ""
             }
            },
            "type": "scatterpolargl"
           }
          ],
          "scatterternary": [
           {
            "marker": {
             "colorbar": {
              "outlinewidth": 0,
              "ticks": ""
             }
            },
            "type": "scatterternary"
           }
          ],
          "surface": [
           {
            "colorbar": {
             "outlinewidth": 0,
             "ticks": ""
            },
            "colorscale": [
             [
              0,
              "#0d0887"
             ],
             [
              0.1111111111111111,
              "#46039f"
             ],
             [
              0.2222222222222222,
              "#7201a8"
             ],
             [
              0.3333333333333333,
              "#9c179e"
             ],
             [
              0.4444444444444444,
              "#bd3786"
             ],
             [
              0.5555555555555556,
              "#d8576b"
             ],
             [
              0.6666666666666666,
              "#ed7953"
             ],
             [
              0.7777777777777778,
              "#fb9f3a"
             ],
             [
              0.8888888888888888,
              "#fdca26"
             ],
             [
              1,
              "#f0f921"
             ]
            ],
            "type": "surface"
           }
          ],
          "table": [
           {
            "cells": {
             "fill": {
              "color": "#EBF0F8"
             },
             "line": {
              "color": "white"
             }
            },
            "header": {
             "fill": {
              "color": "#C8D4E3"
             },
             "line": {
              "color": "white"
             }
            },
            "type": "table"
           }
          ]
         },
         "layout": {
          "annotationdefaults": {
           "arrowcolor": "#2a3f5f",
           "arrowhead": 0,
           "arrowwidth": 1
          },
          "autotypenumbers": "strict",
          "coloraxis": {
           "colorbar": {
            "outlinewidth": 0,
            "ticks": ""
           }
          },
          "colorscale": {
           "diverging": [
            [
             0,
             "#8e0152"
            ],
            [
             0.1,
             "#c51b7d"
            ],
            [
             0.2,
             "#de77ae"
            ],
            [
             0.3,
             "#f1b6da"
            ],
            [
             0.4,
             "#fde0ef"
            ],
            [
             0.5,
             "#f7f7f7"
            ],
            [
             0.6,
             "#e6f5d0"
            ],
            [
             0.7,
             "#b8e186"
            ],
            [
             0.8,
             "#7fbc41"
            ],
            [
             0.9,
             "#4d9221"
            ],
            [
             1,
             "#276419"
            ]
           ],
           "sequential": [
            [
             0,
             "#0d0887"
            ],
            [
             0.1111111111111111,
             "#46039f"
            ],
            [
             0.2222222222222222,
             "#7201a8"
            ],
            [
             0.3333333333333333,
             "#9c179e"
            ],
            [
             0.4444444444444444,
             "#bd3786"
            ],
            [
             0.5555555555555556,
             "#d8576b"
            ],
            [
             0.6666666666666666,
             "#ed7953"
            ],
            [
             0.7777777777777778,
             "#fb9f3a"
            ],
            [
             0.8888888888888888,
             "#fdca26"
            ],
            [
             1,
             "#f0f921"
            ]
           ],
           "sequentialminus": [
            [
             0,
             "#0d0887"
            ],
            [
             0.1111111111111111,
             "#46039f"
            ],
            [
             0.2222222222222222,
             "#7201a8"
            ],
            [
             0.3333333333333333,
             "#9c179e"
            ],
            [
             0.4444444444444444,
             "#bd3786"
            ],
            [
             0.5555555555555556,
             "#d8576b"
            ],
            [
             0.6666666666666666,
             "#ed7953"
            ],
            [
             0.7777777777777778,
             "#fb9f3a"
            ],
            [
             0.8888888888888888,
             "#fdca26"
            ],
            [
             1,
             "#f0f921"
            ]
           ]
          },
          "colorway": [
           "#636efa",
           "#EF553B",
           "#00cc96",
           "#ab63fa",
           "#FFA15A",
           "#19d3f3",
           "#FF6692",
           "#B6E880",
           "#FF97FF",
           "#FECB52"
          ],
          "font": {
           "color": "#2a3f5f"
          },
          "geo": {
           "bgcolor": "white",
           "lakecolor": "white",
           "landcolor": "#E5ECF6",
           "showlakes": true,
           "showland": true,
           "subunitcolor": "white"
          },
          "hoverlabel": {
           "align": "left"
          },
          "hovermode": "closest",
          "mapbox": {
           "style": "light"
          },
          "paper_bgcolor": "white",
          "plot_bgcolor": "#E5ECF6",
          "polar": {
           "angularaxis": {
            "gridcolor": "white",
            "linecolor": "white",
            "ticks": ""
           },
           "bgcolor": "#E5ECF6",
           "radialaxis": {
            "gridcolor": "white",
            "linecolor": "white",
            "ticks": ""
           }
          },
          "scene": {
           "xaxis": {
            "backgroundcolor": "#E5ECF6",
            "gridcolor": "white",
            "gridwidth": 2,
            "linecolor": "white",
            "showbackground": true,
            "ticks": "",
            "zerolinecolor": "white"
           },
           "yaxis": {
            "backgroundcolor": "#E5ECF6",
            "gridcolor": "white",
            "gridwidth": 2,
            "linecolor": "white",
            "showbackground": true,
            "ticks": "",
            "zerolinecolor": "white"
           },
           "zaxis": {
            "backgroundcolor": "#E5ECF6",
            "gridcolor": "white",
            "gridwidth": 2,
            "linecolor": "white",
            "showbackground": true,
            "ticks": "",
            "zerolinecolor": "white"
           }
          },
          "shapedefaults": {
           "line": {
            "color": "#2a3f5f"
           }
          },
          "ternary": {
           "aaxis": {
            "gridcolor": "white",
            "linecolor": "white",
            "ticks": ""
           },
           "baxis": {
            "gridcolor": "white",
            "linecolor": "white",
            "ticks": ""
           },
           "bgcolor": "#E5ECF6",
           "caxis": {
            "gridcolor": "white",
            "linecolor": "white",
            "ticks": ""
           }
          },
          "title": {
           "x": 0.05
          },
          "xaxis": {
           "automargin": true,
           "gridcolor": "white",
           "linecolor": "white",
           "ticks": "",
           "title": {
            "standoff": 15
           },
           "zerolinecolor": "white",
           "zerolinewidth": 2
          },
          "yaxis": {
           "automargin": true,
           "gridcolor": "white",
           "linecolor": "white",
           "ticks": "",
           "title": {
            "standoff": 15
           },
           "zerolinecolor": "white",
           "zerolinewidth": 2
          }
         }
        },
        "title": {
         "text": "Months timeline"
        },
        "xaxis": {
         "anchor": "y",
         "domain": [
          0,
          1
         ],
         "title": {
          "text": "Months"
         }
        },
        "yaxis": {
         "anchor": "x",
         "domain": [
          0,
          1
         ],
         "title": {
          "text": "Message count"
         }
        }
       }
      }
     },
     "metadata": {},
     "output_type": "display_data"
    },
    {
     "data": {
      "application/vnd.plotly.v1+json": {
       "config": {
        "plotlyServerURL": "https://plot.ly"
       },
       "data": [
        {
         "hovertemplate": "Users=Avantika CR 7sem<br>Weekdays=%{x}<br>Message count=%{y}<extra></extra>",
         "legendgroup": "Avantika CR 7sem",
         "line": {
          "color": "#636efa",
          "dash": "solid"
         },
         "marker": {
          "symbol": "circle"
         },
         "mode": "markers+lines",
         "name": "Avantika CR 7sem",
         "orientation": "v",
         "showlegend": true,
         "type": "scatter",
         "x": [
          "Sunday",
          "Monday",
          "Tuesday",
          "Wednesday",
          "Thursday",
          "Friday",
          "Saturday"
         ],
         "xaxis": "x",
         "y": [
          0,
          4,
          7,
          8,
          4,
          3,
          8
         ],
         "yaxis": "y"
        },
        {
         "hovertemplate": "Users=+91 73511 44719<br>Weekdays=%{x}<br>Message count=%{y}<extra></extra>",
         "legendgroup": "+91 73511 44719",
         "line": {
          "color": "#EF553B",
          "dash": "solid"
         },
         "marker": {
          "symbol": "circle"
         },
         "mode": "markers+lines",
         "name": "+91 73511 44719",
         "orientation": "v",
         "showlegend": true,
         "type": "scatter",
         "x": [
          "Sunday",
          "Monday",
          "Tuesday",
          "Wednesday",
          "Thursday",
          "Friday",
          "Saturday"
         ],
         "xaxis": "x",
         "y": [
          1,
          0,
          0,
          1,
          7,
          3,
          3
         ],
         "yaxis": "y"
        },
        {
         "hovertemplate": "Users=Sourabh 7 Mentor<br>Weekdays=%{x}<br>Message count=%{y}<extra></extra>",
         "legendgroup": "Sourabh 7 Mentor",
         "line": {
          "color": "#00cc96",
          "dash": "solid"
         },
         "marker": {
          "symbol": "circle"
         },
         "mode": "markers+lines",
         "name": "Sourabh 7 Mentor",
         "orientation": "v",
         "showlegend": true,
         "type": "scatter",
         "x": [
          "Sunday",
          "Monday",
          "Tuesday",
          "Wednesday",
          "Thursday",
          "Friday",
          "Saturday"
         ],
         "xaxis": "x",
         "y": [
          0,
          23,
          0,
          1,
          0,
          0,
          0
         ],
         "yaxis": "y"
        },
        {
         "hovertemplate": "Users=+91 76784 09427<br>Weekdays=%{x}<br>Message count=%{y}<extra></extra>",
         "legendgroup": "+91 76784 09427",
         "line": {
          "color": "#ab63fa",
          "dash": "solid"
         },
         "marker": {
          "symbol": "circle"
         },
         "mode": "markers+lines",
         "name": "+91 76784 09427",
         "orientation": "v",
         "showlegend": true,
         "type": "scatter",
         "x": [
          "Sunday",
          "Monday",
          "Tuesday",
          "Wednesday",
          "Thursday",
          "Friday",
          "Saturday"
         ],
         "xaxis": "x",
         "y": [
          0,
          0,
          0,
          0,
          1,
          0,
          2
         ],
         "yaxis": "y"
        },
        {
         "hovertemplate": "Users=+91 95235 15421<br>Weekdays=%{x}<br>Message count=%{y}<extra></extra>",
         "legendgroup": "+91 95235 15421",
         "line": {
          "color": "#FFA15A",
          "dash": "solid"
         },
         "marker": {
          "symbol": "circle"
         },
         "mode": "markers+lines",
         "name": "+91 95235 15421",
         "orientation": "v",
         "showlegend": true,
         "type": "scatter",
         "x": [
          "Sunday",
          "Monday",
          "Tuesday",
          "Wednesday",
          "Thursday",
          "Friday",
          "Saturday"
         ],
         "xaxis": "x",
         "y": [
          0,
          2,
          0,
          0,
          0,
          0,
          0
         ],
         "yaxis": "y"
        },
        {
         "hovertemplate": "Users=+91 76888 20220<br>Weekdays=%{x}<br>Message count=%{y}<extra></extra>",
         "legendgroup": "+91 76888 20220",
         "line": {
          "color": "#19d3f3",
          "dash": "solid"
         },
         "marker": {
          "symbol": "circle"
         },
         "mode": "markers+lines",
         "name": "+91 76888 20220",
         "orientation": "v",
         "showlegend": true,
         "type": "scatter",
         "x": [
          "Sunday",
          "Monday",
          "Tuesday",
          "Wednesday",
          "Thursday",
          "Friday",
          "Saturday"
         ],
         "xaxis": "x",
         "y": [
          0,
          3,
          0,
          0,
          0,
          0,
          0
         ],
         "yaxis": "y"
        },
        {
         "hovertemplate": "Users=+91 83079 17347<br>Weekdays=%{x}<br>Message count=%{y}<extra></extra>",
         "legendgroup": "+91 83079 17347",
         "line": {
          "color": "#FF6692",
          "dash": "solid"
         },
         "marker": {
          "symbol": "circle"
         },
         "mode": "markers+lines",
         "name": "+91 83079 17347",
         "orientation": "v",
         "showlegend": true,
         "type": "scatter",
         "x": [
          "Sunday",
          "Monday",
          "Tuesday",
          "Wednesday",
          "Thursday",
          "Friday",
          "Saturday"
         ],
         "xaxis": "x",
         "y": [
          0,
          1,
          0,
          1,
          0,
          0,
          0
         ],
         "yaxis": "y"
        },
        {
         "hovertemplate": "Users=others<br>Weekdays=%{x}<br>Message count=%{y}<extra></extra>",
         "legendgroup": "others",
         "line": {
          "color": "#B6E880",
          "dash": "solid"
         },
         "marker": {
          "symbol": "circle"
         },
         "mode": "markers+lines",
         "name": "others",
         "orientation": "v",
         "showlegend": true,
         "type": "scatter",
         "x": [
          "Sunday",
          "Monday",
          "Tuesday",
          "Wednesday",
          "Thursday",
          "Friday",
          "Saturday"
         ],
         "xaxis": "x",
         "y": [
          0,
          22,
          6,
          4,
          17,
          12,
          9
         ],
         "yaxis": "y"
        }
       ],
       "layout": {
        "legend": {
         "title": {
          "text": "Users"
         },
         "tracegroupgap": 0
        },
        "template": {
         "data": {
          "bar": [
           {
            "error_x": {
             "color": "#2a3f5f"
            },
            "error_y": {
             "color": "#2a3f5f"
            },
            "marker": {
             "line": {
              "color": "#E5ECF6",
              "width": 0.5
             },
             "pattern": {
              "fillmode": "overlay",
              "size": 10,
              "solidity": 0.2
             }
            },
            "type": "bar"
           }
          ],
          "barpolar": [
           {
            "marker": {
             "line": {
              "color": "#E5ECF6",
              "width": 0.5
             },
             "pattern": {
              "fillmode": "overlay",
              "size": 10,
              "solidity": 0.2
             }
            },
            "type": "barpolar"
           }
          ],
          "carpet": [
           {
            "aaxis": {
             "endlinecolor": "#2a3f5f",
             "gridcolor": "white",
             "linecolor": "white",
             "minorgridcolor": "white",
             "startlinecolor": "#2a3f5f"
            },
            "baxis": {
             "endlinecolor": "#2a3f5f",
             "gridcolor": "white",
             "linecolor": "white",
             "minorgridcolor": "white",
             "startlinecolor": "#2a3f5f"
            },
            "type": "carpet"
           }
          ],
          "choropleth": [
           {
            "colorbar": {
             "outlinewidth": 0,
             "ticks": ""
            },
            "type": "choropleth"
           }
          ],
          "contour": [
           {
            "colorbar": {
             "outlinewidth": 0,
             "ticks": ""
            },
            "colorscale": [
             [
              0,
              "#0d0887"
             ],
             [
              0.1111111111111111,
              "#46039f"
             ],
             [
              0.2222222222222222,
              "#7201a8"
             ],
             [
              0.3333333333333333,
              "#9c179e"
             ],
             [
              0.4444444444444444,
              "#bd3786"
             ],
             [
              0.5555555555555556,
              "#d8576b"
             ],
             [
              0.6666666666666666,
              "#ed7953"
             ],
             [
              0.7777777777777778,
              "#fb9f3a"
             ],
             [
              0.8888888888888888,
              "#fdca26"
             ],
             [
              1,
              "#f0f921"
             ]
            ],
            "type": "contour"
           }
          ],
          "contourcarpet": [
           {
            "colorbar": {
             "outlinewidth": 0,
             "ticks": ""
            },
            "type": "contourcarpet"
           }
          ],
          "heatmap": [
           {
            "colorbar": {
             "outlinewidth": 0,
             "ticks": ""
            },
            "colorscale": [
             [
              0,
              "#0d0887"
             ],
             [
              0.1111111111111111,
              "#46039f"
             ],
             [
              0.2222222222222222,
              "#7201a8"
             ],
             [
              0.3333333333333333,
              "#9c179e"
             ],
             [
              0.4444444444444444,
              "#bd3786"
             ],
             [
              0.5555555555555556,
              "#d8576b"
             ],
             [
              0.6666666666666666,
              "#ed7953"
             ],
             [
              0.7777777777777778,
              "#fb9f3a"
             ],
             [
              0.8888888888888888,
              "#fdca26"
             ],
             [
              1,
              "#f0f921"
             ]
            ],
            "type": "heatmap"
           }
          ],
          "heatmapgl": [
           {
            "colorbar": {
             "outlinewidth": 0,
             "ticks": ""
            },
            "colorscale": [
             [
              0,
              "#0d0887"
             ],
             [
              0.1111111111111111,
              "#46039f"
             ],
             [
              0.2222222222222222,
              "#7201a8"
             ],
             [
              0.3333333333333333,
              "#9c179e"
             ],
             [
              0.4444444444444444,
              "#bd3786"
             ],
             [
              0.5555555555555556,
              "#d8576b"
             ],
             [
              0.6666666666666666,
              "#ed7953"
             ],
             [
              0.7777777777777778,
              "#fb9f3a"
             ],
             [
              0.8888888888888888,
              "#fdca26"
             ],
             [
              1,
              "#f0f921"
             ]
            ],
            "type": "heatmapgl"
           }
          ],
          "histogram": [
           {
            "marker": {
             "pattern": {
              "fillmode": "overlay",
              "size": 10,
              "solidity": 0.2
             }
            },
            "type": "histogram"
           }
          ],
          "histogram2d": [
           {
            "colorbar": {
             "outlinewidth": 0,
             "ticks": ""
            },
            "colorscale": [
             [
              0,
              "#0d0887"
             ],
             [
              0.1111111111111111,
              "#46039f"
             ],
             [
              0.2222222222222222,
              "#7201a8"
             ],
             [
              0.3333333333333333,
              "#9c179e"
             ],
             [
              0.4444444444444444,
              "#bd3786"
             ],
             [
              0.5555555555555556,
              "#d8576b"
             ],
             [
              0.6666666666666666,
              "#ed7953"
             ],
             [
              0.7777777777777778,
              "#fb9f3a"
             ],
             [
              0.8888888888888888,
              "#fdca26"
             ],
             [
              1,
              "#f0f921"
             ]
            ],
            "type": "histogram2d"
           }
          ],
          "histogram2dcontour": [
           {
            "colorbar": {
             "outlinewidth": 0,
             "ticks": ""
            },
            "colorscale": [
             [
              0,
              "#0d0887"
             ],
             [
              0.1111111111111111,
              "#46039f"
             ],
             [
              0.2222222222222222,
              "#7201a8"
             ],
             [
              0.3333333333333333,
              "#9c179e"
             ],
             [
              0.4444444444444444,
              "#bd3786"
             ],
             [
              0.5555555555555556,
              "#d8576b"
             ],
             [
              0.6666666666666666,
              "#ed7953"
             ],
             [
              0.7777777777777778,
              "#fb9f3a"
             ],
             [
              0.8888888888888888,
              "#fdca26"
             ],
             [
              1,
              "#f0f921"
             ]
            ],
            "type": "histogram2dcontour"
           }
          ],
          "mesh3d": [
           {
            "colorbar": {
             "outlinewidth": 0,
             "ticks": ""
            },
            "type": "mesh3d"
           }
          ],
          "parcoords": [
           {
            "line": {
             "colorbar": {
              "outlinewidth": 0,
              "ticks": ""
             }
            },
            "type": "parcoords"
           }
          ],
          "pie": [
           {
            "automargin": true,
            "type": "pie"
           }
          ],
          "scatter": [
           {
            "fillpattern": {
             "fillmode": "overlay",
             "size": 10,
             "solidity": 0.2
            },
            "type": "scatter"
           }
          ],
          "scatter3d": [
           {
            "line": {
             "colorbar": {
              "outlinewidth": 0,
              "ticks": ""
             }
            },
            "marker": {
             "colorbar": {
              "outlinewidth": 0,
              "ticks": ""
             }
            },
            "type": "scatter3d"
           }
          ],
          "scattercarpet": [
           {
            "marker": {
             "colorbar": {
              "outlinewidth": 0,
              "ticks": ""
             }
            },
            "type": "scattercarpet"
           }
          ],
          "scattergeo": [
           {
            "marker": {
             "colorbar": {
              "outlinewidth": 0,
              "ticks": ""
             }
            },
            "type": "scattergeo"
           }
          ],
          "scattergl": [
           {
            "marker": {
             "colorbar": {
              "outlinewidth": 0,
              "ticks": ""
             }
            },
            "type": "scattergl"
           }
          ],
          "scattermapbox": [
           {
            "marker": {
             "colorbar": {
              "outlinewidth": 0,
              "ticks": ""
             }
            },
            "type": "scattermapbox"
           }
          ],
          "scatterpolar": [
           {
            "marker": {
             "colorbar": {
              "outlinewidth": 0,
              "ticks": ""
             }
            },
            "type": "scatterpolar"
           }
          ],
          "scatterpolargl": [
           {
            "marker": {
             "colorbar": {
              "outlinewidth": 0,
              "ticks": ""
             }
            },
            "type": "scatterpolargl"
           }
          ],
          "scatterternary": [
           {
            "marker": {
             "colorbar": {
              "outlinewidth": 0,
              "ticks": ""
             }
            },
            "type": "scatterternary"
           }
          ],
          "surface": [
           {
            "colorbar": {
             "outlinewidth": 0,
             "ticks": ""
            },
            "colorscale": [
             [
              0,
              "#0d0887"
             ],
             [
              0.1111111111111111,
              "#46039f"
             ],
             [
              0.2222222222222222,
              "#7201a8"
             ],
             [
              0.3333333333333333,
              "#9c179e"
             ],
             [
              0.4444444444444444,
              "#bd3786"
             ],
             [
              0.5555555555555556,
              "#d8576b"
             ],
             [
              0.6666666666666666,
              "#ed7953"
             ],
             [
              0.7777777777777778,
              "#fb9f3a"
             ],
             [
              0.8888888888888888,
              "#fdca26"
             ],
             [
              1,
              "#f0f921"
             ]
            ],
            "type": "surface"
           }
          ],
          "table": [
           {
            "cells": {
             "fill": {
              "color": "#EBF0F8"
             },
             "line": {
              "color": "white"
             }
            },
            "header": {
             "fill": {
              "color": "#C8D4E3"
             },
             "line": {
              "color": "white"
             }
            },
            "type": "table"
           }
          ]
         },
         "layout": {
          "annotationdefaults": {
           "arrowcolor": "#2a3f5f",
           "arrowhead": 0,
           "arrowwidth": 1
          },
          "autotypenumbers": "strict",
          "coloraxis": {
           "colorbar": {
            "outlinewidth": 0,
            "ticks": ""
           }
          },
          "colorscale": {
           "diverging": [
            [
             0,
             "#8e0152"
            ],
            [
             0.1,
             "#c51b7d"
            ],
            [
             0.2,
             "#de77ae"
            ],
            [
             0.3,
             "#f1b6da"
            ],
            [
             0.4,
             "#fde0ef"
            ],
            [
             0.5,
             "#f7f7f7"
            ],
            [
             0.6,
             "#e6f5d0"
            ],
            [
             0.7,
             "#b8e186"
            ],
            [
             0.8,
             "#7fbc41"
            ],
            [
             0.9,
             "#4d9221"
            ],
            [
             1,
             "#276419"
            ]
           ],
           "sequential": [
            [
             0,
             "#0d0887"
            ],
            [
             0.1111111111111111,
             "#46039f"
            ],
            [
             0.2222222222222222,
             "#7201a8"
            ],
            [
             0.3333333333333333,
             "#9c179e"
            ],
            [
             0.4444444444444444,
             "#bd3786"
            ],
            [
             0.5555555555555556,
             "#d8576b"
            ],
            [
             0.6666666666666666,
             "#ed7953"
            ],
            [
             0.7777777777777778,
             "#fb9f3a"
            ],
            [
             0.8888888888888888,
             "#fdca26"
            ],
            [
             1,
             "#f0f921"
            ]
           ],
           "sequentialminus": [
            [
             0,
             "#0d0887"
            ],
            [
             0.1111111111111111,
             "#46039f"
            ],
            [
             0.2222222222222222,
             "#7201a8"
            ],
            [
             0.3333333333333333,
             "#9c179e"
            ],
            [
             0.4444444444444444,
             "#bd3786"
            ],
            [
             0.5555555555555556,
             "#d8576b"
            ],
            [
             0.6666666666666666,
             "#ed7953"
            ],
            [
             0.7777777777777778,
             "#fb9f3a"
            ],
            [
             0.8888888888888888,
             "#fdca26"
            ],
            [
             1,
             "#f0f921"
            ]
           ]
          },
          "colorway": [
           "#636efa",
           "#EF553B",
           "#00cc96",
           "#ab63fa",
           "#FFA15A",
           "#19d3f3",
           "#FF6692",
           "#B6E880",
           "#FF97FF",
           "#FECB52"
          ],
          "font": {
           "color": "#2a3f5f"
          },
          "geo": {
           "bgcolor": "white",
           "lakecolor": "white",
           "landcolor": "#E5ECF6",
           "showlakes": true,
           "showland": true,
           "subunitcolor": "white"
          },
          "hoverlabel": {
           "align": "left"
          },
          "hovermode": "closest",
          "mapbox": {
           "style": "light"
          },
          "paper_bgcolor": "white",
          "plot_bgcolor": "#E5ECF6",
          "polar": {
           "angularaxis": {
            "gridcolor": "white",
            "linecolor": "white",
            "ticks": ""
           },
           "bgcolor": "#E5ECF6",
           "radialaxis": {
            "gridcolor": "white",
            "linecolor": "white",
            "ticks": ""
           }
          },
          "scene": {
           "xaxis": {
            "backgroundcolor": "#E5ECF6",
            "gridcolor": "white",
            "gridwidth": 2,
            "linecolor": "white",
            "showbackground": true,
            "ticks": "",
            "zerolinecolor": "white"
           },
           "yaxis": {
            "backgroundcolor": "#E5ECF6",
            "gridcolor": "white",
            "gridwidth": 2,
            "linecolor": "white",
            "showbackground": true,
            "ticks": "",
            "zerolinecolor": "white"
           },
           "zaxis": {
            "backgroundcolor": "#E5ECF6",
            "gridcolor": "white",
            "gridwidth": 2,
            "linecolor": "white",
            "showbackground": true,
            "ticks": "",
            "zerolinecolor": "white"
           }
          },
          "shapedefaults": {
           "line": {
            "color": "#2a3f5f"
           }
          },
          "ternary": {
           "aaxis": {
            "gridcolor": "white",
            "linecolor": "white",
            "ticks": ""
           },
           "baxis": {
            "gridcolor": "white",
            "linecolor": "white",
            "ticks": ""
           },
           "bgcolor": "#E5ECF6",
           "caxis": {
            "gridcolor": "white",
            "linecolor": "white",
            "ticks": ""
           }
          },
          "title": {
           "x": 0.05
          },
          "xaxis": {
           "automargin": true,
           "gridcolor": "white",
           "linecolor": "white",
           "ticks": "",
           "title": {
            "standoff": 15
           },
           "zerolinecolor": "white",
           "zerolinewidth": 2
          },
          "yaxis": {
           "automargin": true,
           "gridcolor": "white",
           "linecolor": "white",
           "ticks": "",
           "title": {
            "standoff": 15
           },
           "zerolinecolor": "white",
           "zerolinewidth": 2
          }
         }
        },
        "title": {
         "text": "Weekdays [week - 1] timeline"
        },
        "xaxis": {
         "anchor": "y",
         "domain": [
          0,
          1
         ],
         "title": {
          "text": "Weekdays"
         }
        },
        "yaxis": {
         "anchor": "x",
         "domain": [
          0,
          1
         ],
         "title": {
          "text": "Message count"
         }
        }
       }
      }
     },
     "metadata": {},
     "output_type": "display_data"
    },
    {
     "data": {
      "application/vnd.plotly.v1+json": {
       "config": {
        "plotlyServerURL": "https://plot.ly"
       },
       "data": [
        {
         "hovertemplate": "Users=Avantika CR 7sem<br>Weekdays=%{x}<br>Message count=%{y}<extra></extra>",
         "legendgroup": "Avantika CR 7sem",
         "line": {
          "color": "#636efa",
          "dash": "solid"
         },
         "marker": {
          "symbol": "circle"
         },
         "mode": "markers+lines",
         "name": "Avantika CR 7sem",
         "orientation": "v",
         "showlegend": true,
         "type": "scatter",
         "x": [
          "Sunday",
          "Monday",
          "Tuesday",
          "Wednesday",
          "Thursday",
          "Friday",
          "Saturday"
         ],
         "xaxis": "x",
         "y": [
          0,
          1,
          1,
          6,
          1,
          0,
          0
         ],
         "yaxis": "y"
        },
        {
         "hovertemplate": "Users=+91 73511 44719<br>Weekdays=%{x}<br>Message count=%{y}<extra></extra>",
         "legendgroup": "+91 73511 44719",
         "line": {
          "color": "#EF553B",
          "dash": "solid"
         },
         "marker": {
          "symbol": "circle"
         },
         "mode": "markers+lines",
         "name": "+91 73511 44719",
         "orientation": "v",
         "showlegend": true,
         "type": "scatter",
         "x": [
          "Sunday",
          "Monday",
          "Tuesday",
          "Wednesday",
          "Thursday",
          "Friday",
          "Saturday"
         ],
         "xaxis": "x",
         "y": [
          0,
          3,
          4,
          1,
          0,
          1,
          0
         ],
         "yaxis": "y"
        },
        {
         "hovertemplate": "Users=Sourabh 7 Mentor<br>Weekdays=%{x}<br>Message count=%{y}<extra></extra>",
         "legendgroup": "Sourabh 7 Mentor",
         "line": {
          "color": "#00cc96",
          "dash": "solid"
         },
         "marker": {
          "symbol": "circle"
         },
         "mode": "markers+lines",
         "name": "Sourabh 7 Mentor",
         "orientation": "v",
         "showlegend": true,
         "type": "scatter",
         "x": [
          "Sunday",
          "Monday",
          "Tuesday",
          "Wednesday",
          "Thursday",
          "Friday",
          "Saturday"
         ],
         "xaxis": "x",
         "y": [
          2,
          2,
          0,
          0,
          0,
          0,
          0
         ],
         "yaxis": "y"
        },
        {
         "hovertemplate": "Users=+91 76784 09427<br>Weekdays=%{x}<br>Message count=%{y}<extra></extra>",
         "legendgroup": "+91 76784 09427",
         "line": {
          "color": "#ab63fa",
          "dash": "solid"
         },
         "marker": {
          "symbol": "circle"
         },
         "mode": "markers+lines",
         "name": "+91 76784 09427",
         "orientation": "v",
         "showlegend": true,
         "type": "scatter",
         "x": [
          "Sunday",
          "Monday",
          "Tuesday",
          "Wednesday",
          "Thursday",
          "Friday",
          "Saturday"
         ],
         "xaxis": "x",
         "y": [
          0,
          1,
          0,
          0,
          0,
          0,
          0
         ],
         "yaxis": "y"
        },
        {
         "hovertemplate": "Users=+91 95235 15421<br>Weekdays=%{x}<br>Message count=%{y}<extra></extra>",
         "legendgroup": "+91 95235 15421",
         "line": {
          "color": "#FFA15A",
          "dash": "solid"
         },
         "marker": {
          "symbol": "circle"
         },
         "mode": "markers+lines",
         "name": "+91 95235 15421",
         "orientation": "v",
         "showlegend": true,
         "type": "scatter",
         "x": [
          "Sunday",
          "Monday",
          "Tuesday",
          "Wednesday",
          "Thursday",
          "Friday",
          "Saturday"
         ],
         "xaxis": "x",
         "y": [
          0,
          0,
          2,
          0,
          0,
          0,
          0
         ],
         "yaxis": "y"
        },
        {
         "hovertemplate": "Users=+91 76888 20220<br>Weekdays=%{x}<br>Message count=%{y}<extra></extra>",
         "legendgroup": "+91 76888 20220",
         "line": {
          "color": "#19d3f3",
          "dash": "solid"
         },
         "marker": {
          "symbol": "circle"
         },
         "mode": "markers+lines",
         "name": "+91 76888 20220",
         "orientation": "v",
         "showlegend": true,
         "type": "scatter",
         "x": [
          "Sunday",
          "Monday",
          "Tuesday",
          "Wednesday",
          "Thursday",
          "Friday",
          "Saturday"
         ],
         "xaxis": "x",
         "y": [
          0,
          0,
          0,
          0,
          0,
          0,
          0
         ],
         "yaxis": "y"
        },
        {
         "hovertemplate": "Users=+91 83079 17347<br>Weekdays=%{x}<br>Message count=%{y}<extra></extra>",
         "legendgroup": "+91 83079 17347",
         "line": {
          "color": "#FF6692",
          "dash": "solid"
         },
         "marker": {
          "symbol": "circle"
         },
         "mode": "markers+lines",
         "name": "+91 83079 17347",
         "orientation": "v",
         "showlegend": true,
         "type": "scatter",
         "x": [
          "Sunday",
          "Monday",
          "Tuesday",
          "Wednesday",
          "Thursday",
          "Friday",
          "Saturday"
         ],
         "xaxis": "x",
         "y": [
          0,
          0,
          0,
          0,
          0,
          0,
          0
         ],
         "yaxis": "y"
        },
        {
         "hovertemplate": "Users=others<br>Weekdays=%{x}<br>Message count=%{y}<extra></extra>",
         "legendgroup": "others",
         "line": {
          "color": "#B6E880",
          "dash": "solid"
         },
         "marker": {
          "symbol": "circle"
         },
         "mode": "markers+lines",
         "name": "others",
         "orientation": "v",
         "showlegend": true,
         "type": "scatter",
         "x": [
          "Sunday",
          "Monday",
          "Tuesday",
          "Wednesday",
          "Thursday",
          "Friday",
          "Saturday"
         ],
         "xaxis": "x",
         "y": [
          2,
          2,
          0,
          3,
          7,
          0,
          0
         ],
         "yaxis": "y"
        }
       ],
       "layout": {
        "legend": {
         "title": {
          "text": "Users"
         },
         "tracegroupgap": 0
        },
        "template": {
         "data": {
          "bar": [
           {
            "error_x": {
             "color": "#2a3f5f"
            },
            "error_y": {
             "color": "#2a3f5f"
            },
            "marker": {
             "line": {
              "color": "#E5ECF6",
              "width": 0.5
             },
             "pattern": {
              "fillmode": "overlay",
              "size": 10,
              "solidity": 0.2
             }
            },
            "type": "bar"
           }
          ],
          "barpolar": [
           {
            "marker": {
             "line": {
              "color": "#E5ECF6",
              "width": 0.5
             },
             "pattern": {
              "fillmode": "overlay",
              "size": 10,
              "solidity": 0.2
             }
            },
            "type": "barpolar"
           }
          ],
          "carpet": [
           {
            "aaxis": {
             "endlinecolor": "#2a3f5f",
             "gridcolor": "white",
             "linecolor": "white",
             "minorgridcolor": "white",
             "startlinecolor": "#2a3f5f"
            },
            "baxis": {
             "endlinecolor": "#2a3f5f",
             "gridcolor": "white",
             "linecolor": "white",
             "minorgridcolor": "white",
             "startlinecolor": "#2a3f5f"
            },
            "type": "carpet"
           }
          ],
          "choropleth": [
           {
            "colorbar": {
             "outlinewidth": 0,
             "ticks": ""
            },
            "type": "choropleth"
           }
          ],
          "contour": [
           {
            "colorbar": {
             "outlinewidth": 0,
             "ticks": ""
            },
            "colorscale": [
             [
              0,
              "#0d0887"
             ],
             [
              0.1111111111111111,
              "#46039f"
             ],
             [
              0.2222222222222222,
              "#7201a8"
             ],
             [
              0.3333333333333333,
              "#9c179e"
             ],
             [
              0.4444444444444444,
              "#bd3786"
             ],
             [
              0.5555555555555556,
              "#d8576b"
             ],
             [
              0.6666666666666666,
              "#ed7953"
             ],
             [
              0.7777777777777778,
              "#fb9f3a"
             ],
             [
              0.8888888888888888,
              "#fdca26"
             ],
             [
              1,
              "#f0f921"
             ]
            ],
            "type": "contour"
           }
          ],
          "contourcarpet": [
           {
            "colorbar": {
             "outlinewidth": 0,
             "ticks": ""
            },
            "type": "contourcarpet"
           }
          ],
          "heatmap": [
           {
            "colorbar": {
             "outlinewidth": 0,
             "ticks": ""
            },
            "colorscale": [
             [
              0,
              "#0d0887"
             ],
             [
              0.1111111111111111,
              "#46039f"
             ],
             [
              0.2222222222222222,
              "#7201a8"
             ],
             [
              0.3333333333333333,
              "#9c179e"
             ],
             [
              0.4444444444444444,
              "#bd3786"
             ],
             [
              0.5555555555555556,
              "#d8576b"
             ],
             [
              0.6666666666666666,
              "#ed7953"
             ],
             [
              0.7777777777777778,
              "#fb9f3a"
             ],
             [
              0.8888888888888888,
              "#fdca26"
             ],
             [
              1,
              "#f0f921"
             ]
            ],
            "type": "heatmap"
           }
          ],
          "heatmapgl": [
           {
            "colorbar": {
             "outlinewidth": 0,
             "ticks": ""
            },
            "colorscale": [
             [
              0,
              "#0d0887"
             ],
             [
              0.1111111111111111,
              "#46039f"
             ],
             [
              0.2222222222222222,
              "#7201a8"
             ],
             [
              0.3333333333333333,
              "#9c179e"
             ],
             [
              0.4444444444444444,
              "#bd3786"
             ],
             [
              0.5555555555555556,
              "#d8576b"
             ],
             [
              0.6666666666666666,
              "#ed7953"
             ],
             [
              0.7777777777777778,
              "#fb9f3a"
             ],
             [
              0.8888888888888888,
              "#fdca26"
             ],
             [
              1,
              "#f0f921"
             ]
            ],
            "type": "heatmapgl"
           }
          ],
          "histogram": [
           {
            "marker": {
             "pattern": {
              "fillmode": "overlay",
              "size": 10,
              "solidity": 0.2
             }
            },
            "type": "histogram"
           }
          ],
          "histogram2d": [
           {
            "colorbar": {
             "outlinewidth": 0,
             "ticks": ""
            },
            "colorscale": [
             [
              0,
              "#0d0887"
             ],
             [
              0.1111111111111111,
              "#46039f"
             ],
             [
              0.2222222222222222,
              "#7201a8"
             ],
             [
              0.3333333333333333,
              "#9c179e"
             ],
             [
              0.4444444444444444,
              "#bd3786"
             ],
             [
              0.5555555555555556,
              "#d8576b"
             ],
             [
              0.6666666666666666,
              "#ed7953"
             ],
             [
              0.7777777777777778,
              "#fb9f3a"
             ],
             [
              0.8888888888888888,
              "#fdca26"
             ],
             [
              1,
              "#f0f921"
             ]
            ],
            "type": "histogram2d"
           }
          ],
          "histogram2dcontour": [
           {
            "colorbar": {
             "outlinewidth": 0,
             "ticks": ""
            },
            "colorscale": [
             [
              0,
              "#0d0887"
             ],
             [
              0.1111111111111111,
              "#46039f"
             ],
             [
              0.2222222222222222,
              "#7201a8"
             ],
             [
              0.3333333333333333,
              "#9c179e"
             ],
             [
              0.4444444444444444,
              "#bd3786"
             ],
             [
              0.5555555555555556,
              "#d8576b"
             ],
             [
              0.6666666666666666,
              "#ed7953"
             ],
             [
              0.7777777777777778,
              "#fb9f3a"
             ],
             [
              0.8888888888888888,
              "#fdca26"
             ],
             [
              1,
              "#f0f921"
             ]
            ],
            "type": "histogram2dcontour"
           }
          ],
          "mesh3d": [
           {
            "colorbar": {
             "outlinewidth": 0,
             "ticks": ""
            },
            "type": "mesh3d"
           }
          ],
          "parcoords": [
           {
            "line": {
             "colorbar": {
              "outlinewidth": 0,
              "ticks": ""
             }
            },
            "type": "parcoords"
           }
          ],
          "pie": [
           {
            "automargin": true,
            "type": "pie"
           }
          ],
          "scatter": [
           {
            "fillpattern": {
             "fillmode": "overlay",
             "size": 10,
             "solidity": 0.2
            },
            "type": "scatter"
           }
          ],
          "scatter3d": [
           {
            "line": {
             "colorbar": {
              "outlinewidth": 0,
              "ticks": ""
             }
            },
            "marker": {
             "colorbar": {
              "outlinewidth": 0,
              "ticks": ""
             }
            },
            "type": "scatter3d"
           }
          ],
          "scattercarpet": [
           {
            "marker": {
             "colorbar": {
              "outlinewidth": 0,
              "ticks": ""
             }
            },
            "type": "scattercarpet"
           }
          ],
          "scattergeo": [
           {
            "marker": {
             "colorbar": {
              "outlinewidth": 0,
              "ticks": ""
             }
            },
            "type": "scattergeo"
           }
          ],
          "scattergl": [
           {
            "marker": {
             "colorbar": {
              "outlinewidth": 0,
              "ticks": ""
             }
            },
            "type": "scattergl"
           }
          ],
          "scattermapbox": [
           {
            "marker": {
             "colorbar": {
              "outlinewidth": 0,
              "ticks": ""
             }
            },
            "type": "scattermapbox"
           }
          ],
          "scatterpolar": [
           {
            "marker": {
             "colorbar": {
              "outlinewidth": 0,
              "ticks": ""
             }
            },
            "type": "scatterpolar"
           }
          ],
          "scatterpolargl": [
           {
            "marker": {
             "colorbar": {
              "outlinewidth": 0,
              "ticks": ""
             }
            },
            "type": "scatterpolargl"
           }
          ],
          "scatterternary": [
           {
            "marker": {
             "colorbar": {
              "outlinewidth": 0,
              "ticks": ""
             }
            },
            "type": "scatterternary"
           }
          ],
          "surface": [
           {
            "colorbar": {
             "outlinewidth": 0,
             "ticks": ""
            },
            "colorscale": [
             [
              0,
              "#0d0887"
             ],
             [
              0.1111111111111111,
              "#46039f"
             ],
             [
              0.2222222222222222,
              "#7201a8"
             ],
             [
              0.3333333333333333,
              "#9c179e"
             ],
             [
              0.4444444444444444,
              "#bd3786"
             ],
             [
              0.5555555555555556,
              "#d8576b"
             ],
             [
              0.6666666666666666,
              "#ed7953"
             ],
             [
              0.7777777777777778,
              "#fb9f3a"
             ],
             [
              0.8888888888888888,
              "#fdca26"
             ],
             [
              1,
              "#f0f921"
             ]
            ],
            "type": "surface"
           }
          ],
          "table": [
           {
            "cells": {
             "fill": {
              "color": "#EBF0F8"
             },
             "line": {
              "color": "white"
             }
            },
            "header": {
             "fill": {
              "color": "#C8D4E3"
             },
             "line": {
              "color": "white"
             }
            },
            "type": "table"
           }
          ]
         },
         "layout": {
          "annotationdefaults": {
           "arrowcolor": "#2a3f5f",
           "arrowhead": 0,
           "arrowwidth": 1
          },
          "autotypenumbers": "strict",
          "coloraxis": {
           "colorbar": {
            "outlinewidth": 0,
            "ticks": ""
           }
          },
          "colorscale": {
           "diverging": [
            [
             0,
             "#8e0152"
            ],
            [
             0.1,
             "#c51b7d"
            ],
            [
             0.2,
             "#de77ae"
            ],
            [
             0.3,
             "#f1b6da"
            ],
            [
             0.4,
             "#fde0ef"
            ],
            [
             0.5,
             "#f7f7f7"
            ],
            [
             0.6,
             "#e6f5d0"
            ],
            [
             0.7,
             "#b8e186"
            ],
            [
             0.8,
             "#7fbc41"
            ],
            [
             0.9,
             "#4d9221"
            ],
            [
             1,
             "#276419"
            ]
           ],
           "sequential": [
            [
             0,
             "#0d0887"
            ],
            [
             0.1111111111111111,
             "#46039f"
            ],
            [
             0.2222222222222222,
             "#7201a8"
            ],
            [
             0.3333333333333333,
             "#9c179e"
            ],
            [
             0.4444444444444444,
             "#bd3786"
            ],
            [
             0.5555555555555556,
             "#d8576b"
            ],
            [
             0.6666666666666666,
             "#ed7953"
            ],
            [
             0.7777777777777778,
             "#fb9f3a"
            ],
            [
             0.8888888888888888,
             "#fdca26"
            ],
            [
             1,
             "#f0f921"
            ]
           ],
           "sequentialminus": [
            [
             0,
             "#0d0887"
            ],
            [
             0.1111111111111111,
             "#46039f"
            ],
            [
             0.2222222222222222,
             "#7201a8"
            ],
            [
             0.3333333333333333,
             "#9c179e"
            ],
            [
             0.4444444444444444,
             "#bd3786"
            ],
            [
             0.5555555555555556,
             "#d8576b"
            ],
            [
             0.6666666666666666,
             "#ed7953"
            ],
            [
             0.7777777777777778,
             "#fb9f3a"
            ],
            [
             0.8888888888888888,
             "#fdca26"
            ],
            [
             1,
             "#f0f921"
            ]
           ]
          },
          "colorway": [
           "#636efa",
           "#EF553B",
           "#00cc96",
           "#ab63fa",
           "#FFA15A",
           "#19d3f3",
           "#FF6692",
           "#B6E880",
           "#FF97FF",
           "#FECB52"
          ],
          "font": {
           "color": "#2a3f5f"
          },
          "geo": {
           "bgcolor": "white",
           "lakecolor": "white",
           "landcolor": "#E5ECF6",
           "showlakes": true,
           "showland": true,
           "subunitcolor": "white"
          },
          "hoverlabel": {
           "align": "left"
          },
          "hovermode": "closest",
          "mapbox": {
           "style": "light"
          },
          "paper_bgcolor": "white",
          "plot_bgcolor": "#E5ECF6",
          "polar": {
           "angularaxis": {
            "gridcolor": "white",
            "linecolor": "white",
            "ticks": ""
           },
           "bgcolor": "#E5ECF6",
           "radialaxis": {
            "gridcolor": "white",
            "linecolor": "white",
            "ticks": ""
           }
          },
          "scene": {
           "xaxis": {
            "backgroundcolor": "#E5ECF6",
            "gridcolor": "white",
            "gridwidth": 2,
            "linecolor": "white",
            "showbackground": true,
            "ticks": "",
            "zerolinecolor": "white"
           },
           "yaxis": {
            "backgroundcolor": "#E5ECF6",
            "gridcolor": "white",
            "gridwidth": 2,
            "linecolor": "white",
            "showbackground": true,
            "ticks": "",
            "zerolinecolor": "white"
           },
           "zaxis": {
            "backgroundcolor": "#E5ECF6",
            "gridcolor": "white",
            "gridwidth": 2,
            "linecolor": "white",
            "showbackground": true,
            "ticks": "",
            "zerolinecolor": "white"
           }
          },
          "shapedefaults": {
           "line": {
            "color": "#2a3f5f"
           }
          },
          "ternary": {
           "aaxis": {
            "gridcolor": "white",
            "linecolor": "white",
            "ticks": ""
           },
           "baxis": {
            "gridcolor": "white",
            "linecolor": "white",
            "ticks": ""
           },
           "bgcolor": "#E5ECF6",
           "caxis": {
            "gridcolor": "white",
            "linecolor": "white",
            "ticks": ""
           }
          },
          "title": {
           "x": 0.05
          },
          "xaxis": {
           "automargin": true,
           "gridcolor": "white",
           "linecolor": "white",
           "ticks": "",
           "title": {
            "standoff": 15
           },
           "zerolinecolor": "white",
           "zerolinewidth": 2
          },
          "yaxis": {
           "automargin": true,
           "gridcolor": "white",
           "linecolor": "white",
           "ticks": "",
           "title": {
            "standoff": 15
           },
           "zerolinecolor": "white",
           "zerolinewidth": 2
          }
         }
        },
        "title": {
         "text": "Weekdays [week - 2] timeline"
        },
        "xaxis": {
         "anchor": "y",
         "domain": [
          0,
          1
         ],
         "title": {
          "text": "Weekdays"
         }
        },
        "yaxis": {
         "anchor": "x",
         "domain": [
          0,
          1
         ],
         "title": {
          "text": "Message count"
         }
        }
       }
      }
     },
     "metadata": {},
     "output_type": "display_data"
    },
    {
     "data": {
      "application/vnd.plotly.v1+json": {
       "config": {
        "plotlyServerURL": "https://plot.ly"
       },
       "data": [
        {
         "hovertemplate": "Users=Avantika CR 7sem<br>Weekdays=%{x}<br>Message count=%{y}<extra></extra>",
         "legendgroup": "Avantika CR 7sem",
         "line": {
          "color": "#636efa",
          "dash": "solid"
         },
         "marker": {
          "symbol": "circle"
         },
         "mode": "markers+lines",
         "name": "Avantika CR 7sem",
         "orientation": "v",
         "showlegend": true,
         "type": "scatter",
         "x": [
          "Sunday",
          "Monday",
          "Tuesday",
          "Wednesday",
          "Thursday",
          "Friday",
          "Saturday"
         ],
         "xaxis": "x",
         "y": [
          0,
          3,
          0,
          5,
          0,
          0,
          0
         ],
         "yaxis": "y"
        },
        {
         "hovertemplate": "Users=+91 73511 44719<br>Weekdays=%{x}<br>Message count=%{y}<extra></extra>",
         "legendgroup": "+91 73511 44719",
         "line": {
          "color": "#EF553B",
          "dash": "solid"
         },
         "marker": {
          "symbol": "circle"
         },
         "mode": "markers+lines",
         "name": "+91 73511 44719",
         "orientation": "v",
         "showlegend": true,
         "type": "scatter",
         "x": [
          "Sunday",
          "Monday",
          "Tuesday",
          "Wednesday",
          "Thursday",
          "Friday",
          "Saturday"
         ],
         "xaxis": "x",
         "y": [
          0,
          0,
          5,
          0,
          0,
          0,
          0
         ],
         "yaxis": "y"
        },
        {
         "hovertemplate": "Users=Sourabh 7 Mentor<br>Weekdays=%{x}<br>Message count=%{y}<extra></extra>",
         "legendgroup": "Sourabh 7 Mentor",
         "line": {
          "color": "#00cc96",
          "dash": "solid"
         },
         "marker": {
          "symbol": "circle"
         },
         "mode": "markers+lines",
         "name": "Sourabh 7 Mentor",
         "orientation": "v",
         "showlegend": true,
         "type": "scatter",
         "x": [
          "Sunday",
          "Monday",
          "Tuesday",
          "Wednesday",
          "Thursday",
          "Friday",
          "Saturday"
         ],
         "xaxis": "x",
         "y": [
          0,
          0,
          0,
          6,
          0,
          0,
          0
         ],
         "yaxis": "y"
        },
        {
         "hovertemplate": "Users=+91 76784 09427<br>Weekdays=%{x}<br>Message count=%{y}<extra></extra>",
         "legendgroup": "+91 76784 09427",
         "line": {
          "color": "#ab63fa",
          "dash": "solid"
         },
         "marker": {
          "symbol": "circle"
         },
         "mode": "markers+lines",
         "name": "+91 76784 09427",
         "orientation": "v",
         "showlegend": true,
         "type": "scatter",
         "x": [
          "Sunday",
          "Monday",
          "Tuesday",
          "Wednesday",
          "Thursday",
          "Friday",
          "Saturday"
         ],
         "xaxis": "x",
         "y": [
          0,
          0,
          0,
          0,
          0,
          0,
          0
         ],
         "yaxis": "y"
        },
        {
         "hovertemplate": "Users=+91 95235 15421<br>Weekdays=%{x}<br>Message count=%{y}<extra></extra>",
         "legendgroup": "+91 95235 15421",
         "line": {
          "color": "#FFA15A",
          "dash": "solid"
         },
         "marker": {
          "symbol": "circle"
         },
         "mode": "markers+lines",
         "name": "+91 95235 15421",
         "orientation": "v",
         "showlegend": true,
         "type": "scatter",
         "x": [
          "Sunday",
          "Monday",
          "Tuesday",
          "Wednesday",
          "Thursday",
          "Friday",
          "Saturday"
         ],
         "xaxis": "x",
         "y": [
          0,
          0,
          0,
          0,
          0,
          0,
          0
         ],
         "yaxis": "y"
        },
        {
         "hovertemplate": "Users=+91 76888 20220<br>Weekdays=%{x}<br>Message count=%{y}<extra></extra>",
         "legendgroup": "+91 76888 20220",
         "line": {
          "color": "#19d3f3",
          "dash": "solid"
         },
         "marker": {
          "symbol": "circle"
         },
         "mode": "markers+lines",
         "name": "+91 76888 20220",
         "orientation": "v",
         "showlegend": true,
         "type": "scatter",
         "x": [
          "Sunday",
          "Monday",
          "Tuesday",
          "Wednesday",
          "Thursday",
          "Friday",
          "Saturday"
         ],
         "xaxis": "x",
         "y": [
          0,
          0,
          0,
          0,
          0,
          0,
          0
         ],
         "yaxis": "y"
        },
        {
         "hovertemplate": "Users=+91 83079 17347<br>Weekdays=%{x}<br>Message count=%{y}<extra></extra>",
         "legendgroup": "+91 83079 17347",
         "line": {
          "color": "#FF6692",
          "dash": "solid"
         },
         "marker": {
          "symbol": "circle"
         },
         "mode": "markers+lines",
         "name": "+91 83079 17347",
         "orientation": "v",
         "showlegend": true,
         "type": "scatter",
         "x": [
          "Sunday",
          "Monday",
          "Tuesday",
          "Wednesday",
          "Thursday",
          "Friday",
          "Saturday"
         ],
         "xaxis": "x",
         "y": [
          0,
          0,
          0,
          4,
          0,
          0,
          0
         ],
         "yaxis": "y"
        },
        {
         "hovertemplate": "Users=others<br>Weekdays=%{x}<br>Message count=%{y}<extra></extra>",
         "legendgroup": "others",
         "line": {
          "color": "#B6E880",
          "dash": "solid"
         },
         "marker": {
          "symbol": "circle"
         },
         "mode": "markers+lines",
         "name": "others",
         "orientation": "v",
         "showlegend": true,
         "type": "scatter",
         "x": [
          "Sunday",
          "Monday",
          "Tuesday",
          "Wednesday",
          "Thursday",
          "Friday",
          "Saturday"
         ],
         "xaxis": "x",
         "y": [
          0,
          0,
          1,
          7,
          4,
          0,
          1
         ],
         "yaxis": "y"
        }
       ],
       "layout": {
        "legend": {
         "title": {
          "text": "Users"
         },
         "tracegroupgap": 0
        },
        "template": {
         "data": {
          "bar": [
           {
            "error_x": {
             "color": "#2a3f5f"
            },
            "error_y": {
             "color": "#2a3f5f"
            },
            "marker": {
             "line": {
              "color": "#E5ECF6",
              "width": 0.5
             },
             "pattern": {
              "fillmode": "overlay",
              "size": 10,
              "solidity": 0.2
             }
            },
            "type": "bar"
           }
          ],
          "barpolar": [
           {
            "marker": {
             "line": {
              "color": "#E5ECF6",
              "width": 0.5
             },
             "pattern": {
              "fillmode": "overlay",
              "size": 10,
              "solidity": 0.2
             }
            },
            "type": "barpolar"
           }
          ],
          "carpet": [
           {
            "aaxis": {
             "endlinecolor": "#2a3f5f",
             "gridcolor": "white",
             "linecolor": "white",
             "minorgridcolor": "white",
             "startlinecolor": "#2a3f5f"
            },
            "baxis": {
             "endlinecolor": "#2a3f5f",
             "gridcolor": "white",
             "linecolor": "white",
             "minorgridcolor": "white",
             "startlinecolor": "#2a3f5f"
            },
            "type": "carpet"
           }
          ],
          "choropleth": [
           {
            "colorbar": {
             "outlinewidth": 0,
             "ticks": ""
            },
            "type": "choropleth"
           }
          ],
          "contour": [
           {
            "colorbar": {
             "outlinewidth": 0,
             "ticks": ""
            },
            "colorscale": [
             [
              0,
              "#0d0887"
             ],
             [
              0.1111111111111111,
              "#46039f"
             ],
             [
              0.2222222222222222,
              "#7201a8"
             ],
             [
              0.3333333333333333,
              "#9c179e"
             ],
             [
              0.4444444444444444,
              "#bd3786"
             ],
             [
              0.5555555555555556,
              "#d8576b"
             ],
             [
              0.6666666666666666,
              "#ed7953"
             ],
             [
              0.7777777777777778,
              "#fb9f3a"
             ],
             [
              0.8888888888888888,
              "#fdca26"
             ],
             [
              1,
              "#f0f921"
             ]
            ],
            "type": "contour"
           }
          ],
          "contourcarpet": [
           {
            "colorbar": {
             "outlinewidth": 0,
             "ticks": ""
            },
            "type": "contourcarpet"
           }
          ],
          "heatmap": [
           {
            "colorbar": {
             "outlinewidth": 0,
             "ticks": ""
            },
            "colorscale": [
             [
              0,
              "#0d0887"
             ],
             [
              0.1111111111111111,
              "#46039f"
             ],
             [
              0.2222222222222222,
              "#7201a8"
             ],
             [
              0.3333333333333333,
              "#9c179e"
             ],
             [
              0.4444444444444444,
              "#bd3786"
             ],
             [
              0.5555555555555556,
              "#d8576b"
             ],
             [
              0.6666666666666666,
              "#ed7953"
             ],
             [
              0.7777777777777778,
              "#fb9f3a"
             ],
             [
              0.8888888888888888,
              "#fdca26"
             ],
             [
              1,
              "#f0f921"
             ]
            ],
            "type": "heatmap"
           }
          ],
          "heatmapgl": [
           {
            "colorbar": {
             "outlinewidth": 0,
             "ticks": ""
            },
            "colorscale": [
             [
              0,
              "#0d0887"
             ],
             [
              0.1111111111111111,
              "#46039f"
             ],
             [
              0.2222222222222222,
              "#7201a8"
             ],
             [
              0.3333333333333333,
              "#9c179e"
             ],
             [
              0.4444444444444444,
              "#bd3786"
             ],
             [
              0.5555555555555556,
              "#d8576b"
             ],
             [
              0.6666666666666666,
              "#ed7953"
             ],
             [
              0.7777777777777778,
              "#fb9f3a"
             ],
             [
              0.8888888888888888,
              "#fdca26"
             ],
             [
              1,
              "#f0f921"
             ]
            ],
            "type": "heatmapgl"
           }
          ],
          "histogram": [
           {
            "marker": {
             "pattern": {
              "fillmode": "overlay",
              "size": 10,
              "solidity": 0.2
             }
            },
            "type": "histogram"
           }
          ],
          "histogram2d": [
           {
            "colorbar": {
             "outlinewidth": 0,
             "ticks": ""
            },
            "colorscale": [
             [
              0,
              "#0d0887"
             ],
             [
              0.1111111111111111,
              "#46039f"
             ],
             [
              0.2222222222222222,
              "#7201a8"
             ],
             [
              0.3333333333333333,
              "#9c179e"
             ],
             [
              0.4444444444444444,
              "#bd3786"
             ],
             [
              0.5555555555555556,
              "#d8576b"
             ],
             [
              0.6666666666666666,
              "#ed7953"
             ],
             [
              0.7777777777777778,
              "#fb9f3a"
             ],
             [
              0.8888888888888888,
              "#fdca26"
             ],
             [
              1,
              "#f0f921"
             ]
            ],
            "type": "histogram2d"
           }
          ],
          "histogram2dcontour": [
           {
            "colorbar": {
             "outlinewidth": 0,
             "ticks": ""
            },
            "colorscale": [
             [
              0,
              "#0d0887"
             ],
             [
              0.1111111111111111,
              "#46039f"
             ],
             [
              0.2222222222222222,
              "#7201a8"
             ],
             [
              0.3333333333333333,
              "#9c179e"
             ],
             [
              0.4444444444444444,
              "#bd3786"
             ],
             [
              0.5555555555555556,
              "#d8576b"
             ],
             [
              0.6666666666666666,
              "#ed7953"
             ],
             [
              0.7777777777777778,
              "#fb9f3a"
             ],
             [
              0.8888888888888888,
              "#fdca26"
             ],
             [
              1,
              "#f0f921"
             ]
            ],
            "type": "histogram2dcontour"
           }
          ],
          "mesh3d": [
           {
            "colorbar": {
             "outlinewidth": 0,
             "ticks": ""
            },
            "type": "mesh3d"
           }
          ],
          "parcoords": [
           {
            "line": {
             "colorbar": {
              "outlinewidth": 0,
              "ticks": ""
             }
            },
            "type": "parcoords"
           }
          ],
          "pie": [
           {
            "automargin": true,
            "type": "pie"
           }
          ],
          "scatter": [
           {
            "fillpattern": {
             "fillmode": "overlay",
             "size": 10,
             "solidity": 0.2
            },
            "type": "scatter"
           }
          ],
          "scatter3d": [
           {
            "line": {
             "colorbar": {
              "outlinewidth": 0,
              "ticks": ""
             }
            },
            "marker": {
             "colorbar": {
              "outlinewidth": 0,
              "ticks": ""
             }
            },
            "type": "scatter3d"
           }
          ],
          "scattercarpet": [
           {
            "marker": {
             "colorbar": {
              "outlinewidth": 0,
              "ticks": ""
             }
            },
            "type": "scattercarpet"
           }
          ],
          "scattergeo": [
           {
            "marker": {
             "colorbar": {
              "outlinewidth": 0,
              "ticks": ""
             }
            },
            "type": "scattergeo"
           }
          ],
          "scattergl": [
           {
            "marker": {
             "colorbar": {
              "outlinewidth": 0,
              "ticks": ""
             }
            },
            "type": "scattergl"
           }
          ],
          "scattermapbox": [
           {
            "marker": {
             "colorbar": {
              "outlinewidth": 0,
              "ticks": ""
             }
            },
            "type": "scattermapbox"
           }
          ],
          "scatterpolar": [
           {
            "marker": {
             "colorbar": {
              "outlinewidth": 0,
              "ticks": ""
             }
            },
            "type": "scatterpolar"
           }
          ],
          "scatterpolargl": [
           {
            "marker": {
             "colorbar": {
              "outlinewidth": 0,
              "ticks": ""
             }
            },
            "type": "scatterpolargl"
           }
          ],
          "scatterternary": [
           {
            "marker": {
             "colorbar": {
              "outlinewidth": 0,
              "ticks": ""
             }
            },
            "type": "scatterternary"
           }
          ],
          "surface": [
           {
            "colorbar": {
             "outlinewidth": 0,
             "ticks": ""
            },
            "colorscale": [
             [
              0,
              "#0d0887"
             ],
             [
              0.1111111111111111,
              "#46039f"
             ],
             [
              0.2222222222222222,
              "#7201a8"
             ],
             [
              0.3333333333333333,
              "#9c179e"
             ],
             [
              0.4444444444444444,
              "#bd3786"
             ],
             [
              0.5555555555555556,
              "#d8576b"
             ],
             [
              0.6666666666666666,
              "#ed7953"
             ],
             [
              0.7777777777777778,
              "#fb9f3a"
             ],
             [
              0.8888888888888888,
              "#fdca26"
             ],
             [
              1,
              "#f0f921"
             ]
            ],
            "type": "surface"
           }
          ],
          "table": [
           {
            "cells": {
             "fill": {
              "color": "#EBF0F8"
             },
             "line": {
              "color": "white"
             }
            },
            "header": {
             "fill": {
              "color": "#C8D4E3"
             },
             "line": {
              "color": "white"
             }
            },
            "type": "table"
           }
          ]
         },
         "layout": {
          "annotationdefaults": {
           "arrowcolor": "#2a3f5f",
           "arrowhead": 0,
           "arrowwidth": 1
          },
          "autotypenumbers": "strict",
          "coloraxis": {
           "colorbar": {
            "outlinewidth": 0,
            "ticks": ""
           }
          },
          "colorscale": {
           "diverging": [
            [
             0,
             "#8e0152"
            ],
            [
             0.1,
             "#c51b7d"
            ],
            [
             0.2,
             "#de77ae"
            ],
            [
             0.3,
             "#f1b6da"
            ],
            [
             0.4,
             "#fde0ef"
            ],
            [
             0.5,
             "#f7f7f7"
            ],
            [
             0.6,
             "#e6f5d0"
            ],
            [
             0.7,
             "#b8e186"
            ],
            [
             0.8,
             "#7fbc41"
            ],
            [
             0.9,
             "#4d9221"
            ],
            [
             1,
             "#276419"
            ]
           ],
           "sequential": [
            [
             0,
             "#0d0887"
            ],
            [
             0.1111111111111111,
             "#46039f"
            ],
            [
             0.2222222222222222,
             "#7201a8"
            ],
            [
             0.3333333333333333,
             "#9c179e"
            ],
            [
             0.4444444444444444,
             "#bd3786"
            ],
            [
             0.5555555555555556,
             "#d8576b"
            ],
            [
             0.6666666666666666,
             "#ed7953"
            ],
            [
             0.7777777777777778,
             "#fb9f3a"
            ],
            [
             0.8888888888888888,
             "#fdca26"
            ],
            [
             1,
             "#f0f921"
            ]
           ],
           "sequentialminus": [
            [
             0,
             "#0d0887"
            ],
            [
             0.1111111111111111,
             "#46039f"
            ],
            [
             0.2222222222222222,
             "#7201a8"
            ],
            [
             0.3333333333333333,
             "#9c179e"
            ],
            [
             0.4444444444444444,
             "#bd3786"
            ],
            [
             0.5555555555555556,
             "#d8576b"
            ],
            [
             0.6666666666666666,
             "#ed7953"
            ],
            [
             0.7777777777777778,
             "#fb9f3a"
            ],
            [
             0.8888888888888888,
             "#fdca26"
            ],
            [
             1,
             "#f0f921"
            ]
           ]
          },
          "colorway": [
           "#636efa",
           "#EF553B",
           "#00cc96",
           "#ab63fa",
           "#FFA15A",
           "#19d3f3",
           "#FF6692",
           "#B6E880",
           "#FF97FF",
           "#FECB52"
          ],
          "font": {
           "color": "#2a3f5f"
          },
          "geo": {
           "bgcolor": "white",
           "lakecolor": "white",
           "landcolor": "#E5ECF6",
           "showlakes": true,
           "showland": true,
           "subunitcolor": "white"
          },
          "hoverlabel": {
           "align": "left"
          },
          "hovermode": "closest",
          "mapbox": {
           "style": "light"
          },
          "paper_bgcolor": "white",
          "plot_bgcolor": "#E5ECF6",
          "polar": {
           "angularaxis": {
            "gridcolor": "white",
            "linecolor": "white",
            "ticks": ""
           },
           "bgcolor": "#E5ECF6",
           "radialaxis": {
            "gridcolor": "white",
            "linecolor": "white",
            "ticks": ""
           }
          },
          "scene": {
           "xaxis": {
            "backgroundcolor": "#E5ECF6",
            "gridcolor": "white",
            "gridwidth": 2,
            "linecolor": "white",
            "showbackground": true,
            "ticks": "",
            "zerolinecolor": "white"
           },
           "yaxis": {
            "backgroundcolor": "#E5ECF6",
            "gridcolor": "white",
            "gridwidth": 2,
            "linecolor": "white",
            "showbackground": true,
            "ticks": "",
            "zerolinecolor": "white"
           },
           "zaxis": {
            "backgroundcolor": "#E5ECF6",
            "gridcolor": "white",
            "gridwidth": 2,
            "linecolor": "white",
            "showbackground": true,
            "ticks": "",
            "zerolinecolor": "white"
           }
          },
          "shapedefaults": {
           "line": {
            "color": "#2a3f5f"
           }
          },
          "ternary": {
           "aaxis": {
            "gridcolor": "white",
            "linecolor": "white",
            "ticks": ""
           },
           "baxis": {
            "gridcolor": "white",
            "linecolor": "white",
            "ticks": ""
           },
           "bgcolor": "#E5ECF6",
           "caxis": {
            "gridcolor": "white",
            "linecolor": "white",
            "ticks": ""
           }
          },
          "title": {
           "x": 0.05
          },
          "xaxis": {
           "automargin": true,
           "gridcolor": "white",
           "linecolor": "white",
           "ticks": "",
           "title": {
            "standoff": 15
           },
           "zerolinecolor": "white",
           "zerolinewidth": 2
          },
          "yaxis": {
           "automargin": true,
           "gridcolor": "white",
           "linecolor": "white",
           "ticks": "",
           "title": {
            "standoff": 15
           },
           "zerolinecolor": "white",
           "zerolinewidth": 2
          }
         }
        },
        "title": {
         "text": "Weekdays [week - 3] timeline"
        },
        "xaxis": {
         "anchor": "y",
         "domain": [
          0,
          1
         ],
         "title": {
          "text": "Weekdays"
         }
        },
        "yaxis": {
         "anchor": "x",
         "domain": [
          0,
          1
         ],
         "title": {
          "text": "Message count"
         }
        }
       }
      }
     },
     "metadata": {},
     "output_type": "display_data"
    },
    {
     "data": {
      "application/vnd.plotly.v1+json": {
       "config": {
        "plotlyServerURL": "https://plot.ly"
       },
       "data": [
        {
         "hovertemplate": "Users=Avantika CR 7sem<br>Weekdays=%{x}<br>Message count=%{y}<extra></extra>",
         "legendgroup": "Avantika CR 7sem",
         "line": {
          "color": "#636efa",
          "dash": "solid"
         },
         "marker": {
          "symbol": "circle"
         },
         "mode": "markers+lines",
         "name": "Avantika CR 7sem",
         "orientation": "v",
         "showlegend": true,
         "type": "scatter",
         "x": [
          "Sunday",
          "Monday",
          "Tuesday",
          "Wednesday",
          "Thursday",
          "Friday",
          "Saturday"
         ],
         "xaxis": "x",
         "y": [
          1,
          5,
          0,
          1,
          13,
          3,
          7
         ],
         "yaxis": "y"
        },
        {
         "hovertemplate": "Users=+91 73511 44719<br>Weekdays=%{x}<br>Message count=%{y}<extra></extra>",
         "legendgroup": "+91 73511 44719",
         "line": {
          "color": "#EF553B",
          "dash": "solid"
         },
         "marker": {
          "symbol": "circle"
         },
         "mode": "markers+lines",
         "name": "+91 73511 44719",
         "orientation": "v",
         "showlegend": true,
         "type": "scatter",
         "x": [
          "Sunday",
          "Monday",
          "Tuesday",
          "Wednesday",
          "Thursday",
          "Friday",
          "Saturday"
         ],
         "xaxis": "x",
         "y": [
          3,
          0,
          0,
          3,
          0,
          4,
          0
         ],
         "yaxis": "y"
        },
        {
         "hovertemplate": "Users=Sourabh 7 Mentor<br>Weekdays=%{x}<br>Message count=%{y}<extra></extra>",
         "legendgroup": "Sourabh 7 Mentor",
         "line": {
          "color": "#00cc96",
          "dash": "solid"
         },
         "marker": {
          "symbol": "circle"
         },
         "mode": "markers+lines",
         "name": "Sourabh 7 Mentor",
         "orientation": "v",
         "showlegend": true,
         "type": "scatter",
         "x": [
          "Sunday",
          "Monday",
          "Tuesday",
          "Wednesday",
          "Thursday",
          "Friday",
          "Saturday"
         ],
         "xaxis": "x",
         "y": [
          0,
          10,
          0,
          6,
          7,
          6,
          3
         ],
         "yaxis": "y"
        },
        {
         "hovertemplate": "Users=+91 76784 09427<br>Weekdays=%{x}<br>Message count=%{y}<extra></extra>",
         "legendgroup": "+91 76784 09427",
         "line": {
          "color": "#ab63fa",
          "dash": "solid"
         },
         "marker": {
          "symbol": "circle"
         },
         "mode": "markers+lines",
         "name": "+91 76784 09427",
         "orientation": "v",
         "showlegend": true,
         "type": "scatter",
         "x": [
          "Sunday",
          "Monday",
          "Tuesday",
          "Wednesday",
          "Thursday",
          "Friday",
          "Saturday"
         ],
         "xaxis": "x",
         "y": [
          0,
          0,
          0,
          1,
          0,
          1,
          0
         ],
         "yaxis": "y"
        },
        {
         "hovertemplate": "Users=+91 95235 15421<br>Weekdays=%{x}<br>Message count=%{y}<extra></extra>",
         "legendgroup": "+91 95235 15421",
         "line": {
          "color": "#FFA15A",
          "dash": "solid"
         },
         "marker": {
          "symbol": "circle"
         },
         "mode": "markers+lines",
         "name": "+91 95235 15421",
         "orientation": "v",
         "showlegend": true,
         "type": "scatter",
         "x": [
          "Sunday",
          "Monday",
          "Tuesday",
          "Wednesday",
          "Thursday",
          "Friday",
          "Saturday"
         ],
         "xaxis": "x",
         "y": [
          0,
          0,
          0,
          2,
          0,
          0,
          0
         ],
         "yaxis": "y"
        },
        {
         "hovertemplate": "Users=+91 76888 20220<br>Weekdays=%{x}<br>Message count=%{y}<extra></extra>",
         "legendgroup": "+91 76888 20220",
         "line": {
          "color": "#19d3f3",
          "dash": "solid"
         },
         "marker": {
          "symbol": "circle"
         },
         "mode": "markers+lines",
         "name": "+91 76888 20220",
         "orientation": "v",
         "showlegend": true,
         "type": "scatter",
         "x": [
          "Sunday",
          "Monday",
          "Tuesday",
          "Wednesday",
          "Thursday",
          "Friday",
          "Saturday"
         ],
         "xaxis": "x",
         "y": [
          0,
          0,
          0,
          0,
          0,
          0,
          0
         ],
         "yaxis": "y"
        },
        {
         "hovertemplate": "Users=+91 83079 17347<br>Weekdays=%{x}<br>Message count=%{y}<extra></extra>",
         "legendgroup": "+91 83079 17347",
         "line": {
          "color": "#FF6692",
          "dash": "solid"
         },
         "marker": {
          "symbol": "circle"
         },
         "mode": "markers+lines",
         "name": "+91 83079 17347",
         "orientation": "v",
         "showlegend": true,
         "type": "scatter",
         "x": [
          "Sunday",
          "Monday",
          "Tuesday",
          "Wednesday",
          "Thursday",
          "Friday",
          "Saturday"
         ],
         "xaxis": "x",
         "y": [
          0,
          0,
          0,
          0,
          0,
          0,
          0
         ],
         "yaxis": "y"
        },
        {
         "hovertemplate": "Users=others<br>Weekdays=%{x}<br>Message count=%{y}<extra></extra>",
         "legendgroup": "others",
         "line": {
          "color": "#B6E880",
          "dash": "solid"
         },
         "marker": {
          "symbol": "circle"
         },
         "mode": "markers+lines",
         "name": "others",
         "orientation": "v",
         "showlegend": true,
         "type": "scatter",
         "x": [
          "Sunday",
          "Monday",
          "Tuesday",
          "Wednesday",
          "Thursday",
          "Friday",
          "Saturday"
         ],
         "xaxis": "x",
         "y": [
          0,
          1,
          0,
          7,
          2,
          2,
          0
         ],
         "yaxis": "y"
        }
       ],
       "layout": {
        "legend": {
         "title": {
          "text": "Users"
         },
         "tracegroupgap": 0
        },
        "template": {
         "data": {
          "bar": [
           {
            "error_x": {
             "color": "#2a3f5f"
            },
            "error_y": {
             "color": "#2a3f5f"
            },
            "marker": {
             "line": {
              "color": "#E5ECF6",
              "width": 0.5
             },
             "pattern": {
              "fillmode": "overlay",
              "size": 10,
              "solidity": 0.2
             }
            },
            "type": "bar"
           }
          ],
          "barpolar": [
           {
            "marker": {
             "line": {
              "color": "#E5ECF6",
              "width": 0.5
             },
             "pattern": {
              "fillmode": "overlay",
              "size": 10,
              "solidity": 0.2
             }
            },
            "type": "barpolar"
           }
          ],
          "carpet": [
           {
            "aaxis": {
             "endlinecolor": "#2a3f5f",
             "gridcolor": "white",
             "linecolor": "white",
             "minorgridcolor": "white",
             "startlinecolor": "#2a3f5f"
            },
            "baxis": {
             "endlinecolor": "#2a3f5f",
             "gridcolor": "white",
             "linecolor": "white",
             "minorgridcolor": "white",
             "startlinecolor": "#2a3f5f"
            },
            "type": "carpet"
           }
          ],
          "choropleth": [
           {
            "colorbar": {
             "outlinewidth": 0,
             "ticks": ""
            },
            "type": "choropleth"
           }
          ],
          "contour": [
           {
            "colorbar": {
             "outlinewidth": 0,
             "ticks": ""
            },
            "colorscale": [
             [
              0,
              "#0d0887"
             ],
             [
              0.1111111111111111,
              "#46039f"
             ],
             [
              0.2222222222222222,
              "#7201a8"
             ],
             [
              0.3333333333333333,
              "#9c179e"
             ],
             [
              0.4444444444444444,
              "#bd3786"
             ],
             [
              0.5555555555555556,
              "#d8576b"
             ],
             [
              0.6666666666666666,
              "#ed7953"
             ],
             [
              0.7777777777777778,
              "#fb9f3a"
             ],
             [
              0.8888888888888888,
              "#fdca26"
             ],
             [
              1,
              "#f0f921"
             ]
            ],
            "type": "contour"
           }
          ],
          "contourcarpet": [
           {
            "colorbar": {
             "outlinewidth": 0,
             "ticks": ""
            },
            "type": "contourcarpet"
           }
          ],
          "heatmap": [
           {
            "colorbar": {
             "outlinewidth": 0,
             "ticks": ""
            },
            "colorscale": [
             [
              0,
              "#0d0887"
             ],
             [
              0.1111111111111111,
              "#46039f"
             ],
             [
              0.2222222222222222,
              "#7201a8"
             ],
             [
              0.3333333333333333,
              "#9c179e"
             ],
             [
              0.4444444444444444,
              "#bd3786"
             ],
             [
              0.5555555555555556,
              "#d8576b"
             ],
             [
              0.6666666666666666,
              "#ed7953"
             ],
             [
              0.7777777777777778,
              "#fb9f3a"
             ],
             [
              0.8888888888888888,
              "#fdca26"
             ],
             [
              1,
              "#f0f921"
             ]
            ],
            "type": "heatmap"
           }
          ],
          "heatmapgl": [
           {
            "colorbar": {
             "outlinewidth": 0,
             "ticks": ""
            },
            "colorscale": [
             [
              0,
              "#0d0887"
             ],
             [
              0.1111111111111111,
              "#46039f"
             ],
             [
              0.2222222222222222,
              "#7201a8"
             ],
             [
              0.3333333333333333,
              "#9c179e"
             ],
             [
              0.4444444444444444,
              "#bd3786"
             ],
             [
              0.5555555555555556,
              "#d8576b"
             ],
             [
              0.6666666666666666,
              "#ed7953"
             ],
             [
              0.7777777777777778,
              "#fb9f3a"
             ],
             [
              0.8888888888888888,
              "#fdca26"
             ],
             [
              1,
              "#f0f921"
             ]
            ],
            "type": "heatmapgl"
           }
          ],
          "histogram": [
           {
            "marker": {
             "pattern": {
              "fillmode": "overlay",
              "size": 10,
              "solidity": 0.2
             }
            },
            "type": "histogram"
           }
          ],
          "histogram2d": [
           {
            "colorbar": {
             "outlinewidth": 0,
             "ticks": ""
            },
            "colorscale": [
             [
              0,
              "#0d0887"
             ],
             [
              0.1111111111111111,
              "#46039f"
             ],
             [
              0.2222222222222222,
              "#7201a8"
             ],
             [
              0.3333333333333333,
              "#9c179e"
             ],
             [
              0.4444444444444444,
              "#bd3786"
             ],
             [
              0.5555555555555556,
              "#d8576b"
             ],
             [
              0.6666666666666666,
              "#ed7953"
             ],
             [
              0.7777777777777778,
              "#fb9f3a"
             ],
             [
              0.8888888888888888,
              "#fdca26"
             ],
             [
              1,
              "#f0f921"
             ]
            ],
            "type": "histogram2d"
           }
          ],
          "histogram2dcontour": [
           {
            "colorbar": {
             "outlinewidth": 0,
             "ticks": ""
            },
            "colorscale": [
             [
              0,
              "#0d0887"
             ],
             [
              0.1111111111111111,
              "#46039f"
             ],
             [
              0.2222222222222222,
              "#7201a8"
             ],
             [
              0.3333333333333333,
              "#9c179e"
             ],
             [
              0.4444444444444444,
              "#bd3786"
             ],
             [
              0.5555555555555556,
              "#d8576b"
             ],
             [
              0.6666666666666666,
              "#ed7953"
             ],
             [
              0.7777777777777778,
              "#fb9f3a"
             ],
             [
              0.8888888888888888,
              "#fdca26"
             ],
             [
              1,
              "#f0f921"
             ]
            ],
            "type": "histogram2dcontour"
           }
          ],
          "mesh3d": [
           {
            "colorbar": {
             "outlinewidth": 0,
             "ticks": ""
            },
            "type": "mesh3d"
           }
          ],
          "parcoords": [
           {
            "line": {
             "colorbar": {
              "outlinewidth": 0,
              "ticks": ""
             }
            },
            "type": "parcoords"
           }
          ],
          "pie": [
           {
            "automargin": true,
            "type": "pie"
           }
          ],
          "scatter": [
           {
            "fillpattern": {
             "fillmode": "overlay",
             "size": 10,
             "solidity": 0.2
            },
            "type": "scatter"
           }
          ],
          "scatter3d": [
           {
            "line": {
             "colorbar": {
              "outlinewidth": 0,
              "ticks": ""
             }
            },
            "marker": {
             "colorbar": {
              "outlinewidth": 0,
              "ticks": ""
             }
            },
            "type": "scatter3d"
           }
          ],
          "scattercarpet": [
           {
            "marker": {
             "colorbar": {
              "outlinewidth": 0,
              "ticks": ""
             }
            },
            "type": "scattercarpet"
           }
          ],
          "scattergeo": [
           {
            "marker": {
             "colorbar": {
              "outlinewidth": 0,
              "ticks": ""
             }
            },
            "type": "scattergeo"
           }
          ],
          "scattergl": [
           {
            "marker": {
             "colorbar": {
              "outlinewidth": 0,
              "ticks": ""
             }
            },
            "type": "scattergl"
           }
          ],
          "scattermapbox": [
           {
            "marker": {
             "colorbar": {
              "outlinewidth": 0,
              "ticks": ""
             }
            },
            "type": "scattermapbox"
           }
          ],
          "scatterpolar": [
           {
            "marker": {
             "colorbar": {
              "outlinewidth": 0,
              "ticks": ""
             }
            },
            "type": "scatterpolar"
           }
          ],
          "scatterpolargl": [
           {
            "marker": {
             "colorbar": {
              "outlinewidth": 0,
              "ticks": ""
             }
            },
            "type": "scatterpolargl"
           }
          ],
          "scatterternary": [
           {
            "marker": {
             "colorbar": {
              "outlinewidth": 0,
              "ticks": ""
             }
            },
            "type": "scatterternary"
           }
          ],
          "surface": [
           {
            "colorbar": {
             "outlinewidth": 0,
             "ticks": ""
            },
            "colorscale": [
             [
              0,
              "#0d0887"
             ],
             [
              0.1111111111111111,
              "#46039f"
             ],
             [
              0.2222222222222222,
              "#7201a8"
             ],
             [
              0.3333333333333333,
              "#9c179e"
             ],
             [
              0.4444444444444444,
              "#bd3786"
             ],
             [
              0.5555555555555556,
              "#d8576b"
             ],
             [
              0.6666666666666666,
              "#ed7953"
             ],
             [
              0.7777777777777778,
              "#fb9f3a"
             ],
             [
              0.8888888888888888,
              "#fdca26"
             ],
             [
              1,
              "#f0f921"
             ]
            ],
            "type": "surface"
           }
          ],
          "table": [
           {
            "cells": {
             "fill": {
              "color": "#EBF0F8"
             },
             "line": {
              "color": "white"
             }
            },
            "header": {
             "fill": {
              "color": "#C8D4E3"
             },
             "line": {
              "color": "white"
             }
            },
            "type": "table"
           }
          ]
         },
         "layout": {
          "annotationdefaults": {
           "arrowcolor": "#2a3f5f",
           "arrowhead": 0,
           "arrowwidth": 1
          },
          "autotypenumbers": "strict",
          "coloraxis": {
           "colorbar": {
            "outlinewidth": 0,
            "ticks": ""
           }
          },
          "colorscale": {
           "diverging": [
            [
             0,
             "#8e0152"
            ],
            [
             0.1,
             "#c51b7d"
            ],
            [
             0.2,
             "#de77ae"
            ],
            [
             0.3,
             "#f1b6da"
            ],
            [
             0.4,
             "#fde0ef"
            ],
            [
             0.5,
             "#f7f7f7"
            ],
            [
             0.6,
             "#e6f5d0"
            ],
            [
             0.7,
             "#b8e186"
            ],
            [
             0.8,
             "#7fbc41"
            ],
            [
             0.9,
             "#4d9221"
            ],
            [
             1,
             "#276419"
            ]
           ],
           "sequential": [
            [
             0,
             "#0d0887"
            ],
            [
             0.1111111111111111,
             "#46039f"
            ],
            [
             0.2222222222222222,
             "#7201a8"
            ],
            [
             0.3333333333333333,
             "#9c179e"
            ],
            [
             0.4444444444444444,
             "#bd3786"
            ],
            [
             0.5555555555555556,
             "#d8576b"
            ],
            [
             0.6666666666666666,
             "#ed7953"
            ],
            [
             0.7777777777777778,
             "#fb9f3a"
            ],
            [
             0.8888888888888888,
             "#fdca26"
            ],
            [
             1,
             "#f0f921"
            ]
           ],
           "sequentialminus": [
            [
             0,
             "#0d0887"
            ],
            [
             0.1111111111111111,
             "#46039f"
            ],
            [
             0.2222222222222222,
             "#7201a8"
            ],
            [
             0.3333333333333333,
             "#9c179e"
            ],
            [
             0.4444444444444444,
             "#bd3786"
            ],
            [
             0.5555555555555556,
             "#d8576b"
            ],
            [
             0.6666666666666666,
             "#ed7953"
            ],
            [
             0.7777777777777778,
             "#fb9f3a"
            ],
            [
             0.8888888888888888,
             "#fdca26"
            ],
            [
             1,
             "#f0f921"
            ]
           ]
          },
          "colorway": [
           "#636efa",
           "#EF553B",
           "#00cc96",
           "#ab63fa",
           "#FFA15A",
           "#19d3f3",
           "#FF6692",
           "#B6E880",
           "#FF97FF",
           "#FECB52"
          ],
          "font": {
           "color": "#2a3f5f"
          },
          "geo": {
           "bgcolor": "white",
           "lakecolor": "white",
           "landcolor": "#E5ECF6",
           "showlakes": true,
           "showland": true,
           "subunitcolor": "white"
          },
          "hoverlabel": {
           "align": "left"
          },
          "hovermode": "closest",
          "mapbox": {
           "style": "light"
          },
          "paper_bgcolor": "white",
          "plot_bgcolor": "#E5ECF6",
          "polar": {
           "angularaxis": {
            "gridcolor": "white",
            "linecolor": "white",
            "ticks": ""
           },
           "bgcolor": "#E5ECF6",
           "radialaxis": {
            "gridcolor": "white",
            "linecolor": "white",
            "ticks": ""
           }
          },
          "scene": {
           "xaxis": {
            "backgroundcolor": "#E5ECF6",
            "gridcolor": "white",
            "gridwidth": 2,
            "linecolor": "white",
            "showbackground": true,
            "ticks": "",
            "zerolinecolor": "white"
           },
           "yaxis": {
            "backgroundcolor": "#E5ECF6",
            "gridcolor": "white",
            "gridwidth": 2,
            "linecolor": "white",
            "showbackground": true,
            "ticks": "",
            "zerolinecolor": "white"
           },
           "zaxis": {
            "backgroundcolor": "#E5ECF6",
            "gridcolor": "white",
            "gridwidth": 2,
            "linecolor": "white",
            "showbackground": true,
            "ticks": "",
            "zerolinecolor": "white"
           }
          },
          "shapedefaults": {
           "line": {
            "color": "#2a3f5f"
           }
          },
          "ternary": {
           "aaxis": {
            "gridcolor": "white",
            "linecolor": "white",
            "ticks": ""
           },
           "baxis": {
            "gridcolor": "white",
            "linecolor": "white",
            "ticks": ""
           },
           "bgcolor": "#E5ECF6",
           "caxis": {
            "gridcolor": "white",
            "linecolor": "white",
            "ticks": ""
           }
          },
          "title": {
           "x": 0.05
          },
          "xaxis": {
           "automargin": true,
           "gridcolor": "white",
           "linecolor": "white",
           "ticks": "",
           "title": {
            "standoff": 15
           },
           "zerolinecolor": "white",
           "zerolinewidth": 2
          },
          "yaxis": {
           "automargin": true,
           "gridcolor": "white",
           "linecolor": "white",
           "ticks": "",
           "title": {
            "standoff": 15
           },
           "zerolinecolor": "white",
           "zerolinewidth": 2
          }
         }
        },
        "title": {
         "text": "Weekdays [week - 4] timeline"
        },
        "xaxis": {
         "anchor": "y",
         "domain": [
          0,
          1
         ],
         "title": {
          "text": "Weekdays"
         }
        },
        "yaxis": {
         "anchor": "x",
         "domain": [
          0,
          1
         ],
         "title": {
          "text": "Message count"
         }
        }
       }
      }
     },
     "metadata": {},
     "output_type": "display_data"
    },
    {
     "data": {
      "application/vnd.plotly.v1+json": {
       "config": {
        "plotlyServerURL": "https://plot.ly"
       },
       "data": [
        {
         "hovertemplate": "Users=Avantika CR 7sem<br>Days=%{x}<br>Message count=%{y}<extra></extra>",
         "legendgroup": "Avantika CR 7sem",
         "line": {
          "color": "#636efa",
          "dash": "solid"
         },
         "marker": {
          "symbol": "circle"
         },
         "mode": "markers+lines",
         "name": "Avantika CR 7sem",
         "orientation": "v",
         "showlegend": true,
         "type": "scatter",
         "x": [
          "2023-08-01",
          "2023-08-02",
          "2023-08-03",
          "2023-08-04",
          "2023-08-05",
          "2023-08-06",
          "2023-08-07",
          "2023-08-08",
          "2023-08-09",
          "2023-08-10",
          "2023-08-11",
          "2023-08-12",
          "2023-08-13",
          "2023-08-14",
          "2023-08-15",
          "2023-08-16",
          "2023-08-17",
          "2023-08-18",
          "2023-08-19",
          "2023-08-20",
          "2023-08-21",
          "2023-08-22",
          "2023-08-23",
          "2023-08-24",
          "2023-08-25",
          "2023-08-26",
          "2023-08-27",
          "2023-08-28",
          "2023-08-29",
          "2023-08-30"
         ],
         "xaxis": "x",
         "y": [
          0,
          0,
          1,
          5,
          7,
          0,
          2,
          10,
          2,
          4,
          2,
          2,
          0,
          1,
          0,
          0,
          5,
          0,
          1,
          0,
          0,
          10,
          15,
          5,
          3,
          1,
          4,
          5,
          4,
          6
         ],
         "yaxis": "y"
        },
        {
         "hovertemplate": "Users=+91 73511 44719<br>Days=%{x}<br>Message count=%{y}<extra></extra>",
         "legendgroup": "+91 73511 44719",
         "line": {
          "color": "#EF553B",
          "dash": "solid"
         },
         "marker": {
          "symbol": "circle"
         },
         "mode": "markers+lines",
         "name": "+91 73511 44719",
         "orientation": "v",
         "showlegend": true,
         "type": "scatter",
         "x": [
          "2023-08-01",
          "2023-08-02",
          "2023-08-03",
          "2023-08-04",
          "2023-08-05",
          "2023-08-06",
          "2023-08-07",
          "2023-08-08",
          "2023-08-09",
          "2023-08-10",
          "2023-08-11",
          "2023-08-12",
          "2023-08-13",
          "2023-08-14",
          "2023-08-15",
          "2023-08-16",
          "2023-08-17",
          "2023-08-18",
          "2023-08-19",
          "2023-08-20",
          "2023-08-21",
          "2023-08-22",
          "2023-08-23",
          "2023-08-24",
          "2023-08-25",
          "2023-08-26",
          "2023-08-27",
          "2023-08-28",
          "2023-08-29",
          "2023-08-30"
         ],
         "xaxis": "x",
         "y": [
          0,
          2,
          1,
          2,
          11,
          0,
          8,
          10,
          0,
          0,
          2,
          4,
          0,
          1,
          2,
          1,
          0,
          1,
          8,
          0,
          1,
          2,
          0,
          4,
          3,
          0,
          0,
          3,
          1,
          0
         ],
         "yaxis": "y"
        },
        {
         "hovertemplate": "Users=Sourabh 7 Mentor<br>Days=%{x}<br>Message count=%{y}<extra></extra>",
         "legendgroup": "Sourabh 7 Mentor",
         "line": {
          "color": "#00cc96",
          "dash": "solid"
         },
         "marker": {
          "symbol": "circle"
         },
         "mode": "markers+lines",
         "name": "Sourabh 7 Mentor",
         "orientation": "v",
         "showlegend": true,
         "type": "scatter",
         "x": [
          "2023-08-01",
          "2023-08-02",
          "2023-08-03",
          "2023-08-04",
          "2023-08-05",
          "2023-08-06",
          "2023-08-07",
          "2023-08-08",
          "2023-08-09",
          "2023-08-10",
          "2023-08-11",
          "2023-08-12",
          "2023-08-13",
          "2023-08-14",
          "2023-08-15",
          "2023-08-16",
          "2023-08-17",
          "2023-08-18",
          "2023-08-19",
          "2023-08-20",
          "2023-08-21",
          "2023-08-22",
          "2023-08-23",
          "2023-08-24",
          "2023-08-25",
          "2023-08-26",
          "2023-08-27",
          "2023-08-28",
          "2023-08-29",
          "2023-08-30"
         ],
         "xaxis": "x",
         "y": [
          0,
          3,
          9,
          8,
          2,
          0,
          0,
          0,
          0,
          0,
          0,
          0,
          0,
          0,
          0,
          0,
          10,
          0,
          4,
          0,
          0,
          0,
          0,
          2,
          0,
          0,
          6,
          0,
          0,
          0
         ],
         "yaxis": "y"
        },
        {
         "hovertemplate": "Users=+91 76784 09427<br>Days=%{x}<br>Message count=%{y}<extra></extra>",
         "legendgroup": "+91 76784 09427",
         "line": {
          "color": "#ab63fa",
          "dash": "solid"
         },
         "marker": {
          "symbol": "circle"
         },
         "mode": "markers+lines",
         "name": "+91 76784 09427",
         "orientation": "v",
         "showlegend": true,
         "type": "scatter",
         "x": [
          "2023-08-01",
          "2023-08-02",
          "2023-08-03",
          "2023-08-04",
          "2023-08-05",
          "2023-08-06",
          "2023-08-07",
          "2023-08-08",
          "2023-08-09",
          "2023-08-10",
          "2023-08-11",
          "2023-08-12",
          "2023-08-13",
          "2023-08-14",
          "2023-08-15",
          "2023-08-16",
          "2023-08-17",
          "2023-08-18",
          "2023-08-19",
          "2023-08-20",
          "2023-08-21",
          "2023-08-22",
          "2023-08-23",
          "2023-08-24",
          "2023-08-25",
          "2023-08-26",
          "2023-08-27",
          "2023-08-28",
          "2023-08-29",
          "2023-08-30"
         ],
         "xaxis": "x",
         "y": [
          0,
          0,
          0,
          0,
          0,
          0,
          0,
          0,
          0,
          0,
          0,
          0,
          0,
          0,
          0,
          0,
          0,
          0,
          0,
          0,
          0,
          0,
          0,
          0,
          0,
          0,
          0,
          0,
          0,
          0
         ],
         "yaxis": "y"
        },
        {
         "hovertemplate": "Users=+91 95235 15421<br>Days=%{x}<br>Message count=%{y}<extra></extra>",
         "legendgroup": "+91 95235 15421",
         "line": {
          "color": "#FFA15A",
          "dash": "solid"
         },
         "marker": {
          "symbol": "circle"
         },
         "mode": "markers+lines",
         "name": "+91 95235 15421",
         "orientation": "v",
         "showlegend": true,
         "type": "scatter",
         "x": [
          "2023-08-01",
          "2023-08-02",
          "2023-08-03",
          "2023-08-04",
          "2023-08-05",
          "2023-08-06",
          "2023-08-07",
          "2023-08-08",
          "2023-08-09",
          "2023-08-10",
          "2023-08-11",
          "2023-08-12",
          "2023-08-13",
          "2023-08-14",
          "2023-08-15",
          "2023-08-16",
          "2023-08-17",
          "2023-08-18",
          "2023-08-19",
          "2023-08-20",
          "2023-08-21",
          "2023-08-22",
          "2023-08-23",
          "2023-08-24",
          "2023-08-25",
          "2023-08-26",
          "2023-08-27",
          "2023-08-28",
          "2023-08-29",
          "2023-08-30"
         ],
         "xaxis": "x",
         "y": [
          0,
          0,
          6,
          1,
          0,
          0,
          0,
          0,
          0,
          0,
          0,
          0,
          0,
          0,
          0,
          0,
          0,
          0,
          0,
          0,
          0,
          0,
          0,
          0,
          0,
          0,
          0,
          0,
          0,
          0
         ],
         "yaxis": "y"
        },
        {
         "hovertemplate": "Users=+91 76888 20220<br>Days=%{x}<br>Message count=%{y}<extra></extra>",
         "legendgroup": "+91 76888 20220",
         "line": {
          "color": "#19d3f3",
          "dash": "solid"
         },
         "marker": {
          "symbol": "circle"
         },
         "mode": "markers+lines",
         "name": "+91 76888 20220",
         "orientation": "v",
         "showlegend": true,
         "type": "scatter",
         "x": [
          "2023-08-01",
          "2023-08-02",
          "2023-08-03",
          "2023-08-04",
          "2023-08-05",
          "2023-08-06",
          "2023-08-07",
          "2023-08-08",
          "2023-08-09",
          "2023-08-10",
          "2023-08-11",
          "2023-08-12",
          "2023-08-13",
          "2023-08-14",
          "2023-08-15",
          "2023-08-16",
          "2023-08-17",
          "2023-08-18",
          "2023-08-19",
          "2023-08-20",
          "2023-08-21",
          "2023-08-22",
          "2023-08-23",
          "2023-08-24",
          "2023-08-25",
          "2023-08-26",
          "2023-08-27",
          "2023-08-28",
          "2023-08-29",
          "2023-08-30"
         ],
         "xaxis": "x",
         "y": [
          0,
          0,
          1,
          0,
          1,
          0,
          0,
          0,
          0,
          0,
          0,
          0,
          0,
          0,
          0,
          0,
          3,
          0,
          0,
          0,
          0,
          0,
          0,
          0,
          0,
          0,
          0,
          0,
          0,
          0
         ],
         "yaxis": "y"
        },
        {
         "hovertemplate": "Users=+91 83079 17347<br>Days=%{x}<br>Message count=%{y}<extra></extra>",
         "legendgroup": "+91 83079 17347",
         "line": {
          "color": "#FF6692",
          "dash": "solid"
         },
         "marker": {
          "symbol": "circle"
         },
         "mode": "markers+lines",
         "name": "+91 83079 17347",
         "orientation": "v",
         "showlegend": true,
         "type": "scatter",
         "x": [
          "2023-08-01",
          "2023-08-02",
          "2023-08-03",
          "2023-08-04",
          "2023-08-05",
          "2023-08-06",
          "2023-08-07",
          "2023-08-08",
          "2023-08-09",
          "2023-08-10",
          "2023-08-11",
          "2023-08-12",
          "2023-08-13",
          "2023-08-14",
          "2023-08-15",
          "2023-08-16",
          "2023-08-17",
          "2023-08-18",
          "2023-08-19",
          "2023-08-20",
          "2023-08-21",
          "2023-08-22",
          "2023-08-23",
          "2023-08-24",
          "2023-08-25",
          "2023-08-26",
          "2023-08-27",
          "2023-08-28",
          "2023-08-29",
          "2023-08-30"
         ],
         "xaxis": "x",
         "y": [
          0,
          0,
          0,
          2,
          1,
          0,
          0,
          0,
          0,
          1,
          3,
          0,
          0,
          0,
          0,
          0,
          0,
          0,
          0,
          0,
          0,
          0,
          0,
          0,
          0,
          0,
          0,
          0,
          0,
          0
         ],
         "yaxis": "y"
        },
        {
         "hovertemplate": "Users=others<br>Days=%{x}<br>Message count=%{y}<extra></extra>",
         "legendgroup": "others",
         "line": {
          "color": "#B6E880",
          "dash": "solid"
         },
         "marker": {
          "symbol": "circle"
         },
         "mode": "markers+lines",
         "name": "others",
         "orientation": "v",
         "showlegend": true,
         "type": "scatter",
         "x": [
          "2023-08-01",
          "2023-08-02",
          "2023-08-03",
          "2023-08-04",
          "2023-08-05",
          "2023-08-06",
          "2023-08-07",
          "2023-08-08",
          "2023-08-09",
          "2023-08-10",
          "2023-08-11",
          "2023-08-12",
          "2023-08-13",
          "2023-08-14",
          "2023-08-15",
          "2023-08-16",
          "2023-08-17",
          "2023-08-18",
          "2023-08-19",
          "2023-08-20",
          "2023-08-21",
          "2023-08-22",
          "2023-08-23",
          "2023-08-24",
          "2023-08-25",
          "2023-08-26",
          "2023-08-27",
          "2023-08-28",
          "2023-08-29",
          "2023-08-30"
         ],
         "xaxis": "x",
         "y": [
          0,
          6,
          66,
          16,
          24,
          0,
          2,
          7,
          1,
          2,
          6,
          5,
          0,
          0,
          0,
          1,
          21,
          0,
          0,
          2,
          0,
          1,
          8,
          4,
          7,
          0,
          0,
          1,
          2,
          11
         ],
         "yaxis": "y"
        }
       ],
       "layout": {
        "legend": {
         "title": {
          "text": "Users"
         },
         "tracegroupgap": 0
        },
        "template": {
         "data": {
          "bar": [
           {
            "error_x": {
             "color": "#2a3f5f"
            },
            "error_y": {
             "color": "#2a3f5f"
            },
            "marker": {
             "line": {
              "color": "#E5ECF6",
              "width": 0.5
             },
             "pattern": {
              "fillmode": "overlay",
              "size": 10,
              "solidity": 0.2
             }
            },
            "type": "bar"
           }
          ],
          "barpolar": [
           {
            "marker": {
             "line": {
              "color": "#E5ECF6",
              "width": 0.5
             },
             "pattern": {
              "fillmode": "overlay",
              "size": 10,
              "solidity": 0.2
             }
            },
            "type": "barpolar"
           }
          ],
          "carpet": [
           {
            "aaxis": {
             "endlinecolor": "#2a3f5f",
             "gridcolor": "white",
             "linecolor": "white",
             "minorgridcolor": "white",
             "startlinecolor": "#2a3f5f"
            },
            "baxis": {
             "endlinecolor": "#2a3f5f",
             "gridcolor": "white",
             "linecolor": "white",
             "minorgridcolor": "white",
             "startlinecolor": "#2a3f5f"
            },
            "type": "carpet"
           }
          ],
          "choropleth": [
           {
            "colorbar": {
             "outlinewidth": 0,
             "ticks": ""
            },
            "type": "choropleth"
           }
          ],
          "contour": [
           {
            "colorbar": {
             "outlinewidth": 0,
             "ticks": ""
            },
            "colorscale": [
             [
              0,
              "#0d0887"
             ],
             [
              0.1111111111111111,
              "#46039f"
             ],
             [
              0.2222222222222222,
              "#7201a8"
             ],
             [
              0.3333333333333333,
              "#9c179e"
             ],
             [
              0.4444444444444444,
              "#bd3786"
             ],
             [
              0.5555555555555556,
              "#d8576b"
             ],
             [
              0.6666666666666666,
              "#ed7953"
             ],
             [
              0.7777777777777778,
              "#fb9f3a"
             ],
             [
              0.8888888888888888,
              "#fdca26"
             ],
             [
              1,
              "#f0f921"
             ]
            ],
            "type": "contour"
           }
          ],
          "contourcarpet": [
           {
            "colorbar": {
             "outlinewidth": 0,
             "ticks": ""
            },
            "type": "contourcarpet"
           }
          ],
          "heatmap": [
           {
            "colorbar": {
             "outlinewidth": 0,
             "ticks": ""
            },
            "colorscale": [
             [
              0,
              "#0d0887"
             ],
             [
              0.1111111111111111,
              "#46039f"
             ],
             [
              0.2222222222222222,
              "#7201a8"
             ],
             [
              0.3333333333333333,
              "#9c179e"
             ],
             [
              0.4444444444444444,
              "#bd3786"
             ],
             [
              0.5555555555555556,
              "#d8576b"
             ],
             [
              0.6666666666666666,
              "#ed7953"
             ],
             [
              0.7777777777777778,
              "#fb9f3a"
             ],
             [
              0.8888888888888888,
              "#fdca26"
             ],
             [
              1,
              "#f0f921"
             ]
            ],
            "type": "heatmap"
           }
          ],
          "heatmapgl": [
           {
            "colorbar": {
             "outlinewidth": 0,
             "ticks": ""
            },
            "colorscale": [
             [
              0,
              "#0d0887"
             ],
             [
              0.1111111111111111,
              "#46039f"
             ],
             [
              0.2222222222222222,
              "#7201a8"
             ],
             [
              0.3333333333333333,
              "#9c179e"
             ],
             [
              0.4444444444444444,
              "#bd3786"
             ],
             [
              0.5555555555555556,
              "#d8576b"
             ],
             [
              0.6666666666666666,
              "#ed7953"
             ],
             [
              0.7777777777777778,
              "#fb9f3a"
             ],
             [
              0.8888888888888888,
              "#fdca26"
             ],
             [
              1,
              "#f0f921"
             ]
            ],
            "type": "heatmapgl"
           }
          ],
          "histogram": [
           {
            "marker": {
             "pattern": {
              "fillmode": "overlay",
              "size": 10,
              "solidity": 0.2
             }
            },
            "type": "histogram"
           }
          ],
          "histogram2d": [
           {
            "colorbar": {
             "outlinewidth": 0,
             "ticks": ""
            },
            "colorscale": [
             [
              0,
              "#0d0887"
             ],
             [
              0.1111111111111111,
              "#46039f"
             ],
             [
              0.2222222222222222,
              "#7201a8"
             ],
             [
              0.3333333333333333,
              "#9c179e"
             ],
             [
              0.4444444444444444,
              "#bd3786"
             ],
             [
              0.5555555555555556,
              "#d8576b"
             ],
             [
              0.6666666666666666,
              "#ed7953"
             ],
             [
              0.7777777777777778,
              "#fb9f3a"
             ],
             [
              0.8888888888888888,
              "#fdca26"
             ],
             [
              1,
              "#f0f921"
             ]
            ],
            "type": "histogram2d"
           }
          ],
          "histogram2dcontour": [
           {
            "colorbar": {
             "outlinewidth": 0,
             "ticks": ""
            },
            "colorscale": [
             [
              0,
              "#0d0887"
             ],
             [
              0.1111111111111111,
              "#46039f"
             ],
             [
              0.2222222222222222,
              "#7201a8"
             ],
             [
              0.3333333333333333,
              "#9c179e"
             ],
             [
              0.4444444444444444,
              "#bd3786"
             ],
             [
              0.5555555555555556,
              "#d8576b"
             ],
             [
              0.6666666666666666,
              "#ed7953"
             ],
             [
              0.7777777777777778,
              "#fb9f3a"
             ],
             [
              0.8888888888888888,
              "#fdca26"
             ],
             [
              1,
              "#f0f921"
             ]
            ],
            "type": "histogram2dcontour"
           }
          ],
          "mesh3d": [
           {
            "colorbar": {
             "outlinewidth": 0,
             "ticks": ""
            },
            "type": "mesh3d"
           }
          ],
          "parcoords": [
           {
            "line": {
             "colorbar": {
              "outlinewidth": 0,
              "ticks": ""
             }
            },
            "type": "parcoords"
           }
          ],
          "pie": [
           {
            "automargin": true,
            "type": "pie"
           }
          ],
          "scatter": [
           {
            "fillpattern": {
             "fillmode": "overlay",
             "size": 10,
             "solidity": 0.2
            },
            "type": "scatter"
           }
          ],
          "scatter3d": [
           {
            "line": {
             "colorbar": {
              "outlinewidth": 0,
              "ticks": ""
             }
            },
            "marker": {
             "colorbar": {
              "outlinewidth": 0,
              "ticks": ""
             }
            },
            "type": "scatter3d"
           }
          ],
          "scattercarpet": [
           {
            "marker": {
             "colorbar": {
              "outlinewidth": 0,
              "ticks": ""
             }
            },
            "type": "scattercarpet"
           }
          ],
          "scattergeo": [
           {
            "marker": {
             "colorbar": {
              "outlinewidth": 0,
              "ticks": ""
             }
            },
            "type": "scattergeo"
           }
          ],
          "scattergl": [
           {
            "marker": {
             "colorbar": {
              "outlinewidth": 0,
              "ticks": ""
             }
            },
            "type": "scattergl"
           }
          ],
          "scattermapbox": [
           {
            "marker": {
             "colorbar": {
              "outlinewidth": 0,
              "ticks": ""
             }
            },
            "type": "scattermapbox"
           }
          ],
          "scatterpolar": [
           {
            "marker": {
             "colorbar": {
              "outlinewidth": 0,
              "ticks": ""
             }
            },
            "type": "scatterpolar"
           }
          ],
          "scatterpolargl": [
           {
            "marker": {
             "colorbar": {
              "outlinewidth": 0,
              "ticks": ""
             }
            },
            "type": "scatterpolargl"
           }
          ],
          "scatterternary": [
           {
            "marker": {
             "colorbar": {
              "outlinewidth": 0,
              "ticks": ""
             }
            },
            "type": "scatterternary"
           }
          ],
          "surface": [
           {
            "colorbar": {
             "outlinewidth": 0,
             "ticks": ""
            },
            "colorscale": [
             [
              0,
              "#0d0887"
             ],
             [
              0.1111111111111111,
              "#46039f"
             ],
             [
              0.2222222222222222,
              "#7201a8"
             ],
             [
              0.3333333333333333,
              "#9c179e"
             ],
             [
              0.4444444444444444,
              "#bd3786"
             ],
             [
              0.5555555555555556,
              "#d8576b"
             ],
             [
              0.6666666666666666,
              "#ed7953"
             ],
             [
              0.7777777777777778,
              "#fb9f3a"
             ],
             [
              0.8888888888888888,
              "#fdca26"
             ],
             [
              1,
              "#f0f921"
             ]
            ],
            "type": "surface"
           }
          ],
          "table": [
           {
            "cells": {
             "fill": {
              "color": "#EBF0F8"
             },
             "line": {
              "color": "white"
             }
            },
            "header": {
             "fill": {
              "color": "#C8D4E3"
             },
             "line": {
              "color": "white"
             }
            },
            "type": "table"
           }
          ]
         },
         "layout": {
          "annotationdefaults": {
           "arrowcolor": "#2a3f5f",
           "arrowhead": 0,
           "arrowwidth": 1
          },
          "autotypenumbers": "strict",
          "coloraxis": {
           "colorbar": {
            "outlinewidth": 0,
            "ticks": ""
           }
          },
          "colorscale": {
           "diverging": [
            [
             0,
             "#8e0152"
            ],
            [
             0.1,
             "#c51b7d"
            ],
            [
             0.2,
             "#de77ae"
            ],
            [
             0.3,
             "#f1b6da"
            ],
            [
             0.4,
             "#fde0ef"
            ],
            [
             0.5,
             "#f7f7f7"
            ],
            [
             0.6,
             "#e6f5d0"
            ],
            [
             0.7,
             "#b8e186"
            ],
            [
             0.8,
             "#7fbc41"
            ],
            [
             0.9,
             "#4d9221"
            ],
            [
             1,
             "#276419"
            ]
           ],
           "sequential": [
            [
             0,
             "#0d0887"
            ],
            [
             0.1111111111111111,
             "#46039f"
            ],
            [
             0.2222222222222222,
             "#7201a8"
            ],
            [
             0.3333333333333333,
             "#9c179e"
            ],
            [
             0.4444444444444444,
             "#bd3786"
            ],
            [
             0.5555555555555556,
             "#d8576b"
            ],
            [
             0.6666666666666666,
             "#ed7953"
            ],
            [
             0.7777777777777778,
             "#fb9f3a"
            ],
            [
             0.8888888888888888,
             "#fdca26"
            ],
            [
             1,
             "#f0f921"
            ]
           ],
           "sequentialminus": [
            [
             0,
             "#0d0887"
            ],
            [
             0.1111111111111111,
             "#46039f"
            ],
            [
             0.2222222222222222,
             "#7201a8"
            ],
            [
             0.3333333333333333,
             "#9c179e"
            ],
            [
             0.4444444444444444,
             "#bd3786"
            ],
            [
             0.5555555555555556,
             "#d8576b"
            ],
            [
             0.6666666666666666,
             "#ed7953"
            ],
            [
             0.7777777777777778,
             "#fb9f3a"
            ],
            [
             0.8888888888888888,
             "#fdca26"
            ],
            [
             1,
             "#f0f921"
            ]
           ]
          },
          "colorway": [
           "#636efa",
           "#EF553B",
           "#00cc96",
           "#ab63fa",
           "#FFA15A",
           "#19d3f3",
           "#FF6692",
           "#B6E880",
           "#FF97FF",
           "#FECB52"
          ],
          "font": {
           "color": "#2a3f5f"
          },
          "geo": {
           "bgcolor": "white",
           "lakecolor": "white",
           "landcolor": "#E5ECF6",
           "showlakes": true,
           "showland": true,
           "subunitcolor": "white"
          },
          "hoverlabel": {
           "align": "left"
          },
          "hovermode": "closest",
          "mapbox": {
           "style": "light"
          },
          "paper_bgcolor": "white",
          "plot_bgcolor": "#E5ECF6",
          "polar": {
           "angularaxis": {
            "gridcolor": "white",
            "linecolor": "white",
            "ticks": ""
           },
           "bgcolor": "#E5ECF6",
           "radialaxis": {
            "gridcolor": "white",
            "linecolor": "white",
            "ticks": ""
           }
          },
          "scene": {
           "xaxis": {
            "backgroundcolor": "#E5ECF6",
            "gridcolor": "white",
            "gridwidth": 2,
            "linecolor": "white",
            "showbackground": true,
            "ticks": "",
            "zerolinecolor": "white"
           },
           "yaxis": {
            "backgroundcolor": "#E5ECF6",
            "gridcolor": "white",
            "gridwidth": 2,
            "linecolor": "white",
            "showbackground": true,
            "ticks": "",
            "zerolinecolor": "white"
           },
           "zaxis": {
            "backgroundcolor": "#E5ECF6",
            "gridcolor": "white",
            "gridwidth": 2,
            "linecolor": "white",
            "showbackground": true,
            "ticks": "",
            "zerolinecolor": "white"
           }
          },
          "shapedefaults": {
           "line": {
            "color": "#2a3f5f"
           }
          },
          "ternary": {
           "aaxis": {
            "gridcolor": "white",
            "linecolor": "white",
            "ticks": ""
           },
           "baxis": {
            "gridcolor": "white",
            "linecolor": "white",
            "ticks": ""
           },
           "bgcolor": "#E5ECF6",
           "caxis": {
            "gridcolor": "white",
            "linecolor": "white",
            "ticks": ""
           }
          },
          "title": {
           "x": 0.05
          },
          "xaxis": {
           "automargin": true,
           "gridcolor": "white",
           "linecolor": "white",
           "ticks": "",
           "title": {
            "standoff": 15
           },
           "zerolinecolor": "white",
           "zerolinewidth": 2
          },
          "yaxis": {
           "automargin": true,
           "gridcolor": "white",
           "linecolor": "white",
           "ticks": "",
           "title": {
            "standoff": 15
           },
           "zerolinecolor": "white",
           "zerolinewidth": 2
          }
         }
        },
        "title": {
         "text": "Days timeline"
        },
        "xaxis": {
         "anchor": "y",
         "domain": [
          0,
          1
         ],
         "rangeslider": {
          "visible": true
         },
         "title": {
          "text": "Days"
         }
        },
        "yaxis": {
         "anchor": "x",
         "domain": [
          0,
          1
         ],
         "title": {
          "text": "Message count"
         }
        }
       }
      }
     },
     "metadata": {},
     "output_type": "display_data"
    },
    {
     "data": {
      "application/vnd.plotly.v1+json": {
       "config": {
        "plotlyServerURL": "https://plot.ly"
       },
       "data": [
        {
         "hovertemplate": "Users=Avantika CR 7sem<br>Hours=%{x}<br>Message count=%{y}<extra></extra>",
         "legendgroup": "Avantika CR 7sem",
         "line": {
          "color": "#636efa",
          "dash": "solid"
         },
         "marker": {
          "symbol": "circle"
         },
         "mode": "markers+lines",
         "name": "Avantika CR 7sem",
         "orientation": "v",
         "showlegend": true,
         "type": "scatter",
         "x": [
          "2023-08-03T10:00:00",
          "2023-08-03T11:00:00",
          "2023-08-03T12:00:00",
          "2023-08-03T13:00:00",
          "2023-08-03T14:00:00",
          "2023-08-03T15:00:00",
          "2023-08-03T16:00:00",
          "2023-08-03T17:00:00",
          "2023-08-03T18:00:00",
          "2023-08-03T19:00:00"
         ],
         "xaxis": "x",
         "y": [
          0,
          0,
          0,
          0,
          0,
          0,
          0,
          0,
          0,
          0
         ],
         "yaxis": "y"
        },
        {
         "hovertemplate": "Users=+91 73511 44719<br>Hours=%{x}<br>Message count=%{y}<extra></extra>",
         "legendgroup": "+91 73511 44719",
         "line": {
          "color": "#EF553B",
          "dash": "solid"
         },
         "marker": {
          "symbol": "circle"
         },
         "mode": "markers+lines",
         "name": "+91 73511 44719",
         "orientation": "v",
         "showlegend": true,
         "type": "scatter",
         "x": [
          "2023-08-03T10:00:00",
          "2023-08-03T11:00:00",
          "2023-08-03T12:00:00",
          "2023-08-03T13:00:00",
          "2023-08-03T14:00:00",
          "2023-08-03T15:00:00",
          "2023-08-03T16:00:00",
          "2023-08-03T17:00:00",
          "2023-08-03T18:00:00",
          "2023-08-03T19:00:00"
         ],
         "xaxis": "x",
         "y": [
          0,
          1,
          0,
          0,
          0,
          0,
          0,
          0,
          0,
          0
         ],
         "yaxis": "y"
        },
        {
         "hovertemplate": "Users=Sourabh 7 Mentor<br>Hours=%{x}<br>Message count=%{y}<extra></extra>",
         "legendgroup": "Sourabh 7 Mentor",
         "line": {
          "color": "#00cc96",
          "dash": "solid"
         },
         "marker": {
          "symbol": "circle"
         },
         "mode": "markers+lines",
         "name": "Sourabh 7 Mentor",
         "orientation": "v",
         "showlegend": true,
         "type": "scatter",
         "x": [
          "2023-08-03T10:00:00",
          "2023-08-03T11:00:00",
          "2023-08-03T12:00:00",
          "2023-08-03T13:00:00",
          "2023-08-03T14:00:00",
          "2023-08-03T15:00:00",
          "2023-08-03T16:00:00",
          "2023-08-03T17:00:00",
          "2023-08-03T18:00:00",
          "2023-08-03T19:00:00"
         ],
         "xaxis": "x",
         "y": [
          0,
          2,
          1,
          0,
          0,
          0,
          0,
          0,
          0,
          0
         ],
         "yaxis": "y"
        },
        {
         "hovertemplate": "Users=+91 76784 09427<br>Hours=%{x}<br>Message count=%{y}<extra></extra>",
         "legendgroup": "+91 76784 09427",
         "line": {
          "color": "#ab63fa",
          "dash": "solid"
         },
         "marker": {
          "symbol": "circle"
         },
         "mode": "markers+lines",
         "name": "+91 76784 09427",
         "orientation": "v",
         "showlegend": true,
         "type": "scatter",
         "x": [
          "2023-08-03T10:00:00",
          "2023-08-03T11:00:00",
          "2023-08-03T12:00:00",
          "2023-08-03T13:00:00",
          "2023-08-03T14:00:00",
          "2023-08-03T15:00:00",
          "2023-08-03T16:00:00",
          "2023-08-03T17:00:00",
          "2023-08-03T18:00:00",
          "2023-08-03T19:00:00"
         ],
         "xaxis": "x",
         "y": [
          0,
          0,
          0,
          0,
          0,
          0,
          0,
          0,
          0,
          0
         ],
         "yaxis": "y"
        },
        {
         "hovertemplate": "Users=+91 95235 15421<br>Hours=%{x}<br>Message count=%{y}<extra></extra>",
         "legendgroup": "+91 95235 15421",
         "line": {
          "color": "#FFA15A",
          "dash": "solid"
         },
         "marker": {
          "symbol": "circle"
         },
         "mode": "markers+lines",
         "name": "+91 95235 15421",
         "orientation": "v",
         "showlegend": true,
         "type": "scatter",
         "x": [
          "2023-08-03T10:00:00",
          "2023-08-03T11:00:00",
          "2023-08-03T12:00:00",
          "2023-08-03T13:00:00",
          "2023-08-03T14:00:00",
          "2023-08-03T15:00:00",
          "2023-08-03T16:00:00",
          "2023-08-03T17:00:00",
          "2023-08-03T18:00:00",
          "2023-08-03T19:00:00"
         ],
         "xaxis": "x",
         "y": [
          2,
          0,
          2,
          0,
          0,
          0,
          0,
          0,
          0,
          0
         ],
         "yaxis": "y"
        },
        {
         "hovertemplate": "Users=+91 76888 20220<br>Hours=%{x}<br>Message count=%{y}<extra></extra>",
         "legendgroup": "+91 76888 20220",
         "line": {
          "color": "#19d3f3",
          "dash": "solid"
         },
         "marker": {
          "symbol": "circle"
         },
         "mode": "markers+lines",
         "name": "+91 76888 20220",
         "orientation": "v",
         "showlegend": true,
         "type": "scatter",
         "x": [
          "2023-08-03T10:00:00",
          "2023-08-03T11:00:00",
          "2023-08-03T12:00:00",
          "2023-08-03T13:00:00",
          "2023-08-03T14:00:00",
          "2023-08-03T15:00:00",
          "2023-08-03T16:00:00",
          "2023-08-03T17:00:00",
          "2023-08-03T18:00:00",
          "2023-08-03T19:00:00"
         ],
         "xaxis": "x",
         "y": [
          0,
          1,
          0,
          0,
          0,
          0,
          0,
          0,
          0,
          0
         ],
         "yaxis": "y"
        },
        {
         "hovertemplate": "Users=+91 83079 17347<br>Hours=%{x}<br>Message count=%{y}<extra></extra>",
         "legendgroup": "+91 83079 17347",
         "line": {
          "color": "#FF6692",
          "dash": "solid"
         },
         "marker": {
          "symbol": "circle"
         },
         "mode": "markers+lines",
         "name": "+91 83079 17347",
         "orientation": "v",
         "showlegend": true,
         "type": "scatter",
         "x": [
          "2023-08-03T10:00:00",
          "2023-08-03T11:00:00",
          "2023-08-03T12:00:00",
          "2023-08-03T13:00:00",
          "2023-08-03T14:00:00",
          "2023-08-03T15:00:00",
          "2023-08-03T16:00:00",
          "2023-08-03T17:00:00",
          "2023-08-03T18:00:00",
          "2023-08-03T19:00:00"
         ],
         "xaxis": "x",
         "y": [
          0,
          0,
          0,
          0,
          0,
          0,
          0,
          0,
          0,
          0
         ],
         "yaxis": "y"
        },
        {
         "hovertemplate": "Users=others<br>Hours=%{x}<br>Message count=%{y}<extra></extra>",
         "legendgroup": "others",
         "line": {
          "color": "#B6E880",
          "dash": "solid"
         },
         "marker": {
          "symbol": "circle"
         },
         "mode": "markers+lines",
         "name": "others",
         "orientation": "v",
         "showlegend": true,
         "type": "scatter",
         "x": [
          "2023-08-03T10:00:00",
          "2023-08-03T11:00:00",
          "2023-08-03T12:00:00",
          "2023-08-03T13:00:00",
          "2023-08-03T14:00:00",
          "2023-08-03T15:00:00",
          "2023-08-03T16:00:00",
          "2023-08-03T17:00:00",
          "2023-08-03T18:00:00",
          "2023-08-03T19:00:00"
         ],
         "xaxis": "x",
         "y": [
          4,
          19,
          11,
          0,
          0,
          0,
          0,
          0,
          0,
          0
         ],
         "yaxis": "y"
        }
       ],
       "layout": {
        "legend": {
         "title": {
          "text": "Users"
         },
         "tracegroupgap": 0
        },
        "template": {
         "data": {
          "bar": [
           {
            "error_x": {
             "color": "#2a3f5f"
            },
            "error_y": {
             "color": "#2a3f5f"
            },
            "marker": {
             "line": {
              "color": "#E5ECF6",
              "width": 0.5
             },
             "pattern": {
              "fillmode": "overlay",
              "size": 10,
              "solidity": 0.2
             }
            },
            "type": "bar"
           }
          ],
          "barpolar": [
           {
            "marker": {
             "line": {
              "color": "#E5ECF6",
              "width": 0.5
             },
             "pattern": {
              "fillmode": "overlay",
              "size": 10,
              "solidity": 0.2
             }
            },
            "type": "barpolar"
           }
          ],
          "carpet": [
           {
            "aaxis": {
             "endlinecolor": "#2a3f5f",
             "gridcolor": "white",
             "linecolor": "white",
             "minorgridcolor": "white",
             "startlinecolor": "#2a3f5f"
            },
            "baxis": {
             "endlinecolor": "#2a3f5f",
             "gridcolor": "white",
             "linecolor": "white",
             "minorgridcolor": "white",
             "startlinecolor": "#2a3f5f"
            },
            "type": "carpet"
           }
          ],
          "choropleth": [
           {
            "colorbar": {
             "outlinewidth": 0,
             "ticks": ""
            },
            "type": "choropleth"
           }
          ],
          "contour": [
           {
            "colorbar": {
             "outlinewidth": 0,
             "ticks": ""
            },
            "colorscale": [
             [
              0,
              "#0d0887"
             ],
             [
              0.1111111111111111,
              "#46039f"
             ],
             [
              0.2222222222222222,
              "#7201a8"
             ],
             [
              0.3333333333333333,
              "#9c179e"
             ],
             [
              0.4444444444444444,
              "#bd3786"
             ],
             [
              0.5555555555555556,
              "#d8576b"
             ],
             [
              0.6666666666666666,
              "#ed7953"
             ],
             [
              0.7777777777777778,
              "#fb9f3a"
             ],
             [
              0.8888888888888888,
              "#fdca26"
             ],
             [
              1,
              "#f0f921"
             ]
            ],
            "type": "contour"
           }
          ],
          "contourcarpet": [
           {
            "colorbar": {
             "outlinewidth": 0,
             "ticks": ""
            },
            "type": "contourcarpet"
           }
          ],
          "heatmap": [
           {
            "colorbar": {
             "outlinewidth": 0,
             "ticks": ""
            },
            "colorscale": [
             [
              0,
              "#0d0887"
             ],
             [
              0.1111111111111111,
              "#46039f"
             ],
             [
              0.2222222222222222,
              "#7201a8"
             ],
             [
              0.3333333333333333,
              "#9c179e"
             ],
             [
              0.4444444444444444,
              "#bd3786"
             ],
             [
              0.5555555555555556,
              "#d8576b"
             ],
             [
              0.6666666666666666,
              "#ed7953"
             ],
             [
              0.7777777777777778,
              "#fb9f3a"
             ],
             [
              0.8888888888888888,
              "#fdca26"
             ],
             [
              1,
              "#f0f921"
             ]
            ],
            "type": "heatmap"
           }
          ],
          "heatmapgl": [
           {
            "colorbar": {
             "outlinewidth": 0,
             "ticks": ""
            },
            "colorscale": [
             [
              0,
              "#0d0887"
             ],
             [
              0.1111111111111111,
              "#46039f"
             ],
             [
              0.2222222222222222,
              "#7201a8"
             ],
             [
              0.3333333333333333,
              "#9c179e"
             ],
             [
              0.4444444444444444,
              "#bd3786"
             ],
             [
              0.5555555555555556,
              "#d8576b"
             ],
             [
              0.6666666666666666,
              "#ed7953"
             ],
             [
              0.7777777777777778,
              "#fb9f3a"
             ],
             [
              0.8888888888888888,
              "#fdca26"
             ],
             [
              1,
              "#f0f921"
             ]
            ],
            "type": "heatmapgl"
           }
          ],
          "histogram": [
           {
            "marker": {
             "pattern": {
              "fillmode": "overlay",
              "size": 10,
              "solidity": 0.2
             }
            },
            "type": "histogram"
           }
          ],
          "histogram2d": [
           {
            "colorbar": {
             "outlinewidth": 0,
             "ticks": ""
            },
            "colorscale": [
             [
              0,
              "#0d0887"
             ],
             [
              0.1111111111111111,
              "#46039f"
             ],
             [
              0.2222222222222222,
              "#7201a8"
             ],
             [
              0.3333333333333333,
              "#9c179e"
             ],
             [
              0.4444444444444444,
              "#bd3786"
             ],
             [
              0.5555555555555556,
              "#d8576b"
             ],
             [
              0.6666666666666666,
              "#ed7953"
             ],
             [
              0.7777777777777778,
              "#fb9f3a"
             ],
             [
              0.8888888888888888,
              "#fdca26"
             ],
             [
              1,
              "#f0f921"
             ]
            ],
            "type": "histogram2d"
           }
          ],
          "histogram2dcontour": [
           {
            "colorbar": {
             "outlinewidth": 0,
             "ticks": ""
            },
            "colorscale": [
             [
              0,
              "#0d0887"
             ],
             [
              0.1111111111111111,
              "#46039f"
             ],
             [
              0.2222222222222222,
              "#7201a8"
             ],
             [
              0.3333333333333333,
              "#9c179e"
             ],
             [
              0.4444444444444444,
              "#bd3786"
             ],
             [
              0.5555555555555556,
              "#d8576b"
             ],
             [
              0.6666666666666666,
              "#ed7953"
             ],
             [
              0.7777777777777778,
              "#fb9f3a"
             ],
             [
              0.8888888888888888,
              "#fdca26"
             ],
             [
              1,
              "#f0f921"
             ]
            ],
            "type": "histogram2dcontour"
           }
          ],
          "mesh3d": [
           {
            "colorbar": {
             "outlinewidth": 0,
             "ticks": ""
            },
            "type": "mesh3d"
           }
          ],
          "parcoords": [
           {
            "line": {
             "colorbar": {
              "outlinewidth": 0,
              "ticks": ""
             }
            },
            "type": "parcoords"
           }
          ],
          "pie": [
           {
            "automargin": true,
            "type": "pie"
           }
          ],
          "scatter": [
           {
            "fillpattern": {
             "fillmode": "overlay",
             "size": 10,
             "solidity": 0.2
            },
            "type": "scatter"
           }
          ],
          "scatter3d": [
           {
            "line": {
             "colorbar": {
              "outlinewidth": 0,
              "ticks": ""
             }
            },
            "marker": {
             "colorbar": {
              "outlinewidth": 0,
              "ticks": ""
             }
            },
            "type": "scatter3d"
           }
          ],
          "scattercarpet": [
           {
            "marker": {
             "colorbar": {
              "outlinewidth": 0,
              "ticks": ""
             }
            },
            "type": "scattercarpet"
           }
          ],
          "scattergeo": [
           {
            "marker": {
             "colorbar": {
              "outlinewidth": 0,
              "ticks": ""
             }
            },
            "type": "scattergeo"
           }
          ],
          "scattergl": [
           {
            "marker": {
             "colorbar": {
              "outlinewidth": 0,
              "ticks": ""
             }
            },
            "type": "scattergl"
           }
          ],
          "scattermapbox": [
           {
            "marker": {
             "colorbar": {
              "outlinewidth": 0,
              "ticks": ""
             }
            },
            "type": "scattermapbox"
           }
          ],
          "scatterpolar": [
           {
            "marker": {
             "colorbar": {
              "outlinewidth": 0,
              "ticks": ""
             }
            },
            "type": "scatterpolar"
           }
          ],
          "scatterpolargl": [
           {
            "marker": {
             "colorbar": {
              "outlinewidth": 0,
              "ticks": ""
             }
            },
            "type": "scatterpolargl"
           }
          ],
          "scatterternary": [
           {
            "marker": {
             "colorbar": {
              "outlinewidth": 0,
              "ticks": ""
             }
            },
            "type": "scatterternary"
           }
          ],
          "surface": [
           {
            "colorbar": {
             "outlinewidth": 0,
             "ticks": ""
            },
            "colorscale": [
             [
              0,
              "#0d0887"
             ],
             [
              0.1111111111111111,
              "#46039f"
             ],
             [
              0.2222222222222222,
              "#7201a8"
             ],
             [
              0.3333333333333333,
              "#9c179e"
             ],
             [
              0.4444444444444444,
              "#bd3786"
             ],
             [
              0.5555555555555556,
              "#d8576b"
             ],
             [
              0.6666666666666666,
              "#ed7953"
             ],
             [
              0.7777777777777778,
              "#fb9f3a"
             ],
             [
              0.8888888888888888,
              "#fdca26"
             ],
             [
              1,
              "#f0f921"
             ]
            ],
            "type": "surface"
           }
          ],
          "table": [
           {
            "cells": {
             "fill": {
              "color": "#EBF0F8"
             },
             "line": {
              "color": "white"
             }
            },
            "header": {
             "fill": {
              "color": "#C8D4E3"
             },
             "line": {
              "color": "white"
             }
            },
            "type": "table"
           }
          ]
         },
         "layout": {
          "annotationdefaults": {
           "arrowcolor": "#2a3f5f",
           "arrowhead": 0,
           "arrowwidth": 1
          },
          "autotypenumbers": "strict",
          "coloraxis": {
           "colorbar": {
            "outlinewidth": 0,
            "ticks": ""
           }
          },
          "colorscale": {
           "diverging": [
            [
             0,
             "#8e0152"
            ],
            [
             0.1,
             "#c51b7d"
            ],
            [
             0.2,
             "#de77ae"
            ],
            [
             0.3,
             "#f1b6da"
            ],
            [
             0.4,
             "#fde0ef"
            ],
            [
             0.5,
             "#f7f7f7"
            ],
            [
             0.6,
             "#e6f5d0"
            ],
            [
             0.7,
             "#b8e186"
            ],
            [
             0.8,
             "#7fbc41"
            ],
            [
             0.9,
             "#4d9221"
            ],
            [
             1,
             "#276419"
            ]
           ],
           "sequential": [
            [
             0,
             "#0d0887"
            ],
            [
             0.1111111111111111,
             "#46039f"
            ],
            [
             0.2222222222222222,
             "#7201a8"
            ],
            [
             0.3333333333333333,
             "#9c179e"
            ],
            [
             0.4444444444444444,
             "#bd3786"
            ],
            [
             0.5555555555555556,
             "#d8576b"
            ],
            [
             0.6666666666666666,
             "#ed7953"
            ],
            [
             0.7777777777777778,
             "#fb9f3a"
            ],
            [
             0.8888888888888888,
             "#fdca26"
            ],
            [
             1,
             "#f0f921"
            ]
           ],
           "sequentialminus": [
            [
             0,
             "#0d0887"
            ],
            [
             0.1111111111111111,
             "#46039f"
            ],
            [
             0.2222222222222222,
             "#7201a8"
            ],
            [
             0.3333333333333333,
             "#9c179e"
            ],
            [
             0.4444444444444444,
             "#bd3786"
            ],
            [
             0.5555555555555556,
             "#d8576b"
            ],
            [
             0.6666666666666666,
             "#ed7953"
            ],
            [
             0.7777777777777778,
             "#fb9f3a"
            ],
            [
             0.8888888888888888,
             "#fdca26"
            ],
            [
             1,
             "#f0f921"
            ]
           ]
          },
          "colorway": [
           "#636efa",
           "#EF553B",
           "#00cc96",
           "#ab63fa",
           "#FFA15A",
           "#19d3f3",
           "#FF6692",
           "#B6E880",
           "#FF97FF",
           "#FECB52"
          ],
          "font": {
           "color": "#2a3f5f"
          },
          "geo": {
           "bgcolor": "white",
           "lakecolor": "white",
           "landcolor": "#E5ECF6",
           "showlakes": true,
           "showland": true,
           "subunitcolor": "white"
          },
          "hoverlabel": {
           "align": "left"
          },
          "hovermode": "closest",
          "mapbox": {
           "style": "light"
          },
          "paper_bgcolor": "white",
          "plot_bgcolor": "#E5ECF6",
          "polar": {
           "angularaxis": {
            "gridcolor": "white",
            "linecolor": "white",
            "ticks": ""
           },
           "bgcolor": "#E5ECF6",
           "radialaxis": {
            "gridcolor": "white",
            "linecolor": "white",
            "ticks": ""
           }
          },
          "scene": {
           "xaxis": {
            "backgroundcolor": "#E5ECF6",
            "gridcolor": "white",
            "gridwidth": 2,
            "linecolor": "white",
            "showbackground": true,
            "ticks": "",
            "zerolinecolor": "white"
           },
           "yaxis": {
            "backgroundcolor": "#E5ECF6",
            "gridcolor": "white",
            "gridwidth": 2,
            "linecolor": "white",
            "showbackground": true,
            "ticks": "",
            "zerolinecolor": "white"
           },
           "zaxis": {
            "backgroundcolor": "#E5ECF6",
            "gridcolor": "white",
            "gridwidth": 2,
            "linecolor": "white",
            "showbackground": true,
            "ticks": "",
            "zerolinecolor": "white"
           }
          },
          "shapedefaults": {
           "line": {
            "color": "#2a3f5f"
           }
          },
          "ternary": {
           "aaxis": {
            "gridcolor": "white",
            "linecolor": "white",
            "ticks": ""
           },
           "baxis": {
            "gridcolor": "white",
            "linecolor": "white",
            "ticks": ""
           },
           "bgcolor": "#E5ECF6",
           "caxis": {
            "gridcolor": "white",
            "linecolor": "white",
            "ticks": ""
           }
          },
          "title": {
           "x": 0.05
          },
          "xaxis": {
           "automargin": true,
           "gridcolor": "white",
           "linecolor": "white",
           "ticks": "",
           "title": {
            "standoff": 15
           },
           "zerolinecolor": "white",
           "zerolinewidth": 2
          },
          "yaxis": {
           "automargin": true,
           "gridcolor": "white",
           "linecolor": "white",
           "ticks": "",
           "title": {
            "standoff": 15
           },
           "zerolinecolor": "white",
           "zerolinewidth": 2
          }
         }
        },
        "title": {
         "text": "Hours timeline"
        },
        "xaxis": {
         "anchor": "y",
         "domain": [
          0,
          1
         ],
         "rangeslider": {
          "visible": true
         },
         "title": {
          "text": "Hours"
         }
        },
        "yaxis": {
         "anchor": "x",
         "domain": [
          0,
          1
         ],
         "title": {
          "text": "Message count"
         }
        }
       }
      }
     },
     "metadata": {},
     "output_type": "display_data"
    },
    {
     "data": {
      "application/vnd.plotly.v1+json": {
       "config": {
        "plotlyServerURL": "https://plot.ly"
       },
       "data": [
        {
         "hovertemplate": "Users=Avantika CR 7sem<br>Minutes=%{x}<br>Message count=%{y}<extra></extra>",
         "legendgroup": "Avantika CR 7sem",
         "line": {
          "color": "#636efa",
          "dash": "solid"
         },
         "marker": {
          "symbol": "circle"
         },
         "mode": "markers+lines",
         "name": "Avantika CR 7sem",
         "orientation": "v",
         "showlegend": true,
         "type": "scatter",
         "x": [
          "2023-08-03T10:00:00",
          "2023-08-03T10:01:00",
          "2023-08-03T10:02:00",
          "2023-08-03T10:03:00",
          "2023-08-03T10:04:00",
          "2023-08-03T10:05:00",
          "2023-08-03T10:06:00",
          "2023-08-03T10:07:00",
          "2023-08-03T10:08:00",
          "2023-08-03T10:09:00",
          "2023-08-03T10:10:00",
          "2023-08-03T10:11:00",
          "2023-08-03T10:12:00",
          "2023-08-03T10:13:00",
          "2023-08-03T10:14:00",
          "2023-08-03T10:15:00",
          "2023-08-03T10:16:00",
          "2023-08-03T10:17:00",
          "2023-08-03T10:18:00",
          "2023-08-03T10:19:00",
          "2023-08-03T10:20:00",
          "2023-08-03T10:21:00",
          "2023-08-03T10:22:00",
          "2023-08-03T10:23:00",
          "2023-08-03T10:24:00",
          "2023-08-03T10:25:00",
          "2023-08-03T10:26:00",
          "2023-08-03T10:27:00",
          "2023-08-03T10:28:00",
          "2023-08-03T10:29:00",
          "2023-08-03T10:30:00",
          "2023-08-03T10:31:00",
          "2023-08-03T10:32:00",
          "2023-08-03T10:33:00",
          "2023-08-03T10:34:00",
          "2023-08-03T10:35:00",
          "2023-08-03T10:36:00",
          "2023-08-03T10:37:00",
          "2023-08-03T10:38:00",
          "2023-08-03T10:39:00",
          "2023-08-03T10:40:00",
          "2023-08-03T10:41:00",
          "2023-08-03T10:42:00",
          "2023-08-03T10:43:00",
          "2023-08-03T10:44:00",
          "2023-08-03T10:45:00",
          "2023-08-03T10:46:00",
          "2023-08-03T10:47:00",
          "2023-08-03T10:48:00",
          "2023-08-03T10:49:00",
          "2023-08-03T10:50:00",
          "2023-08-03T10:51:00",
          "2023-08-03T10:52:00",
          "2023-08-03T10:53:00",
          "2023-08-03T10:54:00",
          "2023-08-03T10:55:00",
          "2023-08-03T10:56:00",
          "2023-08-03T10:57:00",
          "2023-08-03T10:58:00",
          "2023-08-03T10:59:00",
          "2023-08-03T11:00:00",
          "2023-08-03T11:01:00",
          "2023-08-03T11:02:00",
          "2023-08-03T11:03:00",
          "2023-08-03T11:04:00",
          "2023-08-03T11:05:00",
          "2023-08-03T11:06:00",
          "2023-08-03T11:07:00",
          "2023-08-03T11:08:00",
          "2023-08-03T11:09:00",
          "2023-08-03T11:10:00",
          "2023-08-03T11:11:00",
          "2023-08-03T11:12:00",
          "2023-08-03T11:13:00",
          "2023-08-03T11:14:00",
          "2023-08-03T11:15:00",
          "2023-08-03T11:16:00",
          "2023-08-03T11:17:00",
          "2023-08-03T11:18:00",
          "2023-08-03T11:19:00",
          "2023-08-03T11:20:00",
          "2023-08-03T11:21:00",
          "2023-08-03T11:22:00",
          "2023-08-03T11:23:00",
          "2023-08-03T11:24:00",
          "2023-08-03T11:25:00",
          "2023-08-03T11:26:00",
          "2023-08-03T11:27:00",
          "2023-08-03T11:28:00",
          "2023-08-03T11:29:00",
          "2023-08-03T11:30:00",
          "2023-08-03T11:31:00",
          "2023-08-03T11:32:00",
          "2023-08-03T11:33:00",
          "2023-08-03T11:34:00",
          "2023-08-03T11:35:00",
          "2023-08-03T11:36:00",
          "2023-08-03T11:37:00",
          "2023-08-03T11:38:00",
          "2023-08-03T11:39:00",
          "2023-08-03T11:40:00",
          "2023-08-03T11:41:00",
          "2023-08-03T11:42:00",
          "2023-08-03T11:43:00",
          "2023-08-03T11:44:00",
          "2023-08-03T11:45:00",
          "2023-08-03T11:46:00",
          "2023-08-03T11:47:00",
          "2023-08-03T11:48:00",
          "2023-08-03T11:49:00"
         ],
         "xaxis": "x",
         "y": [
          0,
          0,
          0,
          0,
          0,
          0,
          0,
          0,
          0,
          0,
          0,
          0,
          0,
          0,
          0,
          0,
          0,
          0,
          0,
          0,
          0,
          0,
          0,
          0,
          0,
          0,
          0,
          0,
          0,
          0,
          0,
          0,
          0,
          0,
          0,
          0,
          0,
          0,
          0,
          0,
          0,
          0,
          0,
          0,
          0,
          0,
          0,
          0,
          0,
          0,
          0,
          0,
          0,
          0,
          0,
          0,
          0,
          0,
          0,
          0,
          0,
          0,
          0,
          0,
          0,
          0,
          0,
          0,
          0,
          0,
          0,
          0,
          0,
          0,
          0,
          0,
          0,
          0,
          0,
          0,
          0,
          0,
          0,
          0,
          0,
          0,
          0,
          0,
          0,
          0,
          0,
          0,
          0,
          0,
          0,
          0,
          0,
          0,
          0,
          0,
          0,
          0,
          0,
          0,
          0,
          0,
          0,
          0,
          0,
          0
         ],
         "yaxis": "y"
        },
        {
         "hovertemplate": "Users=+91 73511 44719<br>Minutes=%{x}<br>Message count=%{y}<extra></extra>",
         "legendgroup": "+91 73511 44719",
         "line": {
          "color": "#EF553B",
          "dash": "solid"
         },
         "marker": {
          "symbol": "circle"
         },
         "mode": "markers+lines",
         "name": "+91 73511 44719",
         "orientation": "v",
         "showlegend": true,
         "type": "scatter",
         "x": [
          "2023-08-03T10:00:00",
          "2023-08-03T10:01:00",
          "2023-08-03T10:02:00",
          "2023-08-03T10:03:00",
          "2023-08-03T10:04:00",
          "2023-08-03T10:05:00",
          "2023-08-03T10:06:00",
          "2023-08-03T10:07:00",
          "2023-08-03T10:08:00",
          "2023-08-03T10:09:00",
          "2023-08-03T10:10:00",
          "2023-08-03T10:11:00",
          "2023-08-03T10:12:00",
          "2023-08-03T10:13:00",
          "2023-08-03T10:14:00",
          "2023-08-03T10:15:00",
          "2023-08-03T10:16:00",
          "2023-08-03T10:17:00",
          "2023-08-03T10:18:00",
          "2023-08-03T10:19:00",
          "2023-08-03T10:20:00",
          "2023-08-03T10:21:00",
          "2023-08-03T10:22:00",
          "2023-08-03T10:23:00",
          "2023-08-03T10:24:00",
          "2023-08-03T10:25:00",
          "2023-08-03T10:26:00",
          "2023-08-03T10:27:00",
          "2023-08-03T10:28:00",
          "2023-08-03T10:29:00",
          "2023-08-03T10:30:00",
          "2023-08-03T10:31:00",
          "2023-08-03T10:32:00",
          "2023-08-03T10:33:00",
          "2023-08-03T10:34:00",
          "2023-08-03T10:35:00",
          "2023-08-03T10:36:00",
          "2023-08-03T10:37:00",
          "2023-08-03T10:38:00",
          "2023-08-03T10:39:00",
          "2023-08-03T10:40:00",
          "2023-08-03T10:41:00",
          "2023-08-03T10:42:00",
          "2023-08-03T10:43:00",
          "2023-08-03T10:44:00",
          "2023-08-03T10:45:00",
          "2023-08-03T10:46:00",
          "2023-08-03T10:47:00",
          "2023-08-03T10:48:00",
          "2023-08-03T10:49:00",
          "2023-08-03T10:50:00",
          "2023-08-03T10:51:00",
          "2023-08-03T10:52:00",
          "2023-08-03T10:53:00",
          "2023-08-03T10:54:00",
          "2023-08-03T10:55:00",
          "2023-08-03T10:56:00",
          "2023-08-03T10:57:00",
          "2023-08-03T10:58:00",
          "2023-08-03T10:59:00",
          "2023-08-03T11:00:00",
          "2023-08-03T11:01:00",
          "2023-08-03T11:02:00",
          "2023-08-03T11:03:00",
          "2023-08-03T11:04:00",
          "2023-08-03T11:05:00",
          "2023-08-03T11:06:00",
          "2023-08-03T11:07:00",
          "2023-08-03T11:08:00",
          "2023-08-03T11:09:00",
          "2023-08-03T11:10:00",
          "2023-08-03T11:11:00",
          "2023-08-03T11:12:00",
          "2023-08-03T11:13:00",
          "2023-08-03T11:14:00",
          "2023-08-03T11:15:00",
          "2023-08-03T11:16:00",
          "2023-08-03T11:17:00",
          "2023-08-03T11:18:00",
          "2023-08-03T11:19:00",
          "2023-08-03T11:20:00",
          "2023-08-03T11:21:00",
          "2023-08-03T11:22:00",
          "2023-08-03T11:23:00",
          "2023-08-03T11:24:00",
          "2023-08-03T11:25:00",
          "2023-08-03T11:26:00",
          "2023-08-03T11:27:00",
          "2023-08-03T11:28:00",
          "2023-08-03T11:29:00",
          "2023-08-03T11:30:00",
          "2023-08-03T11:31:00",
          "2023-08-03T11:32:00",
          "2023-08-03T11:33:00",
          "2023-08-03T11:34:00",
          "2023-08-03T11:35:00",
          "2023-08-03T11:36:00",
          "2023-08-03T11:37:00",
          "2023-08-03T11:38:00",
          "2023-08-03T11:39:00",
          "2023-08-03T11:40:00",
          "2023-08-03T11:41:00",
          "2023-08-03T11:42:00",
          "2023-08-03T11:43:00",
          "2023-08-03T11:44:00",
          "2023-08-03T11:45:00",
          "2023-08-03T11:46:00",
          "2023-08-03T11:47:00",
          "2023-08-03T11:48:00",
          "2023-08-03T11:49:00"
         ],
         "xaxis": "x",
         "y": [
          0,
          0,
          0,
          0,
          0,
          0,
          0,
          0,
          0,
          0,
          0,
          0,
          0,
          0,
          0,
          0,
          0,
          0,
          0,
          0,
          0,
          0,
          0,
          0,
          0,
          0,
          0,
          0,
          0,
          0,
          0,
          0,
          0,
          0,
          0,
          0,
          0,
          0,
          0,
          0,
          0,
          0,
          0,
          0,
          0,
          0,
          0,
          0,
          0,
          0,
          0,
          0,
          0,
          0,
          0,
          0,
          0,
          0,
          0,
          0,
          0,
          0,
          0,
          0,
          0,
          0,
          0,
          0,
          0,
          0,
          0,
          0,
          0,
          0,
          0,
          0,
          0,
          0,
          0,
          0,
          0,
          0,
          0,
          0,
          0,
          0,
          0,
          0,
          0,
          0,
          0,
          0,
          0,
          0,
          0,
          0,
          0,
          0,
          0,
          0,
          0,
          0,
          0,
          0,
          0,
          0,
          0,
          0,
          0,
          0
         ],
         "yaxis": "y"
        },
        {
         "hovertemplate": "Users=Sourabh 7 Mentor<br>Minutes=%{x}<br>Message count=%{y}<extra></extra>",
         "legendgroup": "Sourabh 7 Mentor",
         "line": {
          "color": "#00cc96",
          "dash": "solid"
         },
         "marker": {
          "symbol": "circle"
         },
         "mode": "markers+lines",
         "name": "Sourabh 7 Mentor",
         "orientation": "v",
         "showlegend": true,
         "type": "scatter",
         "x": [
          "2023-08-03T10:00:00",
          "2023-08-03T10:01:00",
          "2023-08-03T10:02:00",
          "2023-08-03T10:03:00",
          "2023-08-03T10:04:00",
          "2023-08-03T10:05:00",
          "2023-08-03T10:06:00",
          "2023-08-03T10:07:00",
          "2023-08-03T10:08:00",
          "2023-08-03T10:09:00",
          "2023-08-03T10:10:00",
          "2023-08-03T10:11:00",
          "2023-08-03T10:12:00",
          "2023-08-03T10:13:00",
          "2023-08-03T10:14:00",
          "2023-08-03T10:15:00",
          "2023-08-03T10:16:00",
          "2023-08-03T10:17:00",
          "2023-08-03T10:18:00",
          "2023-08-03T10:19:00",
          "2023-08-03T10:20:00",
          "2023-08-03T10:21:00",
          "2023-08-03T10:22:00",
          "2023-08-03T10:23:00",
          "2023-08-03T10:24:00",
          "2023-08-03T10:25:00",
          "2023-08-03T10:26:00",
          "2023-08-03T10:27:00",
          "2023-08-03T10:28:00",
          "2023-08-03T10:29:00",
          "2023-08-03T10:30:00",
          "2023-08-03T10:31:00",
          "2023-08-03T10:32:00",
          "2023-08-03T10:33:00",
          "2023-08-03T10:34:00",
          "2023-08-03T10:35:00",
          "2023-08-03T10:36:00",
          "2023-08-03T10:37:00",
          "2023-08-03T10:38:00",
          "2023-08-03T10:39:00",
          "2023-08-03T10:40:00",
          "2023-08-03T10:41:00",
          "2023-08-03T10:42:00",
          "2023-08-03T10:43:00",
          "2023-08-03T10:44:00",
          "2023-08-03T10:45:00",
          "2023-08-03T10:46:00",
          "2023-08-03T10:47:00",
          "2023-08-03T10:48:00",
          "2023-08-03T10:49:00",
          "2023-08-03T10:50:00",
          "2023-08-03T10:51:00",
          "2023-08-03T10:52:00",
          "2023-08-03T10:53:00",
          "2023-08-03T10:54:00",
          "2023-08-03T10:55:00",
          "2023-08-03T10:56:00",
          "2023-08-03T10:57:00",
          "2023-08-03T10:58:00",
          "2023-08-03T10:59:00",
          "2023-08-03T11:00:00",
          "2023-08-03T11:01:00",
          "2023-08-03T11:02:00",
          "2023-08-03T11:03:00",
          "2023-08-03T11:04:00",
          "2023-08-03T11:05:00",
          "2023-08-03T11:06:00",
          "2023-08-03T11:07:00",
          "2023-08-03T11:08:00",
          "2023-08-03T11:09:00",
          "2023-08-03T11:10:00",
          "2023-08-03T11:11:00",
          "2023-08-03T11:12:00",
          "2023-08-03T11:13:00",
          "2023-08-03T11:14:00",
          "2023-08-03T11:15:00",
          "2023-08-03T11:16:00",
          "2023-08-03T11:17:00",
          "2023-08-03T11:18:00",
          "2023-08-03T11:19:00",
          "2023-08-03T11:20:00",
          "2023-08-03T11:21:00",
          "2023-08-03T11:22:00",
          "2023-08-03T11:23:00",
          "2023-08-03T11:24:00",
          "2023-08-03T11:25:00",
          "2023-08-03T11:26:00",
          "2023-08-03T11:27:00",
          "2023-08-03T11:28:00",
          "2023-08-03T11:29:00",
          "2023-08-03T11:30:00",
          "2023-08-03T11:31:00",
          "2023-08-03T11:32:00",
          "2023-08-03T11:33:00",
          "2023-08-03T11:34:00",
          "2023-08-03T11:35:00",
          "2023-08-03T11:36:00",
          "2023-08-03T11:37:00",
          "2023-08-03T11:38:00",
          "2023-08-03T11:39:00",
          "2023-08-03T11:40:00",
          "2023-08-03T11:41:00",
          "2023-08-03T11:42:00",
          "2023-08-03T11:43:00",
          "2023-08-03T11:44:00",
          "2023-08-03T11:45:00",
          "2023-08-03T11:46:00",
          "2023-08-03T11:47:00",
          "2023-08-03T11:48:00",
          "2023-08-03T11:49:00"
         ],
         "xaxis": "x",
         "y": [
          0,
          0,
          0,
          0,
          0,
          0,
          0,
          0,
          0,
          0,
          0,
          0,
          0,
          0,
          0,
          0,
          0,
          0,
          0,
          0,
          0,
          0,
          0,
          0,
          0,
          0,
          0,
          0,
          0,
          0,
          0,
          0,
          0,
          0,
          0,
          0,
          0,
          0,
          0,
          0,
          0,
          0,
          0,
          0,
          0,
          0,
          0,
          0,
          0,
          0,
          0,
          0,
          0,
          0,
          0,
          0,
          0,
          0,
          0,
          0,
          1,
          1,
          0,
          0,
          0,
          0,
          0,
          0,
          0,
          0,
          0,
          0,
          0,
          0,
          0,
          0,
          0,
          0,
          1,
          1,
          0,
          0,
          0,
          0,
          0,
          0,
          0,
          0,
          0,
          0,
          0,
          0,
          0,
          0,
          0,
          0,
          0,
          0,
          0,
          0,
          0,
          0,
          0,
          0,
          0,
          0,
          0,
          0,
          0,
          0
         ],
         "yaxis": "y"
        },
        {
         "hovertemplate": "Users=+91 76784 09427<br>Minutes=%{x}<br>Message count=%{y}<extra></extra>",
         "legendgroup": "+91 76784 09427",
         "line": {
          "color": "#ab63fa",
          "dash": "solid"
         },
         "marker": {
          "symbol": "circle"
         },
         "mode": "markers+lines",
         "name": "+91 76784 09427",
         "orientation": "v",
         "showlegend": true,
         "type": "scatter",
         "x": [
          "2023-08-03T10:00:00",
          "2023-08-03T10:01:00",
          "2023-08-03T10:02:00",
          "2023-08-03T10:03:00",
          "2023-08-03T10:04:00",
          "2023-08-03T10:05:00",
          "2023-08-03T10:06:00",
          "2023-08-03T10:07:00",
          "2023-08-03T10:08:00",
          "2023-08-03T10:09:00",
          "2023-08-03T10:10:00",
          "2023-08-03T10:11:00",
          "2023-08-03T10:12:00",
          "2023-08-03T10:13:00",
          "2023-08-03T10:14:00",
          "2023-08-03T10:15:00",
          "2023-08-03T10:16:00",
          "2023-08-03T10:17:00",
          "2023-08-03T10:18:00",
          "2023-08-03T10:19:00",
          "2023-08-03T10:20:00",
          "2023-08-03T10:21:00",
          "2023-08-03T10:22:00",
          "2023-08-03T10:23:00",
          "2023-08-03T10:24:00",
          "2023-08-03T10:25:00",
          "2023-08-03T10:26:00",
          "2023-08-03T10:27:00",
          "2023-08-03T10:28:00",
          "2023-08-03T10:29:00",
          "2023-08-03T10:30:00",
          "2023-08-03T10:31:00",
          "2023-08-03T10:32:00",
          "2023-08-03T10:33:00",
          "2023-08-03T10:34:00",
          "2023-08-03T10:35:00",
          "2023-08-03T10:36:00",
          "2023-08-03T10:37:00",
          "2023-08-03T10:38:00",
          "2023-08-03T10:39:00",
          "2023-08-03T10:40:00",
          "2023-08-03T10:41:00",
          "2023-08-03T10:42:00",
          "2023-08-03T10:43:00",
          "2023-08-03T10:44:00",
          "2023-08-03T10:45:00",
          "2023-08-03T10:46:00",
          "2023-08-03T10:47:00",
          "2023-08-03T10:48:00",
          "2023-08-03T10:49:00",
          "2023-08-03T10:50:00",
          "2023-08-03T10:51:00",
          "2023-08-03T10:52:00",
          "2023-08-03T10:53:00",
          "2023-08-03T10:54:00",
          "2023-08-03T10:55:00",
          "2023-08-03T10:56:00",
          "2023-08-03T10:57:00",
          "2023-08-03T10:58:00",
          "2023-08-03T10:59:00",
          "2023-08-03T11:00:00",
          "2023-08-03T11:01:00",
          "2023-08-03T11:02:00",
          "2023-08-03T11:03:00",
          "2023-08-03T11:04:00",
          "2023-08-03T11:05:00",
          "2023-08-03T11:06:00",
          "2023-08-03T11:07:00",
          "2023-08-03T11:08:00",
          "2023-08-03T11:09:00",
          "2023-08-03T11:10:00",
          "2023-08-03T11:11:00",
          "2023-08-03T11:12:00",
          "2023-08-03T11:13:00",
          "2023-08-03T11:14:00",
          "2023-08-03T11:15:00",
          "2023-08-03T11:16:00",
          "2023-08-03T11:17:00",
          "2023-08-03T11:18:00",
          "2023-08-03T11:19:00",
          "2023-08-03T11:20:00",
          "2023-08-03T11:21:00",
          "2023-08-03T11:22:00",
          "2023-08-03T11:23:00",
          "2023-08-03T11:24:00",
          "2023-08-03T11:25:00",
          "2023-08-03T11:26:00",
          "2023-08-03T11:27:00",
          "2023-08-03T11:28:00",
          "2023-08-03T11:29:00",
          "2023-08-03T11:30:00",
          "2023-08-03T11:31:00",
          "2023-08-03T11:32:00",
          "2023-08-03T11:33:00",
          "2023-08-03T11:34:00",
          "2023-08-03T11:35:00",
          "2023-08-03T11:36:00",
          "2023-08-03T11:37:00",
          "2023-08-03T11:38:00",
          "2023-08-03T11:39:00",
          "2023-08-03T11:40:00",
          "2023-08-03T11:41:00",
          "2023-08-03T11:42:00",
          "2023-08-03T11:43:00",
          "2023-08-03T11:44:00",
          "2023-08-03T11:45:00",
          "2023-08-03T11:46:00",
          "2023-08-03T11:47:00",
          "2023-08-03T11:48:00",
          "2023-08-03T11:49:00"
         ],
         "xaxis": "x",
         "y": [
          0,
          0,
          0,
          0,
          0,
          0,
          0,
          0,
          0,
          0,
          0,
          0,
          0,
          0,
          0,
          0,
          0,
          0,
          0,
          0,
          0,
          0,
          0,
          0,
          0,
          0,
          0,
          0,
          0,
          0,
          0,
          0,
          0,
          0,
          0,
          0,
          0,
          0,
          0,
          0,
          0,
          0,
          0,
          0,
          0,
          0,
          0,
          0,
          0,
          0,
          0,
          0,
          0,
          0,
          0,
          0,
          0,
          0,
          0,
          0,
          0,
          0,
          0,
          0,
          0,
          0,
          0,
          0,
          0,
          0,
          0,
          0,
          0,
          0,
          0,
          0,
          0,
          0,
          0,
          0,
          0,
          0,
          0,
          0,
          0,
          0,
          0,
          0,
          0,
          0,
          0,
          0,
          0,
          0,
          0,
          0,
          0,
          0,
          0,
          0,
          0,
          0,
          0,
          0,
          0,
          0,
          0,
          0,
          0,
          0
         ],
         "yaxis": "y"
        },
        {
         "hovertemplate": "Users=+91 95235 15421<br>Minutes=%{x}<br>Message count=%{y}<extra></extra>",
         "legendgroup": "+91 95235 15421",
         "line": {
          "color": "#FFA15A",
          "dash": "solid"
         },
         "marker": {
          "symbol": "circle"
         },
         "mode": "markers+lines",
         "name": "+91 95235 15421",
         "orientation": "v",
         "showlegend": true,
         "type": "scatter",
         "x": [
          "2023-08-03T10:00:00",
          "2023-08-03T10:01:00",
          "2023-08-03T10:02:00",
          "2023-08-03T10:03:00",
          "2023-08-03T10:04:00",
          "2023-08-03T10:05:00",
          "2023-08-03T10:06:00",
          "2023-08-03T10:07:00",
          "2023-08-03T10:08:00",
          "2023-08-03T10:09:00",
          "2023-08-03T10:10:00",
          "2023-08-03T10:11:00",
          "2023-08-03T10:12:00",
          "2023-08-03T10:13:00",
          "2023-08-03T10:14:00",
          "2023-08-03T10:15:00",
          "2023-08-03T10:16:00",
          "2023-08-03T10:17:00",
          "2023-08-03T10:18:00",
          "2023-08-03T10:19:00",
          "2023-08-03T10:20:00",
          "2023-08-03T10:21:00",
          "2023-08-03T10:22:00",
          "2023-08-03T10:23:00",
          "2023-08-03T10:24:00",
          "2023-08-03T10:25:00",
          "2023-08-03T10:26:00",
          "2023-08-03T10:27:00",
          "2023-08-03T10:28:00",
          "2023-08-03T10:29:00",
          "2023-08-03T10:30:00",
          "2023-08-03T10:31:00",
          "2023-08-03T10:32:00",
          "2023-08-03T10:33:00",
          "2023-08-03T10:34:00",
          "2023-08-03T10:35:00",
          "2023-08-03T10:36:00",
          "2023-08-03T10:37:00",
          "2023-08-03T10:38:00",
          "2023-08-03T10:39:00",
          "2023-08-03T10:40:00",
          "2023-08-03T10:41:00",
          "2023-08-03T10:42:00",
          "2023-08-03T10:43:00",
          "2023-08-03T10:44:00",
          "2023-08-03T10:45:00",
          "2023-08-03T10:46:00",
          "2023-08-03T10:47:00",
          "2023-08-03T10:48:00",
          "2023-08-03T10:49:00",
          "2023-08-03T10:50:00",
          "2023-08-03T10:51:00",
          "2023-08-03T10:52:00",
          "2023-08-03T10:53:00",
          "2023-08-03T10:54:00",
          "2023-08-03T10:55:00",
          "2023-08-03T10:56:00",
          "2023-08-03T10:57:00",
          "2023-08-03T10:58:00",
          "2023-08-03T10:59:00",
          "2023-08-03T11:00:00",
          "2023-08-03T11:01:00",
          "2023-08-03T11:02:00",
          "2023-08-03T11:03:00",
          "2023-08-03T11:04:00",
          "2023-08-03T11:05:00",
          "2023-08-03T11:06:00",
          "2023-08-03T11:07:00",
          "2023-08-03T11:08:00",
          "2023-08-03T11:09:00",
          "2023-08-03T11:10:00",
          "2023-08-03T11:11:00",
          "2023-08-03T11:12:00",
          "2023-08-03T11:13:00",
          "2023-08-03T11:14:00",
          "2023-08-03T11:15:00",
          "2023-08-03T11:16:00",
          "2023-08-03T11:17:00",
          "2023-08-03T11:18:00",
          "2023-08-03T11:19:00",
          "2023-08-03T11:20:00",
          "2023-08-03T11:21:00",
          "2023-08-03T11:22:00",
          "2023-08-03T11:23:00",
          "2023-08-03T11:24:00",
          "2023-08-03T11:25:00",
          "2023-08-03T11:26:00",
          "2023-08-03T11:27:00",
          "2023-08-03T11:28:00",
          "2023-08-03T11:29:00",
          "2023-08-03T11:30:00",
          "2023-08-03T11:31:00",
          "2023-08-03T11:32:00",
          "2023-08-03T11:33:00",
          "2023-08-03T11:34:00",
          "2023-08-03T11:35:00",
          "2023-08-03T11:36:00",
          "2023-08-03T11:37:00",
          "2023-08-03T11:38:00",
          "2023-08-03T11:39:00",
          "2023-08-03T11:40:00",
          "2023-08-03T11:41:00",
          "2023-08-03T11:42:00",
          "2023-08-03T11:43:00",
          "2023-08-03T11:44:00",
          "2023-08-03T11:45:00",
          "2023-08-03T11:46:00",
          "2023-08-03T11:47:00",
          "2023-08-03T11:48:00",
          "2023-08-03T11:49:00"
         ],
         "xaxis": "x",
         "y": [
          0,
          0,
          0,
          0,
          0,
          0,
          0,
          0,
          0,
          0,
          0,
          0,
          0,
          0,
          0,
          0,
          0,
          0,
          0,
          0,
          0,
          0,
          0,
          0,
          0,
          0,
          0,
          0,
          0,
          0,
          0,
          0,
          0,
          0,
          0,
          0,
          0,
          0,
          0,
          0,
          0,
          0,
          0,
          0,
          0,
          0,
          0,
          0,
          0,
          0,
          2,
          2,
          0,
          0,
          0,
          0,
          0,
          0,
          0,
          0,
          0,
          0,
          0,
          0,
          0,
          0,
          0,
          0,
          0,
          0,
          0,
          0,
          0,
          0,
          0,
          0,
          0,
          0,
          0,
          0,
          0,
          0,
          0,
          0,
          0,
          0,
          0,
          0,
          0,
          0,
          0,
          0,
          0,
          0,
          0,
          0,
          0,
          0,
          0,
          0,
          0,
          0,
          0,
          0,
          0,
          0,
          0,
          0,
          0,
          0
         ],
         "yaxis": "y"
        },
        {
         "hovertemplate": "Users=+91 76888 20220<br>Minutes=%{x}<br>Message count=%{y}<extra></extra>",
         "legendgroup": "+91 76888 20220",
         "line": {
          "color": "#19d3f3",
          "dash": "solid"
         },
         "marker": {
          "symbol": "circle"
         },
         "mode": "markers+lines",
         "name": "+91 76888 20220",
         "orientation": "v",
         "showlegend": true,
         "type": "scatter",
         "x": [
          "2023-08-03T10:00:00",
          "2023-08-03T10:01:00",
          "2023-08-03T10:02:00",
          "2023-08-03T10:03:00",
          "2023-08-03T10:04:00",
          "2023-08-03T10:05:00",
          "2023-08-03T10:06:00",
          "2023-08-03T10:07:00",
          "2023-08-03T10:08:00",
          "2023-08-03T10:09:00",
          "2023-08-03T10:10:00",
          "2023-08-03T10:11:00",
          "2023-08-03T10:12:00",
          "2023-08-03T10:13:00",
          "2023-08-03T10:14:00",
          "2023-08-03T10:15:00",
          "2023-08-03T10:16:00",
          "2023-08-03T10:17:00",
          "2023-08-03T10:18:00",
          "2023-08-03T10:19:00",
          "2023-08-03T10:20:00",
          "2023-08-03T10:21:00",
          "2023-08-03T10:22:00",
          "2023-08-03T10:23:00",
          "2023-08-03T10:24:00",
          "2023-08-03T10:25:00",
          "2023-08-03T10:26:00",
          "2023-08-03T10:27:00",
          "2023-08-03T10:28:00",
          "2023-08-03T10:29:00",
          "2023-08-03T10:30:00",
          "2023-08-03T10:31:00",
          "2023-08-03T10:32:00",
          "2023-08-03T10:33:00",
          "2023-08-03T10:34:00",
          "2023-08-03T10:35:00",
          "2023-08-03T10:36:00",
          "2023-08-03T10:37:00",
          "2023-08-03T10:38:00",
          "2023-08-03T10:39:00",
          "2023-08-03T10:40:00",
          "2023-08-03T10:41:00",
          "2023-08-03T10:42:00",
          "2023-08-03T10:43:00",
          "2023-08-03T10:44:00",
          "2023-08-03T10:45:00",
          "2023-08-03T10:46:00",
          "2023-08-03T10:47:00",
          "2023-08-03T10:48:00",
          "2023-08-03T10:49:00",
          "2023-08-03T10:50:00",
          "2023-08-03T10:51:00",
          "2023-08-03T10:52:00",
          "2023-08-03T10:53:00",
          "2023-08-03T10:54:00",
          "2023-08-03T10:55:00",
          "2023-08-03T10:56:00",
          "2023-08-03T10:57:00",
          "2023-08-03T10:58:00",
          "2023-08-03T10:59:00",
          "2023-08-03T11:00:00",
          "2023-08-03T11:01:00",
          "2023-08-03T11:02:00",
          "2023-08-03T11:03:00",
          "2023-08-03T11:04:00",
          "2023-08-03T11:05:00",
          "2023-08-03T11:06:00",
          "2023-08-03T11:07:00",
          "2023-08-03T11:08:00",
          "2023-08-03T11:09:00",
          "2023-08-03T11:10:00",
          "2023-08-03T11:11:00",
          "2023-08-03T11:12:00",
          "2023-08-03T11:13:00",
          "2023-08-03T11:14:00",
          "2023-08-03T11:15:00",
          "2023-08-03T11:16:00",
          "2023-08-03T11:17:00",
          "2023-08-03T11:18:00",
          "2023-08-03T11:19:00",
          "2023-08-03T11:20:00",
          "2023-08-03T11:21:00",
          "2023-08-03T11:22:00",
          "2023-08-03T11:23:00",
          "2023-08-03T11:24:00",
          "2023-08-03T11:25:00",
          "2023-08-03T11:26:00",
          "2023-08-03T11:27:00",
          "2023-08-03T11:28:00",
          "2023-08-03T11:29:00",
          "2023-08-03T11:30:00",
          "2023-08-03T11:31:00",
          "2023-08-03T11:32:00",
          "2023-08-03T11:33:00",
          "2023-08-03T11:34:00",
          "2023-08-03T11:35:00",
          "2023-08-03T11:36:00",
          "2023-08-03T11:37:00",
          "2023-08-03T11:38:00",
          "2023-08-03T11:39:00",
          "2023-08-03T11:40:00",
          "2023-08-03T11:41:00",
          "2023-08-03T11:42:00",
          "2023-08-03T11:43:00",
          "2023-08-03T11:44:00",
          "2023-08-03T11:45:00",
          "2023-08-03T11:46:00",
          "2023-08-03T11:47:00",
          "2023-08-03T11:48:00",
          "2023-08-03T11:49:00"
         ],
         "xaxis": "x",
         "y": [
          0,
          0,
          0,
          0,
          0,
          0,
          0,
          0,
          0,
          0,
          0,
          0,
          0,
          0,
          0,
          0,
          0,
          0,
          0,
          0,
          0,
          0,
          0,
          0,
          0,
          0,
          0,
          0,
          0,
          0,
          0,
          0,
          0,
          0,
          0,
          0,
          0,
          0,
          0,
          0,
          0,
          0,
          0,
          0,
          0,
          0,
          0,
          0,
          0,
          0,
          0,
          0,
          0,
          0,
          0,
          0,
          0,
          0,
          0,
          0,
          0,
          0,
          0,
          0,
          0,
          0,
          0,
          0,
          0,
          0,
          0,
          0,
          0,
          0,
          0,
          0,
          0,
          0,
          0,
          0,
          0,
          0,
          0,
          0,
          0,
          0,
          0,
          0,
          0,
          0,
          0,
          0,
          0,
          0,
          0,
          0,
          0,
          0,
          0,
          0,
          0,
          0,
          0,
          0,
          0,
          0,
          0,
          0,
          0,
          0
         ],
         "yaxis": "y"
        },
        {
         "hovertemplate": "Users=+91 83079 17347<br>Minutes=%{x}<br>Message count=%{y}<extra></extra>",
         "legendgroup": "+91 83079 17347",
         "line": {
          "color": "#FF6692",
          "dash": "solid"
         },
         "marker": {
          "symbol": "circle"
         },
         "mode": "markers+lines",
         "name": "+91 83079 17347",
         "orientation": "v",
         "showlegend": true,
         "type": "scatter",
         "x": [
          "2023-08-03T10:00:00",
          "2023-08-03T10:01:00",
          "2023-08-03T10:02:00",
          "2023-08-03T10:03:00",
          "2023-08-03T10:04:00",
          "2023-08-03T10:05:00",
          "2023-08-03T10:06:00",
          "2023-08-03T10:07:00",
          "2023-08-03T10:08:00",
          "2023-08-03T10:09:00",
          "2023-08-03T10:10:00",
          "2023-08-03T10:11:00",
          "2023-08-03T10:12:00",
          "2023-08-03T10:13:00",
          "2023-08-03T10:14:00",
          "2023-08-03T10:15:00",
          "2023-08-03T10:16:00",
          "2023-08-03T10:17:00",
          "2023-08-03T10:18:00",
          "2023-08-03T10:19:00",
          "2023-08-03T10:20:00",
          "2023-08-03T10:21:00",
          "2023-08-03T10:22:00",
          "2023-08-03T10:23:00",
          "2023-08-03T10:24:00",
          "2023-08-03T10:25:00",
          "2023-08-03T10:26:00",
          "2023-08-03T10:27:00",
          "2023-08-03T10:28:00",
          "2023-08-03T10:29:00",
          "2023-08-03T10:30:00",
          "2023-08-03T10:31:00",
          "2023-08-03T10:32:00",
          "2023-08-03T10:33:00",
          "2023-08-03T10:34:00",
          "2023-08-03T10:35:00",
          "2023-08-03T10:36:00",
          "2023-08-03T10:37:00",
          "2023-08-03T10:38:00",
          "2023-08-03T10:39:00",
          "2023-08-03T10:40:00",
          "2023-08-03T10:41:00",
          "2023-08-03T10:42:00",
          "2023-08-03T10:43:00",
          "2023-08-03T10:44:00",
          "2023-08-03T10:45:00",
          "2023-08-03T10:46:00",
          "2023-08-03T10:47:00",
          "2023-08-03T10:48:00",
          "2023-08-03T10:49:00",
          "2023-08-03T10:50:00",
          "2023-08-03T10:51:00",
          "2023-08-03T10:52:00",
          "2023-08-03T10:53:00",
          "2023-08-03T10:54:00",
          "2023-08-03T10:55:00",
          "2023-08-03T10:56:00",
          "2023-08-03T10:57:00",
          "2023-08-03T10:58:00",
          "2023-08-03T10:59:00",
          "2023-08-03T11:00:00",
          "2023-08-03T11:01:00",
          "2023-08-03T11:02:00",
          "2023-08-03T11:03:00",
          "2023-08-03T11:04:00",
          "2023-08-03T11:05:00",
          "2023-08-03T11:06:00",
          "2023-08-03T11:07:00",
          "2023-08-03T11:08:00",
          "2023-08-03T11:09:00",
          "2023-08-03T11:10:00",
          "2023-08-03T11:11:00",
          "2023-08-03T11:12:00",
          "2023-08-03T11:13:00",
          "2023-08-03T11:14:00",
          "2023-08-03T11:15:00",
          "2023-08-03T11:16:00",
          "2023-08-03T11:17:00",
          "2023-08-03T11:18:00",
          "2023-08-03T11:19:00",
          "2023-08-03T11:20:00",
          "2023-08-03T11:21:00",
          "2023-08-03T11:22:00",
          "2023-08-03T11:23:00",
          "2023-08-03T11:24:00",
          "2023-08-03T11:25:00",
          "2023-08-03T11:26:00",
          "2023-08-03T11:27:00",
          "2023-08-03T11:28:00",
          "2023-08-03T11:29:00",
          "2023-08-03T11:30:00",
          "2023-08-03T11:31:00",
          "2023-08-03T11:32:00",
          "2023-08-03T11:33:00",
          "2023-08-03T11:34:00",
          "2023-08-03T11:35:00",
          "2023-08-03T11:36:00",
          "2023-08-03T11:37:00",
          "2023-08-03T11:38:00",
          "2023-08-03T11:39:00",
          "2023-08-03T11:40:00",
          "2023-08-03T11:41:00",
          "2023-08-03T11:42:00",
          "2023-08-03T11:43:00",
          "2023-08-03T11:44:00",
          "2023-08-03T11:45:00",
          "2023-08-03T11:46:00",
          "2023-08-03T11:47:00",
          "2023-08-03T11:48:00",
          "2023-08-03T11:49:00"
         ],
         "xaxis": "x",
         "y": [
          0,
          0,
          0,
          0,
          0,
          0,
          0,
          0,
          0,
          0,
          0,
          0,
          0,
          0,
          0,
          0,
          0,
          0,
          0,
          0,
          0,
          0,
          0,
          0,
          0,
          0,
          0,
          0,
          0,
          0,
          0,
          0,
          0,
          0,
          0,
          0,
          0,
          0,
          0,
          0,
          0,
          0,
          0,
          0,
          0,
          0,
          0,
          0,
          0,
          0,
          0,
          0,
          0,
          0,
          0,
          0,
          0,
          0,
          0,
          0,
          0,
          0,
          0,
          0,
          0,
          0,
          0,
          0,
          0,
          0,
          0,
          0,
          0,
          0,
          0,
          0,
          0,
          0,
          0,
          0,
          0,
          0,
          0,
          0,
          0,
          0,
          0,
          0,
          0,
          0,
          0,
          0,
          0,
          0,
          0,
          0,
          0,
          0,
          0,
          0,
          0,
          0,
          0,
          0,
          0,
          0,
          0,
          0,
          0,
          0
         ],
         "yaxis": "y"
        },
        {
         "hovertemplate": "Users=others<br>Minutes=%{x}<br>Message count=%{y}<extra></extra>",
         "legendgroup": "others",
         "line": {
          "color": "#B6E880",
          "dash": "solid"
         },
         "marker": {
          "symbol": "circle"
         },
         "mode": "markers+lines",
         "name": "others",
         "orientation": "v",
         "showlegend": true,
         "type": "scatter",
         "x": [
          "2023-08-03T10:00:00",
          "2023-08-03T10:01:00",
          "2023-08-03T10:02:00",
          "2023-08-03T10:03:00",
          "2023-08-03T10:04:00",
          "2023-08-03T10:05:00",
          "2023-08-03T10:06:00",
          "2023-08-03T10:07:00",
          "2023-08-03T10:08:00",
          "2023-08-03T10:09:00",
          "2023-08-03T10:10:00",
          "2023-08-03T10:11:00",
          "2023-08-03T10:12:00",
          "2023-08-03T10:13:00",
          "2023-08-03T10:14:00",
          "2023-08-03T10:15:00",
          "2023-08-03T10:16:00",
          "2023-08-03T10:17:00",
          "2023-08-03T10:18:00",
          "2023-08-03T10:19:00",
          "2023-08-03T10:20:00",
          "2023-08-03T10:21:00",
          "2023-08-03T10:22:00",
          "2023-08-03T10:23:00",
          "2023-08-03T10:24:00",
          "2023-08-03T10:25:00",
          "2023-08-03T10:26:00",
          "2023-08-03T10:27:00",
          "2023-08-03T10:28:00",
          "2023-08-03T10:29:00",
          "2023-08-03T10:30:00",
          "2023-08-03T10:31:00",
          "2023-08-03T10:32:00",
          "2023-08-03T10:33:00",
          "2023-08-03T10:34:00",
          "2023-08-03T10:35:00",
          "2023-08-03T10:36:00",
          "2023-08-03T10:37:00",
          "2023-08-03T10:38:00",
          "2023-08-03T10:39:00",
          "2023-08-03T10:40:00",
          "2023-08-03T10:41:00",
          "2023-08-03T10:42:00",
          "2023-08-03T10:43:00",
          "2023-08-03T10:44:00",
          "2023-08-03T10:45:00",
          "2023-08-03T10:46:00",
          "2023-08-03T10:47:00",
          "2023-08-03T10:48:00",
          "2023-08-03T10:49:00",
          "2023-08-03T10:50:00",
          "2023-08-03T10:51:00",
          "2023-08-03T10:52:00",
          "2023-08-03T10:53:00",
          "2023-08-03T10:54:00",
          "2023-08-03T10:55:00",
          "2023-08-03T10:56:00",
          "2023-08-03T10:57:00",
          "2023-08-03T10:58:00",
          "2023-08-03T10:59:00",
          "2023-08-03T11:00:00",
          "2023-08-03T11:01:00",
          "2023-08-03T11:02:00",
          "2023-08-03T11:03:00",
          "2023-08-03T11:04:00",
          "2023-08-03T11:05:00",
          "2023-08-03T11:06:00",
          "2023-08-03T11:07:00",
          "2023-08-03T11:08:00",
          "2023-08-03T11:09:00",
          "2023-08-03T11:10:00",
          "2023-08-03T11:11:00",
          "2023-08-03T11:12:00",
          "2023-08-03T11:13:00",
          "2023-08-03T11:14:00",
          "2023-08-03T11:15:00",
          "2023-08-03T11:16:00",
          "2023-08-03T11:17:00",
          "2023-08-03T11:18:00",
          "2023-08-03T11:19:00",
          "2023-08-03T11:20:00",
          "2023-08-03T11:21:00",
          "2023-08-03T11:22:00",
          "2023-08-03T11:23:00",
          "2023-08-03T11:24:00",
          "2023-08-03T11:25:00",
          "2023-08-03T11:26:00",
          "2023-08-03T11:27:00",
          "2023-08-03T11:28:00",
          "2023-08-03T11:29:00",
          "2023-08-03T11:30:00",
          "2023-08-03T11:31:00",
          "2023-08-03T11:32:00",
          "2023-08-03T11:33:00",
          "2023-08-03T11:34:00",
          "2023-08-03T11:35:00",
          "2023-08-03T11:36:00",
          "2023-08-03T11:37:00",
          "2023-08-03T11:38:00",
          "2023-08-03T11:39:00",
          "2023-08-03T11:40:00",
          "2023-08-03T11:41:00",
          "2023-08-03T11:42:00",
          "2023-08-03T11:43:00",
          "2023-08-03T11:44:00",
          "2023-08-03T11:45:00",
          "2023-08-03T11:46:00",
          "2023-08-03T11:47:00",
          "2023-08-03T11:48:00",
          "2023-08-03T11:49:00"
         ],
         "xaxis": "x",
         "y": [
          1,
          1,
          1,
          0,
          0,
          0,
          0,
          0,
          0,
          0,
          0,
          0,
          0,
          1,
          1,
          0,
          0,
          0,
          0,
          0,
          0,
          0,
          0,
          1,
          1,
          0,
          0,
          0,
          0,
          0,
          0,
          0,
          0,
          0,
          0,
          0,
          0,
          0,
          0,
          0,
          0,
          0,
          0,
          0,
          0,
          0,
          0,
          0,
          0,
          0,
          0,
          0,
          0,
          0,
          0,
          0,
          0,
          0,
          0,
          0,
          0,
          0,
          0,
          0,
          0,
          0,
          0,
          0,
          0,
          0,
          0,
          0,
          0,
          0,
          0,
          0,
          0,
          0,
          0,
          0,
          0,
          1,
          1,
          2,
          2,
          0,
          0,
          0,
          1,
          2,
          1,
          1,
          3,
          2,
          0,
          0,
          0,
          0,
          0,
          0,
          0,
          1,
          1,
          0,
          0,
          0,
          0,
          0,
          1,
          2
         ],
         "yaxis": "y"
        }
       ],
       "layout": {
        "legend": {
         "title": {
          "text": "Users"
         },
         "tracegroupgap": 0
        },
        "template": {
         "data": {
          "bar": [
           {
            "error_x": {
             "color": "#2a3f5f"
            },
            "error_y": {
             "color": "#2a3f5f"
            },
            "marker": {
             "line": {
              "color": "#E5ECF6",
              "width": 0.5
             },
             "pattern": {
              "fillmode": "overlay",
              "size": 10,
              "solidity": 0.2
             }
            },
            "type": "bar"
           }
          ],
          "barpolar": [
           {
            "marker": {
             "line": {
              "color": "#E5ECF6",
              "width": 0.5
             },
             "pattern": {
              "fillmode": "overlay",
              "size": 10,
              "solidity": 0.2
             }
            },
            "type": "barpolar"
           }
          ],
          "carpet": [
           {
            "aaxis": {
             "endlinecolor": "#2a3f5f",
             "gridcolor": "white",
             "linecolor": "white",
             "minorgridcolor": "white",
             "startlinecolor": "#2a3f5f"
            },
            "baxis": {
             "endlinecolor": "#2a3f5f",
             "gridcolor": "white",
             "linecolor": "white",
             "minorgridcolor": "white",
             "startlinecolor": "#2a3f5f"
            },
            "type": "carpet"
           }
          ],
          "choropleth": [
           {
            "colorbar": {
             "outlinewidth": 0,
             "ticks": ""
            },
            "type": "choropleth"
           }
          ],
          "contour": [
           {
            "colorbar": {
             "outlinewidth": 0,
             "ticks": ""
            },
            "colorscale": [
             [
              0,
              "#0d0887"
             ],
             [
              0.1111111111111111,
              "#46039f"
             ],
             [
              0.2222222222222222,
              "#7201a8"
             ],
             [
              0.3333333333333333,
              "#9c179e"
             ],
             [
              0.4444444444444444,
              "#bd3786"
             ],
             [
              0.5555555555555556,
              "#d8576b"
             ],
             [
              0.6666666666666666,
              "#ed7953"
             ],
             [
              0.7777777777777778,
              "#fb9f3a"
             ],
             [
              0.8888888888888888,
              "#fdca26"
             ],
             [
              1,
              "#f0f921"
             ]
            ],
            "type": "contour"
           }
          ],
          "contourcarpet": [
           {
            "colorbar": {
             "outlinewidth": 0,
             "ticks": ""
            },
            "type": "contourcarpet"
           }
          ],
          "heatmap": [
           {
            "colorbar": {
             "outlinewidth": 0,
             "ticks": ""
            },
            "colorscale": [
             [
              0,
              "#0d0887"
             ],
             [
              0.1111111111111111,
              "#46039f"
             ],
             [
              0.2222222222222222,
              "#7201a8"
             ],
             [
              0.3333333333333333,
              "#9c179e"
             ],
             [
              0.4444444444444444,
              "#bd3786"
             ],
             [
              0.5555555555555556,
              "#d8576b"
             ],
             [
              0.6666666666666666,
              "#ed7953"
             ],
             [
              0.7777777777777778,
              "#fb9f3a"
             ],
             [
              0.8888888888888888,
              "#fdca26"
             ],
             [
              1,
              "#f0f921"
             ]
            ],
            "type": "heatmap"
           }
          ],
          "heatmapgl": [
           {
            "colorbar": {
             "outlinewidth": 0,
             "ticks": ""
            },
            "colorscale": [
             [
              0,
              "#0d0887"
             ],
             [
              0.1111111111111111,
              "#46039f"
             ],
             [
              0.2222222222222222,
              "#7201a8"
             ],
             [
              0.3333333333333333,
              "#9c179e"
             ],
             [
              0.4444444444444444,
              "#bd3786"
             ],
             [
              0.5555555555555556,
              "#d8576b"
             ],
             [
              0.6666666666666666,
              "#ed7953"
             ],
             [
              0.7777777777777778,
              "#fb9f3a"
             ],
             [
              0.8888888888888888,
              "#fdca26"
             ],
             [
              1,
              "#f0f921"
             ]
            ],
            "type": "heatmapgl"
           }
          ],
          "histogram": [
           {
            "marker": {
             "pattern": {
              "fillmode": "overlay",
              "size": 10,
              "solidity": 0.2
             }
            },
            "type": "histogram"
           }
          ],
          "histogram2d": [
           {
            "colorbar": {
             "outlinewidth": 0,
             "ticks": ""
            },
            "colorscale": [
             [
              0,
              "#0d0887"
             ],
             [
              0.1111111111111111,
              "#46039f"
             ],
             [
              0.2222222222222222,
              "#7201a8"
             ],
             [
              0.3333333333333333,
              "#9c179e"
             ],
             [
              0.4444444444444444,
              "#bd3786"
             ],
             [
              0.5555555555555556,
              "#d8576b"
             ],
             [
              0.6666666666666666,
              "#ed7953"
             ],
             [
              0.7777777777777778,
              "#fb9f3a"
             ],
             [
              0.8888888888888888,
              "#fdca26"
             ],
             [
              1,
              "#f0f921"
             ]
            ],
            "type": "histogram2d"
           }
          ],
          "histogram2dcontour": [
           {
            "colorbar": {
             "outlinewidth": 0,
             "ticks": ""
            },
            "colorscale": [
             [
              0,
              "#0d0887"
             ],
             [
              0.1111111111111111,
              "#46039f"
             ],
             [
              0.2222222222222222,
              "#7201a8"
             ],
             [
              0.3333333333333333,
              "#9c179e"
             ],
             [
              0.4444444444444444,
              "#bd3786"
             ],
             [
              0.5555555555555556,
              "#d8576b"
             ],
             [
              0.6666666666666666,
              "#ed7953"
             ],
             [
              0.7777777777777778,
              "#fb9f3a"
             ],
             [
              0.8888888888888888,
              "#fdca26"
             ],
             [
              1,
              "#f0f921"
             ]
            ],
            "type": "histogram2dcontour"
           }
          ],
          "mesh3d": [
           {
            "colorbar": {
             "outlinewidth": 0,
             "ticks": ""
            },
            "type": "mesh3d"
           }
          ],
          "parcoords": [
           {
            "line": {
             "colorbar": {
              "outlinewidth": 0,
              "ticks": ""
             }
            },
            "type": "parcoords"
           }
          ],
          "pie": [
           {
            "automargin": true,
            "type": "pie"
           }
          ],
          "scatter": [
           {
            "fillpattern": {
             "fillmode": "overlay",
             "size": 10,
             "solidity": 0.2
            },
            "type": "scatter"
           }
          ],
          "scatter3d": [
           {
            "line": {
             "colorbar": {
              "outlinewidth": 0,
              "ticks": ""
             }
            },
            "marker": {
             "colorbar": {
              "outlinewidth": 0,
              "ticks": ""
             }
            },
            "type": "scatter3d"
           }
          ],
          "scattercarpet": [
           {
            "marker": {
             "colorbar": {
              "outlinewidth": 0,
              "ticks": ""
             }
            },
            "type": "scattercarpet"
           }
          ],
          "scattergeo": [
           {
            "marker": {
             "colorbar": {
              "outlinewidth": 0,
              "ticks": ""
             }
            },
            "type": "scattergeo"
           }
          ],
          "scattergl": [
           {
            "marker": {
             "colorbar": {
              "outlinewidth": 0,
              "ticks": ""
             }
            },
            "type": "scattergl"
           }
          ],
          "scattermapbox": [
           {
            "marker": {
             "colorbar": {
              "outlinewidth": 0,
              "ticks": ""
             }
            },
            "type": "scattermapbox"
           }
          ],
          "scatterpolar": [
           {
            "marker": {
             "colorbar": {
              "outlinewidth": 0,
              "ticks": ""
             }
            },
            "type": "scatterpolar"
           }
          ],
          "scatterpolargl": [
           {
            "marker": {
             "colorbar": {
              "outlinewidth": 0,
              "ticks": ""
             }
            },
            "type": "scatterpolargl"
           }
          ],
          "scatterternary": [
           {
            "marker": {
             "colorbar": {
              "outlinewidth": 0,
              "ticks": ""
             }
            },
            "type": "scatterternary"
           }
          ],
          "surface": [
           {
            "colorbar": {
             "outlinewidth": 0,
             "ticks": ""
            },
            "colorscale": [
             [
              0,
              "#0d0887"
             ],
             [
              0.1111111111111111,
              "#46039f"
             ],
             [
              0.2222222222222222,
              "#7201a8"
             ],
             [
              0.3333333333333333,
              "#9c179e"
             ],
             [
              0.4444444444444444,
              "#bd3786"
             ],
             [
              0.5555555555555556,
              "#d8576b"
             ],
             [
              0.6666666666666666,
              "#ed7953"
             ],
             [
              0.7777777777777778,
              "#fb9f3a"
             ],
             [
              0.8888888888888888,
              "#fdca26"
             ],
             [
              1,
              "#f0f921"
             ]
            ],
            "type": "surface"
           }
          ],
          "table": [
           {
            "cells": {
             "fill": {
              "color": "#EBF0F8"
             },
             "line": {
              "color": "white"
             }
            },
            "header": {
             "fill": {
              "color": "#C8D4E3"
             },
             "line": {
              "color": "white"
             }
            },
            "type": "table"
           }
          ]
         },
         "layout": {
          "annotationdefaults": {
           "arrowcolor": "#2a3f5f",
           "arrowhead": 0,
           "arrowwidth": 1
          },
          "autotypenumbers": "strict",
          "coloraxis": {
           "colorbar": {
            "outlinewidth": 0,
            "ticks": ""
           }
          },
          "colorscale": {
           "diverging": [
            [
             0,
             "#8e0152"
            ],
            [
             0.1,
             "#c51b7d"
            ],
            [
             0.2,
             "#de77ae"
            ],
            [
             0.3,
             "#f1b6da"
            ],
            [
             0.4,
             "#fde0ef"
            ],
            [
             0.5,
             "#f7f7f7"
            ],
            [
             0.6,
             "#e6f5d0"
            ],
            [
             0.7,
             "#b8e186"
            ],
            [
             0.8,
             "#7fbc41"
            ],
            [
             0.9,
             "#4d9221"
            ],
            [
             1,
             "#276419"
            ]
           ],
           "sequential": [
            [
             0,
             "#0d0887"
            ],
            [
             0.1111111111111111,
             "#46039f"
            ],
            [
             0.2222222222222222,
             "#7201a8"
            ],
            [
             0.3333333333333333,
             "#9c179e"
            ],
            [
             0.4444444444444444,
             "#bd3786"
            ],
            [
             0.5555555555555556,
             "#d8576b"
            ],
            [
             0.6666666666666666,
             "#ed7953"
            ],
            [
             0.7777777777777778,
             "#fb9f3a"
            ],
            [
             0.8888888888888888,
             "#fdca26"
            ],
            [
             1,
             "#f0f921"
            ]
           ],
           "sequentialminus": [
            [
             0,
             "#0d0887"
            ],
            [
             0.1111111111111111,
             "#46039f"
            ],
            [
             0.2222222222222222,
             "#7201a8"
            ],
            [
             0.3333333333333333,
             "#9c179e"
            ],
            [
             0.4444444444444444,
             "#bd3786"
            ],
            [
             0.5555555555555556,
             "#d8576b"
            ],
            [
             0.6666666666666666,
             "#ed7953"
            ],
            [
             0.7777777777777778,
             "#fb9f3a"
            ],
            [
             0.8888888888888888,
             "#fdca26"
            ],
            [
             1,
             "#f0f921"
            ]
           ]
          },
          "colorway": [
           "#636efa",
           "#EF553B",
           "#00cc96",
           "#ab63fa",
           "#FFA15A",
           "#19d3f3",
           "#FF6692",
           "#B6E880",
           "#FF97FF",
           "#FECB52"
          ],
          "font": {
           "color": "#2a3f5f"
          },
          "geo": {
           "bgcolor": "white",
           "lakecolor": "white",
           "landcolor": "#E5ECF6",
           "showlakes": true,
           "showland": true,
           "subunitcolor": "white"
          },
          "hoverlabel": {
           "align": "left"
          },
          "hovermode": "closest",
          "mapbox": {
           "style": "light"
          },
          "paper_bgcolor": "white",
          "plot_bgcolor": "#E5ECF6",
          "polar": {
           "angularaxis": {
            "gridcolor": "white",
            "linecolor": "white",
            "ticks": ""
           },
           "bgcolor": "#E5ECF6",
           "radialaxis": {
            "gridcolor": "white",
            "linecolor": "white",
            "ticks": ""
           }
          },
          "scene": {
           "xaxis": {
            "backgroundcolor": "#E5ECF6",
            "gridcolor": "white",
            "gridwidth": 2,
            "linecolor": "white",
            "showbackground": true,
            "ticks": "",
            "zerolinecolor": "white"
           },
           "yaxis": {
            "backgroundcolor": "#E5ECF6",
            "gridcolor": "white",
            "gridwidth": 2,
            "linecolor": "white",
            "showbackground": true,
            "ticks": "",
            "zerolinecolor": "white"
           },
           "zaxis": {
            "backgroundcolor": "#E5ECF6",
            "gridcolor": "white",
            "gridwidth": 2,
            "linecolor": "white",
            "showbackground": true,
            "ticks": "",
            "zerolinecolor": "white"
           }
          },
          "shapedefaults": {
           "line": {
            "color": "#2a3f5f"
           }
          },
          "ternary": {
           "aaxis": {
            "gridcolor": "white",
            "linecolor": "white",
            "ticks": ""
           },
           "baxis": {
            "gridcolor": "white",
            "linecolor": "white",
            "ticks": ""
           },
           "bgcolor": "#E5ECF6",
           "caxis": {
            "gridcolor": "white",
            "linecolor": "white",
            "ticks": ""
           }
          },
          "title": {
           "x": 0.05
          },
          "xaxis": {
           "automargin": true,
           "gridcolor": "white",
           "linecolor": "white",
           "ticks": "",
           "title": {
            "standoff": 15
           },
           "zerolinecolor": "white",
           "zerolinewidth": 2
          },
          "yaxis": {
           "automargin": true,
           "gridcolor": "white",
           "linecolor": "white",
           "ticks": "",
           "title": {
            "standoff": 15
           },
           "zerolinecolor": "white",
           "zerolinewidth": 2
          }
         }
        },
        "title": {
         "text": "Minutes timeline"
        },
        "xaxis": {
         "anchor": "y",
         "domain": [
          0,
          1
         ],
         "rangeslider": {
          "visible": true
         },
         "title": {
          "text": "Minutes"
         }
        },
        "yaxis": {
         "anchor": "x",
         "domain": [
          0,
          1
         ],
         "title": {
          "text": "Message count"
         }
        }
       }
      }
     },
     "metadata": {},
     "output_type": "display_data"
    }
   ],
   "source": [
    "import plotly.express as px\n",
    "\n",
    "figures = {}\n",
    "\n",
    "for timeline_type in timeline_type_dataframe.keys():\n",
    "\n",
    "    timeline_df = timeline_type_dataframe[timeline_type]\n",
    "\n",
    "\n",
    "    if timeline_type == \"Weekdays\":\n",
    "\n",
    "        weeks_plot = []\n",
    "\n",
    "        for week_num in range(1,5):\n",
    "\n",
    "            fig = px.line(timeline_df, x=\"x\", y=f\"y{week_num}\", \n",
    "                        labels={\n",
    "                                \"x\": timeline_type,\n",
    "                                f\"y{week_num}\": \"Message count\",\n",
    "                                \"username\": \"Users\"\n",
    "                            },\n",
    "\n",
    "                        title=f\"{timeline_type} [week - {week_num}] timeline\", \n",
    "                        color='username',markers = True\n",
    "                        \n",
    "                        )\n",
    "    \n",
    "            weeks_plot.append(fig)\n",
    "            fig.show()\n",
    "\n",
    "        figures[timeline_type] = weeks_plot\n",
    "             \n",
    "        continue          \n",
    "\n",
    "\n",
    "\n",
    "    fig = px.line(timeline_df, x=\"x\", y=\"y\", \n",
    "                labels={\n",
    "                        \"x\": timeline_type,\n",
    "                        \"y\": \"Message count\",\n",
    "                        \"username\": \"Users\"\n",
    "                    },\n",
    "\n",
    "                title=f\"{timeline_type} timeline\", \n",
    "                color='username',markers = True\n",
    "                \n",
    "                )\n",
    "\n",
    "\n",
    "    if timeline_type == \"Years\":\n",
    "        fig.update_layout( xaxis={\n",
    "            'range': [timeline_df['x'].min(), timeline_df['x'].max()], \n",
    "            'tickvals': [*range(int(timeline_df['x'].min()), int(timeline_df['x'].max()))]})\n",
    "\n",
    "    if timeline_type in [\"Years\",\"Days\",\"Hours\",\"Minutes\"]:\n",
    "        fig.update_xaxes(rangeslider_visible=True)            \n",
    "\n",
    "    figures[timeline_type] = fig\n",
    "\n",
    "    fig.show()\n",
    "\n"
   ]
  },
  {
   "cell_type": "markdown",
   "metadata": {},
   "source": [
    "# Bargraph - counting No. of messages in a given timeline"
   ]
  },
  {
   "cell_type": "code",
   "execution_count": 27,
   "metadata": {},
   "outputs": [],
   "source": [
    "bar_plot_names = [\"Years\",\"Months\",\"Weekdays\",\"Days\",\"Hours\",\"Minutes\"]\n",
    "bar_type_dataframe = {bar_plot_type : \"\" for bar_plot_type in bar_plot_names }"
   ]
  },
  {
   "cell_type": "code",
   "execution_count": 28,
   "metadata": {},
   "outputs": [],
   "source": [
    "for timeline_type,timeline_df in timeline_type_dataframe.items():\n",
    "    df = timeline_df.groupby(\"x\").sum()\n",
    "    df.drop(\"username\",inplace=True,axis=1)\n",
    "    df.reset_index(inplace=True)\n",
    "    bar_type_dataframe[timeline_type]=df"
   ]
  },
  {
   "cell_type": "code",
   "execution_count": 29,
   "metadata": {},
   "outputs": [
    {
     "data": {
      "application/vnd.plotly.v1+json": {
       "config": {
        "plotlyServerURL": "https://plot.ly"
       },
       "data": [
        {
         "alignmentgroup": "True",
         "hovertemplate": "Years=%{x}<br>Message count=%{y}<extra></extra>",
         "legendgroup": "",
         "marker": {
          "color": "#636efa",
          "pattern": {
           "shape": ""
          }
         },
         "name": "",
         "offsetgroup": "",
         "orientation": "v",
         "showlegend": false,
         "textposition": "auto",
         "texttemplate": "%{y:.2s}",
         "type": "bar",
         "x": [
          2020,
          2021,
          2022,
          2023,
          2024,
          2025
         ],
         "xaxis": "x",
         "y": [
          0,
          0,
          0,
          1554,
          0,
          0
         ],
         "yaxis": "y"
        }
       ],
       "layout": {
        "barmode": "relative",
        "legend": {
         "tracegroupgap": 0
        },
        "template": {
         "data": {
          "bar": [
           {
            "error_x": {
             "color": "#2a3f5f"
            },
            "error_y": {
             "color": "#2a3f5f"
            },
            "marker": {
             "line": {
              "color": "#E5ECF6",
              "width": 0.5
             },
             "pattern": {
              "fillmode": "overlay",
              "size": 10,
              "solidity": 0.2
             }
            },
            "type": "bar"
           }
          ],
          "barpolar": [
           {
            "marker": {
             "line": {
              "color": "#E5ECF6",
              "width": 0.5
             },
             "pattern": {
              "fillmode": "overlay",
              "size": 10,
              "solidity": 0.2
             }
            },
            "type": "barpolar"
           }
          ],
          "carpet": [
           {
            "aaxis": {
             "endlinecolor": "#2a3f5f",
             "gridcolor": "white",
             "linecolor": "white",
             "minorgridcolor": "white",
             "startlinecolor": "#2a3f5f"
            },
            "baxis": {
             "endlinecolor": "#2a3f5f",
             "gridcolor": "white",
             "linecolor": "white",
             "minorgridcolor": "white",
             "startlinecolor": "#2a3f5f"
            },
            "type": "carpet"
           }
          ],
          "choropleth": [
           {
            "colorbar": {
             "outlinewidth": 0,
             "ticks": ""
            },
            "type": "choropleth"
           }
          ],
          "contour": [
           {
            "colorbar": {
             "outlinewidth": 0,
             "ticks": ""
            },
            "colorscale": [
             [
              0,
              "#0d0887"
             ],
             [
              0.1111111111111111,
              "#46039f"
             ],
             [
              0.2222222222222222,
              "#7201a8"
             ],
             [
              0.3333333333333333,
              "#9c179e"
             ],
             [
              0.4444444444444444,
              "#bd3786"
             ],
             [
              0.5555555555555556,
              "#d8576b"
             ],
             [
              0.6666666666666666,
              "#ed7953"
             ],
             [
              0.7777777777777778,
              "#fb9f3a"
             ],
             [
              0.8888888888888888,
              "#fdca26"
             ],
             [
              1,
              "#f0f921"
             ]
            ],
            "type": "contour"
           }
          ],
          "contourcarpet": [
           {
            "colorbar": {
             "outlinewidth": 0,
             "ticks": ""
            },
            "type": "contourcarpet"
           }
          ],
          "heatmap": [
           {
            "colorbar": {
             "outlinewidth": 0,
             "ticks": ""
            },
            "colorscale": [
             [
              0,
              "#0d0887"
             ],
             [
              0.1111111111111111,
              "#46039f"
             ],
             [
              0.2222222222222222,
              "#7201a8"
             ],
             [
              0.3333333333333333,
              "#9c179e"
             ],
             [
              0.4444444444444444,
              "#bd3786"
             ],
             [
              0.5555555555555556,
              "#d8576b"
             ],
             [
              0.6666666666666666,
              "#ed7953"
             ],
             [
              0.7777777777777778,
              "#fb9f3a"
             ],
             [
              0.8888888888888888,
              "#fdca26"
             ],
             [
              1,
              "#f0f921"
             ]
            ],
            "type": "heatmap"
           }
          ],
          "heatmapgl": [
           {
            "colorbar": {
             "outlinewidth": 0,
             "ticks": ""
            },
            "colorscale": [
             [
              0,
              "#0d0887"
             ],
             [
              0.1111111111111111,
              "#46039f"
             ],
             [
              0.2222222222222222,
              "#7201a8"
             ],
             [
              0.3333333333333333,
              "#9c179e"
             ],
             [
              0.4444444444444444,
              "#bd3786"
             ],
             [
              0.5555555555555556,
              "#d8576b"
             ],
             [
              0.6666666666666666,
              "#ed7953"
             ],
             [
              0.7777777777777778,
              "#fb9f3a"
             ],
             [
              0.8888888888888888,
              "#fdca26"
             ],
             [
              1,
              "#f0f921"
             ]
            ],
            "type": "heatmapgl"
           }
          ],
          "histogram": [
           {
            "marker": {
             "pattern": {
              "fillmode": "overlay",
              "size": 10,
              "solidity": 0.2
             }
            },
            "type": "histogram"
           }
          ],
          "histogram2d": [
           {
            "colorbar": {
             "outlinewidth": 0,
             "ticks": ""
            },
            "colorscale": [
             [
              0,
              "#0d0887"
             ],
             [
              0.1111111111111111,
              "#46039f"
             ],
             [
              0.2222222222222222,
              "#7201a8"
             ],
             [
              0.3333333333333333,
              "#9c179e"
             ],
             [
              0.4444444444444444,
              "#bd3786"
             ],
             [
              0.5555555555555556,
              "#d8576b"
             ],
             [
              0.6666666666666666,
              "#ed7953"
             ],
             [
              0.7777777777777778,
              "#fb9f3a"
             ],
             [
              0.8888888888888888,
              "#fdca26"
             ],
             [
              1,
              "#f0f921"
             ]
            ],
            "type": "histogram2d"
           }
          ],
          "histogram2dcontour": [
           {
            "colorbar": {
             "outlinewidth": 0,
             "ticks": ""
            },
            "colorscale": [
             [
              0,
              "#0d0887"
             ],
             [
              0.1111111111111111,
              "#46039f"
             ],
             [
              0.2222222222222222,
              "#7201a8"
             ],
             [
              0.3333333333333333,
              "#9c179e"
             ],
             [
              0.4444444444444444,
              "#bd3786"
             ],
             [
              0.5555555555555556,
              "#d8576b"
             ],
             [
              0.6666666666666666,
              "#ed7953"
             ],
             [
              0.7777777777777778,
              "#fb9f3a"
             ],
             [
              0.8888888888888888,
              "#fdca26"
             ],
             [
              1,
              "#f0f921"
             ]
            ],
            "type": "histogram2dcontour"
           }
          ],
          "mesh3d": [
           {
            "colorbar": {
             "outlinewidth": 0,
             "ticks": ""
            },
            "type": "mesh3d"
           }
          ],
          "parcoords": [
           {
            "line": {
             "colorbar": {
              "outlinewidth": 0,
              "ticks": ""
             }
            },
            "type": "parcoords"
           }
          ],
          "pie": [
           {
            "automargin": true,
            "type": "pie"
           }
          ],
          "scatter": [
           {
            "fillpattern": {
             "fillmode": "overlay",
             "size": 10,
             "solidity": 0.2
            },
            "type": "scatter"
           }
          ],
          "scatter3d": [
           {
            "line": {
             "colorbar": {
              "outlinewidth": 0,
              "ticks": ""
             }
            },
            "marker": {
             "colorbar": {
              "outlinewidth": 0,
              "ticks": ""
             }
            },
            "type": "scatter3d"
           }
          ],
          "scattercarpet": [
           {
            "marker": {
             "colorbar": {
              "outlinewidth": 0,
              "ticks": ""
             }
            },
            "type": "scattercarpet"
           }
          ],
          "scattergeo": [
           {
            "marker": {
             "colorbar": {
              "outlinewidth": 0,
              "ticks": ""
             }
            },
            "type": "scattergeo"
           }
          ],
          "scattergl": [
           {
            "marker": {
             "colorbar": {
              "outlinewidth": 0,
              "ticks": ""
             }
            },
            "type": "scattergl"
           }
          ],
          "scattermapbox": [
           {
            "marker": {
             "colorbar": {
              "outlinewidth": 0,
              "ticks": ""
             }
            },
            "type": "scattermapbox"
           }
          ],
          "scatterpolar": [
           {
            "marker": {
             "colorbar": {
              "outlinewidth": 0,
              "ticks": ""
             }
            },
            "type": "scatterpolar"
           }
          ],
          "scatterpolargl": [
           {
            "marker": {
             "colorbar": {
              "outlinewidth": 0,
              "ticks": ""
             }
            },
            "type": "scatterpolargl"
           }
          ],
          "scatterternary": [
           {
            "marker": {
             "colorbar": {
              "outlinewidth": 0,
              "ticks": ""
             }
            },
            "type": "scatterternary"
           }
          ],
          "surface": [
           {
            "colorbar": {
             "outlinewidth": 0,
             "ticks": ""
            },
            "colorscale": [
             [
              0,
              "#0d0887"
             ],
             [
              0.1111111111111111,
              "#46039f"
             ],
             [
              0.2222222222222222,
              "#7201a8"
             ],
             [
              0.3333333333333333,
              "#9c179e"
             ],
             [
              0.4444444444444444,
              "#bd3786"
             ],
             [
              0.5555555555555556,
              "#d8576b"
             ],
             [
              0.6666666666666666,
              "#ed7953"
             ],
             [
              0.7777777777777778,
              "#fb9f3a"
             ],
             [
              0.8888888888888888,
              "#fdca26"
             ],
             [
              1,
              "#f0f921"
             ]
            ],
            "type": "surface"
           }
          ],
          "table": [
           {
            "cells": {
             "fill": {
              "color": "#EBF0F8"
             },
             "line": {
              "color": "white"
             }
            },
            "header": {
             "fill": {
              "color": "#C8D4E3"
             },
             "line": {
              "color": "white"
             }
            },
            "type": "table"
           }
          ]
         },
         "layout": {
          "annotationdefaults": {
           "arrowcolor": "#2a3f5f",
           "arrowhead": 0,
           "arrowwidth": 1
          },
          "autotypenumbers": "strict",
          "coloraxis": {
           "colorbar": {
            "outlinewidth": 0,
            "ticks": ""
           }
          },
          "colorscale": {
           "diverging": [
            [
             0,
             "#8e0152"
            ],
            [
             0.1,
             "#c51b7d"
            ],
            [
             0.2,
             "#de77ae"
            ],
            [
             0.3,
             "#f1b6da"
            ],
            [
             0.4,
             "#fde0ef"
            ],
            [
             0.5,
             "#f7f7f7"
            ],
            [
             0.6,
             "#e6f5d0"
            ],
            [
             0.7,
             "#b8e186"
            ],
            [
             0.8,
             "#7fbc41"
            ],
            [
             0.9,
             "#4d9221"
            ],
            [
             1,
             "#276419"
            ]
           ],
           "sequential": [
            [
             0,
             "#0d0887"
            ],
            [
             0.1111111111111111,
             "#46039f"
            ],
            [
             0.2222222222222222,
             "#7201a8"
            ],
            [
             0.3333333333333333,
             "#9c179e"
            ],
            [
             0.4444444444444444,
             "#bd3786"
            ],
            [
             0.5555555555555556,
             "#d8576b"
            ],
            [
             0.6666666666666666,
             "#ed7953"
            ],
            [
             0.7777777777777778,
             "#fb9f3a"
            ],
            [
             0.8888888888888888,
             "#fdca26"
            ],
            [
             1,
             "#f0f921"
            ]
           ],
           "sequentialminus": [
            [
             0,
             "#0d0887"
            ],
            [
             0.1111111111111111,
             "#46039f"
            ],
            [
             0.2222222222222222,
             "#7201a8"
            ],
            [
             0.3333333333333333,
             "#9c179e"
            ],
            [
             0.4444444444444444,
             "#bd3786"
            ],
            [
             0.5555555555555556,
             "#d8576b"
            ],
            [
             0.6666666666666666,
             "#ed7953"
            ],
            [
             0.7777777777777778,
             "#fb9f3a"
            ],
            [
             0.8888888888888888,
             "#fdca26"
            ],
            [
             1,
             "#f0f921"
            ]
           ]
          },
          "colorway": [
           "#636efa",
           "#EF553B",
           "#00cc96",
           "#ab63fa",
           "#FFA15A",
           "#19d3f3",
           "#FF6692",
           "#B6E880",
           "#FF97FF",
           "#FECB52"
          ],
          "font": {
           "color": "#2a3f5f"
          },
          "geo": {
           "bgcolor": "white",
           "lakecolor": "white",
           "landcolor": "#E5ECF6",
           "showlakes": true,
           "showland": true,
           "subunitcolor": "white"
          },
          "hoverlabel": {
           "align": "left"
          },
          "hovermode": "closest",
          "mapbox": {
           "style": "light"
          },
          "paper_bgcolor": "white",
          "plot_bgcolor": "#E5ECF6",
          "polar": {
           "angularaxis": {
            "gridcolor": "white",
            "linecolor": "white",
            "ticks": ""
           },
           "bgcolor": "#E5ECF6",
           "radialaxis": {
            "gridcolor": "white",
            "linecolor": "white",
            "ticks": ""
           }
          },
          "scene": {
           "xaxis": {
            "backgroundcolor": "#E5ECF6",
            "gridcolor": "white",
            "gridwidth": 2,
            "linecolor": "white",
            "showbackground": true,
            "ticks": "",
            "zerolinecolor": "white"
           },
           "yaxis": {
            "backgroundcolor": "#E5ECF6",
            "gridcolor": "white",
            "gridwidth": 2,
            "linecolor": "white",
            "showbackground": true,
            "ticks": "",
            "zerolinecolor": "white"
           },
           "zaxis": {
            "backgroundcolor": "#E5ECF6",
            "gridcolor": "white",
            "gridwidth": 2,
            "linecolor": "white",
            "showbackground": true,
            "ticks": "",
            "zerolinecolor": "white"
           }
          },
          "shapedefaults": {
           "line": {
            "color": "#2a3f5f"
           }
          },
          "ternary": {
           "aaxis": {
            "gridcolor": "white",
            "linecolor": "white",
            "ticks": ""
           },
           "baxis": {
            "gridcolor": "white",
            "linecolor": "white",
            "ticks": ""
           },
           "bgcolor": "#E5ECF6",
           "caxis": {
            "gridcolor": "white",
            "linecolor": "white",
            "ticks": ""
           }
          },
          "title": {
           "x": 0.05
          },
          "xaxis": {
           "automargin": true,
           "gridcolor": "white",
           "linecolor": "white",
           "ticks": "",
           "title": {
            "standoff": 15
           },
           "zerolinecolor": "white",
           "zerolinewidth": 2
          },
          "yaxis": {
           "automargin": true,
           "gridcolor": "white",
           "linecolor": "white",
           "ticks": "",
           "title": {
            "standoff": 15
           },
           "zerolinecolor": "white",
           "zerolinewidth": 2
          }
         }
        },
        "title": {
         "text": "Years timeline"
        },
        "xaxis": {
         "anchor": "y",
         "domain": [
          0,
          1
         ],
         "range": [
          2020,
          2025
         ],
         "rangeslider": {
          "visible": true
         },
         "tickvals": [
          2020,
          2021,
          2022,
          2023,
          2024
         ],
         "title": {
          "text": "Years"
         }
        },
        "yaxis": {
         "anchor": "x",
         "domain": [
          0,
          1
         ],
         "title": {
          "text": "Message count"
         }
        }
       }
      }
     },
     "metadata": {},
     "output_type": "display_data"
    },
    {
     "data": {
      "application/vnd.plotly.v1+json": {
       "config": {
        "plotlyServerURL": "https://plot.ly"
       },
       "data": [
        {
         "alignmentgroup": "True",
         "hovertemplate": "Months=%{x}<br>Message count=%{y}<extra></extra>",
         "legendgroup": "",
         "marker": {
          "color": "#636efa",
          "pattern": {
           "shape": ""
          }
         },
         "name": "",
         "offsetgroup": "",
         "orientation": "v",
         "showlegend": false,
         "textposition": "auto",
         "texttemplate": "%{y:.2s}",
         "type": "bar",
         "x": [
          "August",
          "July",
          "November",
          "October",
          "September"
         ],
         "xaxis": "x",
         "y": [
          429,
          21,
          351,
          335,
          333
         ],
         "yaxis": "y"
        }
       ],
       "layout": {
        "barmode": "relative",
        "legend": {
         "tracegroupgap": 0
        },
        "template": {
         "data": {
          "bar": [
           {
            "error_x": {
             "color": "#2a3f5f"
            },
            "error_y": {
             "color": "#2a3f5f"
            },
            "marker": {
             "line": {
              "color": "#E5ECF6",
              "width": 0.5
             },
             "pattern": {
              "fillmode": "overlay",
              "size": 10,
              "solidity": 0.2
             }
            },
            "type": "bar"
           }
          ],
          "barpolar": [
           {
            "marker": {
             "line": {
              "color": "#E5ECF6",
              "width": 0.5
             },
             "pattern": {
              "fillmode": "overlay",
              "size": 10,
              "solidity": 0.2
             }
            },
            "type": "barpolar"
           }
          ],
          "carpet": [
           {
            "aaxis": {
             "endlinecolor": "#2a3f5f",
             "gridcolor": "white",
             "linecolor": "white",
             "minorgridcolor": "white",
             "startlinecolor": "#2a3f5f"
            },
            "baxis": {
             "endlinecolor": "#2a3f5f",
             "gridcolor": "white",
             "linecolor": "white",
             "minorgridcolor": "white",
             "startlinecolor": "#2a3f5f"
            },
            "type": "carpet"
           }
          ],
          "choropleth": [
           {
            "colorbar": {
             "outlinewidth": 0,
             "ticks": ""
            },
            "type": "choropleth"
           }
          ],
          "contour": [
           {
            "colorbar": {
             "outlinewidth": 0,
             "ticks": ""
            },
            "colorscale": [
             [
              0,
              "#0d0887"
             ],
             [
              0.1111111111111111,
              "#46039f"
             ],
             [
              0.2222222222222222,
              "#7201a8"
             ],
             [
              0.3333333333333333,
              "#9c179e"
             ],
             [
              0.4444444444444444,
              "#bd3786"
             ],
             [
              0.5555555555555556,
              "#d8576b"
             ],
             [
              0.6666666666666666,
              "#ed7953"
             ],
             [
              0.7777777777777778,
              "#fb9f3a"
             ],
             [
              0.8888888888888888,
              "#fdca26"
             ],
             [
              1,
              "#f0f921"
             ]
            ],
            "type": "contour"
           }
          ],
          "contourcarpet": [
           {
            "colorbar": {
             "outlinewidth": 0,
             "ticks": ""
            },
            "type": "contourcarpet"
           }
          ],
          "heatmap": [
           {
            "colorbar": {
             "outlinewidth": 0,
             "ticks": ""
            },
            "colorscale": [
             [
              0,
              "#0d0887"
             ],
             [
              0.1111111111111111,
              "#46039f"
             ],
             [
              0.2222222222222222,
              "#7201a8"
             ],
             [
              0.3333333333333333,
              "#9c179e"
             ],
             [
              0.4444444444444444,
              "#bd3786"
             ],
             [
              0.5555555555555556,
              "#d8576b"
             ],
             [
              0.6666666666666666,
              "#ed7953"
             ],
             [
              0.7777777777777778,
              "#fb9f3a"
             ],
             [
              0.8888888888888888,
              "#fdca26"
             ],
             [
              1,
              "#f0f921"
             ]
            ],
            "type": "heatmap"
           }
          ],
          "heatmapgl": [
           {
            "colorbar": {
             "outlinewidth": 0,
             "ticks": ""
            },
            "colorscale": [
             [
              0,
              "#0d0887"
             ],
             [
              0.1111111111111111,
              "#46039f"
             ],
             [
              0.2222222222222222,
              "#7201a8"
             ],
             [
              0.3333333333333333,
              "#9c179e"
             ],
             [
              0.4444444444444444,
              "#bd3786"
             ],
             [
              0.5555555555555556,
              "#d8576b"
             ],
             [
              0.6666666666666666,
              "#ed7953"
             ],
             [
              0.7777777777777778,
              "#fb9f3a"
             ],
             [
              0.8888888888888888,
              "#fdca26"
             ],
             [
              1,
              "#f0f921"
             ]
            ],
            "type": "heatmapgl"
           }
          ],
          "histogram": [
           {
            "marker": {
             "pattern": {
              "fillmode": "overlay",
              "size": 10,
              "solidity": 0.2
             }
            },
            "type": "histogram"
           }
          ],
          "histogram2d": [
           {
            "colorbar": {
             "outlinewidth": 0,
             "ticks": ""
            },
            "colorscale": [
             [
              0,
              "#0d0887"
             ],
             [
              0.1111111111111111,
              "#46039f"
             ],
             [
              0.2222222222222222,
              "#7201a8"
             ],
             [
              0.3333333333333333,
              "#9c179e"
             ],
             [
              0.4444444444444444,
              "#bd3786"
             ],
             [
              0.5555555555555556,
              "#d8576b"
             ],
             [
              0.6666666666666666,
              "#ed7953"
             ],
             [
              0.7777777777777778,
              "#fb9f3a"
             ],
             [
              0.8888888888888888,
              "#fdca26"
             ],
             [
              1,
              "#f0f921"
             ]
            ],
            "type": "histogram2d"
           }
          ],
          "histogram2dcontour": [
           {
            "colorbar": {
             "outlinewidth": 0,
             "ticks": ""
            },
            "colorscale": [
             [
              0,
              "#0d0887"
             ],
             [
              0.1111111111111111,
              "#46039f"
             ],
             [
              0.2222222222222222,
              "#7201a8"
             ],
             [
              0.3333333333333333,
              "#9c179e"
             ],
             [
              0.4444444444444444,
              "#bd3786"
             ],
             [
              0.5555555555555556,
              "#d8576b"
             ],
             [
              0.6666666666666666,
              "#ed7953"
             ],
             [
              0.7777777777777778,
              "#fb9f3a"
             ],
             [
              0.8888888888888888,
              "#fdca26"
             ],
             [
              1,
              "#f0f921"
             ]
            ],
            "type": "histogram2dcontour"
           }
          ],
          "mesh3d": [
           {
            "colorbar": {
             "outlinewidth": 0,
             "ticks": ""
            },
            "type": "mesh3d"
           }
          ],
          "parcoords": [
           {
            "line": {
             "colorbar": {
              "outlinewidth": 0,
              "ticks": ""
             }
            },
            "type": "parcoords"
           }
          ],
          "pie": [
           {
            "automargin": true,
            "type": "pie"
           }
          ],
          "scatter": [
           {
            "fillpattern": {
             "fillmode": "overlay",
             "size": 10,
             "solidity": 0.2
            },
            "type": "scatter"
           }
          ],
          "scatter3d": [
           {
            "line": {
             "colorbar": {
              "outlinewidth": 0,
              "ticks": ""
             }
            },
            "marker": {
             "colorbar": {
              "outlinewidth": 0,
              "ticks": ""
             }
            },
            "type": "scatter3d"
           }
          ],
          "scattercarpet": [
           {
            "marker": {
             "colorbar": {
              "outlinewidth": 0,
              "ticks": ""
             }
            },
            "type": "scattercarpet"
           }
          ],
          "scattergeo": [
           {
            "marker": {
             "colorbar": {
              "outlinewidth": 0,
              "ticks": ""
             }
            },
            "type": "scattergeo"
           }
          ],
          "scattergl": [
           {
            "marker": {
             "colorbar": {
              "outlinewidth": 0,
              "ticks": ""
             }
            },
            "type": "scattergl"
           }
          ],
          "scattermapbox": [
           {
            "marker": {
             "colorbar": {
              "outlinewidth": 0,
              "ticks": ""
             }
            },
            "type": "scattermapbox"
           }
          ],
          "scatterpolar": [
           {
            "marker": {
             "colorbar": {
              "outlinewidth": 0,
              "ticks": ""
             }
            },
            "type": "scatterpolar"
           }
          ],
          "scatterpolargl": [
           {
            "marker": {
             "colorbar": {
              "outlinewidth": 0,
              "ticks": ""
             }
            },
            "type": "scatterpolargl"
           }
          ],
          "scatterternary": [
           {
            "marker": {
             "colorbar": {
              "outlinewidth": 0,
              "ticks": ""
             }
            },
            "type": "scatterternary"
           }
          ],
          "surface": [
           {
            "colorbar": {
             "outlinewidth": 0,
             "ticks": ""
            },
            "colorscale": [
             [
              0,
              "#0d0887"
             ],
             [
              0.1111111111111111,
              "#46039f"
             ],
             [
              0.2222222222222222,
              "#7201a8"
             ],
             [
              0.3333333333333333,
              "#9c179e"
             ],
             [
              0.4444444444444444,
              "#bd3786"
             ],
             [
              0.5555555555555556,
              "#d8576b"
             ],
             [
              0.6666666666666666,
              "#ed7953"
             ],
             [
              0.7777777777777778,
              "#fb9f3a"
             ],
             [
              0.8888888888888888,
              "#fdca26"
             ],
             [
              1,
              "#f0f921"
             ]
            ],
            "type": "surface"
           }
          ],
          "table": [
           {
            "cells": {
             "fill": {
              "color": "#EBF0F8"
             },
             "line": {
              "color": "white"
             }
            },
            "header": {
             "fill": {
              "color": "#C8D4E3"
             },
             "line": {
              "color": "white"
             }
            },
            "type": "table"
           }
          ]
         },
         "layout": {
          "annotationdefaults": {
           "arrowcolor": "#2a3f5f",
           "arrowhead": 0,
           "arrowwidth": 1
          },
          "autotypenumbers": "strict",
          "coloraxis": {
           "colorbar": {
            "outlinewidth": 0,
            "ticks": ""
           }
          },
          "colorscale": {
           "diverging": [
            [
             0,
             "#8e0152"
            ],
            [
             0.1,
             "#c51b7d"
            ],
            [
             0.2,
             "#de77ae"
            ],
            [
             0.3,
             "#f1b6da"
            ],
            [
             0.4,
             "#fde0ef"
            ],
            [
             0.5,
             "#f7f7f7"
            ],
            [
             0.6,
             "#e6f5d0"
            ],
            [
             0.7,
             "#b8e186"
            ],
            [
             0.8,
             "#7fbc41"
            ],
            [
             0.9,
             "#4d9221"
            ],
            [
             1,
             "#276419"
            ]
           ],
           "sequential": [
            [
             0,
             "#0d0887"
            ],
            [
             0.1111111111111111,
             "#46039f"
            ],
            [
             0.2222222222222222,
             "#7201a8"
            ],
            [
             0.3333333333333333,
             "#9c179e"
            ],
            [
             0.4444444444444444,
             "#bd3786"
            ],
            [
             0.5555555555555556,
             "#d8576b"
            ],
            [
             0.6666666666666666,
             "#ed7953"
            ],
            [
             0.7777777777777778,
             "#fb9f3a"
            ],
            [
             0.8888888888888888,
             "#fdca26"
            ],
            [
             1,
             "#f0f921"
            ]
           ],
           "sequentialminus": [
            [
             0,
             "#0d0887"
            ],
            [
             0.1111111111111111,
             "#46039f"
            ],
            [
             0.2222222222222222,
             "#7201a8"
            ],
            [
             0.3333333333333333,
             "#9c179e"
            ],
            [
             0.4444444444444444,
             "#bd3786"
            ],
            [
             0.5555555555555556,
             "#d8576b"
            ],
            [
             0.6666666666666666,
             "#ed7953"
            ],
            [
             0.7777777777777778,
             "#fb9f3a"
            ],
            [
             0.8888888888888888,
             "#fdca26"
            ],
            [
             1,
             "#f0f921"
            ]
           ]
          },
          "colorway": [
           "#636efa",
           "#EF553B",
           "#00cc96",
           "#ab63fa",
           "#FFA15A",
           "#19d3f3",
           "#FF6692",
           "#B6E880",
           "#FF97FF",
           "#FECB52"
          ],
          "font": {
           "color": "#2a3f5f"
          },
          "geo": {
           "bgcolor": "white",
           "lakecolor": "white",
           "landcolor": "#E5ECF6",
           "showlakes": true,
           "showland": true,
           "subunitcolor": "white"
          },
          "hoverlabel": {
           "align": "left"
          },
          "hovermode": "closest",
          "mapbox": {
           "style": "light"
          },
          "paper_bgcolor": "white",
          "plot_bgcolor": "#E5ECF6",
          "polar": {
           "angularaxis": {
            "gridcolor": "white",
            "linecolor": "white",
            "ticks": ""
           },
           "bgcolor": "#E5ECF6",
           "radialaxis": {
            "gridcolor": "white",
            "linecolor": "white",
            "ticks": ""
           }
          },
          "scene": {
           "xaxis": {
            "backgroundcolor": "#E5ECF6",
            "gridcolor": "white",
            "gridwidth": 2,
            "linecolor": "white",
            "showbackground": true,
            "ticks": "",
            "zerolinecolor": "white"
           },
           "yaxis": {
            "backgroundcolor": "#E5ECF6",
            "gridcolor": "white",
            "gridwidth": 2,
            "linecolor": "white",
            "showbackground": true,
            "ticks": "",
            "zerolinecolor": "white"
           },
           "zaxis": {
            "backgroundcolor": "#E5ECF6",
            "gridcolor": "white",
            "gridwidth": 2,
            "linecolor": "white",
            "showbackground": true,
            "ticks": "",
            "zerolinecolor": "white"
           }
          },
          "shapedefaults": {
           "line": {
            "color": "#2a3f5f"
           }
          },
          "ternary": {
           "aaxis": {
            "gridcolor": "white",
            "linecolor": "white",
            "ticks": ""
           },
           "baxis": {
            "gridcolor": "white",
            "linecolor": "white",
            "ticks": ""
           },
           "bgcolor": "#E5ECF6",
           "caxis": {
            "gridcolor": "white",
            "linecolor": "white",
            "ticks": ""
           }
          },
          "title": {
           "x": 0.05
          },
          "xaxis": {
           "automargin": true,
           "gridcolor": "white",
           "linecolor": "white",
           "ticks": "",
           "title": {
            "standoff": 15
           },
           "zerolinecolor": "white",
           "zerolinewidth": 2
          },
          "yaxis": {
           "automargin": true,
           "gridcolor": "white",
           "linecolor": "white",
           "ticks": "",
           "title": {
            "standoff": 15
           },
           "zerolinecolor": "white",
           "zerolinewidth": 2
          }
         }
        },
        "title": {
         "text": "Months timeline"
        },
        "xaxis": {
         "anchor": "y",
         "domain": [
          0,
          1
         ],
         "title": {
          "text": "Months"
         }
        },
        "yaxis": {
         "anchor": "x",
         "domain": [
          0,
          1
         ],
         "title": {
          "text": "Message count"
         }
        }
       }
      }
     },
     "metadata": {},
     "output_type": "display_data"
    },
    {
     "data": {
      "application/vnd.plotly.v1+json": {
       "config": {
        "plotlyServerURL": "https://plot.ly"
       },
       "data": [
        {
         "alignmentgroup": "True",
         "hovertemplate": "Weekdays=%{x}<br>Message count=%{y}<extra></extra>",
         "legendgroup": "",
         "marker": {
          "color": "#636efa",
          "pattern": {
           "shape": ""
          }
         },
         "name": "",
         "offsetgroup": "",
         "orientation": "v",
         "showlegend": false,
         "textposition": "auto",
         "texttemplate": "%{y:.2s}",
         "type": "bar",
         "x": [
          "Friday",
          "Monday",
          "Saturday",
          "Sunday",
          "Thursday",
          "Tuesday",
          "Wednesday"
         ],
         "xaxis": "x",
         "y": [
          18,
          55,
          22,
          1,
          29,
          13,
          15
         ],
         "yaxis": "y"
        }
       ],
       "layout": {
        "barmode": "relative",
        "legend": {
         "tracegroupgap": 0
        },
        "template": {
         "data": {
          "bar": [
           {
            "error_x": {
             "color": "#2a3f5f"
            },
            "error_y": {
             "color": "#2a3f5f"
            },
            "marker": {
             "line": {
              "color": "#E5ECF6",
              "width": 0.5
             },
             "pattern": {
              "fillmode": "overlay",
              "size": 10,
              "solidity": 0.2
             }
            },
            "type": "bar"
           }
          ],
          "barpolar": [
           {
            "marker": {
             "line": {
              "color": "#E5ECF6",
              "width": 0.5
             },
             "pattern": {
              "fillmode": "overlay",
              "size": 10,
              "solidity": 0.2
             }
            },
            "type": "barpolar"
           }
          ],
          "carpet": [
           {
            "aaxis": {
             "endlinecolor": "#2a3f5f",
             "gridcolor": "white",
             "linecolor": "white",
             "minorgridcolor": "white",
             "startlinecolor": "#2a3f5f"
            },
            "baxis": {
             "endlinecolor": "#2a3f5f",
             "gridcolor": "white",
             "linecolor": "white",
             "minorgridcolor": "white",
             "startlinecolor": "#2a3f5f"
            },
            "type": "carpet"
           }
          ],
          "choropleth": [
           {
            "colorbar": {
             "outlinewidth": 0,
             "ticks": ""
            },
            "type": "choropleth"
           }
          ],
          "contour": [
           {
            "colorbar": {
             "outlinewidth": 0,
             "ticks": ""
            },
            "colorscale": [
             [
              0,
              "#0d0887"
             ],
             [
              0.1111111111111111,
              "#46039f"
             ],
             [
              0.2222222222222222,
              "#7201a8"
             ],
             [
              0.3333333333333333,
              "#9c179e"
             ],
             [
              0.4444444444444444,
              "#bd3786"
             ],
             [
              0.5555555555555556,
              "#d8576b"
             ],
             [
              0.6666666666666666,
              "#ed7953"
             ],
             [
              0.7777777777777778,
              "#fb9f3a"
             ],
             [
              0.8888888888888888,
              "#fdca26"
             ],
             [
              1,
              "#f0f921"
             ]
            ],
            "type": "contour"
           }
          ],
          "contourcarpet": [
           {
            "colorbar": {
             "outlinewidth": 0,
             "ticks": ""
            },
            "type": "contourcarpet"
           }
          ],
          "heatmap": [
           {
            "colorbar": {
             "outlinewidth": 0,
             "ticks": ""
            },
            "colorscale": [
             [
              0,
              "#0d0887"
             ],
             [
              0.1111111111111111,
              "#46039f"
             ],
             [
              0.2222222222222222,
              "#7201a8"
             ],
             [
              0.3333333333333333,
              "#9c179e"
             ],
             [
              0.4444444444444444,
              "#bd3786"
             ],
             [
              0.5555555555555556,
              "#d8576b"
             ],
             [
              0.6666666666666666,
              "#ed7953"
             ],
             [
              0.7777777777777778,
              "#fb9f3a"
             ],
             [
              0.8888888888888888,
              "#fdca26"
             ],
             [
              1,
              "#f0f921"
             ]
            ],
            "type": "heatmap"
           }
          ],
          "heatmapgl": [
           {
            "colorbar": {
             "outlinewidth": 0,
             "ticks": ""
            },
            "colorscale": [
             [
              0,
              "#0d0887"
             ],
             [
              0.1111111111111111,
              "#46039f"
             ],
             [
              0.2222222222222222,
              "#7201a8"
             ],
             [
              0.3333333333333333,
              "#9c179e"
             ],
             [
              0.4444444444444444,
              "#bd3786"
             ],
             [
              0.5555555555555556,
              "#d8576b"
             ],
             [
              0.6666666666666666,
              "#ed7953"
             ],
             [
              0.7777777777777778,
              "#fb9f3a"
             ],
             [
              0.8888888888888888,
              "#fdca26"
             ],
             [
              1,
              "#f0f921"
             ]
            ],
            "type": "heatmapgl"
           }
          ],
          "histogram": [
           {
            "marker": {
             "pattern": {
              "fillmode": "overlay",
              "size": 10,
              "solidity": 0.2
             }
            },
            "type": "histogram"
           }
          ],
          "histogram2d": [
           {
            "colorbar": {
             "outlinewidth": 0,
             "ticks": ""
            },
            "colorscale": [
             [
              0,
              "#0d0887"
             ],
             [
              0.1111111111111111,
              "#46039f"
             ],
             [
              0.2222222222222222,
              "#7201a8"
             ],
             [
              0.3333333333333333,
              "#9c179e"
             ],
             [
              0.4444444444444444,
              "#bd3786"
             ],
             [
              0.5555555555555556,
              "#d8576b"
             ],
             [
              0.6666666666666666,
              "#ed7953"
             ],
             [
              0.7777777777777778,
              "#fb9f3a"
             ],
             [
              0.8888888888888888,
              "#fdca26"
             ],
             [
              1,
              "#f0f921"
             ]
            ],
            "type": "histogram2d"
           }
          ],
          "histogram2dcontour": [
           {
            "colorbar": {
             "outlinewidth": 0,
             "ticks": ""
            },
            "colorscale": [
             [
              0,
              "#0d0887"
             ],
             [
              0.1111111111111111,
              "#46039f"
             ],
             [
              0.2222222222222222,
              "#7201a8"
             ],
             [
              0.3333333333333333,
              "#9c179e"
             ],
             [
              0.4444444444444444,
              "#bd3786"
             ],
             [
              0.5555555555555556,
              "#d8576b"
             ],
             [
              0.6666666666666666,
              "#ed7953"
             ],
             [
              0.7777777777777778,
              "#fb9f3a"
             ],
             [
              0.8888888888888888,
              "#fdca26"
             ],
             [
              1,
              "#f0f921"
             ]
            ],
            "type": "histogram2dcontour"
           }
          ],
          "mesh3d": [
           {
            "colorbar": {
             "outlinewidth": 0,
             "ticks": ""
            },
            "type": "mesh3d"
           }
          ],
          "parcoords": [
           {
            "line": {
             "colorbar": {
              "outlinewidth": 0,
              "ticks": ""
             }
            },
            "type": "parcoords"
           }
          ],
          "pie": [
           {
            "automargin": true,
            "type": "pie"
           }
          ],
          "scatter": [
           {
            "fillpattern": {
             "fillmode": "overlay",
             "size": 10,
             "solidity": 0.2
            },
            "type": "scatter"
           }
          ],
          "scatter3d": [
           {
            "line": {
             "colorbar": {
              "outlinewidth": 0,
              "ticks": ""
             }
            },
            "marker": {
             "colorbar": {
              "outlinewidth": 0,
              "ticks": ""
             }
            },
            "type": "scatter3d"
           }
          ],
          "scattercarpet": [
           {
            "marker": {
             "colorbar": {
              "outlinewidth": 0,
              "ticks": ""
             }
            },
            "type": "scattercarpet"
           }
          ],
          "scattergeo": [
           {
            "marker": {
             "colorbar": {
              "outlinewidth": 0,
              "ticks": ""
             }
            },
            "type": "scattergeo"
           }
          ],
          "scattergl": [
           {
            "marker": {
             "colorbar": {
              "outlinewidth": 0,
              "ticks": ""
             }
            },
            "type": "scattergl"
           }
          ],
          "scattermapbox": [
           {
            "marker": {
             "colorbar": {
              "outlinewidth": 0,
              "ticks": ""
             }
            },
            "type": "scattermapbox"
           }
          ],
          "scatterpolar": [
           {
            "marker": {
             "colorbar": {
              "outlinewidth": 0,
              "ticks": ""
             }
            },
            "type": "scatterpolar"
           }
          ],
          "scatterpolargl": [
           {
            "marker": {
             "colorbar": {
              "outlinewidth": 0,
              "ticks": ""
             }
            },
            "type": "scatterpolargl"
           }
          ],
          "scatterternary": [
           {
            "marker": {
             "colorbar": {
              "outlinewidth": 0,
              "ticks": ""
             }
            },
            "type": "scatterternary"
           }
          ],
          "surface": [
           {
            "colorbar": {
             "outlinewidth": 0,
             "ticks": ""
            },
            "colorscale": [
             [
              0,
              "#0d0887"
             ],
             [
              0.1111111111111111,
              "#46039f"
             ],
             [
              0.2222222222222222,
              "#7201a8"
             ],
             [
              0.3333333333333333,
              "#9c179e"
             ],
             [
              0.4444444444444444,
              "#bd3786"
             ],
             [
              0.5555555555555556,
              "#d8576b"
             ],
             [
              0.6666666666666666,
              "#ed7953"
             ],
             [
              0.7777777777777778,
              "#fb9f3a"
             ],
             [
              0.8888888888888888,
              "#fdca26"
             ],
             [
              1,
              "#f0f921"
             ]
            ],
            "type": "surface"
           }
          ],
          "table": [
           {
            "cells": {
             "fill": {
              "color": "#EBF0F8"
             },
             "line": {
              "color": "white"
             }
            },
            "header": {
             "fill": {
              "color": "#C8D4E3"
             },
             "line": {
              "color": "white"
             }
            },
            "type": "table"
           }
          ]
         },
         "layout": {
          "annotationdefaults": {
           "arrowcolor": "#2a3f5f",
           "arrowhead": 0,
           "arrowwidth": 1
          },
          "autotypenumbers": "strict",
          "coloraxis": {
           "colorbar": {
            "outlinewidth": 0,
            "ticks": ""
           }
          },
          "colorscale": {
           "diverging": [
            [
             0,
             "#8e0152"
            ],
            [
             0.1,
             "#c51b7d"
            ],
            [
             0.2,
             "#de77ae"
            ],
            [
             0.3,
             "#f1b6da"
            ],
            [
             0.4,
             "#fde0ef"
            ],
            [
             0.5,
             "#f7f7f7"
            ],
            [
             0.6,
             "#e6f5d0"
            ],
            [
             0.7,
             "#b8e186"
            ],
            [
             0.8,
             "#7fbc41"
            ],
            [
             0.9,
             "#4d9221"
            ],
            [
             1,
             "#276419"
            ]
           ],
           "sequential": [
            [
             0,
             "#0d0887"
            ],
            [
             0.1111111111111111,
             "#46039f"
            ],
            [
             0.2222222222222222,
             "#7201a8"
            ],
            [
             0.3333333333333333,
             "#9c179e"
            ],
            [
             0.4444444444444444,
             "#bd3786"
            ],
            [
             0.5555555555555556,
             "#d8576b"
            ],
            [
             0.6666666666666666,
             "#ed7953"
            ],
            [
             0.7777777777777778,
             "#fb9f3a"
            ],
            [
             0.8888888888888888,
             "#fdca26"
            ],
            [
             1,
             "#f0f921"
            ]
           ],
           "sequentialminus": [
            [
             0,
             "#0d0887"
            ],
            [
             0.1111111111111111,
             "#46039f"
            ],
            [
             0.2222222222222222,
             "#7201a8"
            ],
            [
             0.3333333333333333,
             "#9c179e"
            ],
            [
             0.4444444444444444,
             "#bd3786"
            ],
            [
             0.5555555555555556,
             "#d8576b"
            ],
            [
             0.6666666666666666,
             "#ed7953"
            ],
            [
             0.7777777777777778,
             "#fb9f3a"
            ],
            [
             0.8888888888888888,
             "#fdca26"
            ],
            [
             1,
             "#f0f921"
            ]
           ]
          },
          "colorway": [
           "#636efa",
           "#EF553B",
           "#00cc96",
           "#ab63fa",
           "#FFA15A",
           "#19d3f3",
           "#FF6692",
           "#B6E880",
           "#FF97FF",
           "#FECB52"
          ],
          "font": {
           "color": "#2a3f5f"
          },
          "geo": {
           "bgcolor": "white",
           "lakecolor": "white",
           "landcolor": "#E5ECF6",
           "showlakes": true,
           "showland": true,
           "subunitcolor": "white"
          },
          "hoverlabel": {
           "align": "left"
          },
          "hovermode": "closest",
          "mapbox": {
           "style": "light"
          },
          "paper_bgcolor": "white",
          "plot_bgcolor": "#E5ECF6",
          "polar": {
           "angularaxis": {
            "gridcolor": "white",
            "linecolor": "white",
            "ticks": ""
           },
           "bgcolor": "#E5ECF6",
           "radialaxis": {
            "gridcolor": "white",
            "linecolor": "white",
            "ticks": ""
           }
          },
          "scene": {
           "xaxis": {
            "backgroundcolor": "#E5ECF6",
            "gridcolor": "white",
            "gridwidth": 2,
            "linecolor": "white",
            "showbackground": true,
            "ticks": "",
            "zerolinecolor": "white"
           },
           "yaxis": {
            "backgroundcolor": "#E5ECF6",
            "gridcolor": "white",
            "gridwidth": 2,
            "linecolor": "white",
            "showbackground": true,
            "ticks": "",
            "zerolinecolor": "white"
           },
           "zaxis": {
            "backgroundcolor": "#E5ECF6",
            "gridcolor": "white",
            "gridwidth": 2,
            "linecolor": "white",
            "showbackground": true,
            "ticks": "",
            "zerolinecolor": "white"
           }
          },
          "shapedefaults": {
           "line": {
            "color": "#2a3f5f"
           }
          },
          "ternary": {
           "aaxis": {
            "gridcolor": "white",
            "linecolor": "white",
            "ticks": ""
           },
           "baxis": {
            "gridcolor": "white",
            "linecolor": "white",
            "ticks": ""
           },
           "bgcolor": "#E5ECF6",
           "caxis": {
            "gridcolor": "white",
            "linecolor": "white",
            "ticks": ""
           }
          },
          "title": {
           "x": 0.05
          },
          "xaxis": {
           "automargin": true,
           "gridcolor": "white",
           "linecolor": "white",
           "ticks": "",
           "title": {
            "standoff": 15
           },
           "zerolinecolor": "white",
           "zerolinewidth": 2
          },
          "yaxis": {
           "automargin": true,
           "gridcolor": "white",
           "linecolor": "white",
           "ticks": "",
           "title": {
            "standoff": 15
           },
           "zerolinecolor": "white",
           "zerolinewidth": 2
          }
         }
        },
        "title": {
         "text": "Weekdays [week - 1] timeline"
        },
        "xaxis": {
         "anchor": "y",
         "domain": [
          0,
          1
         ],
         "title": {
          "text": "Weekdays"
         }
        },
        "yaxis": {
         "anchor": "x",
         "domain": [
          0,
          1
         ],
         "title": {
          "text": "Message count"
         }
        }
       }
      }
     },
     "metadata": {},
     "output_type": "display_data"
    },
    {
     "data": {
      "application/vnd.plotly.v1+json": {
       "config": {
        "plotlyServerURL": "https://plot.ly"
       },
       "data": [
        {
         "alignmentgroup": "True",
         "hovertemplate": "Weekdays=%{x}<br>Message count=%{y}<extra></extra>",
         "legendgroup": "",
         "marker": {
          "color": "#636efa",
          "pattern": {
           "shape": ""
          }
         },
         "name": "",
         "offsetgroup": "",
         "orientation": "v",
         "showlegend": false,
         "textposition": "auto",
         "texttemplate": "%{y:.2s}",
         "type": "bar",
         "x": [
          "Friday",
          "Monday",
          "Saturday",
          "Sunday",
          "Thursday",
          "Tuesday",
          "Wednesday"
         ],
         "xaxis": "x",
         "y": [
          1,
          9,
          0,
          4,
          8,
          7,
          10
         ],
         "yaxis": "y"
        }
       ],
       "layout": {
        "barmode": "relative",
        "legend": {
         "tracegroupgap": 0
        },
        "template": {
         "data": {
          "bar": [
           {
            "error_x": {
             "color": "#2a3f5f"
            },
            "error_y": {
             "color": "#2a3f5f"
            },
            "marker": {
             "line": {
              "color": "#E5ECF6",
              "width": 0.5
             },
             "pattern": {
              "fillmode": "overlay",
              "size": 10,
              "solidity": 0.2
             }
            },
            "type": "bar"
           }
          ],
          "barpolar": [
           {
            "marker": {
             "line": {
              "color": "#E5ECF6",
              "width": 0.5
             },
             "pattern": {
              "fillmode": "overlay",
              "size": 10,
              "solidity": 0.2
             }
            },
            "type": "barpolar"
           }
          ],
          "carpet": [
           {
            "aaxis": {
             "endlinecolor": "#2a3f5f",
             "gridcolor": "white",
             "linecolor": "white",
             "minorgridcolor": "white",
             "startlinecolor": "#2a3f5f"
            },
            "baxis": {
             "endlinecolor": "#2a3f5f",
             "gridcolor": "white",
             "linecolor": "white",
             "minorgridcolor": "white",
             "startlinecolor": "#2a3f5f"
            },
            "type": "carpet"
           }
          ],
          "choropleth": [
           {
            "colorbar": {
             "outlinewidth": 0,
             "ticks": ""
            },
            "type": "choropleth"
           }
          ],
          "contour": [
           {
            "colorbar": {
             "outlinewidth": 0,
             "ticks": ""
            },
            "colorscale": [
             [
              0,
              "#0d0887"
             ],
             [
              0.1111111111111111,
              "#46039f"
             ],
             [
              0.2222222222222222,
              "#7201a8"
             ],
             [
              0.3333333333333333,
              "#9c179e"
             ],
             [
              0.4444444444444444,
              "#bd3786"
             ],
             [
              0.5555555555555556,
              "#d8576b"
             ],
             [
              0.6666666666666666,
              "#ed7953"
             ],
             [
              0.7777777777777778,
              "#fb9f3a"
             ],
             [
              0.8888888888888888,
              "#fdca26"
             ],
             [
              1,
              "#f0f921"
             ]
            ],
            "type": "contour"
           }
          ],
          "contourcarpet": [
           {
            "colorbar": {
             "outlinewidth": 0,
             "ticks": ""
            },
            "type": "contourcarpet"
           }
          ],
          "heatmap": [
           {
            "colorbar": {
             "outlinewidth": 0,
             "ticks": ""
            },
            "colorscale": [
             [
              0,
              "#0d0887"
             ],
             [
              0.1111111111111111,
              "#46039f"
             ],
             [
              0.2222222222222222,
              "#7201a8"
             ],
             [
              0.3333333333333333,
              "#9c179e"
             ],
             [
              0.4444444444444444,
              "#bd3786"
             ],
             [
              0.5555555555555556,
              "#d8576b"
             ],
             [
              0.6666666666666666,
              "#ed7953"
             ],
             [
              0.7777777777777778,
              "#fb9f3a"
             ],
             [
              0.8888888888888888,
              "#fdca26"
             ],
             [
              1,
              "#f0f921"
             ]
            ],
            "type": "heatmap"
           }
          ],
          "heatmapgl": [
           {
            "colorbar": {
             "outlinewidth": 0,
             "ticks": ""
            },
            "colorscale": [
             [
              0,
              "#0d0887"
             ],
             [
              0.1111111111111111,
              "#46039f"
             ],
             [
              0.2222222222222222,
              "#7201a8"
             ],
             [
              0.3333333333333333,
              "#9c179e"
             ],
             [
              0.4444444444444444,
              "#bd3786"
             ],
             [
              0.5555555555555556,
              "#d8576b"
             ],
             [
              0.6666666666666666,
              "#ed7953"
             ],
             [
              0.7777777777777778,
              "#fb9f3a"
             ],
             [
              0.8888888888888888,
              "#fdca26"
             ],
             [
              1,
              "#f0f921"
             ]
            ],
            "type": "heatmapgl"
           }
          ],
          "histogram": [
           {
            "marker": {
             "pattern": {
              "fillmode": "overlay",
              "size": 10,
              "solidity": 0.2
             }
            },
            "type": "histogram"
           }
          ],
          "histogram2d": [
           {
            "colorbar": {
             "outlinewidth": 0,
             "ticks": ""
            },
            "colorscale": [
             [
              0,
              "#0d0887"
             ],
             [
              0.1111111111111111,
              "#46039f"
             ],
             [
              0.2222222222222222,
              "#7201a8"
             ],
             [
              0.3333333333333333,
              "#9c179e"
             ],
             [
              0.4444444444444444,
              "#bd3786"
             ],
             [
              0.5555555555555556,
              "#d8576b"
             ],
             [
              0.6666666666666666,
              "#ed7953"
             ],
             [
              0.7777777777777778,
              "#fb9f3a"
             ],
             [
              0.8888888888888888,
              "#fdca26"
             ],
             [
              1,
              "#f0f921"
             ]
            ],
            "type": "histogram2d"
           }
          ],
          "histogram2dcontour": [
           {
            "colorbar": {
             "outlinewidth": 0,
             "ticks": ""
            },
            "colorscale": [
             [
              0,
              "#0d0887"
             ],
             [
              0.1111111111111111,
              "#46039f"
             ],
             [
              0.2222222222222222,
              "#7201a8"
             ],
             [
              0.3333333333333333,
              "#9c179e"
             ],
             [
              0.4444444444444444,
              "#bd3786"
             ],
             [
              0.5555555555555556,
              "#d8576b"
             ],
             [
              0.6666666666666666,
              "#ed7953"
             ],
             [
              0.7777777777777778,
              "#fb9f3a"
             ],
             [
              0.8888888888888888,
              "#fdca26"
             ],
             [
              1,
              "#f0f921"
             ]
            ],
            "type": "histogram2dcontour"
           }
          ],
          "mesh3d": [
           {
            "colorbar": {
             "outlinewidth": 0,
             "ticks": ""
            },
            "type": "mesh3d"
           }
          ],
          "parcoords": [
           {
            "line": {
             "colorbar": {
              "outlinewidth": 0,
              "ticks": ""
             }
            },
            "type": "parcoords"
           }
          ],
          "pie": [
           {
            "automargin": true,
            "type": "pie"
           }
          ],
          "scatter": [
           {
            "fillpattern": {
             "fillmode": "overlay",
             "size": 10,
             "solidity": 0.2
            },
            "type": "scatter"
           }
          ],
          "scatter3d": [
           {
            "line": {
             "colorbar": {
              "outlinewidth": 0,
              "ticks": ""
             }
            },
            "marker": {
             "colorbar": {
              "outlinewidth": 0,
              "ticks": ""
             }
            },
            "type": "scatter3d"
           }
          ],
          "scattercarpet": [
           {
            "marker": {
             "colorbar": {
              "outlinewidth": 0,
              "ticks": ""
             }
            },
            "type": "scattercarpet"
           }
          ],
          "scattergeo": [
           {
            "marker": {
             "colorbar": {
              "outlinewidth": 0,
              "ticks": ""
             }
            },
            "type": "scattergeo"
           }
          ],
          "scattergl": [
           {
            "marker": {
             "colorbar": {
              "outlinewidth": 0,
              "ticks": ""
             }
            },
            "type": "scattergl"
           }
          ],
          "scattermapbox": [
           {
            "marker": {
             "colorbar": {
              "outlinewidth": 0,
              "ticks": ""
             }
            },
            "type": "scattermapbox"
           }
          ],
          "scatterpolar": [
           {
            "marker": {
             "colorbar": {
              "outlinewidth": 0,
              "ticks": ""
             }
            },
            "type": "scatterpolar"
           }
          ],
          "scatterpolargl": [
           {
            "marker": {
             "colorbar": {
              "outlinewidth": 0,
              "ticks": ""
             }
            },
            "type": "scatterpolargl"
           }
          ],
          "scatterternary": [
           {
            "marker": {
             "colorbar": {
              "outlinewidth": 0,
              "ticks": ""
             }
            },
            "type": "scatterternary"
           }
          ],
          "surface": [
           {
            "colorbar": {
             "outlinewidth": 0,
             "ticks": ""
            },
            "colorscale": [
             [
              0,
              "#0d0887"
             ],
             [
              0.1111111111111111,
              "#46039f"
             ],
             [
              0.2222222222222222,
              "#7201a8"
             ],
             [
              0.3333333333333333,
              "#9c179e"
             ],
             [
              0.4444444444444444,
              "#bd3786"
             ],
             [
              0.5555555555555556,
              "#d8576b"
             ],
             [
              0.6666666666666666,
              "#ed7953"
             ],
             [
              0.7777777777777778,
              "#fb9f3a"
             ],
             [
              0.8888888888888888,
              "#fdca26"
             ],
             [
              1,
              "#f0f921"
             ]
            ],
            "type": "surface"
           }
          ],
          "table": [
           {
            "cells": {
             "fill": {
              "color": "#EBF0F8"
             },
             "line": {
              "color": "white"
             }
            },
            "header": {
             "fill": {
              "color": "#C8D4E3"
             },
             "line": {
              "color": "white"
             }
            },
            "type": "table"
           }
          ]
         },
         "layout": {
          "annotationdefaults": {
           "arrowcolor": "#2a3f5f",
           "arrowhead": 0,
           "arrowwidth": 1
          },
          "autotypenumbers": "strict",
          "coloraxis": {
           "colorbar": {
            "outlinewidth": 0,
            "ticks": ""
           }
          },
          "colorscale": {
           "diverging": [
            [
             0,
             "#8e0152"
            ],
            [
             0.1,
             "#c51b7d"
            ],
            [
             0.2,
             "#de77ae"
            ],
            [
             0.3,
             "#f1b6da"
            ],
            [
             0.4,
             "#fde0ef"
            ],
            [
             0.5,
             "#f7f7f7"
            ],
            [
             0.6,
             "#e6f5d0"
            ],
            [
             0.7,
             "#b8e186"
            ],
            [
             0.8,
             "#7fbc41"
            ],
            [
             0.9,
             "#4d9221"
            ],
            [
             1,
             "#276419"
            ]
           ],
           "sequential": [
            [
             0,
             "#0d0887"
            ],
            [
             0.1111111111111111,
             "#46039f"
            ],
            [
             0.2222222222222222,
             "#7201a8"
            ],
            [
             0.3333333333333333,
             "#9c179e"
            ],
            [
             0.4444444444444444,
             "#bd3786"
            ],
            [
             0.5555555555555556,
             "#d8576b"
            ],
            [
             0.6666666666666666,
             "#ed7953"
            ],
            [
             0.7777777777777778,
             "#fb9f3a"
            ],
            [
             0.8888888888888888,
             "#fdca26"
            ],
            [
             1,
             "#f0f921"
            ]
           ],
           "sequentialminus": [
            [
             0,
             "#0d0887"
            ],
            [
             0.1111111111111111,
             "#46039f"
            ],
            [
             0.2222222222222222,
             "#7201a8"
            ],
            [
             0.3333333333333333,
             "#9c179e"
            ],
            [
             0.4444444444444444,
             "#bd3786"
            ],
            [
             0.5555555555555556,
             "#d8576b"
            ],
            [
             0.6666666666666666,
             "#ed7953"
            ],
            [
             0.7777777777777778,
             "#fb9f3a"
            ],
            [
             0.8888888888888888,
             "#fdca26"
            ],
            [
             1,
             "#f0f921"
            ]
           ]
          },
          "colorway": [
           "#636efa",
           "#EF553B",
           "#00cc96",
           "#ab63fa",
           "#FFA15A",
           "#19d3f3",
           "#FF6692",
           "#B6E880",
           "#FF97FF",
           "#FECB52"
          ],
          "font": {
           "color": "#2a3f5f"
          },
          "geo": {
           "bgcolor": "white",
           "lakecolor": "white",
           "landcolor": "#E5ECF6",
           "showlakes": true,
           "showland": true,
           "subunitcolor": "white"
          },
          "hoverlabel": {
           "align": "left"
          },
          "hovermode": "closest",
          "mapbox": {
           "style": "light"
          },
          "paper_bgcolor": "white",
          "plot_bgcolor": "#E5ECF6",
          "polar": {
           "angularaxis": {
            "gridcolor": "white",
            "linecolor": "white",
            "ticks": ""
           },
           "bgcolor": "#E5ECF6",
           "radialaxis": {
            "gridcolor": "white",
            "linecolor": "white",
            "ticks": ""
           }
          },
          "scene": {
           "xaxis": {
            "backgroundcolor": "#E5ECF6",
            "gridcolor": "white",
            "gridwidth": 2,
            "linecolor": "white",
            "showbackground": true,
            "ticks": "",
            "zerolinecolor": "white"
           },
           "yaxis": {
            "backgroundcolor": "#E5ECF6",
            "gridcolor": "white",
            "gridwidth": 2,
            "linecolor": "white",
            "showbackground": true,
            "ticks": "",
            "zerolinecolor": "white"
           },
           "zaxis": {
            "backgroundcolor": "#E5ECF6",
            "gridcolor": "white",
            "gridwidth": 2,
            "linecolor": "white",
            "showbackground": true,
            "ticks": "",
            "zerolinecolor": "white"
           }
          },
          "shapedefaults": {
           "line": {
            "color": "#2a3f5f"
           }
          },
          "ternary": {
           "aaxis": {
            "gridcolor": "white",
            "linecolor": "white",
            "ticks": ""
           },
           "baxis": {
            "gridcolor": "white",
            "linecolor": "white",
            "ticks": ""
           },
           "bgcolor": "#E5ECF6",
           "caxis": {
            "gridcolor": "white",
            "linecolor": "white",
            "ticks": ""
           }
          },
          "title": {
           "x": 0.05
          },
          "xaxis": {
           "automargin": true,
           "gridcolor": "white",
           "linecolor": "white",
           "ticks": "",
           "title": {
            "standoff": 15
           },
           "zerolinecolor": "white",
           "zerolinewidth": 2
          },
          "yaxis": {
           "automargin": true,
           "gridcolor": "white",
           "linecolor": "white",
           "ticks": "",
           "title": {
            "standoff": 15
           },
           "zerolinecolor": "white",
           "zerolinewidth": 2
          }
         }
        },
        "title": {
         "text": "Weekdays [week - 2] timeline"
        },
        "xaxis": {
         "anchor": "y",
         "domain": [
          0,
          1
         ],
         "title": {
          "text": "Weekdays"
         }
        },
        "yaxis": {
         "anchor": "x",
         "domain": [
          0,
          1
         ],
         "title": {
          "text": "Message count"
         }
        }
       }
      }
     },
     "metadata": {},
     "output_type": "display_data"
    },
    {
     "data": {
      "application/vnd.plotly.v1+json": {
       "config": {
        "plotlyServerURL": "https://plot.ly"
       },
       "data": [
        {
         "alignmentgroup": "True",
         "hovertemplate": "Weekdays=%{x}<br>Message count=%{y}<extra></extra>",
         "legendgroup": "",
         "marker": {
          "color": "#636efa",
          "pattern": {
           "shape": ""
          }
         },
         "name": "",
         "offsetgroup": "",
         "orientation": "v",
         "showlegend": false,
         "textposition": "auto",
         "texttemplate": "%{y:.2s}",
         "type": "bar",
         "x": [
          "Friday",
          "Monday",
          "Saturday",
          "Sunday",
          "Thursday",
          "Tuesday",
          "Wednesday"
         ],
         "xaxis": "x",
         "y": [
          0,
          3,
          1,
          0,
          4,
          6,
          22
         ],
         "yaxis": "y"
        }
       ],
       "layout": {
        "barmode": "relative",
        "legend": {
         "tracegroupgap": 0
        },
        "template": {
         "data": {
          "bar": [
           {
            "error_x": {
             "color": "#2a3f5f"
            },
            "error_y": {
             "color": "#2a3f5f"
            },
            "marker": {
             "line": {
              "color": "#E5ECF6",
              "width": 0.5
             },
             "pattern": {
              "fillmode": "overlay",
              "size": 10,
              "solidity": 0.2
             }
            },
            "type": "bar"
           }
          ],
          "barpolar": [
           {
            "marker": {
             "line": {
              "color": "#E5ECF6",
              "width": 0.5
             },
             "pattern": {
              "fillmode": "overlay",
              "size": 10,
              "solidity": 0.2
             }
            },
            "type": "barpolar"
           }
          ],
          "carpet": [
           {
            "aaxis": {
             "endlinecolor": "#2a3f5f",
             "gridcolor": "white",
             "linecolor": "white",
             "minorgridcolor": "white",
             "startlinecolor": "#2a3f5f"
            },
            "baxis": {
             "endlinecolor": "#2a3f5f",
             "gridcolor": "white",
             "linecolor": "white",
             "minorgridcolor": "white",
             "startlinecolor": "#2a3f5f"
            },
            "type": "carpet"
           }
          ],
          "choropleth": [
           {
            "colorbar": {
             "outlinewidth": 0,
             "ticks": ""
            },
            "type": "choropleth"
           }
          ],
          "contour": [
           {
            "colorbar": {
             "outlinewidth": 0,
             "ticks": ""
            },
            "colorscale": [
             [
              0,
              "#0d0887"
             ],
             [
              0.1111111111111111,
              "#46039f"
             ],
             [
              0.2222222222222222,
              "#7201a8"
             ],
             [
              0.3333333333333333,
              "#9c179e"
             ],
             [
              0.4444444444444444,
              "#bd3786"
             ],
             [
              0.5555555555555556,
              "#d8576b"
             ],
             [
              0.6666666666666666,
              "#ed7953"
             ],
             [
              0.7777777777777778,
              "#fb9f3a"
             ],
             [
              0.8888888888888888,
              "#fdca26"
             ],
             [
              1,
              "#f0f921"
             ]
            ],
            "type": "contour"
           }
          ],
          "contourcarpet": [
           {
            "colorbar": {
             "outlinewidth": 0,
             "ticks": ""
            },
            "type": "contourcarpet"
           }
          ],
          "heatmap": [
           {
            "colorbar": {
             "outlinewidth": 0,
             "ticks": ""
            },
            "colorscale": [
             [
              0,
              "#0d0887"
             ],
             [
              0.1111111111111111,
              "#46039f"
             ],
             [
              0.2222222222222222,
              "#7201a8"
             ],
             [
              0.3333333333333333,
              "#9c179e"
             ],
             [
              0.4444444444444444,
              "#bd3786"
             ],
             [
              0.5555555555555556,
              "#d8576b"
             ],
             [
              0.6666666666666666,
              "#ed7953"
             ],
             [
              0.7777777777777778,
              "#fb9f3a"
             ],
             [
              0.8888888888888888,
              "#fdca26"
             ],
             [
              1,
              "#f0f921"
             ]
            ],
            "type": "heatmap"
           }
          ],
          "heatmapgl": [
           {
            "colorbar": {
             "outlinewidth": 0,
             "ticks": ""
            },
            "colorscale": [
             [
              0,
              "#0d0887"
             ],
             [
              0.1111111111111111,
              "#46039f"
             ],
             [
              0.2222222222222222,
              "#7201a8"
             ],
             [
              0.3333333333333333,
              "#9c179e"
             ],
             [
              0.4444444444444444,
              "#bd3786"
             ],
             [
              0.5555555555555556,
              "#d8576b"
             ],
             [
              0.6666666666666666,
              "#ed7953"
             ],
             [
              0.7777777777777778,
              "#fb9f3a"
             ],
             [
              0.8888888888888888,
              "#fdca26"
             ],
             [
              1,
              "#f0f921"
             ]
            ],
            "type": "heatmapgl"
           }
          ],
          "histogram": [
           {
            "marker": {
             "pattern": {
              "fillmode": "overlay",
              "size": 10,
              "solidity": 0.2
             }
            },
            "type": "histogram"
           }
          ],
          "histogram2d": [
           {
            "colorbar": {
             "outlinewidth": 0,
             "ticks": ""
            },
            "colorscale": [
             [
              0,
              "#0d0887"
             ],
             [
              0.1111111111111111,
              "#46039f"
             ],
             [
              0.2222222222222222,
              "#7201a8"
             ],
             [
              0.3333333333333333,
              "#9c179e"
             ],
             [
              0.4444444444444444,
              "#bd3786"
             ],
             [
              0.5555555555555556,
              "#d8576b"
             ],
             [
              0.6666666666666666,
              "#ed7953"
             ],
             [
              0.7777777777777778,
              "#fb9f3a"
             ],
             [
              0.8888888888888888,
              "#fdca26"
             ],
             [
              1,
              "#f0f921"
             ]
            ],
            "type": "histogram2d"
           }
          ],
          "histogram2dcontour": [
           {
            "colorbar": {
             "outlinewidth": 0,
             "ticks": ""
            },
            "colorscale": [
             [
              0,
              "#0d0887"
             ],
             [
              0.1111111111111111,
              "#46039f"
             ],
             [
              0.2222222222222222,
              "#7201a8"
             ],
             [
              0.3333333333333333,
              "#9c179e"
             ],
             [
              0.4444444444444444,
              "#bd3786"
             ],
             [
              0.5555555555555556,
              "#d8576b"
             ],
             [
              0.6666666666666666,
              "#ed7953"
             ],
             [
              0.7777777777777778,
              "#fb9f3a"
             ],
             [
              0.8888888888888888,
              "#fdca26"
             ],
             [
              1,
              "#f0f921"
             ]
            ],
            "type": "histogram2dcontour"
           }
          ],
          "mesh3d": [
           {
            "colorbar": {
             "outlinewidth": 0,
             "ticks": ""
            },
            "type": "mesh3d"
           }
          ],
          "parcoords": [
           {
            "line": {
             "colorbar": {
              "outlinewidth": 0,
              "ticks": ""
             }
            },
            "type": "parcoords"
           }
          ],
          "pie": [
           {
            "automargin": true,
            "type": "pie"
           }
          ],
          "scatter": [
           {
            "fillpattern": {
             "fillmode": "overlay",
             "size": 10,
             "solidity": 0.2
            },
            "type": "scatter"
           }
          ],
          "scatter3d": [
           {
            "line": {
             "colorbar": {
              "outlinewidth": 0,
              "ticks": ""
             }
            },
            "marker": {
             "colorbar": {
              "outlinewidth": 0,
              "ticks": ""
             }
            },
            "type": "scatter3d"
           }
          ],
          "scattercarpet": [
           {
            "marker": {
             "colorbar": {
              "outlinewidth": 0,
              "ticks": ""
             }
            },
            "type": "scattercarpet"
           }
          ],
          "scattergeo": [
           {
            "marker": {
             "colorbar": {
              "outlinewidth": 0,
              "ticks": ""
             }
            },
            "type": "scattergeo"
           }
          ],
          "scattergl": [
           {
            "marker": {
             "colorbar": {
              "outlinewidth": 0,
              "ticks": ""
             }
            },
            "type": "scattergl"
           }
          ],
          "scattermapbox": [
           {
            "marker": {
             "colorbar": {
              "outlinewidth": 0,
              "ticks": ""
             }
            },
            "type": "scattermapbox"
           }
          ],
          "scatterpolar": [
           {
            "marker": {
             "colorbar": {
              "outlinewidth": 0,
              "ticks": ""
             }
            },
            "type": "scatterpolar"
           }
          ],
          "scatterpolargl": [
           {
            "marker": {
             "colorbar": {
              "outlinewidth": 0,
              "ticks": ""
             }
            },
            "type": "scatterpolargl"
           }
          ],
          "scatterternary": [
           {
            "marker": {
             "colorbar": {
              "outlinewidth": 0,
              "ticks": ""
             }
            },
            "type": "scatterternary"
           }
          ],
          "surface": [
           {
            "colorbar": {
             "outlinewidth": 0,
             "ticks": ""
            },
            "colorscale": [
             [
              0,
              "#0d0887"
             ],
             [
              0.1111111111111111,
              "#46039f"
             ],
             [
              0.2222222222222222,
              "#7201a8"
             ],
             [
              0.3333333333333333,
              "#9c179e"
             ],
             [
              0.4444444444444444,
              "#bd3786"
             ],
             [
              0.5555555555555556,
              "#d8576b"
             ],
             [
              0.6666666666666666,
              "#ed7953"
             ],
             [
              0.7777777777777778,
              "#fb9f3a"
             ],
             [
              0.8888888888888888,
              "#fdca26"
             ],
             [
              1,
              "#f0f921"
             ]
            ],
            "type": "surface"
           }
          ],
          "table": [
           {
            "cells": {
             "fill": {
              "color": "#EBF0F8"
             },
             "line": {
              "color": "white"
             }
            },
            "header": {
             "fill": {
              "color": "#C8D4E3"
             },
             "line": {
              "color": "white"
             }
            },
            "type": "table"
           }
          ]
         },
         "layout": {
          "annotationdefaults": {
           "arrowcolor": "#2a3f5f",
           "arrowhead": 0,
           "arrowwidth": 1
          },
          "autotypenumbers": "strict",
          "coloraxis": {
           "colorbar": {
            "outlinewidth": 0,
            "ticks": ""
           }
          },
          "colorscale": {
           "diverging": [
            [
             0,
             "#8e0152"
            ],
            [
             0.1,
             "#c51b7d"
            ],
            [
             0.2,
             "#de77ae"
            ],
            [
             0.3,
             "#f1b6da"
            ],
            [
             0.4,
             "#fde0ef"
            ],
            [
             0.5,
             "#f7f7f7"
            ],
            [
             0.6,
             "#e6f5d0"
            ],
            [
             0.7,
             "#b8e186"
            ],
            [
             0.8,
             "#7fbc41"
            ],
            [
             0.9,
             "#4d9221"
            ],
            [
             1,
             "#276419"
            ]
           ],
           "sequential": [
            [
             0,
             "#0d0887"
            ],
            [
             0.1111111111111111,
             "#46039f"
            ],
            [
             0.2222222222222222,
             "#7201a8"
            ],
            [
             0.3333333333333333,
             "#9c179e"
            ],
            [
             0.4444444444444444,
             "#bd3786"
            ],
            [
             0.5555555555555556,
             "#d8576b"
            ],
            [
             0.6666666666666666,
             "#ed7953"
            ],
            [
             0.7777777777777778,
             "#fb9f3a"
            ],
            [
             0.8888888888888888,
             "#fdca26"
            ],
            [
             1,
             "#f0f921"
            ]
           ],
           "sequentialminus": [
            [
             0,
             "#0d0887"
            ],
            [
             0.1111111111111111,
             "#46039f"
            ],
            [
             0.2222222222222222,
             "#7201a8"
            ],
            [
             0.3333333333333333,
             "#9c179e"
            ],
            [
             0.4444444444444444,
             "#bd3786"
            ],
            [
             0.5555555555555556,
             "#d8576b"
            ],
            [
             0.6666666666666666,
             "#ed7953"
            ],
            [
             0.7777777777777778,
             "#fb9f3a"
            ],
            [
             0.8888888888888888,
             "#fdca26"
            ],
            [
             1,
             "#f0f921"
            ]
           ]
          },
          "colorway": [
           "#636efa",
           "#EF553B",
           "#00cc96",
           "#ab63fa",
           "#FFA15A",
           "#19d3f3",
           "#FF6692",
           "#B6E880",
           "#FF97FF",
           "#FECB52"
          ],
          "font": {
           "color": "#2a3f5f"
          },
          "geo": {
           "bgcolor": "white",
           "lakecolor": "white",
           "landcolor": "#E5ECF6",
           "showlakes": true,
           "showland": true,
           "subunitcolor": "white"
          },
          "hoverlabel": {
           "align": "left"
          },
          "hovermode": "closest",
          "mapbox": {
           "style": "light"
          },
          "paper_bgcolor": "white",
          "plot_bgcolor": "#E5ECF6",
          "polar": {
           "angularaxis": {
            "gridcolor": "white",
            "linecolor": "white",
            "ticks": ""
           },
           "bgcolor": "#E5ECF6",
           "radialaxis": {
            "gridcolor": "white",
            "linecolor": "white",
            "ticks": ""
           }
          },
          "scene": {
           "xaxis": {
            "backgroundcolor": "#E5ECF6",
            "gridcolor": "white",
            "gridwidth": 2,
            "linecolor": "white",
            "showbackground": true,
            "ticks": "",
            "zerolinecolor": "white"
           },
           "yaxis": {
            "backgroundcolor": "#E5ECF6",
            "gridcolor": "white",
            "gridwidth": 2,
            "linecolor": "white",
            "showbackground": true,
            "ticks": "",
            "zerolinecolor": "white"
           },
           "zaxis": {
            "backgroundcolor": "#E5ECF6",
            "gridcolor": "white",
            "gridwidth": 2,
            "linecolor": "white",
            "showbackground": true,
            "ticks": "",
            "zerolinecolor": "white"
           }
          },
          "shapedefaults": {
           "line": {
            "color": "#2a3f5f"
           }
          },
          "ternary": {
           "aaxis": {
            "gridcolor": "white",
            "linecolor": "white",
            "ticks": ""
           },
           "baxis": {
            "gridcolor": "white",
            "linecolor": "white",
            "ticks": ""
           },
           "bgcolor": "#E5ECF6",
           "caxis": {
            "gridcolor": "white",
            "linecolor": "white",
            "ticks": ""
           }
          },
          "title": {
           "x": 0.05
          },
          "xaxis": {
           "automargin": true,
           "gridcolor": "white",
           "linecolor": "white",
           "ticks": "",
           "title": {
            "standoff": 15
           },
           "zerolinecolor": "white",
           "zerolinewidth": 2
          },
          "yaxis": {
           "automargin": true,
           "gridcolor": "white",
           "linecolor": "white",
           "ticks": "",
           "title": {
            "standoff": 15
           },
           "zerolinecolor": "white",
           "zerolinewidth": 2
          }
         }
        },
        "title": {
         "text": "Weekdays [week - 3] timeline"
        },
        "xaxis": {
         "anchor": "y",
         "domain": [
          0,
          1
         ],
         "title": {
          "text": "Weekdays"
         }
        },
        "yaxis": {
         "anchor": "x",
         "domain": [
          0,
          1
         ],
         "title": {
          "text": "Message count"
         }
        }
       }
      }
     },
     "metadata": {},
     "output_type": "display_data"
    },
    {
     "data": {
      "application/vnd.plotly.v1+json": {
       "config": {
        "plotlyServerURL": "https://plot.ly"
       },
       "data": [
        {
         "alignmentgroup": "True",
         "hovertemplate": "Weekdays=%{x}<br>Message count=%{y}<extra></extra>",
         "legendgroup": "",
         "marker": {
          "color": "#636efa",
          "pattern": {
           "shape": ""
          }
         },
         "name": "",
         "offsetgroup": "",
         "orientation": "v",
         "showlegend": false,
         "textposition": "auto",
         "texttemplate": "%{y:.2s}",
         "type": "bar",
         "x": [
          "Friday",
          "Monday",
          "Saturday",
          "Sunday",
          "Thursday",
          "Tuesday",
          "Wednesday"
         ],
         "xaxis": "x",
         "y": [
          16,
          16,
          10,
          4,
          22,
          0,
          20
         ],
         "yaxis": "y"
        }
       ],
       "layout": {
        "barmode": "relative",
        "legend": {
         "tracegroupgap": 0
        },
        "template": {
         "data": {
          "bar": [
           {
            "error_x": {
             "color": "#2a3f5f"
            },
            "error_y": {
             "color": "#2a3f5f"
            },
            "marker": {
             "line": {
              "color": "#E5ECF6",
              "width": 0.5
             },
             "pattern": {
              "fillmode": "overlay",
              "size": 10,
              "solidity": 0.2
             }
            },
            "type": "bar"
           }
          ],
          "barpolar": [
           {
            "marker": {
             "line": {
              "color": "#E5ECF6",
              "width": 0.5
             },
             "pattern": {
              "fillmode": "overlay",
              "size": 10,
              "solidity": 0.2
             }
            },
            "type": "barpolar"
           }
          ],
          "carpet": [
           {
            "aaxis": {
             "endlinecolor": "#2a3f5f",
             "gridcolor": "white",
             "linecolor": "white",
             "minorgridcolor": "white",
             "startlinecolor": "#2a3f5f"
            },
            "baxis": {
             "endlinecolor": "#2a3f5f",
             "gridcolor": "white",
             "linecolor": "white",
             "minorgridcolor": "white",
             "startlinecolor": "#2a3f5f"
            },
            "type": "carpet"
           }
          ],
          "choropleth": [
           {
            "colorbar": {
             "outlinewidth": 0,
             "ticks": ""
            },
            "type": "choropleth"
           }
          ],
          "contour": [
           {
            "colorbar": {
             "outlinewidth": 0,
             "ticks": ""
            },
            "colorscale": [
             [
              0,
              "#0d0887"
             ],
             [
              0.1111111111111111,
              "#46039f"
             ],
             [
              0.2222222222222222,
              "#7201a8"
             ],
             [
              0.3333333333333333,
              "#9c179e"
             ],
             [
              0.4444444444444444,
              "#bd3786"
             ],
             [
              0.5555555555555556,
              "#d8576b"
             ],
             [
              0.6666666666666666,
              "#ed7953"
             ],
             [
              0.7777777777777778,
              "#fb9f3a"
             ],
             [
              0.8888888888888888,
              "#fdca26"
             ],
             [
              1,
              "#f0f921"
             ]
            ],
            "type": "contour"
           }
          ],
          "contourcarpet": [
           {
            "colorbar": {
             "outlinewidth": 0,
             "ticks": ""
            },
            "type": "contourcarpet"
           }
          ],
          "heatmap": [
           {
            "colorbar": {
             "outlinewidth": 0,
             "ticks": ""
            },
            "colorscale": [
             [
              0,
              "#0d0887"
             ],
             [
              0.1111111111111111,
              "#46039f"
             ],
             [
              0.2222222222222222,
              "#7201a8"
             ],
             [
              0.3333333333333333,
              "#9c179e"
             ],
             [
              0.4444444444444444,
              "#bd3786"
             ],
             [
              0.5555555555555556,
              "#d8576b"
             ],
             [
              0.6666666666666666,
              "#ed7953"
             ],
             [
              0.7777777777777778,
              "#fb9f3a"
             ],
             [
              0.8888888888888888,
              "#fdca26"
             ],
             [
              1,
              "#f0f921"
             ]
            ],
            "type": "heatmap"
           }
          ],
          "heatmapgl": [
           {
            "colorbar": {
             "outlinewidth": 0,
             "ticks": ""
            },
            "colorscale": [
             [
              0,
              "#0d0887"
             ],
             [
              0.1111111111111111,
              "#46039f"
             ],
             [
              0.2222222222222222,
              "#7201a8"
             ],
             [
              0.3333333333333333,
              "#9c179e"
             ],
             [
              0.4444444444444444,
              "#bd3786"
             ],
             [
              0.5555555555555556,
              "#d8576b"
             ],
             [
              0.6666666666666666,
              "#ed7953"
             ],
             [
              0.7777777777777778,
              "#fb9f3a"
             ],
             [
              0.8888888888888888,
              "#fdca26"
             ],
             [
              1,
              "#f0f921"
             ]
            ],
            "type": "heatmapgl"
           }
          ],
          "histogram": [
           {
            "marker": {
             "pattern": {
              "fillmode": "overlay",
              "size": 10,
              "solidity": 0.2
             }
            },
            "type": "histogram"
           }
          ],
          "histogram2d": [
           {
            "colorbar": {
             "outlinewidth": 0,
             "ticks": ""
            },
            "colorscale": [
             [
              0,
              "#0d0887"
             ],
             [
              0.1111111111111111,
              "#46039f"
             ],
             [
              0.2222222222222222,
              "#7201a8"
             ],
             [
              0.3333333333333333,
              "#9c179e"
             ],
             [
              0.4444444444444444,
              "#bd3786"
             ],
             [
              0.5555555555555556,
              "#d8576b"
             ],
             [
              0.6666666666666666,
              "#ed7953"
             ],
             [
              0.7777777777777778,
              "#fb9f3a"
             ],
             [
              0.8888888888888888,
              "#fdca26"
             ],
             [
              1,
              "#f0f921"
             ]
            ],
            "type": "histogram2d"
           }
          ],
          "histogram2dcontour": [
           {
            "colorbar": {
             "outlinewidth": 0,
             "ticks": ""
            },
            "colorscale": [
             [
              0,
              "#0d0887"
             ],
             [
              0.1111111111111111,
              "#46039f"
             ],
             [
              0.2222222222222222,
              "#7201a8"
             ],
             [
              0.3333333333333333,
              "#9c179e"
             ],
             [
              0.4444444444444444,
              "#bd3786"
             ],
             [
              0.5555555555555556,
              "#d8576b"
             ],
             [
              0.6666666666666666,
              "#ed7953"
             ],
             [
              0.7777777777777778,
              "#fb9f3a"
             ],
             [
              0.8888888888888888,
              "#fdca26"
             ],
             [
              1,
              "#f0f921"
             ]
            ],
            "type": "histogram2dcontour"
           }
          ],
          "mesh3d": [
           {
            "colorbar": {
             "outlinewidth": 0,
             "ticks": ""
            },
            "type": "mesh3d"
           }
          ],
          "parcoords": [
           {
            "line": {
             "colorbar": {
              "outlinewidth": 0,
              "ticks": ""
             }
            },
            "type": "parcoords"
           }
          ],
          "pie": [
           {
            "automargin": true,
            "type": "pie"
           }
          ],
          "scatter": [
           {
            "fillpattern": {
             "fillmode": "overlay",
             "size": 10,
             "solidity": 0.2
            },
            "type": "scatter"
           }
          ],
          "scatter3d": [
           {
            "line": {
             "colorbar": {
              "outlinewidth": 0,
              "ticks": ""
             }
            },
            "marker": {
             "colorbar": {
              "outlinewidth": 0,
              "ticks": ""
             }
            },
            "type": "scatter3d"
           }
          ],
          "scattercarpet": [
           {
            "marker": {
             "colorbar": {
              "outlinewidth": 0,
              "ticks": ""
             }
            },
            "type": "scattercarpet"
           }
          ],
          "scattergeo": [
           {
            "marker": {
             "colorbar": {
              "outlinewidth": 0,
              "ticks": ""
             }
            },
            "type": "scattergeo"
           }
          ],
          "scattergl": [
           {
            "marker": {
             "colorbar": {
              "outlinewidth": 0,
              "ticks": ""
             }
            },
            "type": "scattergl"
           }
          ],
          "scattermapbox": [
           {
            "marker": {
             "colorbar": {
              "outlinewidth": 0,
              "ticks": ""
             }
            },
            "type": "scattermapbox"
           }
          ],
          "scatterpolar": [
           {
            "marker": {
             "colorbar": {
              "outlinewidth": 0,
              "ticks": ""
             }
            },
            "type": "scatterpolar"
           }
          ],
          "scatterpolargl": [
           {
            "marker": {
             "colorbar": {
              "outlinewidth": 0,
              "ticks": ""
             }
            },
            "type": "scatterpolargl"
           }
          ],
          "scatterternary": [
           {
            "marker": {
             "colorbar": {
              "outlinewidth": 0,
              "ticks": ""
             }
            },
            "type": "scatterternary"
           }
          ],
          "surface": [
           {
            "colorbar": {
             "outlinewidth": 0,
             "ticks": ""
            },
            "colorscale": [
             [
              0,
              "#0d0887"
             ],
             [
              0.1111111111111111,
              "#46039f"
             ],
             [
              0.2222222222222222,
              "#7201a8"
             ],
             [
              0.3333333333333333,
              "#9c179e"
             ],
             [
              0.4444444444444444,
              "#bd3786"
             ],
             [
              0.5555555555555556,
              "#d8576b"
             ],
             [
              0.6666666666666666,
              "#ed7953"
             ],
             [
              0.7777777777777778,
              "#fb9f3a"
             ],
             [
              0.8888888888888888,
              "#fdca26"
             ],
             [
              1,
              "#f0f921"
             ]
            ],
            "type": "surface"
           }
          ],
          "table": [
           {
            "cells": {
             "fill": {
              "color": "#EBF0F8"
             },
             "line": {
              "color": "white"
             }
            },
            "header": {
             "fill": {
              "color": "#C8D4E3"
             },
             "line": {
              "color": "white"
             }
            },
            "type": "table"
           }
          ]
         },
         "layout": {
          "annotationdefaults": {
           "arrowcolor": "#2a3f5f",
           "arrowhead": 0,
           "arrowwidth": 1
          },
          "autotypenumbers": "strict",
          "coloraxis": {
           "colorbar": {
            "outlinewidth": 0,
            "ticks": ""
           }
          },
          "colorscale": {
           "diverging": [
            [
             0,
             "#8e0152"
            ],
            [
             0.1,
             "#c51b7d"
            ],
            [
             0.2,
             "#de77ae"
            ],
            [
             0.3,
             "#f1b6da"
            ],
            [
             0.4,
             "#fde0ef"
            ],
            [
             0.5,
             "#f7f7f7"
            ],
            [
             0.6,
             "#e6f5d0"
            ],
            [
             0.7,
             "#b8e186"
            ],
            [
             0.8,
             "#7fbc41"
            ],
            [
             0.9,
             "#4d9221"
            ],
            [
             1,
             "#276419"
            ]
           ],
           "sequential": [
            [
             0,
             "#0d0887"
            ],
            [
             0.1111111111111111,
             "#46039f"
            ],
            [
             0.2222222222222222,
             "#7201a8"
            ],
            [
             0.3333333333333333,
             "#9c179e"
            ],
            [
             0.4444444444444444,
             "#bd3786"
            ],
            [
             0.5555555555555556,
             "#d8576b"
            ],
            [
             0.6666666666666666,
             "#ed7953"
            ],
            [
             0.7777777777777778,
             "#fb9f3a"
            ],
            [
             0.8888888888888888,
             "#fdca26"
            ],
            [
             1,
             "#f0f921"
            ]
           ],
           "sequentialminus": [
            [
             0,
             "#0d0887"
            ],
            [
             0.1111111111111111,
             "#46039f"
            ],
            [
             0.2222222222222222,
             "#7201a8"
            ],
            [
             0.3333333333333333,
             "#9c179e"
            ],
            [
             0.4444444444444444,
             "#bd3786"
            ],
            [
             0.5555555555555556,
             "#d8576b"
            ],
            [
             0.6666666666666666,
             "#ed7953"
            ],
            [
             0.7777777777777778,
             "#fb9f3a"
            ],
            [
             0.8888888888888888,
             "#fdca26"
            ],
            [
             1,
             "#f0f921"
            ]
           ]
          },
          "colorway": [
           "#636efa",
           "#EF553B",
           "#00cc96",
           "#ab63fa",
           "#FFA15A",
           "#19d3f3",
           "#FF6692",
           "#B6E880",
           "#FF97FF",
           "#FECB52"
          ],
          "font": {
           "color": "#2a3f5f"
          },
          "geo": {
           "bgcolor": "white",
           "lakecolor": "white",
           "landcolor": "#E5ECF6",
           "showlakes": true,
           "showland": true,
           "subunitcolor": "white"
          },
          "hoverlabel": {
           "align": "left"
          },
          "hovermode": "closest",
          "mapbox": {
           "style": "light"
          },
          "paper_bgcolor": "white",
          "plot_bgcolor": "#E5ECF6",
          "polar": {
           "angularaxis": {
            "gridcolor": "white",
            "linecolor": "white",
            "ticks": ""
           },
           "bgcolor": "#E5ECF6",
           "radialaxis": {
            "gridcolor": "white",
            "linecolor": "white",
            "ticks": ""
           }
          },
          "scene": {
           "xaxis": {
            "backgroundcolor": "#E5ECF6",
            "gridcolor": "white",
            "gridwidth": 2,
            "linecolor": "white",
            "showbackground": true,
            "ticks": "",
            "zerolinecolor": "white"
           },
           "yaxis": {
            "backgroundcolor": "#E5ECF6",
            "gridcolor": "white",
            "gridwidth": 2,
            "linecolor": "white",
            "showbackground": true,
            "ticks": "",
            "zerolinecolor": "white"
           },
           "zaxis": {
            "backgroundcolor": "#E5ECF6",
            "gridcolor": "white",
            "gridwidth": 2,
            "linecolor": "white",
            "showbackground": true,
            "ticks": "",
            "zerolinecolor": "white"
           }
          },
          "shapedefaults": {
           "line": {
            "color": "#2a3f5f"
           }
          },
          "ternary": {
           "aaxis": {
            "gridcolor": "white",
            "linecolor": "white",
            "ticks": ""
           },
           "baxis": {
            "gridcolor": "white",
            "linecolor": "white",
            "ticks": ""
           },
           "bgcolor": "#E5ECF6",
           "caxis": {
            "gridcolor": "white",
            "linecolor": "white",
            "ticks": ""
           }
          },
          "title": {
           "x": 0.05
          },
          "xaxis": {
           "automargin": true,
           "gridcolor": "white",
           "linecolor": "white",
           "ticks": "",
           "title": {
            "standoff": 15
           },
           "zerolinecolor": "white",
           "zerolinewidth": 2
          },
          "yaxis": {
           "automargin": true,
           "gridcolor": "white",
           "linecolor": "white",
           "ticks": "",
           "title": {
            "standoff": 15
           },
           "zerolinecolor": "white",
           "zerolinewidth": 2
          }
         }
        },
        "title": {
         "text": "Weekdays [week - 4] timeline"
        },
        "xaxis": {
         "anchor": "y",
         "domain": [
          0,
          1
         ],
         "title": {
          "text": "Weekdays"
         }
        },
        "yaxis": {
         "anchor": "x",
         "domain": [
          0,
          1
         ],
         "title": {
          "text": "Message count"
         }
        }
       }
      }
     },
     "metadata": {},
     "output_type": "display_data"
    },
    {
     "data": {
      "application/vnd.plotly.v1+json": {
       "config": {
        "plotlyServerURL": "https://plot.ly"
       },
       "data": [
        {
         "alignmentgroup": "True",
         "hovertemplate": "Days=%{x}<br>Message count=%{y}<extra></extra>",
         "legendgroup": "",
         "marker": {
          "color": "#636efa",
          "pattern": {
           "shape": ""
          }
         },
         "name": "",
         "offsetgroup": "",
         "orientation": "v",
         "showlegend": false,
         "textposition": "auto",
         "texttemplate": "%{y:.2s}",
         "type": "bar",
         "x": [
          "2023-08-01",
          "2023-08-02",
          "2023-08-03",
          "2023-08-04",
          "2023-08-05",
          "2023-08-06",
          "2023-08-07",
          "2023-08-08",
          "2023-08-09",
          "2023-08-10",
          "2023-08-11",
          "2023-08-12",
          "2023-08-13",
          "2023-08-14",
          "2023-08-15",
          "2023-08-16",
          "2023-08-17",
          "2023-08-18",
          "2023-08-19",
          "2023-08-20",
          "2023-08-21",
          "2023-08-22",
          "2023-08-23",
          "2023-08-24",
          "2023-08-25",
          "2023-08-26",
          "2023-08-27",
          "2023-08-28",
          "2023-08-29",
          "2023-08-30"
         ],
         "xaxis": "x",
         "y": [
          0,
          11,
          84,
          34,
          46,
          0,
          12,
          27,
          3,
          7,
          13,
          11,
          0,
          2,
          2,
          2,
          39,
          1,
          13,
          2,
          1,
          13,
          23,
          15,
          13,
          1,
          10,
          9,
          7,
          17
         ],
         "yaxis": "y"
        }
       ],
       "layout": {
        "barmode": "relative",
        "legend": {
         "tracegroupgap": 0
        },
        "template": {
         "data": {
          "bar": [
           {
            "error_x": {
             "color": "#2a3f5f"
            },
            "error_y": {
             "color": "#2a3f5f"
            },
            "marker": {
             "line": {
              "color": "#E5ECF6",
              "width": 0.5
             },
             "pattern": {
              "fillmode": "overlay",
              "size": 10,
              "solidity": 0.2
             }
            },
            "type": "bar"
           }
          ],
          "barpolar": [
           {
            "marker": {
             "line": {
              "color": "#E5ECF6",
              "width": 0.5
             },
             "pattern": {
              "fillmode": "overlay",
              "size": 10,
              "solidity": 0.2
             }
            },
            "type": "barpolar"
           }
          ],
          "carpet": [
           {
            "aaxis": {
             "endlinecolor": "#2a3f5f",
             "gridcolor": "white",
             "linecolor": "white",
             "minorgridcolor": "white",
             "startlinecolor": "#2a3f5f"
            },
            "baxis": {
             "endlinecolor": "#2a3f5f",
             "gridcolor": "white",
             "linecolor": "white",
             "minorgridcolor": "white",
             "startlinecolor": "#2a3f5f"
            },
            "type": "carpet"
           }
          ],
          "choropleth": [
           {
            "colorbar": {
             "outlinewidth": 0,
             "ticks": ""
            },
            "type": "choropleth"
           }
          ],
          "contour": [
           {
            "colorbar": {
             "outlinewidth": 0,
             "ticks": ""
            },
            "colorscale": [
             [
              0,
              "#0d0887"
             ],
             [
              0.1111111111111111,
              "#46039f"
             ],
             [
              0.2222222222222222,
              "#7201a8"
             ],
             [
              0.3333333333333333,
              "#9c179e"
             ],
             [
              0.4444444444444444,
              "#bd3786"
             ],
             [
              0.5555555555555556,
              "#d8576b"
             ],
             [
              0.6666666666666666,
              "#ed7953"
             ],
             [
              0.7777777777777778,
              "#fb9f3a"
             ],
             [
              0.8888888888888888,
              "#fdca26"
             ],
             [
              1,
              "#f0f921"
             ]
            ],
            "type": "contour"
           }
          ],
          "contourcarpet": [
           {
            "colorbar": {
             "outlinewidth": 0,
             "ticks": ""
            },
            "type": "contourcarpet"
           }
          ],
          "heatmap": [
           {
            "colorbar": {
             "outlinewidth": 0,
             "ticks": ""
            },
            "colorscale": [
             [
              0,
              "#0d0887"
             ],
             [
              0.1111111111111111,
              "#46039f"
             ],
             [
              0.2222222222222222,
              "#7201a8"
             ],
             [
              0.3333333333333333,
              "#9c179e"
             ],
             [
              0.4444444444444444,
              "#bd3786"
             ],
             [
              0.5555555555555556,
              "#d8576b"
             ],
             [
              0.6666666666666666,
              "#ed7953"
             ],
             [
              0.7777777777777778,
              "#fb9f3a"
             ],
             [
              0.8888888888888888,
              "#fdca26"
             ],
             [
              1,
              "#f0f921"
             ]
            ],
            "type": "heatmap"
           }
          ],
          "heatmapgl": [
           {
            "colorbar": {
             "outlinewidth": 0,
             "ticks": ""
            },
            "colorscale": [
             [
              0,
              "#0d0887"
             ],
             [
              0.1111111111111111,
              "#46039f"
             ],
             [
              0.2222222222222222,
              "#7201a8"
             ],
             [
              0.3333333333333333,
              "#9c179e"
             ],
             [
              0.4444444444444444,
              "#bd3786"
             ],
             [
              0.5555555555555556,
              "#d8576b"
             ],
             [
              0.6666666666666666,
              "#ed7953"
             ],
             [
              0.7777777777777778,
              "#fb9f3a"
             ],
             [
              0.8888888888888888,
              "#fdca26"
             ],
             [
              1,
              "#f0f921"
             ]
            ],
            "type": "heatmapgl"
           }
          ],
          "histogram": [
           {
            "marker": {
             "pattern": {
              "fillmode": "overlay",
              "size": 10,
              "solidity": 0.2
             }
            },
            "type": "histogram"
           }
          ],
          "histogram2d": [
           {
            "colorbar": {
             "outlinewidth": 0,
             "ticks": ""
            },
            "colorscale": [
             [
              0,
              "#0d0887"
             ],
             [
              0.1111111111111111,
              "#46039f"
             ],
             [
              0.2222222222222222,
              "#7201a8"
             ],
             [
              0.3333333333333333,
              "#9c179e"
             ],
             [
              0.4444444444444444,
              "#bd3786"
             ],
             [
              0.5555555555555556,
              "#d8576b"
             ],
             [
              0.6666666666666666,
              "#ed7953"
             ],
             [
              0.7777777777777778,
              "#fb9f3a"
             ],
             [
              0.8888888888888888,
              "#fdca26"
             ],
             [
              1,
              "#f0f921"
             ]
            ],
            "type": "histogram2d"
           }
          ],
          "histogram2dcontour": [
           {
            "colorbar": {
             "outlinewidth": 0,
             "ticks": ""
            },
            "colorscale": [
             [
              0,
              "#0d0887"
             ],
             [
              0.1111111111111111,
              "#46039f"
             ],
             [
              0.2222222222222222,
              "#7201a8"
             ],
             [
              0.3333333333333333,
              "#9c179e"
             ],
             [
              0.4444444444444444,
              "#bd3786"
             ],
             [
              0.5555555555555556,
              "#d8576b"
             ],
             [
              0.6666666666666666,
              "#ed7953"
             ],
             [
              0.7777777777777778,
              "#fb9f3a"
             ],
             [
              0.8888888888888888,
              "#fdca26"
             ],
             [
              1,
              "#f0f921"
             ]
            ],
            "type": "histogram2dcontour"
           }
          ],
          "mesh3d": [
           {
            "colorbar": {
             "outlinewidth": 0,
             "ticks": ""
            },
            "type": "mesh3d"
           }
          ],
          "parcoords": [
           {
            "line": {
             "colorbar": {
              "outlinewidth": 0,
              "ticks": ""
             }
            },
            "type": "parcoords"
           }
          ],
          "pie": [
           {
            "automargin": true,
            "type": "pie"
           }
          ],
          "scatter": [
           {
            "fillpattern": {
             "fillmode": "overlay",
             "size": 10,
             "solidity": 0.2
            },
            "type": "scatter"
           }
          ],
          "scatter3d": [
           {
            "line": {
             "colorbar": {
              "outlinewidth": 0,
              "ticks": ""
             }
            },
            "marker": {
             "colorbar": {
              "outlinewidth": 0,
              "ticks": ""
             }
            },
            "type": "scatter3d"
           }
          ],
          "scattercarpet": [
           {
            "marker": {
             "colorbar": {
              "outlinewidth": 0,
              "ticks": ""
             }
            },
            "type": "scattercarpet"
           }
          ],
          "scattergeo": [
           {
            "marker": {
             "colorbar": {
              "outlinewidth": 0,
              "ticks": ""
             }
            },
            "type": "scattergeo"
           }
          ],
          "scattergl": [
           {
            "marker": {
             "colorbar": {
              "outlinewidth": 0,
              "ticks": ""
             }
            },
            "type": "scattergl"
           }
          ],
          "scattermapbox": [
           {
            "marker": {
             "colorbar": {
              "outlinewidth": 0,
              "ticks": ""
             }
            },
            "type": "scattermapbox"
           }
          ],
          "scatterpolar": [
           {
            "marker": {
             "colorbar": {
              "outlinewidth": 0,
              "ticks": ""
             }
            },
            "type": "scatterpolar"
           }
          ],
          "scatterpolargl": [
           {
            "marker": {
             "colorbar": {
              "outlinewidth": 0,
              "ticks": ""
             }
            },
            "type": "scatterpolargl"
           }
          ],
          "scatterternary": [
           {
            "marker": {
             "colorbar": {
              "outlinewidth": 0,
              "ticks": ""
             }
            },
            "type": "scatterternary"
           }
          ],
          "surface": [
           {
            "colorbar": {
             "outlinewidth": 0,
             "ticks": ""
            },
            "colorscale": [
             [
              0,
              "#0d0887"
             ],
             [
              0.1111111111111111,
              "#46039f"
             ],
             [
              0.2222222222222222,
              "#7201a8"
             ],
             [
              0.3333333333333333,
              "#9c179e"
             ],
             [
              0.4444444444444444,
              "#bd3786"
             ],
             [
              0.5555555555555556,
              "#d8576b"
             ],
             [
              0.6666666666666666,
              "#ed7953"
             ],
             [
              0.7777777777777778,
              "#fb9f3a"
             ],
             [
              0.8888888888888888,
              "#fdca26"
             ],
             [
              1,
              "#f0f921"
             ]
            ],
            "type": "surface"
           }
          ],
          "table": [
           {
            "cells": {
             "fill": {
              "color": "#EBF0F8"
             },
             "line": {
              "color": "white"
             }
            },
            "header": {
             "fill": {
              "color": "#C8D4E3"
             },
             "line": {
              "color": "white"
             }
            },
            "type": "table"
           }
          ]
         },
         "layout": {
          "annotationdefaults": {
           "arrowcolor": "#2a3f5f",
           "arrowhead": 0,
           "arrowwidth": 1
          },
          "autotypenumbers": "strict",
          "coloraxis": {
           "colorbar": {
            "outlinewidth": 0,
            "ticks": ""
           }
          },
          "colorscale": {
           "diverging": [
            [
             0,
             "#8e0152"
            ],
            [
             0.1,
             "#c51b7d"
            ],
            [
             0.2,
             "#de77ae"
            ],
            [
             0.3,
             "#f1b6da"
            ],
            [
             0.4,
             "#fde0ef"
            ],
            [
             0.5,
             "#f7f7f7"
            ],
            [
             0.6,
             "#e6f5d0"
            ],
            [
             0.7,
             "#b8e186"
            ],
            [
             0.8,
             "#7fbc41"
            ],
            [
             0.9,
             "#4d9221"
            ],
            [
             1,
             "#276419"
            ]
           ],
           "sequential": [
            [
             0,
             "#0d0887"
            ],
            [
             0.1111111111111111,
             "#46039f"
            ],
            [
             0.2222222222222222,
             "#7201a8"
            ],
            [
             0.3333333333333333,
             "#9c179e"
            ],
            [
             0.4444444444444444,
             "#bd3786"
            ],
            [
             0.5555555555555556,
             "#d8576b"
            ],
            [
             0.6666666666666666,
             "#ed7953"
            ],
            [
             0.7777777777777778,
             "#fb9f3a"
            ],
            [
             0.8888888888888888,
             "#fdca26"
            ],
            [
             1,
             "#f0f921"
            ]
           ],
           "sequentialminus": [
            [
             0,
             "#0d0887"
            ],
            [
             0.1111111111111111,
             "#46039f"
            ],
            [
             0.2222222222222222,
             "#7201a8"
            ],
            [
             0.3333333333333333,
             "#9c179e"
            ],
            [
             0.4444444444444444,
             "#bd3786"
            ],
            [
             0.5555555555555556,
             "#d8576b"
            ],
            [
             0.6666666666666666,
             "#ed7953"
            ],
            [
             0.7777777777777778,
             "#fb9f3a"
            ],
            [
             0.8888888888888888,
             "#fdca26"
            ],
            [
             1,
             "#f0f921"
            ]
           ]
          },
          "colorway": [
           "#636efa",
           "#EF553B",
           "#00cc96",
           "#ab63fa",
           "#FFA15A",
           "#19d3f3",
           "#FF6692",
           "#B6E880",
           "#FF97FF",
           "#FECB52"
          ],
          "font": {
           "color": "#2a3f5f"
          },
          "geo": {
           "bgcolor": "white",
           "lakecolor": "white",
           "landcolor": "#E5ECF6",
           "showlakes": true,
           "showland": true,
           "subunitcolor": "white"
          },
          "hoverlabel": {
           "align": "left"
          },
          "hovermode": "closest",
          "mapbox": {
           "style": "light"
          },
          "paper_bgcolor": "white",
          "plot_bgcolor": "#E5ECF6",
          "polar": {
           "angularaxis": {
            "gridcolor": "white",
            "linecolor": "white",
            "ticks": ""
           },
           "bgcolor": "#E5ECF6",
           "radialaxis": {
            "gridcolor": "white",
            "linecolor": "white",
            "ticks": ""
           }
          },
          "scene": {
           "xaxis": {
            "backgroundcolor": "#E5ECF6",
            "gridcolor": "white",
            "gridwidth": 2,
            "linecolor": "white",
            "showbackground": true,
            "ticks": "",
            "zerolinecolor": "white"
           },
           "yaxis": {
            "backgroundcolor": "#E5ECF6",
            "gridcolor": "white",
            "gridwidth": 2,
            "linecolor": "white",
            "showbackground": true,
            "ticks": "",
            "zerolinecolor": "white"
           },
           "zaxis": {
            "backgroundcolor": "#E5ECF6",
            "gridcolor": "white",
            "gridwidth": 2,
            "linecolor": "white",
            "showbackground": true,
            "ticks": "",
            "zerolinecolor": "white"
           }
          },
          "shapedefaults": {
           "line": {
            "color": "#2a3f5f"
           }
          },
          "ternary": {
           "aaxis": {
            "gridcolor": "white",
            "linecolor": "white",
            "ticks": ""
           },
           "baxis": {
            "gridcolor": "white",
            "linecolor": "white",
            "ticks": ""
           },
           "bgcolor": "#E5ECF6",
           "caxis": {
            "gridcolor": "white",
            "linecolor": "white",
            "ticks": ""
           }
          },
          "title": {
           "x": 0.05
          },
          "xaxis": {
           "automargin": true,
           "gridcolor": "white",
           "linecolor": "white",
           "ticks": "",
           "title": {
            "standoff": 15
           },
           "zerolinecolor": "white",
           "zerolinewidth": 2
          },
          "yaxis": {
           "automargin": true,
           "gridcolor": "white",
           "linecolor": "white",
           "ticks": "",
           "title": {
            "standoff": 15
           },
           "zerolinecolor": "white",
           "zerolinewidth": 2
          }
         }
        },
        "title": {
         "text": "Days timeline"
        },
        "xaxis": {
         "anchor": "y",
         "domain": [
          0,
          1
         ],
         "rangeslider": {
          "visible": true
         },
         "title": {
          "text": "Days"
         }
        },
        "yaxis": {
         "anchor": "x",
         "domain": [
          0,
          1
         ],
         "title": {
          "text": "Message count"
         }
        }
       }
      }
     },
     "metadata": {},
     "output_type": "display_data"
    },
    {
     "data": {
      "application/vnd.plotly.v1+json": {
       "config": {
        "plotlyServerURL": "https://plot.ly"
       },
       "data": [
        {
         "alignmentgroup": "True",
         "hovertemplate": "Hours=%{x}<br>Message count=%{y}<extra></extra>",
         "legendgroup": "",
         "marker": {
          "color": "#636efa",
          "pattern": {
           "shape": ""
          }
         },
         "name": "",
         "offsetgroup": "",
         "orientation": "v",
         "showlegend": false,
         "textposition": "auto",
         "texttemplate": "%{y:.2s}",
         "type": "bar",
         "x": [
          "2023-08-03T10:00:00",
          "2023-08-03T11:00:00",
          "2023-08-03T12:00:00",
          "2023-08-03T13:00:00",
          "2023-08-03T14:00:00",
          "2023-08-03T15:00:00",
          "2023-08-03T16:00:00",
          "2023-08-03T17:00:00",
          "2023-08-03T18:00:00",
          "2023-08-03T19:00:00"
         ],
         "xaxis": "x",
         "y": [
          6,
          23,
          14,
          0,
          0,
          0,
          0,
          0,
          0,
          0
         ],
         "yaxis": "y"
        }
       ],
       "layout": {
        "barmode": "relative",
        "legend": {
         "tracegroupgap": 0
        },
        "template": {
         "data": {
          "bar": [
           {
            "error_x": {
             "color": "#2a3f5f"
            },
            "error_y": {
             "color": "#2a3f5f"
            },
            "marker": {
             "line": {
              "color": "#E5ECF6",
              "width": 0.5
             },
             "pattern": {
              "fillmode": "overlay",
              "size": 10,
              "solidity": 0.2
             }
            },
            "type": "bar"
           }
          ],
          "barpolar": [
           {
            "marker": {
             "line": {
              "color": "#E5ECF6",
              "width": 0.5
             },
             "pattern": {
              "fillmode": "overlay",
              "size": 10,
              "solidity": 0.2
             }
            },
            "type": "barpolar"
           }
          ],
          "carpet": [
           {
            "aaxis": {
             "endlinecolor": "#2a3f5f",
             "gridcolor": "white",
             "linecolor": "white",
             "minorgridcolor": "white",
             "startlinecolor": "#2a3f5f"
            },
            "baxis": {
             "endlinecolor": "#2a3f5f",
             "gridcolor": "white",
             "linecolor": "white",
             "minorgridcolor": "white",
             "startlinecolor": "#2a3f5f"
            },
            "type": "carpet"
           }
          ],
          "choropleth": [
           {
            "colorbar": {
             "outlinewidth": 0,
             "ticks": ""
            },
            "type": "choropleth"
           }
          ],
          "contour": [
           {
            "colorbar": {
             "outlinewidth": 0,
             "ticks": ""
            },
            "colorscale": [
             [
              0,
              "#0d0887"
             ],
             [
              0.1111111111111111,
              "#46039f"
             ],
             [
              0.2222222222222222,
              "#7201a8"
             ],
             [
              0.3333333333333333,
              "#9c179e"
             ],
             [
              0.4444444444444444,
              "#bd3786"
             ],
             [
              0.5555555555555556,
              "#d8576b"
             ],
             [
              0.6666666666666666,
              "#ed7953"
             ],
             [
              0.7777777777777778,
              "#fb9f3a"
             ],
             [
              0.8888888888888888,
              "#fdca26"
             ],
             [
              1,
              "#f0f921"
             ]
            ],
            "type": "contour"
           }
          ],
          "contourcarpet": [
           {
            "colorbar": {
             "outlinewidth": 0,
             "ticks": ""
            },
            "type": "contourcarpet"
           }
          ],
          "heatmap": [
           {
            "colorbar": {
             "outlinewidth": 0,
             "ticks": ""
            },
            "colorscale": [
             [
              0,
              "#0d0887"
             ],
             [
              0.1111111111111111,
              "#46039f"
             ],
             [
              0.2222222222222222,
              "#7201a8"
             ],
             [
              0.3333333333333333,
              "#9c179e"
             ],
             [
              0.4444444444444444,
              "#bd3786"
             ],
             [
              0.5555555555555556,
              "#d8576b"
             ],
             [
              0.6666666666666666,
              "#ed7953"
             ],
             [
              0.7777777777777778,
              "#fb9f3a"
             ],
             [
              0.8888888888888888,
              "#fdca26"
             ],
             [
              1,
              "#f0f921"
             ]
            ],
            "type": "heatmap"
           }
          ],
          "heatmapgl": [
           {
            "colorbar": {
             "outlinewidth": 0,
             "ticks": ""
            },
            "colorscale": [
             [
              0,
              "#0d0887"
             ],
             [
              0.1111111111111111,
              "#46039f"
             ],
             [
              0.2222222222222222,
              "#7201a8"
             ],
             [
              0.3333333333333333,
              "#9c179e"
             ],
             [
              0.4444444444444444,
              "#bd3786"
             ],
             [
              0.5555555555555556,
              "#d8576b"
             ],
             [
              0.6666666666666666,
              "#ed7953"
             ],
             [
              0.7777777777777778,
              "#fb9f3a"
             ],
             [
              0.8888888888888888,
              "#fdca26"
             ],
             [
              1,
              "#f0f921"
             ]
            ],
            "type": "heatmapgl"
           }
          ],
          "histogram": [
           {
            "marker": {
             "pattern": {
              "fillmode": "overlay",
              "size": 10,
              "solidity": 0.2
             }
            },
            "type": "histogram"
           }
          ],
          "histogram2d": [
           {
            "colorbar": {
             "outlinewidth": 0,
             "ticks": ""
            },
            "colorscale": [
             [
              0,
              "#0d0887"
             ],
             [
              0.1111111111111111,
              "#46039f"
             ],
             [
              0.2222222222222222,
              "#7201a8"
             ],
             [
              0.3333333333333333,
              "#9c179e"
             ],
             [
              0.4444444444444444,
              "#bd3786"
             ],
             [
              0.5555555555555556,
              "#d8576b"
             ],
             [
              0.6666666666666666,
              "#ed7953"
             ],
             [
              0.7777777777777778,
              "#fb9f3a"
             ],
             [
              0.8888888888888888,
              "#fdca26"
             ],
             [
              1,
              "#f0f921"
             ]
            ],
            "type": "histogram2d"
           }
          ],
          "histogram2dcontour": [
           {
            "colorbar": {
             "outlinewidth": 0,
             "ticks": ""
            },
            "colorscale": [
             [
              0,
              "#0d0887"
             ],
             [
              0.1111111111111111,
              "#46039f"
             ],
             [
              0.2222222222222222,
              "#7201a8"
             ],
             [
              0.3333333333333333,
              "#9c179e"
             ],
             [
              0.4444444444444444,
              "#bd3786"
             ],
             [
              0.5555555555555556,
              "#d8576b"
             ],
             [
              0.6666666666666666,
              "#ed7953"
             ],
             [
              0.7777777777777778,
              "#fb9f3a"
             ],
             [
              0.8888888888888888,
              "#fdca26"
             ],
             [
              1,
              "#f0f921"
             ]
            ],
            "type": "histogram2dcontour"
           }
          ],
          "mesh3d": [
           {
            "colorbar": {
             "outlinewidth": 0,
             "ticks": ""
            },
            "type": "mesh3d"
           }
          ],
          "parcoords": [
           {
            "line": {
             "colorbar": {
              "outlinewidth": 0,
              "ticks": ""
             }
            },
            "type": "parcoords"
           }
          ],
          "pie": [
           {
            "automargin": true,
            "type": "pie"
           }
          ],
          "scatter": [
           {
            "fillpattern": {
             "fillmode": "overlay",
             "size": 10,
             "solidity": 0.2
            },
            "type": "scatter"
           }
          ],
          "scatter3d": [
           {
            "line": {
             "colorbar": {
              "outlinewidth": 0,
              "ticks": ""
             }
            },
            "marker": {
             "colorbar": {
              "outlinewidth": 0,
              "ticks": ""
             }
            },
            "type": "scatter3d"
           }
          ],
          "scattercarpet": [
           {
            "marker": {
             "colorbar": {
              "outlinewidth": 0,
              "ticks": ""
             }
            },
            "type": "scattercarpet"
           }
          ],
          "scattergeo": [
           {
            "marker": {
             "colorbar": {
              "outlinewidth": 0,
              "ticks": ""
             }
            },
            "type": "scattergeo"
           }
          ],
          "scattergl": [
           {
            "marker": {
             "colorbar": {
              "outlinewidth": 0,
              "ticks": ""
             }
            },
            "type": "scattergl"
           }
          ],
          "scattermapbox": [
           {
            "marker": {
             "colorbar": {
              "outlinewidth": 0,
              "ticks": ""
             }
            },
            "type": "scattermapbox"
           }
          ],
          "scatterpolar": [
           {
            "marker": {
             "colorbar": {
              "outlinewidth": 0,
              "ticks": ""
             }
            },
            "type": "scatterpolar"
           }
          ],
          "scatterpolargl": [
           {
            "marker": {
             "colorbar": {
              "outlinewidth": 0,
              "ticks": ""
             }
            },
            "type": "scatterpolargl"
           }
          ],
          "scatterternary": [
           {
            "marker": {
             "colorbar": {
              "outlinewidth": 0,
              "ticks": ""
             }
            },
            "type": "scatterternary"
           }
          ],
          "surface": [
           {
            "colorbar": {
             "outlinewidth": 0,
             "ticks": ""
            },
            "colorscale": [
             [
              0,
              "#0d0887"
             ],
             [
              0.1111111111111111,
              "#46039f"
             ],
             [
              0.2222222222222222,
              "#7201a8"
             ],
             [
              0.3333333333333333,
              "#9c179e"
             ],
             [
              0.4444444444444444,
              "#bd3786"
             ],
             [
              0.5555555555555556,
              "#d8576b"
             ],
             [
              0.6666666666666666,
              "#ed7953"
             ],
             [
              0.7777777777777778,
              "#fb9f3a"
             ],
             [
              0.8888888888888888,
              "#fdca26"
             ],
             [
              1,
              "#f0f921"
             ]
            ],
            "type": "surface"
           }
          ],
          "table": [
           {
            "cells": {
             "fill": {
              "color": "#EBF0F8"
             },
             "line": {
              "color": "white"
             }
            },
            "header": {
             "fill": {
              "color": "#C8D4E3"
             },
             "line": {
              "color": "white"
             }
            },
            "type": "table"
           }
          ]
         },
         "layout": {
          "annotationdefaults": {
           "arrowcolor": "#2a3f5f",
           "arrowhead": 0,
           "arrowwidth": 1
          },
          "autotypenumbers": "strict",
          "coloraxis": {
           "colorbar": {
            "outlinewidth": 0,
            "ticks": ""
           }
          },
          "colorscale": {
           "diverging": [
            [
             0,
             "#8e0152"
            ],
            [
             0.1,
             "#c51b7d"
            ],
            [
             0.2,
             "#de77ae"
            ],
            [
             0.3,
             "#f1b6da"
            ],
            [
             0.4,
             "#fde0ef"
            ],
            [
             0.5,
             "#f7f7f7"
            ],
            [
             0.6,
             "#e6f5d0"
            ],
            [
             0.7,
             "#b8e186"
            ],
            [
             0.8,
             "#7fbc41"
            ],
            [
             0.9,
             "#4d9221"
            ],
            [
             1,
             "#276419"
            ]
           ],
           "sequential": [
            [
             0,
             "#0d0887"
            ],
            [
             0.1111111111111111,
             "#46039f"
            ],
            [
             0.2222222222222222,
             "#7201a8"
            ],
            [
             0.3333333333333333,
             "#9c179e"
            ],
            [
             0.4444444444444444,
             "#bd3786"
            ],
            [
             0.5555555555555556,
             "#d8576b"
            ],
            [
             0.6666666666666666,
             "#ed7953"
            ],
            [
             0.7777777777777778,
             "#fb9f3a"
            ],
            [
             0.8888888888888888,
             "#fdca26"
            ],
            [
             1,
             "#f0f921"
            ]
           ],
           "sequentialminus": [
            [
             0,
             "#0d0887"
            ],
            [
             0.1111111111111111,
             "#46039f"
            ],
            [
             0.2222222222222222,
             "#7201a8"
            ],
            [
             0.3333333333333333,
             "#9c179e"
            ],
            [
             0.4444444444444444,
             "#bd3786"
            ],
            [
             0.5555555555555556,
             "#d8576b"
            ],
            [
             0.6666666666666666,
             "#ed7953"
            ],
            [
             0.7777777777777778,
             "#fb9f3a"
            ],
            [
             0.8888888888888888,
             "#fdca26"
            ],
            [
             1,
             "#f0f921"
            ]
           ]
          },
          "colorway": [
           "#636efa",
           "#EF553B",
           "#00cc96",
           "#ab63fa",
           "#FFA15A",
           "#19d3f3",
           "#FF6692",
           "#B6E880",
           "#FF97FF",
           "#FECB52"
          ],
          "font": {
           "color": "#2a3f5f"
          },
          "geo": {
           "bgcolor": "white",
           "lakecolor": "white",
           "landcolor": "#E5ECF6",
           "showlakes": true,
           "showland": true,
           "subunitcolor": "white"
          },
          "hoverlabel": {
           "align": "left"
          },
          "hovermode": "closest",
          "mapbox": {
           "style": "light"
          },
          "paper_bgcolor": "white",
          "plot_bgcolor": "#E5ECF6",
          "polar": {
           "angularaxis": {
            "gridcolor": "white",
            "linecolor": "white",
            "ticks": ""
           },
           "bgcolor": "#E5ECF6",
           "radialaxis": {
            "gridcolor": "white",
            "linecolor": "white",
            "ticks": ""
           }
          },
          "scene": {
           "xaxis": {
            "backgroundcolor": "#E5ECF6",
            "gridcolor": "white",
            "gridwidth": 2,
            "linecolor": "white",
            "showbackground": true,
            "ticks": "",
            "zerolinecolor": "white"
           },
           "yaxis": {
            "backgroundcolor": "#E5ECF6",
            "gridcolor": "white",
            "gridwidth": 2,
            "linecolor": "white",
            "showbackground": true,
            "ticks": "",
            "zerolinecolor": "white"
           },
           "zaxis": {
            "backgroundcolor": "#E5ECF6",
            "gridcolor": "white",
            "gridwidth": 2,
            "linecolor": "white",
            "showbackground": true,
            "ticks": "",
            "zerolinecolor": "white"
           }
          },
          "shapedefaults": {
           "line": {
            "color": "#2a3f5f"
           }
          },
          "ternary": {
           "aaxis": {
            "gridcolor": "white",
            "linecolor": "white",
            "ticks": ""
           },
           "baxis": {
            "gridcolor": "white",
            "linecolor": "white",
            "ticks": ""
           },
           "bgcolor": "#E5ECF6",
           "caxis": {
            "gridcolor": "white",
            "linecolor": "white",
            "ticks": ""
           }
          },
          "title": {
           "x": 0.05
          },
          "xaxis": {
           "automargin": true,
           "gridcolor": "white",
           "linecolor": "white",
           "ticks": "",
           "title": {
            "standoff": 15
           },
           "zerolinecolor": "white",
           "zerolinewidth": 2
          },
          "yaxis": {
           "automargin": true,
           "gridcolor": "white",
           "linecolor": "white",
           "ticks": "",
           "title": {
            "standoff": 15
           },
           "zerolinecolor": "white",
           "zerolinewidth": 2
          }
         }
        },
        "title": {
         "text": "Hours timeline"
        },
        "xaxis": {
         "anchor": "y",
         "domain": [
          0,
          1
         ],
         "rangeslider": {
          "visible": true
         },
         "title": {
          "text": "Hours"
         }
        },
        "yaxis": {
         "anchor": "x",
         "domain": [
          0,
          1
         ],
         "title": {
          "text": "Message count"
         }
        }
       }
      }
     },
     "metadata": {},
     "output_type": "display_data"
    },
    {
     "data": {
      "application/vnd.plotly.v1+json": {
       "config": {
        "plotlyServerURL": "https://plot.ly"
       },
       "data": [
        {
         "alignmentgroup": "True",
         "hovertemplate": "Minutes=%{x}<br>Message count=%{y}<extra></extra>",
         "legendgroup": "",
         "marker": {
          "color": "#636efa",
          "pattern": {
           "shape": ""
          }
         },
         "name": "",
         "offsetgroup": "",
         "orientation": "v",
         "showlegend": false,
         "textposition": "auto",
         "texttemplate": "%{y:.2s}",
         "type": "bar",
         "x": [
          "2023-08-03T10:00:00",
          "2023-08-03T10:01:00",
          "2023-08-03T10:02:00",
          "2023-08-03T10:03:00",
          "2023-08-03T10:04:00",
          "2023-08-03T10:05:00",
          "2023-08-03T10:06:00",
          "2023-08-03T10:07:00",
          "2023-08-03T10:08:00",
          "2023-08-03T10:09:00",
          "2023-08-03T10:10:00",
          "2023-08-03T10:11:00",
          "2023-08-03T10:12:00",
          "2023-08-03T10:13:00",
          "2023-08-03T10:14:00",
          "2023-08-03T10:15:00",
          "2023-08-03T10:16:00",
          "2023-08-03T10:17:00",
          "2023-08-03T10:18:00",
          "2023-08-03T10:19:00",
          "2023-08-03T10:20:00",
          "2023-08-03T10:21:00",
          "2023-08-03T10:22:00",
          "2023-08-03T10:23:00",
          "2023-08-03T10:24:00",
          "2023-08-03T10:25:00",
          "2023-08-03T10:26:00",
          "2023-08-03T10:27:00",
          "2023-08-03T10:28:00",
          "2023-08-03T10:29:00",
          "2023-08-03T10:30:00",
          "2023-08-03T10:31:00",
          "2023-08-03T10:32:00",
          "2023-08-03T10:33:00",
          "2023-08-03T10:34:00",
          "2023-08-03T10:35:00",
          "2023-08-03T10:36:00",
          "2023-08-03T10:37:00",
          "2023-08-03T10:38:00",
          "2023-08-03T10:39:00",
          "2023-08-03T10:40:00",
          "2023-08-03T10:41:00",
          "2023-08-03T10:42:00",
          "2023-08-03T10:43:00",
          "2023-08-03T10:44:00",
          "2023-08-03T10:45:00",
          "2023-08-03T10:46:00",
          "2023-08-03T10:47:00",
          "2023-08-03T10:48:00",
          "2023-08-03T10:49:00",
          "2023-08-03T10:50:00",
          "2023-08-03T10:51:00",
          "2023-08-03T10:52:00",
          "2023-08-03T10:53:00",
          "2023-08-03T10:54:00",
          "2023-08-03T10:55:00",
          "2023-08-03T10:56:00",
          "2023-08-03T10:57:00",
          "2023-08-03T10:58:00",
          "2023-08-03T10:59:00",
          "2023-08-03T11:00:00",
          "2023-08-03T11:01:00",
          "2023-08-03T11:02:00",
          "2023-08-03T11:03:00",
          "2023-08-03T11:04:00",
          "2023-08-03T11:05:00",
          "2023-08-03T11:06:00",
          "2023-08-03T11:07:00",
          "2023-08-03T11:08:00",
          "2023-08-03T11:09:00",
          "2023-08-03T11:10:00",
          "2023-08-03T11:11:00",
          "2023-08-03T11:12:00",
          "2023-08-03T11:13:00",
          "2023-08-03T11:14:00",
          "2023-08-03T11:15:00",
          "2023-08-03T11:16:00",
          "2023-08-03T11:17:00",
          "2023-08-03T11:18:00",
          "2023-08-03T11:19:00",
          "2023-08-03T11:20:00",
          "2023-08-03T11:21:00",
          "2023-08-03T11:22:00",
          "2023-08-03T11:23:00",
          "2023-08-03T11:24:00",
          "2023-08-03T11:25:00",
          "2023-08-03T11:26:00",
          "2023-08-03T11:27:00",
          "2023-08-03T11:28:00",
          "2023-08-03T11:29:00",
          "2023-08-03T11:30:00",
          "2023-08-03T11:31:00",
          "2023-08-03T11:32:00",
          "2023-08-03T11:33:00",
          "2023-08-03T11:34:00",
          "2023-08-03T11:35:00",
          "2023-08-03T11:36:00",
          "2023-08-03T11:37:00",
          "2023-08-03T11:38:00",
          "2023-08-03T11:39:00",
          "2023-08-03T11:40:00",
          "2023-08-03T11:41:00",
          "2023-08-03T11:42:00",
          "2023-08-03T11:43:00",
          "2023-08-03T11:44:00",
          "2023-08-03T11:45:00",
          "2023-08-03T11:46:00",
          "2023-08-03T11:47:00",
          "2023-08-03T11:48:00",
          "2023-08-03T11:49:00"
         ],
         "xaxis": "x",
         "y": [
          1,
          1,
          1,
          0,
          0,
          0,
          0,
          0,
          0,
          0,
          0,
          0,
          0,
          1,
          1,
          0,
          0,
          0,
          0,
          0,
          0,
          0,
          0,
          1,
          1,
          0,
          0,
          0,
          0,
          0,
          0,
          0,
          0,
          0,
          0,
          0,
          0,
          0,
          0,
          0,
          0,
          0,
          0,
          0,
          0,
          0,
          0,
          0,
          0,
          0,
          2,
          2,
          0,
          0,
          0,
          0,
          0,
          0,
          0,
          0,
          1,
          1,
          0,
          0,
          0,
          0,
          0,
          0,
          0,
          0,
          0,
          0,
          0,
          0,
          0,
          0,
          0,
          0,
          1,
          1,
          0,
          1,
          1,
          2,
          2,
          0,
          0,
          0,
          1,
          2,
          1,
          1,
          3,
          2,
          0,
          0,
          0,
          0,
          0,
          0,
          0,
          1,
          1,
          0,
          0,
          0,
          0,
          0,
          1,
          2
         ],
         "yaxis": "y"
        }
       ],
       "layout": {
        "barmode": "relative",
        "legend": {
         "tracegroupgap": 0
        },
        "template": {
         "data": {
          "bar": [
           {
            "error_x": {
             "color": "#2a3f5f"
            },
            "error_y": {
             "color": "#2a3f5f"
            },
            "marker": {
             "line": {
              "color": "#E5ECF6",
              "width": 0.5
             },
             "pattern": {
              "fillmode": "overlay",
              "size": 10,
              "solidity": 0.2
             }
            },
            "type": "bar"
           }
          ],
          "barpolar": [
           {
            "marker": {
             "line": {
              "color": "#E5ECF6",
              "width": 0.5
             },
             "pattern": {
              "fillmode": "overlay",
              "size": 10,
              "solidity": 0.2
             }
            },
            "type": "barpolar"
           }
          ],
          "carpet": [
           {
            "aaxis": {
             "endlinecolor": "#2a3f5f",
             "gridcolor": "white",
             "linecolor": "white",
             "minorgridcolor": "white",
             "startlinecolor": "#2a3f5f"
            },
            "baxis": {
             "endlinecolor": "#2a3f5f",
             "gridcolor": "white",
             "linecolor": "white",
             "minorgridcolor": "white",
             "startlinecolor": "#2a3f5f"
            },
            "type": "carpet"
           }
          ],
          "choropleth": [
           {
            "colorbar": {
             "outlinewidth": 0,
             "ticks": ""
            },
            "type": "choropleth"
           }
          ],
          "contour": [
           {
            "colorbar": {
             "outlinewidth": 0,
             "ticks": ""
            },
            "colorscale": [
             [
              0,
              "#0d0887"
             ],
             [
              0.1111111111111111,
              "#46039f"
             ],
             [
              0.2222222222222222,
              "#7201a8"
             ],
             [
              0.3333333333333333,
              "#9c179e"
             ],
             [
              0.4444444444444444,
              "#bd3786"
             ],
             [
              0.5555555555555556,
              "#d8576b"
             ],
             [
              0.6666666666666666,
              "#ed7953"
             ],
             [
              0.7777777777777778,
              "#fb9f3a"
             ],
             [
              0.8888888888888888,
              "#fdca26"
             ],
             [
              1,
              "#f0f921"
             ]
            ],
            "type": "contour"
           }
          ],
          "contourcarpet": [
           {
            "colorbar": {
             "outlinewidth": 0,
             "ticks": ""
            },
            "type": "contourcarpet"
           }
          ],
          "heatmap": [
           {
            "colorbar": {
             "outlinewidth": 0,
             "ticks": ""
            },
            "colorscale": [
             [
              0,
              "#0d0887"
             ],
             [
              0.1111111111111111,
              "#46039f"
             ],
             [
              0.2222222222222222,
              "#7201a8"
             ],
             [
              0.3333333333333333,
              "#9c179e"
             ],
             [
              0.4444444444444444,
              "#bd3786"
             ],
             [
              0.5555555555555556,
              "#d8576b"
             ],
             [
              0.6666666666666666,
              "#ed7953"
             ],
             [
              0.7777777777777778,
              "#fb9f3a"
             ],
             [
              0.8888888888888888,
              "#fdca26"
             ],
             [
              1,
              "#f0f921"
             ]
            ],
            "type": "heatmap"
           }
          ],
          "heatmapgl": [
           {
            "colorbar": {
             "outlinewidth": 0,
             "ticks": ""
            },
            "colorscale": [
             [
              0,
              "#0d0887"
             ],
             [
              0.1111111111111111,
              "#46039f"
             ],
             [
              0.2222222222222222,
              "#7201a8"
             ],
             [
              0.3333333333333333,
              "#9c179e"
             ],
             [
              0.4444444444444444,
              "#bd3786"
             ],
             [
              0.5555555555555556,
              "#d8576b"
             ],
             [
              0.6666666666666666,
              "#ed7953"
             ],
             [
              0.7777777777777778,
              "#fb9f3a"
             ],
             [
              0.8888888888888888,
              "#fdca26"
             ],
             [
              1,
              "#f0f921"
             ]
            ],
            "type": "heatmapgl"
           }
          ],
          "histogram": [
           {
            "marker": {
             "pattern": {
              "fillmode": "overlay",
              "size": 10,
              "solidity": 0.2
             }
            },
            "type": "histogram"
           }
          ],
          "histogram2d": [
           {
            "colorbar": {
             "outlinewidth": 0,
             "ticks": ""
            },
            "colorscale": [
             [
              0,
              "#0d0887"
             ],
             [
              0.1111111111111111,
              "#46039f"
             ],
             [
              0.2222222222222222,
              "#7201a8"
             ],
             [
              0.3333333333333333,
              "#9c179e"
             ],
             [
              0.4444444444444444,
              "#bd3786"
             ],
             [
              0.5555555555555556,
              "#d8576b"
             ],
             [
              0.6666666666666666,
              "#ed7953"
             ],
             [
              0.7777777777777778,
              "#fb9f3a"
             ],
             [
              0.8888888888888888,
              "#fdca26"
             ],
             [
              1,
              "#f0f921"
             ]
            ],
            "type": "histogram2d"
           }
          ],
          "histogram2dcontour": [
           {
            "colorbar": {
             "outlinewidth": 0,
             "ticks": ""
            },
            "colorscale": [
             [
              0,
              "#0d0887"
             ],
             [
              0.1111111111111111,
              "#46039f"
             ],
             [
              0.2222222222222222,
              "#7201a8"
             ],
             [
              0.3333333333333333,
              "#9c179e"
             ],
             [
              0.4444444444444444,
              "#bd3786"
             ],
             [
              0.5555555555555556,
              "#d8576b"
             ],
             [
              0.6666666666666666,
              "#ed7953"
             ],
             [
              0.7777777777777778,
              "#fb9f3a"
             ],
             [
              0.8888888888888888,
              "#fdca26"
             ],
             [
              1,
              "#f0f921"
             ]
            ],
            "type": "histogram2dcontour"
           }
          ],
          "mesh3d": [
           {
            "colorbar": {
             "outlinewidth": 0,
             "ticks": ""
            },
            "type": "mesh3d"
           }
          ],
          "parcoords": [
           {
            "line": {
             "colorbar": {
              "outlinewidth": 0,
              "ticks": ""
             }
            },
            "type": "parcoords"
           }
          ],
          "pie": [
           {
            "automargin": true,
            "type": "pie"
           }
          ],
          "scatter": [
           {
            "fillpattern": {
             "fillmode": "overlay",
             "size": 10,
             "solidity": 0.2
            },
            "type": "scatter"
           }
          ],
          "scatter3d": [
           {
            "line": {
             "colorbar": {
              "outlinewidth": 0,
              "ticks": ""
             }
            },
            "marker": {
             "colorbar": {
              "outlinewidth": 0,
              "ticks": ""
             }
            },
            "type": "scatter3d"
           }
          ],
          "scattercarpet": [
           {
            "marker": {
             "colorbar": {
              "outlinewidth": 0,
              "ticks": ""
             }
            },
            "type": "scattercarpet"
           }
          ],
          "scattergeo": [
           {
            "marker": {
             "colorbar": {
              "outlinewidth": 0,
              "ticks": ""
             }
            },
            "type": "scattergeo"
           }
          ],
          "scattergl": [
           {
            "marker": {
             "colorbar": {
              "outlinewidth": 0,
              "ticks": ""
             }
            },
            "type": "scattergl"
           }
          ],
          "scattermapbox": [
           {
            "marker": {
             "colorbar": {
              "outlinewidth": 0,
              "ticks": ""
             }
            },
            "type": "scattermapbox"
           }
          ],
          "scatterpolar": [
           {
            "marker": {
             "colorbar": {
              "outlinewidth": 0,
              "ticks": ""
             }
            },
            "type": "scatterpolar"
           }
          ],
          "scatterpolargl": [
           {
            "marker": {
             "colorbar": {
              "outlinewidth": 0,
              "ticks": ""
             }
            },
            "type": "scatterpolargl"
           }
          ],
          "scatterternary": [
           {
            "marker": {
             "colorbar": {
              "outlinewidth": 0,
              "ticks": ""
             }
            },
            "type": "scatterternary"
           }
          ],
          "surface": [
           {
            "colorbar": {
             "outlinewidth": 0,
             "ticks": ""
            },
            "colorscale": [
             [
              0,
              "#0d0887"
             ],
             [
              0.1111111111111111,
              "#46039f"
             ],
             [
              0.2222222222222222,
              "#7201a8"
             ],
             [
              0.3333333333333333,
              "#9c179e"
             ],
             [
              0.4444444444444444,
              "#bd3786"
             ],
             [
              0.5555555555555556,
              "#d8576b"
             ],
             [
              0.6666666666666666,
              "#ed7953"
             ],
             [
              0.7777777777777778,
              "#fb9f3a"
             ],
             [
              0.8888888888888888,
              "#fdca26"
             ],
             [
              1,
              "#f0f921"
             ]
            ],
            "type": "surface"
           }
          ],
          "table": [
           {
            "cells": {
             "fill": {
              "color": "#EBF0F8"
             },
             "line": {
              "color": "white"
             }
            },
            "header": {
             "fill": {
              "color": "#C8D4E3"
             },
             "line": {
              "color": "white"
             }
            },
            "type": "table"
           }
          ]
         },
         "layout": {
          "annotationdefaults": {
           "arrowcolor": "#2a3f5f",
           "arrowhead": 0,
           "arrowwidth": 1
          },
          "autotypenumbers": "strict",
          "coloraxis": {
           "colorbar": {
            "outlinewidth": 0,
            "ticks": ""
           }
          },
          "colorscale": {
           "diverging": [
            [
             0,
             "#8e0152"
            ],
            [
             0.1,
             "#c51b7d"
            ],
            [
             0.2,
             "#de77ae"
            ],
            [
             0.3,
             "#f1b6da"
            ],
            [
             0.4,
             "#fde0ef"
            ],
            [
             0.5,
             "#f7f7f7"
            ],
            [
             0.6,
             "#e6f5d0"
            ],
            [
             0.7,
             "#b8e186"
            ],
            [
             0.8,
             "#7fbc41"
            ],
            [
             0.9,
             "#4d9221"
            ],
            [
             1,
             "#276419"
            ]
           ],
           "sequential": [
            [
             0,
             "#0d0887"
            ],
            [
             0.1111111111111111,
             "#46039f"
            ],
            [
             0.2222222222222222,
             "#7201a8"
            ],
            [
             0.3333333333333333,
             "#9c179e"
            ],
            [
             0.4444444444444444,
             "#bd3786"
            ],
            [
             0.5555555555555556,
             "#d8576b"
            ],
            [
             0.6666666666666666,
             "#ed7953"
            ],
            [
             0.7777777777777778,
             "#fb9f3a"
            ],
            [
             0.8888888888888888,
             "#fdca26"
            ],
            [
             1,
             "#f0f921"
            ]
           ],
           "sequentialminus": [
            [
             0,
             "#0d0887"
            ],
            [
             0.1111111111111111,
             "#46039f"
            ],
            [
             0.2222222222222222,
             "#7201a8"
            ],
            [
             0.3333333333333333,
             "#9c179e"
            ],
            [
             0.4444444444444444,
             "#bd3786"
            ],
            [
             0.5555555555555556,
             "#d8576b"
            ],
            [
             0.6666666666666666,
             "#ed7953"
            ],
            [
             0.7777777777777778,
             "#fb9f3a"
            ],
            [
             0.8888888888888888,
             "#fdca26"
            ],
            [
             1,
             "#f0f921"
            ]
           ]
          },
          "colorway": [
           "#636efa",
           "#EF553B",
           "#00cc96",
           "#ab63fa",
           "#FFA15A",
           "#19d3f3",
           "#FF6692",
           "#B6E880",
           "#FF97FF",
           "#FECB52"
          ],
          "font": {
           "color": "#2a3f5f"
          },
          "geo": {
           "bgcolor": "white",
           "lakecolor": "white",
           "landcolor": "#E5ECF6",
           "showlakes": true,
           "showland": true,
           "subunitcolor": "white"
          },
          "hoverlabel": {
           "align": "left"
          },
          "hovermode": "closest",
          "mapbox": {
           "style": "light"
          },
          "paper_bgcolor": "white",
          "plot_bgcolor": "#E5ECF6",
          "polar": {
           "angularaxis": {
            "gridcolor": "white",
            "linecolor": "white",
            "ticks": ""
           },
           "bgcolor": "#E5ECF6",
           "radialaxis": {
            "gridcolor": "white",
            "linecolor": "white",
            "ticks": ""
           }
          },
          "scene": {
           "xaxis": {
            "backgroundcolor": "#E5ECF6",
            "gridcolor": "white",
            "gridwidth": 2,
            "linecolor": "white",
            "showbackground": true,
            "ticks": "",
            "zerolinecolor": "white"
           },
           "yaxis": {
            "backgroundcolor": "#E5ECF6",
            "gridcolor": "white",
            "gridwidth": 2,
            "linecolor": "white",
            "showbackground": true,
            "ticks": "",
            "zerolinecolor": "white"
           },
           "zaxis": {
            "backgroundcolor": "#E5ECF6",
            "gridcolor": "white",
            "gridwidth": 2,
            "linecolor": "white",
            "showbackground": true,
            "ticks": "",
            "zerolinecolor": "white"
           }
          },
          "shapedefaults": {
           "line": {
            "color": "#2a3f5f"
           }
          },
          "ternary": {
           "aaxis": {
            "gridcolor": "white",
            "linecolor": "white",
            "ticks": ""
           },
           "baxis": {
            "gridcolor": "white",
            "linecolor": "white",
            "ticks": ""
           },
           "bgcolor": "#E5ECF6",
           "caxis": {
            "gridcolor": "white",
            "linecolor": "white",
            "ticks": ""
           }
          },
          "title": {
           "x": 0.05
          },
          "xaxis": {
           "automargin": true,
           "gridcolor": "white",
           "linecolor": "white",
           "ticks": "",
           "title": {
            "standoff": 15
           },
           "zerolinecolor": "white",
           "zerolinewidth": 2
          },
          "yaxis": {
           "automargin": true,
           "gridcolor": "white",
           "linecolor": "white",
           "ticks": "",
           "title": {
            "standoff": 15
           },
           "zerolinecolor": "white",
           "zerolinewidth": 2
          }
         }
        },
        "title": {
         "text": "Minutes timeline"
        },
        "xaxis": {
         "anchor": "y",
         "domain": [
          0,
          1
         ],
         "rangeslider": {
          "visible": true
         },
         "title": {
          "text": "Minutes"
         }
        },
        "yaxis": {
         "anchor": "x",
         "domain": [
          0,
          1
         ],
         "title": {
          "text": "Message count"
         }
        }
       }
      }
     },
     "metadata": {},
     "output_type": "display_data"
    }
   ],
   "source": [
    "import plotly.express as px\n",
    "\n",
    "bar_figures = {}\n",
    "\n",
    "for barplot_type in bar_type_dataframe.keys():\n",
    "\n",
    "    barplot_df = bar_type_dataframe[barplot_type]\n",
    "\n",
    "\n",
    "    if barplot_type == \"Weekdays\":\n",
    "\n",
    "        weeks_plot = []\n",
    "\n",
    "        for week_num in range(1,5):\n",
    "\n",
    "            fig = px.bar(barplot_df, x=\"x\", y=f\"y{week_num}\", text_auto='.2s',\n",
    "                        labels={\n",
    "                                \"x\": barplot_type,\n",
    "                                f\"y{week_num}\": \"Message count\",\n",
    "                                 },\n",
    "\n",
    "                        title=f\"{barplot_type} [week - {week_num}] timeline\", \n",
    "                      \n",
    "                        )\n",
    "    \n",
    "            weeks_plot.append(fig)\n",
    "            fig.show()\n",
    "\n",
    "        bar_figures[barplot_type] = weeks_plot\n",
    "             \n",
    "        continue          \n",
    "\n",
    "\n",
    "\n",
    "    fig = px.bar(barplot_df, x=\"x\", y=\"y\", text_auto='.2s',\n",
    "                labels={\n",
    "                        \"x\": barplot_type,\n",
    "                        \"y\": \"Message count\",\n",
    "                        \"username\": \"Users\"\n",
    "                    },\n",
    "\n",
    "                title=f\"{barplot_type} timeline\", \n",
    "                            \n",
    "                )\n",
    "\n",
    "    if barplot_type == \"Years\":\n",
    "        fig.update_layout( xaxis={\n",
    "            'range': [barplot_df['x'].min(), barplot_df['x'].max()], \n",
    "            'tickvals': [*range(int(barplot_df['x'].min()), int(barplot_df['x'].max()))]})         \n",
    "\n",
    "    if barplot_type in [\"Years\",\"Days\",\"Hours\",\"Minutes\"]:\n",
    "        fig.update_xaxes(rangeslider_visible=True)            \n",
    "\n",
    "    bar_figures[barplot_type] = fig\n",
    "\n",
    "    fig.show()\n",
    "\n"
   ]
  },
  {
   "cell_type": "code",
   "execution_count": 30,
   "metadata": {},
   "outputs": [],
   "source": [
    "stopwords = open('stop_hinglish.txt').read()   \n",
    "stopwords = stopwords.split('\\n')"
   ]
  },
  {
   "cell_type": "code",
   "execution_count": 31,
   "metadata": {},
   "outputs": [],
   "source": [
    "import string\n",
    "import re\n",
    " \n",
    "def clean_message(message):\n",
    "\n",
    "    message = message.strip()\n",
    "    lower_case = message.lower()\n",
    "    translation_table = str.maketrans('', '', string.punctuation+'0123456789\\t')\n",
    "    without_punctuations = lower_case.translate(translation_table)\n",
    "    removed_extra_blank_spaces = re.sub(' +', ' ',without_punctuations)\n",
    "\n",
    "    with_stopwords = removed_extra_blank_spaces.split(\" \")\n",
    "\n",
    "    without_stopwords = []\n",
    "\n",
    "    for word in with_stopwords:\n",
    "        if word not in stopwords:\n",
    "            without_stopwords.append(word)\n",
    "\n",
    "    cleaned_message = ' '.join(without_stopwords)\n",
    "    \n",
    "    return cleaned_message"
   ]
  },
  {
   "cell_type": "code",
   "execution_count": 32,
   "metadata": {},
   "outputs": [],
   "source": [
    "from collections import Counter \n",
    "\n",
    "def get_most_frequent_word(message,word_frequency_threshold = 3,word_length_threshold = 1):\n",
    "    \n",
    "    frequency = 0\n",
    "    words_list = message.split(\" \")\n",
    "    proper_length_word_list = [word for word in words_list if len(word)>word_length_threshold]\n",
    "\n",
    "    words_duplicates_count_dict = Counter(proper_length_word_list) \n",
    "    desc_order = sorted(words_duplicates_count_dict.items(), key=lambda x:x[1],reverse=True)\n",
    "\n",
    "    if len(desc_order)==0:\n",
    "        \n",
    "        return \"No specific discussion\",frequency\n",
    "        \n",
    "    highest_word_and_frequency = desc_order[0]\n",
    "    word,frequency = highest_word_and_frequency\n",
    "       \n",
    "    if words_duplicates_count_dict[word]>=word_frequency_threshold:\n",
    "        return word,frequency\n",
    "\n",
    "    return  \"No specific discussion\",frequency       "
   ]
  },
  {
   "cell_type": "code",
   "execution_count": 33,
   "metadata": {},
   "outputs": [],
   "source": [
    "def year_wise_most_frequent_word(chat_details,start_year,end_year):\n",
    "    \n",
    "    start_date = datetime(start_year,1,1)\n",
    "    end_date = datetime(end_year,1,1)\n",
    "\n",
    "    delta = relativedelta(years=1)\n",
    "\n",
    "    years = []\n",
    "    most_frequent_words = []\n",
    "    frequencies = []\n",
    "\n",
    "    while start_date <= end_date:\n",
    "        years.append(start_date.year)\n",
    "        start_date += delta\n",
    "\n",
    "    user_activity = [\"no specific discussion\" for count in range(len(years))] \n",
    "   \n",
    "    for year in years:\n",
    "        activity_year = chat_details[chat_details.Year == year]\n",
    "        message = ' '.join(list(activity_year.message.values))\n",
    "        cleaned_message = clean_message(message)\n",
    "        most_frequent_word,frequency = get_most_frequent_word(cleaned_message,\n",
    "                        word_frequency_threshold = 1,word_length_threshold = 2)\n",
    "                        \n",
    "        most_frequent_words.append(most_frequent_word)\n",
    "        frequencies.append(frequency)\n",
    "\n",
    "            \n",
    "    return years,most_frequent_words,frequencies"
   ]
  },
  {
   "cell_type": "code",
   "execution_count": 34,
   "metadata": {},
   "outputs": [],
   "source": [
    "def months_wise_most_frequent_word(chat_details,year,start_month,end_month):\n",
    "    \n",
    "    start_date = datetime(year,start_month,1)\n",
    "    end_date = datetime(year,end_month,1)\n",
    "\n",
    "    delta = relativedelta(months=1)\n",
    "\n",
    "    months = []\n",
    "    most_frequent_words = []\n",
    "    frequencies = []\n",
    "\n",
    "    while start_date <= end_date:\n",
    "        months.append(start_date.month)\n",
    "        start_date += delta\n",
    "\n",
    "    user_activity = [\"no specific discussion\" for count in range(len(months))] \n",
    "    \n",
    "\n",
    "\n",
    "    for month in months:\n",
    "        activity_month = chat_details[chat_details.Month == month]\n",
    "        message = ' '.join(list(activity_month.message.values))\n",
    "        cleaned_message = clean_message(message)\n",
    "        most_frequent_word,frequency = get_most_frequent_word(cleaned_message,\n",
    "                        word_frequency_threshold = 1,word_length_threshold = 2)\n",
    "        most_frequent_words.append(most_frequent_word)\n",
    "        frequencies.append(frequency)\n",
    "    \n",
    "    #provide month number\n",
    "    month_names = []\n",
    "    \n",
    "    for month_number in months:\n",
    "        datetime_object = datetime.strptime(str(month_number), \"%m\")\n",
    "        full_month_name = datetime_object.strftime(\"%B\")\n",
    "        month_names.append(full_month_name)\n",
    "\n",
    "\n",
    "    return month_names,most_frequent_words,frequencies\n"
   ]
  },
  {
   "cell_type": "code",
   "execution_count": 35,
   "metadata": {},
   "outputs": [],
   "source": [
    "def days_wise_most_frequent_word(chat_details,start_year,start_month,start_day,end_year,end_month,end_day):\n",
    "\n",
    "    start_date = date(start_year,start_month,start_day)\n",
    "    end_date = date(end_year,end_month,end_day)\n",
    "\n",
    "    delta = relativedelta(days=1)\n",
    "\n",
    "    dates = []\n",
    "    most_frequent_words = []\n",
    "    frequencies = []\n",
    "\n",
    "    current_date = start_date\n",
    "\n",
    "    while current_date <= end_date:\n",
    "        dates.append(current_date)\n",
    "        current_date += delta\n",
    "\n",
    "    user_activity = [\"no specific discussion\" for count in range(len(dates))] \n",
    "    \n",
    "    for current_date in dates:\n",
    "        activity_day = chat_details[chat_details.only_date == current_date]\n",
    "        message = ' '.join(list(activity_day.message.values))\n",
    "        cleaned_message = clean_message(message)\n",
    "        most_frequent_word,frequency = get_most_frequent_word(cleaned_message,\n",
    "                    word_frequency_threshold = 5,word_length_threshold = 2)\n",
    "                    \n",
    "        most_frequent_words.append(most_frequent_word)\n",
    "        frequencies.append(frequency)\n",
    "\n",
    "           \n",
    "         \n",
    "    return dates,most_frequent_words,frequencies      \n",
    "\n"
   ]
  },
  {
   "cell_type": "code",
   "execution_count": 36,
   "metadata": {},
   "outputs": [],
   "source": [
    "def weekday_wise_most_frequent_word(chat_details,year,month):\n",
    "    _,w1_most_frequent_words,w1_frequencies = days_wise_most_frequent_word(chat_details,year,month,1,year,month,7)\n",
    "    _,w2_most_frequent_words,w2_frequencies = days_wise_most_frequent_word(chat_details,year,month,8,year,month,14)\n",
    "    _,w3_most_frequent_words,w3_frequencies = days_wise_most_frequent_word(chat_details,year,month,15,year,month,21)\n",
    "    weekdates,w4_most_frequent_words,w4_frequencies = days_wise_most_frequent_word(chat_details,\n",
    "                                                        year,month,22,year,month,28)\n",
    "\n",
    "    weekdays_names = []\n",
    "    frequencies = [w1_frequencies,w2_frequencies,w3_frequencies,w4_frequencies]\n",
    "    weekwday_most_frequent_words = [w1_most_frequent_words,w2_most_frequent_words,w3_most_frequent_words,w4_most_frequent_words]    \n",
    "\n",
    "\n",
    "    for date in weekdates:\n",
    "        day_name = calendar.day_name[date.weekday()]\n",
    "        weekdays_names.append(day_name)\n",
    "        \n",
    "\n",
    "    return  weekdays_names,weekwday_most_frequent_words,frequencies"
   ]
  },
  {
   "cell_type": "code",
   "execution_count": 37,
   "metadata": {},
   "outputs": [],
   "source": [
    "def hours_wise_most_frequent_word(chat_details,year,month,start_day,end_day,start_hour,end_hour):\n",
    "    \n",
    "    start_dateHours = datetime(year,month,start_day,start_hour,0,0)\n",
    "    end_dateHours = datetime(year, month,end_day,end_hour,0,0)\n",
    "\n",
    "    delta = timedelta(hours=1)\n",
    "\n",
    "    dateHours = []\n",
    "    most_frequent_words = []\n",
    "    frequencies = []\n",
    "\n",
    "    current_dateHours = start_dateHours\n",
    "\n",
    "    while current_dateHours <= end_dateHours:\n",
    "        dateHours.append(current_dateHours)\n",
    "        current_dateHours += delta\n",
    "\n",
    "    user_activity = [\"no specific discussion\" for count in range(len(dateHours))] \n",
    "    \n",
    "    start = range(len(dateHours)-1)\n",
    "    end = range(1,len(dateHours))\n",
    "    \n",
    "    for start_idx,end_idx in zip(start,end):\n",
    "        \n",
    "        start_Hour = dateHours[start_idx]\n",
    "        end_Hour = dateHours[end_idx]\n",
    "\n",
    "        activity_Hour = chat_details[(chat_details.datetime24>=start_Hour)&\n",
    "                                    (chat_details.datetime24<=end_Hour)]\n",
    "\n",
    "        message = ' '.join(list(activity_Hour.message.values))\n",
    "        cleaned_message = clean_message(message)\n",
    "\n",
    "        most_frequent_word,frequency = get_most_frequent_word(cleaned_message,\n",
    "                    word_frequency_threshold = 1,word_length_threshold = 2)\n",
    "                    \n",
    "        most_frequent_words.append(most_frequent_word)                                    \n",
    "        frequencies.append(frequency)\n",
    "\n",
    "    return dateHours[:-1],most_frequent_words,frequencies"
   ]
  },
  {
   "cell_type": "code",
   "execution_count": 38,
   "metadata": {},
   "outputs": [],
   "source": [
    "def minutes_wise_most_frequent_word(chat_details,year,month,day,start_hour,start_minutes,end_hour,end_minutes):\n",
    "    \n",
    "    start_dateHoursMinutes = datetime(year,month,day,start_hour,start_minutes,0)\n",
    "    end_dateHoursMinutes = datetime(year, month,day,end_hour,end_minutes,0)\n",
    "\n",
    "    delta = timedelta(minutes=1)\n",
    "\n",
    "    dateHoursMinutes = []\n",
    "    most_frequent_words = []\n",
    "    frequencies = []\n",
    "\n",
    "    current_dateHoursMinutes = start_dateHoursMinutes\n",
    "\n",
    "    while current_dateHoursMinutes <= end_dateHoursMinutes:\n",
    "        dateHoursMinutes.append(current_dateHoursMinutes)\n",
    "        current_dateHoursMinutes += delta\n",
    "\n",
    "    user_activity = [\"no specific discussion\" for count in range(len(dateHoursMinutes))] \n",
    "    \n",
    "    start = range(len(dateHoursMinutes)-1)\n",
    "    end = range(1,len(dateHoursMinutes))\n",
    "\n",
    "    for start_idx,end_idx in zip(start,end):\n",
    "        \n",
    "        start_Minute = dateHoursMinutes[start_idx]\n",
    "        end_Minute = dateHoursMinutes[end_idx]\n",
    "\n",
    "        activity_Minute = chat_details[(chat_details.datetime24>=start_Minute)&\n",
    "                                    (chat_details.datetime24<=end_Minute)]\n",
    "\n",
    "        message = ' '.join(list(activity_Minute.message.values))\n",
    "        cleaned_message = clean_message(message)\n",
    "        \n",
    "        most_frequent_word,frequency = get_most_frequent_word(cleaned_message,\n",
    "                        word_frequency_threshold = 1,word_length_threshold = 1)\n",
    "\n",
    "        most_frequent_words.append(most_frequent_word) \n",
    "        frequencies.append(frequency)  \n",
    "\n",
    "    return dateHoursMinutes[:-1],most_frequent_words,frequencies\n"
   ]
  },
  {
   "cell_type": "code",
   "execution_count": 39,
   "metadata": {},
   "outputs": [],
   "source": [
    "chat_details = without_notifications.copy()\n",
    "\n",
    "years,years_words,years_frequency = year_wise_most_frequent_word(chat_details,\n",
    "                        start_year = 2020,end_year = 2025)\n",
    "                        \n",
    "months,months_words,months_frequency = months_wise_most_frequent_word(chat_details,\n",
    "                        year = 2023,start_month = 8,end_month = 10)\n",
    "                        \n",
    "weeks,weeks_words,weeks_frequency = weekday_wise_most_frequent_word(chat_details,\n",
    "                        year = 2023,month = 8)\n",
    "                        \n",
    "days,days_words,days_frequency = days_wise_most_frequent_word(chat_details,\n",
    "                        start_year = 2023,start_month = 8,start_day = 3,end_year = 2023,end_month = 8,end_day = 25)\n",
    "                        \n",
    "hours,hours_words,hours_frequency = hours_wise_most_frequent_word(chat_details,\n",
    "                        year = 2023,month = 8,start_day = 22,end_day = 22,start_hour = 10,end_hour = 15)\n",
    "                        \n",
    "minutes,minutes_words,minutes_frequency = minutes_wise_most_frequent_word(chat_details,\n",
    "                        year = 2023,month = 8,day = 22,start_hour = 10,start_minutes = 0,end_hour = 15,end_minutes = 50)\n",
    "                        "
   ]
  },
  {
   "cell_type": "code",
   "execution_count": 40,
   "metadata": {},
   "outputs": [],
   "source": [
    "frequency_bar_plot_names = [\"Years\",\"Months\",\"Weekdays\",\"Days\",\"Hours\",\"Minutes\"]\n",
    "\n",
    "frequency_plotting_details = {}\n",
    "\n",
    "for frequency_type in frequency_bar_plot_names:\n",
    "    \n",
    "    frequency_plotting_details[frequency_type] = {\"x\":\"\",\"Discussion\":\"\",\"y\":\"\"}\n",
    "\n",
    "    if frequency_type == \"Weekdays\":\n",
    "        \n",
    "        frequency_plotting_details[frequency_type] = {\"x\":\"\",\"Discussion week 1\":\"\", \"Discussion week 2\":\"\", \"Discussion week 3\":\"\", \"Discussion week 4\":\"\",\n",
    "                                                    \"y1\":\"\",\"y2\":\"\",\"y3\":\"\",\"y4\":\"\"}\n",
    "\n"
   ]
  },
  {
   "cell_type": "code",
   "execution_count": 41,
   "metadata": {},
   "outputs": [],
   "source": [
    "frequency_plotting_details[\"Years\"][\"x\"] = years\n",
    "frequency_plotting_details[\"Years\"][\"Discussion\"] = years_words\n",
    "frequency_plotting_details[\"Years\"][\"y\"] = years_frequency\n",
    "\n",
    "frequency_plotting_details[\"Months\"][\"x\"] = months\n",
    "frequency_plotting_details[\"Months\"][\"Discussion\"] = months_words\n",
    "frequency_plotting_details[\"Months\"][\"y\"] = months_frequency\n",
    "\n",
    "frequency_plotting_details[\"Weekdays\"][\"x\"] = weeks\n",
    "frequency_plotting_details[\"Weekdays\"][\"Discussion week 1\"] = weeks_words[0]\n",
    "frequency_plotting_details[\"Weekdays\"][\"Discussion week 2\"] = weeks_words[1]\n",
    "frequency_plotting_details[\"Weekdays\"][\"Discussion week 3\"] = weeks_words[2]\n",
    "frequency_plotting_details[\"Weekdays\"][\"Discussion week 4\"] = weeks_words[3]\n",
    "frequency_plotting_details[\"Weekdays\"][\"y1\"] = weeks_frequency[0]\n",
    "frequency_plotting_details[\"Weekdays\"][\"y2\"] = weeks_frequency[1]\n",
    "frequency_plotting_details[\"Weekdays\"][\"y3\"] = weeks_frequency[2]\n",
    "frequency_plotting_details[\"Weekdays\"][\"y4\"] = weeks_frequency[3]\n",
    "\n",
    "frequency_plotting_details[\"Days\"][\"x\"] = days\n",
    "frequency_plotting_details[\"Days\"][\"Discussion\"] = days_words\n",
    "frequency_plotting_details[\"Days\"][\"y\"] = days_frequency\n",
    "\n",
    "frequency_plotting_details[\"Hours\"][\"x\"] = hours\n",
    "frequency_plotting_details[\"Hours\"][\"Discussion\"] = hours_words\n",
    "frequency_plotting_details[\"Hours\"][\"y\"] = hours_frequency\n",
    "\n",
    "frequency_plotting_details[\"Minutes\"][\"x\"] = minutes\n",
    "frequency_plotting_details[\"Minutes\"][\"Discussion\"] = minutes_words\n",
    "frequency_plotting_details[\"Minutes\"][\"y\"] = minutes_frequency\n"
   ]
  },
  {
   "cell_type": "code",
   "execution_count": 42,
   "metadata": {},
   "outputs": [],
   "source": [
    "frequency_bar_plot_names = [\"Years\",\"Months\",\"Weekdays\",\"Days\",\"Hours\",\"Minutes\"]\n",
    "frequency_bar_type_dataframe = {frequency_type : \"\" for frequency_type in frequency_bar_plot_names }"
   ]
  },
  {
   "cell_type": "code",
   "execution_count": 43,
   "metadata": {},
   "outputs": [],
   "source": [
    "for frequency_type,data in frequency_plotting_details.items():\n",
    "\n",
    "    frequency_bar_type_dataframe[frequency_type] = pd.DataFrame(data)\n"
   ]
  },
  {
   "cell_type": "code",
   "execution_count": 44,
   "metadata": {},
   "outputs": [
    {
     "data": {
      "application/vnd.plotly.v1+json": {
       "config": {
        "plotlyServerURL": "https://plot.ly"
       },
       "data": [
        {
         "alignmentgroup": "True",
         "customdata": [
          [
           "No specific discussion"
          ],
          [
           "No specific discussion"
          ],
          [
           "No specific discussion"
          ],
          [
           "students"
          ],
          [
           "No specific discussion"
          ],
          [
           "No specific discussion"
          ]
         ],
         "hovertemplate": "Years=%{x}<br>Message count=%{y}<br>Discussion=%{customdata[0]}<extra></extra>",
         "legendgroup": "",
         "marker": {
          "color": "yellow",
          "line": {
           "width": 2
          },
          "pattern": {
           "shape": ""
          }
         },
         "name": "",
         "offsetgroup": "",
         "opacity": 1,
         "orientation": "v",
         "showlegend": false,
         "text": [
          "No specific discussion",
          "No specific discussion",
          "No specific discussion",
          "students",
          "No specific discussion",
          "No specific discussion"
         ],
         "textposition": "auto",
         "type": "bar",
         "x": [
          2020,
          2021,
          2022,
          2023,
          2024,
          2025
         ],
         "xaxis": "x",
         "y": [
          0,
          0,
          0,
          494,
          0,
          0
         ],
         "yaxis": "y"
        }
       ],
       "layout": {
        "barmode": "relative",
        "legend": {
         "tracegroupgap": 0
        },
        "template": {
         "data": {
          "bar": [
           {
            "error_x": {
             "color": "#2a3f5f"
            },
            "error_y": {
             "color": "#2a3f5f"
            },
            "marker": {
             "line": {
              "color": "#E5ECF6",
              "width": 0.5
             },
             "pattern": {
              "fillmode": "overlay",
              "size": 10,
              "solidity": 0.2
             }
            },
            "type": "bar"
           }
          ],
          "barpolar": [
           {
            "marker": {
             "line": {
              "color": "#E5ECF6",
              "width": 0.5
             },
             "pattern": {
              "fillmode": "overlay",
              "size": 10,
              "solidity": 0.2
             }
            },
            "type": "barpolar"
           }
          ],
          "carpet": [
           {
            "aaxis": {
             "endlinecolor": "#2a3f5f",
             "gridcolor": "white",
             "linecolor": "white",
             "minorgridcolor": "white",
             "startlinecolor": "#2a3f5f"
            },
            "baxis": {
             "endlinecolor": "#2a3f5f",
             "gridcolor": "white",
             "linecolor": "white",
             "minorgridcolor": "white",
             "startlinecolor": "#2a3f5f"
            },
            "type": "carpet"
           }
          ],
          "choropleth": [
           {
            "colorbar": {
             "outlinewidth": 0,
             "ticks": ""
            },
            "type": "choropleth"
           }
          ],
          "contour": [
           {
            "colorbar": {
             "outlinewidth": 0,
             "ticks": ""
            },
            "colorscale": [
             [
              0,
              "#0d0887"
             ],
             [
              0.1111111111111111,
              "#46039f"
             ],
             [
              0.2222222222222222,
              "#7201a8"
             ],
             [
              0.3333333333333333,
              "#9c179e"
             ],
             [
              0.4444444444444444,
              "#bd3786"
             ],
             [
              0.5555555555555556,
              "#d8576b"
             ],
             [
              0.6666666666666666,
              "#ed7953"
             ],
             [
              0.7777777777777778,
              "#fb9f3a"
             ],
             [
              0.8888888888888888,
              "#fdca26"
             ],
             [
              1,
              "#f0f921"
             ]
            ],
            "type": "contour"
           }
          ],
          "contourcarpet": [
           {
            "colorbar": {
             "outlinewidth": 0,
             "ticks": ""
            },
            "type": "contourcarpet"
           }
          ],
          "heatmap": [
           {
            "colorbar": {
             "outlinewidth": 0,
             "ticks": ""
            },
            "colorscale": [
             [
              0,
              "#0d0887"
             ],
             [
              0.1111111111111111,
              "#46039f"
             ],
             [
              0.2222222222222222,
              "#7201a8"
             ],
             [
              0.3333333333333333,
              "#9c179e"
             ],
             [
              0.4444444444444444,
              "#bd3786"
             ],
             [
              0.5555555555555556,
              "#d8576b"
             ],
             [
              0.6666666666666666,
              "#ed7953"
             ],
             [
              0.7777777777777778,
              "#fb9f3a"
             ],
             [
              0.8888888888888888,
              "#fdca26"
             ],
             [
              1,
              "#f0f921"
             ]
            ],
            "type": "heatmap"
           }
          ],
          "heatmapgl": [
           {
            "colorbar": {
             "outlinewidth": 0,
             "ticks": ""
            },
            "colorscale": [
             [
              0,
              "#0d0887"
             ],
             [
              0.1111111111111111,
              "#46039f"
             ],
             [
              0.2222222222222222,
              "#7201a8"
             ],
             [
              0.3333333333333333,
              "#9c179e"
             ],
             [
              0.4444444444444444,
              "#bd3786"
             ],
             [
              0.5555555555555556,
              "#d8576b"
             ],
             [
              0.6666666666666666,
              "#ed7953"
             ],
             [
              0.7777777777777778,
              "#fb9f3a"
             ],
             [
              0.8888888888888888,
              "#fdca26"
             ],
             [
              1,
              "#f0f921"
             ]
            ],
            "type": "heatmapgl"
           }
          ],
          "histogram": [
           {
            "marker": {
             "pattern": {
              "fillmode": "overlay",
              "size": 10,
              "solidity": 0.2
             }
            },
            "type": "histogram"
           }
          ],
          "histogram2d": [
           {
            "colorbar": {
             "outlinewidth": 0,
             "ticks": ""
            },
            "colorscale": [
             [
              0,
              "#0d0887"
             ],
             [
              0.1111111111111111,
              "#46039f"
             ],
             [
              0.2222222222222222,
              "#7201a8"
             ],
             [
              0.3333333333333333,
              "#9c179e"
             ],
             [
              0.4444444444444444,
              "#bd3786"
             ],
             [
              0.5555555555555556,
              "#d8576b"
             ],
             [
              0.6666666666666666,
              "#ed7953"
             ],
             [
              0.7777777777777778,
              "#fb9f3a"
             ],
             [
              0.8888888888888888,
              "#fdca26"
             ],
             [
              1,
              "#f0f921"
             ]
            ],
            "type": "histogram2d"
           }
          ],
          "histogram2dcontour": [
           {
            "colorbar": {
             "outlinewidth": 0,
             "ticks": ""
            },
            "colorscale": [
             [
              0,
              "#0d0887"
             ],
             [
              0.1111111111111111,
              "#46039f"
             ],
             [
              0.2222222222222222,
              "#7201a8"
             ],
             [
              0.3333333333333333,
              "#9c179e"
             ],
             [
              0.4444444444444444,
              "#bd3786"
             ],
             [
              0.5555555555555556,
              "#d8576b"
             ],
             [
              0.6666666666666666,
              "#ed7953"
             ],
             [
              0.7777777777777778,
              "#fb9f3a"
             ],
             [
              0.8888888888888888,
              "#fdca26"
             ],
             [
              1,
              "#f0f921"
             ]
            ],
            "type": "histogram2dcontour"
           }
          ],
          "mesh3d": [
           {
            "colorbar": {
             "outlinewidth": 0,
             "ticks": ""
            },
            "type": "mesh3d"
           }
          ],
          "parcoords": [
           {
            "line": {
             "colorbar": {
              "outlinewidth": 0,
              "ticks": ""
             }
            },
            "type": "parcoords"
           }
          ],
          "pie": [
           {
            "automargin": true,
            "type": "pie"
           }
          ],
          "scatter": [
           {
            "fillpattern": {
             "fillmode": "overlay",
             "size": 10,
             "solidity": 0.2
            },
            "type": "scatter"
           }
          ],
          "scatter3d": [
           {
            "line": {
             "colorbar": {
              "outlinewidth": 0,
              "ticks": ""
             }
            },
            "marker": {
             "colorbar": {
              "outlinewidth": 0,
              "ticks": ""
             }
            },
            "type": "scatter3d"
           }
          ],
          "scattercarpet": [
           {
            "marker": {
             "colorbar": {
              "outlinewidth": 0,
              "ticks": ""
             }
            },
            "type": "scattercarpet"
           }
          ],
          "scattergeo": [
           {
            "marker": {
             "colorbar": {
              "outlinewidth": 0,
              "ticks": ""
             }
            },
            "type": "scattergeo"
           }
          ],
          "scattergl": [
           {
            "marker": {
             "colorbar": {
              "outlinewidth": 0,
              "ticks": ""
             }
            },
            "type": "scattergl"
           }
          ],
          "scattermapbox": [
           {
            "marker": {
             "colorbar": {
              "outlinewidth": 0,
              "ticks": ""
             }
            },
            "type": "scattermapbox"
           }
          ],
          "scatterpolar": [
           {
            "marker": {
             "colorbar": {
              "outlinewidth": 0,
              "ticks": ""
             }
            },
            "type": "scatterpolar"
           }
          ],
          "scatterpolargl": [
           {
            "marker": {
             "colorbar": {
              "outlinewidth": 0,
              "ticks": ""
             }
            },
            "type": "scatterpolargl"
           }
          ],
          "scatterternary": [
           {
            "marker": {
             "colorbar": {
              "outlinewidth": 0,
              "ticks": ""
             }
            },
            "type": "scatterternary"
           }
          ],
          "surface": [
           {
            "colorbar": {
             "outlinewidth": 0,
             "ticks": ""
            },
            "colorscale": [
             [
              0,
              "#0d0887"
             ],
             [
              0.1111111111111111,
              "#46039f"
             ],
             [
              0.2222222222222222,
              "#7201a8"
             ],
             [
              0.3333333333333333,
              "#9c179e"
             ],
             [
              0.4444444444444444,
              "#bd3786"
             ],
             [
              0.5555555555555556,
              "#d8576b"
             ],
             [
              0.6666666666666666,
              "#ed7953"
             ],
             [
              0.7777777777777778,
              "#fb9f3a"
             ],
             [
              0.8888888888888888,
              "#fdca26"
             ],
             [
              1,
              "#f0f921"
             ]
            ],
            "type": "surface"
           }
          ],
          "table": [
           {
            "cells": {
             "fill": {
              "color": "#EBF0F8"
             },
             "line": {
              "color": "white"
             }
            },
            "header": {
             "fill": {
              "color": "#C8D4E3"
             },
             "line": {
              "color": "white"
             }
            },
            "type": "table"
           }
          ]
         },
         "layout": {
          "annotationdefaults": {
           "arrowcolor": "#2a3f5f",
           "arrowhead": 0,
           "arrowwidth": 1
          },
          "autotypenumbers": "strict",
          "coloraxis": {
           "colorbar": {
            "outlinewidth": 0,
            "ticks": ""
           }
          },
          "colorscale": {
           "diverging": [
            [
             0,
             "#8e0152"
            ],
            [
             0.1,
             "#c51b7d"
            ],
            [
             0.2,
             "#de77ae"
            ],
            [
             0.3,
             "#f1b6da"
            ],
            [
             0.4,
             "#fde0ef"
            ],
            [
             0.5,
             "#f7f7f7"
            ],
            [
             0.6,
             "#e6f5d0"
            ],
            [
             0.7,
             "#b8e186"
            ],
            [
             0.8,
             "#7fbc41"
            ],
            [
             0.9,
             "#4d9221"
            ],
            [
             1,
             "#276419"
            ]
           ],
           "sequential": [
            [
             0,
             "#0d0887"
            ],
            [
             0.1111111111111111,
             "#46039f"
            ],
            [
             0.2222222222222222,
             "#7201a8"
            ],
            [
             0.3333333333333333,
             "#9c179e"
            ],
            [
             0.4444444444444444,
             "#bd3786"
            ],
            [
             0.5555555555555556,
             "#d8576b"
            ],
            [
             0.6666666666666666,
             "#ed7953"
            ],
            [
             0.7777777777777778,
             "#fb9f3a"
            ],
            [
             0.8888888888888888,
             "#fdca26"
            ],
            [
             1,
             "#f0f921"
            ]
           ],
           "sequentialminus": [
            [
             0,
             "#0d0887"
            ],
            [
             0.1111111111111111,
             "#46039f"
            ],
            [
             0.2222222222222222,
             "#7201a8"
            ],
            [
             0.3333333333333333,
             "#9c179e"
            ],
            [
             0.4444444444444444,
             "#bd3786"
            ],
            [
             0.5555555555555556,
             "#d8576b"
            ],
            [
             0.6666666666666666,
             "#ed7953"
            ],
            [
             0.7777777777777778,
             "#fb9f3a"
            ],
            [
             0.8888888888888888,
             "#fdca26"
            ],
            [
             1,
             "#f0f921"
            ]
           ]
          },
          "colorway": [
           "#636efa",
           "#EF553B",
           "#00cc96",
           "#ab63fa",
           "#FFA15A",
           "#19d3f3",
           "#FF6692",
           "#B6E880",
           "#FF97FF",
           "#FECB52"
          ],
          "font": {
           "color": "#2a3f5f"
          },
          "geo": {
           "bgcolor": "white",
           "lakecolor": "white",
           "landcolor": "#E5ECF6",
           "showlakes": true,
           "showland": true,
           "subunitcolor": "white"
          },
          "hoverlabel": {
           "align": "left"
          },
          "hovermode": "closest",
          "mapbox": {
           "style": "light"
          },
          "paper_bgcolor": "white",
          "plot_bgcolor": "#E5ECF6",
          "polar": {
           "angularaxis": {
            "gridcolor": "white",
            "linecolor": "white",
            "ticks": ""
           },
           "bgcolor": "#E5ECF6",
           "radialaxis": {
            "gridcolor": "white",
            "linecolor": "white",
            "ticks": ""
           }
          },
          "scene": {
           "xaxis": {
            "backgroundcolor": "#E5ECF6",
            "gridcolor": "white",
            "gridwidth": 2,
            "linecolor": "white",
            "showbackground": true,
            "ticks": "",
            "zerolinecolor": "white"
           },
           "yaxis": {
            "backgroundcolor": "#E5ECF6",
            "gridcolor": "white",
            "gridwidth": 2,
            "linecolor": "white",
            "showbackground": true,
            "ticks": "",
            "zerolinecolor": "white"
           },
           "zaxis": {
            "backgroundcolor": "#E5ECF6",
            "gridcolor": "white",
            "gridwidth": 2,
            "linecolor": "white",
            "showbackground": true,
            "ticks": "",
            "zerolinecolor": "white"
           }
          },
          "shapedefaults": {
           "line": {
            "color": "#2a3f5f"
           }
          },
          "ternary": {
           "aaxis": {
            "gridcolor": "white",
            "linecolor": "white",
            "ticks": ""
           },
           "baxis": {
            "gridcolor": "white",
            "linecolor": "white",
            "ticks": ""
           },
           "bgcolor": "#E5ECF6",
           "caxis": {
            "gridcolor": "white",
            "linecolor": "white",
            "ticks": ""
           }
          },
          "title": {
           "x": 0.05
          },
          "xaxis": {
           "automargin": true,
           "gridcolor": "white",
           "linecolor": "white",
           "ticks": "",
           "title": {
            "standoff": 15
           },
           "zerolinecolor": "white",
           "zerolinewidth": 2
          },
          "yaxis": {
           "automargin": true,
           "gridcolor": "white",
           "linecolor": "white",
           "ticks": "",
           "title": {
            "standoff": 15
           },
           "zerolinecolor": "white",
           "zerolinewidth": 2
          }
         }
        },
        "title": {
         "text": "Years timeline"
        },
        "xaxis": {
         "anchor": "y",
         "domain": [
          0,
          1
         ],
         "range": [
          2020,
          2025
         ],
         "rangeslider": {
          "visible": true
         },
         "tickvals": [
          2020,
          2021,
          2022,
          2023,
          2024
         ],
         "title": {
          "text": "Years"
         }
        },
        "yaxis": {
         "anchor": "x",
         "domain": [
          0,
          1
         ],
         "title": {
          "text": "Message count"
         }
        }
       }
      }
     },
     "metadata": {},
     "output_type": "display_data"
    },
    {
     "data": {
      "application/vnd.plotly.v1+json": {
       "config": {
        "plotlyServerURL": "https://plot.ly"
       },
       "data": [
        {
         "alignmentgroup": "True",
         "customdata": [
          [
           "students"
          ],
          [
           "students"
          ],
          [
           "students"
          ]
         ],
         "hovertemplate": "Months=%{x}<br>Message count=%{y}<br>Discussion=%{customdata[0]}<extra></extra>",
         "legendgroup": "",
         "marker": {
          "color": "yellow",
          "line": {
           "width": 2
          },
          "pattern": {
           "shape": ""
          }
         },
         "name": "",
         "offsetgroup": "",
         "opacity": 1,
         "orientation": "v",
         "showlegend": false,
         "text": [
          "students",
          "students",
          "students"
         ],
         "textposition": "auto",
         "type": "bar",
         "x": [
          "August",
          "September",
          "October"
         ],
         "xaxis": "x",
         "y": [
          129,
          129,
          106
         ],
         "yaxis": "y"
        }
       ],
       "layout": {
        "barmode": "relative",
        "legend": {
         "tracegroupgap": 0
        },
        "template": {
         "data": {
          "bar": [
           {
            "error_x": {
             "color": "#2a3f5f"
            },
            "error_y": {
             "color": "#2a3f5f"
            },
            "marker": {
             "line": {
              "color": "#E5ECF6",
              "width": 0.5
             },
             "pattern": {
              "fillmode": "overlay",
              "size": 10,
              "solidity": 0.2
             }
            },
            "type": "bar"
           }
          ],
          "barpolar": [
           {
            "marker": {
             "line": {
              "color": "#E5ECF6",
              "width": 0.5
             },
             "pattern": {
              "fillmode": "overlay",
              "size": 10,
              "solidity": 0.2
             }
            },
            "type": "barpolar"
           }
          ],
          "carpet": [
           {
            "aaxis": {
             "endlinecolor": "#2a3f5f",
             "gridcolor": "white",
             "linecolor": "white",
             "minorgridcolor": "white",
             "startlinecolor": "#2a3f5f"
            },
            "baxis": {
             "endlinecolor": "#2a3f5f",
             "gridcolor": "white",
             "linecolor": "white",
             "minorgridcolor": "white",
             "startlinecolor": "#2a3f5f"
            },
            "type": "carpet"
           }
          ],
          "choropleth": [
           {
            "colorbar": {
             "outlinewidth": 0,
             "ticks": ""
            },
            "type": "choropleth"
           }
          ],
          "contour": [
           {
            "colorbar": {
             "outlinewidth": 0,
             "ticks": ""
            },
            "colorscale": [
             [
              0,
              "#0d0887"
             ],
             [
              0.1111111111111111,
              "#46039f"
             ],
             [
              0.2222222222222222,
              "#7201a8"
             ],
             [
              0.3333333333333333,
              "#9c179e"
             ],
             [
              0.4444444444444444,
              "#bd3786"
             ],
             [
              0.5555555555555556,
              "#d8576b"
             ],
             [
              0.6666666666666666,
              "#ed7953"
             ],
             [
              0.7777777777777778,
              "#fb9f3a"
             ],
             [
              0.8888888888888888,
              "#fdca26"
             ],
             [
              1,
              "#f0f921"
             ]
            ],
            "type": "contour"
           }
          ],
          "contourcarpet": [
           {
            "colorbar": {
             "outlinewidth": 0,
             "ticks": ""
            },
            "type": "contourcarpet"
           }
          ],
          "heatmap": [
           {
            "colorbar": {
             "outlinewidth": 0,
             "ticks": ""
            },
            "colorscale": [
             [
              0,
              "#0d0887"
             ],
             [
              0.1111111111111111,
              "#46039f"
             ],
             [
              0.2222222222222222,
              "#7201a8"
             ],
             [
              0.3333333333333333,
              "#9c179e"
             ],
             [
              0.4444444444444444,
              "#bd3786"
             ],
             [
              0.5555555555555556,
              "#d8576b"
             ],
             [
              0.6666666666666666,
              "#ed7953"
             ],
             [
              0.7777777777777778,
              "#fb9f3a"
             ],
             [
              0.8888888888888888,
              "#fdca26"
             ],
             [
              1,
              "#f0f921"
             ]
            ],
            "type": "heatmap"
           }
          ],
          "heatmapgl": [
           {
            "colorbar": {
             "outlinewidth": 0,
             "ticks": ""
            },
            "colorscale": [
             [
              0,
              "#0d0887"
             ],
             [
              0.1111111111111111,
              "#46039f"
             ],
             [
              0.2222222222222222,
              "#7201a8"
             ],
             [
              0.3333333333333333,
              "#9c179e"
             ],
             [
              0.4444444444444444,
              "#bd3786"
             ],
             [
              0.5555555555555556,
              "#d8576b"
             ],
             [
              0.6666666666666666,
              "#ed7953"
             ],
             [
              0.7777777777777778,
              "#fb9f3a"
             ],
             [
              0.8888888888888888,
              "#fdca26"
             ],
             [
              1,
              "#f0f921"
             ]
            ],
            "type": "heatmapgl"
           }
          ],
          "histogram": [
           {
            "marker": {
             "pattern": {
              "fillmode": "overlay",
              "size": 10,
              "solidity": 0.2
             }
            },
            "type": "histogram"
           }
          ],
          "histogram2d": [
           {
            "colorbar": {
             "outlinewidth": 0,
             "ticks": ""
            },
            "colorscale": [
             [
              0,
              "#0d0887"
             ],
             [
              0.1111111111111111,
              "#46039f"
             ],
             [
              0.2222222222222222,
              "#7201a8"
             ],
             [
              0.3333333333333333,
              "#9c179e"
             ],
             [
              0.4444444444444444,
              "#bd3786"
             ],
             [
              0.5555555555555556,
              "#d8576b"
             ],
             [
              0.6666666666666666,
              "#ed7953"
             ],
             [
              0.7777777777777778,
              "#fb9f3a"
             ],
             [
              0.8888888888888888,
              "#fdca26"
             ],
             [
              1,
              "#f0f921"
             ]
            ],
            "type": "histogram2d"
           }
          ],
          "histogram2dcontour": [
           {
            "colorbar": {
             "outlinewidth": 0,
             "ticks": ""
            },
            "colorscale": [
             [
              0,
              "#0d0887"
             ],
             [
              0.1111111111111111,
              "#46039f"
             ],
             [
              0.2222222222222222,
              "#7201a8"
             ],
             [
              0.3333333333333333,
              "#9c179e"
             ],
             [
              0.4444444444444444,
              "#bd3786"
             ],
             [
              0.5555555555555556,
              "#d8576b"
             ],
             [
              0.6666666666666666,
              "#ed7953"
             ],
             [
              0.7777777777777778,
              "#fb9f3a"
             ],
             [
              0.8888888888888888,
              "#fdca26"
             ],
             [
              1,
              "#f0f921"
             ]
            ],
            "type": "histogram2dcontour"
           }
          ],
          "mesh3d": [
           {
            "colorbar": {
             "outlinewidth": 0,
             "ticks": ""
            },
            "type": "mesh3d"
           }
          ],
          "parcoords": [
           {
            "line": {
             "colorbar": {
              "outlinewidth": 0,
              "ticks": ""
             }
            },
            "type": "parcoords"
           }
          ],
          "pie": [
           {
            "automargin": true,
            "type": "pie"
           }
          ],
          "scatter": [
           {
            "fillpattern": {
             "fillmode": "overlay",
             "size": 10,
             "solidity": 0.2
            },
            "type": "scatter"
           }
          ],
          "scatter3d": [
           {
            "line": {
             "colorbar": {
              "outlinewidth": 0,
              "ticks": ""
             }
            },
            "marker": {
             "colorbar": {
              "outlinewidth": 0,
              "ticks": ""
             }
            },
            "type": "scatter3d"
           }
          ],
          "scattercarpet": [
           {
            "marker": {
             "colorbar": {
              "outlinewidth": 0,
              "ticks": ""
             }
            },
            "type": "scattercarpet"
           }
          ],
          "scattergeo": [
           {
            "marker": {
             "colorbar": {
              "outlinewidth": 0,
              "ticks": ""
             }
            },
            "type": "scattergeo"
           }
          ],
          "scattergl": [
           {
            "marker": {
             "colorbar": {
              "outlinewidth": 0,
              "ticks": ""
             }
            },
            "type": "scattergl"
           }
          ],
          "scattermapbox": [
           {
            "marker": {
             "colorbar": {
              "outlinewidth": 0,
              "ticks": ""
             }
            },
            "type": "scattermapbox"
           }
          ],
          "scatterpolar": [
           {
            "marker": {
             "colorbar": {
              "outlinewidth": 0,
              "ticks": ""
             }
            },
            "type": "scatterpolar"
           }
          ],
          "scatterpolargl": [
           {
            "marker": {
             "colorbar": {
              "outlinewidth": 0,
              "ticks": ""
             }
            },
            "type": "scatterpolargl"
           }
          ],
          "scatterternary": [
           {
            "marker": {
             "colorbar": {
              "outlinewidth": 0,
              "ticks": ""
             }
            },
            "type": "scatterternary"
           }
          ],
          "surface": [
           {
            "colorbar": {
             "outlinewidth": 0,
             "ticks": ""
            },
            "colorscale": [
             [
              0,
              "#0d0887"
             ],
             [
              0.1111111111111111,
              "#46039f"
             ],
             [
              0.2222222222222222,
              "#7201a8"
             ],
             [
              0.3333333333333333,
              "#9c179e"
             ],
             [
              0.4444444444444444,
              "#bd3786"
             ],
             [
              0.5555555555555556,
              "#d8576b"
             ],
             [
              0.6666666666666666,
              "#ed7953"
             ],
             [
              0.7777777777777778,
              "#fb9f3a"
             ],
             [
              0.8888888888888888,
              "#fdca26"
             ],
             [
              1,
              "#f0f921"
             ]
            ],
            "type": "surface"
           }
          ],
          "table": [
           {
            "cells": {
             "fill": {
              "color": "#EBF0F8"
             },
             "line": {
              "color": "white"
             }
            },
            "header": {
             "fill": {
              "color": "#C8D4E3"
             },
             "line": {
              "color": "white"
             }
            },
            "type": "table"
           }
          ]
         },
         "layout": {
          "annotationdefaults": {
           "arrowcolor": "#2a3f5f",
           "arrowhead": 0,
           "arrowwidth": 1
          },
          "autotypenumbers": "strict",
          "coloraxis": {
           "colorbar": {
            "outlinewidth": 0,
            "ticks": ""
           }
          },
          "colorscale": {
           "diverging": [
            [
             0,
             "#8e0152"
            ],
            [
             0.1,
             "#c51b7d"
            ],
            [
             0.2,
             "#de77ae"
            ],
            [
             0.3,
             "#f1b6da"
            ],
            [
             0.4,
             "#fde0ef"
            ],
            [
             0.5,
             "#f7f7f7"
            ],
            [
             0.6,
             "#e6f5d0"
            ],
            [
             0.7,
             "#b8e186"
            ],
            [
             0.8,
             "#7fbc41"
            ],
            [
             0.9,
             "#4d9221"
            ],
            [
             1,
             "#276419"
            ]
           ],
           "sequential": [
            [
             0,
             "#0d0887"
            ],
            [
             0.1111111111111111,
             "#46039f"
            ],
            [
             0.2222222222222222,
             "#7201a8"
            ],
            [
             0.3333333333333333,
             "#9c179e"
            ],
            [
             0.4444444444444444,
             "#bd3786"
            ],
            [
             0.5555555555555556,
             "#d8576b"
            ],
            [
             0.6666666666666666,
             "#ed7953"
            ],
            [
             0.7777777777777778,
             "#fb9f3a"
            ],
            [
             0.8888888888888888,
             "#fdca26"
            ],
            [
             1,
             "#f0f921"
            ]
           ],
           "sequentialminus": [
            [
             0,
             "#0d0887"
            ],
            [
             0.1111111111111111,
             "#46039f"
            ],
            [
             0.2222222222222222,
             "#7201a8"
            ],
            [
             0.3333333333333333,
             "#9c179e"
            ],
            [
             0.4444444444444444,
             "#bd3786"
            ],
            [
             0.5555555555555556,
             "#d8576b"
            ],
            [
             0.6666666666666666,
             "#ed7953"
            ],
            [
             0.7777777777777778,
             "#fb9f3a"
            ],
            [
             0.8888888888888888,
             "#fdca26"
            ],
            [
             1,
             "#f0f921"
            ]
           ]
          },
          "colorway": [
           "#636efa",
           "#EF553B",
           "#00cc96",
           "#ab63fa",
           "#FFA15A",
           "#19d3f3",
           "#FF6692",
           "#B6E880",
           "#FF97FF",
           "#FECB52"
          ],
          "font": {
           "color": "#2a3f5f"
          },
          "geo": {
           "bgcolor": "white",
           "lakecolor": "white",
           "landcolor": "#E5ECF6",
           "showlakes": true,
           "showland": true,
           "subunitcolor": "white"
          },
          "hoverlabel": {
           "align": "left"
          },
          "hovermode": "closest",
          "mapbox": {
           "style": "light"
          },
          "paper_bgcolor": "white",
          "plot_bgcolor": "#E5ECF6",
          "polar": {
           "angularaxis": {
            "gridcolor": "white",
            "linecolor": "white",
            "ticks": ""
           },
           "bgcolor": "#E5ECF6",
           "radialaxis": {
            "gridcolor": "white",
            "linecolor": "white",
            "ticks": ""
           }
          },
          "scene": {
           "xaxis": {
            "backgroundcolor": "#E5ECF6",
            "gridcolor": "white",
            "gridwidth": 2,
            "linecolor": "white",
            "showbackground": true,
            "ticks": "",
            "zerolinecolor": "white"
           },
           "yaxis": {
            "backgroundcolor": "#E5ECF6",
            "gridcolor": "white",
            "gridwidth": 2,
            "linecolor": "white",
            "showbackground": true,
            "ticks": "",
            "zerolinecolor": "white"
           },
           "zaxis": {
            "backgroundcolor": "#E5ECF6",
            "gridcolor": "white",
            "gridwidth": 2,
            "linecolor": "white",
            "showbackground": true,
            "ticks": "",
            "zerolinecolor": "white"
           }
          },
          "shapedefaults": {
           "line": {
            "color": "#2a3f5f"
           }
          },
          "ternary": {
           "aaxis": {
            "gridcolor": "white",
            "linecolor": "white",
            "ticks": ""
           },
           "baxis": {
            "gridcolor": "white",
            "linecolor": "white",
            "ticks": ""
           },
           "bgcolor": "#E5ECF6",
           "caxis": {
            "gridcolor": "white",
            "linecolor": "white",
            "ticks": ""
           }
          },
          "title": {
           "x": 0.05
          },
          "xaxis": {
           "automargin": true,
           "gridcolor": "white",
           "linecolor": "white",
           "ticks": "",
           "title": {
            "standoff": 15
           },
           "zerolinecolor": "white",
           "zerolinewidth": 2
          },
          "yaxis": {
           "automargin": true,
           "gridcolor": "white",
           "linecolor": "white",
           "ticks": "",
           "title": {
            "standoff": 15
           },
           "zerolinecolor": "white",
           "zerolinewidth": 2
          }
         }
        },
        "title": {
         "text": "Months timeline"
        },
        "xaxis": {
         "anchor": "y",
         "domain": [
          0,
          1
         ],
         "title": {
          "text": "Months"
         }
        },
        "yaxis": {
         "anchor": "x",
         "domain": [
          0,
          1
         ],
         "title": {
          "text": "Message count"
         }
        }
       }
      }
     },
     "metadata": {},
     "output_type": "display_data"
    },
    {
     "data": {
      "application/vnd.plotly.v1+json": {
       "config": {
        "plotlyServerURL": "https://plot.ly"
       },
       "data": [
        {
         "alignmentgroup": "True",
         "customdata": [
          [
           "No specific discussion"
          ],
          [
           "students"
          ],
          [
           "media"
          ],
          [
           "link"
          ],
          [
           "form"
          ],
          [
           "No specific discussion"
          ],
          [
           "students"
          ]
         ],
         "hovertemplate": "Weekdays=%{x}<br>Message count=%{y}<br>Discussion week 1=%{customdata[0]}<extra></extra>",
         "legendgroup": "",
         "marker": {
          "color": "yellow",
          "line": {
           "width": 2
          },
          "pattern": {
           "shape": ""
          }
         },
         "name": "",
         "offsetgroup": "",
         "opacity": 1,
         "orientation": "v",
         "showlegend": false,
         "text": [
          "No specific discussion",
          "students",
          "media",
          "link",
          "form",
          "No specific discussion",
          "students"
         ],
         "textposition": "auto",
         "type": "bar",
         "x": [
          "Tuesday",
          "Wednesday",
          "Thursday",
          "Friday",
          "Saturday",
          "Sunday",
          "Monday"
         ],
         "xaxis": "x",
         "y": [
          0,
          8,
          59,
          13,
          8,
          0,
          7
         ],
         "yaxis": "y"
        }
       ],
       "layout": {
        "barmode": "relative",
        "legend": {
         "tracegroupgap": 0
        },
        "template": {
         "data": {
          "bar": [
           {
            "error_x": {
             "color": "#2a3f5f"
            },
            "error_y": {
             "color": "#2a3f5f"
            },
            "marker": {
             "line": {
              "color": "#E5ECF6",
              "width": 0.5
             },
             "pattern": {
              "fillmode": "overlay",
              "size": 10,
              "solidity": 0.2
             }
            },
            "type": "bar"
           }
          ],
          "barpolar": [
           {
            "marker": {
             "line": {
              "color": "#E5ECF6",
              "width": 0.5
             },
             "pattern": {
              "fillmode": "overlay",
              "size": 10,
              "solidity": 0.2
             }
            },
            "type": "barpolar"
           }
          ],
          "carpet": [
           {
            "aaxis": {
             "endlinecolor": "#2a3f5f",
             "gridcolor": "white",
             "linecolor": "white",
             "minorgridcolor": "white",
             "startlinecolor": "#2a3f5f"
            },
            "baxis": {
             "endlinecolor": "#2a3f5f",
             "gridcolor": "white",
             "linecolor": "white",
             "minorgridcolor": "white",
             "startlinecolor": "#2a3f5f"
            },
            "type": "carpet"
           }
          ],
          "choropleth": [
           {
            "colorbar": {
             "outlinewidth": 0,
             "ticks": ""
            },
            "type": "choropleth"
           }
          ],
          "contour": [
           {
            "colorbar": {
             "outlinewidth": 0,
             "ticks": ""
            },
            "colorscale": [
             [
              0,
              "#0d0887"
             ],
             [
              0.1111111111111111,
              "#46039f"
             ],
             [
              0.2222222222222222,
              "#7201a8"
             ],
             [
              0.3333333333333333,
              "#9c179e"
             ],
             [
              0.4444444444444444,
              "#bd3786"
             ],
             [
              0.5555555555555556,
              "#d8576b"
             ],
             [
              0.6666666666666666,
              "#ed7953"
             ],
             [
              0.7777777777777778,
              "#fb9f3a"
             ],
             [
              0.8888888888888888,
              "#fdca26"
             ],
             [
              1,
              "#f0f921"
             ]
            ],
            "type": "contour"
           }
          ],
          "contourcarpet": [
           {
            "colorbar": {
             "outlinewidth": 0,
             "ticks": ""
            },
            "type": "contourcarpet"
           }
          ],
          "heatmap": [
           {
            "colorbar": {
             "outlinewidth": 0,
             "ticks": ""
            },
            "colorscale": [
             [
              0,
              "#0d0887"
             ],
             [
              0.1111111111111111,
              "#46039f"
             ],
             [
              0.2222222222222222,
              "#7201a8"
             ],
             [
              0.3333333333333333,
              "#9c179e"
             ],
             [
              0.4444444444444444,
              "#bd3786"
             ],
             [
              0.5555555555555556,
              "#d8576b"
             ],
             [
              0.6666666666666666,
              "#ed7953"
             ],
             [
              0.7777777777777778,
              "#fb9f3a"
             ],
             [
              0.8888888888888888,
              "#fdca26"
             ],
             [
              1,
              "#f0f921"
             ]
            ],
            "type": "heatmap"
           }
          ],
          "heatmapgl": [
           {
            "colorbar": {
             "outlinewidth": 0,
             "ticks": ""
            },
            "colorscale": [
             [
              0,
              "#0d0887"
             ],
             [
              0.1111111111111111,
              "#46039f"
             ],
             [
              0.2222222222222222,
              "#7201a8"
             ],
             [
              0.3333333333333333,
              "#9c179e"
             ],
             [
              0.4444444444444444,
              "#bd3786"
             ],
             [
              0.5555555555555556,
              "#d8576b"
             ],
             [
              0.6666666666666666,
              "#ed7953"
             ],
             [
              0.7777777777777778,
              "#fb9f3a"
             ],
             [
              0.8888888888888888,
              "#fdca26"
             ],
             [
              1,
              "#f0f921"
             ]
            ],
            "type": "heatmapgl"
           }
          ],
          "histogram": [
           {
            "marker": {
             "pattern": {
              "fillmode": "overlay",
              "size": 10,
              "solidity": 0.2
             }
            },
            "type": "histogram"
           }
          ],
          "histogram2d": [
           {
            "colorbar": {
             "outlinewidth": 0,
             "ticks": ""
            },
            "colorscale": [
             [
              0,
              "#0d0887"
             ],
             [
              0.1111111111111111,
              "#46039f"
             ],
             [
              0.2222222222222222,
              "#7201a8"
             ],
             [
              0.3333333333333333,
              "#9c179e"
             ],
             [
              0.4444444444444444,
              "#bd3786"
             ],
             [
              0.5555555555555556,
              "#d8576b"
             ],
             [
              0.6666666666666666,
              "#ed7953"
             ],
             [
              0.7777777777777778,
              "#fb9f3a"
             ],
             [
              0.8888888888888888,
              "#fdca26"
             ],
             [
              1,
              "#f0f921"
             ]
            ],
            "type": "histogram2d"
           }
          ],
          "histogram2dcontour": [
           {
            "colorbar": {
             "outlinewidth": 0,
             "ticks": ""
            },
            "colorscale": [
             [
              0,
              "#0d0887"
             ],
             [
              0.1111111111111111,
              "#46039f"
             ],
             [
              0.2222222222222222,
              "#7201a8"
             ],
             [
              0.3333333333333333,
              "#9c179e"
             ],
             [
              0.4444444444444444,
              "#bd3786"
             ],
             [
              0.5555555555555556,
              "#d8576b"
             ],
             [
              0.6666666666666666,
              "#ed7953"
             ],
             [
              0.7777777777777778,
              "#fb9f3a"
             ],
             [
              0.8888888888888888,
              "#fdca26"
             ],
             [
              1,
              "#f0f921"
             ]
            ],
            "type": "histogram2dcontour"
           }
          ],
          "mesh3d": [
           {
            "colorbar": {
             "outlinewidth": 0,
             "ticks": ""
            },
            "type": "mesh3d"
           }
          ],
          "parcoords": [
           {
            "line": {
             "colorbar": {
              "outlinewidth": 0,
              "ticks": ""
             }
            },
            "type": "parcoords"
           }
          ],
          "pie": [
           {
            "automargin": true,
            "type": "pie"
           }
          ],
          "scatter": [
           {
            "fillpattern": {
             "fillmode": "overlay",
             "size": 10,
             "solidity": 0.2
            },
            "type": "scatter"
           }
          ],
          "scatter3d": [
           {
            "line": {
             "colorbar": {
              "outlinewidth": 0,
              "ticks": ""
             }
            },
            "marker": {
             "colorbar": {
              "outlinewidth": 0,
              "ticks": ""
             }
            },
            "type": "scatter3d"
           }
          ],
          "scattercarpet": [
           {
            "marker": {
             "colorbar": {
              "outlinewidth": 0,
              "ticks": ""
             }
            },
            "type": "scattercarpet"
           }
          ],
          "scattergeo": [
           {
            "marker": {
             "colorbar": {
              "outlinewidth": 0,
              "ticks": ""
             }
            },
            "type": "scattergeo"
           }
          ],
          "scattergl": [
           {
            "marker": {
             "colorbar": {
              "outlinewidth": 0,
              "ticks": ""
             }
            },
            "type": "scattergl"
           }
          ],
          "scattermapbox": [
           {
            "marker": {
             "colorbar": {
              "outlinewidth": 0,
              "ticks": ""
             }
            },
            "type": "scattermapbox"
           }
          ],
          "scatterpolar": [
           {
            "marker": {
             "colorbar": {
              "outlinewidth": 0,
              "ticks": ""
             }
            },
            "type": "scatterpolar"
           }
          ],
          "scatterpolargl": [
           {
            "marker": {
             "colorbar": {
              "outlinewidth": 0,
              "ticks": ""
             }
            },
            "type": "scatterpolargl"
           }
          ],
          "scatterternary": [
           {
            "marker": {
             "colorbar": {
              "outlinewidth": 0,
              "ticks": ""
             }
            },
            "type": "scatterternary"
           }
          ],
          "surface": [
           {
            "colorbar": {
             "outlinewidth": 0,
             "ticks": ""
            },
            "colorscale": [
             [
              0,
              "#0d0887"
             ],
             [
              0.1111111111111111,
              "#46039f"
             ],
             [
              0.2222222222222222,
              "#7201a8"
             ],
             [
              0.3333333333333333,
              "#9c179e"
             ],
             [
              0.4444444444444444,
              "#bd3786"
             ],
             [
              0.5555555555555556,
              "#d8576b"
             ],
             [
              0.6666666666666666,
              "#ed7953"
             ],
             [
              0.7777777777777778,
              "#fb9f3a"
             ],
             [
              0.8888888888888888,
              "#fdca26"
             ],
             [
              1,
              "#f0f921"
             ]
            ],
            "type": "surface"
           }
          ],
          "table": [
           {
            "cells": {
             "fill": {
              "color": "#EBF0F8"
             },
             "line": {
              "color": "white"
             }
            },
            "header": {
             "fill": {
              "color": "#C8D4E3"
             },
             "line": {
              "color": "white"
             }
            },
            "type": "table"
           }
          ]
         },
         "layout": {
          "annotationdefaults": {
           "arrowcolor": "#2a3f5f",
           "arrowhead": 0,
           "arrowwidth": 1
          },
          "autotypenumbers": "strict",
          "coloraxis": {
           "colorbar": {
            "outlinewidth": 0,
            "ticks": ""
           }
          },
          "colorscale": {
           "diverging": [
            [
             0,
             "#8e0152"
            ],
            [
             0.1,
             "#c51b7d"
            ],
            [
             0.2,
             "#de77ae"
            ],
            [
             0.3,
             "#f1b6da"
            ],
            [
             0.4,
             "#fde0ef"
            ],
            [
             0.5,
             "#f7f7f7"
            ],
            [
             0.6,
             "#e6f5d0"
            ],
            [
             0.7,
             "#b8e186"
            ],
            [
             0.8,
             "#7fbc41"
            ],
            [
             0.9,
             "#4d9221"
            ],
            [
             1,
             "#276419"
            ]
           ],
           "sequential": [
            [
             0,
             "#0d0887"
            ],
            [
             0.1111111111111111,
             "#46039f"
            ],
            [
             0.2222222222222222,
             "#7201a8"
            ],
            [
             0.3333333333333333,
             "#9c179e"
            ],
            [
             0.4444444444444444,
             "#bd3786"
            ],
            [
             0.5555555555555556,
             "#d8576b"
            ],
            [
             0.6666666666666666,
             "#ed7953"
            ],
            [
             0.7777777777777778,
             "#fb9f3a"
            ],
            [
             0.8888888888888888,
             "#fdca26"
            ],
            [
             1,
             "#f0f921"
            ]
           ],
           "sequentialminus": [
            [
             0,
             "#0d0887"
            ],
            [
             0.1111111111111111,
             "#46039f"
            ],
            [
             0.2222222222222222,
             "#7201a8"
            ],
            [
             0.3333333333333333,
             "#9c179e"
            ],
            [
             0.4444444444444444,
             "#bd3786"
            ],
            [
             0.5555555555555556,
             "#d8576b"
            ],
            [
             0.6666666666666666,
             "#ed7953"
            ],
            [
             0.7777777777777778,
             "#fb9f3a"
            ],
            [
             0.8888888888888888,
             "#fdca26"
            ],
            [
             1,
             "#f0f921"
            ]
           ]
          },
          "colorway": [
           "#636efa",
           "#EF553B",
           "#00cc96",
           "#ab63fa",
           "#FFA15A",
           "#19d3f3",
           "#FF6692",
           "#B6E880",
           "#FF97FF",
           "#FECB52"
          ],
          "font": {
           "color": "#2a3f5f"
          },
          "geo": {
           "bgcolor": "white",
           "lakecolor": "white",
           "landcolor": "#E5ECF6",
           "showlakes": true,
           "showland": true,
           "subunitcolor": "white"
          },
          "hoverlabel": {
           "align": "left"
          },
          "hovermode": "closest",
          "mapbox": {
           "style": "light"
          },
          "paper_bgcolor": "white",
          "plot_bgcolor": "#E5ECF6",
          "polar": {
           "angularaxis": {
            "gridcolor": "white",
            "linecolor": "white",
            "ticks": ""
           },
           "bgcolor": "#E5ECF6",
           "radialaxis": {
            "gridcolor": "white",
            "linecolor": "white",
            "ticks": ""
           }
          },
          "scene": {
           "xaxis": {
            "backgroundcolor": "#E5ECF6",
            "gridcolor": "white",
            "gridwidth": 2,
            "linecolor": "white",
            "showbackground": true,
            "ticks": "",
            "zerolinecolor": "white"
           },
           "yaxis": {
            "backgroundcolor": "#E5ECF6",
            "gridcolor": "white",
            "gridwidth": 2,
            "linecolor": "white",
            "showbackground": true,
            "ticks": "",
            "zerolinecolor": "white"
           },
           "zaxis": {
            "backgroundcolor": "#E5ECF6",
            "gridcolor": "white",
            "gridwidth": 2,
            "linecolor": "white",
            "showbackground": true,
            "ticks": "",
            "zerolinecolor": "white"
           }
          },
          "shapedefaults": {
           "line": {
            "color": "#2a3f5f"
           }
          },
          "ternary": {
           "aaxis": {
            "gridcolor": "white",
            "linecolor": "white",
            "ticks": ""
           },
           "baxis": {
            "gridcolor": "white",
            "linecolor": "white",
            "ticks": ""
           },
           "bgcolor": "#E5ECF6",
           "caxis": {
            "gridcolor": "white",
            "linecolor": "white",
            "ticks": ""
           }
          },
          "title": {
           "x": 0.05
          },
          "xaxis": {
           "automargin": true,
           "gridcolor": "white",
           "linecolor": "white",
           "ticks": "",
           "title": {
            "standoff": 15
           },
           "zerolinecolor": "white",
           "zerolinewidth": 2
          },
          "yaxis": {
           "automargin": true,
           "gridcolor": "white",
           "linecolor": "white",
           "ticks": "",
           "title": {
            "standoff": 15
           },
           "zerolinecolor": "white",
           "zerolinewidth": 2
          }
         }
        },
        "title": {
         "text": "Weekdays [week - 1] timeline"
        },
        "xaxis": {
         "anchor": "y",
         "domain": [
          0,
          1
         ],
         "title": {
          "text": "Weekdays"
         }
        },
        "yaxis": {
         "anchor": "x",
         "domain": [
          0,
          1
         ],
         "title": {
          "text": "Message count"
         }
        }
       }
      }
     },
     "metadata": {},
     "output_type": "display_data"
    },
    {
     "data": {
      "application/vnd.plotly.v1+json": {
       "config": {
        "plotlyServerURL": "https://plot.ly"
       },
       "data": [
        {
         "alignmentgroup": "True",
         "customdata": [
          [
           "students"
          ],
          [
           "No specific discussion"
          ],
          [
           "students"
          ],
          [
           "blockchain"
          ],
          [
           "No specific discussion"
          ],
          [
           "No specific discussion"
          ],
          [
           "No specific discussion"
          ]
         ],
         "hovertemplate": "Weekdays=%{x}<br>Message count=%{y}<br>Discussion week 2=%{customdata[0]}<extra></extra>",
         "legendgroup": "",
         "marker": {
          "color": "yellow",
          "line": {
           "width": 2
          },
          "pattern": {
           "shape": ""
          }
         },
         "name": "",
         "offsetgroup": "",
         "opacity": 1,
         "orientation": "v",
         "showlegend": false,
         "text": [
          "students",
          "No specific discussion",
          "students",
          "blockchain",
          "No specific discussion",
          "No specific discussion",
          "No specific discussion"
         ],
         "textposition": "auto",
         "type": "bar",
         "x": [
          "Tuesday",
          "Wednesday",
          "Thursday",
          "Friday",
          "Saturday",
          "Sunday",
          "Monday"
         ],
         "xaxis": "x",
         "y": [
          20,
          2,
          6,
          8,
          3,
          0,
          4
         ],
         "yaxis": "y"
        }
       ],
       "layout": {
        "barmode": "relative",
        "legend": {
         "tracegroupgap": 0
        },
        "template": {
         "data": {
          "bar": [
           {
            "error_x": {
             "color": "#2a3f5f"
            },
            "error_y": {
             "color": "#2a3f5f"
            },
            "marker": {
             "line": {
              "color": "#E5ECF6",
              "width": 0.5
             },
             "pattern": {
              "fillmode": "overlay",
              "size": 10,
              "solidity": 0.2
             }
            },
            "type": "bar"
           }
          ],
          "barpolar": [
           {
            "marker": {
             "line": {
              "color": "#E5ECF6",
              "width": 0.5
             },
             "pattern": {
              "fillmode": "overlay",
              "size": 10,
              "solidity": 0.2
             }
            },
            "type": "barpolar"
           }
          ],
          "carpet": [
           {
            "aaxis": {
             "endlinecolor": "#2a3f5f",
             "gridcolor": "white",
             "linecolor": "white",
             "minorgridcolor": "white",
             "startlinecolor": "#2a3f5f"
            },
            "baxis": {
             "endlinecolor": "#2a3f5f",
             "gridcolor": "white",
             "linecolor": "white",
             "minorgridcolor": "white",
             "startlinecolor": "#2a3f5f"
            },
            "type": "carpet"
           }
          ],
          "choropleth": [
           {
            "colorbar": {
             "outlinewidth": 0,
             "ticks": ""
            },
            "type": "choropleth"
           }
          ],
          "contour": [
           {
            "colorbar": {
             "outlinewidth": 0,
             "ticks": ""
            },
            "colorscale": [
             [
              0,
              "#0d0887"
             ],
             [
              0.1111111111111111,
              "#46039f"
             ],
             [
              0.2222222222222222,
              "#7201a8"
             ],
             [
              0.3333333333333333,
              "#9c179e"
             ],
             [
              0.4444444444444444,
              "#bd3786"
             ],
             [
              0.5555555555555556,
              "#d8576b"
             ],
             [
              0.6666666666666666,
              "#ed7953"
             ],
             [
              0.7777777777777778,
              "#fb9f3a"
             ],
             [
              0.8888888888888888,
              "#fdca26"
             ],
             [
              1,
              "#f0f921"
             ]
            ],
            "type": "contour"
           }
          ],
          "contourcarpet": [
           {
            "colorbar": {
             "outlinewidth": 0,
             "ticks": ""
            },
            "type": "contourcarpet"
           }
          ],
          "heatmap": [
           {
            "colorbar": {
             "outlinewidth": 0,
             "ticks": ""
            },
            "colorscale": [
             [
              0,
              "#0d0887"
             ],
             [
              0.1111111111111111,
              "#46039f"
             ],
             [
              0.2222222222222222,
              "#7201a8"
             ],
             [
              0.3333333333333333,
              "#9c179e"
             ],
             [
              0.4444444444444444,
              "#bd3786"
             ],
             [
              0.5555555555555556,
              "#d8576b"
             ],
             [
              0.6666666666666666,
              "#ed7953"
             ],
             [
              0.7777777777777778,
              "#fb9f3a"
             ],
             [
              0.8888888888888888,
              "#fdca26"
             ],
             [
              1,
              "#f0f921"
             ]
            ],
            "type": "heatmap"
           }
          ],
          "heatmapgl": [
           {
            "colorbar": {
             "outlinewidth": 0,
             "ticks": ""
            },
            "colorscale": [
             [
              0,
              "#0d0887"
             ],
             [
              0.1111111111111111,
              "#46039f"
             ],
             [
              0.2222222222222222,
              "#7201a8"
             ],
             [
              0.3333333333333333,
              "#9c179e"
             ],
             [
              0.4444444444444444,
              "#bd3786"
             ],
             [
              0.5555555555555556,
              "#d8576b"
             ],
             [
              0.6666666666666666,
              "#ed7953"
             ],
             [
              0.7777777777777778,
              "#fb9f3a"
             ],
             [
              0.8888888888888888,
              "#fdca26"
             ],
             [
              1,
              "#f0f921"
             ]
            ],
            "type": "heatmapgl"
           }
          ],
          "histogram": [
           {
            "marker": {
             "pattern": {
              "fillmode": "overlay",
              "size": 10,
              "solidity": 0.2
             }
            },
            "type": "histogram"
           }
          ],
          "histogram2d": [
           {
            "colorbar": {
             "outlinewidth": 0,
             "ticks": ""
            },
            "colorscale": [
             [
              0,
              "#0d0887"
             ],
             [
              0.1111111111111111,
              "#46039f"
             ],
             [
              0.2222222222222222,
              "#7201a8"
             ],
             [
              0.3333333333333333,
              "#9c179e"
             ],
             [
              0.4444444444444444,
              "#bd3786"
             ],
             [
              0.5555555555555556,
              "#d8576b"
             ],
             [
              0.6666666666666666,
              "#ed7953"
             ],
             [
              0.7777777777777778,
              "#fb9f3a"
             ],
             [
              0.8888888888888888,
              "#fdca26"
             ],
             [
              1,
              "#f0f921"
             ]
            ],
            "type": "histogram2d"
           }
          ],
          "histogram2dcontour": [
           {
            "colorbar": {
             "outlinewidth": 0,
             "ticks": ""
            },
            "colorscale": [
             [
              0,
              "#0d0887"
             ],
             [
              0.1111111111111111,
              "#46039f"
             ],
             [
              0.2222222222222222,
              "#7201a8"
             ],
             [
              0.3333333333333333,
              "#9c179e"
             ],
             [
              0.4444444444444444,
              "#bd3786"
             ],
             [
              0.5555555555555556,
              "#d8576b"
             ],
             [
              0.6666666666666666,
              "#ed7953"
             ],
             [
              0.7777777777777778,
              "#fb9f3a"
             ],
             [
              0.8888888888888888,
              "#fdca26"
             ],
             [
              1,
              "#f0f921"
             ]
            ],
            "type": "histogram2dcontour"
           }
          ],
          "mesh3d": [
           {
            "colorbar": {
             "outlinewidth": 0,
             "ticks": ""
            },
            "type": "mesh3d"
           }
          ],
          "parcoords": [
           {
            "line": {
             "colorbar": {
              "outlinewidth": 0,
              "ticks": ""
             }
            },
            "type": "parcoords"
           }
          ],
          "pie": [
           {
            "automargin": true,
            "type": "pie"
           }
          ],
          "scatter": [
           {
            "fillpattern": {
             "fillmode": "overlay",
             "size": 10,
             "solidity": 0.2
            },
            "type": "scatter"
           }
          ],
          "scatter3d": [
           {
            "line": {
             "colorbar": {
              "outlinewidth": 0,
              "ticks": ""
             }
            },
            "marker": {
             "colorbar": {
              "outlinewidth": 0,
              "ticks": ""
             }
            },
            "type": "scatter3d"
           }
          ],
          "scattercarpet": [
           {
            "marker": {
             "colorbar": {
              "outlinewidth": 0,
              "ticks": ""
             }
            },
            "type": "scattercarpet"
           }
          ],
          "scattergeo": [
           {
            "marker": {
             "colorbar": {
              "outlinewidth": 0,
              "ticks": ""
             }
            },
            "type": "scattergeo"
           }
          ],
          "scattergl": [
           {
            "marker": {
             "colorbar": {
              "outlinewidth": 0,
              "ticks": ""
             }
            },
            "type": "scattergl"
           }
          ],
          "scattermapbox": [
           {
            "marker": {
             "colorbar": {
              "outlinewidth": 0,
              "ticks": ""
             }
            },
            "type": "scattermapbox"
           }
          ],
          "scatterpolar": [
           {
            "marker": {
             "colorbar": {
              "outlinewidth": 0,
              "ticks": ""
             }
            },
            "type": "scatterpolar"
           }
          ],
          "scatterpolargl": [
           {
            "marker": {
             "colorbar": {
              "outlinewidth": 0,
              "ticks": ""
             }
            },
            "type": "scatterpolargl"
           }
          ],
          "scatterternary": [
           {
            "marker": {
             "colorbar": {
              "outlinewidth": 0,
              "ticks": ""
             }
            },
            "type": "scatterternary"
           }
          ],
          "surface": [
           {
            "colorbar": {
             "outlinewidth": 0,
             "ticks": ""
            },
            "colorscale": [
             [
              0,
              "#0d0887"
             ],
             [
              0.1111111111111111,
              "#46039f"
             ],
             [
              0.2222222222222222,
              "#7201a8"
             ],
             [
              0.3333333333333333,
              "#9c179e"
             ],
             [
              0.4444444444444444,
              "#bd3786"
             ],
             [
              0.5555555555555556,
              "#d8576b"
             ],
             [
              0.6666666666666666,
              "#ed7953"
             ],
             [
              0.7777777777777778,
              "#fb9f3a"
             ],
             [
              0.8888888888888888,
              "#fdca26"
             ],
             [
              1,
              "#f0f921"
             ]
            ],
            "type": "surface"
           }
          ],
          "table": [
           {
            "cells": {
             "fill": {
              "color": "#EBF0F8"
             },
             "line": {
              "color": "white"
             }
            },
            "header": {
             "fill": {
              "color": "#C8D4E3"
             },
             "line": {
              "color": "white"
             }
            },
            "type": "table"
           }
          ]
         },
         "layout": {
          "annotationdefaults": {
           "arrowcolor": "#2a3f5f",
           "arrowhead": 0,
           "arrowwidth": 1
          },
          "autotypenumbers": "strict",
          "coloraxis": {
           "colorbar": {
            "outlinewidth": 0,
            "ticks": ""
           }
          },
          "colorscale": {
           "diverging": [
            [
             0,
             "#8e0152"
            ],
            [
             0.1,
             "#c51b7d"
            ],
            [
             0.2,
             "#de77ae"
            ],
            [
             0.3,
             "#f1b6da"
            ],
            [
             0.4,
             "#fde0ef"
            ],
            [
             0.5,
             "#f7f7f7"
            ],
            [
             0.6,
             "#e6f5d0"
            ],
            [
             0.7,
             "#b8e186"
            ],
            [
             0.8,
             "#7fbc41"
            ],
            [
             0.9,
             "#4d9221"
            ],
            [
             1,
             "#276419"
            ]
           ],
           "sequential": [
            [
             0,
             "#0d0887"
            ],
            [
             0.1111111111111111,
             "#46039f"
            ],
            [
             0.2222222222222222,
             "#7201a8"
            ],
            [
             0.3333333333333333,
             "#9c179e"
            ],
            [
             0.4444444444444444,
             "#bd3786"
            ],
            [
             0.5555555555555556,
             "#d8576b"
            ],
            [
             0.6666666666666666,
             "#ed7953"
            ],
            [
             0.7777777777777778,
             "#fb9f3a"
            ],
            [
             0.8888888888888888,
             "#fdca26"
            ],
            [
             1,
             "#f0f921"
            ]
           ],
           "sequentialminus": [
            [
             0,
             "#0d0887"
            ],
            [
             0.1111111111111111,
             "#46039f"
            ],
            [
             0.2222222222222222,
             "#7201a8"
            ],
            [
             0.3333333333333333,
             "#9c179e"
            ],
            [
             0.4444444444444444,
             "#bd3786"
            ],
            [
             0.5555555555555556,
             "#d8576b"
            ],
            [
             0.6666666666666666,
             "#ed7953"
            ],
            [
             0.7777777777777778,
             "#fb9f3a"
            ],
            [
             0.8888888888888888,
             "#fdca26"
            ],
            [
             1,
             "#f0f921"
            ]
           ]
          },
          "colorway": [
           "#636efa",
           "#EF553B",
           "#00cc96",
           "#ab63fa",
           "#FFA15A",
           "#19d3f3",
           "#FF6692",
           "#B6E880",
           "#FF97FF",
           "#FECB52"
          ],
          "font": {
           "color": "#2a3f5f"
          },
          "geo": {
           "bgcolor": "white",
           "lakecolor": "white",
           "landcolor": "#E5ECF6",
           "showlakes": true,
           "showland": true,
           "subunitcolor": "white"
          },
          "hoverlabel": {
           "align": "left"
          },
          "hovermode": "closest",
          "mapbox": {
           "style": "light"
          },
          "paper_bgcolor": "white",
          "plot_bgcolor": "#E5ECF6",
          "polar": {
           "angularaxis": {
            "gridcolor": "white",
            "linecolor": "white",
            "ticks": ""
           },
           "bgcolor": "#E5ECF6",
           "radialaxis": {
            "gridcolor": "white",
            "linecolor": "white",
            "ticks": ""
           }
          },
          "scene": {
           "xaxis": {
            "backgroundcolor": "#E5ECF6",
            "gridcolor": "white",
            "gridwidth": 2,
            "linecolor": "white",
            "showbackground": true,
            "ticks": "",
            "zerolinecolor": "white"
           },
           "yaxis": {
            "backgroundcolor": "#E5ECF6",
            "gridcolor": "white",
            "gridwidth": 2,
            "linecolor": "white",
            "showbackground": true,
            "ticks": "",
            "zerolinecolor": "white"
           },
           "zaxis": {
            "backgroundcolor": "#E5ECF6",
            "gridcolor": "white",
            "gridwidth": 2,
            "linecolor": "white",
            "showbackground": true,
            "ticks": "",
            "zerolinecolor": "white"
           }
          },
          "shapedefaults": {
           "line": {
            "color": "#2a3f5f"
           }
          },
          "ternary": {
           "aaxis": {
            "gridcolor": "white",
            "linecolor": "white",
            "ticks": ""
           },
           "baxis": {
            "gridcolor": "white",
            "linecolor": "white",
            "ticks": ""
           },
           "bgcolor": "#E5ECF6",
           "caxis": {
            "gridcolor": "white",
            "linecolor": "white",
            "ticks": ""
           }
          },
          "title": {
           "x": 0.05
          },
          "xaxis": {
           "automargin": true,
           "gridcolor": "white",
           "linecolor": "white",
           "ticks": "",
           "title": {
            "standoff": 15
           },
           "zerolinecolor": "white",
           "zerolinewidth": 2
          },
          "yaxis": {
           "automargin": true,
           "gridcolor": "white",
           "linecolor": "white",
           "ticks": "",
           "title": {
            "standoff": 15
           },
           "zerolinecolor": "white",
           "zerolinewidth": 2
          }
         }
        },
        "title": {
         "text": "Weekdays [week - 2] timeline"
        },
        "xaxis": {
         "anchor": "y",
         "domain": [
          0,
          1
         ],
         "title": {
          "text": "Weekdays"
         }
        },
        "yaxis": {
         "anchor": "x",
         "domain": [
          0,
          1
         ],
         "title": {
          "text": "Message count"
         }
        }
       }
      }
     },
     "metadata": {},
     "output_type": "display_data"
    },
    {
     "data": {
      "application/vnd.plotly.v1+json": {
       "config": {
        "plotlyServerURL": "https://plot.ly"
       },
       "data": [
        {
         "alignmentgroup": "True",
         "customdata": [
          [
           "No specific discussion"
          ],
          [
           "No specific discussion"
          ],
          [
           "kaurtuesdaythursday"
          ],
          [
           "No specific discussion"
          ],
          [
           "media"
          ],
          [
           "No specific discussion"
          ],
          [
           "No specific discussion"
          ]
         ],
         "hovertemplate": "Weekdays=%{x}<br>Message count=%{y}<br>Discussion week 3=%{customdata[0]}<extra></extra>",
         "legendgroup": "",
         "marker": {
          "color": "yellow",
          "line": {
           "width": 2
          },
          "pattern": {
           "shape": ""
          }
         },
         "name": "",
         "offsetgroup": "",
         "opacity": 1,
         "orientation": "v",
         "showlegend": false,
         "text": [
          "No specific discussion",
          "No specific discussion",
          "kaurtuesdaythursday",
          "No specific discussion",
          "media",
          "No specific discussion",
          "No specific discussion"
         ],
         "textposition": "auto",
         "type": "bar",
         "x": [
          "Tuesday",
          "Wednesday",
          "Thursday",
          "Friday",
          "Saturday",
          "Sunday",
          "Monday"
         ],
         "xaxis": "x",
         "y": [
          4,
          2,
          11,
          1,
          6,
          1,
          3
         ],
         "yaxis": "y"
        }
       ],
       "layout": {
        "barmode": "relative",
        "legend": {
         "tracegroupgap": 0
        },
        "template": {
         "data": {
          "bar": [
           {
            "error_x": {
             "color": "#2a3f5f"
            },
            "error_y": {
             "color": "#2a3f5f"
            },
            "marker": {
             "line": {
              "color": "#E5ECF6",
              "width": 0.5
             },
             "pattern": {
              "fillmode": "overlay",
              "size": 10,
              "solidity": 0.2
             }
            },
            "type": "bar"
           }
          ],
          "barpolar": [
           {
            "marker": {
             "line": {
              "color": "#E5ECF6",
              "width": 0.5
             },
             "pattern": {
              "fillmode": "overlay",
              "size": 10,
              "solidity": 0.2
             }
            },
            "type": "barpolar"
           }
          ],
          "carpet": [
           {
            "aaxis": {
             "endlinecolor": "#2a3f5f",
             "gridcolor": "white",
             "linecolor": "white",
             "minorgridcolor": "white",
             "startlinecolor": "#2a3f5f"
            },
            "baxis": {
             "endlinecolor": "#2a3f5f",
             "gridcolor": "white",
             "linecolor": "white",
             "minorgridcolor": "white",
             "startlinecolor": "#2a3f5f"
            },
            "type": "carpet"
           }
          ],
          "choropleth": [
           {
            "colorbar": {
             "outlinewidth": 0,
             "ticks": ""
            },
            "type": "choropleth"
           }
          ],
          "contour": [
           {
            "colorbar": {
             "outlinewidth": 0,
             "ticks": ""
            },
            "colorscale": [
             [
              0,
              "#0d0887"
             ],
             [
              0.1111111111111111,
              "#46039f"
             ],
             [
              0.2222222222222222,
              "#7201a8"
             ],
             [
              0.3333333333333333,
              "#9c179e"
             ],
             [
              0.4444444444444444,
              "#bd3786"
             ],
             [
              0.5555555555555556,
              "#d8576b"
             ],
             [
              0.6666666666666666,
              "#ed7953"
             ],
             [
              0.7777777777777778,
              "#fb9f3a"
             ],
             [
              0.8888888888888888,
              "#fdca26"
             ],
             [
              1,
              "#f0f921"
             ]
            ],
            "type": "contour"
           }
          ],
          "contourcarpet": [
           {
            "colorbar": {
             "outlinewidth": 0,
             "ticks": ""
            },
            "type": "contourcarpet"
           }
          ],
          "heatmap": [
           {
            "colorbar": {
             "outlinewidth": 0,
             "ticks": ""
            },
            "colorscale": [
             [
              0,
              "#0d0887"
             ],
             [
              0.1111111111111111,
              "#46039f"
             ],
             [
              0.2222222222222222,
              "#7201a8"
             ],
             [
              0.3333333333333333,
              "#9c179e"
             ],
             [
              0.4444444444444444,
              "#bd3786"
             ],
             [
              0.5555555555555556,
              "#d8576b"
             ],
             [
              0.6666666666666666,
              "#ed7953"
             ],
             [
              0.7777777777777778,
              "#fb9f3a"
             ],
             [
              0.8888888888888888,
              "#fdca26"
             ],
             [
              1,
              "#f0f921"
             ]
            ],
            "type": "heatmap"
           }
          ],
          "heatmapgl": [
           {
            "colorbar": {
             "outlinewidth": 0,
             "ticks": ""
            },
            "colorscale": [
             [
              0,
              "#0d0887"
             ],
             [
              0.1111111111111111,
              "#46039f"
             ],
             [
              0.2222222222222222,
              "#7201a8"
             ],
             [
              0.3333333333333333,
              "#9c179e"
             ],
             [
              0.4444444444444444,
              "#bd3786"
             ],
             [
              0.5555555555555556,
              "#d8576b"
             ],
             [
              0.6666666666666666,
              "#ed7953"
             ],
             [
              0.7777777777777778,
              "#fb9f3a"
             ],
             [
              0.8888888888888888,
              "#fdca26"
             ],
             [
              1,
              "#f0f921"
             ]
            ],
            "type": "heatmapgl"
           }
          ],
          "histogram": [
           {
            "marker": {
             "pattern": {
              "fillmode": "overlay",
              "size": 10,
              "solidity": 0.2
             }
            },
            "type": "histogram"
           }
          ],
          "histogram2d": [
           {
            "colorbar": {
             "outlinewidth": 0,
             "ticks": ""
            },
            "colorscale": [
             [
              0,
              "#0d0887"
             ],
             [
              0.1111111111111111,
              "#46039f"
             ],
             [
              0.2222222222222222,
              "#7201a8"
             ],
             [
              0.3333333333333333,
              "#9c179e"
             ],
             [
              0.4444444444444444,
              "#bd3786"
             ],
             [
              0.5555555555555556,
              "#d8576b"
             ],
             [
              0.6666666666666666,
              "#ed7953"
             ],
             [
              0.7777777777777778,
              "#fb9f3a"
             ],
             [
              0.8888888888888888,
              "#fdca26"
             ],
             [
              1,
              "#f0f921"
             ]
            ],
            "type": "histogram2d"
           }
          ],
          "histogram2dcontour": [
           {
            "colorbar": {
             "outlinewidth": 0,
             "ticks": ""
            },
            "colorscale": [
             [
              0,
              "#0d0887"
             ],
             [
              0.1111111111111111,
              "#46039f"
             ],
             [
              0.2222222222222222,
              "#7201a8"
             ],
             [
              0.3333333333333333,
              "#9c179e"
             ],
             [
              0.4444444444444444,
              "#bd3786"
             ],
             [
              0.5555555555555556,
              "#d8576b"
             ],
             [
              0.6666666666666666,
              "#ed7953"
             ],
             [
              0.7777777777777778,
              "#fb9f3a"
             ],
             [
              0.8888888888888888,
              "#fdca26"
             ],
             [
              1,
              "#f0f921"
             ]
            ],
            "type": "histogram2dcontour"
           }
          ],
          "mesh3d": [
           {
            "colorbar": {
             "outlinewidth": 0,
             "ticks": ""
            },
            "type": "mesh3d"
           }
          ],
          "parcoords": [
           {
            "line": {
             "colorbar": {
              "outlinewidth": 0,
              "ticks": ""
             }
            },
            "type": "parcoords"
           }
          ],
          "pie": [
           {
            "automargin": true,
            "type": "pie"
           }
          ],
          "scatter": [
           {
            "fillpattern": {
             "fillmode": "overlay",
             "size": 10,
             "solidity": 0.2
            },
            "type": "scatter"
           }
          ],
          "scatter3d": [
           {
            "line": {
             "colorbar": {
              "outlinewidth": 0,
              "ticks": ""
             }
            },
            "marker": {
             "colorbar": {
              "outlinewidth": 0,
              "ticks": ""
             }
            },
            "type": "scatter3d"
           }
          ],
          "scattercarpet": [
           {
            "marker": {
             "colorbar": {
              "outlinewidth": 0,
              "ticks": ""
             }
            },
            "type": "scattercarpet"
           }
          ],
          "scattergeo": [
           {
            "marker": {
             "colorbar": {
              "outlinewidth": 0,
              "ticks": ""
             }
            },
            "type": "scattergeo"
           }
          ],
          "scattergl": [
           {
            "marker": {
             "colorbar": {
              "outlinewidth": 0,
              "ticks": ""
             }
            },
            "type": "scattergl"
           }
          ],
          "scattermapbox": [
           {
            "marker": {
             "colorbar": {
              "outlinewidth": 0,
              "ticks": ""
             }
            },
            "type": "scattermapbox"
           }
          ],
          "scatterpolar": [
           {
            "marker": {
             "colorbar": {
              "outlinewidth": 0,
              "ticks": ""
             }
            },
            "type": "scatterpolar"
           }
          ],
          "scatterpolargl": [
           {
            "marker": {
             "colorbar": {
              "outlinewidth": 0,
              "ticks": ""
             }
            },
            "type": "scatterpolargl"
           }
          ],
          "scatterternary": [
           {
            "marker": {
             "colorbar": {
              "outlinewidth": 0,
              "ticks": ""
             }
            },
            "type": "scatterternary"
           }
          ],
          "surface": [
           {
            "colorbar": {
             "outlinewidth": 0,
             "ticks": ""
            },
            "colorscale": [
             [
              0,
              "#0d0887"
             ],
             [
              0.1111111111111111,
              "#46039f"
             ],
             [
              0.2222222222222222,
              "#7201a8"
             ],
             [
              0.3333333333333333,
              "#9c179e"
             ],
             [
              0.4444444444444444,
              "#bd3786"
             ],
             [
              0.5555555555555556,
              "#d8576b"
             ],
             [
              0.6666666666666666,
              "#ed7953"
             ],
             [
              0.7777777777777778,
              "#fb9f3a"
             ],
             [
              0.8888888888888888,
              "#fdca26"
             ],
             [
              1,
              "#f0f921"
             ]
            ],
            "type": "surface"
           }
          ],
          "table": [
           {
            "cells": {
             "fill": {
              "color": "#EBF0F8"
             },
             "line": {
              "color": "white"
             }
            },
            "header": {
             "fill": {
              "color": "#C8D4E3"
             },
             "line": {
              "color": "white"
             }
            },
            "type": "table"
           }
          ]
         },
         "layout": {
          "annotationdefaults": {
           "arrowcolor": "#2a3f5f",
           "arrowhead": 0,
           "arrowwidth": 1
          },
          "autotypenumbers": "strict",
          "coloraxis": {
           "colorbar": {
            "outlinewidth": 0,
            "ticks": ""
           }
          },
          "colorscale": {
           "diverging": [
            [
             0,
             "#8e0152"
            ],
            [
             0.1,
             "#c51b7d"
            ],
            [
             0.2,
             "#de77ae"
            ],
            [
             0.3,
             "#f1b6da"
            ],
            [
             0.4,
             "#fde0ef"
            ],
            [
             0.5,
             "#f7f7f7"
            ],
            [
             0.6,
             "#e6f5d0"
            ],
            [
             0.7,
             "#b8e186"
            ],
            [
             0.8,
             "#7fbc41"
            ],
            [
             0.9,
             "#4d9221"
            ],
            [
             1,
             "#276419"
            ]
           ],
           "sequential": [
            [
             0,
             "#0d0887"
            ],
            [
             0.1111111111111111,
             "#46039f"
            ],
            [
             0.2222222222222222,
             "#7201a8"
            ],
            [
             0.3333333333333333,
             "#9c179e"
            ],
            [
             0.4444444444444444,
             "#bd3786"
            ],
            [
             0.5555555555555556,
             "#d8576b"
            ],
            [
             0.6666666666666666,
             "#ed7953"
            ],
            [
             0.7777777777777778,
             "#fb9f3a"
            ],
            [
             0.8888888888888888,
             "#fdca26"
            ],
            [
             1,
             "#f0f921"
            ]
           ],
           "sequentialminus": [
            [
             0,
             "#0d0887"
            ],
            [
             0.1111111111111111,
             "#46039f"
            ],
            [
             0.2222222222222222,
             "#7201a8"
            ],
            [
             0.3333333333333333,
             "#9c179e"
            ],
            [
             0.4444444444444444,
             "#bd3786"
            ],
            [
             0.5555555555555556,
             "#d8576b"
            ],
            [
             0.6666666666666666,
             "#ed7953"
            ],
            [
             0.7777777777777778,
             "#fb9f3a"
            ],
            [
             0.8888888888888888,
             "#fdca26"
            ],
            [
             1,
             "#f0f921"
            ]
           ]
          },
          "colorway": [
           "#636efa",
           "#EF553B",
           "#00cc96",
           "#ab63fa",
           "#FFA15A",
           "#19d3f3",
           "#FF6692",
           "#B6E880",
           "#FF97FF",
           "#FECB52"
          ],
          "font": {
           "color": "#2a3f5f"
          },
          "geo": {
           "bgcolor": "white",
           "lakecolor": "white",
           "landcolor": "#E5ECF6",
           "showlakes": true,
           "showland": true,
           "subunitcolor": "white"
          },
          "hoverlabel": {
           "align": "left"
          },
          "hovermode": "closest",
          "mapbox": {
           "style": "light"
          },
          "paper_bgcolor": "white",
          "plot_bgcolor": "#E5ECF6",
          "polar": {
           "angularaxis": {
            "gridcolor": "white",
            "linecolor": "white",
            "ticks": ""
           },
           "bgcolor": "#E5ECF6",
           "radialaxis": {
            "gridcolor": "white",
            "linecolor": "white",
            "ticks": ""
           }
          },
          "scene": {
           "xaxis": {
            "backgroundcolor": "#E5ECF6",
            "gridcolor": "white",
            "gridwidth": 2,
            "linecolor": "white",
            "showbackground": true,
            "ticks": "",
            "zerolinecolor": "white"
           },
           "yaxis": {
            "backgroundcolor": "#E5ECF6",
            "gridcolor": "white",
            "gridwidth": 2,
            "linecolor": "white",
            "showbackground": true,
            "ticks": "",
            "zerolinecolor": "white"
           },
           "zaxis": {
            "backgroundcolor": "#E5ECF6",
            "gridcolor": "white",
            "gridwidth": 2,
            "linecolor": "white",
            "showbackground": true,
            "ticks": "",
            "zerolinecolor": "white"
           }
          },
          "shapedefaults": {
           "line": {
            "color": "#2a3f5f"
           }
          },
          "ternary": {
           "aaxis": {
            "gridcolor": "white",
            "linecolor": "white",
            "ticks": ""
           },
           "baxis": {
            "gridcolor": "white",
            "linecolor": "white",
            "ticks": ""
           },
           "bgcolor": "#E5ECF6",
           "caxis": {
            "gridcolor": "white",
            "linecolor": "white",
            "ticks": ""
           }
          },
          "title": {
           "x": 0.05
          },
          "xaxis": {
           "automargin": true,
           "gridcolor": "white",
           "linecolor": "white",
           "ticks": "",
           "title": {
            "standoff": 15
           },
           "zerolinecolor": "white",
           "zerolinewidth": 2
          },
          "yaxis": {
           "automargin": true,
           "gridcolor": "white",
           "linecolor": "white",
           "ticks": "",
           "title": {
            "standoff": 15
           },
           "zerolinecolor": "white",
           "zerolinewidth": 2
          }
         }
        },
        "title": {
         "text": "Weekdays [week - 3] timeline"
        },
        "xaxis": {
         "anchor": "y",
         "domain": [
          0,
          1
         ],
         "title": {
          "text": "Weekdays"
         }
        },
        "yaxis": {
         "anchor": "x",
         "domain": [
          0,
          1
         ],
         "title": {
          "text": "Message count"
         }
        }
       }
      }
     },
     "metadata": {},
     "output_type": "display_data"
    },
    {
     "data": {
      "application/vnd.plotly.v1+json": {
       "config": {
        "plotlyServerURL": "https://plot.ly"
       },
       "data": [
        {
         "alignmentgroup": "True",
         "customdata": [
          [
           "media"
          ],
          [
           "students"
          ],
          [
           "form"
          ],
          [
           "media"
          ],
          [
           "scholarship"
          ],
          [
           "media"
          ],
          [
           "students"
          ]
         ],
         "hovertemplate": "Weekdays=%{x}<br>Message count=%{y}<br>Discussion week 4=%{customdata[0]}<extra></extra>",
         "legendgroup": "",
         "marker": {
          "color": "yellow",
          "line": {
           "width": 2
          },
          "pattern": {
           "shape": ""
          }
         },
         "name": "",
         "offsetgroup": "",
         "opacity": 1,
         "orientation": "v",
         "showlegend": false,
         "text": [
          "media",
          "students",
          "form",
          "media",
          "scholarship",
          "media",
          "students"
         ],
         "textposition": "auto",
         "type": "bar",
         "x": [
          "Tuesday",
          "Wednesday",
          "Thursday",
          "Friday",
          "Saturday",
          "Sunday",
          "Monday"
         ],
         "xaxis": "x",
         "y": [
          6,
          8,
          6,
          5,
          10,
          6,
          5
         ],
         "yaxis": "y"
        }
       ],
       "layout": {
        "barmode": "relative",
        "legend": {
         "tracegroupgap": 0
        },
        "template": {
         "data": {
          "bar": [
           {
            "error_x": {
             "color": "#2a3f5f"
            },
            "error_y": {
             "color": "#2a3f5f"
            },
            "marker": {
             "line": {
              "color": "#E5ECF6",
              "width": 0.5
             },
             "pattern": {
              "fillmode": "overlay",
              "size": 10,
              "solidity": 0.2
             }
            },
            "type": "bar"
           }
          ],
          "barpolar": [
           {
            "marker": {
             "line": {
              "color": "#E5ECF6",
              "width": 0.5
             },
             "pattern": {
              "fillmode": "overlay",
              "size": 10,
              "solidity": 0.2
             }
            },
            "type": "barpolar"
           }
          ],
          "carpet": [
           {
            "aaxis": {
             "endlinecolor": "#2a3f5f",
             "gridcolor": "white",
             "linecolor": "white",
             "minorgridcolor": "white",
             "startlinecolor": "#2a3f5f"
            },
            "baxis": {
             "endlinecolor": "#2a3f5f",
             "gridcolor": "white",
             "linecolor": "white",
             "minorgridcolor": "white",
             "startlinecolor": "#2a3f5f"
            },
            "type": "carpet"
           }
          ],
          "choropleth": [
           {
            "colorbar": {
             "outlinewidth": 0,
             "ticks": ""
            },
            "type": "choropleth"
           }
          ],
          "contour": [
           {
            "colorbar": {
             "outlinewidth": 0,
             "ticks": ""
            },
            "colorscale": [
             [
              0,
              "#0d0887"
             ],
             [
              0.1111111111111111,
              "#46039f"
             ],
             [
              0.2222222222222222,
              "#7201a8"
             ],
             [
              0.3333333333333333,
              "#9c179e"
             ],
             [
              0.4444444444444444,
              "#bd3786"
             ],
             [
              0.5555555555555556,
              "#d8576b"
             ],
             [
              0.6666666666666666,
              "#ed7953"
             ],
             [
              0.7777777777777778,
              "#fb9f3a"
             ],
             [
              0.8888888888888888,
              "#fdca26"
             ],
             [
              1,
              "#f0f921"
             ]
            ],
            "type": "contour"
           }
          ],
          "contourcarpet": [
           {
            "colorbar": {
             "outlinewidth": 0,
             "ticks": ""
            },
            "type": "contourcarpet"
           }
          ],
          "heatmap": [
           {
            "colorbar": {
             "outlinewidth": 0,
             "ticks": ""
            },
            "colorscale": [
             [
              0,
              "#0d0887"
             ],
             [
              0.1111111111111111,
              "#46039f"
             ],
             [
              0.2222222222222222,
              "#7201a8"
             ],
             [
              0.3333333333333333,
              "#9c179e"
             ],
             [
              0.4444444444444444,
              "#bd3786"
             ],
             [
              0.5555555555555556,
              "#d8576b"
             ],
             [
              0.6666666666666666,
              "#ed7953"
             ],
             [
              0.7777777777777778,
              "#fb9f3a"
             ],
             [
              0.8888888888888888,
              "#fdca26"
             ],
             [
              1,
              "#f0f921"
             ]
            ],
            "type": "heatmap"
           }
          ],
          "heatmapgl": [
           {
            "colorbar": {
             "outlinewidth": 0,
             "ticks": ""
            },
            "colorscale": [
             [
              0,
              "#0d0887"
             ],
             [
              0.1111111111111111,
              "#46039f"
             ],
             [
              0.2222222222222222,
              "#7201a8"
             ],
             [
              0.3333333333333333,
              "#9c179e"
             ],
             [
              0.4444444444444444,
              "#bd3786"
             ],
             [
              0.5555555555555556,
              "#d8576b"
             ],
             [
              0.6666666666666666,
              "#ed7953"
             ],
             [
              0.7777777777777778,
              "#fb9f3a"
             ],
             [
              0.8888888888888888,
              "#fdca26"
             ],
             [
              1,
              "#f0f921"
             ]
            ],
            "type": "heatmapgl"
           }
          ],
          "histogram": [
           {
            "marker": {
             "pattern": {
              "fillmode": "overlay",
              "size": 10,
              "solidity": 0.2
             }
            },
            "type": "histogram"
           }
          ],
          "histogram2d": [
           {
            "colorbar": {
             "outlinewidth": 0,
             "ticks": ""
            },
            "colorscale": [
             [
              0,
              "#0d0887"
             ],
             [
              0.1111111111111111,
              "#46039f"
             ],
             [
              0.2222222222222222,
              "#7201a8"
             ],
             [
              0.3333333333333333,
              "#9c179e"
             ],
             [
              0.4444444444444444,
              "#bd3786"
             ],
             [
              0.5555555555555556,
              "#d8576b"
             ],
             [
              0.6666666666666666,
              "#ed7953"
             ],
             [
              0.7777777777777778,
              "#fb9f3a"
             ],
             [
              0.8888888888888888,
              "#fdca26"
             ],
             [
              1,
              "#f0f921"
             ]
            ],
            "type": "histogram2d"
           }
          ],
          "histogram2dcontour": [
           {
            "colorbar": {
             "outlinewidth": 0,
             "ticks": ""
            },
            "colorscale": [
             [
              0,
              "#0d0887"
             ],
             [
              0.1111111111111111,
              "#46039f"
             ],
             [
              0.2222222222222222,
              "#7201a8"
             ],
             [
              0.3333333333333333,
              "#9c179e"
             ],
             [
              0.4444444444444444,
              "#bd3786"
             ],
             [
              0.5555555555555556,
              "#d8576b"
             ],
             [
              0.6666666666666666,
              "#ed7953"
             ],
             [
              0.7777777777777778,
              "#fb9f3a"
             ],
             [
              0.8888888888888888,
              "#fdca26"
             ],
             [
              1,
              "#f0f921"
             ]
            ],
            "type": "histogram2dcontour"
           }
          ],
          "mesh3d": [
           {
            "colorbar": {
             "outlinewidth": 0,
             "ticks": ""
            },
            "type": "mesh3d"
           }
          ],
          "parcoords": [
           {
            "line": {
             "colorbar": {
              "outlinewidth": 0,
              "ticks": ""
             }
            },
            "type": "parcoords"
           }
          ],
          "pie": [
           {
            "automargin": true,
            "type": "pie"
           }
          ],
          "scatter": [
           {
            "fillpattern": {
             "fillmode": "overlay",
             "size": 10,
             "solidity": 0.2
            },
            "type": "scatter"
           }
          ],
          "scatter3d": [
           {
            "line": {
             "colorbar": {
              "outlinewidth": 0,
              "ticks": ""
             }
            },
            "marker": {
             "colorbar": {
              "outlinewidth": 0,
              "ticks": ""
             }
            },
            "type": "scatter3d"
           }
          ],
          "scattercarpet": [
           {
            "marker": {
             "colorbar": {
              "outlinewidth": 0,
              "ticks": ""
             }
            },
            "type": "scattercarpet"
           }
          ],
          "scattergeo": [
           {
            "marker": {
             "colorbar": {
              "outlinewidth": 0,
              "ticks": ""
             }
            },
            "type": "scattergeo"
           }
          ],
          "scattergl": [
           {
            "marker": {
             "colorbar": {
              "outlinewidth": 0,
              "ticks": ""
             }
            },
            "type": "scattergl"
           }
          ],
          "scattermapbox": [
           {
            "marker": {
             "colorbar": {
              "outlinewidth": 0,
              "ticks": ""
             }
            },
            "type": "scattermapbox"
           }
          ],
          "scatterpolar": [
           {
            "marker": {
             "colorbar": {
              "outlinewidth": 0,
              "ticks": ""
             }
            },
            "type": "scatterpolar"
           }
          ],
          "scatterpolargl": [
           {
            "marker": {
             "colorbar": {
              "outlinewidth": 0,
              "ticks": ""
             }
            },
            "type": "scatterpolargl"
           }
          ],
          "scatterternary": [
           {
            "marker": {
             "colorbar": {
              "outlinewidth": 0,
              "ticks": ""
             }
            },
            "type": "scatterternary"
           }
          ],
          "surface": [
           {
            "colorbar": {
             "outlinewidth": 0,
             "ticks": ""
            },
            "colorscale": [
             [
              0,
              "#0d0887"
             ],
             [
              0.1111111111111111,
              "#46039f"
             ],
             [
              0.2222222222222222,
              "#7201a8"
             ],
             [
              0.3333333333333333,
              "#9c179e"
             ],
             [
              0.4444444444444444,
              "#bd3786"
             ],
             [
              0.5555555555555556,
              "#d8576b"
             ],
             [
              0.6666666666666666,
              "#ed7953"
             ],
             [
              0.7777777777777778,
              "#fb9f3a"
             ],
             [
              0.8888888888888888,
              "#fdca26"
             ],
             [
              1,
              "#f0f921"
             ]
            ],
            "type": "surface"
           }
          ],
          "table": [
           {
            "cells": {
             "fill": {
              "color": "#EBF0F8"
             },
             "line": {
              "color": "white"
             }
            },
            "header": {
             "fill": {
              "color": "#C8D4E3"
             },
             "line": {
              "color": "white"
             }
            },
            "type": "table"
           }
          ]
         },
         "layout": {
          "annotationdefaults": {
           "arrowcolor": "#2a3f5f",
           "arrowhead": 0,
           "arrowwidth": 1
          },
          "autotypenumbers": "strict",
          "coloraxis": {
           "colorbar": {
            "outlinewidth": 0,
            "ticks": ""
           }
          },
          "colorscale": {
           "diverging": [
            [
             0,
             "#8e0152"
            ],
            [
             0.1,
             "#c51b7d"
            ],
            [
             0.2,
             "#de77ae"
            ],
            [
             0.3,
             "#f1b6da"
            ],
            [
             0.4,
             "#fde0ef"
            ],
            [
             0.5,
             "#f7f7f7"
            ],
            [
             0.6,
             "#e6f5d0"
            ],
            [
             0.7,
             "#b8e186"
            ],
            [
             0.8,
             "#7fbc41"
            ],
            [
             0.9,
             "#4d9221"
            ],
            [
             1,
             "#276419"
            ]
           ],
           "sequential": [
            [
             0,
             "#0d0887"
            ],
            [
             0.1111111111111111,
             "#46039f"
            ],
            [
             0.2222222222222222,
             "#7201a8"
            ],
            [
             0.3333333333333333,
             "#9c179e"
            ],
            [
             0.4444444444444444,
             "#bd3786"
            ],
            [
             0.5555555555555556,
             "#d8576b"
            ],
            [
             0.6666666666666666,
             "#ed7953"
            ],
            [
             0.7777777777777778,
             "#fb9f3a"
            ],
            [
             0.8888888888888888,
             "#fdca26"
            ],
            [
             1,
             "#f0f921"
            ]
           ],
           "sequentialminus": [
            [
             0,
             "#0d0887"
            ],
            [
             0.1111111111111111,
             "#46039f"
            ],
            [
             0.2222222222222222,
             "#7201a8"
            ],
            [
             0.3333333333333333,
             "#9c179e"
            ],
            [
             0.4444444444444444,
             "#bd3786"
            ],
            [
             0.5555555555555556,
             "#d8576b"
            ],
            [
             0.6666666666666666,
             "#ed7953"
            ],
            [
             0.7777777777777778,
             "#fb9f3a"
            ],
            [
             0.8888888888888888,
             "#fdca26"
            ],
            [
             1,
             "#f0f921"
            ]
           ]
          },
          "colorway": [
           "#636efa",
           "#EF553B",
           "#00cc96",
           "#ab63fa",
           "#FFA15A",
           "#19d3f3",
           "#FF6692",
           "#B6E880",
           "#FF97FF",
           "#FECB52"
          ],
          "font": {
           "color": "#2a3f5f"
          },
          "geo": {
           "bgcolor": "white",
           "lakecolor": "white",
           "landcolor": "#E5ECF6",
           "showlakes": true,
           "showland": true,
           "subunitcolor": "white"
          },
          "hoverlabel": {
           "align": "left"
          },
          "hovermode": "closest",
          "mapbox": {
           "style": "light"
          },
          "paper_bgcolor": "white",
          "plot_bgcolor": "#E5ECF6",
          "polar": {
           "angularaxis": {
            "gridcolor": "white",
            "linecolor": "white",
            "ticks": ""
           },
           "bgcolor": "#E5ECF6",
           "radialaxis": {
            "gridcolor": "white",
            "linecolor": "white",
            "ticks": ""
           }
          },
          "scene": {
           "xaxis": {
            "backgroundcolor": "#E5ECF6",
            "gridcolor": "white",
            "gridwidth": 2,
            "linecolor": "white",
            "showbackground": true,
            "ticks": "",
            "zerolinecolor": "white"
           },
           "yaxis": {
            "backgroundcolor": "#E5ECF6",
            "gridcolor": "white",
            "gridwidth": 2,
            "linecolor": "white",
            "showbackground": true,
            "ticks": "",
            "zerolinecolor": "white"
           },
           "zaxis": {
            "backgroundcolor": "#E5ECF6",
            "gridcolor": "white",
            "gridwidth": 2,
            "linecolor": "white",
            "showbackground": true,
            "ticks": "",
            "zerolinecolor": "white"
           }
          },
          "shapedefaults": {
           "line": {
            "color": "#2a3f5f"
           }
          },
          "ternary": {
           "aaxis": {
            "gridcolor": "white",
            "linecolor": "white",
            "ticks": ""
           },
           "baxis": {
            "gridcolor": "white",
            "linecolor": "white",
            "ticks": ""
           },
           "bgcolor": "#E5ECF6",
           "caxis": {
            "gridcolor": "white",
            "linecolor": "white",
            "ticks": ""
           }
          },
          "title": {
           "x": 0.05
          },
          "xaxis": {
           "automargin": true,
           "gridcolor": "white",
           "linecolor": "white",
           "ticks": "",
           "title": {
            "standoff": 15
           },
           "zerolinecolor": "white",
           "zerolinewidth": 2
          },
          "yaxis": {
           "automargin": true,
           "gridcolor": "white",
           "linecolor": "white",
           "ticks": "",
           "title": {
            "standoff": 15
           },
           "zerolinecolor": "white",
           "zerolinewidth": 2
          }
         }
        },
        "title": {
         "text": "Weekdays [week - 4] timeline"
        },
        "xaxis": {
         "anchor": "y",
         "domain": [
          0,
          1
         ],
         "title": {
          "text": "Weekdays"
         }
        },
        "yaxis": {
         "anchor": "x",
         "domain": [
          0,
          1
         ],
         "title": {
          "text": "Message count"
         }
        }
       }
      }
     },
     "metadata": {},
     "output_type": "display_data"
    },
    {
     "data": {
      "application/vnd.plotly.v1+json": {
       "config": {
        "plotlyServerURL": "https://plot.ly"
       },
       "data": [
        {
         "alignmentgroup": "True",
         "customdata": [
          [
           "media"
          ],
          [
           "link"
          ],
          [
           "form"
          ],
          [
           "No specific discussion"
          ],
          [
           "students"
          ],
          [
           "students"
          ],
          [
           "No specific discussion"
          ],
          [
           "students"
          ],
          [
           "blockchain"
          ],
          [
           "No specific discussion"
          ],
          [
           "No specific discussion"
          ],
          [
           "No specific discussion"
          ],
          [
           "No specific discussion"
          ],
          [
           "No specific discussion"
          ],
          [
           "kaurtuesdaythursday"
          ],
          [
           "No specific discussion"
          ],
          [
           "media"
          ],
          [
           "No specific discussion"
          ],
          [
           "No specific discussion"
          ],
          [
           "media"
          ],
          [
           "students"
          ],
          [
           "form"
          ],
          [
           "media"
          ]
         ],
         "hovertemplate": "Days=%{x}<br>Message count=%{y}<br>Discussion=%{customdata[0]}<extra></extra>",
         "legendgroup": "",
         "marker": {
          "color": "yellow",
          "line": {
           "width": 2
          },
          "pattern": {
           "shape": ""
          }
         },
         "name": "",
         "offsetgroup": "",
         "opacity": 1,
         "orientation": "v",
         "showlegend": false,
         "text": [
          "media",
          "link",
          "form",
          "No specific discussion",
          "students",
          "students",
          "No specific discussion",
          "students",
          "blockchain",
          "No specific discussion",
          "No specific discussion",
          "No specific discussion",
          "No specific discussion",
          "No specific discussion",
          "kaurtuesdaythursday",
          "No specific discussion",
          "media",
          "No specific discussion",
          "No specific discussion",
          "media",
          "students",
          "form",
          "media"
         ],
         "textposition": "auto",
         "type": "bar",
         "x": [
          "2023-08-03",
          "2023-08-04",
          "2023-08-05",
          "2023-08-06",
          "2023-08-07",
          "2023-08-08",
          "2023-08-09",
          "2023-08-10",
          "2023-08-11",
          "2023-08-12",
          "2023-08-13",
          "2023-08-14",
          "2023-08-15",
          "2023-08-16",
          "2023-08-17",
          "2023-08-18",
          "2023-08-19",
          "2023-08-20",
          "2023-08-21",
          "2023-08-22",
          "2023-08-23",
          "2023-08-24",
          "2023-08-25"
         ],
         "xaxis": "x",
         "y": [
          59,
          13,
          8,
          0,
          7,
          20,
          2,
          6,
          8,
          3,
          0,
          4,
          4,
          2,
          11,
          1,
          6,
          1,
          3,
          6,
          8,
          6,
          5
         ],
         "yaxis": "y"
        }
       ],
       "layout": {
        "barmode": "relative",
        "legend": {
         "tracegroupgap": 0
        },
        "template": {
         "data": {
          "bar": [
           {
            "error_x": {
             "color": "#2a3f5f"
            },
            "error_y": {
             "color": "#2a3f5f"
            },
            "marker": {
             "line": {
              "color": "#E5ECF6",
              "width": 0.5
             },
             "pattern": {
              "fillmode": "overlay",
              "size": 10,
              "solidity": 0.2
             }
            },
            "type": "bar"
           }
          ],
          "barpolar": [
           {
            "marker": {
             "line": {
              "color": "#E5ECF6",
              "width": 0.5
             },
             "pattern": {
              "fillmode": "overlay",
              "size": 10,
              "solidity": 0.2
             }
            },
            "type": "barpolar"
           }
          ],
          "carpet": [
           {
            "aaxis": {
             "endlinecolor": "#2a3f5f",
             "gridcolor": "white",
             "linecolor": "white",
             "minorgridcolor": "white",
             "startlinecolor": "#2a3f5f"
            },
            "baxis": {
             "endlinecolor": "#2a3f5f",
             "gridcolor": "white",
             "linecolor": "white",
             "minorgridcolor": "white",
             "startlinecolor": "#2a3f5f"
            },
            "type": "carpet"
           }
          ],
          "choropleth": [
           {
            "colorbar": {
             "outlinewidth": 0,
             "ticks": ""
            },
            "type": "choropleth"
           }
          ],
          "contour": [
           {
            "colorbar": {
             "outlinewidth": 0,
             "ticks": ""
            },
            "colorscale": [
             [
              0,
              "#0d0887"
             ],
             [
              0.1111111111111111,
              "#46039f"
             ],
             [
              0.2222222222222222,
              "#7201a8"
             ],
             [
              0.3333333333333333,
              "#9c179e"
             ],
             [
              0.4444444444444444,
              "#bd3786"
             ],
             [
              0.5555555555555556,
              "#d8576b"
             ],
             [
              0.6666666666666666,
              "#ed7953"
             ],
             [
              0.7777777777777778,
              "#fb9f3a"
             ],
             [
              0.8888888888888888,
              "#fdca26"
             ],
             [
              1,
              "#f0f921"
             ]
            ],
            "type": "contour"
           }
          ],
          "contourcarpet": [
           {
            "colorbar": {
             "outlinewidth": 0,
             "ticks": ""
            },
            "type": "contourcarpet"
           }
          ],
          "heatmap": [
           {
            "colorbar": {
             "outlinewidth": 0,
             "ticks": ""
            },
            "colorscale": [
             [
              0,
              "#0d0887"
             ],
             [
              0.1111111111111111,
              "#46039f"
             ],
             [
              0.2222222222222222,
              "#7201a8"
             ],
             [
              0.3333333333333333,
              "#9c179e"
             ],
             [
              0.4444444444444444,
              "#bd3786"
             ],
             [
              0.5555555555555556,
              "#d8576b"
             ],
             [
              0.6666666666666666,
              "#ed7953"
             ],
             [
              0.7777777777777778,
              "#fb9f3a"
             ],
             [
              0.8888888888888888,
              "#fdca26"
             ],
             [
              1,
              "#f0f921"
             ]
            ],
            "type": "heatmap"
           }
          ],
          "heatmapgl": [
           {
            "colorbar": {
             "outlinewidth": 0,
             "ticks": ""
            },
            "colorscale": [
             [
              0,
              "#0d0887"
             ],
             [
              0.1111111111111111,
              "#46039f"
             ],
             [
              0.2222222222222222,
              "#7201a8"
             ],
             [
              0.3333333333333333,
              "#9c179e"
             ],
             [
              0.4444444444444444,
              "#bd3786"
             ],
             [
              0.5555555555555556,
              "#d8576b"
             ],
             [
              0.6666666666666666,
              "#ed7953"
             ],
             [
              0.7777777777777778,
              "#fb9f3a"
             ],
             [
              0.8888888888888888,
              "#fdca26"
             ],
             [
              1,
              "#f0f921"
             ]
            ],
            "type": "heatmapgl"
           }
          ],
          "histogram": [
           {
            "marker": {
             "pattern": {
              "fillmode": "overlay",
              "size": 10,
              "solidity": 0.2
             }
            },
            "type": "histogram"
           }
          ],
          "histogram2d": [
           {
            "colorbar": {
             "outlinewidth": 0,
             "ticks": ""
            },
            "colorscale": [
             [
              0,
              "#0d0887"
             ],
             [
              0.1111111111111111,
              "#46039f"
             ],
             [
              0.2222222222222222,
              "#7201a8"
             ],
             [
              0.3333333333333333,
              "#9c179e"
             ],
             [
              0.4444444444444444,
              "#bd3786"
             ],
             [
              0.5555555555555556,
              "#d8576b"
             ],
             [
              0.6666666666666666,
              "#ed7953"
             ],
             [
              0.7777777777777778,
              "#fb9f3a"
             ],
             [
              0.8888888888888888,
              "#fdca26"
             ],
             [
              1,
              "#f0f921"
             ]
            ],
            "type": "histogram2d"
           }
          ],
          "histogram2dcontour": [
           {
            "colorbar": {
             "outlinewidth": 0,
             "ticks": ""
            },
            "colorscale": [
             [
              0,
              "#0d0887"
             ],
             [
              0.1111111111111111,
              "#46039f"
             ],
             [
              0.2222222222222222,
              "#7201a8"
             ],
             [
              0.3333333333333333,
              "#9c179e"
             ],
             [
              0.4444444444444444,
              "#bd3786"
             ],
             [
              0.5555555555555556,
              "#d8576b"
             ],
             [
              0.6666666666666666,
              "#ed7953"
             ],
             [
              0.7777777777777778,
              "#fb9f3a"
             ],
             [
              0.8888888888888888,
              "#fdca26"
             ],
             [
              1,
              "#f0f921"
             ]
            ],
            "type": "histogram2dcontour"
           }
          ],
          "mesh3d": [
           {
            "colorbar": {
             "outlinewidth": 0,
             "ticks": ""
            },
            "type": "mesh3d"
           }
          ],
          "parcoords": [
           {
            "line": {
             "colorbar": {
              "outlinewidth": 0,
              "ticks": ""
             }
            },
            "type": "parcoords"
           }
          ],
          "pie": [
           {
            "automargin": true,
            "type": "pie"
           }
          ],
          "scatter": [
           {
            "fillpattern": {
             "fillmode": "overlay",
             "size": 10,
             "solidity": 0.2
            },
            "type": "scatter"
           }
          ],
          "scatter3d": [
           {
            "line": {
             "colorbar": {
              "outlinewidth": 0,
              "ticks": ""
             }
            },
            "marker": {
             "colorbar": {
              "outlinewidth": 0,
              "ticks": ""
             }
            },
            "type": "scatter3d"
           }
          ],
          "scattercarpet": [
           {
            "marker": {
             "colorbar": {
              "outlinewidth": 0,
              "ticks": ""
             }
            },
            "type": "scattercarpet"
           }
          ],
          "scattergeo": [
           {
            "marker": {
             "colorbar": {
              "outlinewidth": 0,
              "ticks": ""
             }
            },
            "type": "scattergeo"
           }
          ],
          "scattergl": [
           {
            "marker": {
             "colorbar": {
              "outlinewidth": 0,
              "ticks": ""
             }
            },
            "type": "scattergl"
           }
          ],
          "scattermapbox": [
           {
            "marker": {
             "colorbar": {
              "outlinewidth": 0,
              "ticks": ""
             }
            },
            "type": "scattermapbox"
           }
          ],
          "scatterpolar": [
           {
            "marker": {
             "colorbar": {
              "outlinewidth": 0,
              "ticks": ""
             }
            },
            "type": "scatterpolar"
           }
          ],
          "scatterpolargl": [
           {
            "marker": {
             "colorbar": {
              "outlinewidth": 0,
              "ticks": ""
             }
            },
            "type": "scatterpolargl"
           }
          ],
          "scatterternary": [
           {
            "marker": {
             "colorbar": {
              "outlinewidth": 0,
              "ticks": ""
             }
            },
            "type": "scatterternary"
           }
          ],
          "surface": [
           {
            "colorbar": {
             "outlinewidth": 0,
             "ticks": ""
            },
            "colorscale": [
             [
              0,
              "#0d0887"
             ],
             [
              0.1111111111111111,
              "#46039f"
             ],
             [
              0.2222222222222222,
              "#7201a8"
             ],
             [
              0.3333333333333333,
              "#9c179e"
             ],
             [
              0.4444444444444444,
              "#bd3786"
             ],
             [
              0.5555555555555556,
              "#d8576b"
             ],
             [
              0.6666666666666666,
              "#ed7953"
             ],
             [
              0.7777777777777778,
              "#fb9f3a"
             ],
             [
              0.8888888888888888,
              "#fdca26"
             ],
             [
              1,
              "#f0f921"
             ]
            ],
            "type": "surface"
           }
          ],
          "table": [
           {
            "cells": {
             "fill": {
              "color": "#EBF0F8"
             },
             "line": {
              "color": "white"
             }
            },
            "header": {
             "fill": {
              "color": "#C8D4E3"
             },
             "line": {
              "color": "white"
             }
            },
            "type": "table"
           }
          ]
         },
         "layout": {
          "annotationdefaults": {
           "arrowcolor": "#2a3f5f",
           "arrowhead": 0,
           "arrowwidth": 1
          },
          "autotypenumbers": "strict",
          "coloraxis": {
           "colorbar": {
            "outlinewidth": 0,
            "ticks": ""
           }
          },
          "colorscale": {
           "diverging": [
            [
             0,
             "#8e0152"
            ],
            [
             0.1,
             "#c51b7d"
            ],
            [
             0.2,
             "#de77ae"
            ],
            [
             0.3,
             "#f1b6da"
            ],
            [
             0.4,
             "#fde0ef"
            ],
            [
             0.5,
             "#f7f7f7"
            ],
            [
             0.6,
             "#e6f5d0"
            ],
            [
             0.7,
             "#b8e186"
            ],
            [
             0.8,
             "#7fbc41"
            ],
            [
             0.9,
             "#4d9221"
            ],
            [
             1,
             "#276419"
            ]
           ],
           "sequential": [
            [
             0,
             "#0d0887"
            ],
            [
             0.1111111111111111,
             "#46039f"
            ],
            [
             0.2222222222222222,
             "#7201a8"
            ],
            [
             0.3333333333333333,
             "#9c179e"
            ],
            [
             0.4444444444444444,
             "#bd3786"
            ],
            [
             0.5555555555555556,
             "#d8576b"
            ],
            [
             0.6666666666666666,
             "#ed7953"
            ],
            [
             0.7777777777777778,
             "#fb9f3a"
            ],
            [
             0.8888888888888888,
             "#fdca26"
            ],
            [
             1,
             "#f0f921"
            ]
           ],
           "sequentialminus": [
            [
             0,
             "#0d0887"
            ],
            [
             0.1111111111111111,
             "#46039f"
            ],
            [
             0.2222222222222222,
             "#7201a8"
            ],
            [
             0.3333333333333333,
             "#9c179e"
            ],
            [
             0.4444444444444444,
             "#bd3786"
            ],
            [
             0.5555555555555556,
             "#d8576b"
            ],
            [
             0.6666666666666666,
             "#ed7953"
            ],
            [
             0.7777777777777778,
             "#fb9f3a"
            ],
            [
             0.8888888888888888,
             "#fdca26"
            ],
            [
             1,
             "#f0f921"
            ]
           ]
          },
          "colorway": [
           "#636efa",
           "#EF553B",
           "#00cc96",
           "#ab63fa",
           "#FFA15A",
           "#19d3f3",
           "#FF6692",
           "#B6E880",
           "#FF97FF",
           "#FECB52"
          ],
          "font": {
           "color": "#2a3f5f"
          },
          "geo": {
           "bgcolor": "white",
           "lakecolor": "white",
           "landcolor": "#E5ECF6",
           "showlakes": true,
           "showland": true,
           "subunitcolor": "white"
          },
          "hoverlabel": {
           "align": "left"
          },
          "hovermode": "closest",
          "mapbox": {
           "style": "light"
          },
          "paper_bgcolor": "white",
          "plot_bgcolor": "#E5ECF6",
          "polar": {
           "angularaxis": {
            "gridcolor": "white",
            "linecolor": "white",
            "ticks": ""
           },
           "bgcolor": "#E5ECF6",
           "radialaxis": {
            "gridcolor": "white",
            "linecolor": "white",
            "ticks": ""
           }
          },
          "scene": {
           "xaxis": {
            "backgroundcolor": "#E5ECF6",
            "gridcolor": "white",
            "gridwidth": 2,
            "linecolor": "white",
            "showbackground": true,
            "ticks": "",
            "zerolinecolor": "white"
           },
           "yaxis": {
            "backgroundcolor": "#E5ECF6",
            "gridcolor": "white",
            "gridwidth": 2,
            "linecolor": "white",
            "showbackground": true,
            "ticks": "",
            "zerolinecolor": "white"
           },
           "zaxis": {
            "backgroundcolor": "#E5ECF6",
            "gridcolor": "white",
            "gridwidth": 2,
            "linecolor": "white",
            "showbackground": true,
            "ticks": "",
            "zerolinecolor": "white"
           }
          },
          "shapedefaults": {
           "line": {
            "color": "#2a3f5f"
           }
          },
          "ternary": {
           "aaxis": {
            "gridcolor": "white",
            "linecolor": "white",
            "ticks": ""
           },
           "baxis": {
            "gridcolor": "white",
            "linecolor": "white",
            "ticks": ""
           },
           "bgcolor": "#E5ECF6",
           "caxis": {
            "gridcolor": "white",
            "linecolor": "white",
            "ticks": ""
           }
          },
          "title": {
           "x": 0.05
          },
          "xaxis": {
           "automargin": true,
           "gridcolor": "white",
           "linecolor": "white",
           "ticks": "",
           "title": {
            "standoff": 15
           },
           "zerolinecolor": "white",
           "zerolinewidth": 2
          },
          "yaxis": {
           "automargin": true,
           "gridcolor": "white",
           "linecolor": "white",
           "ticks": "",
           "title": {
            "standoff": 15
           },
           "zerolinecolor": "white",
           "zerolinewidth": 2
          }
         }
        },
        "title": {
         "text": "Days timeline"
        },
        "xaxis": {
         "anchor": "y",
         "domain": [
          0,
          1
         ],
         "rangeslider": {
          "visible": true
         },
         "title": {
          "text": "Days"
         }
        },
        "yaxis": {
         "anchor": "x",
         "domain": [
          0,
          1
         ],
         "title": {
          "text": "Message count"
         }
        }
       }
      }
     },
     "metadata": {},
     "output_type": "display_data"
    },
    {
     "data": {
      "application/vnd.plotly.v1+json": {
       "config": {
        "plotlyServerURL": "https://plot.ly"
       },
       "data": [
        {
         "alignmentgroup": "True",
         "customdata": [
          [
           "No specific discussion"
          ],
          [
           "dear"
          ],
          [
           "media"
          ],
          [
           "No specific discussion"
          ],
          [
           "No specific discussion"
          ]
         ],
         "hovertemplate": "Hours=%{x}<br>Message count=%{y}<br>Discussion=%{customdata[0]}<extra></extra>",
         "legendgroup": "",
         "marker": {
          "color": "yellow",
          "line": {
           "width": 2
          },
          "pattern": {
           "shape": ""
          }
         },
         "name": "",
         "offsetgroup": "",
         "opacity": 1,
         "orientation": "v",
         "showlegend": false,
         "text": [
          "No specific discussion",
          "dear",
          "media",
          "No specific discussion",
          "No specific discussion"
         ],
         "textposition": "auto",
         "type": "bar",
         "x": [
          "2023-08-22T10:00:00",
          "2023-08-22T11:00:00",
          "2023-08-22T12:00:00",
          "2023-08-22T13:00:00",
          "2023-08-22T14:00:00"
         ],
         "xaxis": "x",
         "y": [
          0,
          2,
          3,
          0,
          0
         ],
         "yaxis": "y"
        }
       ],
       "layout": {
        "barmode": "relative",
        "legend": {
         "tracegroupgap": 0
        },
        "template": {
         "data": {
          "bar": [
           {
            "error_x": {
             "color": "#2a3f5f"
            },
            "error_y": {
             "color": "#2a3f5f"
            },
            "marker": {
             "line": {
              "color": "#E5ECF6",
              "width": 0.5
             },
             "pattern": {
              "fillmode": "overlay",
              "size": 10,
              "solidity": 0.2
             }
            },
            "type": "bar"
           }
          ],
          "barpolar": [
           {
            "marker": {
             "line": {
              "color": "#E5ECF6",
              "width": 0.5
             },
             "pattern": {
              "fillmode": "overlay",
              "size": 10,
              "solidity": 0.2
             }
            },
            "type": "barpolar"
           }
          ],
          "carpet": [
           {
            "aaxis": {
             "endlinecolor": "#2a3f5f",
             "gridcolor": "white",
             "linecolor": "white",
             "minorgridcolor": "white",
             "startlinecolor": "#2a3f5f"
            },
            "baxis": {
             "endlinecolor": "#2a3f5f",
             "gridcolor": "white",
             "linecolor": "white",
             "minorgridcolor": "white",
             "startlinecolor": "#2a3f5f"
            },
            "type": "carpet"
           }
          ],
          "choropleth": [
           {
            "colorbar": {
             "outlinewidth": 0,
             "ticks": ""
            },
            "type": "choropleth"
           }
          ],
          "contour": [
           {
            "colorbar": {
             "outlinewidth": 0,
             "ticks": ""
            },
            "colorscale": [
             [
              0,
              "#0d0887"
             ],
             [
              0.1111111111111111,
              "#46039f"
             ],
             [
              0.2222222222222222,
              "#7201a8"
             ],
             [
              0.3333333333333333,
              "#9c179e"
             ],
             [
              0.4444444444444444,
              "#bd3786"
             ],
             [
              0.5555555555555556,
              "#d8576b"
             ],
             [
              0.6666666666666666,
              "#ed7953"
             ],
             [
              0.7777777777777778,
              "#fb9f3a"
             ],
             [
              0.8888888888888888,
              "#fdca26"
             ],
             [
              1,
              "#f0f921"
             ]
            ],
            "type": "contour"
           }
          ],
          "contourcarpet": [
           {
            "colorbar": {
             "outlinewidth": 0,
             "ticks": ""
            },
            "type": "contourcarpet"
           }
          ],
          "heatmap": [
           {
            "colorbar": {
             "outlinewidth": 0,
             "ticks": ""
            },
            "colorscale": [
             [
              0,
              "#0d0887"
             ],
             [
              0.1111111111111111,
              "#46039f"
             ],
             [
              0.2222222222222222,
              "#7201a8"
             ],
             [
              0.3333333333333333,
              "#9c179e"
             ],
             [
              0.4444444444444444,
              "#bd3786"
             ],
             [
              0.5555555555555556,
              "#d8576b"
             ],
             [
              0.6666666666666666,
              "#ed7953"
             ],
             [
              0.7777777777777778,
              "#fb9f3a"
             ],
             [
              0.8888888888888888,
              "#fdca26"
             ],
             [
              1,
              "#f0f921"
             ]
            ],
            "type": "heatmap"
           }
          ],
          "heatmapgl": [
           {
            "colorbar": {
             "outlinewidth": 0,
             "ticks": ""
            },
            "colorscale": [
             [
              0,
              "#0d0887"
             ],
             [
              0.1111111111111111,
              "#46039f"
             ],
             [
              0.2222222222222222,
              "#7201a8"
             ],
             [
              0.3333333333333333,
              "#9c179e"
             ],
             [
              0.4444444444444444,
              "#bd3786"
             ],
             [
              0.5555555555555556,
              "#d8576b"
             ],
             [
              0.6666666666666666,
              "#ed7953"
             ],
             [
              0.7777777777777778,
              "#fb9f3a"
             ],
             [
              0.8888888888888888,
              "#fdca26"
             ],
             [
              1,
              "#f0f921"
             ]
            ],
            "type": "heatmapgl"
           }
          ],
          "histogram": [
           {
            "marker": {
             "pattern": {
              "fillmode": "overlay",
              "size": 10,
              "solidity": 0.2
             }
            },
            "type": "histogram"
           }
          ],
          "histogram2d": [
           {
            "colorbar": {
             "outlinewidth": 0,
             "ticks": ""
            },
            "colorscale": [
             [
              0,
              "#0d0887"
             ],
             [
              0.1111111111111111,
              "#46039f"
             ],
             [
              0.2222222222222222,
              "#7201a8"
             ],
             [
              0.3333333333333333,
              "#9c179e"
             ],
             [
              0.4444444444444444,
              "#bd3786"
             ],
             [
              0.5555555555555556,
              "#d8576b"
             ],
             [
              0.6666666666666666,
              "#ed7953"
             ],
             [
              0.7777777777777778,
              "#fb9f3a"
             ],
             [
              0.8888888888888888,
              "#fdca26"
             ],
             [
              1,
              "#f0f921"
             ]
            ],
            "type": "histogram2d"
           }
          ],
          "histogram2dcontour": [
           {
            "colorbar": {
             "outlinewidth": 0,
             "ticks": ""
            },
            "colorscale": [
             [
              0,
              "#0d0887"
             ],
             [
              0.1111111111111111,
              "#46039f"
             ],
             [
              0.2222222222222222,
              "#7201a8"
             ],
             [
              0.3333333333333333,
              "#9c179e"
             ],
             [
              0.4444444444444444,
              "#bd3786"
             ],
             [
              0.5555555555555556,
              "#d8576b"
             ],
             [
              0.6666666666666666,
              "#ed7953"
             ],
             [
              0.7777777777777778,
              "#fb9f3a"
             ],
             [
              0.8888888888888888,
              "#fdca26"
             ],
             [
              1,
              "#f0f921"
             ]
            ],
            "type": "histogram2dcontour"
           }
          ],
          "mesh3d": [
           {
            "colorbar": {
             "outlinewidth": 0,
             "ticks": ""
            },
            "type": "mesh3d"
           }
          ],
          "parcoords": [
           {
            "line": {
             "colorbar": {
              "outlinewidth": 0,
              "ticks": ""
             }
            },
            "type": "parcoords"
           }
          ],
          "pie": [
           {
            "automargin": true,
            "type": "pie"
           }
          ],
          "scatter": [
           {
            "fillpattern": {
             "fillmode": "overlay",
             "size": 10,
             "solidity": 0.2
            },
            "type": "scatter"
           }
          ],
          "scatter3d": [
           {
            "line": {
             "colorbar": {
              "outlinewidth": 0,
              "ticks": ""
             }
            },
            "marker": {
             "colorbar": {
              "outlinewidth": 0,
              "ticks": ""
             }
            },
            "type": "scatter3d"
           }
          ],
          "scattercarpet": [
           {
            "marker": {
             "colorbar": {
              "outlinewidth": 0,
              "ticks": ""
             }
            },
            "type": "scattercarpet"
           }
          ],
          "scattergeo": [
           {
            "marker": {
             "colorbar": {
              "outlinewidth": 0,
              "ticks": ""
             }
            },
            "type": "scattergeo"
           }
          ],
          "scattergl": [
           {
            "marker": {
             "colorbar": {
              "outlinewidth": 0,
              "ticks": ""
             }
            },
            "type": "scattergl"
           }
          ],
          "scattermapbox": [
           {
            "marker": {
             "colorbar": {
              "outlinewidth": 0,
              "ticks": ""
             }
            },
            "type": "scattermapbox"
           }
          ],
          "scatterpolar": [
           {
            "marker": {
             "colorbar": {
              "outlinewidth": 0,
              "ticks": ""
             }
            },
            "type": "scatterpolar"
           }
          ],
          "scatterpolargl": [
           {
            "marker": {
             "colorbar": {
              "outlinewidth": 0,
              "ticks": ""
             }
            },
            "type": "scatterpolargl"
           }
          ],
          "scatterternary": [
           {
            "marker": {
             "colorbar": {
              "outlinewidth": 0,
              "ticks": ""
             }
            },
            "type": "scatterternary"
           }
          ],
          "surface": [
           {
            "colorbar": {
             "outlinewidth": 0,
             "ticks": ""
            },
            "colorscale": [
             [
              0,
              "#0d0887"
             ],
             [
              0.1111111111111111,
              "#46039f"
             ],
             [
              0.2222222222222222,
              "#7201a8"
             ],
             [
              0.3333333333333333,
              "#9c179e"
             ],
             [
              0.4444444444444444,
              "#bd3786"
             ],
             [
              0.5555555555555556,
              "#d8576b"
             ],
             [
              0.6666666666666666,
              "#ed7953"
             ],
             [
              0.7777777777777778,
              "#fb9f3a"
             ],
             [
              0.8888888888888888,
              "#fdca26"
             ],
             [
              1,
              "#f0f921"
             ]
            ],
            "type": "surface"
           }
          ],
          "table": [
           {
            "cells": {
             "fill": {
              "color": "#EBF0F8"
             },
             "line": {
              "color": "white"
             }
            },
            "header": {
             "fill": {
              "color": "#C8D4E3"
             },
             "line": {
              "color": "white"
             }
            },
            "type": "table"
           }
          ]
         },
         "layout": {
          "annotationdefaults": {
           "arrowcolor": "#2a3f5f",
           "arrowhead": 0,
           "arrowwidth": 1
          },
          "autotypenumbers": "strict",
          "coloraxis": {
           "colorbar": {
            "outlinewidth": 0,
            "ticks": ""
           }
          },
          "colorscale": {
           "diverging": [
            [
             0,
             "#8e0152"
            ],
            [
             0.1,
             "#c51b7d"
            ],
            [
             0.2,
             "#de77ae"
            ],
            [
             0.3,
             "#f1b6da"
            ],
            [
             0.4,
             "#fde0ef"
            ],
            [
             0.5,
             "#f7f7f7"
            ],
            [
             0.6,
             "#e6f5d0"
            ],
            [
             0.7,
             "#b8e186"
            ],
            [
             0.8,
             "#7fbc41"
            ],
            [
             0.9,
             "#4d9221"
            ],
            [
             1,
             "#276419"
            ]
           ],
           "sequential": [
            [
             0,
             "#0d0887"
            ],
            [
             0.1111111111111111,
             "#46039f"
            ],
            [
             0.2222222222222222,
             "#7201a8"
            ],
            [
             0.3333333333333333,
             "#9c179e"
            ],
            [
             0.4444444444444444,
             "#bd3786"
            ],
            [
             0.5555555555555556,
             "#d8576b"
            ],
            [
             0.6666666666666666,
             "#ed7953"
            ],
            [
             0.7777777777777778,
             "#fb9f3a"
            ],
            [
             0.8888888888888888,
             "#fdca26"
            ],
            [
             1,
             "#f0f921"
            ]
           ],
           "sequentialminus": [
            [
             0,
             "#0d0887"
            ],
            [
             0.1111111111111111,
             "#46039f"
            ],
            [
             0.2222222222222222,
             "#7201a8"
            ],
            [
             0.3333333333333333,
             "#9c179e"
            ],
            [
             0.4444444444444444,
             "#bd3786"
            ],
            [
             0.5555555555555556,
             "#d8576b"
            ],
            [
             0.6666666666666666,
             "#ed7953"
            ],
            [
             0.7777777777777778,
             "#fb9f3a"
            ],
            [
             0.8888888888888888,
             "#fdca26"
            ],
            [
             1,
             "#f0f921"
            ]
           ]
          },
          "colorway": [
           "#636efa",
           "#EF553B",
           "#00cc96",
           "#ab63fa",
           "#FFA15A",
           "#19d3f3",
           "#FF6692",
           "#B6E880",
           "#FF97FF",
           "#FECB52"
          ],
          "font": {
           "color": "#2a3f5f"
          },
          "geo": {
           "bgcolor": "white",
           "lakecolor": "white",
           "landcolor": "#E5ECF6",
           "showlakes": true,
           "showland": true,
           "subunitcolor": "white"
          },
          "hoverlabel": {
           "align": "left"
          },
          "hovermode": "closest",
          "mapbox": {
           "style": "light"
          },
          "paper_bgcolor": "white",
          "plot_bgcolor": "#E5ECF6",
          "polar": {
           "angularaxis": {
            "gridcolor": "white",
            "linecolor": "white",
            "ticks": ""
           },
           "bgcolor": "#E5ECF6",
           "radialaxis": {
            "gridcolor": "white",
            "linecolor": "white",
            "ticks": ""
           }
          },
          "scene": {
           "xaxis": {
            "backgroundcolor": "#E5ECF6",
            "gridcolor": "white",
            "gridwidth": 2,
            "linecolor": "white",
            "showbackground": true,
            "ticks": "",
            "zerolinecolor": "white"
           },
           "yaxis": {
            "backgroundcolor": "#E5ECF6",
            "gridcolor": "white",
            "gridwidth": 2,
            "linecolor": "white",
            "showbackground": true,
            "ticks": "",
            "zerolinecolor": "white"
           },
           "zaxis": {
            "backgroundcolor": "#E5ECF6",
            "gridcolor": "white",
            "gridwidth": 2,
            "linecolor": "white",
            "showbackground": true,
            "ticks": "",
            "zerolinecolor": "white"
           }
          },
          "shapedefaults": {
           "line": {
            "color": "#2a3f5f"
           }
          },
          "ternary": {
           "aaxis": {
            "gridcolor": "white",
            "linecolor": "white",
            "ticks": ""
           },
           "baxis": {
            "gridcolor": "white",
            "linecolor": "white",
            "ticks": ""
           },
           "bgcolor": "#E5ECF6",
           "caxis": {
            "gridcolor": "white",
            "linecolor": "white",
            "ticks": ""
           }
          },
          "title": {
           "x": 0.05
          },
          "xaxis": {
           "automargin": true,
           "gridcolor": "white",
           "linecolor": "white",
           "ticks": "",
           "title": {
            "standoff": 15
           },
           "zerolinecolor": "white",
           "zerolinewidth": 2
          },
          "yaxis": {
           "automargin": true,
           "gridcolor": "white",
           "linecolor": "white",
           "ticks": "",
           "title": {
            "standoff": 15
           },
           "zerolinecolor": "white",
           "zerolinewidth": 2
          }
         }
        },
        "title": {
         "text": "Hours timeline"
        },
        "xaxis": {
         "anchor": "y",
         "domain": [
          0,
          1
         ],
         "rangeslider": {
          "visible": true
         },
         "title": {
          "text": "Hours"
         }
        },
        "yaxis": {
         "anchor": "x",
         "domain": [
          0,
          1
         ],
         "title": {
          "text": "Message count"
         }
        }
       }
      }
     },
     "metadata": {},
     "output_type": "display_data"
    },
    {
     "data": {
      "application/vnd.plotly.v1+json": {
       "config": {
        "plotlyServerURL": "https://plot.ly"
       },
       "data": [
        {
         "alignmentgroup": "True",
         "customdata": [
          [
           "No specific discussion"
          ],
          [
           "No specific discussion"
          ],
          [
           "No specific discussion"
          ],
          [
           "No specific discussion"
          ],
          [
           "No specific discussion"
          ],
          [
           "No specific discussion"
          ],
          [
           "No specific discussion"
          ],
          [
           "No specific discussion"
          ],
          [
           "No specific discussion"
          ],
          [
           "No specific discussion"
          ],
          [
           "No specific discussion"
          ],
          [
           "No specific discussion"
          ],
          [
           "No specific discussion"
          ],
          [
           "No specific discussion"
          ],
          [
           "No specific discussion"
          ],
          [
           "No specific discussion"
          ],
          [
           "No specific discussion"
          ],
          [
           "No specific discussion"
          ],
          [
           "No specific discussion"
          ],
          [
           "No specific discussion"
          ],
          [
           "No specific discussion"
          ],
          [
           "No specific discussion"
          ],
          [
           "No specific discussion"
          ],
          [
           "No specific discussion"
          ],
          [
           "No specific discussion"
          ],
          [
           "No specific discussion"
          ],
          [
           "No specific discussion"
          ],
          [
           "No specific discussion"
          ],
          [
           "No specific discussion"
          ],
          [
           "No specific discussion"
          ],
          [
           "No specific discussion"
          ],
          [
           "No specific discussion"
          ],
          [
           "No specific discussion"
          ],
          [
           "No specific discussion"
          ],
          [
           "No specific discussion"
          ],
          [
           "No specific discussion"
          ],
          [
           "No specific discussion"
          ],
          [
           "No specific discussion"
          ],
          [
           "No specific discussion"
          ],
          [
           "No specific discussion"
          ],
          [
           "No specific discussion"
          ],
          [
           "No specific discussion"
          ],
          [
           "No specific discussion"
          ],
          [
           "No specific discussion"
          ],
          [
           "No specific discussion"
          ],
          [
           "No specific discussion"
          ],
          [
           "No specific discussion"
          ],
          [
           "No specific discussion"
          ],
          [
           "No specific discussion"
          ],
          [
           "No specific discussion"
          ],
          [
           "No specific discussion"
          ],
          [
           "No specific discussion"
          ],
          [
           "No specific discussion"
          ],
          [
           "No specific discussion"
          ],
          [
           "No specific discussion"
          ],
          [
           "No specific discussion"
          ],
          [
           "No specific discussion"
          ],
          [
           "No specific discussion"
          ],
          [
           "No specific discussion"
          ],
          [
           "No specific discussion"
          ],
          [
           "No specific discussion"
          ],
          [
           "No specific discussion"
          ],
          [
           "No specific discussion"
          ],
          [
           "No specific discussion"
          ],
          [
           "No specific discussion"
          ],
          [
           "No specific discussion"
          ],
          [
           "No specific discussion"
          ],
          [
           "No specific discussion"
          ],
          [
           "No specific discussion"
          ],
          [
           "No specific discussion"
          ],
          [
           "No specific discussion"
          ],
          [
           "No specific discussion"
          ],
          [
           "No specific discussion"
          ],
          [
           "No specific discussion"
          ],
          [
           "No specific discussion"
          ],
          [
           "No specific discussion"
          ],
          [
           "No specific discussion"
          ],
          [
           "No specific discussion"
          ],
          [
           "No specific discussion"
          ],
          [
           "No specific discussion"
          ],
          [
           "No specific discussion"
          ],
          [
           "No specific discussion"
          ],
          [
           "No specific discussion"
          ],
          [
           "No specific discussion"
          ],
          [
           "No specific discussion"
          ],
          [
           "No specific discussion"
          ],
          [
           "No specific discussion"
          ],
          [
           "No specific discussion"
          ],
          [
           "No specific discussion"
          ],
          [
           "No specific discussion"
          ],
          [
           "No specific discussion"
          ],
          [
           "No specific discussion"
          ],
          [
           "No specific discussion"
          ],
          [
           "No specific discussion"
          ],
          [
           "No specific discussion"
          ],
          [
           "No specific discussion"
          ],
          [
           "No specific discussion"
          ],
          [
           "No specific discussion"
          ],
          [
           "No specific discussion"
          ],
          [
           "No specific discussion"
          ],
          [
           "No specific discussion"
          ],
          [
           "No specific discussion"
          ],
          [
           "No specific discussion"
          ],
          [
           "No specific discussion"
          ],
          [
           "No specific discussion"
          ],
          [
           "No specific discussion"
          ],
          [
           "No specific discussion"
          ],
          [
           "No specific discussion"
          ],
          [
           "No specific discussion"
          ],
          [
           "No specific discussion"
          ],
          [
           "media"
          ],
          [
           "project"
          ],
          [
           "project"
          ],
          [
           "No specific discussion"
          ],
          [
           "dear"
          ],
          [
           "dear"
          ],
          [
           "No specific discussion"
          ],
          [
           "No specific discussion"
          ],
          [
           "No specific discussion"
          ],
          [
           "No specific discussion"
          ],
          [
           "No specific discussion"
          ],
          [
           "No specific discussion"
          ],
          [
           "No specific discussion"
          ],
          [
           "No specific discussion"
          ],
          [
           "No specific discussion"
          ],
          [
           "media"
          ],
          [
           "media"
          ],
          [
           "students"
          ],
          [
           "No specific discussion"
          ],
          [
           "No specific discussion"
          ],
          [
           "No specific discussion"
          ],
          [
           "No specific discussion"
          ],
          [
           "No specific discussion"
          ],
          [
           "No specific discussion"
          ],
          [
           "No specific discussion"
          ],
          [
           "No specific discussion"
          ],
          [
           "No specific discussion"
          ],
          [
           "No specific discussion"
          ],
          [
           "No specific discussion"
          ],
          [
           "No specific discussion"
          ],
          [
           "No specific discussion"
          ],
          [
           "No specific discussion"
          ],
          [
           "No specific discussion"
          ],
          [
           "No specific discussion"
          ],
          [
           "No specific discussion"
          ],
          [
           "No specific discussion"
          ],
          [
           "No specific discussion"
          ],
          [
           "No specific discussion"
          ],
          [
           "No specific discussion"
          ],
          [
           "No specific discussion"
          ],
          [
           "No specific discussion"
          ],
          [
           "No specific discussion"
          ],
          [
           "No specific discussion"
          ],
          [
           "No specific discussion"
          ],
          [
           "No specific discussion"
          ],
          [
           "No specific discussion"
          ],
          [
           "No specific discussion"
          ],
          [
           "No specific discussion"
          ],
          [
           "No specific discussion"
          ],
          [
           "No specific discussion"
          ],
          [
           "No specific discussion"
          ],
          [
           "No specific discussion"
          ],
          [
           "No specific discussion"
          ],
          [
           "No specific discussion"
          ],
          [
           "No specific discussion"
          ],
          [
           "No specific discussion"
          ],
          [
           "No specific discussion"
          ],
          [
           "No specific discussion"
          ],
          [
           "No specific discussion"
          ],
          [
           "No specific discussion"
          ],
          [
           "No specific discussion"
          ],
          [
           "No specific discussion"
          ],
          [
           "No specific discussion"
          ],
          [
           "No specific discussion"
          ],
          [
           "No specific discussion"
          ],
          [
           "media"
          ],
          [
           "media"
          ],
          [
           "No specific discussion"
          ],
          [
           "No specific discussion"
          ],
          [
           "No specific discussion"
          ],
          [
           "No specific discussion"
          ],
          [
           "No specific discussion"
          ],
          [
           "No specific discussion"
          ],
          [
           "No specific discussion"
          ],
          [
           "No specific discussion"
          ],
          [
           "No specific discussion"
          ],
          [
           "No specific discussion"
          ],
          [
           "No specific discussion"
          ],
          [
           "No specific discussion"
          ],
          [
           "No specific discussion"
          ],
          [
           "No specific discussion"
          ],
          [
           "No specific discussion"
          ],
          [
           "No specific discussion"
          ],
          [
           "No specific discussion"
          ],
          [
           "No specific discussion"
          ],
          [
           "No specific discussion"
          ],
          [
           "No specific discussion"
          ],
          [
           "No specific discussion"
          ],
          [
           "No specific discussion"
          ],
          [
           "No specific discussion"
          ],
          [
           "No specific discussion"
          ],
          [
           "No specific discussion"
          ],
          [
           "No specific discussion"
          ],
          [
           "No specific discussion"
          ],
          [
           "No specific discussion"
          ],
          [
           "No specific discussion"
          ],
          [
           "No specific discussion"
          ],
          [
           "No specific discussion"
          ],
          [
           "No specific discussion"
          ],
          [
           "No specific discussion"
          ],
          [
           "No specific discussion"
          ],
          [
           "No specific discussion"
          ],
          [
           "No specific discussion"
          ],
          [
           "No specific discussion"
          ],
          [
           "No specific discussion"
          ],
          [
           "No specific discussion"
          ],
          [
           "No specific discussion"
          ],
          [
           "No specific discussion"
          ],
          [
           "No specific discussion"
          ],
          [
           "No specific discussion"
          ],
          [
           "No specific discussion"
          ],
          [
           "No specific discussion"
          ],
          [
           "No specific discussion"
          ],
          [
           "No specific discussion"
          ],
          [
           "No specific discussion"
          ],
          [
           "No specific discussion"
          ],
          [
           "No specific discussion"
          ],
          [
           "No specific discussion"
          ],
          [
           "No specific discussion"
          ],
          [
           "No specific discussion"
          ],
          [
           "No specific discussion"
          ],
          [
           "No specific discussion"
          ],
          [
           "No specific discussion"
          ],
          [
           "No specific discussion"
          ],
          [
           "No specific discussion"
          ],
          [
           "No specific discussion"
          ],
          [
           "No specific discussion"
          ],
          [
           "No specific discussion"
          ],
          [
           "No specific discussion"
          ],
          [
           "No specific discussion"
          ],
          [
           "No specific discussion"
          ],
          [
           "No specific discussion"
          ],
          [
           "No specific discussion"
          ],
          [
           "No specific discussion"
          ],
          [
           "No specific discussion"
          ],
          [
           "No specific discussion"
          ],
          [
           "No specific discussion"
          ],
          [
           "No specific discussion"
          ],
          [
           "No specific discussion"
          ],
          [
           "No specific discussion"
          ],
          [
           "No specific discussion"
          ],
          [
           "No specific discussion"
          ],
          [
           "No specific discussion"
          ],
          [
           "No specific discussion"
          ],
          [
           "No specific discussion"
          ],
          [
           "No specific discussion"
          ],
          [
           "No specific discussion"
          ],
          [
           "No specific discussion"
          ],
          [
           "No specific discussion"
          ],
          [
           "No specific discussion"
          ],
          [
           "No specific discussion"
          ],
          [
           "No specific discussion"
          ],
          [
           "No specific discussion"
          ],
          [
           "No specific discussion"
          ],
          [
           "No specific discussion"
          ],
          [
           "No specific discussion"
          ],
          [
           "No specific discussion"
          ],
          [
           "No specific discussion"
          ],
          [
           "No specific discussion"
          ],
          [
           "No specific discussion"
          ],
          [
           "No specific discussion"
          ],
          [
           "No specific discussion"
          ],
          [
           "No specific discussion"
          ],
          [
           "No specific discussion"
          ],
          [
           "No specific discussion"
          ],
          [
           "No specific discussion"
          ],
          [
           "No specific discussion"
          ],
          [
           "No specific discussion"
          ],
          [
           "No specific discussion"
          ],
          [
           "No specific discussion"
          ],
          [
           "No specific discussion"
          ],
          [
           "No specific discussion"
          ],
          [
           "No specific discussion"
          ],
          [
           "No specific discussion"
          ],
          [
           "No specific discussion"
          ],
          [
           "No specific discussion"
          ],
          [
           "No specific discussion"
          ],
          [
           "No specific discussion"
          ],
          [
           "No specific discussion"
          ],
          [
           "No specific discussion"
          ],
          [
           "No specific discussion"
          ],
          [
           "No specific discussion"
          ],
          [
           "No specific discussion"
          ],
          [
           "No specific discussion"
          ],
          [
           "No specific discussion"
          ],
          [
           "No specific discussion"
          ],
          [
           "No specific discussion"
          ],
          [
           "No specific discussion"
          ],
          [
           "No specific discussion"
          ],
          [
           "No specific discussion"
          ],
          [
           "No specific discussion"
          ],
          [
           "No specific discussion"
          ],
          [
           "No specific discussion"
          ],
          [
           "No specific discussion"
          ],
          [
           "No specific discussion"
          ],
          [
           "No specific discussion"
          ],
          [
           "No specific discussion"
          ],
          [
           "No specific discussion"
          ],
          [
           "No specific discussion"
          ],
          [
           "No specific discussion"
          ],
          [
           "No specific discussion"
          ],
          [
           "No specific discussion"
          ],
          [
           "No specific discussion"
          ],
          [
           "No specific discussion"
          ],
          [
           "No specific discussion"
          ],
          [
           "No specific discussion"
          ],
          [
           "No specific discussion"
          ],
          [
           "No specific discussion"
          ],
          [
           "No specific discussion"
          ],
          [
           "No specific discussion"
          ],
          [
           "No specific discussion"
          ],
          [
           "No specific discussion"
          ],
          [
           "No specific discussion"
          ],
          [
           "No specific discussion"
          ],
          [
           "No specific discussion"
          ],
          [
           "No specific discussion"
          ],
          [
           "No specific discussion"
          ],
          [
           "No specific discussion"
          ],
          [
           "No specific discussion"
          ],
          [
           "No specific discussion"
          ],
          [
           "No specific discussion"
          ],
          [
           "No specific discussion"
          ],
          [
           "No specific discussion"
          ],
          [
           "No specific discussion"
          ],
          [
           "No specific discussion"
          ],
          [
           "No specific discussion"
          ],
          [
           "No specific discussion"
          ],
          [
           "No specific discussion"
          ],
          [
           "No specific discussion"
          ],
          [
           "No specific discussion"
          ],
          [
           "No specific discussion"
          ],
          [
           "No specific discussion"
          ],
          [
           "No specific discussion"
          ],
          [
           "No specific discussion"
          ],
          [
           "No specific discussion"
          ],
          [
           "No specific discussion"
          ],
          [
           "No specific discussion"
          ],
          [
           "No specific discussion"
          ],
          [
           "No specific discussion"
          ],
          [
           "No specific discussion"
          ]
         ],
         "hovertemplate": "Minutes=%{x}<br>Message count=%{y}<br>Discussion=%{customdata[0]}<extra></extra>",
         "legendgroup": "",
         "marker": {
          "color": "yellow",
          "line": {
           "width": 2
          },
          "pattern": {
           "shape": ""
          }
         },
         "name": "",
         "offsetgroup": "",
         "opacity": 1,
         "orientation": "v",
         "showlegend": false,
         "text": [
          "No specific discussion",
          "No specific discussion",
          "No specific discussion",
          "No specific discussion",
          "No specific discussion",
          "No specific discussion",
          "No specific discussion",
          "No specific discussion",
          "No specific discussion",
          "No specific discussion",
          "No specific discussion",
          "No specific discussion",
          "No specific discussion",
          "No specific discussion",
          "No specific discussion",
          "No specific discussion",
          "No specific discussion",
          "No specific discussion",
          "No specific discussion",
          "No specific discussion",
          "No specific discussion",
          "No specific discussion",
          "No specific discussion",
          "No specific discussion",
          "No specific discussion",
          "No specific discussion",
          "No specific discussion",
          "No specific discussion",
          "No specific discussion",
          "No specific discussion",
          "No specific discussion",
          "No specific discussion",
          "No specific discussion",
          "No specific discussion",
          "No specific discussion",
          "No specific discussion",
          "No specific discussion",
          "No specific discussion",
          "No specific discussion",
          "No specific discussion",
          "No specific discussion",
          "No specific discussion",
          "No specific discussion",
          "No specific discussion",
          "No specific discussion",
          "No specific discussion",
          "No specific discussion",
          "No specific discussion",
          "No specific discussion",
          "No specific discussion",
          "No specific discussion",
          "No specific discussion",
          "No specific discussion",
          "No specific discussion",
          "No specific discussion",
          "No specific discussion",
          "No specific discussion",
          "No specific discussion",
          "No specific discussion",
          "No specific discussion",
          "No specific discussion",
          "No specific discussion",
          "No specific discussion",
          "No specific discussion",
          "No specific discussion",
          "No specific discussion",
          "No specific discussion",
          "No specific discussion",
          "No specific discussion",
          "No specific discussion",
          "No specific discussion",
          "No specific discussion",
          "No specific discussion",
          "No specific discussion",
          "No specific discussion",
          "No specific discussion",
          "No specific discussion",
          "No specific discussion",
          "No specific discussion",
          "No specific discussion",
          "No specific discussion",
          "No specific discussion",
          "No specific discussion",
          "No specific discussion",
          "No specific discussion",
          "No specific discussion",
          "No specific discussion",
          "No specific discussion",
          "No specific discussion",
          "No specific discussion",
          "No specific discussion",
          "No specific discussion",
          "No specific discussion",
          "No specific discussion",
          "No specific discussion",
          "No specific discussion",
          "No specific discussion",
          "No specific discussion",
          "No specific discussion",
          "No specific discussion",
          "No specific discussion",
          "No specific discussion",
          "No specific discussion",
          "No specific discussion",
          "No specific discussion",
          "No specific discussion",
          "No specific discussion",
          "No specific discussion",
          "No specific discussion",
          "No specific discussion",
          "media",
          "project",
          "project",
          "No specific discussion",
          "dear",
          "dear",
          "No specific discussion",
          "No specific discussion",
          "No specific discussion",
          "No specific discussion",
          "No specific discussion",
          "No specific discussion",
          "No specific discussion",
          "No specific discussion",
          "No specific discussion",
          "media",
          "media",
          "students",
          "No specific discussion",
          "No specific discussion",
          "No specific discussion",
          "No specific discussion",
          "No specific discussion",
          "No specific discussion",
          "No specific discussion",
          "No specific discussion",
          "No specific discussion",
          "No specific discussion",
          "No specific discussion",
          "No specific discussion",
          "No specific discussion",
          "No specific discussion",
          "No specific discussion",
          "No specific discussion",
          "No specific discussion",
          "No specific discussion",
          "No specific discussion",
          "No specific discussion",
          "No specific discussion",
          "No specific discussion",
          "No specific discussion",
          "No specific discussion",
          "No specific discussion",
          "No specific discussion",
          "No specific discussion",
          "No specific discussion",
          "No specific discussion",
          "No specific discussion",
          "No specific discussion",
          "No specific discussion",
          "No specific discussion",
          "No specific discussion",
          "No specific discussion",
          "No specific discussion",
          "No specific discussion",
          "No specific discussion",
          "No specific discussion",
          "No specific discussion",
          "No specific discussion",
          "No specific discussion",
          "No specific discussion",
          "No specific discussion",
          "No specific discussion",
          "No specific discussion",
          "No specific discussion",
          "media",
          "media",
          "No specific discussion",
          "No specific discussion",
          "No specific discussion",
          "No specific discussion",
          "No specific discussion",
          "No specific discussion",
          "No specific discussion",
          "No specific discussion",
          "No specific discussion",
          "No specific discussion",
          "No specific discussion",
          "No specific discussion",
          "No specific discussion",
          "No specific discussion",
          "No specific discussion",
          "No specific discussion",
          "No specific discussion",
          "No specific discussion",
          "No specific discussion",
          "No specific discussion",
          "No specific discussion",
          "No specific discussion",
          "No specific discussion",
          "No specific discussion",
          "No specific discussion",
          "No specific discussion",
          "No specific discussion",
          "No specific discussion",
          "No specific discussion",
          "No specific discussion",
          "No specific discussion",
          "No specific discussion",
          "No specific discussion",
          "No specific discussion",
          "No specific discussion",
          "No specific discussion",
          "No specific discussion",
          "No specific discussion",
          "No specific discussion",
          "No specific discussion",
          "No specific discussion",
          "No specific discussion",
          "No specific discussion",
          "No specific discussion",
          "No specific discussion",
          "No specific discussion",
          "No specific discussion",
          "No specific discussion",
          "No specific discussion",
          "No specific discussion",
          "No specific discussion",
          "No specific discussion",
          "No specific discussion",
          "No specific discussion",
          "No specific discussion",
          "No specific discussion",
          "No specific discussion",
          "No specific discussion",
          "No specific discussion",
          "No specific discussion",
          "No specific discussion",
          "No specific discussion",
          "No specific discussion",
          "No specific discussion",
          "No specific discussion",
          "No specific discussion",
          "No specific discussion",
          "No specific discussion",
          "No specific discussion",
          "No specific discussion",
          "No specific discussion",
          "No specific discussion",
          "No specific discussion",
          "No specific discussion",
          "No specific discussion",
          "No specific discussion",
          "No specific discussion",
          "No specific discussion",
          "No specific discussion",
          "No specific discussion",
          "No specific discussion",
          "No specific discussion",
          "No specific discussion",
          "No specific discussion",
          "No specific discussion",
          "No specific discussion",
          "No specific discussion",
          "No specific discussion",
          "No specific discussion",
          "No specific discussion",
          "No specific discussion",
          "No specific discussion",
          "No specific discussion",
          "No specific discussion",
          "No specific discussion",
          "No specific discussion",
          "No specific discussion",
          "No specific discussion",
          "No specific discussion",
          "No specific discussion",
          "No specific discussion",
          "No specific discussion",
          "No specific discussion",
          "No specific discussion",
          "No specific discussion",
          "No specific discussion",
          "No specific discussion",
          "No specific discussion",
          "No specific discussion",
          "No specific discussion",
          "No specific discussion",
          "No specific discussion",
          "No specific discussion",
          "No specific discussion",
          "No specific discussion",
          "No specific discussion",
          "No specific discussion",
          "No specific discussion",
          "No specific discussion",
          "No specific discussion",
          "No specific discussion",
          "No specific discussion",
          "No specific discussion",
          "No specific discussion",
          "No specific discussion",
          "No specific discussion",
          "No specific discussion",
          "No specific discussion",
          "No specific discussion",
          "No specific discussion",
          "No specific discussion",
          "No specific discussion",
          "No specific discussion",
          "No specific discussion",
          "No specific discussion",
          "No specific discussion",
          "No specific discussion",
          "No specific discussion",
          "No specific discussion",
          "No specific discussion",
          "No specific discussion",
          "No specific discussion",
          "No specific discussion",
          "No specific discussion",
          "No specific discussion",
          "No specific discussion",
          "No specific discussion",
          "No specific discussion",
          "No specific discussion",
          "No specific discussion",
          "No specific discussion",
          "No specific discussion",
          "No specific discussion",
          "No specific discussion",
          "No specific discussion",
          "No specific discussion",
          "No specific discussion",
          "No specific discussion",
          "No specific discussion",
          "No specific discussion",
          "No specific discussion",
          "No specific discussion",
          "No specific discussion",
          "No specific discussion",
          "No specific discussion",
          "No specific discussion",
          "No specific discussion",
          "No specific discussion",
          "No specific discussion",
          "No specific discussion",
          "No specific discussion",
          "No specific discussion",
          "No specific discussion"
         ],
         "textposition": "auto",
         "type": "bar",
         "x": [
          "2023-08-22T10:00:00",
          "2023-08-22T10:01:00",
          "2023-08-22T10:02:00",
          "2023-08-22T10:03:00",
          "2023-08-22T10:04:00",
          "2023-08-22T10:05:00",
          "2023-08-22T10:06:00",
          "2023-08-22T10:07:00",
          "2023-08-22T10:08:00",
          "2023-08-22T10:09:00",
          "2023-08-22T10:10:00",
          "2023-08-22T10:11:00",
          "2023-08-22T10:12:00",
          "2023-08-22T10:13:00",
          "2023-08-22T10:14:00",
          "2023-08-22T10:15:00",
          "2023-08-22T10:16:00",
          "2023-08-22T10:17:00",
          "2023-08-22T10:18:00",
          "2023-08-22T10:19:00",
          "2023-08-22T10:20:00",
          "2023-08-22T10:21:00",
          "2023-08-22T10:22:00",
          "2023-08-22T10:23:00",
          "2023-08-22T10:24:00",
          "2023-08-22T10:25:00",
          "2023-08-22T10:26:00",
          "2023-08-22T10:27:00",
          "2023-08-22T10:28:00",
          "2023-08-22T10:29:00",
          "2023-08-22T10:30:00",
          "2023-08-22T10:31:00",
          "2023-08-22T10:32:00",
          "2023-08-22T10:33:00",
          "2023-08-22T10:34:00",
          "2023-08-22T10:35:00",
          "2023-08-22T10:36:00",
          "2023-08-22T10:37:00",
          "2023-08-22T10:38:00",
          "2023-08-22T10:39:00",
          "2023-08-22T10:40:00",
          "2023-08-22T10:41:00",
          "2023-08-22T10:42:00",
          "2023-08-22T10:43:00",
          "2023-08-22T10:44:00",
          "2023-08-22T10:45:00",
          "2023-08-22T10:46:00",
          "2023-08-22T10:47:00",
          "2023-08-22T10:48:00",
          "2023-08-22T10:49:00",
          "2023-08-22T10:50:00",
          "2023-08-22T10:51:00",
          "2023-08-22T10:52:00",
          "2023-08-22T10:53:00",
          "2023-08-22T10:54:00",
          "2023-08-22T10:55:00",
          "2023-08-22T10:56:00",
          "2023-08-22T10:57:00",
          "2023-08-22T10:58:00",
          "2023-08-22T10:59:00",
          "2023-08-22T11:00:00",
          "2023-08-22T11:01:00",
          "2023-08-22T11:02:00",
          "2023-08-22T11:03:00",
          "2023-08-22T11:04:00",
          "2023-08-22T11:05:00",
          "2023-08-22T11:06:00",
          "2023-08-22T11:07:00",
          "2023-08-22T11:08:00",
          "2023-08-22T11:09:00",
          "2023-08-22T11:10:00",
          "2023-08-22T11:11:00",
          "2023-08-22T11:12:00",
          "2023-08-22T11:13:00",
          "2023-08-22T11:14:00",
          "2023-08-22T11:15:00",
          "2023-08-22T11:16:00",
          "2023-08-22T11:17:00",
          "2023-08-22T11:18:00",
          "2023-08-22T11:19:00",
          "2023-08-22T11:20:00",
          "2023-08-22T11:21:00",
          "2023-08-22T11:22:00",
          "2023-08-22T11:23:00",
          "2023-08-22T11:24:00",
          "2023-08-22T11:25:00",
          "2023-08-22T11:26:00",
          "2023-08-22T11:27:00",
          "2023-08-22T11:28:00",
          "2023-08-22T11:29:00",
          "2023-08-22T11:30:00",
          "2023-08-22T11:31:00",
          "2023-08-22T11:32:00",
          "2023-08-22T11:33:00",
          "2023-08-22T11:34:00",
          "2023-08-22T11:35:00",
          "2023-08-22T11:36:00",
          "2023-08-22T11:37:00",
          "2023-08-22T11:38:00",
          "2023-08-22T11:39:00",
          "2023-08-22T11:40:00",
          "2023-08-22T11:41:00",
          "2023-08-22T11:42:00",
          "2023-08-22T11:43:00",
          "2023-08-22T11:44:00",
          "2023-08-22T11:45:00",
          "2023-08-22T11:46:00",
          "2023-08-22T11:47:00",
          "2023-08-22T11:48:00",
          "2023-08-22T11:49:00",
          "2023-08-22T11:50:00",
          "2023-08-22T11:51:00",
          "2023-08-22T11:52:00",
          "2023-08-22T11:53:00",
          "2023-08-22T11:54:00",
          "2023-08-22T11:55:00",
          "2023-08-22T11:56:00",
          "2023-08-22T11:57:00",
          "2023-08-22T11:58:00",
          "2023-08-22T11:59:00",
          "2023-08-22T12:00:00",
          "2023-08-22T12:01:00",
          "2023-08-22T12:02:00",
          "2023-08-22T12:03:00",
          "2023-08-22T12:04:00",
          "2023-08-22T12:05:00",
          "2023-08-22T12:06:00",
          "2023-08-22T12:07:00",
          "2023-08-22T12:08:00",
          "2023-08-22T12:09:00",
          "2023-08-22T12:10:00",
          "2023-08-22T12:11:00",
          "2023-08-22T12:12:00",
          "2023-08-22T12:13:00",
          "2023-08-22T12:14:00",
          "2023-08-22T12:15:00",
          "2023-08-22T12:16:00",
          "2023-08-22T12:17:00",
          "2023-08-22T12:18:00",
          "2023-08-22T12:19:00",
          "2023-08-22T12:20:00",
          "2023-08-22T12:21:00",
          "2023-08-22T12:22:00",
          "2023-08-22T12:23:00",
          "2023-08-22T12:24:00",
          "2023-08-22T12:25:00",
          "2023-08-22T12:26:00",
          "2023-08-22T12:27:00",
          "2023-08-22T12:28:00",
          "2023-08-22T12:29:00",
          "2023-08-22T12:30:00",
          "2023-08-22T12:31:00",
          "2023-08-22T12:32:00",
          "2023-08-22T12:33:00",
          "2023-08-22T12:34:00",
          "2023-08-22T12:35:00",
          "2023-08-22T12:36:00",
          "2023-08-22T12:37:00",
          "2023-08-22T12:38:00",
          "2023-08-22T12:39:00",
          "2023-08-22T12:40:00",
          "2023-08-22T12:41:00",
          "2023-08-22T12:42:00",
          "2023-08-22T12:43:00",
          "2023-08-22T12:44:00",
          "2023-08-22T12:45:00",
          "2023-08-22T12:46:00",
          "2023-08-22T12:47:00",
          "2023-08-22T12:48:00",
          "2023-08-22T12:49:00",
          "2023-08-22T12:50:00",
          "2023-08-22T12:51:00",
          "2023-08-22T12:52:00",
          "2023-08-22T12:53:00",
          "2023-08-22T12:54:00",
          "2023-08-22T12:55:00",
          "2023-08-22T12:56:00",
          "2023-08-22T12:57:00",
          "2023-08-22T12:58:00",
          "2023-08-22T12:59:00",
          "2023-08-22T13:00:00",
          "2023-08-22T13:01:00",
          "2023-08-22T13:02:00",
          "2023-08-22T13:03:00",
          "2023-08-22T13:04:00",
          "2023-08-22T13:05:00",
          "2023-08-22T13:06:00",
          "2023-08-22T13:07:00",
          "2023-08-22T13:08:00",
          "2023-08-22T13:09:00",
          "2023-08-22T13:10:00",
          "2023-08-22T13:11:00",
          "2023-08-22T13:12:00",
          "2023-08-22T13:13:00",
          "2023-08-22T13:14:00",
          "2023-08-22T13:15:00",
          "2023-08-22T13:16:00",
          "2023-08-22T13:17:00",
          "2023-08-22T13:18:00",
          "2023-08-22T13:19:00",
          "2023-08-22T13:20:00",
          "2023-08-22T13:21:00",
          "2023-08-22T13:22:00",
          "2023-08-22T13:23:00",
          "2023-08-22T13:24:00",
          "2023-08-22T13:25:00",
          "2023-08-22T13:26:00",
          "2023-08-22T13:27:00",
          "2023-08-22T13:28:00",
          "2023-08-22T13:29:00",
          "2023-08-22T13:30:00",
          "2023-08-22T13:31:00",
          "2023-08-22T13:32:00",
          "2023-08-22T13:33:00",
          "2023-08-22T13:34:00",
          "2023-08-22T13:35:00",
          "2023-08-22T13:36:00",
          "2023-08-22T13:37:00",
          "2023-08-22T13:38:00",
          "2023-08-22T13:39:00",
          "2023-08-22T13:40:00",
          "2023-08-22T13:41:00",
          "2023-08-22T13:42:00",
          "2023-08-22T13:43:00",
          "2023-08-22T13:44:00",
          "2023-08-22T13:45:00",
          "2023-08-22T13:46:00",
          "2023-08-22T13:47:00",
          "2023-08-22T13:48:00",
          "2023-08-22T13:49:00",
          "2023-08-22T13:50:00",
          "2023-08-22T13:51:00",
          "2023-08-22T13:52:00",
          "2023-08-22T13:53:00",
          "2023-08-22T13:54:00",
          "2023-08-22T13:55:00",
          "2023-08-22T13:56:00",
          "2023-08-22T13:57:00",
          "2023-08-22T13:58:00",
          "2023-08-22T13:59:00",
          "2023-08-22T14:00:00",
          "2023-08-22T14:01:00",
          "2023-08-22T14:02:00",
          "2023-08-22T14:03:00",
          "2023-08-22T14:04:00",
          "2023-08-22T14:05:00",
          "2023-08-22T14:06:00",
          "2023-08-22T14:07:00",
          "2023-08-22T14:08:00",
          "2023-08-22T14:09:00",
          "2023-08-22T14:10:00",
          "2023-08-22T14:11:00",
          "2023-08-22T14:12:00",
          "2023-08-22T14:13:00",
          "2023-08-22T14:14:00",
          "2023-08-22T14:15:00",
          "2023-08-22T14:16:00",
          "2023-08-22T14:17:00",
          "2023-08-22T14:18:00",
          "2023-08-22T14:19:00",
          "2023-08-22T14:20:00",
          "2023-08-22T14:21:00",
          "2023-08-22T14:22:00",
          "2023-08-22T14:23:00",
          "2023-08-22T14:24:00",
          "2023-08-22T14:25:00",
          "2023-08-22T14:26:00",
          "2023-08-22T14:27:00",
          "2023-08-22T14:28:00",
          "2023-08-22T14:29:00",
          "2023-08-22T14:30:00",
          "2023-08-22T14:31:00",
          "2023-08-22T14:32:00",
          "2023-08-22T14:33:00",
          "2023-08-22T14:34:00",
          "2023-08-22T14:35:00",
          "2023-08-22T14:36:00",
          "2023-08-22T14:37:00",
          "2023-08-22T14:38:00",
          "2023-08-22T14:39:00",
          "2023-08-22T14:40:00",
          "2023-08-22T14:41:00",
          "2023-08-22T14:42:00",
          "2023-08-22T14:43:00",
          "2023-08-22T14:44:00",
          "2023-08-22T14:45:00",
          "2023-08-22T14:46:00",
          "2023-08-22T14:47:00",
          "2023-08-22T14:48:00",
          "2023-08-22T14:49:00",
          "2023-08-22T14:50:00",
          "2023-08-22T14:51:00",
          "2023-08-22T14:52:00",
          "2023-08-22T14:53:00",
          "2023-08-22T14:54:00",
          "2023-08-22T14:55:00",
          "2023-08-22T14:56:00",
          "2023-08-22T14:57:00",
          "2023-08-22T14:58:00",
          "2023-08-22T14:59:00",
          "2023-08-22T15:00:00",
          "2023-08-22T15:01:00",
          "2023-08-22T15:02:00",
          "2023-08-22T15:03:00",
          "2023-08-22T15:04:00",
          "2023-08-22T15:05:00",
          "2023-08-22T15:06:00",
          "2023-08-22T15:07:00",
          "2023-08-22T15:08:00",
          "2023-08-22T15:09:00",
          "2023-08-22T15:10:00",
          "2023-08-22T15:11:00",
          "2023-08-22T15:12:00",
          "2023-08-22T15:13:00",
          "2023-08-22T15:14:00",
          "2023-08-22T15:15:00",
          "2023-08-22T15:16:00",
          "2023-08-22T15:17:00",
          "2023-08-22T15:18:00",
          "2023-08-22T15:19:00",
          "2023-08-22T15:20:00",
          "2023-08-22T15:21:00",
          "2023-08-22T15:22:00",
          "2023-08-22T15:23:00",
          "2023-08-22T15:24:00",
          "2023-08-22T15:25:00",
          "2023-08-22T15:26:00",
          "2023-08-22T15:27:00",
          "2023-08-22T15:28:00",
          "2023-08-22T15:29:00",
          "2023-08-22T15:30:00",
          "2023-08-22T15:31:00",
          "2023-08-22T15:32:00",
          "2023-08-22T15:33:00",
          "2023-08-22T15:34:00",
          "2023-08-22T15:35:00",
          "2023-08-22T15:36:00",
          "2023-08-22T15:37:00",
          "2023-08-22T15:38:00",
          "2023-08-22T15:39:00",
          "2023-08-22T15:40:00",
          "2023-08-22T15:41:00",
          "2023-08-22T15:42:00",
          "2023-08-22T15:43:00",
          "2023-08-22T15:44:00",
          "2023-08-22T15:45:00",
          "2023-08-22T15:46:00",
          "2023-08-22T15:47:00",
          "2023-08-22T15:48:00",
          "2023-08-22T15:49:00"
         ],
         "xaxis": "x",
         "y": [
          0,
          0,
          0,
          0,
          0,
          0,
          0,
          0,
          0,
          0,
          0,
          0,
          0,
          0,
          0,
          0,
          0,
          0,
          0,
          0,
          0,
          0,
          0,
          0,
          0,
          0,
          0,
          0,
          0,
          0,
          0,
          0,
          0,
          0,
          0,
          0,
          0,
          0,
          0,
          0,
          0,
          0,
          0,
          0,
          0,
          0,
          0,
          0,
          0,
          0,
          0,
          0,
          0,
          0,
          0,
          0,
          0,
          0,
          0,
          0,
          0,
          0,
          0,
          0,
          0,
          0,
          0,
          0,
          0,
          0,
          0,
          0,
          0,
          0,
          0,
          0,
          0,
          0,
          0,
          0,
          0,
          0,
          0,
          0,
          0,
          0,
          0,
          0,
          0,
          0,
          0,
          0,
          0,
          0,
          0,
          0,
          0,
          0,
          0,
          0,
          0,
          0,
          0,
          0,
          0,
          0,
          0,
          0,
          0,
          0,
          1,
          2,
          2,
          0,
          1,
          1,
          0,
          0,
          0,
          0,
          0,
          0,
          0,
          0,
          0,
          2,
          2,
          2,
          0,
          0,
          0,
          0,
          0,
          0,
          0,
          0,
          0,
          0,
          0,
          0,
          0,
          0,
          0,
          0,
          0,
          0,
          0,
          0,
          0,
          0,
          0,
          0,
          0,
          0,
          0,
          0,
          0,
          0,
          0,
          0,
          0,
          0,
          0,
          0,
          0,
          0,
          0,
          0,
          0,
          0,
          0,
          0,
          0,
          0,
          0,
          1,
          1,
          0,
          0,
          0,
          0,
          0,
          0,
          0,
          0,
          0,
          0,
          0,
          0,
          0,
          0,
          0,
          0,
          0,
          0,
          0,
          0,
          0,
          0,
          0,
          0,
          0,
          0,
          0,
          0,
          0,
          0,
          0,
          0,
          0,
          0,
          0,
          0,
          0,
          0,
          0,
          0,
          0,
          0,
          0,
          0,
          0,
          0,
          0,
          0,
          0,
          0,
          0,
          0,
          0,
          0,
          0,
          0,
          0,
          0,
          0,
          0,
          0,
          0,
          0,
          0,
          0,
          0,
          0,
          0,
          0,
          0,
          0,
          0,
          0,
          0,
          0,
          0,
          0,
          0,
          0,
          0,
          0,
          0,
          0,
          0,
          0,
          0,
          0,
          0,
          0,
          0,
          0,
          0,
          0,
          0,
          0,
          0,
          0,
          0,
          0,
          0,
          0,
          0,
          0,
          0,
          0,
          0,
          0,
          0,
          0,
          0,
          0,
          0,
          0,
          0,
          0,
          0,
          0,
          0,
          0,
          0,
          0,
          0,
          0,
          0,
          0,
          0,
          0,
          0,
          0,
          0,
          0,
          0,
          0,
          0,
          0,
          0,
          0,
          0,
          0,
          0,
          0,
          0,
          0,
          0,
          0,
          0,
          0,
          0,
          0,
          0,
          0,
          0,
          0,
          0,
          0,
          0,
          0,
          0,
          0,
          0,
          0,
          0,
          0,
          0,
          0,
          0,
          0,
          0,
          0,
          0,
          0,
          0,
          0
         ],
         "yaxis": "y"
        }
       ],
       "layout": {
        "barmode": "relative",
        "legend": {
         "tracegroupgap": 0
        },
        "template": {
         "data": {
          "bar": [
           {
            "error_x": {
             "color": "#2a3f5f"
            },
            "error_y": {
             "color": "#2a3f5f"
            },
            "marker": {
             "line": {
              "color": "#E5ECF6",
              "width": 0.5
             },
             "pattern": {
              "fillmode": "overlay",
              "size": 10,
              "solidity": 0.2
             }
            },
            "type": "bar"
           }
          ],
          "barpolar": [
           {
            "marker": {
             "line": {
              "color": "#E5ECF6",
              "width": 0.5
             },
             "pattern": {
              "fillmode": "overlay",
              "size": 10,
              "solidity": 0.2
             }
            },
            "type": "barpolar"
           }
          ],
          "carpet": [
           {
            "aaxis": {
             "endlinecolor": "#2a3f5f",
             "gridcolor": "white",
             "linecolor": "white",
             "minorgridcolor": "white",
             "startlinecolor": "#2a3f5f"
            },
            "baxis": {
             "endlinecolor": "#2a3f5f",
             "gridcolor": "white",
             "linecolor": "white",
             "minorgridcolor": "white",
             "startlinecolor": "#2a3f5f"
            },
            "type": "carpet"
           }
          ],
          "choropleth": [
           {
            "colorbar": {
             "outlinewidth": 0,
             "ticks": ""
            },
            "type": "choropleth"
           }
          ],
          "contour": [
           {
            "colorbar": {
             "outlinewidth": 0,
             "ticks": ""
            },
            "colorscale": [
             [
              0,
              "#0d0887"
             ],
             [
              0.1111111111111111,
              "#46039f"
             ],
             [
              0.2222222222222222,
              "#7201a8"
             ],
             [
              0.3333333333333333,
              "#9c179e"
             ],
             [
              0.4444444444444444,
              "#bd3786"
             ],
             [
              0.5555555555555556,
              "#d8576b"
             ],
             [
              0.6666666666666666,
              "#ed7953"
             ],
             [
              0.7777777777777778,
              "#fb9f3a"
             ],
             [
              0.8888888888888888,
              "#fdca26"
             ],
             [
              1,
              "#f0f921"
             ]
            ],
            "type": "contour"
           }
          ],
          "contourcarpet": [
           {
            "colorbar": {
             "outlinewidth": 0,
             "ticks": ""
            },
            "type": "contourcarpet"
           }
          ],
          "heatmap": [
           {
            "colorbar": {
             "outlinewidth": 0,
             "ticks": ""
            },
            "colorscale": [
             [
              0,
              "#0d0887"
             ],
             [
              0.1111111111111111,
              "#46039f"
             ],
             [
              0.2222222222222222,
              "#7201a8"
             ],
             [
              0.3333333333333333,
              "#9c179e"
             ],
             [
              0.4444444444444444,
              "#bd3786"
             ],
             [
              0.5555555555555556,
              "#d8576b"
             ],
             [
              0.6666666666666666,
              "#ed7953"
             ],
             [
              0.7777777777777778,
              "#fb9f3a"
             ],
             [
              0.8888888888888888,
              "#fdca26"
             ],
             [
              1,
              "#f0f921"
             ]
            ],
            "type": "heatmap"
           }
          ],
          "heatmapgl": [
           {
            "colorbar": {
             "outlinewidth": 0,
             "ticks": ""
            },
            "colorscale": [
             [
              0,
              "#0d0887"
             ],
             [
              0.1111111111111111,
              "#46039f"
             ],
             [
              0.2222222222222222,
              "#7201a8"
             ],
             [
              0.3333333333333333,
              "#9c179e"
             ],
             [
              0.4444444444444444,
              "#bd3786"
             ],
             [
              0.5555555555555556,
              "#d8576b"
             ],
             [
              0.6666666666666666,
              "#ed7953"
             ],
             [
              0.7777777777777778,
              "#fb9f3a"
             ],
             [
              0.8888888888888888,
              "#fdca26"
             ],
             [
              1,
              "#f0f921"
             ]
            ],
            "type": "heatmapgl"
           }
          ],
          "histogram": [
           {
            "marker": {
             "pattern": {
              "fillmode": "overlay",
              "size": 10,
              "solidity": 0.2
             }
            },
            "type": "histogram"
           }
          ],
          "histogram2d": [
           {
            "colorbar": {
             "outlinewidth": 0,
             "ticks": ""
            },
            "colorscale": [
             [
              0,
              "#0d0887"
             ],
             [
              0.1111111111111111,
              "#46039f"
             ],
             [
              0.2222222222222222,
              "#7201a8"
             ],
             [
              0.3333333333333333,
              "#9c179e"
             ],
             [
              0.4444444444444444,
              "#bd3786"
             ],
             [
              0.5555555555555556,
              "#d8576b"
             ],
             [
              0.6666666666666666,
              "#ed7953"
             ],
             [
              0.7777777777777778,
              "#fb9f3a"
             ],
             [
              0.8888888888888888,
              "#fdca26"
             ],
             [
              1,
              "#f0f921"
             ]
            ],
            "type": "histogram2d"
           }
          ],
          "histogram2dcontour": [
           {
            "colorbar": {
             "outlinewidth": 0,
             "ticks": ""
            },
            "colorscale": [
             [
              0,
              "#0d0887"
             ],
             [
              0.1111111111111111,
              "#46039f"
             ],
             [
              0.2222222222222222,
              "#7201a8"
             ],
             [
              0.3333333333333333,
              "#9c179e"
             ],
             [
              0.4444444444444444,
              "#bd3786"
             ],
             [
              0.5555555555555556,
              "#d8576b"
             ],
             [
              0.6666666666666666,
              "#ed7953"
             ],
             [
              0.7777777777777778,
              "#fb9f3a"
             ],
             [
              0.8888888888888888,
              "#fdca26"
             ],
             [
              1,
              "#f0f921"
             ]
            ],
            "type": "histogram2dcontour"
           }
          ],
          "mesh3d": [
           {
            "colorbar": {
             "outlinewidth": 0,
             "ticks": ""
            },
            "type": "mesh3d"
           }
          ],
          "parcoords": [
           {
            "line": {
             "colorbar": {
              "outlinewidth": 0,
              "ticks": ""
             }
            },
            "type": "parcoords"
           }
          ],
          "pie": [
           {
            "automargin": true,
            "type": "pie"
           }
          ],
          "scatter": [
           {
            "fillpattern": {
             "fillmode": "overlay",
             "size": 10,
             "solidity": 0.2
            },
            "type": "scatter"
           }
          ],
          "scatter3d": [
           {
            "line": {
             "colorbar": {
              "outlinewidth": 0,
              "ticks": ""
             }
            },
            "marker": {
             "colorbar": {
              "outlinewidth": 0,
              "ticks": ""
             }
            },
            "type": "scatter3d"
           }
          ],
          "scattercarpet": [
           {
            "marker": {
             "colorbar": {
              "outlinewidth": 0,
              "ticks": ""
             }
            },
            "type": "scattercarpet"
           }
          ],
          "scattergeo": [
           {
            "marker": {
             "colorbar": {
              "outlinewidth": 0,
              "ticks": ""
             }
            },
            "type": "scattergeo"
           }
          ],
          "scattergl": [
           {
            "marker": {
             "colorbar": {
              "outlinewidth": 0,
              "ticks": ""
             }
            },
            "type": "scattergl"
           }
          ],
          "scattermapbox": [
           {
            "marker": {
             "colorbar": {
              "outlinewidth": 0,
              "ticks": ""
             }
            },
            "type": "scattermapbox"
           }
          ],
          "scatterpolar": [
           {
            "marker": {
             "colorbar": {
              "outlinewidth": 0,
              "ticks": ""
             }
            },
            "type": "scatterpolar"
           }
          ],
          "scatterpolargl": [
           {
            "marker": {
             "colorbar": {
              "outlinewidth": 0,
              "ticks": ""
             }
            },
            "type": "scatterpolargl"
           }
          ],
          "scatterternary": [
           {
            "marker": {
             "colorbar": {
              "outlinewidth": 0,
              "ticks": ""
             }
            },
            "type": "scatterternary"
           }
          ],
          "surface": [
           {
            "colorbar": {
             "outlinewidth": 0,
             "ticks": ""
            },
            "colorscale": [
             [
              0,
              "#0d0887"
             ],
             [
              0.1111111111111111,
              "#46039f"
             ],
             [
              0.2222222222222222,
              "#7201a8"
             ],
             [
              0.3333333333333333,
              "#9c179e"
             ],
             [
              0.4444444444444444,
              "#bd3786"
             ],
             [
              0.5555555555555556,
              "#d8576b"
             ],
             [
              0.6666666666666666,
              "#ed7953"
             ],
             [
              0.7777777777777778,
              "#fb9f3a"
             ],
             [
              0.8888888888888888,
              "#fdca26"
             ],
             [
              1,
              "#f0f921"
             ]
            ],
            "type": "surface"
           }
          ],
          "table": [
           {
            "cells": {
             "fill": {
              "color": "#EBF0F8"
             },
             "line": {
              "color": "white"
             }
            },
            "header": {
             "fill": {
              "color": "#C8D4E3"
             },
             "line": {
              "color": "white"
             }
            },
            "type": "table"
           }
          ]
         },
         "layout": {
          "annotationdefaults": {
           "arrowcolor": "#2a3f5f",
           "arrowhead": 0,
           "arrowwidth": 1
          },
          "autotypenumbers": "strict",
          "coloraxis": {
           "colorbar": {
            "outlinewidth": 0,
            "ticks": ""
           }
          },
          "colorscale": {
           "diverging": [
            [
             0,
             "#8e0152"
            ],
            [
             0.1,
             "#c51b7d"
            ],
            [
             0.2,
             "#de77ae"
            ],
            [
             0.3,
             "#f1b6da"
            ],
            [
             0.4,
             "#fde0ef"
            ],
            [
             0.5,
             "#f7f7f7"
            ],
            [
             0.6,
             "#e6f5d0"
            ],
            [
             0.7,
             "#b8e186"
            ],
            [
             0.8,
             "#7fbc41"
            ],
            [
             0.9,
             "#4d9221"
            ],
            [
             1,
             "#276419"
            ]
           ],
           "sequential": [
            [
             0,
             "#0d0887"
            ],
            [
             0.1111111111111111,
             "#46039f"
            ],
            [
             0.2222222222222222,
             "#7201a8"
            ],
            [
             0.3333333333333333,
             "#9c179e"
            ],
            [
             0.4444444444444444,
             "#bd3786"
            ],
            [
             0.5555555555555556,
             "#d8576b"
            ],
            [
             0.6666666666666666,
             "#ed7953"
            ],
            [
             0.7777777777777778,
             "#fb9f3a"
            ],
            [
             0.8888888888888888,
             "#fdca26"
            ],
            [
             1,
             "#f0f921"
            ]
           ],
           "sequentialminus": [
            [
             0,
             "#0d0887"
            ],
            [
             0.1111111111111111,
             "#46039f"
            ],
            [
             0.2222222222222222,
             "#7201a8"
            ],
            [
             0.3333333333333333,
             "#9c179e"
            ],
            [
             0.4444444444444444,
             "#bd3786"
            ],
            [
             0.5555555555555556,
             "#d8576b"
            ],
            [
             0.6666666666666666,
             "#ed7953"
            ],
            [
             0.7777777777777778,
             "#fb9f3a"
            ],
            [
             0.8888888888888888,
             "#fdca26"
            ],
            [
             1,
             "#f0f921"
            ]
           ]
          },
          "colorway": [
           "#636efa",
           "#EF553B",
           "#00cc96",
           "#ab63fa",
           "#FFA15A",
           "#19d3f3",
           "#FF6692",
           "#B6E880",
           "#FF97FF",
           "#FECB52"
          ],
          "font": {
           "color": "#2a3f5f"
          },
          "geo": {
           "bgcolor": "white",
           "lakecolor": "white",
           "landcolor": "#E5ECF6",
           "showlakes": true,
           "showland": true,
           "subunitcolor": "white"
          },
          "hoverlabel": {
           "align": "left"
          },
          "hovermode": "closest",
          "mapbox": {
           "style": "light"
          },
          "paper_bgcolor": "white",
          "plot_bgcolor": "#E5ECF6",
          "polar": {
           "angularaxis": {
            "gridcolor": "white",
            "linecolor": "white",
            "ticks": ""
           },
           "bgcolor": "#E5ECF6",
           "radialaxis": {
            "gridcolor": "white",
            "linecolor": "white",
            "ticks": ""
           }
          },
          "scene": {
           "xaxis": {
            "backgroundcolor": "#E5ECF6",
            "gridcolor": "white",
            "gridwidth": 2,
            "linecolor": "white",
            "showbackground": true,
            "ticks": "",
            "zerolinecolor": "white"
           },
           "yaxis": {
            "backgroundcolor": "#E5ECF6",
            "gridcolor": "white",
            "gridwidth": 2,
            "linecolor": "white",
            "showbackground": true,
            "ticks": "",
            "zerolinecolor": "white"
           },
           "zaxis": {
            "backgroundcolor": "#E5ECF6",
            "gridcolor": "white",
            "gridwidth": 2,
            "linecolor": "white",
            "showbackground": true,
            "ticks": "",
            "zerolinecolor": "white"
           }
          },
          "shapedefaults": {
           "line": {
            "color": "#2a3f5f"
           }
          },
          "ternary": {
           "aaxis": {
            "gridcolor": "white",
            "linecolor": "white",
            "ticks": ""
           },
           "baxis": {
            "gridcolor": "white",
            "linecolor": "white",
            "ticks": ""
           },
           "bgcolor": "#E5ECF6",
           "caxis": {
            "gridcolor": "white",
            "linecolor": "white",
            "ticks": ""
           }
          },
          "title": {
           "x": 0.05
          },
          "xaxis": {
           "automargin": true,
           "gridcolor": "white",
           "linecolor": "white",
           "ticks": "",
           "title": {
            "standoff": 15
           },
           "zerolinecolor": "white",
           "zerolinewidth": 2
          },
          "yaxis": {
           "automargin": true,
           "gridcolor": "white",
           "linecolor": "white",
           "ticks": "",
           "title": {
            "standoff": 15
           },
           "zerolinecolor": "white",
           "zerolinewidth": 2
          }
         }
        },
        "title": {
         "text": "Minutes timeline"
        },
        "xaxis": {
         "anchor": "y",
         "domain": [
          0,
          1
         ],
         "rangeslider": {
          "visible": true
         },
         "title": {
          "text": "Minutes"
         }
        },
        "yaxis": {
         "anchor": "x",
         "domain": [
          0,
          1
         ],
         "title": {
          "text": "Message count"
         }
        }
       }
      }
     },
     "metadata": {},
     "output_type": "display_data"
    }
   ],
   "source": [
    "import plotly.express as px\n",
    "\n",
    "frequency_bar_figures = {}\n",
    "\n",
    "for frequency_type in frequency_bar_type_dataframe.keys():\n",
    "\n",
    "    frequency_df = frequency_bar_type_dataframe[frequency_type]\n",
    "\n",
    "    if frequency_type == \"Weekdays\":\n",
    "\n",
    "        weeks_plot = []\n",
    "\n",
    "        for week_num in range(1,5):\n",
    "\n",
    "            fig = px.bar(frequency_df, x=\"x\", y=f\"y{week_num}\", text = f\"Discussion week {week_num}\",\n",
    "                        labels={\n",
    "                                \"x\": frequency_type,\n",
    "                                f\"y{week_num}\": \"Message count\",\n",
    "                                 },\n",
    "\n",
    "                        title=f\"{frequency_type} [week - {week_num}] timeline\", \n",
    "\n",
    "                        hover_data=[f'Discussion week {week_num}']\n",
    "                        )\n",
    "            fig.update_traces(marker_color = 'yellow',\n",
    "                  marker_line_width = 2, opacity = 1)\n",
    "                   \n",
    "            weeks_plot.append(fig)\n",
    "            fig.show()\n",
    "\n",
    "        frequency_bar_figures[frequency_type] = weeks_plot\n",
    "             \n",
    "        continue          \n",
    "\n",
    "\n",
    "\n",
    "    fig = px.bar(frequency_df, x=\"x\", y=\"y\", text = f\"Discussion\",\n",
    "                labels={\n",
    "                        \"x\": frequency_type,\n",
    "                        \"y\": \"Message count\",\n",
    "                    },\n",
    "\n",
    "                title=f\"{frequency_type} timeline\", \n",
    "                hover_data=[f'Discussion'],\n",
    "                \n",
    "                            \n",
    "                )\n",
    "\n",
    "    fig.update_traces(marker_color = 'yellow',\n",
    "                  marker_line_width = 2, opacity = 1)            \n",
    "\n",
    "    if frequency_type == \"Years\":\n",
    "        fig.update_layout( xaxis={\n",
    "            'range': [frequency_df['x'].min(), frequency_df['x'].max()], \n",
    "            'tickvals': [*range(int(frequency_df['x'].min()), int(frequency_df['x'].max()))]})         \n",
    "\n",
    "    if frequency_type in [\"Years\",\"Days\",\"Hours\",\"Minutes\"]:\n",
    "        fig.update_xaxes(rangeslider_visible=True)            \n",
    "\n",
    "    frequency_bar_figures[frequency_type] = fig\n",
    "\n",
    "    fig.show()\n",
    "\n"
   ]
  },
  {
   "cell_type": "markdown",
   "metadata": {},
   "source": [
    "# Heatmaps"
   ]
  },
  {
   "cell_type": "code",
   "execution_count": 56,
   "metadata": {},
   "outputs": [
    {
     "data": {
      "text/plain": [
       "87"
      ]
     },
     "execution_count": 56,
     "metadata": {},
     "output_type": "execute_result"
    }
   ],
   "source": [
    "all_users = without_notifications.username.nunique()\n",
    "# len(all_users)al\n",
    "all_users"
   ]
  },
  {
   "cell_type": "code",
   "execution_count": 45,
   "metadata": {},
   "outputs": [],
   "source": [
    "# # I largely keep the codes and comments the same as the original answer, with the modification highlighted under '#######'\n",
    "# import plotly.express as px\n",
    "# import plotly.subplots as sp\n",
    "\n",
    "# # Create figures in Express\n",
    "\n",
    "# traces = []\n",
    "\n",
    "# for idx,figure in enumerate(figures):\n",
    "\n",
    "#     figure_trace = []\n",
    "\n",
    "#     for trace in range(len(figure[\"data\"])):\n",
    "\n",
    "#         # if idx==0:\n",
    "#         #     figure[\"data\"][trace]['showlegend'] = False\n",
    "\n",
    "#         figure_trace.append(figure[\"data\"][trace])\n",
    "#         # figure[\"data\"][trace]['showlegend'] = False \n",
    "\n",
    "#     traces.append(figure_trace)    \n",
    "\n",
    "\n",
    "\n",
    "   \n",
    "# # Create a 1x2 subplot\n",
    "# this_figure = sp.make_subplots(rows = 1, cols = len(traces), subplot_titles = ['', 'Line'])\n",
    "# this_figure.update_layout(height = 500, width = 2500, title_text = \"User timelines\", title_font_size = 25)\n",
    "\n",
    "# # Get the Express fig broken down as traces and add the traces to the proper plot within the subplot\n",
    "\n",
    "# for idx,figure_traces in enumerate(traces):\n",
    "\n",
    "#     for trace in figure_traces:\n",
    "#         this_figure.append_trace(trace, row = 1, col = idx+1)\n",
    "\n",
    "\n",
    "    \n",
    "# this_figure.show()"
   ]
  },
  {
   "cell_type": "markdown",
   "id": "5caeeabf",
   "metadata": {},
   "source": [
    "# Converting raw data into Data frame"
   ]
  },
  {
   "cell_type": "code",
   "execution_count": 158,
   "metadata": {},
   "outputs": [
    {
     "data": {
      "text/plain": [
       "Index(['Date', 'time', 'only_date', 'datetime24', 'username', 'message',\n",
       "       'hour', 'minutes', 'Day', 'Month', 'Month_name', 'Year', 'weekday',\n",
       "       'weekday_name'],\n",
       "      dtype='object')"
      ]
     },
     "execution_count": 158,
     "metadata": {},
     "output_type": "execute_result"
    }
   ],
   "source": [
    "without_notifications.columns"
   ]
  },
  {
   "cell_type": "code",
   "execution_count": 188,
   "metadata": {},
   "outputs": [],
   "source": [
    "def years_heatmap(chat_details,start_year,end_year):\n",
    "    \n",
    "    start_date = datetime(start_year,1,1)\n",
    "    end_date = datetime(end_year,1,1)\n",
    "\n",
    "    delta = relativedelta(years=1)\n",
    "\n",
    "    years = []\n",
    "\n",
    "    while start_date <= end_date:\n",
    "        years.append(start_date.year)\n",
    "        start_date += delta\n",
    "\n",
    "\n",
    "    return years"
   ]
  },
  {
   "cell_type": "code",
   "execution_count": 189,
   "metadata": {},
   "outputs": [],
   "source": [
    "def months_heatmap(chat_details,year,start_month,end_month):\n",
    "    \n",
    "    start_date = datetime(year,start_month,1)\n",
    "    end_date = datetime(year,end_month,1)\n",
    "\n",
    "    delta = relativedelta(months=1)\n",
    "\n",
    "    months = []\n",
    "    month_names = []\n",
    "    \n",
    "    while start_date <= end_date:\n",
    "        months.append(start_date.month)\n",
    "        start_date += delta\n",
    "\n",
    "    for month_number in months:\n",
    "        datetime_object = datetime.strptime(str(month_number), \"%m\")\n",
    "        full_month_name = datetime_object.strftime(\"%B\")\n",
    "        month_names.append(full_month_name)\n",
    "\n",
    "\n",
    "    return months\n"
   ]
  },
  {
   "cell_type": "code",
   "execution_count": 268,
   "metadata": {},
   "outputs": [],
   "source": [
    "def days_heatmap(chat_details,start_year,start_month,start_day,end_year,end_month,end_day):\n",
    "\n",
    "    start_date = date(start_year,start_month,start_day)\n",
    "    end_date = date(end_year,end_month,end_day)\n",
    "\n",
    "    delta = relativedelta(days=1)\n",
    "\n",
    "    dates = []\n",
    "\n",
    "    current_date = start_date\n",
    "\n",
    "    while current_date <= end_date:\n",
    "        dates.append(current_date)\n",
    "        current_date += delta\n",
    "\n",
    "    return dates      \n",
    "\n"
   ]
  },
  {
   "cell_type": "code",
   "execution_count": 279,
   "metadata": {},
   "outputs": [],
   "source": [
    "def weeks_heatmap(chat_details,year,month):\n",
    "    weekdates1 = days_heatmap(chat_details,year,month,1,year,month,7)\n",
    "    weekdates2 = days_heatmap(chat_details,year,month,8,year,month,14)\n",
    "    weekdates3 = days_heatmap(chat_details,year,month,15,year,month,21)\n",
    "    weekdates4 = days_heatmap(chat_details,year,month,22,year,month,28)\n",
    "\n",
    "    week1 = chat_details[(chat_details.only_date>=weekdates1[0])&(chat_details.only_date<=weekdates1[-1])]\n",
    "    week2 = chat_details[(chat_details.only_date>=weekdates2[0])&(chat_details.only_date<=weekdates2[-1])]\n",
    "    week3 = chat_details[(chat_details.only_date>=weekdates3[0])&(chat_details.only_date<=weekdates3[-1])]\n",
    "    week4 = chat_details[(chat_details.only_date>=weekdates4[0])&(chat_details.only_date<=weekdates4[-1])]\n",
    "    \n",
    "    return [week1,week2,week3,week4]    \n"
   ]
  },
  {
   "cell_type": "code",
   "execution_count": 280,
   "metadata": {},
   "outputs": [],
   "source": [
    "def hours_heatmap(chat_details,year,month,start_day,end_day,start_hour,end_hour):\n",
    "    \n",
    "    start_dateHours = datetime(year,month,start_day,start_hour,0,0)\n",
    "    end_dateHours = datetime(year, month,end_day,end_hour,0,0)\n",
    "\n",
    "    delta = timedelta(hours=1)\n",
    "\n",
    "    dateHours = []\n",
    "    current_dateHours = start_dateHours\n",
    "\n",
    "    while current_dateHours <= end_dateHours:\n",
    "\n",
    "        dateHours.append(current_dateHours)\n",
    "        current_dateHours += delta\n",
    "\n",
    "   \n",
    "    return dateHours[:-1]"
   ]
  },
  {
   "cell_type": "code",
   "execution_count": 294,
   "metadata": {},
   "outputs": [],
   "source": [
    "heatmap_timeline_names = [\"Year\",\"Month\",\"only_date\",\"weekday_name\",\"hour\",\"minutes\"]\n",
    "heatmap_pivot_types_df = {}\n",
    "chat_details = without_notifications.copy()\n",
    "\n",
    "for heatmap_type in heatmap_timeline_names[:4]:\n",
    "    \n",
    "    if heatmap_type == \"Year\":\n",
    "        timelines = years_heatmap(chat_details,start_year = 2020, end_year = 2026)\n",
    "    elif heatmap_type == \"Month\":\n",
    "        timelines = months_heatmap(chat_details,year=2023,start_month=5,end_month=9)\n",
    "    elif heatmap_type == \"only_date\":\n",
    "        timelines = days_heatmap(chat_details,\n",
    "        start_year = 2023,start_month = 8,start_day = 3,end_year = 2023,end_month = 8,end_day = 25)\n",
    "    elif heatmap_type == 'weekday_name':\n",
    "        timelines = weeks_heatmap(chat_details,year = 2023,month=8) \n",
    "        weeks_pivot_df = []\n",
    "\n",
    "        for week in range(4):\n",
    "\n",
    "            pivot_df = timelines[week].pivot_table(index = heatmap_type, columns = \"username\",values = \"message\",aggfunc='count').fillna(0)\n",
    "            df = pivot_df.reset_index()\n",
    "            cols_data = df[heatmap_type].unique()\n",
    "                       \n",
    "            for timeline in ['Monday', 'Tuesday', 'Wednesday', 'Thursday', 'Friday', 'Saturday', 'Sunday']:\n",
    "                                \n",
    "                if  timeline not in cols_data:  \n",
    "                    data = {col : [0] for col in df.columns}\n",
    "                    data[heatmap_type] = timeline\n",
    "                    \n",
    "                    new_df = pd.DataFrame(data)\n",
    "                    df = pd.concat([df,new_df],ignore_index = True)\n",
    "\n",
    "            asec_df = df.sort_values(by=[heatmap_type],ascending=True)\n",
    "            pivot_df = asec_df.set_index(heatmap_type)\n",
    "\n",
    "            weeks_pivot_df.append(pivot_df)\n",
    "\n",
    "        heatmap_pivot_types_df[heatmap_type] = weeks_pivot_df\n",
    "\n",
    "        continue\n",
    "\n",
    "    # elif heatmap_type == \"hour\":\n",
    "    #     timelines = hours_heatmap(chat_details,\n",
    "    #     year = 2023,month = 8,start_day = 22,end_day = 22,start_hour = 10,end_hour=15)\n",
    "\n",
    "    pivot_df = chat_details.pivot_table(index = heatmap_type, columns = \"username\",values = \"message\",aggfunc='count').fillna(0)\n",
    "    df = pivot_df.reset_index()\n",
    "    cols_data = df[heatmap_type].unique()\n",
    "    \n",
    "    for timeline in timelines:\n",
    "        if timeline not in cols_data:  \n",
    "            data = {col : [0] for col in df.columns}\n",
    "            data[heatmap_type] = timeline  \n",
    "            new_df = pd.DataFrame(data)\n",
    "            df = pd.concat([df,new_df],ignore_index = True)\n",
    "\n",
    "    \n",
    "    asec_df = df.sort_values(by=[heatmap_type],ascending=True)\n",
    "    pivot_df = asec_df.set_index(heatmap_type)\n",
    "    \n",
    "    heatmap_pivot_types_df[heatmap_type] = pivot_df\n",
    "    \n",
    "    \n"
   ]
  },
  {
   "cell_type": "code",
   "execution_count": 298,
   "metadata": {},
   "outputs": [
    {
     "data": {
      "text/html": [
       "<div>\n",
       "<style scoped>\n",
       "    .dataframe tbody tr th:only-of-type {\n",
       "        vertical-align: middle;\n",
       "    }\n",
       "\n",
       "    .dataframe tbody tr th {\n",
       "        vertical-align: top;\n",
       "    }\n",
       "\n",
       "    .dataframe thead th {\n",
       "        text-align: right;\n",
       "    }\n",
       "</style>\n",
       "<table border=\"1\" class=\"dataframe\">\n",
       "  <thead>\n",
       "    <tr style=\"text-align: right;\">\n",
       "      <th>username</th>\n",
       "      <th>+91 6376 881 983</th>\n",
       "      <th>+91 6395 347 424</th>\n",
       "      <th>+91 6398 623 782</th>\n",
       "      <th>+91 73511 44719</th>\n",
       "      <th>+91 73540 87777</th>\n",
       "      <th>+91 81910 66094</th>\n",
       "      <th>+91 86074 27221</th>\n",
       "      <th>+91 87690 00939</th>\n",
       "      <th>+91 96460 60693</th>\n",
       "      <th>Avantika CR 7sem</th>\n",
       "      <th>Govind Prasad</th>\n",
       "      <th>Rajnish Bedi</th>\n",
       "      <th>Sourabh 7 Mentor</th>\n",
       "      <th>Steve Samson Academic Coordinator</th>\n",
       "    </tr>\n",
       "    <tr>\n",
       "      <th>weekday_name</th>\n",
       "      <th></th>\n",
       "      <th></th>\n",
       "      <th></th>\n",
       "      <th></th>\n",
       "      <th></th>\n",
       "      <th></th>\n",
       "      <th></th>\n",
       "      <th></th>\n",
       "      <th></th>\n",
       "      <th></th>\n",
       "      <th></th>\n",
       "      <th></th>\n",
       "      <th></th>\n",
       "      <th></th>\n",
       "    </tr>\n",
       "  </thead>\n",
       "  <tbody>\n",
       "    <tr>\n",
       "      <th>Friday</th>\n",
       "      <td>0.0</td>\n",
       "      <td>0.0</td>\n",
       "      <td>0.0</td>\n",
       "      <td>3.0</td>\n",
       "      <td>0.0</td>\n",
       "      <td>0.0</td>\n",
       "      <td>0.0</td>\n",
       "      <td>0.0</td>\n",
       "      <td>6.0</td>\n",
       "      <td>3.0</td>\n",
       "      <td>0.0</td>\n",
       "      <td>0.0</td>\n",
       "      <td>0.0</td>\n",
       "      <td>1.0</td>\n",
       "    </tr>\n",
       "    <tr>\n",
       "      <th>Monday</th>\n",
       "      <td>0.0</td>\n",
       "      <td>0.0</td>\n",
       "      <td>0.0</td>\n",
       "      <td>3.0</td>\n",
       "      <td>0.0</td>\n",
       "      <td>0.0</td>\n",
       "      <td>0.0</td>\n",
       "      <td>0.0</td>\n",
       "      <td>0.0</td>\n",
       "      <td>5.0</td>\n",
       "      <td>1.0</td>\n",
       "      <td>0.0</td>\n",
       "      <td>0.0</td>\n",
       "      <td>0.0</td>\n",
       "    </tr>\n",
       "    <tr>\n",
       "      <th>Saturday</th>\n",
       "      <td>0.0</td>\n",
       "      <td>0.0</td>\n",
       "      <td>0.0</td>\n",
       "      <td>0.0</td>\n",
       "      <td>0.0</td>\n",
       "      <td>0.0</td>\n",
       "      <td>0.0</td>\n",
       "      <td>0.0</td>\n",
       "      <td>0.0</td>\n",
       "      <td>1.0</td>\n",
       "      <td>0.0</td>\n",
       "      <td>0.0</td>\n",
       "      <td>0.0</td>\n",
       "      <td>0.0</td>\n",
       "    </tr>\n",
       "    <tr>\n",
       "      <th>Sunday</th>\n",
       "      <td>0.0</td>\n",
       "      <td>0.0</td>\n",
       "      <td>0.0</td>\n",
       "      <td>0.0</td>\n",
       "      <td>0.0</td>\n",
       "      <td>0.0</td>\n",
       "      <td>0.0</td>\n",
       "      <td>0.0</td>\n",
       "      <td>0.0</td>\n",
       "      <td>4.0</td>\n",
       "      <td>0.0</td>\n",
       "      <td>0.0</td>\n",
       "      <td>6.0</td>\n",
       "      <td>0.0</td>\n",
       "    </tr>\n",
       "    <tr>\n",
       "      <th>Thursday</th>\n",
       "      <td>1.0</td>\n",
       "      <td>1.0</td>\n",
       "      <td>1.0</td>\n",
       "      <td>4.0</td>\n",
       "      <td>0.0</td>\n",
       "      <td>0.0</td>\n",
       "      <td>0.0</td>\n",
       "      <td>0.0</td>\n",
       "      <td>1.0</td>\n",
       "      <td>5.0</td>\n",
       "      <td>0.0</td>\n",
       "      <td>0.0</td>\n",
       "      <td>2.0</td>\n",
       "      <td>0.0</td>\n",
       "    </tr>\n",
       "    <tr>\n",
       "      <th>Tuesday</th>\n",
       "      <td>0.0</td>\n",
       "      <td>0.0</td>\n",
       "      <td>0.0</td>\n",
       "      <td>2.0</td>\n",
       "      <td>0.0</td>\n",
       "      <td>0.0</td>\n",
       "      <td>0.0</td>\n",
       "      <td>0.0</td>\n",
       "      <td>0.0</td>\n",
       "      <td>10.0</td>\n",
       "      <td>0.0</td>\n",
       "      <td>1.0</td>\n",
       "      <td>0.0</td>\n",
       "      <td>0.0</td>\n",
       "    </tr>\n",
       "    <tr>\n",
       "      <th>Wednesday</th>\n",
       "      <td>0.0</td>\n",
       "      <td>0.0</td>\n",
       "      <td>0.0</td>\n",
       "      <td>0.0</td>\n",
       "      <td>2.0</td>\n",
       "      <td>2.0</td>\n",
       "      <td>3.0</td>\n",
       "      <td>1.0</td>\n",
       "      <td>0.0</td>\n",
       "      <td>15.0</td>\n",
       "      <td>0.0</td>\n",
       "      <td>0.0</td>\n",
       "      <td>0.0</td>\n",
       "      <td>0.0</td>\n",
       "    </tr>\n",
       "  </tbody>\n",
       "</table>\n",
       "</div>"
      ],
      "text/plain": [
       "username      +91 6376 881 983  +91 6395 347 424  +91 6398 623 782  \\\n",
       "weekday_name                                                         \n",
       "Friday                     0.0               0.0               0.0   \n",
       "Monday                     0.0               0.0               0.0   \n",
       "Saturday                   0.0               0.0               0.0   \n",
       "Sunday                     0.0               0.0               0.0   \n",
       "Thursday                   1.0               1.0               1.0   \n",
       "Tuesday                    0.0               0.0               0.0   \n",
       "Wednesday                  0.0               0.0               0.0   \n",
       "\n",
       "username      +91 73511 44719  +91 73540 87777  +91 81910 66094  \\\n",
       "weekday_name                                                      \n",
       "Friday                    3.0              0.0              0.0   \n",
       "Monday                    3.0              0.0              0.0   \n",
       "Saturday                  0.0              0.0              0.0   \n",
       "Sunday                    0.0              0.0              0.0   \n",
       "Thursday                  4.0              0.0              0.0   \n",
       "Tuesday                   2.0              0.0              0.0   \n",
       "Wednesday                 0.0              2.0              2.0   \n",
       "\n",
       "username      +91 86074 27221  +91 87690 00939  +91 96460 60693  \\\n",
       "weekday_name                                                      \n",
       "Friday                    0.0              0.0              6.0   \n",
       "Monday                    0.0              0.0              0.0   \n",
       "Saturday                  0.0              0.0              0.0   \n",
       "Sunday                    0.0              0.0              0.0   \n",
       "Thursday                  0.0              0.0              1.0   \n",
       "Tuesday                   0.0              0.0              0.0   \n",
       "Wednesday                 3.0              1.0              0.0   \n",
       "\n",
       "username      Avantika CR 7sem  Govind Prasad  Rajnish Bedi  Sourabh 7 Mentor  \\\n",
       "weekday_name                                                                    \n",
       "Friday                     3.0            0.0           0.0               0.0   \n",
       "Monday                     5.0            1.0           0.0               0.0   \n",
       "Saturday                   1.0            0.0           0.0               0.0   \n",
       "Sunday                     4.0            0.0           0.0               6.0   \n",
       "Thursday                   5.0            0.0           0.0               2.0   \n",
       "Tuesday                   10.0            0.0           1.0               0.0   \n",
       "Wednesday                 15.0            0.0           0.0               0.0   \n",
       "\n",
       "username      Steve Samson Academic Coordinator  \n",
       "weekday_name                                     \n",
       "Friday                                      1.0  \n",
       "Monday                                      0.0  \n",
       "Saturday                                    0.0  \n",
       "Sunday                                      0.0  \n",
       "Thursday                                    0.0  \n",
       "Tuesday                                     0.0  \n",
       "Wednesday                                   0.0  "
      ]
     },
     "execution_count": 298,
     "metadata": {},
     "output_type": "execute_result"
    }
   ],
   "source": [
    "heatmap_pivot_types_df[\"weekday_name\"]"
   ]
  },
  {
   "cell_type": "code",
   "execution_count": 206,
   "metadata": {},
   "outputs": [
    {
     "data": {
      "application/vnd.plotly.v1+json": {
       "config": {
        "plotlyServerURL": "https://plot.ly"
       },
       "data": [
        {
         "coloraxis": "coloraxis",
         "hovertemplate": "x: %{x}<br>Year: %{y}<br>color: %{z}<extra></extra>",
         "name": "0",
         "type": "heatmap",
         "x": [
          "+91 6201 459 502",
          "+91 6280 900 349",
          "+91 6283 306 922",
          "+91 6299 200 484",
          "+91 6307 640 417",
          "+91 6375 152 773",
          "+91 6376 881 983",
          "+91 6391 978 083",
          "+91 6392 315 634",
          "+91 6395 347 424",
          "+91 6398 623 782",
          "+91 70014 34613",
          "+91 70045 64005",
          "+91 70170 47731",
          "+91 70188 01908",
          "+91 70659 51403",
          "+91 72061 01869",
          "+91 73407 85912",
          "+91 73511 44719",
          "+91 73540 87777",
          "+91 73987 39529",
          "+91 74049 72022",
          "+91 74391 08880",
          "+91 76784 09427",
          "+91 76888 20220",
          "+91 77669 43146",
          "+91 78285 01635",
          "+91 78386 78426",
          "+91 79086 85613",
          "+91 79799 69265",
          "+91 79836 85652",
          "+91 79853 07994",
          "+91 79871 77141",
          "+91 80836 17089",
          "+91 81685 73711",
          "+91 81910 66094",
          "+91 82521 26665",
          "+91 82996 78341",
          "+91 83077 89067",
          "+91 83079 17347",
          "+91 83958 88100",
          "+91 84938 70808",
          "+91 86074 27221",
          "+91 86375 85135",
          "+91 86997 31262",
          "+91 87690 00939",
          "+91 87911 69409",
          "+91 88006 08150",
          "+91 88408 64844",
          "+91 88879 10020",
          "+91 88949 67330",
          "+91 88999 72466",
          "+91 89576 78849",
          "+91 90504 18228",
          "+91 91625 17544",
          "+91 92050 91127",
          "+91 94106 87922",
          "+91 94728 37268",
          "+91 95235 15421",
          "+91 95920 78942",
          "+91 95927 57079",
          "+91 96460 60693",
          "+91 96467 06086",
          "+91 97843 47400",
          "+91 97848 98554",
          "+91 98015 39818",
          "+91 98395 48891",
          "+91 98722 29498",
          "+91 98767 44141",
          "+91 98968 64039",
          "+91 99104 82191",
          "+91 99214 93696",
          "+91 99503 54199",
          "+91 99712 96775",
          "+91 99881 13237",
          "Aditya Thakur Cu",
          "Akshat Sem6",
          "Anshul 6",
          "Avantika CR 7sem",
          "Gourav",
          "Govind Prasad",
          "Karan CR Sem5,6",
          "Rahul Sem 6",
          "Rajnish Bedi",
          "Rohan Kharwal",
          "Sourabh 7 Mentor",
          "Steve Samson Academic Coordinator"
         ],
         "xaxis": "x",
         "y": [
          2020,
          2021,
          2022,
          2023,
          2024,
          2025,
          2026
         ],
         "yaxis": "y",
         "z": [
          [
           0,
           0,
           0,
           0,
           0,
           0,
           0,
           0,
           0,
           0,
           0,
           0,
           0,
           0,
           0,
           0,
           0,
           0,
           0,
           0,
           0,
           0,
           0,
           0,
           0,
           0,
           0,
           0,
           0,
           0,
           0,
           0,
           0,
           0,
           0,
           0,
           0,
           0,
           0,
           0,
           0,
           0,
           0,
           0,
           0,
           0,
           0,
           0,
           0,
           0,
           0,
           0,
           0,
           0,
           0,
           0,
           0,
           0,
           0,
           0,
           0,
           0,
           0,
           0,
           0,
           0,
           0,
           0,
           0,
           0,
           0,
           0,
           0,
           0,
           0,
           0,
           0,
           0,
           0,
           0,
           0,
           0,
           0,
           0,
           0,
           0,
           0
          ],
          [
           0,
           0,
           0,
           0,
           0,
           0,
           0,
           0,
           0,
           0,
           0,
           0,
           0,
           0,
           0,
           0,
           0,
           0,
           0,
           0,
           0,
           0,
           0,
           0,
           0,
           0,
           0,
           0,
           0,
           0,
           0,
           0,
           0,
           0,
           0,
           0,
           0,
           0,
           0,
           0,
           0,
           0,
           0,
           0,
           0,
           0,
           0,
           0,
           0,
           0,
           0,
           0,
           0,
           0,
           0,
           0,
           0,
           0,
           0,
           0,
           0,
           0,
           0,
           0,
           0,
           0,
           0,
           0,
           0,
           0,
           0,
           0,
           0,
           0,
           0,
           0,
           0,
           0,
           0,
           0,
           0,
           0,
           0,
           0,
           0,
           0,
           0
          ],
          [
           0,
           0,
           0,
           0,
           0,
           0,
           0,
           0,
           0,
           0,
           0,
           0,
           0,
           0,
           0,
           0,
           0,
           0,
           0,
           0,
           0,
           0,
           0,
           0,
           0,
           0,
           0,
           0,
           0,
           0,
           0,
           0,
           0,
           0,
           0,
           0,
           0,
           0,
           0,
           0,
           0,
           0,
           0,
           0,
           0,
           0,
           0,
           0,
           0,
           0,
           0,
           0,
           0,
           0,
           0,
           0,
           0,
           0,
           0,
           0,
           0,
           0,
           0,
           0,
           0,
           0,
           0,
           0,
           0,
           0,
           0,
           0,
           0,
           0,
           0,
           0,
           0,
           0,
           0,
           0,
           0,
           0,
           0,
           0,
           0,
           0,
           0
          ],
          [
           7,
           4,
           4,
           6,
           5,
           6,
           15,
           3,
           7,
           23,
           11,
           3,
           4,
           2,
           21,
           5,
           9,
           1,
           234,
           15,
           24,
           19,
           10,
           47,
           29,
           2,
           5,
           7,
           1,
           6,
           6,
           8,
           7,
           2,
           3,
           12,
           5,
           4,
           8,
           28,
           4,
           2,
           9,
           2,
           21,
           3,
           4,
           7,
           5,
           2,
           5,
           8,
           5,
           5,
           5,
           5,
           4,
           22,
           35,
           2,
           15,
           28,
           2,
           2,
           15,
           11,
           3,
           6,
           8,
           7,
           12,
           9,
           3,
           1,
           4,
           9,
           4,
           9,
           359,
           2,
           15,
           23,
           4,
           18,
           5,
           199,
           8
          ],
          [
           0,
           0,
           0,
           0,
           0,
           0,
           0,
           0,
           0,
           0,
           0,
           0,
           0,
           0,
           0,
           0,
           0,
           0,
           0,
           0,
           0,
           0,
           0,
           0,
           0,
           0,
           0,
           0,
           0,
           0,
           0,
           0,
           0,
           0,
           0,
           0,
           0,
           0,
           0,
           0,
           0,
           0,
           0,
           0,
           0,
           0,
           0,
           0,
           0,
           0,
           0,
           0,
           0,
           0,
           0,
           0,
           0,
           0,
           0,
           0,
           0,
           0,
           0,
           0,
           0,
           0,
           0,
           0,
           0,
           0,
           0,
           0,
           0,
           0,
           0,
           0,
           0,
           0,
           0,
           0,
           0,
           0,
           0,
           0,
           0,
           0,
           0
          ],
          [
           0,
           0,
           0,
           0,
           0,
           0,
           0,
           0,
           0,
           0,
           0,
           0,
           0,
           0,
           0,
           0,
           0,
           0,
           0,
           0,
           0,
           0,
           0,
           0,
           0,
           0,
           0,
           0,
           0,
           0,
           0,
           0,
           0,
           0,
           0,
           0,
           0,
           0,
           0,
           0,
           0,
           0,
           0,
           0,
           0,
           0,
           0,
           0,
           0,
           0,
           0,
           0,
           0,
           0,
           0,
           0,
           0,
           0,
           0,
           0,
           0,
           0,
           0,
           0,
           0,
           0,
           0,
           0,
           0,
           0,
           0,
           0,
           0,
           0,
           0,
           0,
           0,
           0,
           0,
           0,
           0,
           0,
           0,
           0,
           0,
           0,
           0
          ],
          [
           0,
           0,
           0,
           0,
           0,
           0,
           0,
           0,
           0,
           0,
           0,
           0,
           0,
           0,
           0,
           0,
           0,
           0,
           0,
           0,
           0,
           0,
           0,
           0,
           0,
           0,
           0,
           0,
           0,
           0,
           0,
           0,
           0,
           0,
           0,
           0,
           0,
           0,
           0,
           0,
           0,
           0,
           0,
           0,
           0,
           0,
           0,
           0,
           0,
           0,
           0,
           0,
           0,
           0,
           0,
           0,
           0,
           0,
           0,
           0,
           0,
           0,
           0,
           0,
           0,
           0,
           0,
           0,
           0,
           0,
           0,
           0,
           0,
           0,
           0,
           0,
           0,
           0,
           0,
           0,
           0,
           0,
           0,
           0,
           0,
           0,
           0
          ]
         ]
        }
       ],
       "layout": {
        "coloraxis": {
         "colorscale": [
          [
           0,
           "#0d0887"
          ],
          [
           0.1111111111111111,
           "#46039f"
          ],
          [
           0.2222222222222222,
           "#7201a8"
          ],
          [
           0.3333333333333333,
           "#9c179e"
          ],
          [
           0.4444444444444444,
           "#bd3786"
          ],
          [
           0.5555555555555556,
           "#d8576b"
          ],
          [
           0.6666666666666666,
           "#ed7953"
          ],
          [
           0.7777777777777778,
           "#fb9f3a"
          ],
          [
           0.8888888888888888,
           "#fdca26"
          ],
          [
           1,
           "#f0f921"
          ]
         ]
        },
        "margin": {
         "t": 60
        },
        "template": {
         "data": {
          "bar": [
           {
            "error_x": {
             "color": "#2a3f5f"
            },
            "error_y": {
             "color": "#2a3f5f"
            },
            "marker": {
             "line": {
              "color": "#E5ECF6",
              "width": 0.5
             },
             "pattern": {
              "fillmode": "overlay",
              "size": 10,
              "solidity": 0.2
             }
            },
            "type": "bar"
           }
          ],
          "barpolar": [
           {
            "marker": {
             "line": {
              "color": "#E5ECF6",
              "width": 0.5
             },
             "pattern": {
              "fillmode": "overlay",
              "size": 10,
              "solidity": 0.2
             }
            },
            "type": "barpolar"
           }
          ],
          "carpet": [
           {
            "aaxis": {
             "endlinecolor": "#2a3f5f",
             "gridcolor": "white",
             "linecolor": "white",
             "minorgridcolor": "white",
             "startlinecolor": "#2a3f5f"
            },
            "baxis": {
             "endlinecolor": "#2a3f5f",
             "gridcolor": "white",
             "linecolor": "white",
             "minorgridcolor": "white",
             "startlinecolor": "#2a3f5f"
            },
            "type": "carpet"
           }
          ],
          "choropleth": [
           {
            "colorbar": {
             "outlinewidth": 0,
             "ticks": ""
            },
            "type": "choropleth"
           }
          ],
          "contour": [
           {
            "colorbar": {
             "outlinewidth": 0,
             "ticks": ""
            },
            "colorscale": [
             [
              0,
              "#0d0887"
             ],
             [
              0.1111111111111111,
              "#46039f"
             ],
             [
              0.2222222222222222,
              "#7201a8"
             ],
             [
              0.3333333333333333,
              "#9c179e"
             ],
             [
              0.4444444444444444,
              "#bd3786"
             ],
             [
              0.5555555555555556,
              "#d8576b"
             ],
             [
              0.6666666666666666,
              "#ed7953"
             ],
             [
              0.7777777777777778,
              "#fb9f3a"
             ],
             [
              0.8888888888888888,
              "#fdca26"
             ],
             [
              1,
              "#f0f921"
             ]
            ],
            "type": "contour"
           }
          ],
          "contourcarpet": [
           {
            "colorbar": {
             "outlinewidth": 0,
             "ticks": ""
            },
            "type": "contourcarpet"
           }
          ],
          "heatmap": [
           {
            "colorbar": {
             "outlinewidth": 0,
             "ticks": ""
            },
            "colorscale": [
             [
              0,
              "#0d0887"
             ],
             [
              0.1111111111111111,
              "#46039f"
             ],
             [
              0.2222222222222222,
              "#7201a8"
             ],
             [
              0.3333333333333333,
              "#9c179e"
             ],
             [
              0.4444444444444444,
              "#bd3786"
             ],
             [
              0.5555555555555556,
              "#d8576b"
             ],
             [
              0.6666666666666666,
              "#ed7953"
             ],
             [
              0.7777777777777778,
              "#fb9f3a"
             ],
             [
              0.8888888888888888,
              "#fdca26"
             ],
             [
              1,
              "#f0f921"
             ]
            ],
            "type": "heatmap"
           }
          ],
          "heatmapgl": [
           {
            "colorbar": {
             "outlinewidth": 0,
             "ticks": ""
            },
            "colorscale": [
             [
              0,
              "#0d0887"
             ],
             [
              0.1111111111111111,
              "#46039f"
             ],
             [
              0.2222222222222222,
              "#7201a8"
             ],
             [
              0.3333333333333333,
              "#9c179e"
             ],
             [
              0.4444444444444444,
              "#bd3786"
             ],
             [
              0.5555555555555556,
              "#d8576b"
             ],
             [
              0.6666666666666666,
              "#ed7953"
             ],
             [
              0.7777777777777778,
              "#fb9f3a"
             ],
             [
              0.8888888888888888,
              "#fdca26"
             ],
             [
              1,
              "#f0f921"
             ]
            ],
            "type": "heatmapgl"
           }
          ],
          "histogram": [
           {
            "marker": {
             "pattern": {
              "fillmode": "overlay",
              "size": 10,
              "solidity": 0.2
             }
            },
            "type": "histogram"
           }
          ],
          "histogram2d": [
           {
            "colorbar": {
             "outlinewidth": 0,
             "ticks": ""
            },
            "colorscale": [
             [
              0,
              "#0d0887"
             ],
             [
              0.1111111111111111,
              "#46039f"
             ],
             [
              0.2222222222222222,
              "#7201a8"
             ],
             [
              0.3333333333333333,
              "#9c179e"
             ],
             [
              0.4444444444444444,
              "#bd3786"
             ],
             [
              0.5555555555555556,
              "#d8576b"
             ],
             [
              0.6666666666666666,
              "#ed7953"
             ],
             [
              0.7777777777777778,
              "#fb9f3a"
             ],
             [
              0.8888888888888888,
              "#fdca26"
             ],
             [
              1,
              "#f0f921"
             ]
            ],
            "type": "histogram2d"
           }
          ],
          "histogram2dcontour": [
           {
            "colorbar": {
             "outlinewidth": 0,
             "ticks": ""
            },
            "colorscale": [
             [
              0,
              "#0d0887"
             ],
             [
              0.1111111111111111,
              "#46039f"
             ],
             [
              0.2222222222222222,
              "#7201a8"
             ],
             [
              0.3333333333333333,
              "#9c179e"
             ],
             [
              0.4444444444444444,
              "#bd3786"
             ],
             [
              0.5555555555555556,
              "#d8576b"
             ],
             [
              0.6666666666666666,
              "#ed7953"
             ],
             [
              0.7777777777777778,
              "#fb9f3a"
             ],
             [
              0.8888888888888888,
              "#fdca26"
             ],
             [
              1,
              "#f0f921"
             ]
            ],
            "type": "histogram2dcontour"
           }
          ],
          "mesh3d": [
           {
            "colorbar": {
             "outlinewidth": 0,
             "ticks": ""
            },
            "type": "mesh3d"
           }
          ],
          "parcoords": [
           {
            "line": {
             "colorbar": {
              "outlinewidth": 0,
              "ticks": ""
             }
            },
            "type": "parcoords"
           }
          ],
          "pie": [
           {
            "automargin": true,
            "type": "pie"
           }
          ],
          "scatter": [
           {
            "fillpattern": {
             "fillmode": "overlay",
             "size": 10,
             "solidity": 0.2
            },
            "type": "scatter"
           }
          ],
          "scatter3d": [
           {
            "line": {
             "colorbar": {
              "outlinewidth": 0,
              "ticks": ""
             }
            },
            "marker": {
             "colorbar": {
              "outlinewidth": 0,
              "ticks": ""
             }
            },
            "type": "scatter3d"
           }
          ],
          "scattercarpet": [
           {
            "marker": {
             "colorbar": {
              "outlinewidth": 0,
              "ticks": ""
             }
            },
            "type": "scattercarpet"
           }
          ],
          "scattergeo": [
           {
            "marker": {
             "colorbar": {
              "outlinewidth": 0,
              "ticks": ""
             }
            },
            "type": "scattergeo"
           }
          ],
          "scattergl": [
           {
            "marker": {
             "colorbar": {
              "outlinewidth": 0,
              "ticks": ""
             }
            },
            "type": "scattergl"
           }
          ],
          "scattermapbox": [
           {
            "marker": {
             "colorbar": {
              "outlinewidth": 0,
              "ticks": ""
             }
            },
            "type": "scattermapbox"
           }
          ],
          "scatterpolar": [
           {
            "marker": {
             "colorbar": {
              "outlinewidth": 0,
              "ticks": ""
             }
            },
            "type": "scatterpolar"
           }
          ],
          "scatterpolargl": [
           {
            "marker": {
             "colorbar": {
              "outlinewidth": 0,
              "ticks": ""
             }
            },
            "type": "scatterpolargl"
           }
          ],
          "scatterternary": [
           {
            "marker": {
             "colorbar": {
              "outlinewidth": 0,
              "ticks": ""
             }
            },
            "type": "scatterternary"
           }
          ],
          "surface": [
           {
            "colorbar": {
             "outlinewidth": 0,
             "ticks": ""
            },
            "colorscale": [
             [
              0,
              "#0d0887"
             ],
             [
              0.1111111111111111,
              "#46039f"
             ],
             [
              0.2222222222222222,
              "#7201a8"
             ],
             [
              0.3333333333333333,
              "#9c179e"
             ],
             [
              0.4444444444444444,
              "#bd3786"
             ],
             [
              0.5555555555555556,
              "#d8576b"
             ],
             [
              0.6666666666666666,
              "#ed7953"
             ],
             [
              0.7777777777777778,
              "#fb9f3a"
             ],
             [
              0.8888888888888888,
              "#fdca26"
             ],
             [
              1,
              "#f0f921"
             ]
            ],
            "type": "surface"
           }
          ],
          "table": [
           {
            "cells": {
             "fill": {
              "color": "#EBF0F8"
             },
             "line": {
              "color": "white"
             }
            },
            "header": {
             "fill": {
              "color": "#C8D4E3"
             },
             "line": {
              "color": "white"
             }
            },
            "type": "table"
           }
          ]
         },
         "layout": {
          "annotationdefaults": {
           "arrowcolor": "#2a3f5f",
           "arrowhead": 0,
           "arrowwidth": 1
          },
          "autotypenumbers": "strict",
          "coloraxis": {
           "colorbar": {
            "outlinewidth": 0,
            "ticks": ""
           }
          },
          "colorscale": {
           "diverging": [
            [
             0,
             "#8e0152"
            ],
            [
             0.1,
             "#c51b7d"
            ],
            [
             0.2,
             "#de77ae"
            ],
            [
             0.3,
             "#f1b6da"
            ],
            [
             0.4,
             "#fde0ef"
            ],
            [
             0.5,
             "#f7f7f7"
            ],
            [
             0.6,
             "#e6f5d0"
            ],
            [
             0.7,
             "#b8e186"
            ],
            [
             0.8,
             "#7fbc41"
            ],
            [
             0.9,
             "#4d9221"
            ],
            [
             1,
             "#276419"
            ]
           ],
           "sequential": [
            [
             0,
             "#0d0887"
            ],
            [
             0.1111111111111111,
             "#46039f"
            ],
            [
             0.2222222222222222,
             "#7201a8"
            ],
            [
             0.3333333333333333,
             "#9c179e"
            ],
            [
             0.4444444444444444,
             "#bd3786"
            ],
            [
             0.5555555555555556,
             "#d8576b"
            ],
            [
             0.6666666666666666,
             "#ed7953"
            ],
            [
             0.7777777777777778,
             "#fb9f3a"
            ],
            [
             0.8888888888888888,
             "#fdca26"
            ],
            [
             1,
             "#f0f921"
            ]
           ],
           "sequentialminus": [
            [
             0,
             "#0d0887"
            ],
            [
             0.1111111111111111,
             "#46039f"
            ],
            [
             0.2222222222222222,
             "#7201a8"
            ],
            [
             0.3333333333333333,
             "#9c179e"
            ],
            [
             0.4444444444444444,
             "#bd3786"
            ],
            [
             0.5555555555555556,
             "#d8576b"
            ],
            [
             0.6666666666666666,
             "#ed7953"
            ],
            [
             0.7777777777777778,
             "#fb9f3a"
            ],
            [
             0.8888888888888888,
             "#fdca26"
            ],
            [
             1,
             "#f0f921"
            ]
           ]
          },
          "colorway": [
           "#636efa",
           "#EF553B",
           "#00cc96",
           "#ab63fa",
           "#FFA15A",
           "#19d3f3",
           "#FF6692",
           "#B6E880",
           "#FF97FF",
           "#FECB52"
          ],
          "font": {
           "color": "#2a3f5f"
          },
          "geo": {
           "bgcolor": "white",
           "lakecolor": "white",
           "landcolor": "#E5ECF6",
           "showlakes": true,
           "showland": true,
           "subunitcolor": "white"
          },
          "hoverlabel": {
           "align": "left"
          },
          "hovermode": "closest",
          "mapbox": {
           "style": "light"
          },
          "paper_bgcolor": "white",
          "plot_bgcolor": "#E5ECF6",
          "polar": {
           "angularaxis": {
            "gridcolor": "white",
            "linecolor": "white",
            "ticks": ""
           },
           "bgcolor": "#E5ECF6",
           "radialaxis": {
            "gridcolor": "white",
            "linecolor": "white",
            "ticks": ""
           }
          },
          "scene": {
           "xaxis": {
            "backgroundcolor": "#E5ECF6",
            "gridcolor": "white",
            "gridwidth": 2,
            "linecolor": "white",
            "showbackground": true,
            "ticks": "",
            "zerolinecolor": "white"
           },
           "yaxis": {
            "backgroundcolor": "#E5ECF6",
            "gridcolor": "white",
            "gridwidth": 2,
            "linecolor": "white",
            "showbackground": true,
            "ticks": "",
            "zerolinecolor": "white"
           },
           "zaxis": {
            "backgroundcolor": "#E5ECF6",
            "gridcolor": "white",
            "gridwidth": 2,
            "linecolor": "white",
            "showbackground": true,
            "ticks": "",
            "zerolinecolor": "white"
           }
          },
          "shapedefaults": {
           "line": {
            "color": "#2a3f5f"
           }
          },
          "ternary": {
           "aaxis": {
            "gridcolor": "white",
            "linecolor": "white",
            "ticks": ""
           },
           "baxis": {
            "gridcolor": "white",
            "linecolor": "white",
            "ticks": ""
           },
           "bgcolor": "#E5ECF6",
           "caxis": {
            "gridcolor": "white",
            "linecolor": "white",
            "ticks": ""
           }
          },
          "title": {
           "x": 0.05
          },
          "xaxis": {
           "automargin": true,
           "gridcolor": "white",
           "linecolor": "white",
           "ticks": "",
           "title": {
            "standoff": 15
           },
           "zerolinecolor": "white",
           "zerolinewidth": 2
          },
          "yaxis": {
           "automargin": true,
           "gridcolor": "white",
           "linecolor": "white",
           "ticks": "",
           "title": {
            "standoff": 15
           },
           "zerolinecolor": "white",
           "zerolinewidth": 2
          }
         }
        },
        "width": 2000,
        "xaxis": {
         "anchor": "y",
         "constrain": "domain",
         "domain": [
          0,
          1
         ],
         "scaleanchor": "y"
        },
        "yaxis": {
         "anchor": "x",
         "autorange": "reversed",
         "constrain": "domain",
         "domain": [
          0,
          1
         ],
         "title": {
          "text": "Year"
         }
        }
       }
      }
     },
     "metadata": {},
     "output_type": "display_data"
    }
   ],
   "source": [
    "px.imshow(heatmap_pivot_types_df[\"Year\"],width = 2000)"
   ]
  },
  {
   "cell_type": "code",
   "execution_count": null,
   "metadata": {},
   "outputs": [],
   "source": [
    "heatmap_timeline_names = [\"Year\",\"Month\",\"Weekday\",\"Day\",\"hour\",\"minutes\"]\n",
    "chat_details = without_notifications.copy()\n",
    "\n",
    "year_pivot_df = without_notifications.pivot_table(index = \"Year\",columns = \"username\",values = \"message\",aggfunc='count').fillna(0)\n",
    "year_df = year_pivot_df.reset_index()\n",
    "years_data = year_df.Year.unique()\n",
    "\n",
    "years = heatmap_years(chat_details,start_year = 2020, end_year = 2026)\n",
    "\n",
    "for year in years:\n",
    "\n",
    "    if year not in years_data:\n",
    "        data = {col : [0] for col in year_df.columns}\n",
    "        data[\"Year\"] = year  \n",
    "        new_df = pd.DataFrame(data)\n",
    "        year_df = pd.concat([year_df,new_df],ignore_index = True)\n",
    "\n",
    "asec_year_df = year_df.sort_values(by=['Year'],ascending=True)\n",
    "year_pivot_df = asec_year_df.set_index('Year')"
   ]
  },
  {
   "cell_type": "code",
   "execution_count": null,
   "id": "6ba5e4f1",
   "metadata": {},
   "outputs": [
    {
     "data": {
      "text/html": [
       "<div>\n",
       "<style scoped>\n",
       "    .dataframe tbody tr th:only-of-type {\n",
       "        vertical-align: middle;\n",
       "    }\n",
       "\n",
       "    .dataframe tbody tr th {\n",
       "        vertical-align: top;\n",
       "    }\n",
       "\n",
       "    .dataframe thead th {\n",
       "        text-align: right;\n",
       "    }\n",
       "</style>\n",
       "<table border=\"1\" class=\"dataframe\">\n",
       "  <thead>\n",
       "    <tr style=\"text-align: right;\">\n",
       "      <th></th>\n",
       "      <th>date</th>\n",
       "      <th>time</th>\n",
       "      <th>username</th>\n",
       "      <th>chats</th>\n",
       "      <th>date_time</th>\n",
       "      <th>Year</th>\n",
       "      <th>Month_name</th>\n",
       "      <th>Month</th>\n",
       "      <th>Day</th>\n",
       "      <th>Hours</th>\n",
       "      <th>Minutes</th>\n",
       "      <th>only_date</th>\n",
       "      <th>Day name</th>\n",
       "      <th>periods</th>\n",
       "    </tr>\n",
       "  </thead>\n",
       "  <tbody>\n",
       "    <tr>\n",
       "      <th>1533</th>\n",
       "      <td>9/18/22</td>\n",
       "      <td>1:31</td>\n",
       "      <td>Rahul Sem 6</td>\n",
       "      <td>https://youtu.be/eo5bmse-Chs</td>\n",
       "      <td>2022-09-18 01:31:00</td>\n",
       "      <td>2022</td>\n",
       "      <td>September</td>\n",
       "      <td>9</td>\n",
       "      <td>18</td>\n",
       "      <td>1</td>\n",
       "      <td>31</td>\n",
       "      <td>2022-09-18</td>\n",
       "      <td>Sunday</td>\n",
       "      <td>01-02</td>\n",
       "    </tr>\n",
       "    <tr>\n",
       "      <th>1534</th>\n",
       "      <td>9/18/22</td>\n",
       "      <td>1:42</td>\n",
       "      <td>Rahul Sem 6</td>\n",
       "      <td>https://youtu.be/fqfUwFmEbJU</td>\n",
       "      <td>2022-09-18 01:42:00</td>\n",
       "      <td>2022</td>\n",
       "      <td>September</td>\n",
       "      <td>9</td>\n",
       "      <td>18</td>\n",
       "      <td>1</td>\n",
       "      <td>42</td>\n",
       "      <td>2022-09-18</td>\n",
       "      <td>Sunday</td>\n",
       "      <td>01-02</td>\n",
       "    </tr>\n",
       "    <tr>\n",
       "      <th>1535</th>\n",
       "      <td>9/18/22</td>\n",
       "      <td>2:03</td>\n",
       "      <td>+91 79090 27850</td>\n",
       "      <td>69 signatures are still needed, can you add yo...</td>\n",
       "      <td>2022-09-18 02:03:00</td>\n",
       "      <td>2022</td>\n",
       "      <td>September</td>\n",
       "      <td>9</td>\n",
       "      <td>18</td>\n",
       "      <td>2</td>\n",
       "      <td>3</td>\n",
       "      <td>2022-09-18</td>\n",
       "      <td>Sunday</td>\n",
       "      <td>02-03</td>\n",
       "    </tr>\n",
       "    <tr>\n",
       "      <th>1536</th>\n",
       "      <td>9/18/22</td>\n",
       "      <td>7:45</td>\n",
       "      <td>+91 97791 17726</td>\n",
       "      <td>https://twitter.com/MirrorNow/status/157131591...</td>\n",
       "      <td>2022-09-18 07:45:00</td>\n",
       "      <td>2022</td>\n",
       "      <td>September</td>\n",
       "      <td>9</td>\n",
       "      <td>18</td>\n",
       "      <td>7</td>\n",
       "      <td>45</td>\n",
       "      <td>2022-09-18</td>\n",
       "      <td>Sunday</td>\n",
       "      <td>07-08</td>\n",
       "    </tr>\n",
       "    <tr>\n",
       "      <th>1537</th>\n",
       "      <td>9/18/22</td>\n",
       "      <td>7:59</td>\n",
       "      <td>+91 97791 17726</td>\n",
       "      <td>https://www.google.com/amp/s/m.jagran.com/lite...</td>\n",
       "      <td>2022-09-18 07:59:00</td>\n",
       "      <td>2022</td>\n",
       "      <td>September</td>\n",
       "      <td>9</td>\n",
       "      <td>18</td>\n",
       "      <td>7</td>\n",
       "      <td>59</td>\n",
       "      <td>2022-09-18</td>\n",
       "      <td>Sunday</td>\n",
       "      <td>07-08</td>\n",
       "    </tr>\n",
       "  </tbody>\n",
       "</table>\n",
       "</div>"
      ],
      "text/plain": [
       "         date  time         username  \\\n",
       "1533  9/18/22  1:31      Rahul Sem 6   \n",
       "1534  9/18/22  1:42      Rahul Sem 6   \n",
       "1535  9/18/22  2:03  +91 79090 27850   \n",
       "1536  9/18/22  7:45  +91 97791 17726   \n",
       "1537  9/18/22  7:59  +91 97791 17726   \n",
       "\n",
       "                                                  chats           date_time  \\\n",
       "1533                      https://youtu.be/eo5bmse-Chs  2022-09-18 01:31:00   \n",
       "1534                      https://youtu.be/fqfUwFmEbJU  2022-09-18 01:42:00   \n",
       "1535  69 signatures are still needed, can you add yo... 2022-09-18 02:03:00   \n",
       "1536  https://twitter.com/MirrorNow/status/157131591... 2022-09-18 07:45:00   \n",
       "1537  https://www.google.com/amp/s/m.jagran.com/lite... 2022-09-18 07:59:00   \n",
       "\n",
       "      Year Month_name  Month  Day  Hours  Minutes   only_date Day name periods  \n",
       "1533  2022  September      9   18      1       31  2022-09-18   Sunday   01-02  \n",
       "1534  2022  September      9   18      1       42  2022-09-18   Sunday   01-02  \n",
       "1535  2022  September      9   18      2        3  2022-09-18   Sunday   02-03  \n",
       "1536  2022  September      9   18      7       45  2022-09-18   Sunday   07-08  \n",
       "1537  2022  September      9   18      7       59  2022-09-18   Sunday   07-08  "
      ]
     },
     "execution_count": 67,
     "metadata": {},
     "output_type": "execute_result"
    }
   ],
   "source": [
    "WCA[\"only_date\"]=WCA[\"date_time\"].dt.date\n",
    "WCA.tail()"
   ]
  },
  {
   "cell_type": "markdown",
   "id": "848b1427",
   "metadata": {},
   "source": [
    "# Similar users"
   ]
  },
  {
   "cell_type": "code",
   "execution_count": null,
   "id": "7d0a366e",
   "metadata": {},
   "outputs": [
    {
     "data": {
      "text/html": [
       "<div>\n",
       "<style scoped>\n",
       "    .dataframe tbody tr th:only-of-type {\n",
       "        vertical-align: middle;\n",
       "    }\n",
       "\n",
       "    .dataframe tbody tr th {\n",
       "        vertical-align: top;\n",
       "    }\n",
       "\n",
       "    .dataframe thead th {\n",
       "        text-align: right;\n",
       "    }\n",
       "</style>\n",
       "<table border=\"1\" class=\"dataframe\">\n",
       "  <thead>\n",
       "    <tr style=\"text-align: right;\">\n",
       "      <th></th>\n",
       "      <th>username</th>\n",
       "      <th>chats</th>\n",
       "    </tr>\n",
       "  </thead>\n",
       "  <tbody>\n",
       "    <tr>\n",
       "      <th>0</th>\n",
       "      <td>+91 6395 347 424</td>\n",
       "      <td>&lt;Media omitted&gt;</td>\n",
       "    </tr>\n",
       "    <tr>\n",
       "      <th>1</th>\n",
       "      <td>+91 6395 347 424</td>\n",
       "      <td>&lt;Media omitted&gt;</td>\n",
       "    </tr>\n",
       "    <tr>\n",
       "      <th>2</th>\n",
       "      <td>+91 6395 347 424</td>\n",
       "      <td>&lt;Media omitted&gt;</td>\n",
       "    </tr>\n",
       "    <tr>\n",
       "      <th>3</th>\n",
       "      <td>+91 6395 347 424</td>\n",
       "      <td>&lt;Media omitted&gt;</td>\n",
       "    </tr>\n",
       "    <tr>\n",
       "      <th>4</th>\n",
       "      <td>+91 6395 347 424</td>\n",
       "      <td>&lt;Media omitted&gt;</td>\n",
       "    </tr>\n",
       "    <tr>\n",
       "      <th>...</th>\n",
       "      <td>...</td>\n",
       "      <td>...</td>\n",
       "    </tr>\n",
       "    <tr>\n",
       "      <th>1533</th>\n",
       "      <td>Rahul Sem 6</td>\n",
       "      <td>https://youtu.be/eo5bmse-Chs</td>\n",
       "    </tr>\n",
       "    <tr>\n",
       "      <th>1534</th>\n",
       "      <td>Rahul Sem 6</td>\n",
       "      <td>https://youtu.be/fqfUwFmEbJU</td>\n",
       "    </tr>\n",
       "    <tr>\n",
       "      <th>1535</th>\n",
       "      <td>+91 79090 27850</td>\n",
       "      <td>69 signatures are still needed, can you add yo...</td>\n",
       "    </tr>\n",
       "    <tr>\n",
       "      <th>1536</th>\n",
       "      <td>+91 97791 17726</td>\n",
       "      <td>https://twitter.com/MirrorNow/status/157131591...</td>\n",
       "    </tr>\n",
       "    <tr>\n",
       "      <th>1537</th>\n",
       "      <td>+91 97791 17726</td>\n",
       "      <td>https://www.google.com/amp/s/m.jagran.com/lite...</td>\n",
       "    </tr>\n",
       "  </tbody>\n",
       "</table>\n",
       "<p>1538 rows × 2 columns</p>\n",
       "</div>"
      ],
      "text/plain": [
       "              username                                              chats\n",
       "0     +91 6395 347 424                                   <Media omitted> \n",
       "1     +91 6395 347 424                                   <Media omitted> \n",
       "2     +91 6395 347 424                                   <Media omitted> \n",
       "3     +91 6395 347 424                                   <Media omitted> \n",
       "4     +91 6395 347 424                                   <Media omitted> \n",
       "...                ...                                                ...\n",
       "1533       Rahul Sem 6                      https://youtu.be/eo5bmse-Chs \n",
       "1534       Rahul Sem 6                      https://youtu.be/fqfUwFmEbJU \n",
       "1535   +91 79090 27850  69 signatures are still needed, can you add yo...\n",
       "1536   +91 97791 17726  https://twitter.com/MirrorNow/status/157131591...\n",
       "1537   +91 97791 17726  https://www.google.com/amp/s/m.jagran.com/lite...\n",
       "\n",
       "[1538 rows x 2 columns]"
      ]
     },
     "execution_count": 128,
     "metadata": {},
     "output_type": "execute_result"
    }
   ],
   "source": [
    "WCA_copy.drop([\"date\",\"time\"],inplace=True,axis=1)\n",
    "WCA_copy"
   ]
  },
  {
   "cell_type": "code",
   "execution_count": null,
   "id": "a8635264",
   "metadata": {},
   "outputs": [],
   "source": [
    "emojis=[]\n",
    "\n",
    "e=[]\n",
    "\n",
    "for i,j in emoji.get_emoji_unicode_dict('en').items():\n",
    "    e.append(j)\n",
    "\n",
    "e.append('✌')\n",
    "e.append('✍️')\n",
    "e.append('☝️')\n",
    "\n",
    "new_chats=[] \n",
    "\n",
    "for msg in WCA_copy[\"chats\"]:\n",
    "    for words in msg:\n",
    "        for letters in words:\n",
    "            if(letters in e):\n",
    "                msg = msg.replace(letters,\"\")\n",
    "    \n",
    "    new_chats.append(msg)\n",
    "\n",
    "WCA_copy[\"chats\"]=new_chats \n"
   ]
  },
  {
   "cell_type": "code",
   "execution_count": null,
   "id": "0e947a27",
   "metadata": {},
   "outputs": [],
   "source": [
    "from urlextract import URLExtract\n",
    "extract = URLExtract()\n",
    "\n",
    "new_chats=[]\n",
    "for msg in WCA_copy[\"chats\"]:\n",
    "    for links in extract.find_urls(msg):\n",
    "        msg=msg.replace(links,'')\n",
    "    \n",
    "    new_chats.append(msg)\n",
    "    \n",
    "WCA_copy[\"chats\"]=new_chats\n",
    "WCA_copy=WCA_copy[WCA_copy[\"chats\"]!='<Media omitted> ']"
   ]
  },
  {
   "cell_type": "code",
   "execution_count": null,
   "id": "2acfd1e9",
   "metadata": {},
   "outputs": [],
   "source": [
    "WCA_copy.drop(\"index\",axis=1,inplace=True)"
   ]
  },
  {
   "cell_type": "code",
   "execution_count": null,
   "id": "afb88216",
   "metadata": {},
   "outputs": [],
   "source": [
    "WCA_copy=WCA_copy[WCA_copy[\"chats\"]!=' ']"
   ]
  },
  {
   "cell_type": "code",
   "execution_count": null,
   "id": "1e9a336a",
   "metadata": {},
   "outputs": [],
   "source": [
    "WCA_copy.reset_index(inplace=True)"
   ]
  },
  {
   "cell_type": "code",
   "execution_count": null,
   "id": "8cbbaab0",
   "metadata": {},
   "outputs": [],
   "source": [
    "WCA_copy.drop(\"index\",axis=1,inplace=True)"
   ]
  },
  {
   "cell_type": "code",
   "execution_count": null,
   "id": "4393d27f",
   "metadata": {},
   "outputs": [
    {
     "data": {
      "text/html": [
       "<div>\n",
       "<style scoped>\n",
       "    .dataframe tbody tr th:only-of-type {\n",
       "        vertical-align: middle;\n",
       "    }\n",
       "\n",
       "    .dataframe tbody tr th {\n",
       "        vertical-align: top;\n",
       "    }\n",
       "\n",
       "    .dataframe thead th {\n",
       "        text-align: right;\n",
       "    }\n",
       "</style>\n",
       "<table border=\"1\" class=\"dataframe\">\n",
       "  <thead>\n",
       "    <tr style=\"text-align: right;\">\n",
       "      <th></th>\n",
       "      <th>username</th>\n",
       "      <th>chats</th>\n",
       "    </tr>\n",
       "  </thead>\n",
       "  <tbody>\n",
       "    <tr>\n",
       "      <th>0</th>\n",
       "      <td>Gourav</td>\n",
       "      <td>Someone please share the mooc form</td>\n",
       "    </tr>\n",
       "    <tr>\n",
       "      <th>1</th>\n",
       "      <td>Aditya Thakur Cu</td>\n",
       "      <td>Regarding MOOCS-III   Pls do not try and uploa...</td>\n",
       "    </tr>\n",
       "    <tr>\n",
       "      <th>2</th>\n",
       "      <td>Gourav</td>\n",
       "      <td>Thank</td>\n",
       "    </tr>\n",
       "    <tr>\n",
       "      <th>3</th>\n",
       "      <td>Gourav</td>\n",
       "      <td>Thank</td>\n",
       "    </tr>\n",
       "    <tr>\n",
       "      <th>4</th>\n",
       "      <td>+91 70090 64835</td>\n",
       "      <td>Chill buddy</td>\n",
       "    </tr>\n",
       "    <tr>\n",
       "      <th>...</th>\n",
       "      <td>...</td>\n",
       "      <td>...</td>\n",
       "    </tr>\n",
       "    <tr>\n",
       "      <th>1007</th>\n",
       "      <td>+91 94226 69124</td>\n",
       "      <td>Full support</td>\n",
       "    </tr>\n",
       "    <tr>\n",
       "      <th>1008</th>\n",
       "      <td>+91 79090 27850</td>\n",
       "      <td>Hello guys, A girl attempted suicide in Cu tod...</td>\n",
       "    </tr>\n",
       "    <tr>\n",
       "      <th>1009</th>\n",
       "      <td>+91 79090 27850</td>\n",
       "      <td>++infinity</td>\n",
       "    </tr>\n",
       "    <tr>\n",
       "      <th>1010</th>\n",
       "      <td>+91 70823 30760</td>\n",
       "      <td>Full support</td>\n",
       "    </tr>\n",
       "    <tr>\n",
       "      <th>1011</th>\n",
       "      <td>+91 79090 27850</td>\n",
       "      <td>69 signatures are still needed, can you add yo...</td>\n",
       "    </tr>\n",
       "  </tbody>\n",
       "</table>\n",
       "<p>1012 rows × 2 columns</p>\n",
       "</div>"
      ],
      "text/plain": [
       "              username                                              chats\n",
       "0               Gourav                Someone please share the mooc form \n",
       "1     Aditya Thakur Cu  Regarding MOOCS-III   Pls do not try and uploa...\n",
       "2               Gourav                                            Thank  \n",
       "3               Gourav                                            Thank  \n",
       "4      +91 70090 64835                                       Chill buddy \n",
       "...                ...                                                ...\n",
       "1007   +91 94226 69124                                      Full support \n",
       "1008   +91 79090 27850  Hello guys, A girl attempted suicide in Cu tod...\n",
       "1009   +91 79090 27850                                        ++infinity \n",
       "1010   +91 70823 30760                                      Full support \n",
       "1011   +91 79090 27850  69 signatures are still needed, can you add yo...\n",
       "\n",
       "[1012 rows x 2 columns]"
      ]
     },
     "execution_count": 137,
     "metadata": {},
     "output_type": "execute_result"
    }
   ],
   "source": [
    "WCA_copy"
   ]
  },
  {
   "cell_type": "code",
   "execution_count": null,
   "id": "1f3cc8f5",
   "metadata": {},
   "outputs": [
    {
     "data": {
      "text/html": [
       "<div>\n",
       "<style scoped>\n",
       "    .dataframe tbody tr th:only-of-type {\n",
       "        vertical-align: middle;\n",
       "    }\n",
       "\n",
       "    .dataframe tbody tr th {\n",
       "        vertical-align: top;\n",
       "    }\n",
       "\n",
       "    .dataframe thead th {\n",
       "        text-align: right;\n",
       "    }\n",
       "</style>\n",
       "<table border=\"1\" class=\"dataframe\">\n",
       "  <thead>\n",
       "    <tr style=\"text-align: right;\">\n",
       "      <th></th>\n",
       "      <th>username</th>\n",
       "      <th>chats</th>\n",
       "    </tr>\n",
       "  </thead>\n",
       "  <tbody>\n",
       "    <tr>\n",
       "      <th>0</th>\n",
       "      <td>Gourav</td>\n",
       "      <td>Someone please share the mooc form</td>\n",
       "    </tr>\n",
       "    <tr>\n",
       "      <th>1</th>\n",
       "      <td>Aditya Thakur Cu</td>\n",
       "      <td>Regarding MOOCS-III   Pls do not try and uploa...</td>\n",
       "    </tr>\n",
       "    <tr>\n",
       "      <th>2</th>\n",
       "      <td>Gourav</td>\n",
       "      <td>Thank</td>\n",
       "    </tr>\n",
       "    <tr>\n",
       "      <th>3</th>\n",
       "      <td>+91 70090 64835</td>\n",
       "      <td>Chill buddy</td>\n",
       "    </tr>\n",
       "    <tr>\n",
       "      <th>4</th>\n",
       "      <td>Aditya Thakur Cu</td>\n",
       "      <td>@919422669124</td>\n",
       "    </tr>\n",
       "    <tr>\n",
       "      <th>...</th>\n",
       "      <td>...</td>\n",
       "      <td>...</td>\n",
       "    </tr>\n",
       "    <tr>\n",
       "      <th>930</th>\n",
       "      <td>+91 94226 69124</td>\n",
       "      <td>Full support</td>\n",
       "    </tr>\n",
       "    <tr>\n",
       "      <th>931</th>\n",
       "      <td>+91 79090 27850</td>\n",
       "      <td>Hello guys, A girl attempted suicide in Cu tod...</td>\n",
       "    </tr>\n",
       "    <tr>\n",
       "      <th>932</th>\n",
       "      <td>+91 79090 27850</td>\n",
       "      <td>++infinity</td>\n",
       "    </tr>\n",
       "    <tr>\n",
       "      <th>933</th>\n",
       "      <td>+91 70823 30760</td>\n",
       "      <td>Full support</td>\n",
       "    </tr>\n",
       "    <tr>\n",
       "      <th>934</th>\n",
       "      <td>+91 79090 27850</td>\n",
       "      <td>69 signatures are still needed, can you add yo...</td>\n",
       "    </tr>\n",
       "  </tbody>\n",
       "</table>\n",
       "<p>935 rows × 2 columns</p>\n",
       "</div>"
      ],
      "text/plain": [
       "             username                                              chats\n",
       "0              Gourav                Someone please share the mooc form \n",
       "1    Aditya Thakur Cu  Regarding MOOCS-III   Pls do not try and uploa...\n",
       "2              Gourav                                            Thank  \n",
       "3     +91 70090 64835                                       Chill buddy \n",
       "4    Aditya Thakur Cu                                     @919422669124 \n",
       "..                ...                                                ...\n",
       "930   +91 94226 69124                                      Full support \n",
       "931   +91 79090 27850  Hello guys, A girl attempted suicide in Cu tod...\n",
       "932   +91 79090 27850                                        ++infinity \n",
       "933   +91 70823 30760                                      Full support \n",
       "934   +91 79090 27850  69 signatures are still needed, can you add yo...\n",
       "\n",
       "[935 rows x 2 columns]"
      ]
     },
     "execution_count": 138,
     "metadata": {},
     "output_type": "execute_result"
    }
   ],
   "source": [
    "WCA_copy=WCA_copy.drop_duplicates(keep=\"first\").reset_index().drop(\"index\",axis=1)\n",
    "WCA_copy "
   ]
  },
  {
   "cell_type": "code",
   "execution_count": null,
   "id": "fce8c968",
   "metadata": {},
   "outputs": [],
   "source": [
    "user_dict={}\n",
    "\n",
    "for user in WCA_copy[\"username\"].unique().tolist():\n",
    "    user_WCA = WCA_copy[WCA_copy[\"username\"]==user]\n",
    "    \n",
    "    user_chats=[]\n",
    "    for msg in user_WCA[\"chats\"]:\n",
    "        user_chats.append(msg)\n",
    "    \n",
    "    user_chats=' '.join(user_chats)\n",
    "    user_dict[user]=user_chats"
   ]
  },
  {
   "cell_type": "code",
   "execution_count": null,
   "id": "97b175de",
   "metadata": {},
   "outputs": [
    {
     "data": {
      "text/plain": [
       "{'Gourav': 'Someone please share the mooc form  Thank   Domain?  You deleted this message  White sheet  Anyone good at node js ',\n",
       " 'Aditya Thakur Cu': 'Regarding MOOCS-III   Pls do not try and upload ur proofs on the Drive.... pls kindly upload the proofs in the pdf format under the name (UID_NAME)  in the form link...    Link of Form (for proof) :   @919422669124  As per instructions received, a workshop is scheduled in the auditorium of Block-C2 on 9th August, 2022  and for that around 500 students are required from CSE-3rd Year.   Note: It is mandatory for students to bring their laptops during the workshop.   Kindly find the details of the TPP sections(BE CSE/IT 2020 Batch) which are required for a workshop on 9th August, 2022 and they are required to report in the auditorium at 10:25 am sharp.   1. 20BCS_MM-804 2. 20BCS_MM-805 3. 20BCS_MM-806 4. 20BCS_MM-807 5. 20BCS_MM-901 6. 20BCS_MM-902 7. 20BCS_MM-903   @DeepShikha Chhabra  Kindly ensure faculty having lectures in the said duration should be available in the auditorium along with students and instruct them to take the attendance of the student so that attendance will be shared with DCPD trainers for marking of attendance on CUIMS.  Also inform students of your respective sections through mentors and CRs.  No lecture will be conducted for the above mentioned sections on 9th August, 2022 from 10:20 am till 12:50 pm. The lectures will commence from 1:00 pm onwards.  Han bhaii  Jo bhi auditorium mei aya h vo apni attendence lga do karan ke pass  Kha ho bhai dikhe nhi  Lga diya.  Bhai college band karwa de   Nhi  bhaii ml wali ne bola toh hai pr kal class nhi h  Ane ml wali ne bhi bola h  Nhi  Bhai tu apne section mei bol jaa kr humare toh abhi tak koi nhi kr  rha  Cr grp mei bhi ye bej deee  Full support bhaii   Han mei kr rha hu support   Fir ye print kyu karwa rhy h sare  Sab ke sab hai   Han  Bej de aptitude walo   Ko  Han bhai bol answer bato is ka  Done bhaii   Tu matt karna bdsk  A walo ke liye h  Selmon bhai  Bhai ki movie aa rhi h   Ye toh selmon bhai hi bta paye ge  Yeahhhhh   Swag se kre ge sakba swaagat   Ye answer bta rha h ya puch rha h?  Abe  Han whi kr rhy h   Bhai bej se hai toh   Ye kuch aaya  Dukh huya muje  +1  1  Abe iska answer bej do koi  Upr dekh le beje h  Nhi bhai..  Vro   Tu shi wale bej deee  Nhi tuka lga diya  D  Bhai goggle pr mil rhy iske toh  32  Bhaii passage ke answer bejo yarr   @917082330760  5  Hnn  Hnnn  Pta ni bhai naam toh timetable mei dekh le  Abe kuch matt kroo  Jadya ho jaye gaaa  null  Abe dekhne gya tha abhi  class mei  Yeahh  boi   Hmm ',\n",
       " '+91 70090 64835': 'Chill buddy  Cr ne bheja  Kya mtlb h  Impressive  Buddij Daa ke exp. kaha submit krne hain  Topper kon h  Abhi tak lga ni koi  Laaye hum b h but krne ka icchuk nii  70 lge h bhai but koi dikkt ni  Chill  Full support from my side  Himanshu ko bolo  Jyada mauj hojegi  @916284341681 @917082530508 @916283753746 @918307789067 @919755246756 @918299678341  Tagged  Mmt wale ko bolo ki soft copy ka juggad dekhle koi  Terko lgra inti convo. Padhenge  Itni  Sir ko bolo folder vgera ya kuch bnaye  Worksheet pdi h  Think so  35  This 1  Result aagya  Topper bhaii  Your choice buddy  Mene toh yhi kre hai  Agr isi ki video bheju toh sai lgega?  .5 wale krne hai abhi mne  null  4th ki gurantee ni baaki sai h  Changed answers  *Process Synchronisation Process Wala Para* ☝️  Sabr kro  Not till now  Iska confirm ni  Koi 64 bolra koi 32  C confirm  32 confirm  App. soft  Use nested macros  @917297924756 bhai net pe sare pde hain  search krle  Iska answer glt hai mera  yeh option ni g  h  When there is single input variable para 1. Regression coefficients 2. Ignore 3. Coefficient of determination 4. Direct 5. Anova  Machine learning is an application of ...  1. Hidden attribute 2. PCA 3. Purposive sampling 4. The distribution of means from multiple samples 5. Given email labeled as spam, not spam, learn a spam filter  Process which is used to determine the best... 1. Dataset 2. i, ii, iii, and iv 3. By its slope 4. Feature F1 is an example of ordinal variable 5. All of the above  Data visualization provides a perspective... 1. plt.plot(x,y) 2. plt.plot(h,w,marker=\"*\") #h and w are data representing x axis and y axis 3. hist() 4. Line chart 5. xticks()  Merko b chahiye  Mene continous kra  Yeh sai h  Jo marked ni h unka C ayega  C  Ya  Implies  ??  Mene output krr dia  Para upr saare bheje huye h  72 aaye  C wala glt c table ch  Baaki saii c  Dn ',\n",
       " '+91 70823 30760': 'Congrats Nikhil  Congrats karan  Grp mein hai voh?  Ok  Abhi naye hai na sabh bhai toh ptaa na lagta   *Important Update*You can make project from Any Section. Also no project classes from next week probably because it will give us free time to work on project  ye sahi hai kya??  Acha     Bhai individual bnaa skte?  Kuch class ke  Cr bol rahe ki project coordinator ne bola hai meeting mein ki bnaa skte  Ek baar confirm krdo  Sat working??  Kya pta  Abh kya nya bhakchodi aya hai   Ye toh CU mein aate hi khtm ho gaye the   Kisi ke grp mein jagah ho toh yaar add krlo Mujhe bhi  10:20 se workshop hai na   Register kl hi kr liya tha lekin Ss nhi liya Abh mil jaayega ss?  Left side 6th row  ML ka worksheet kabh tk submit krna hai??  Or krna kya hai usme ??  Khaali worksheet submit krde kya   Han  Han bhai bhej dena idhar bhi  I am on medical leave from 16th to 18th August  Pls, yaar dhyan rkhna kahin koi teacher present na lagaa de  @919422669124  Uid 20bcs7992 Name pranaya  Aaj SS Mein kya hua tha??  Next class ke liye kuch bola hai?  Ki resume banana hai ya or kuch?  Thik hai  Dhanyavaad  Java 1.1 ka worksheet hai toh bhejdo  Han pls   @919422669124 pls try if possible  Ok Thanks  D4  Same question  Har Subject\\'s teacher ke naam or unke phone number bhej skta koi?  Phone number?  Monika Mam Rakesh Sir - Aptitude Namarata Mam - competitive coding Monika Mam - SP  Inka number bhejna  Dear All  As per the discussion with E-governance, the revised assessment guidelines  for Physical reported students(B.E CSE/IT-5th semester students) are as follows.  The assessments namely Assignments and Surprise test are required to be submitted by students in the form of Hardcopy i.e Handwritten.  While the worksheets for practical must be submitted by students through LMS only.  Note: The guidelines for Online students will remain same as per shared SOPs.  Yes satya hai??  Yeh*  Kya padhaya hai sir ne abhi tk mmt mein??  Apna java ka kitna experiment hua hai abhi tk?  Teeno ka worksheet bhej skte ho?  Or koi worksheet bhi submit krna tha kya?  Aaj tk mein ?  Thik hai   Dhanyavaad bhai   Assignment apne ko White sheet pr likhna ya copy ke page pr chlega ??  OS ki Assignment kaise krni hai?  Sir ne jo section list bheja hai  voh 804 ka hai Apne ko kaise krna  Ye java Assignment ke set kidhar bheje hai??  Viva theory class mein hoga ya lab class mein??  SP ki 10sep OS ki 12sep MMT ki 10sep   Or baaki kisi sub ki Assignment ki due date batai hai?  807-A ko  Ok Thanks   Java ka worksheet quize bhej do agr kisine kr liye toh  5  Dear all,  Check drive for the topics Model validation Approach and Bias - Variance Dichotomy that are to be discussed in class tomorrow  Konsa drive??  Pehle kr diya phir kyun karega   Mujhe bhi batao   OS ka set na smjh aya Baaki ML ka mam bhej diye the  Section 804 nhi tha usme   A  Srry dikha nhi tha  Thanks   Java?  Use Google  Sabh ans milega   ML set 4 OS  set 1 Or baaki kisi aur subject ka Assignment banaya ho toh Ans bhej do   Viva mein kya kya pucha??  Acha    question btaa skte ho?  dhnayavaad bhai    kya hai ye  kyun ?      usse kaho big boss se sambhaale bs abh  eid pe bechaare producers ka paisa kyun dubaa rahe  selmon bhai fan  Kisi ne start karaa?  Asaan hai ya mushkil?   Mtlb para mein lagenge  When u have Google and good internet speed  Sbke para same hai kya   Paper dekh ke behosh  Bhai ye mila?  Ans bhejna iske   Mile ans.?  Media wala shayad isme hai  Case wala bhi hai isme  Iske teen ans mil gaye hai alg alg   A and c only karaa iska  Mere dost ka Solaris sahi hua    Kya chl rha ye  Toh abh unix krna ya Solaris   Na  daa ka assignment ka ans hai kisi ke paas ?  mane submit nhi karaa tha  isliye maang rha  Hai?  Dhanyavaad bhai   Agr dusre attempt mein aaye toh pehle wala mana jaayega?   Number ke liye?  Jo drive bheja hai official mein usme sirf cc ka 1.4 hi submit krna hai???  Thik hai   Dear CR,   Please inform the Students via WhatsApp Group that their Topic for Formal Presentation is *\"One Emerging Technology/Innovation in your Domain (Engineering)* And they have time till Sunday 18th Sept Midnight to submit it to the CR. (Via Drive Link created by the CR)  isme kya krna hai??  aaj hua tha ye ?  kya krna hoga usme?  ok thanks  Soft skills ke teacher change hue hai kya??  Naye teacher ka naam ya number hai?   aaj hi  acha   han bhai bhej dena  Han bhai bhej do  Quiz krne the kya kisi sub ke??  Ye bhi btaa do   Shubhratri  Full support ',\n",
       " '+91 6392 315 634': 'Karan bhai apna cr  Hn hai  @919422669124  Piche baitha hai cr everyone say hi  Workshops hai c2 block mein  Right side ke row mein  +1  =?  Hn  Dear All,   The student Hitesh having UID 20bBCS2175 of Section 20BCS_MM_802 has not contacted his family or friends since yesterday.. His parents are worried.. This  is the latest clip shared from the University authorities... Anyone if can identify the girl .. kindly contact AD Sir office immediately...  20bcs2715  Is the UID  Viva mm mein hai  Apni shradha se jab dedo  Are chlo  Tumhare class wale sb laen hn hardcopy  Unko roko  1800 mein humlog funcity ja skte hn  Abe hn b wale  Vhi karan hod ban jaega tb ye sab krna  Hn kar chiz ka reminder dete rha karo  Kal hai mmt ka viva?  Stapler laana class mein  Hn bhai humko bhi  Han  Bhai time waste hoga na  Ho rha itna der se login?  React sabkoi kr skte hn  Abe aptitude  Ka bhjo koi ',\n",
       " 'Rahul Sem 6': 'congratulations karan bhai  anyone want to join project group we need 2 members  we are making research paper  sayad 15  c2 me kha  konse floor pe h auditorium  thike bhai  @919422669124 bhai right side bhi aana  summer training me jo detain h wo kya kare bhai kisi ko koi idea   resume k bare me bata rahe  rahi*  ha next class se pahle resume drive pe upload karna h  1 ko h na wo to  3 sayad  Ha bhejta hu  na sayad yahi tha  experiments se related  thoda bahut theory se bhi  Ha  use of numpy info kya hota hai recursion bias variance types of ml- 4 types explain  kisi ka lms open ho Raha h?  recurrence tree method wala para h kya kisi pe  kisi k pass ( Statement 1 abstract class Shape { String color; abstract double area();   ye parah kya  bhej na bhai  ok mil gya  kisi pe mmt 1.4 hai to bhej do  what is bitmap iska bata do koi  thx bro   71  3:30  what is the remainder when 1!+3!+3!+....+50! is divisible by 6? 1 4 2 3  anyone pls  paka na bhai  thx bhai  unit digit of sum of first 121 natural number 1 4 2 3  @917009064835  ha bhai  passage me bahut galat answer bhi h guys  mane submit kiya sirf 55 marks aaye hai   51*  question to bhej de bhai  in linear regression the output isdiscrete  continuous and always lies in a finite range  continuous  may be discrete or continuous  a histogram is  is a bar chart  is a graphic representation of frequency of a qualitative or categorical variable  is a graphic representation of the frequency of a continuous variable  is an alternative yo a pie chart  ??  and this??  @917297924756  @917009064835 bhai bata na  exogenous variables are the name given to  input variable output variable input and output both none  select the disadvantage of decisions tree  factor analysis  decision tree are robust to outlier  decision tree are are prone to be overfit  none  ok  bhai iska confirm bata do koi  bhai koi batayega mmt me kitne questions karne hai  ???  ok thanks  quiz 2  under unit 2  ha  Harpreet Singh jagi sayd  kab tak karni h  kal tak time h na sayad?  kya bhai faltu tention de raha  kal bhej dunga  abhi hua nhi hai  thike  aptitude hi tha sayad bas  bas sayad ppt hi upload karna h  good night bhai ',\n",
       " '+91 94226 69124': 'Thanx boiz   Han bhai hu  sahi h ye  bna sakte h  Nhi bhai  Meeting m hi hu m  Join next meeting  Ise join karlo abi suru hue h  Yaaaa   Kaha baitha h?  Abscentees Kamya Brata Vanshika Saba Mohmood  Kamya  Vanshika  Abscentees todal  Today*  Follow this link to join my WhatsApp group All jaldi se join karlo  Okay bro  Ok bat karta hu  Seating plan check kar uid dalke  Sabko pata h bhae itna faltu paisa nhi h to please koi bhi submit mat karna  Bohot jyada worksheet hone wali h aane wale experiment m sirf yahi karate reh jayenge , abhi unhone suru kiya h abi tym h saare support karo or responsiblity lo yaaar koi bhi nahi karega  Pehle se pange chalre h waha  Guys apni class ki responsibility m lunga agr kuch hua to par saare support karna aage agr kuch hua to dekh lenge  Or isse barbad hum  Saare confirmation dalo or agr koi karna chahta to vo bhi bata dio pls  B walo se bhi baat karli h  Vo bhi nahi karenge  Tu apne unofficial grp m dhyan dena unhe samja tere class m unity kamm h  Aaaj hi btaya na  Abhi sirf ek worksheet h bhai aage bohot hone wali h utna hi jyada content bhi hoga to abi ise dabaya jaaa skata h  Teacher ko clr bata do ki hmare paas nhi h itna paisa or tym ki yaha barbad karen  Or class m koi ek nahi saare bolna aaj B walon ka h vo sab bolenge or kal humara mtlb A walo ka  Unke pass jyada paisa h kya  Bhae B walo ko sambhalo  Naahi bhae agr kisi cheej ke against khade h to khud ko perfect rakhna hoga , ye mat karna ki tunne soft copy bnayi hi nhi h  Kaaam jrur karna or perfect karke rakhna par printout nhi dena h  Abey tansion naa lonagr kisi ki nahi bni h koi to bta diya karo worksheet saari mil jaegi bas complete rakhna ,  Virodh karna h Hard copy ka naaki kaam ka ok Dhyam rakhna motive kya h  Bhai pass rakh apne  Haan shi bolra h tu  Bhai bhai pad lenge sab itni tansion kyu lera h  Jo bhi na mile muje bta dio bhai  Ye b shi kehra  Uska jugad karta hu m aaj hi  43 p3  3* only  Random no leke karde  Haan 3 hi sets h or teeno m  3-3 qsn h jo dono section ke 76 bacho ko koi b ek set select or us set ke teeno qsns ko karke sir ko submit karne h  Assignment me first page bnana h bhae har subject m  Official grp b dekh liya kro kbi  ML ki 6 sep and PBLJ ki 5 sep  Yes bro  Worksheet bhi sari  karni h  MSTs se pehle  OS and SP  ki nhi h koi worksheets  Naa mandatory nhi h par ho jaaye to la sakte ho  Nah  Isme se koi bi ek set attempt karna h java assignment m  Bhoiz form fill karte do jaldi se official jo bheja h mne  Jaldi fill kardo fayde ki baat h  Tu rehne de  Solaris  H  nhi agr ye wala diya to jo bhi hoga yhi hoga  Noted  Guys Next class bunk maara jaaye kya  Maza aaegnga  ++1  +1  Coordinator se baat ho gyi h bhoiz kal ya iske baad agr koi puchta h kya reason tha to bolna h hmari second last class bhi basement m hi thi pr fir last class bhi  Second last class m suffocation hadd se jyada ho rha h niche  Hmare andar himmat nhi thi ek class or itni garmi m jhelne ki  Already m pehle hi Cr meetings m ye pt utha chuka hu ki niche wale floor m dikkat hoti h to tum sab bol sakte ho aaram se ki ye reason tha hm nhi padh paate h basement m  Baat khtm  Reason valid h or Cordinator se mne bta diya h yhi call aya tha cordinator maam ka  Full support ',\n",
       " '+91 99921 99871': \"  *FOR CRYPTO TRADERS*  *Daily Earn Profite*   *Helping Traders and Newbie's*  Bht atche signal aate h iss Telegram Chanel pe crypto ke   *If you are a trader then you must have to check it once.*   Or agr koi aapka dost trading krta h to uske saath bhi share kro  *Bht help milegi* iss Channel se usko \",\n",
       " '+91 79090 27850': \"haan  Jaan hi lelo hamaari ....  Haan  Yahi due list hai na sab subject ki @919422669124  Ok  Kab tak?  Ohk  Ml ka set 2 kisi hai assignment ...bhej do plz  Bhai iska  Ri8  Os ka set 6 hai kisi k pass  Plz bhejna  Hello guys, A girl attempted suicide in Cu today. Try to share on Twitter,  Twitter trend can reach national wide, WhatsApp waste We released a tag   Start retweeting and let's make a trend  If you share any pics or videos try to blur face  ++infinity  69 signatures are still needed, can you add your signature? ✍️  \",\n",
       " '+91 86072 73793': 'Chal kya rha vha  Kitne meeting chalri?  Kisi ka quiz show hora h LMS pe?  Soft skills ka  Reminder aaj ku diya fir?  +1  Ha issi se khulra h  H kisi ka?  Merko dekh ke lgta h m ans btauga?  31-35 bhejdo koi  Hogye ho to  -1  Vo to net pe tha  Boht kuch agya  Agle exam ka bhi agya ye to  Substitution method wala  H?  Dhanywaad  Terko bhi dhanywaad  Is passage ke bhi  DCPD trainer ne bnaya hoga ques paper.  Sorry late hogye aap  5 min phle aajate to hum patient bcha skte the  Merko bhi bhejio  @917878616708  Ye h?  Ha milgyaa  Tag krio  Is para ke ans h  A and B only  Na  Milege bhejdio  H par ans ni  Cloud storage wala  Iske bhi  Aise aise hor h?  Merko b chaiye  1  @916284039214 natural numbers postive hi hote h shyd?  Test and set  Old  Unix  Net pe yhi h  @916395347424  Ans key glt h piche  Aptitude ke ans h to bhejdena  Ye ml ka h ',\n",
       " '+91 6395 347 424': \"Anyone interested in making blockchain/web3 related project can dm me  Project idea submission aaj hi hoga kya  And if yes to kidhar hoga  Okk  Ig mam ne hide kardiya  Kl karna tha usko  Idk Mam se pucho ye baat  Kon se block me Jana h hmko aaj ?  Bhai block nahi mil ra muje  TT me h sbke name  Nahi h  Nitasha mam ka grp me share Kiya h ek bande ne  Baki cr se lelo  Assignment ka set kon sa ye kaha se dekha tumlogo ne ?  Bhai Aaj kya kya karna h   Assignment bhi to thi na shyd ?  Kya kya tha ?  Java ki bs ?  Worksheet kon si 3 ?  Dono karna h ?  Kya beja dm karna  Quiz 1  Quiz 1.2  Quiz 1.3  To aaj koi sa nahi Lana na ?  Class kon se room me h phli ?  Google kar mil jaega sb  aptitude kb tak karna h ?  Kya mtlb eid aane wali h  2  Haa  1  2 wala option h iska  74  Magical number   D  C or d ?  @918307789067 @918607273793   chlo submit Karo fir merko batana  me sahi wala kar dunga  Thnx  Hn bejta 1 min  @918307789067  Type 2  Cuims pe project select bs team leader ko karna h ya sare team members ko ?  Iska kon sa assignment h ab  Ye to ho gaya tha na ?  Hn  Aaj formal assignment hoga ya next week hoga ?  A girl from LC hostel leaked the bathing videos of around 50-60 girls from same hostel to her boyfriend in NC hostel .. she put those videos  on a adult site and ek ladke ne apni friend ki video is porn site PE dekhi and she got a panic attack and she's in ICU rn  This is so so shameful ...Ldkio ke parents unko hostel me ye sochke rakhte h ki ladki safe rhegi yaha dekho safety yrr  Sharam aani chahiye yr had hogai  3 girls have been sent to hospital.  I had got info tht icu m h abhi ig  Suicide, I think they cut their veins  someone's saying one of them is dead \",\n",
       " '+91 79054 34552': 'Movie tym yaaaaaa   Kamal ojha  Raise your hand  20bcs11252  +2  +1  Guys we are not going to submit any hardcopy in any subject.  So kindly support  Ws padhta koi nhi hai buss paper + paison+ time ki barbadi hai  Specially  toppers and girls  Please support  Age baithne wale he hongay  shyd  Haa  Mutt krna warna aaj 18 rs kye jaga kl 1800 barbad hoga  Andi bandi sandi kr diya hai maine grp pr apne  Ladkiyon ko samjhana hai buss  Bachpan sye aaj tk toe mujhe yahi lgta aya hai  @919422669124 sari ladkiyon ko personally dm krdo ki   Hard copy n nikaln class mye  Kya  Wtf  Partiality  Dm Aditya for coupan  Ye hai  Mile toe batana  Tq bro  3  Ha  Tq  Dl approve hoe gaya tha n ?  Or dl lagana hoe toe batana   Mausam kafi acha hai  Sab ye wala react krdo (   )   Bunk marke sbko fountain pr Mausam k maza lena chahiye tha  But sb ghar bhag gye  Come to lc  We all r protesting ',\n",
       " '+91 84938 70808': 'Kyun??????? Bc asa kyu hai  Bhej bhi do Bhai  Asa hai kya?  Sch mein  Kya hi rakha hai padhai mein shodo soft copy bhi nahi krni submit maaze kro sab   maine toh hard copy bhi bnai hai  MMT toh mil jayegi  Bhai yeh cusat ka reminder dete raha karo  Aaj hai kya koi?  Next ki last date kab hai bhai  Bhai koi kaam submit krna hai b walo ko aaj  Merko bhi send krna aga mila toh  Kya sahi value hai kuch pta?  Bc tune video kaise bnai  Madam bhi nahi thi kya  Chalo bhai kal Shaheed hone ke liye tayar ho jao  Okay buddy  ',\n",
       " 'Rahul Sem5 Kumar': 'Bro tension na le  Teacher baat karenge sabse personally for future plan  Once again welcome to cu  Kisi ke pass cc ki practical hai  1 to 3  Or 1 to 4 ',\n",
       " '+91 72979 24756': 'Aaj class ka kya scene hai  Kitne bje se hai and kdjr hai ?  Kal kis kis subject ke exp. kki hard copy le jani hai  Anything else we need to submit anywhere ?  MMT wale assignment me kisi ki 5 questions ko solve krna hai  ?  kisi bhi*  ML SET 4 ?  Anyone ?  Abhi to log in kra hai   सब्र kro  Sab aayega  Ye cu hai  Yaha sab hota hai  Amitabh bachhan banna bnd kro  Dhanyawad lelo  Fir to pakka yahi hoga  Koi nhi, Jane wale ko kon rok skta hai  Nazuk halaat me hai  Ye lo  @918607273793 @917667402926 @917006191615 @917878616708  Google lens  sabko yahi chaiye  Scanner  C (with confusion)  Option C (done)  .  Iss wale me hai shayad  Keh skte hai  Mereko koi iska batao  Done  Ye chaiye ...  Iska mila  Iska hai ?  Ok boss  Iss wale me confused hun  Iska koi bata do  C  Iss Para k 2 questions nhi huye hai  Iss wale ka dekh ek baar  Nhi mil raha  @918607273793 @917009064835 @918307789067 @919422669124  Hai but 2 ka sure nhi hai  Rtt  Iska koi krwa do  Aaj, kal me kuch submit krna hai ?  Wo to kl krni hai na ?  Fir good night ',\n",
       " '+91 88043 80831': 'Kitte bje se ??  Kl 1st half ka DL lgega ??  Marathon mein participate krne pr??  Phir toh main second half se hi aaunga  Kl viva wagera bhi hai kya ??  Aaj MMT ki viva hogi ??  MMT lab ki koi pdf ya doc file hai kisike paas toh bhej do  Java assignment ke set 1 ke ques 2 mein number user se input lena hai ya koi bhi random number select krna hai ??  Pehle ye bta  Monday ko ML ki viva hogi ??  Kl saare assignments laane hai??  I mean aaj   ??  Vansh ka contact number hai kisike paas ??  Jldi bhej bro  Ab jiss University ka naam hi C se strt ho unko kya hi keh skte hai  Out of syllabus   True  Ppt mein tha aisa kuch likha hua  Which instruction move a value between a memory word and a register in assembly language   MOTION ADD MOVE SHIFT  What is max macro length  32 char 1026 char 16 char 64 char  Sure na  Favorite CEO ka kya hua??  NPTEL waale answer bhejo koi ',\n",
       " '+91 76674 02926': '10:30  Bring laptop compulsary?  Fr  Tagore  Ye toh cr batayega   Top pe hi hoga  Probably  I m. Present bhai  Mera tick lagadi bhai  Aage  Ohk  bana ke bhej do  @917009064835  @918764187032   Yee  Date extend karva d  Do*  +1  Power dikhara  mera bhi bana de  A4  format kaha hai?  omk  Ye assignment ka bhi koi index format hai kya ? @919422669124  Sir ko bhej dete hai  Sidha  Done  Ye bhi flop hoga  In progress  Kisko answer chaiye say yes   Bhai tricke hai 3 saal ho gaye sab karte   Tomper  Not yet..milta toh bhjera  Nice cooler  Iska upar hai baba  Iska toh hai upar  Hhn  Bhai saba vidoe already upar hai  Sabka*  Lagta hai ab Banna padega  Damn  Hein?  Sab so gaye hai kya?  Areh bahiya  Yes  A  Wahi kaara hu   Answer nahi mila  Khud se kara hu  Chahiye toh bul  Cu Wale c hai  Cloud computing ke questions se rakhe hai  DM aa  Tab theek hai  50/80  Next exam kab hai?  Multi mediA .e cloud computing ke questions dete hai bhadve  69/80  Lol  Even better than magic Bois   Ankit wala saara gaalt hai maacho  80/80 kiske aaye?  Quiz konsa karna hai ?  @918804380831  Vo cancel  ml 2.1 workseet ke codes dedo  ni mam ne kal  tak bola tha  aj hi lab me toh bola tha ',\n",
       " 'ANKUSH Sem 6': \"Top 7  Koi baat nahi bro  Life hai kavi kavi hota hai  @919582636226 bhai tu dekh le  all rounder banna parega bhai  That's not a complete version  @919422669124  iss hhai se puch  Daa wali mam ka text dekh  Daa wali mam ka message dekh   Official pe hai     Only Admins can..  Accha ha  Start tu kr  Ha  ha ok  Kyu bhai \",\n",
       " 'Akshat Sem6': 'Greetings of the Day,   Elated to announce our collaboration with Reskilll to bring to you an amazing opportunity to announce your creativity at Meta.    *Reskilll X Spark AR* brings to you Learn, an initiative aimed at initiating students journey into the field of Augmented Reality. The initiative focuses on upskilling tech enthusiasts on emerging AR with the help of workshops, Hackathons, internship/ job opportunities and more..  In this series for the first installment we are hosting a workshop:  Date: August 8-9, 2022  Time: 11:00 AM -12:00PM (both days)  Register here to participate and upskill:    Each participant who submits their effects at the end of the workshop will get: Brand Vouchers  Valuable Certificate from Meta  Hurry up and register!  Kha he Karan?  Ok  Saba is present  Agar bana li to bhej dunga ',\n",
       " '+91 78078 44279': '2864 ',\n",
       " '+91 70090 33645': '7992  Ok bro   Pranaya 20BCS7992  Absent   ',\n",
       " '+91 70525 50704': '      MOOCS-II (4 sem) Disqaualified(backlog) students of 2020-2024 Batch. Kindly fill this form and upload the certificates(proof) in pdf format whosesoever is having the status \"Disqualified\" in 4th Sem Moocs  *ML lab experiment 1 and 2*  @919422669124 Java assignment ki last date kab hai?  Iska send kro  Ye wala koi pura answer send kro  C  Right tailed test  ???  In dono ka batao ',\n",
       " '+91 89305 00597': 'Medical leave ka procedure pta h kisi ko? ',\n",
       " '+91 83077 89067': 'Nahi  Kal toh koii viva nhi h na????  Ok  True  B  Nhi pta  Iske answer chahiye? ',\n",
       " '+91 99214 93696': \"Yes it's visible  It'll be visible till tomorrow  Please complete it before time  You are viewing contents section  Please go to 20tdy soft skills  Then click on unit 1  Ok bhai  Just posted in grp  It's sept 6  That is next Tuesday \",\n",
       " '+91 82996 78341': \"Han  Guys I'll be on leave from tomorrow i.e. 13th to 21st. Please ensure k galti se meri koi present na lg jae  CC: karan & nikhil \",\n",
       " '+91 72484 04363': \"bhai koi ml ki ppt ka link bhejdo ?  hn bhai bhejde  thanks bro isme  bhai koi mmt ki ppt bhejdo ??  @919422669124bhai  index page kis kis subject ka banana hai??  ok thanks bhai  ml ka exp3 hoga  bhai waise ?  @919422669124 bhai cuims open nhi horaha ???  Bhai sure ??  ??  +1  hn bhai  Govid bhai ye saara shi hai kya ??  OS ka 3 set hoga ksisipe  All  aaj hi submit karna tha bhai  agar hoga toa bhejdena ??  aaj kal lag bhag  chill bhai but code bhejde agar kiya hai toa  thik hai bhai  Bhai 2.1 ml ka bangaya toa bhejde bhai ??  Final Extension-(Attempt the below mentioned tests before tomorrow(17 September  11:59 pm))  Dear All You have to attempt 4 sections(ONE ATTEMPT ALLOWED ONLY For Each Section So please check your internet connection before attempting )-:   1st -: Assignment 1.1 (Unit 1)   2nd -: Surprise Test 1.1   3rd-: Quiz 1.1   4th -: Quiz 1.2   Regards Kamal Deep Aptitude Faculty  Note-: The one who has already submitted the assignment and all other quizzes, doesn't require to do it again.  Ye aptitude ka hai kya ???  Okk \",\n",
       " '+91 95826 36226': 'drive  k  kya  @917248404363  bhai  ye   raha  bhai  Rajender Singh sodhi Bhai  Apna no. Bej n  Bhai dono section ka question same hai kya  Assignment ka  Java  ?  Bhai muja bhi karna  H taab  Puch raha hu  Ye pta hai tho bta d  Ye bta bhai  @917006191615  Ok  H  Likha tho yahi  Bhai worksheet  Lab ki h n  ye ml  ka  Bhai list bejna  Ml ki assignment ka  Bhai  Ye  kon si  assignment  nahi  quiz  tha java  ki  and worsheet  but cr sa  confirm kar  lena  jis n phele kiya h  submit  usa tho  nahi karna  @916395347424  Puch  raha h  bhai m puch  h  tera sa  bhai list  beja h  sir n  Os ka  set ka  प्रणय सिंगला  tera kon sa section h  807  n  807 n  h Is  m  h  set  no. lika  yahi  tho  h  h n  bhai quiz ka  answer bejna  java ka  bhai  8  question ka  btana  Bhai quiz 2  H kya  Multimedia ka kya  @917009781196  And @917248404363  Bhai Saba multimedia ka  N  Bhai ye bta  Confirm  H n  Ye wala  Bhai Is ka bta  D  Kar Bhai  Ye k h kya  Bhai 38  Ka bej  Answer  Rahul ',\n",
       " '+91 70061 91615': 'Bhai example mien diya h input or output  Bhai woh CR se puch le  Ek hi hua h  31  Hn   Hn  Abi pehle 20 toh asaan hi lg rhe hain  Hamesha ki tarah  *Extend Exception Wala Para* 1- No, it can also extends throwable class 2- True  3- Try need not to be followed by anything 4- Got the Test Exception Inside Finally Block (Output of code ) 5- Compilation Error (when statement replaced)  Hn bhai  Bhai yeh bhi upar h  Nhi bhai mil nii rha  Nhi mila bhai  Bej de  Nhi mile  Ok  Bhai yeh para h kisi k paas ?  Yehi nhi mil rha bhai  Video  Camera shyd  Bhai mila @917878616708  +1  Bhai 31 to 35 bej  Jan aayega bej dena  B  Haan bhai @917009064835  Yehi h iska ',\n",
       " '+91 6284 341 681': 'Ml ki worksheet staple krni hai ja file main submit krni hai?  Assignment*  Java ki assignment main coding questions hai toh...voh bhi paper pe write krne hai?  ?  Overfitting ',\n",
       " '+91 91030 15446': '+1  Sahi hae  12 hae iska ans  Option bhj na  Yeh sahi hae  Kya  . ',\n",
       " '+91 94106 87922': 'A ',\n",
       " '+91 6299 200 484': 'D  B  +1 ',\n",
       " '+91 88879 10020': 'Shi hai  ? ',\n",
       " '+91 82739 09035': \"HAHAHAHAHAHA! XD Ur so funny because you did the 69 number! XD  If you people don’t get it the 69 number is a that move XDDD! It’s like 420 is the weed number XD but 69 makes it funny because it makes you wonder if ur them does the 69 number XDDD! But u r still so funny! XD Be my friends LOL! XD  Guys, I'm gonna be on medical till 16th, so please do ensure I'm not marked present in any class until then @919422669124 \",\n",
       " '+91 89200 72478': 'Dundo yr  Yai ni milra  Glt sa lgrah  3 jaga se mile h teeno me alag answer h  Iska solution h?  Sure ?  Okok  Shyd D h ',\n",
       " '+91 78386 78426': 'C  D  Hn  Result aa gya hai unix thik hai ',\n",
       " '+91 70151 03472': 'OS assignment set 9 hai kisi k paas? ',\n",
       " '+91 70077 84133': 'Ni agle Tuesday ko  Ppt presentation on above topic '}"
      ]
     },
     "execution_count": 142,
     "metadata": {},
     "output_type": "execute_result"
    }
   ],
   "source": [
    "user_dict"
   ]
  },
  {
   "cell_type": "code",
   "execution_count": null,
   "id": "d33d7e79",
   "metadata": {},
   "outputs": [],
   "source": [
    "user=[]\n",
    "chats=[]\n",
    "\n",
    "for k,v in user_dict.items():\n",
    "    user.append(k)\n",
    "    chats.append(v)\n",
    "    \n",
    "new_WCA=pd.DataFrame({'user':user,'chats':chats})    "
   ]
  },
  {
   "cell_type": "code",
   "execution_count": null,
   "id": "2d6a180b",
   "metadata": {},
   "outputs": [
    {
     "data": {
      "text/html": [
       "<div>\n",
       "<style scoped>\n",
       "    .dataframe tbody tr th:only-of-type {\n",
       "        vertical-align: middle;\n",
       "    }\n",
       "\n",
       "    .dataframe tbody tr th {\n",
       "        vertical-align: top;\n",
       "    }\n",
       "\n",
       "    .dataframe thead th {\n",
       "        text-align: right;\n",
       "    }\n",
       "</style>\n",
       "<table border=\"1\" class=\"dataframe\">\n",
       "  <thead>\n",
       "    <tr style=\"text-align: right;\">\n",
       "      <th></th>\n",
       "      <th>user</th>\n",
       "      <th>chats</th>\n",
       "    </tr>\n",
       "  </thead>\n",
       "  <tbody>\n",
       "    <tr>\n",
       "      <th>0</th>\n",
       "      <td>Gourav</td>\n",
       "      <td>Someone please share the mooc form  Thank   Do...</td>\n",
       "    </tr>\n",
       "    <tr>\n",
       "      <th>1</th>\n",
       "      <td>Aditya Thakur Cu</td>\n",
       "      <td>Regarding MOOCS-III   Pls do not try and uploa...</td>\n",
       "    </tr>\n",
       "    <tr>\n",
       "      <th>2</th>\n",
       "      <td>+91 70090 64835</td>\n",
       "      <td>Chill buddy  Cr ne bheja  Kya mtlb h  Impressi...</td>\n",
       "    </tr>\n",
       "    <tr>\n",
       "      <th>3</th>\n",
       "      <td>+91 70823 30760</td>\n",
       "      <td>Congrats Nikhil  Congrats karan  Grp mein hai ...</td>\n",
       "    </tr>\n",
       "    <tr>\n",
       "      <th>4</th>\n",
       "      <td>+91 6392 315 634</td>\n",
       "      <td>Karan bhai apna cr  Hn hai  @919422669124  Pic...</td>\n",
       "    </tr>\n",
       "    <tr>\n",
       "      <th>5</th>\n",
       "      <td>Rahul Sem 6</td>\n",
       "      <td>congratulations karan bhai  anyone want to joi...</td>\n",
       "    </tr>\n",
       "    <tr>\n",
       "      <th>6</th>\n",
       "      <td>+91 94226 69124</td>\n",
       "      <td>Thanx boiz   Han bhai hu  sahi h ye  bna sakte...</td>\n",
       "    </tr>\n",
       "    <tr>\n",
       "      <th>7</th>\n",
       "      <td>+91 99921 99871</td>\n",
       "      <td>*FOR CRYPTO TRADERS*  *Daily Earn Profite*  ...</td>\n",
       "    </tr>\n",
       "    <tr>\n",
       "      <th>8</th>\n",
       "      <td>+91 79090 27850</td>\n",
       "      <td>haan  Jaan hi lelo hamaari ....  Haan  Yahi du...</td>\n",
       "    </tr>\n",
       "    <tr>\n",
       "      <th>9</th>\n",
       "      <td>+91 86072 73793</td>\n",
       "      <td>Chal kya rha vha  Kitne meeting chalri?  Kisi ...</td>\n",
       "    </tr>\n",
       "    <tr>\n",
       "      <th>10</th>\n",
       "      <td>+91 6395 347 424</td>\n",
       "      <td>Anyone interested in making blockchain/web3 re...</td>\n",
       "    </tr>\n",
       "    <tr>\n",
       "      <th>11</th>\n",
       "      <td>+91 79054 34552</td>\n",
       "      <td>Movie tym yaaaaaa   Kamal ojha  Raise your han...</td>\n",
       "    </tr>\n",
       "    <tr>\n",
       "      <th>12</th>\n",
       "      <td>+91 84938 70808</td>\n",
       "      <td>Kyun??????? Bc asa kyu hai  Bhej bhi do Bhai  ...</td>\n",
       "    </tr>\n",
       "    <tr>\n",
       "      <th>13</th>\n",
       "      <td>Rahul Sem5 Kumar</td>\n",
       "      <td>Bro tension na le  Teacher baat karenge sabse ...</td>\n",
       "    </tr>\n",
       "    <tr>\n",
       "      <th>14</th>\n",
       "      <td>+91 72979 24756</td>\n",
       "      <td>Aaj class ka kya scene hai  Kitne bje se hai a...</td>\n",
       "    </tr>\n",
       "    <tr>\n",
       "      <th>15</th>\n",
       "      <td>+91 88043 80831</td>\n",
       "      <td>Kitte bje se ??  Kl 1st half ka DL lgega ??  M...</td>\n",
       "    </tr>\n",
       "    <tr>\n",
       "      <th>16</th>\n",
       "      <td>+91 76674 02926</td>\n",
       "      <td>10:30  Bring laptop compulsary?  Fr  Tagore  Y...</td>\n",
       "    </tr>\n",
       "    <tr>\n",
       "      <th>17</th>\n",
       "      <td>ANKUSH Sem 6</td>\n",
       "      <td>Top 7  Koi baat nahi bro  Life hai kavi kavi h...</td>\n",
       "    </tr>\n",
       "    <tr>\n",
       "      <th>18</th>\n",
       "      <td>Akshat Sem6</td>\n",
       "      <td>Greetings of the Day,   Elated to announce our...</td>\n",
       "    </tr>\n",
       "    <tr>\n",
       "      <th>19</th>\n",
       "      <td>+91 78078 44279</td>\n",
       "      <td>2864</td>\n",
       "    </tr>\n",
       "    <tr>\n",
       "      <th>20</th>\n",
       "      <td>+91 70090 33645</td>\n",
       "      <td>7992  Ok bro   Pranaya 20BCS7992  Absent</td>\n",
       "    </tr>\n",
       "    <tr>\n",
       "      <th>21</th>\n",
       "      <td>+91 70525 50704</td>\n",
       "      <td>MOOCS-II (4 sem) Disqaualified(backlog) ...</td>\n",
       "    </tr>\n",
       "    <tr>\n",
       "      <th>22</th>\n",
       "      <td>+91 89305 00597</td>\n",
       "      <td>Medical leave ka procedure pta h kisi ko?</td>\n",
       "    </tr>\n",
       "    <tr>\n",
       "      <th>23</th>\n",
       "      <td>+91 83077 89067</td>\n",
       "      <td>Nahi  Kal toh koii viva nhi h na????  Ok  True...</td>\n",
       "    </tr>\n",
       "    <tr>\n",
       "      <th>24</th>\n",
       "      <td>+91 99214 93696</td>\n",
       "      <td>Yes it's visible  It'll be visible till tomorr...</td>\n",
       "    </tr>\n",
       "    <tr>\n",
       "      <th>25</th>\n",
       "      <td>+91 82996 78341</td>\n",
       "      <td>Han  Guys I'll be on leave from tomorrow i.e. ...</td>\n",
       "    </tr>\n",
       "    <tr>\n",
       "      <th>26</th>\n",
       "      <td>+91 72484 04363</td>\n",
       "      <td>bhai koi ml ki ppt ka link bhejdo ?  hn bhai b...</td>\n",
       "    </tr>\n",
       "    <tr>\n",
       "      <th>27</th>\n",
       "      <td>+91 95826 36226</td>\n",
       "      <td>drive  k  kya  @917248404363  bhai  ye   raha ...</td>\n",
       "    </tr>\n",
       "    <tr>\n",
       "      <th>28</th>\n",
       "      <td>+91 70061 91615</td>\n",
       "      <td>Bhai example mien diya h input or output  Bhai...</td>\n",
       "    </tr>\n",
       "    <tr>\n",
       "      <th>29</th>\n",
       "      <td>+91 6284 341 681</td>\n",
       "      <td>Ml ki worksheet staple krni hai ja file main s...</td>\n",
       "    </tr>\n",
       "    <tr>\n",
       "      <th>30</th>\n",
       "      <td>+91 91030 15446</td>\n",
       "      <td>+1  Sahi hae  12 hae iska ans  Option bhj na  ...</td>\n",
       "    </tr>\n",
       "    <tr>\n",
       "      <th>31</th>\n",
       "      <td>+91 94106 87922</td>\n",
       "      <td>A</td>\n",
       "    </tr>\n",
       "    <tr>\n",
       "      <th>32</th>\n",
       "      <td>+91 6299 200 484</td>\n",
       "      <td>D  B  +1</td>\n",
       "    </tr>\n",
       "    <tr>\n",
       "      <th>33</th>\n",
       "      <td>+91 88879 10020</td>\n",
       "      <td>Shi hai  ?</td>\n",
       "    </tr>\n",
       "    <tr>\n",
       "      <th>34</th>\n",
       "      <td>+91 82739 09035</td>\n",
       "      <td>HAHAHAHAHAHA! XD Ur so funny because you did t...</td>\n",
       "    </tr>\n",
       "    <tr>\n",
       "      <th>35</th>\n",
       "      <td>+91 89200 72478</td>\n",
       "      <td>Dundo yr  Yai ni milra  Glt sa lgrah  3 jaga s...</td>\n",
       "    </tr>\n",
       "    <tr>\n",
       "      <th>36</th>\n",
       "      <td>+91 78386 78426</td>\n",
       "      <td>C  D  Hn  Result aa gya hai unix thik hai</td>\n",
       "    </tr>\n",
       "    <tr>\n",
       "      <th>37</th>\n",
       "      <td>+91 70151 03472</td>\n",
       "      <td>OS assignment set 9 hai kisi k paas?</td>\n",
       "    </tr>\n",
       "    <tr>\n",
       "      <th>38</th>\n",
       "      <td>+91 70077 84133</td>\n",
       "      <td>Ni agle Tuesday ko  Ppt presentation on above ...</td>\n",
       "    </tr>\n",
       "  </tbody>\n",
       "</table>\n",
       "</div>"
      ],
      "text/plain": [
       "                user                                              chats\n",
       "0             Gourav  Someone please share the mooc form  Thank   Do...\n",
       "1   Aditya Thakur Cu  Regarding MOOCS-III   Pls do not try and uploa...\n",
       "2    +91 70090 64835  Chill buddy  Cr ne bheja  Kya mtlb h  Impressi...\n",
       "3    +91 70823 30760  Congrats Nikhil  Congrats karan  Grp mein hai ...\n",
       "4   +91 6392 315 634  Karan bhai apna cr  Hn hai  @919422669124  Pic...\n",
       "5        Rahul Sem 6  congratulations karan bhai  anyone want to joi...\n",
       "6    +91 94226 69124  Thanx boiz   Han bhai hu  sahi h ye  bna sakte...\n",
       "7    +91 99921 99871    *FOR CRYPTO TRADERS*  *Daily Earn Profite*  ...\n",
       "8    +91 79090 27850  haan  Jaan hi lelo hamaari ....  Haan  Yahi du...\n",
       "9    +91 86072 73793  Chal kya rha vha  Kitne meeting chalri?  Kisi ...\n",
       "10  +91 6395 347 424  Anyone interested in making blockchain/web3 re...\n",
       "11   +91 79054 34552  Movie tym yaaaaaa   Kamal ojha  Raise your han...\n",
       "12   +91 84938 70808  Kyun??????? Bc asa kyu hai  Bhej bhi do Bhai  ...\n",
       "13  Rahul Sem5 Kumar  Bro tension na le  Teacher baat karenge sabse ...\n",
       "14   +91 72979 24756  Aaj class ka kya scene hai  Kitne bje se hai a...\n",
       "15   +91 88043 80831  Kitte bje se ??  Kl 1st half ka DL lgega ??  M...\n",
       "16   +91 76674 02926  10:30  Bring laptop compulsary?  Fr  Tagore  Y...\n",
       "17      ANKUSH Sem 6  Top 7  Koi baat nahi bro  Life hai kavi kavi h...\n",
       "18       Akshat Sem6  Greetings of the Day,   Elated to announce our...\n",
       "19   +91 78078 44279                                              2864 \n",
       "20   +91 70090 33645        7992  Ok bro   Pranaya 20BCS7992  Absent   \n",
       "21   +91 70525 50704        MOOCS-II (4 sem) Disqaualified(backlog) ...\n",
       "22   +91 89305 00597         Medical leave ka procedure pta h kisi ko? \n",
       "23   +91 83077 89067  Nahi  Kal toh koii viva nhi h na????  Ok  True...\n",
       "24   +91 99214 93696  Yes it's visible  It'll be visible till tomorr...\n",
       "25   +91 82996 78341  Han  Guys I'll be on leave from tomorrow i.e. ...\n",
       "26   +91 72484 04363  bhai koi ml ki ppt ka link bhejdo ?  hn bhai b...\n",
       "27   +91 95826 36226  drive  k  kya  @917248404363  bhai  ye   raha ...\n",
       "28   +91 70061 91615  Bhai example mien diya h input or output  Bhai...\n",
       "29  +91 6284 341 681  Ml ki worksheet staple krni hai ja file main s...\n",
       "30   +91 91030 15446  +1  Sahi hae  12 hae iska ans  Option bhj na  ...\n",
       "31   +91 94106 87922                                                 A \n",
       "32  +91 6299 200 484                                          D  B  +1 \n",
       "33   +91 88879 10020                                        Shi hai  ? \n",
       "34   +91 82739 09035  HAHAHAHAHAHA! XD Ur so funny because you did t...\n",
       "35   +91 89200 72478  Dundo yr  Yai ni milra  Glt sa lgrah  3 jaga s...\n",
       "36   +91 78386 78426         C  D  Hn  Result aa gya hai unix thik hai \n",
       "37   +91 70151 03472              OS assignment set 9 hai kisi k paas? \n",
       "38   +91 70077 84133  Ni agle Tuesday ko  Ppt presentation on above ..."
      ]
     },
     "execution_count": 151,
     "metadata": {},
     "output_type": "execute_result"
    }
   ],
   "source": [
    "new_WCA"
   ]
  },
  {
   "cell_type": "code",
   "execution_count": null,
   "id": "fa51ed67",
   "metadata": {},
   "outputs": [],
   "source": [
    "words=[]\n",
    "\n",
    "\n",
    "for i in range(new_WCA.shape[0]):    \n",
    "        test_str = new_WCA[\"chats\"][i]\n",
    "        trans_table = test_str.maketrans('','',\"\"\"0123456789!\"#$%&'()*+,-_–./·:;<=>?@[\\]^_`{|}~\"\"\")\n",
    "        test_str = test_str.translate(trans_table)\n",
    "\n",
    "        for wrd in test_str.lower().split(\" \"):\n",
    "            if wrd not in hinglish_stopwords and  wrd not in english_stopwords:\n",
    "                words.append(wrd)\n",
    "        \n",
    "        new_WCA[\"chats\"][i]=' '.join(words)\n",
    "        words=[]"
   ]
  },
  {
   "cell_type": "code",
   "execution_count": null,
   "id": "034777a0",
   "metadata": {},
   "outputs": [
    {
     "data": {
      "text/html": [
       "<div>\n",
       "<style scoped>\n",
       "    .dataframe tbody tr th:only-of-type {\n",
       "        vertical-align: middle;\n",
       "    }\n",
       "\n",
       "    .dataframe tbody tr th {\n",
       "        vertical-align: top;\n",
       "    }\n",
       "\n",
       "    .dataframe thead th {\n",
       "        text-align: right;\n",
       "    }\n",
       "</style>\n",
       "<table border=\"1\" class=\"dataframe\">\n",
       "  <thead>\n",
       "    <tr style=\"text-align: right;\">\n",
       "      <th></th>\n",
       "      <th>user</th>\n",
       "      <th>chats</th>\n",
       "    </tr>\n",
       "  </thead>\n",
       "  <tbody>\n",
       "    <tr>\n",
       "      <th>0</th>\n",
       "      <td>Gourav</td>\n",
       "      <td>share mooc form domain deleted message white s...</td>\n",
       "    </tr>\n",
       "    <tr>\n",
       "      <th>1</th>\n",
       "      <td>Aditya Thakur Cu</td>\n",
       "      <td>moocsiii pls upload proofs drive pls kindly up...</td>\n",
       "    </tr>\n",
       "    <tr>\n",
       "      <th>2</th>\n",
       "      <td>+91 70090 64835</td>\n",
       "      <td>chill buddy bheja mtlb impressive buddij daa e...</td>\n",
       "    </tr>\n",
       "    <tr>\n",
       "      <th>3</th>\n",
       "      <td>+91 70823 30760</td>\n",
       "      <td>congrats nikhil congrats karan grp voh ptaa im...</td>\n",
       "    </tr>\n",
       "    <tr>\n",
       "      <th>4</th>\n",
       "      <td>+91 6392 315 634</td>\n",
       "      <td>karan hn piche baitha workshops block row hn d...</td>\n",
       "    </tr>\n",
       "    <tr>\n",
       "      <th>5</th>\n",
       "      <td>Rahul Sem 6</td>\n",
       "      <td>congratulations karan join project group membe...</td>\n",
       "    </tr>\n",
       "    <tr>\n",
       "      <th>6</th>\n",
       "      <td>+91 94226 69124</td>\n",
       "      <td>boiz bna meeting join meeting join karlo abi s...</td>\n",
       "    </tr>\n",
       "    <tr>\n",
       "      <th>7</th>\n",
       "      <td>+91 99921 99871</td>\n",
       "      <td>crypto traders daily earn profite helping trad...</td>\n",
       "    </tr>\n",
       "    <tr>\n",
       "      <th>8</th>\n",
       "      <td>+91 79090 27850</td>\n",
       "      <td>jaan lelo hamaari due list subject ohk ml set ...</td>\n",
       "    </tr>\n",
       "    <tr>\n",
       "      <th>9</th>\n",
       "      <td>+91 86072 73793</td>\n",
       "      <td>vha meeting chalri quiz show hora lms soft ski...</td>\n",
       "    </tr>\n",
       "    <tr>\n",
       "      <th>10</th>\n",
       "      <td>+91 6395 347 424</td>\n",
       "      <td>interested making blockchainweb related projec...</td>\n",
       "    </tr>\n",
       "    <tr>\n",
       "      <th>11</th>\n",
       "      <td>+91 79054 34552</td>\n",
       "      <td>movie tym yaaaaaa kamal ojha raise bcs submit ...</td>\n",
       "    </tr>\n",
       "    <tr>\n",
       "      <th>12</th>\n",
       "      <td>+91 84938 70808</td>\n",
       "      <td>asa bhej asa sch padhai shodo soft copy krni s...</td>\n",
       "    </tr>\n",
       "    <tr>\n",
       "      <th>13</th>\n",
       "      <td>Rahul Sem5 Kumar</td>\n",
       "      <td>tension teacher baat personally future plan we...</td>\n",
       "    </tr>\n",
       "    <tr>\n",
       "      <th>14</th>\n",
       "      <td>+91 72979 24756</td>\n",
       "      <td>class scene bje kdjr subject exp kki copy jani...</td>\n",
       "    </tr>\n",
       "    <tr>\n",
       "      <th>15</th>\n",
       "      <td>+91 88043 80831</td>\n",
       "      <td>kitte bje kl half lgega marathon participate p...</td>\n",
       "    </tr>\n",
       "    <tr>\n",
       "      <th>16</th>\n",
       "      <td>+91 76674 02926</td>\n",
       "      <td>bring laptop compulsary tagore batayega top pr...</td>\n",
       "    </tr>\n",
       "    <tr>\n",
       "      <th>17</th>\n",
       "      <td>ANKUSH Sem 6</td>\n",
       "      <td>top baat life kavi kavi rounder banna parega c...</td>\n",
       "    </tr>\n",
       "    <tr>\n",
       "      <th>18</th>\n",
       "      <td>Akshat Sem6</td>\n",
       "      <td>day elated announce collaboration reskilll bri...</td>\n",
       "    </tr>\n",
       "    <tr>\n",
       "      <th>19</th>\n",
       "      <td>+91 70090 33645</td>\n",
       "      <td>pranaya bcs absent</td>\n",
       "    </tr>\n",
       "    <tr>\n",
       "      <th>20</th>\n",
       "      <td>+91 70525 50704</td>\n",
       "      <td>moocsii sem disqaualifiedbacklog students batc...</td>\n",
       "    </tr>\n",
       "    <tr>\n",
       "      <th>21</th>\n",
       "      <td>+91 89305 00597</td>\n",
       "      <td>medical leave procedure pta</td>\n",
       "    </tr>\n",
       "    <tr>\n",
       "      <th>22</th>\n",
       "      <td>+91 83077 89067</td>\n",
       "      <td>koii viva pta answer</td>\n",
       "    </tr>\n",
       "    <tr>\n",
       "      <th>23</th>\n",
       "      <td>+91 99214 93696</td>\n",
       "      <td>visible itll visible tomorrow complete viewing...</td>\n",
       "    </tr>\n",
       "    <tr>\n",
       "      <th>24</th>\n",
       "      <td>+91 82996 78341</td>\n",
       "      <td>leave tomorrow ensure galti present lg jae kar...</td>\n",
       "    </tr>\n",
       "    <tr>\n",
       "      <th>25</th>\n",
       "      <td>+91 72484 04363</td>\n",
       "      <td>ml ppt link bhejdo hn bhejde mmt ppt bhejdo in...</td>\n",
       "    </tr>\n",
       "    <tr>\n",
       "      <th>26</th>\n",
       "      <td>+91 95826 36226</td>\n",
       "      <td>drive rajender singh sodhi bej section questio...</td>\n",
       "    </tr>\n",
       "    <tr>\n",
       "      <th>27</th>\n",
       "      <td>+91 70061 91615</td>\n",
       "      <td>mien input output puch hn hn abi asaan lg hame...</td>\n",
       "    </tr>\n",
       "    <tr>\n",
       "      <th>28</th>\n",
       "      <td>+91 6284 341 681</td>\n",
       "      <td>ml worksheet staple krni file submit krni assi...</td>\n",
       "    </tr>\n",
       "    <tr>\n",
       "      <th>29</th>\n",
       "      <td>+91 91030 15446</td>\n",
       "      <td>hae hae ans option bhj hae</td>\n",
       "    </tr>\n",
       "    <tr>\n",
       "      <th>30</th>\n",
       "      <td>+91 88879 10020</td>\n",
       "      <td>shi</td>\n",
       "    </tr>\n",
       "    <tr>\n",
       "      <th>31</th>\n",
       "      <td>+91 82739 09035</td>\n",
       "      <td>hahahahahaha xd funny number xd don’t number m...</td>\n",
       "    </tr>\n",
       "    <tr>\n",
       "      <th>32</th>\n",
       "      <td>+91 89200 72478</td>\n",
       "      <td>dundo yr yai milra glt lgrah jaga mile answer ...</td>\n",
       "    </tr>\n",
       "    <tr>\n",
       "      <th>33</th>\n",
       "      <td>+91 78386 78426</td>\n",
       "      <td>hn result gya unix</td>\n",
       "    </tr>\n",
       "    <tr>\n",
       "      <th>34</th>\n",
       "      <td>+91 70151 03472</td>\n",
       "      <td>assignment set paas</td>\n",
       "    </tr>\n",
       "    <tr>\n",
       "      <th>35</th>\n",
       "      <td>+91 70077 84133</td>\n",
       "      <td>agle tuesday ppt presentation topic</td>\n",
       "    </tr>\n",
       "  </tbody>\n",
       "</table>\n",
       "</div>"
      ],
      "text/plain": [
       "                user                                              chats\n",
       "0             Gourav  share mooc form domain deleted message white s...\n",
       "1   Aditya Thakur Cu  moocsiii pls upload proofs drive pls kindly up...\n",
       "2    +91 70090 64835  chill buddy bheja mtlb impressive buddij daa e...\n",
       "3    +91 70823 30760  congrats nikhil congrats karan grp voh ptaa im...\n",
       "4   +91 6392 315 634  karan hn piche baitha workshops block row hn d...\n",
       "5        Rahul Sem 6  congratulations karan join project group membe...\n",
       "6    +91 94226 69124  boiz bna meeting join meeting join karlo abi s...\n",
       "7    +91 99921 99871  crypto traders daily earn profite helping trad...\n",
       "8    +91 79090 27850  jaan lelo hamaari due list subject ohk ml set ...\n",
       "9    +91 86072 73793  vha meeting chalri quiz show hora lms soft ski...\n",
       "10  +91 6395 347 424  interested making blockchainweb related projec...\n",
       "11   +91 79054 34552  movie tym yaaaaaa kamal ojha raise bcs submit ...\n",
       "12   +91 84938 70808  asa bhej asa sch padhai shodo soft copy krni s...\n",
       "13  Rahul Sem5 Kumar  tension teacher baat personally future plan we...\n",
       "14   +91 72979 24756  class scene bje kdjr subject exp kki copy jani...\n",
       "15   +91 88043 80831  kitte bje kl half lgega marathon participate p...\n",
       "16   +91 76674 02926  bring laptop compulsary tagore batayega top pr...\n",
       "17      ANKUSH Sem 6  top baat life kavi kavi rounder banna parega c...\n",
       "18       Akshat Sem6  day elated announce collaboration reskilll bri...\n",
       "19   +91 70090 33645                                 pranaya bcs absent\n",
       "20   +91 70525 50704  moocsii sem disqaualifiedbacklog students batc...\n",
       "21   +91 89305 00597                        medical leave procedure pta\n",
       "22   +91 83077 89067                               koii viva pta answer\n",
       "23   +91 99214 93696  visible itll visible tomorrow complete viewing...\n",
       "24   +91 82996 78341  leave tomorrow ensure galti present lg jae kar...\n",
       "25   +91 72484 04363  ml ppt link bhejdo hn bhejde mmt ppt bhejdo in...\n",
       "26   +91 95826 36226  drive rajender singh sodhi bej section questio...\n",
       "27   +91 70061 91615  mien input output puch hn hn abi asaan lg hame...\n",
       "28  +91 6284 341 681  ml worksheet staple krni file submit krni assi...\n",
       "29   +91 91030 15446                         hae hae ans option bhj hae\n",
       "30   +91 88879 10020                                                shi\n",
       "31   +91 82739 09035  hahahahahaha xd funny number xd don’t number m...\n",
       "32   +91 89200 72478  dundo yr yai milra glt lgrah jaga mile answer ...\n",
       "33   +91 78386 78426                                 hn result gya unix\n",
       "34   +91 70151 03472                                assignment set paas\n",
       "35   +91 70077 84133                agle tuesday ppt presentation topic"
      ]
     },
     "execution_count": 155,
     "metadata": {},
     "output_type": "execute_result"
    }
   ],
   "source": [
    "new_WCA=new_WCA[new_WCA[\"chats\"]!='']\n",
    "new_WCA.reset_index(inplace=True)\n",
    "new_WCA.drop(\"index\",axis=1,inplace=True)\n",
    "new_WCA"
   ]
  },
  {
   "cell_type": "code",
   "execution_count": null,
   "id": "8a5e4b07",
   "metadata": {},
   "outputs": [],
   "source": [
    "from sklearn.feature_extraction.text import CountVectorizer\n",
    "count_vect = CountVectorizer(max_features = 200) "
   ]
  },
  {
   "cell_type": "code",
   "execution_count": null,
   "id": "70f29294",
   "metadata": {},
   "outputs": [],
   "source": [
    "WCA_vectors=count_vect.fit_transform(new_WCA[\"chats\"]).toarray()"
   ]
  },
  {
   "cell_type": "code",
   "execution_count": null,
   "id": "c774e8dc",
   "metadata": {},
   "outputs": [
    {
     "data": {
      "text/plain": [
       "array([[0, 0, 0, ..., 0, 0, 0],\n",
       "       [0, 0, 0, ..., 3, 0, 0],\n",
       "       [0, 0, 1, ..., 0, 0, 1],\n",
       "       ...,\n",
       "       [0, 0, 0, ..., 0, 0, 0],\n",
       "       [0, 0, 0, ..., 0, 0, 0],\n",
       "       [0, 0, 0, ..., 0, 0, 0]], dtype=int64)"
      ]
     },
     "execution_count": 163,
     "metadata": {},
     "output_type": "execute_result"
    }
   ],
   "source": [
    "WCA_vectors"
   ]
  },
  {
   "cell_type": "code",
   "execution_count": null,
   "id": "2bf2f3d0",
   "metadata": {},
   "outputs": [
    {
     "data": {
      "text/plain": [
       "(36, 200)"
      ]
     },
     "execution_count": 164,
     "metadata": {},
     "output_type": "execute_result"
    }
   ],
   "source": [
    "WCA_vectors.shape"
   ]
  },
  {
   "cell_type": "code",
   "execution_count": null,
   "id": "4c694ab0",
   "metadata": {},
   "outputs": [],
   "source": [
    "from sklearn.metrics.pairwise import cosine_similarity"
   ]
  },
  {
   "cell_type": "code",
   "execution_count": null,
   "id": "fe90da46",
   "metadata": {},
   "outputs": [],
   "source": [
    "similarity = cosine_similarity(WCA_vectors)"
   ]
  },
  {
   "cell_type": "code",
   "execution_count": null,
   "id": "effa6c99",
   "metadata": {},
   "outputs": [
    {
     "data": {
      "text/plain": [
       "array([[1.        , 0.08944272, 0.        , ..., 0.        , 0.        ,\n",
       "        0.        ],\n",
       "       [0.08944272, 1.        , 0.06558258, ..., 0.03651484, 0.        ,\n",
       "        0.        ],\n",
       "       [0.        , 0.06558258, 1.        , ..., 0.        , 0.        ,\n",
       "        0.        ],\n",
       "       ...,\n",
       "       [0.        , 0.03651484, 0.        , ..., 1.        , 0.        ,\n",
       "        0.        ],\n",
       "       [0.        , 0.        , 0.        , ..., 0.        , 1.        ,\n",
       "        0.        ],\n",
       "       [0.        , 0.        , 0.        , ..., 0.        , 0.        ,\n",
       "        1.        ]])"
      ]
     },
     "execution_count": 170,
     "metadata": {},
     "output_type": "execute_result"
    }
   ],
   "source": [
    "similarity"
   ]
  },
  {
   "cell_type": "code",
   "execution_count": null,
   "id": "fe185481",
   "metadata": {},
   "outputs": [
    {
     "name": "stdout",
     "output_type": "stream",
     "text": [
      "+91 99921 99871   35.35533905932737 %\n",
      "+91 79090 27850   30.151134457776358 %\n",
      "+91 70525 50704   14.744195615489714 %\n"
     ]
    }
   ],
   "source": [
    "user_index = new_WCA[new_WCA[\"user\"]==\"Gourav\"].index[0]\n",
    "user_similar = sorted(list(enumerate(similarity[user_index])),reverse=True,key=lambda x: x[1])\n",
    "\n",
    "for usr in user_similar[1:4]:\n",
    "    print(new_WCA.iloc[usr[0]].user,\" \",usr[1]*100,\"%\")\n",
    "\n"
   ]
  },
  {
   "cell_type": "code",
   "execution_count": null,
   "id": "7ca776ee",
   "metadata": {},
   "outputs": [],
   "source": []
  },
  {
   "cell_type": "code",
   "execution_count": null,
   "id": "b579f7f7",
   "metadata": {},
   "outputs": [],
   "source": [
    "\n"
   ]
  },
  {
   "cell_type": "code",
   "execution_count": null,
   "id": "aed55515",
   "metadata": {},
   "outputs": [],
   "source": []
  },
  {
   "cell_type": "code",
   "execution_count": null,
   "id": "a51914e4",
   "metadata": {},
   "outputs": [],
   "source": []
  }
 ],
 "metadata": {
  "interpreter": {
   "hash": "03ac970558e464f37c95cdeda2bdda29a8ae6572ca698145d5ae67b65c2ebc54"
  },
  "kernelspec": {
   "display_name": "Python 3.9.7 64-bit ('Project Environment': venv)",
   "name": "python3"
  },
  "language_info": {
   "codemirror_mode": {
    "name": "ipython",
    "version": 3
   },
   "file_extension": ".py",
   "mimetype": "text/x-python",
   "name": "python",
   "nbconvert_exporter": "python",
   "pygments_lexer": "ipython3",
   "version": "3.9.7"
  }
 },
 "nbformat": 4,
 "nbformat_minor": 5
}
