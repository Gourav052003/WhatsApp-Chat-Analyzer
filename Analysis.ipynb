{
 "cells": [
  {
   "cell_type": "markdown",
   "id": "3c23f723",
   "metadata": {},
   "source": [
    "# Loading and Structuring the chats data"
   ]
  },
  {
   "cell_type": "code",
   "execution_count": 2,
   "metadata": {},
   "outputs": [],
   "source": [
    "from pathlib import Path\n",
    "import pandas as pd\n",
    "import re"
   ]
  },
  {
   "cell_type": "code",
   "execution_count": 3,
   "metadata": {},
   "outputs": [],
   "source": [
    "def get_structured_chats(chats:list):\n",
    "    \n",
    "    chats = ''.join(chats)\n",
    "    chats = chats.replace(\"\\n\\n\",\" \")\n",
    "    chats = chats.split('\\n')\n",
    "\n",
    "    pattern_str = r'([0-9]+(/[0-9]+)+)'\n",
    "\n",
    "    structured_chats = []\n",
    "    previous_chat = \"\"\n",
    "    right_match = True\n",
    "    hold_chat = False\n",
    "    count = 0\n",
    "\n",
    "    # Iterating through every chat message\n",
    "    for chat_number,chat in enumerate(chats):\n",
    "        #removes unwanted blank spaces\n",
    "        chat = re.sub(' +', ' ', chat)\n",
    "        chat = chat.strip()\n",
    "        \n",
    "        # To make split into atleast 2 halfs to handle chat messages without date\n",
    "        modified_chat = chat + \"x:x-x,x\"\n",
    "        date,rest_text = modified_chat.split(\",\")[:2]\n",
    "        date = date.strip()\n",
    "\n",
    "        # To check whether next chat is of valid format containing date\n",
    "        if chat_number+1 < len(chats): \n",
    "            next_modified_chat = chats[chat_number+1] + \"x:x-x,x\"\n",
    "            next_date,next_rest_text = next_modified_chat.split(\",\")[:2]\n",
    "            next_date = next_date.strip()\n",
    "\n",
    "            # Hold the current chat message for appending into structured_chats if next chat message is not valid\n",
    "            if re.match(pattern_str, next_date):\n",
    "                hold_chat = False\n",
    "            else:\n",
    "                hold_chat = True     \n",
    "        \n",
    "        # To check whether current message is valid or not\n",
    "        if not re.match(pattern_str, date) and right_match!=False:\n",
    "            \n",
    "            # If not valid store the previous chat message \n",
    "            previous_chat = chats[chat_number-1]\n",
    "            right_match = False\n",
    "            \n",
    "        \n",
    "        # Keep on adding invalid messages to previous message (which is correct)\n",
    "        if not re.match(pattern_str, date):\n",
    "            previous_chat = previous_chat + \" \" +  chat\n",
    "            \n",
    "        elif not hold_chat and right_match == False:\n",
    "            # if no invalid chat message left, then append the previous message (correct) to new_chat\n",
    "            structured_chats.append(previous_chat)\n",
    "            previous_chat = \"\"\n",
    "\n",
    "        \n",
    "        # if current chat and next chat is valid\n",
    "        if not hold_chat and re.match(pattern_str, date):\n",
    "            right_match = True\n",
    "            structured_chats.append(chat)\n",
    "\n",
    "        # if chat number is last and chat messages are not valid\n",
    "        if (chat_number+1) == len(chats) and right_match==False:\n",
    "            structured_chats.append(previous_chat)\n",
    "            \n",
    "\n",
    "    return structured_chats"
   ]
  },
  {
   "cell_type": "code",
   "execution_count": 4,
   "metadata": {},
   "outputs": [],
   "source": [
    "def get_notifications_splitted(chats:list):\n",
    "\n",
    "    notifications = []\n",
    "    without_notifications = []\n",
    "\n",
    "    for chat in chats:\n",
    "\n",
    "        chat_backup = chat\n",
    "\n",
    "        chat = chat.split(',')[1:]\n",
    "        chat =  \"\".join(chat) \n",
    "        chat = chat.split('-')[1:]   \n",
    "        chat = ''.join(chat) \n",
    "        \n",
    "        if \":\" not in chat:\n",
    "            notifications.append(chat_backup)\n",
    "        else:\n",
    "            without_notifications.append(chat_backup)\n",
    "                                                \n",
    "    return notifications,without_notifications"
   ]
  },
  {
   "cell_type": "code",
   "execution_count": 5,
   "metadata": {},
   "outputs": [],
   "source": [
    "def get_tablular_chats(chats,table_type:str):\n",
    "\n",
    "    dates = []\n",
    "    timestamps = []\n",
    "    username = []\n",
    "    message = []\n",
    "    tabular_chat = None\n",
    "        \n",
    "    for chat in chats:\n",
    "        \n",
    "        chat_splitted = chat.split(\",\")\n",
    "        date,rest_text = chat_splitted[0],chat_splitted[1:]\n",
    "        rest_text = ','.join(rest_text)\n",
    "        rest_text = rest_text.strip()\n",
    "        date = date.strip()\n",
    "       \n",
    "        chat_splitted = rest_text.split(\"-\")\n",
    "        time,rest_text = chat_splitted[0],chat_splitted[1:]\n",
    "        rest_text = '-'.join(rest_text)\n",
    "        rest_text = rest_text.strip()\n",
    "        time = time.strip()\n",
    "\n",
    "\n",
    "        if table_type == 'without_notifications':\n",
    "\n",
    "            chat_splitted = rest_text.split(\":\")\n",
    "            person,rest_text = chat_splitted[0],chat_splitted[1:]\n",
    "            rest_text = ':'.join(rest_text)\n",
    "            rest_text = rest_text.strip()\n",
    "            person = person.strip()\n",
    "\n",
    "            dates.append(date)\n",
    "            timestamps.append(time)\n",
    "            username.append(person)\n",
    "            message.append(rest_text)\n",
    "\n",
    "        elif table_type == 'only_notifications':\n",
    "\n",
    "            dates.append(date)\n",
    "            timestamps.append(time)\n",
    "            message.append(rest_text)\n",
    "\n",
    "        else:\n",
    "            print(\"specify correct table type (without_notifications/only_notifications)\")\n",
    "            return None\n",
    "    \n",
    "\n",
    "    if table_type == 'without_notifications':\n",
    "\n",
    "        tabular_chat = pd.DataFrame({\"Date\":dates,\"time\":timestamps,\"username\":username,\"message\":message})\n",
    "\n",
    "    elif table_type == 'only_notifications':\n",
    "        \n",
    "        tabular_chat = pd.DataFrame({\"Date\":dates,\"time\":timestamps,\"notifictions\":message})\n",
    "        \n",
    "             \n",
    "\n",
    "    return tabular_chat  \n",
    "       "
   ]
  },
  {
   "cell_type": "code",
   "execution_count": 6,
   "metadata": {},
   "outputs": [],
   "source": [
    "def load_chats_table(chatFile:Path):\n",
    "\n",
    "    with open(chatFile,encoding='utf-8') as textFile:\n",
    "        chats = textFile.readlines()\n",
    "\n",
    "        structured_chats = get_structured_chats(chats)\n",
    "        only_notificatitons,without_notifications = get_notifications_splitted(structured_chats)\n",
    "        only_notifications_table = get_tablular_chats(only_notificatitons,table_type = 'only_notifications')\n",
    "        without_notifications_table = get_tablular_chats(without_notifications,table_type = 'without_notifications')\n",
    "\n",
    "    return only_notifications_table,without_notifications_table"
   ]
  },
  {
   "cell_type": "code",
   "execution_count": 7,
   "metadata": {},
   "outputs": [],
   "source": [
    "CHAT_FILE = Path('Chats/WhatsApp Chat with 20BCS-38 7th Semester.txt') "
   ]
  },
  {
   "cell_type": "code",
   "execution_count": 8,
   "metadata": {},
   "outputs": [],
   "source": [
    " only_notifications,without_notifications = load_chats_table(CHAT_FILE)"
   ]
  },
  {
   "cell_type": "code",
   "execution_count": 9,
   "metadata": {},
   "outputs": [
    {
     "data": {
      "text/html": [
       "<div>\n",
       "<style scoped>\n",
       "    .dataframe tbody tr th:only-of-type {\n",
       "        vertical-align: middle;\n",
       "    }\n",
       "\n",
       "    .dataframe tbody tr th {\n",
       "        vertical-align: top;\n",
       "    }\n",
       "\n",
       "    .dataframe thead th {\n",
       "        text-align: right;\n",
       "    }\n",
       "</style>\n",
       "<table border=\"1\" class=\"dataframe\">\n",
       "  <thead>\n",
       "    <tr style=\"text-align: right;\">\n",
       "      <th></th>\n",
       "      <th>Date</th>\n",
       "      <th>time</th>\n",
       "      <th>notifictions</th>\n",
       "    </tr>\n",
       "  </thead>\n",
       "  <tbody>\n",
       "    <tr>\n",
       "      <th>0</th>\n",
       "      <td>29/07/23</td>\n",
       "      <td>12:19 pm</td>\n",
       "      <td>Messages and calls are end-to-end encrypted. N...</td>\n",
       "    </tr>\n",
       "    <tr>\n",
       "      <th>1</th>\n",
       "      <td>23/07/23</td>\n",
       "      <td>2:06 pm</td>\n",
       "      <td>Sourabh 7 Mentor created group \"Final year CSE...</td>\n",
       "    </tr>\n",
       "    <tr>\n",
       "      <th>2</th>\n",
       "      <td>29/07/23</td>\n",
       "      <td>12:19 pm</td>\n",
       "      <td>Sourabh 7 Mentor added you</td>\n",
       "    </tr>\n",
       "    <tr>\n",
       "      <th>3</th>\n",
       "      <td>29/07/23</td>\n",
       "      <td>12:19 pm</td>\n",
       "      <td>Sourabh 7 Mentor added +91 79799 69265</td>\n",
       "    </tr>\n",
       "    <tr>\n",
       "      <th>4</th>\n",
       "      <td>29/07/23</td>\n",
       "      <td>12:35 pm</td>\n",
       "      <td>Sourabh 7 Mentor added +91 98722 29498</td>\n",
       "    </tr>\n",
       "  </tbody>\n",
       "</table>\n",
       "</div>"
      ],
      "text/plain": [
       "       Date      time                                       notifictions\n",
       "0  29/07/23  12:19 pm  Messages and calls are end-to-end encrypted. N...\n",
       "1  23/07/23   2:06 pm  Sourabh 7 Mentor created group \"Final year CSE...\n",
       "2  29/07/23  12:19 pm                         Sourabh 7 Mentor added you\n",
       "3  29/07/23  12:19 pm             Sourabh 7 Mentor added +91 79799 69265\n",
       "4  29/07/23  12:35 pm             Sourabh 7 Mentor added +91 98722 29498"
      ]
     },
     "execution_count": 9,
     "metadata": {},
     "output_type": "execute_result"
    }
   ],
   "source": [
    "only_notifications.head()"
   ]
  },
  {
   "cell_type": "code",
   "execution_count": 10,
   "metadata": {},
   "outputs": [
    {
     "data": {
      "text/html": [
       "<div>\n",
       "<style scoped>\n",
       "    .dataframe tbody tr th:only-of-type {\n",
       "        vertical-align: middle;\n",
       "    }\n",
       "\n",
       "    .dataframe tbody tr th {\n",
       "        vertical-align: top;\n",
       "    }\n",
       "\n",
       "    .dataframe thead th {\n",
       "        text-align: right;\n",
       "    }\n",
       "</style>\n",
       "<table border=\"1\" class=\"dataframe\">\n",
       "  <thead>\n",
       "    <tr style=\"text-align: right;\">\n",
       "      <th></th>\n",
       "      <th>Date</th>\n",
       "      <th>time</th>\n",
       "      <th>username</th>\n",
       "      <th>message</th>\n",
       "    </tr>\n",
       "  </thead>\n",
       "  <tbody>\n",
       "    <tr>\n",
       "      <th>0</th>\n",
       "      <td>29/07/23</td>\n",
       "      <td>12:39 pm</td>\n",
       "      <td>+91 70045 64005</td>\n",
       "      <td>Already Responded  Registration Done</td>\n",
       "    </tr>\n",
       "    <tr>\n",
       "      <th>1</th>\n",
       "      <td>29/07/23</td>\n",
       "      <td>1:11 pm</td>\n",
       "      <td>+91 83077 89067</td>\n",
       "      <td>Garima  20BCS2031 Registration done! 20BCS9624...</td>\n",
       "    </tr>\n",
       "    <tr>\n",
       "      <th>2</th>\n",
       "      <td>29/07/23</td>\n",
       "      <td>3:12 pm</td>\n",
       "      <td>Sourabh 7 Mentor</td>\n",
       "      <td>gaurav 20bcs1316 mohan 20bcs2968 vasu 20bcs793...</td>\n",
       "    </tr>\n",
       "    <tr>\n",
       "      <th>3</th>\n",
       "      <td>30/07/23</td>\n",
       "      <td>7:42 pm</td>\n",
       "      <td>+91 6376 881 983</td>\n",
       "      <td>20bcs7936  Vasu Solanki Done</td>\n",
       "    </tr>\n",
       "    <tr>\n",
       "      <th>4</th>\n",
       "      <td>31/07/23</td>\n",
       "      <td>9:50 am</td>\n",
       "      <td>Karan CR Sem5,6</td>\n",
       "      <td>*Most Urgent:* *Accenture Registration :* Stud...</td>\n",
       "    </tr>\n",
       "  </tbody>\n",
       "</table>\n",
       "</div>"
      ],
      "text/plain": [
       "       Date      time          username  \\\n",
       "0  29/07/23  12:39 pm   +91 70045 64005   \n",
       "1  29/07/23   1:11 pm   +91 83077 89067   \n",
       "2  29/07/23   3:12 pm  Sourabh 7 Mentor   \n",
       "3  30/07/23   7:42 pm  +91 6376 881 983   \n",
       "4  31/07/23   9:50 am   Karan CR Sem5,6   \n",
       "\n",
       "                                             message  \n",
       "0               Already Responded  Registration Done  \n",
       "1  Garima  20BCS2031 Registration done! 20BCS9624...  \n",
       "2  gaurav 20bcs1316 mohan 20bcs2968 vasu 20bcs793...  \n",
       "3                       20bcs7936  Vasu Solanki Done  \n",
       "4  *Most Urgent:* *Accenture Registration :* Stud...  "
      ]
     },
     "execution_count": 10,
     "metadata": {},
     "output_type": "execute_result"
    }
   ],
   "source": [
    "without_notifications.head()"
   ]
  },
  {
   "cell_type": "markdown",
   "metadata": {},
   "source": [
    "# Feature engineering Date and time columns"
   ]
  },
  {
   "cell_type": "code",
   "execution_count": 11,
   "metadata": {},
   "outputs": [],
   "source": [
    "def get_24_hrs_format(date:str,time:str):\n",
    "\n",
    "    meridiem_regx = r'[A-Za-z][A-Za-z]'\n",
    "    meridiem_match = re.search(meridiem_regx,time)\n",
    "    meridiem = meridiem_match.group() # extraxt am/pm\n",
    "\n",
    "    time = time.replace(meridiem,\"\") # extract hh:mm\n",
    "    hour,minutes = time.split(':')\n",
    "\n",
    "    hour = int(hour)\n",
    "    minutes = int(minutes)\n",
    "\n",
    "    # converting to 24 hours format\n",
    "\n",
    "    if hour==12 and meridiem=='am': hour = 0\n",
    "\n",
    "    if hour>12 and meridiem == 'pm': hour+=12\n",
    "    \n",
    "    if hour<10: hour = f\"0{hour}\"\n",
    "\n",
    "    if minutes<10:minutes = f\"0{minutes}\"        \n",
    "\n",
    "\n",
    "    datetime = f\"{date} {hour}:{minutes}\"\n",
    "    \n",
    "    return datetime"
   ]
  },
  {
   "cell_type": "code",
   "execution_count": 12,
   "metadata": {},
   "outputs": [],
   "source": [
    "def get_24_hours_datetimes(dates,times) :\n",
    "\n",
    "    date_times = []\n",
    "\n",
    "    for date,time in zip(dates,times):\n",
    "\n",
    "        date_time = get_24_hrs_format(date,time)\n",
    "        date_times.append(date_time)\n",
    "\n",
    "\n",
    "    return date_times\n",
    "    "
   ]
  },
  {
   "cell_type": "code",
   "execution_count": 13,
   "metadata": {},
   "outputs": [],
   "source": [
    "dates = without_notifications.Date.values\n",
    "times = without_notifications.time.values\n",
    "\n",
    "datetime24 = get_24_hours_datetimes(dates,times)\n",
    "without_notifications.insert(2,\"datetime24\",datetime24)\n",
    "without_notifications.datetime24 = pd.to_datetime(without_notifications.datetime24,format='%d/%m/%y %H:%M')\n",
    "without_notifications.insert(2,\"only_date\",without_notifications.datetime24.dt.date)\n",
    "\n",
    "without_notifications = without_notifications.assign(\n",
    "\n",
    "    hour = without_notifications.datetime24.dt.hour,\n",
    "    minutes = without_notifications.datetime24.dt.minute,\n",
    "\n",
    "    Day = without_notifications.datetime24.dt.day,\n",
    "    Month = without_notifications.datetime24.dt.month,\n",
    "    Month_name = without_notifications.datetime24.dt.month_name(),\n",
    "    Year = without_notifications.datetime24.dt.year,\n",
    "\n",
    "    weekday = without_notifications.datetime24.dt.dayofweek,\n",
    "    weekday_name = without_notifications.datetime24.dt.day_name(),\n",
    "\n",
    ")\n"
   ]
  },
  {
   "cell_type": "code",
   "execution_count": 14,
   "metadata": {},
   "outputs": [
    {
     "data": {
      "text/html": [
       "<div>\n",
       "<style scoped>\n",
       "    .dataframe tbody tr th:only-of-type {\n",
       "        vertical-align: middle;\n",
       "    }\n",
       "\n",
       "    .dataframe tbody tr th {\n",
       "        vertical-align: top;\n",
       "    }\n",
       "\n",
       "    .dataframe thead th {\n",
       "        text-align: right;\n",
       "    }\n",
       "</style>\n",
       "<table border=\"1\" class=\"dataframe\">\n",
       "  <thead>\n",
       "    <tr style=\"text-align: right;\">\n",
       "      <th></th>\n",
       "      <th>Date</th>\n",
       "      <th>time</th>\n",
       "      <th>only_date</th>\n",
       "      <th>datetime24</th>\n",
       "      <th>username</th>\n",
       "      <th>message</th>\n",
       "      <th>hour</th>\n",
       "      <th>minutes</th>\n",
       "      <th>Day</th>\n",
       "      <th>Month</th>\n",
       "      <th>Month_name</th>\n",
       "      <th>Year</th>\n",
       "      <th>weekday</th>\n",
       "      <th>weekday_name</th>\n",
       "    </tr>\n",
       "  </thead>\n",
       "  <tbody>\n",
       "    <tr>\n",
       "      <th>0</th>\n",
       "      <td>29/07/23</td>\n",
       "      <td>12:39 pm</td>\n",
       "      <td>2023-07-29</td>\n",
       "      <td>2023-07-29 12:39:00</td>\n",
       "      <td>+91 70045 64005</td>\n",
       "      <td>Already Responded  Registration Done</td>\n",
       "      <td>12</td>\n",
       "      <td>39</td>\n",
       "      <td>29</td>\n",
       "      <td>7</td>\n",
       "      <td>July</td>\n",
       "      <td>2023</td>\n",
       "      <td>5</td>\n",
       "      <td>Saturday</td>\n",
       "    </tr>\n",
       "    <tr>\n",
       "      <th>1</th>\n",
       "      <td>29/07/23</td>\n",
       "      <td>1:11 pm</td>\n",
       "      <td>2023-07-29</td>\n",
       "      <td>2023-07-29 01:11:00</td>\n",
       "      <td>+91 83077 89067</td>\n",
       "      <td>Garima  20BCS2031 Registration done! 20BCS9624...</td>\n",
       "      <td>1</td>\n",
       "      <td>11</td>\n",
       "      <td>29</td>\n",
       "      <td>7</td>\n",
       "      <td>July</td>\n",
       "      <td>2023</td>\n",
       "      <td>5</td>\n",
       "      <td>Saturday</td>\n",
       "    </tr>\n",
       "    <tr>\n",
       "      <th>2</th>\n",
       "      <td>29/07/23</td>\n",
       "      <td>3:12 pm</td>\n",
       "      <td>2023-07-29</td>\n",
       "      <td>2023-07-29 03:12:00</td>\n",
       "      <td>Sourabh 7 Mentor</td>\n",
       "      <td>gaurav 20bcs1316 mohan 20bcs2968 vasu 20bcs793...</td>\n",
       "      <td>3</td>\n",
       "      <td>12</td>\n",
       "      <td>29</td>\n",
       "      <td>7</td>\n",
       "      <td>July</td>\n",
       "      <td>2023</td>\n",
       "      <td>5</td>\n",
       "      <td>Saturday</td>\n",
       "    </tr>\n",
       "    <tr>\n",
       "      <th>3</th>\n",
       "      <td>30/07/23</td>\n",
       "      <td>7:42 pm</td>\n",
       "      <td>2023-07-30</td>\n",
       "      <td>2023-07-30 07:42:00</td>\n",
       "      <td>+91 6376 881 983</td>\n",
       "      <td>20bcs7936  Vasu Solanki Done</td>\n",
       "      <td>7</td>\n",
       "      <td>42</td>\n",
       "      <td>30</td>\n",
       "      <td>7</td>\n",
       "      <td>July</td>\n",
       "      <td>2023</td>\n",
       "      <td>6</td>\n",
       "      <td>Sunday</td>\n",
       "    </tr>\n",
       "    <tr>\n",
       "      <th>4</th>\n",
       "      <td>31/07/23</td>\n",
       "      <td>9:50 am</td>\n",
       "      <td>2023-07-31</td>\n",
       "      <td>2023-07-31 09:50:00</td>\n",
       "      <td>Karan CR Sem5,6</td>\n",
       "      <td>*Most Urgent:* *Accenture Registration :* Stud...</td>\n",
       "      <td>9</td>\n",
       "      <td>50</td>\n",
       "      <td>31</td>\n",
       "      <td>7</td>\n",
       "      <td>July</td>\n",
       "      <td>2023</td>\n",
       "      <td>0</td>\n",
       "      <td>Monday</td>\n",
       "    </tr>\n",
       "  </tbody>\n",
       "</table>\n",
       "</div>"
      ],
      "text/plain": [
       "       Date      time   only_date          datetime24          username  \\\n",
       "0  29/07/23  12:39 pm  2023-07-29 2023-07-29 12:39:00   +91 70045 64005   \n",
       "1  29/07/23   1:11 pm  2023-07-29 2023-07-29 01:11:00   +91 83077 89067   \n",
       "2  29/07/23   3:12 pm  2023-07-29 2023-07-29 03:12:00  Sourabh 7 Mentor   \n",
       "3  30/07/23   7:42 pm  2023-07-30 2023-07-30 07:42:00  +91 6376 881 983   \n",
       "4  31/07/23   9:50 am  2023-07-31 2023-07-31 09:50:00   Karan CR Sem5,6   \n",
       "\n",
       "                                             message  hour  minutes  Day  \\\n",
       "0               Already Responded  Registration Done    12       39   29   \n",
       "1  Garima  20BCS2031 Registration done! 20BCS9624...     1       11   29   \n",
       "2  gaurav 20bcs1316 mohan 20bcs2968 vasu 20bcs793...     3       12   29   \n",
       "3                       20bcs7936  Vasu Solanki Done     7       42   30   \n",
       "4  *Most Urgent:* *Accenture Registration :* Stud...     9       50   31   \n",
       "\n",
       "   Month Month_name  Year  weekday weekday_name  \n",
       "0      7       July  2023        5     Saturday  \n",
       "1      7       July  2023        5     Saturday  \n",
       "2      7       July  2023        5     Saturday  \n",
       "3      7       July  2023        6       Sunday  \n",
       "4      7       July  2023        0       Monday  "
      ]
     },
     "execution_count": 14,
     "metadata": {},
     "output_type": "execute_result"
    }
   ],
   "source": [
    "without_notifications.head()"
   ]
  },
  {
   "cell_type": "markdown",
   "metadata": {},
   "source": [
    "# Most Active Participants"
   ]
  },
  {
   "cell_type": "code",
   "execution_count": 15,
   "metadata": {},
   "outputs": [],
   "source": [
    "from datetime import datetime,timedelta,date\n",
    "from dateutil.relativedelta import relativedelta\n",
    "import calendar\n",
    "import numpy as np"
   ]
  },
  {
   "cell_type": "code",
   "execution_count": 16,
   "metadata": {},
   "outputs": [],
   "source": [
    "def all_years_wise_activity(active_username,chat_details,start_year,end_year):\n",
    "    \n",
    "    start_date = datetime(start_year,1,1)\n",
    "    end_date = datetime(end_year,1,1)\n",
    "\n",
    "    delta = relativedelta(years=1)\n",
    "\n",
    "    years = []\n",
    "\n",
    "    while start_date <= end_date:\n",
    "        years.append(start_date.year)\n",
    "        start_date += delta\n",
    "\n",
    "    user_activity = [0 for count in range(len(years))] \n",
    "    username = [active_username for count in range(len(years))] \n",
    "\n",
    "    active_user_details = chat_details[chat_details.username == active_username]\n",
    "    activity_period = active_user_details[(active_user_details.Year >= start_year) & (active_user_details.Year <= end_year)]\n",
    "\n",
    "    activity_details = activity_period.Year.value_counts()\n",
    "\n",
    "    year_data = activity_details.index\n",
    "    activity_data = activity_details.values\n",
    "\n",
    "    for year,activity in zip(year_data,activity_data):\n",
    "        index = years.index(year)\n",
    "        user_activity[index] = activity\n",
    "\n",
    "    \n",
    "    return username,years,user_activity"
   ]
  },
  {
   "cell_type": "code",
   "execution_count": 17,
   "metadata": {},
   "outputs": [],
   "source": [
    "def all_months_wise_activity(active_username,chat_details,year,start_month,end_month):\n",
    "    \n",
    "\n",
    "    start_date = datetime(year,start_month,1)\n",
    "    end_date = datetime(year,end_month,1)\n",
    "\n",
    "    delta = relativedelta(months=1)\n",
    "\n",
    "    months = []\n",
    "    \n",
    "    while start_date <= end_date:\n",
    "        months.append(start_date.month)\n",
    "        start_date += delta\n",
    "\n",
    "    user_activity = [0 for count in range(len(months))] \n",
    "    username = [active_username for count in range(len(months))]\n",
    "\n",
    "    active_user_details = chat_details[chat_details.username == active_username]\n",
    "    activity_period = active_user_details[(active_user_details.Month >= start_month) & (active_user_details.Month <= end_month)]\n",
    "    \n",
    "    activity_details = activity_period.Month.value_counts()\n",
    "\n",
    "    month_data = activity_details.index\n",
    "    activity_data = activity_details.values\n",
    "\n",
    "    for month,activity in zip(month_data,activity_data):\n",
    "\n",
    "        index = months.index(month)\n",
    "        user_activity[index] = activity\n",
    "\n",
    "    #provide month number\n",
    "    month_names = []\n",
    "\n",
    "    for month_number in months:\n",
    "        datetime_object = datetime.strptime(str(month_number), \"%m\")\n",
    "        full_month_name = datetime_object.strftime(\"%B\")\n",
    "        month_names.append(full_month_name)\n",
    "\n",
    "\n",
    "    return username,month_names,user_activity\n"
   ]
  },
  {
   "cell_type": "code",
   "execution_count": 18,
   "metadata": {},
   "outputs": [],
   "source": [
    "def all_days_wise_activity(active_username,chat_details,start_year,start_month,start_day,end_year,end_month,end_day):\n",
    "\n",
    "    start_date = date(start_year,start_month,start_day)\n",
    "    end_date = date(end_year,end_month,end_day)\n",
    "\n",
    "    delta = relativedelta(days=1)\n",
    "\n",
    "    dates = []\n",
    "\n",
    "    current_date = start_date\n",
    "\n",
    "    while current_date <= end_date:\n",
    "        dates.append(current_date)\n",
    "        current_date += delta\n",
    "\n",
    "    user_activity = [0 for count in range(len(dates))] \n",
    "    username = [active_username for count in range(len(dates))]\n",
    "\n",
    "    active_user_details = chat_details[chat_details.username == active_username]\n",
    "    activity_period = active_user_details[(active_user_details.only_date >= start_date) & (active_user_details.only_date <= end_date)]\n",
    "\n",
    "    activity_details =  activity_period.only_date.value_counts()\n",
    "\n",
    "    dates_data = activity_details.index\n",
    "    activity_data = activity_details.values\n",
    "\n",
    "    for date_data,activity in zip(dates_data,activity_data):\n",
    "\n",
    "        index = dates.index(date_data)\n",
    "        user_activity[index] = activity\n",
    "        \n",
    "         \n",
    "    return username,dates,user_activity      \n",
    "\n"
   ]
  },
  {
   "cell_type": "code",
   "execution_count": 19,
   "metadata": {},
   "outputs": [],
   "source": [
    "def all_hours_wise_activity(active_username,chat_details,year,month,start_day,end_day,start_hour,end_hour):\n",
    "    \n",
    "    start_dateHours = datetime(year,month,start_day,start_hour,0,0)\n",
    "    end_dateHours = datetime(year, month,end_day,end_hour,0,0)\n",
    "\n",
    "    delta = timedelta(hours=1)\n",
    "\n",
    "    string_dateHours = []\n",
    "\n",
    "    current_dateHours = start_dateHours\n",
    "\n",
    "    while current_dateHours <= end_dateHours:\n",
    "\n",
    "        string_dateHour = ':'.join(str(np.datetime64(current_dateHours)).split(':')[:-2])\n",
    "        string_dateHours.append(string_dateHour)\n",
    "        current_dateHours += delta\n",
    "\n",
    "    user_activity = [0 for count in range(len(string_dateHours))] \n",
    "    username = [active_username for count in range(len(string_dateHours))] \n",
    "\n",
    "    active_user_details = chat_details[chat_details.username == active_username]\n",
    "    activity_period = active_user_details[(active_user_details.datetime24>=start_dateHours)&(active_user_details.datetime24<=end_dateHours)]\n",
    "      \n",
    "    dateHours_data = activity_period.datetime24.values\n",
    "    \n",
    "    for dateHour in dateHours_data:\n",
    "        dateHour = ':'.join(str(dateHour).split(':')[:-2])\n",
    "        if dateHour in string_dateHours:\n",
    "            index = string_dateHours.index(dateHour)\n",
    "            user_activity[index]+=1   \n",
    "\n",
    "    numpy_dateHours = []\n",
    "\n",
    "    for dateHour in string_dateHours:\n",
    "        numpy_dateHour = np.datetime64(dateHour)\n",
    "        numpy_dateHours.append(numpy_dateHour)\n",
    "        \n",
    "\n",
    "    return username,numpy_dateHours,user_activity"
   ]
  },
  {
   "cell_type": "code",
   "execution_count": 20,
   "metadata": {},
   "outputs": [],
   "source": [
    "def all_minutes_wise_activity(active_username,chat_details,year,month,day,start_hour,start_minutes,end_hour,end_minutes):\n",
    "    \n",
    "    start_dateHoursMinutes = datetime(year,month,day,start_hour,start_minutes,0)\n",
    "    end_dateHoursMinutes = datetime(year, month,day,end_hour,end_minutes,0)\n",
    "\n",
    "    delta = timedelta(minutes=1)\n",
    "\n",
    "    string_dateHoursMinutes = []\n",
    "\n",
    "    current_dateHoursMinutes = start_dateHoursMinutes\n",
    "\n",
    "    while current_dateHoursMinutes <= end_dateHoursMinutes:\n",
    "\n",
    "        string_dateHourMinutes = ':'.join(str(np.datetime64(current_dateHoursMinutes)).split(':')[:-1])\n",
    "        string_dateHoursMinutes.append(string_dateHourMinutes)\n",
    "        current_dateHoursMinutes += delta\n",
    "\n",
    "    user_activity = [0 for count in range(len(string_dateHoursMinutes))] \n",
    "    username = [active_username for count in range(len(string_dateHoursMinutes))] \n",
    "\n",
    "    active_user_details = chat_details[chat_details.username == active_username]\n",
    "    activity_period = active_user_details[(active_user_details.datetime24>=start_dateHoursMinutes)&(active_user_details.datetime24<=end_dateHoursMinutes)]\n",
    "    \n",
    "\n",
    "    dateHoursMinutes_data = activity_period.datetime24.values\n",
    "    \n",
    "    for dateHourMinute in dateHoursMinutes_data:\n",
    "        dateHourMinute = ':'.join(str(dateHourMinute).split(':')[:-1])\n",
    "\n",
    "        if dateHourMinute in string_dateHoursMinutes:\n",
    "            index = string_dateHoursMinutes.index(dateHourMinute)\n",
    "            user_activity[index]+=1   \n",
    "\n",
    "    numpy_dateHoursMinutes = []\n",
    "\n",
    "    for dateHourMinute in string_dateHoursMinutes:\n",
    "        numpy_dateHourMinute = np.datetime64(dateHourMinute)\n",
    "        numpy_dateHoursMinutes.append(numpy_dateHourMinute)\n",
    "        \n",
    "\n",
    "    return username,numpy_dateHoursMinutes,user_activity\n"
   ]
  },
  {
   "cell_type": "code",
   "execution_count": 21,
   "metadata": {},
   "outputs": [],
   "source": [
    "def all_weekday_wise_activity(username,chat_details,year,month):\n",
    "    _,_,w1_user_activity = all_days_wise_activity(username,chat_details,year,month,1,year,month,7)\n",
    "    _,_,w2_user_activity = all_days_wise_activity(username,chat_details,year,month,8,year,month,14)\n",
    "    _,_,w3_user_activity = all_days_wise_activity(username,chat_details,year,month,15,year,month,21)\n",
    "    username,weekdates,w4_user_activity = all_days_wise_activity(username,chat_details,year,month,22,year,month,28)\n",
    "\n",
    "    weekdays_names = []\n",
    "\n",
    "    for date in weekdates:\n",
    "        day_name = calendar.day_name[date.weekday()]\n",
    "        weekdays_names.append(day_name)\n",
    "\n",
    "\n",
    "    return  username,weekdays_names,\\\n",
    "            [w1_user_activity,w2_user_activity,w3_user_activity,w4_user_activity]    \n"
   ]
  },
  {
   "cell_type": "code",
   "execution_count": 22,
   "metadata": {},
   "outputs": [],
   "source": [
    "top_active_users = 7\n",
    "active_participation_count = without_notifications.username.value_counts()[:top_active_users]\n",
    "active_users = active_participation_count.index"
   ]
  },
  {
   "cell_type": "code",
   "execution_count": 26,
   "metadata": {},
   "outputs": [],
   "source": [
    "others_df = without_notifications.copy()\n",
    "active_users_dfs = []\n",
    "\n",
    "for user in active_users:\n",
    "    active_users_df = without_notifications[without_notifications.username == user]\n",
    "    active_users_dfs.append(active_users_df)\n",
    "\n",
    "\n",
    "for user in active_users:\n",
    "    others_df = others_df[others_df.username != user]\n",
    "\n",
    "others_df.username = \"others\"\n",
    "active_users_dfs.append(others_df)\n",
    "\n",
    "chat_details = pd.concat(active_users_dfs)  \n",
    "active_users = active_users.insert(top_active_users,\"others\")  \n"
   ]
  },
  {
   "cell_type": "code",
   "execution_count": 27,
   "metadata": {},
   "outputs": [],
   "source": [
    "timeline_plot_names = [\"Years\",\"Months\",\"Weekdays\",\"Days\",\"Hours\",\"Minutes\"]\n",
    "\n",
    "users_timeline_plotting_details = {}\n",
    "\n",
    "for user in active_users:\n",
    "\n",
    "    users_timeline_plotting_details[user] = {}\n",
    "\n",
    "    for timeline_name in timeline_plot_names:\n",
    "\n",
    "        if timeline_name == \"Weekdays\":\n",
    "            users_timeline_plotting_details[user].update({timeline_name:{\n",
    "                                            \"username\":\"\",\"x\":\"\",\n",
    "                                            \"y1\":\"\",\"y2\":\"\",\"y3\":\"\",\"y4\":\"\"}})\n",
    "\n",
    "            continue\n",
    "\n",
    "        users_timeline_plotting_details[user].update({timeline_name:{\"username\":\"\",\"x\":\"\",\"y\":\"\"}})\n"
   ]
  },
  {
   "cell_type": "code",
   "execution_count": 86,
   "metadata": {},
   "outputs": [],
   "source": [
    "for username in active_users:\n",
    "\n",
    "    year_wise_username,years,per_year_user_activity = all_years_wise_activity(username,chat_details,start_year = 2020,end_year=2025)\n",
    "    month_wise_username,months,per_month_user_activity = all_months_wise_activity(username,chat_details,year=2023,start_month=7,end_month=11)\n",
    "    weekday_wise_username,weeks,per_week_user_activity = all_weekday_wise_activity(username,chat_details,year=2023,month=10)\n",
    "    day_wise_username,days,per_day_user_activity = all_days_wise_activity(username,chat_details,start_year=2023,start_month=8,start_day=1,end_year =2023,end_month=8,end_day=30)\n",
    "    hour_wise_username,hours,per_hour_user_activity = all_hours_wise_activity(username,chat_details,year=2023,month=8,start_day=3,end_day=3,start_hour=10,end_hour=20)\n",
    "    minute_wise_username,minutes,per_minute_user_activity = all_minutes_wise_activity(username,chat_details,year=2023,month=8,day=3,start_hour = 10,end_hour=11,start_minutes=0,end_minutes=50)\n",
    "    \n",
    "   \n",
    "    users_timeline_plotting_details[username][\"Years\"][\"username\"] = year_wise_username\n",
    "    users_timeline_plotting_details[username][\"Years\"][\"x\"] = years\n",
    "    users_timeline_plotting_details[username][\"Years\"][\"y\"] = per_year_user_activity\n",
    "\n",
    "    users_timeline_plotting_details[username][\"Months\"][\"username\"] = month_wise_username\n",
    "    users_timeline_plotting_details[username][\"Months\"][\"x\"] = months\n",
    "    users_timeline_plotting_details[username][\"Months\"][\"y\"] = per_month_user_activity\n",
    "\n",
    "    users_timeline_plotting_details[username][\"Days\"][\"username\"] = day_wise_username\n",
    "    users_timeline_plotting_details[username][\"Days\"][\"x\"] = days\n",
    "    users_timeline_plotting_details[username][\"Days\"][\"y\"] = per_day_user_activity\n",
    "\n",
    "    users_timeline_plotting_details[username][\"Weekdays\"][\"username\"] = weekday_wise_username\n",
    "    users_timeline_plotting_details[username][\"Weekdays\"][\"x\"] = weeks\n",
    "    users_timeline_plotting_details[username][\"Weekdays\"][\"y1\"] = per_week_user_activity[0]\n",
    "    users_timeline_plotting_details[username][\"Weekdays\"][\"y2\"] = per_week_user_activity[1]\n",
    "    users_timeline_plotting_details[username][\"Weekdays\"][\"y3\"] = per_week_user_activity[2]\n",
    "    users_timeline_plotting_details[username][\"Weekdays\"][\"y4\"] = per_week_user_activity[3]\n",
    "\n",
    "    users_timeline_plotting_details[username][\"Hours\"][\"username\"] = hour_wise_username\n",
    "    users_timeline_plotting_details[username][\"Hours\"][\"x\"] = hours\n",
    "    users_timeline_plotting_details[username][\"Hours\"][\"y\"] = per_hour_user_activity\n",
    "\n",
    "    users_timeline_plotting_details[username][\"Minutes\"][\"username\"] = minute_wise_username\n",
    "    users_timeline_plotting_details[username][\"Minutes\"][\"x\"] = minutes\n",
    "    users_timeline_plotting_details[username][\"Minutes\"][\"y\"] = per_minute_user_activity\n",
    "    "
   ]
  },
  {
   "cell_type": "code",
   "execution_count": 87,
   "metadata": {},
   "outputs": [],
   "source": [
    "timeline_plot_names = [\"Years\",\"Months\",\"Weekdays\",\"Days\",\"Hours\",\"Minutes\"]\n",
    "\n",
    "timeline_type_dataframe = {timeline : \"\" for timeline in timeline_plot_names }\n",
    "\n",
    "for timeline in timeline_plot_names:\n",
    "\n",
    "    df_timeline_list = []\n",
    "\n",
    "    for user in active_users:\n",
    "        df = pd.DataFrame(users_timeline_plotting_details[user][timeline])\n",
    "        df_timeline_list.append(df)\n",
    "\n",
    "    timeline_df = pd.concat(df_timeline_list,ignore_index=True)\n",
    "    timeline_type_dataframe[timeline] =  timeline_df   \n"
   ]
  },
  {
   "cell_type": "code",
   "execution_count": 88,
   "metadata": {},
   "outputs": [
    {
     "data": {
      "application/vnd.plotly.v1+json": {
       "config": {
        "plotlyServerURL": "https://plot.ly"
       },
       "data": [
        {
         "hovertemplate": "Users=Avantika CR 7sem<br>Years=%{x}<br>Message count=%{y}<extra></extra>",
         "legendgroup": "Avantika CR 7sem",
         "line": {
          "color": "#636efa",
          "dash": "solid"
         },
         "marker": {
          "symbol": "circle"
         },
         "mode": "markers+lines",
         "name": "Avantika CR 7sem",
         "orientation": "v",
         "showlegend": true,
         "type": "scatter",
         "x": [
          2020,
          2021,
          2022,
          2023,
          2024,
          2025
         ],
         "xaxis": "x",
         "y": [
          0,
          0,
          0,
          359,
          0,
          0
         ],
         "yaxis": "y"
        },
        {
         "hovertemplate": "Users=+91 73511 44719<br>Years=%{x}<br>Message count=%{y}<extra></extra>",
         "legendgroup": "+91 73511 44719",
         "line": {
          "color": "#EF553B",
          "dash": "solid"
         },
         "marker": {
          "symbol": "circle"
         },
         "mode": "markers+lines",
         "name": "+91 73511 44719",
         "orientation": "v",
         "showlegend": true,
         "type": "scatter",
         "x": [
          2020,
          2021,
          2022,
          2023,
          2024,
          2025
         ],
         "xaxis": "x",
         "y": [
          0,
          0,
          0,
          234,
          0,
          0
         ],
         "yaxis": "y"
        },
        {
         "hovertemplate": "Users=Sourabh 7 Mentor<br>Years=%{x}<br>Message count=%{y}<extra></extra>",
         "legendgroup": "Sourabh 7 Mentor",
         "line": {
          "color": "#00cc96",
          "dash": "solid"
         },
         "marker": {
          "symbol": "circle"
         },
         "mode": "markers+lines",
         "name": "Sourabh 7 Mentor",
         "orientation": "v",
         "showlegend": true,
         "type": "scatter",
         "x": [
          2020,
          2021,
          2022,
          2023,
          2024,
          2025
         ],
         "xaxis": "x",
         "y": [
          0,
          0,
          0,
          199,
          0,
          0
         ],
         "yaxis": "y"
        },
        {
         "hovertemplate": "Users=+91 76784 09427<br>Years=%{x}<br>Message count=%{y}<extra></extra>",
         "legendgroup": "+91 76784 09427",
         "line": {
          "color": "#ab63fa",
          "dash": "solid"
         },
         "marker": {
          "symbol": "circle"
         },
         "mode": "markers+lines",
         "name": "+91 76784 09427",
         "orientation": "v",
         "showlegend": true,
         "type": "scatter",
         "x": [
          2020,
          2021,
          2022,
          2023,
          2024,
          2025
         ],
         "xaxis": "x",
         "y": [
          0,
          0,
          0,
          47,
          0,
          0
         ],
         "yaxis": "y"
        },
        {
         "hovertemplate": "Users=+91 95235 15421<br>Years=%{x}<br>Message count=%{y}<extra></extra>",
         "legendgroup": "+91 95235 15421",
         "line": {
          "color": "#FFA15A",
          "dash": "solid"
         },
         "marker": {
          "symbol": "circle"
         },
         "mode": "markers+lines",
         "name": "+91 95235 15421",
         "orientation": "v",
         "showlegend": true,
         "type": "scatter",
         "x": [
          2020,
          2021,
          2022,
          2023,
          2024,
          2025
         ],
         "xaxis": "x",
         "y": [
          0,
          0,
          0,
          35,
          0,
          0
         ],
         "yaxis": "y"
        },
        {
         "hovertemplate": "Users=+91 76888 20220<br>Years=%{x}<br>Message count=%{y}<extra></extra>",
         "legendgroup": "+91 76888 20220",
         "line": {
          "color": "#19d3f3",
          "dash": "solid"
         },
         "marker": {
          "symbol": "circle"
         },
         "mode": "markers+lines",
         "name": "+91 76888 20220",
         "orientation": "v",
         "showlegend": true,
         "type": "scatter",
         "x": [
          2020,
          2021,
          2022,
          2023,
          2024,
          2025
         ],
         "xaxis": "x",
         "y": [
          0,
          0,
          0,
          29,
          0,
          0
         ],
         "yaxis": "y"
        },
        {
         "hovertemplate": "Users=+91 83079 17347<br>Years=%{x}<br>Message count=%{y}<extra></extra>",
         "legendgroup": "+91 83079 17347",
         "line": {
          "color": "#FF6692",
          "dash": "solid"
         },
         "marker": {
          "symbol": "circle"
         },
         "mode": "markers+lines",
         "name": "+91 83079 17347",
         "orientation": "v",
         "showlegend": true,
         "type": "scatter",
         "x": [
          2020,
          2021,
          2022,
          2023,
          2024,
          2025
         ],
         "xaxis": "x",
         "y": [
          0,
          0,
          0,
          28,
          0,
          0
         ],
         "yaxis": "y"
        },
        {
         "hovertemplate": "Users=others<br>Years=%{x}<br>Message count=%{y}<extra></extra>",
         "legendgroup": "others",
         "line": {
          "color": "#B6E880",
          "dash": "solid"
         },
         "marker": {
          "symbol": "circle"
         },
         "mode": "markers+lines",
         "name": "others",
         "orientation": "v",
         "showlegend": true,
         "type": "scatter",
         "x": [
          2020,
          2021,
          2022,
          2023,
          2024,
          2025
         ],
         "xaxis": "x",
         "y": [
          0,
          0,
          0,
          623,
          0,
          0
         ],
         "yaxis": "y"
        }
       ],
       "layout": {
        "legend": {
         "title": {
          "text": "Users"
         },
         "tracegroupgap": 0
        },
        "template": {
         "data": {
          "bar": [
           {
            "error_x": {
             "color": "#2a3f5f"
            },
            "error_y": {
             "color": "#2a3f5f"
            },
            "marker": {
             "line": {
              "color": "#E5ECF6",
              "width": 0.5
             },
             "pattern": {
              "fillmode": "overlay",
              "size": 10,
              "solidity": 0.2
             }
            },
            "type": "bar"
           }
          ],
          "barpolar": [
           {
            "marker": {
             "line": {
              "color": "#E5ECF6",
              "width": 0.5
             },
             "pattern": {
              "fillmode": "overlay",
              "size": 10,
              "solidity": 0.2
             }
            },
            "type": "barpolar"
           }
          ],
          "carpet": [
           {
            "aaxis": {
             "endlinecolor": "#2a3f5f",
             "gridcolor": "white",
             "linecolor": "white",
             "minorgridcolor": "white",
             "startlinecolor": "#2a3f5f"
            },
            "baxis": {
             "endlinecolor": "#2a3f5f",
             "gridcolor": "white",
             "linecolor": "white",
             "minorgridcolor": "white",
             "startlinecolor": "#2a3f5f"
            },
            "type": "carpet"
           }
          ],
          "choropleth": [
           {
            "colorbar": {
             "outlinewidth": 0,
             "ticks": ""
            },
            "type": "choropleth"
           }
          ],
          "contour": [
           {
            "colorbar": {
             "outlinewidth": 0,
             "ticks": ""
            },
            "colorscale": [
             [
              0,
              "#0d0887"
             ],
             [
              0.1111111111111111,
              "#46039f"
             ],
             [
              0.2222222222222222,
              "#7201a8"
             ],
             [
              0.3333333333333333,
              "#9c179e"
             ],
             [
              0.4444444444444444,
              "#bd3786"
             ],
             [
              0.5555555555555556,
              "#d8576b"
             ],
             [
              0.6666666666666666,
              "#ed7953"
             ],
             [
              0.7777777777777778,
              "#fb9f3a"
             ],
             [
              0.8888888888888888,
              "#fdca26"
             ],
             [
              1,
              "#f0f921"
             ]
            ],
            "type": "contour"
           }
          ],
          "contourcarpet": [
           {
            "colorbar": {
             "outlinewidth": 0,
             "ticks": ""
            },
            "type": "contourcarpet"
           }
          ],
          "heatmap": [
           {
            "colorbar": {
             "outlinewidth": 0,
             "ticks": ""
            },
            "colorscale": [
             [
              0,
              "#0d0887"
             ],
             [
              0.1111111111111111,
              "#46039f"
             ],
             [
              0.2222222222222222,
              "#7201a8"
             ],
             [
              0.3333333333333333,
              "#9c179e"
             ],
             [
              0.4444444444444444,
              "#bd3786"
             ],
             [
              0.5555555555555556,
              "#d8576b"
             ],
             [
              0.6666666666666666,
              "#ed7953"
             ],
             [
              0.7777777777777778,
              "#fb9f3a"
             ],
             [
              0.8888888888888888,
              "#fdca26"
             ],
             [
              1,
              "#f0f921"
             ]
            ],
            "type": "heatmap"
           }
          ],
          "heatmapgl": [
           {
            "colorbar": {
             "outlinewidth": 0,
             "ticks": ""
            },
            "colorscale": [
             [
              0,
              "#0d0887"
             ],
             [
              0.1111111111111111,
              "#46039f"
             ],
             [
              0.2222222222222222,
              "#7201a8"
             ],
             [
              0.3333333333333333,
              "#9c179e"
             ],
             [
              0.4444444444444444,
              "#bd3786"
             ],
             [
              0.5555555555555556,
              "#d8576b"
             ],
             [
              0.6666666666666666,
              "#ed7953"
             ],
             [
              0.7777777777777778,
              "#fb9f3a"
             ],
             [
              0.8888888888888888,
              "#fdca26"
             ],
             [
              1,
              "#f0f921"
             ]
            ],
            "type": "heatmapgl"
           }
          ],
          "histogram": [
           {
            "marker": {
             "pattern": {
              "fillmode": "overlay",
              "size": 10,
              "solidity": 0.2
             }
            },
            "type": "histogram"
           }
          ],
          "histogram2d": [
           {
            "colorbar": {
             "outlinewidth": 0,
             "ticks": ""
            },
            "colorscale": [
             [
              0,
              "#0d0887"
             ],
             [
              0.1111111111111111,
              "#46039f"
             ],
             [
              0.2222222222222222,
              "#7201a8"
             ],
             [
              0.3333333333333333,
              "#9c179e"
             ],
             [
              0.4444444444444444,
              "#bd3786"
             ],
             [
              0.5555555555555556,
              "#d8576b"
             ],
             [
              0.6666666666666666,
              "#ed7953"
             ],
             [
              0.7777777777777778,
              "#fb9f3a"
             ],
             [
              0.8888888888888888,
              "#fdca26"
             ],
             [
              1,
              "#f0f921"
             ]
            ],
            "type": "histogram2d"
           }
          ],
          "histogram2dcontour": [
           {
            "colorbar": {
             "outlinewidth": 0,
             "ticks": ""
            },
            "colorscale": [
             [
              0,
              "#0d0887"
             ],
             [
              0.1111111111111111,
              "#46039f"
             ],
             [
              0.2222222222222222,
              "#7201a8"
             ],
             [
              0.3333333333333333,
              "#9c179e"
             ],
             [
              0.4444444444444444,
              "#bd3786"
             ],
             [
              0.5555555555555556,
              "#d8576b"
             ],
             [
              0.6666666666666666,
              "#ed7953"
             ],
             [
              0.7777777777777778,
              "#fb9f3a"
             ],
             [
              0.8888888888888888,
              "#fdca26"
             ],
             [
              1,
              "#f0f921"
             ]
            ],
            "type": "histogram2dcontour"
           }
          ],
          "mesh3d": [
           {
            "colorbar": {
             "outlinewidth": 0,
             "ticks": ""
            },
            "type": "mesh3d"
           }
          ],
          "parcoords": [
           {
            "line": {
             "colorbar": {
              "outlinewidth": 0,
              "ticks": ""
             }
            },
            "type": "parcoords"
           }
          ],
          "pie": [
           {
            "automargin": true,
            "type": "pie"
           }
          ],
          "scatter": [
           {
            "fillpattern": {
             "fillmode": "overlay",
             "size": 10,
             "solidity": 0.2
            },
            "type": "scatter"
           }
          ],
          "scatter3d": [
           {
            "line": {
             "colorbar": {
              "outlinewidth": 0,
              "ticks": ""
             }
            },
            "marker": {
             "colorbar": {
              "outlinewidth": 0,
              "ticks": ""
             }
            },
            "type": "scatter3d"
           }
          ],
          "scattercarpet": [
           {
            "marker": {
             "colorbar": {
              "outlinewidth": 0,
              "ticks": ""
             }
            },
            "type": "scattercarpet"
           }
          ],
          "scattergeo": [
           {
            "marker": {
             "colorbar": {
              "outlinewidth": 0,
              "ticks": ""
             }
            },
            "type": "scattergeo"
           }
          ],
          "scattergl": [
           {
            "marker": {
             "colorbar": {
              "outlinewidth": 0,
              "ticks": ""
             }
            },
            "type": "scattergl"
           }
          ],
          "scattermapbox": [
           {
            "marker": {
             "colorbar": {
              "outlinewidth": 0,
              "ticks": ""
             }
            },
            "type": "scattermapbox"
           }
          ],
          "scatterpolar": [
           {
            "marker": {
             "colorbar": {
              "outlinewidth": 0,
              "ticks": ""
             }
            },
            "type": "scatterpolar"
           }
          ],
          "scatterpolargl": [
           {
            "marker": {
             "colorbar": {
              "outlinewidth": 0,
              "ticks": ""
             }
            },
            "type": "scatterpolargl"
           }
          ],
          "scatterternary": [
           {
            "marker": {
             "colorbar": {
              "outlinewidth": 0,
              "ticks": ""
             }
            },
            "type": "scatterternary"
           }
          ],
          "surface": [
           {
            "colorbar": {
             "outlinewidth": 0,
             "ticks": ""
            },
            "colorscale": [
             [
              0,
              "#0d0887"
             ],
             [
              0.1111111111111111,
              "#46039f"
             ],
             [
              0.2222222222222222,
              "#7201a8"
             ],
             [
              0.3333333333333333,
              "#9c179e"
             ],
             [
              0.4444444444444444,
              "#bd3786"
             ],
             [
              0.5555555555555556,
              "#d8576b"
             ],
             [
              0.6666666666666666,
              "#ed7953"
             ],
             [
              0.7777777777777778,
              "#fb9f3a"
             ],
             [
              0.8888888888888888,
              "#fdca26"
             ],
             [
              1,
              "#f0f921"
             ]
            ],
            "type": "surface"
           }
          ],
          "table": [
           {
            "cells": {
             "fill": {
              "color": "#EBF0F8"
             },
             "line": {
              "color": "white"
             }
            },
            "header": {
             "fill": {
              "color": "#C8D4E3"
             },
             "line": {
              "color": "white"
             }
            },
            "type": "table"
           }
          ]
         },
         "layout": {
          "annotationdefaults": {
           "arrowcolor": "#2a3f5f",
           "arrowhead": 0,
           "arrowwidth": 1
          },
          "autotypenumbers": "strict",
          "coloraxis": {
           "colorbar": {
            "outlinewidth": 0,
            "ticks": ""
           }
          },
          "colorscale": {
           "diverging": [
            [
             0,
             "#8e0152"
            ],
            [
             0.1,
             "#c51b7d"
            ],
            [
             0.2,
             "#de77ae"
            ],
            [
             0.3,
             "#f1b6da"
            ],
            [
             0.4,
             "#fde0ef"
            ],
            [
             0.5,
             "#f7f7f7"
            ],
            [
             0.6,
             "#e6f5d0"
            ],
            [
             0.7,
             "#b8e186"
            ],
            [
             0.8,
             "#7fbc41"
            ],
            [
             0.9,
             "#4d9221"
            ],
            [
             1,
             "#276419"
            ]
           ],
           "sequential": [
            [
             0,
             "#0d0887"
            ],
            [
             0.1111111111111111,
             "#46039f"
            ],
            [
             0.2222222222222222,
             "#7201a8"
            ],
            [
             0.3333333333333333,
             "#9c179e"
            ],
            [
             0.4444444444444444,
             "#bd3786"
            ],
            [
             0.5555555555555556,
             "#d8576b"
            ],
            [
             0.6666666666666666,
             "#ed7953"
            ],
            [
             0.7777777777777778,
             "#fb9f3a"
            ],
            [
             0.8888888888888888,
             "#fdca26"
            ],
            [
             1,
             "#f0f921"
            ]
           ],
           "sequentialminus": [
            [
             0,
             "#0d0887"
            ],
            [
             0.1111111111111111,
             "#46039f"
            ],
            [
             0.2222222222222222,
             "#7201a8"
            ],
            [
             0.3333333333333333,
             "#9c179e"
            ],
            [
             0.4444444444444444,
             "#bd3786"
            ],
            [
             0.5555555555555556,
             "#d8576b"
            ],
            [
             0.6666666666666666,
             "#ed7953"
            ],
            [
             0.7777777777777778,
             "#fb9f3a"
            ],
            [
             0.8888888888888888,
             "#fdca26"
            ],
            [
             1,
             "#f0f921"
            ]
           ]
          },
          "colorway": [
           "#636efa",
           "#EF553B",
           "#00cc96",
           "#ab63fa",
           "#FFA15A",
           "#19d3f3",
           "#FF6692",
           "#B6E880",
           "#FF97FF",
           "#FECB52"
          ],
          "font": {
           "color": "#2a3f5f"
          },
          "geo": {
           "bgcolor": "white",
           "lakecolor": "white",
           "landcolor": "#E5ECF6",
           "showlakes": true,
           "showland": true,
           "subunitcolor": "white"
          },
          "hoverlabel": {
           "align": "left"
          },
          "hovermode": "closest",
          "mapbox": {
           "style": "light"
          },
          "paper_bgcolor": "white",
          "plot_bgcolor": "#E5ECF6",
          "polar": {
           "angularaxis": {
            "gridcolor": "white",
            "linecolor": "white",
            "ticks": ""
           },
           "bgcolor": "#E5ECF6",
           "radialaxis": {
            "gridcolor": "white",
            "linecolor": "white",
            "ticks": ""
           }
          },
          "scene": {
           "xaxis": {
            "backgroundcolor": "#E5ECF6",
            "gridcolor": "white",
            "gridwidth": 2,
            "linecolor": "white",
            "showbackground": true,
            "ticks": "",
            "zerolinecolor": "white"
           },
           "yaxis": {
            "backgroundcolor": "#E5ECF6",
            "gridcolor": "white",
            "gridwidth": 2,
            "linecolor": "white",
            "showbackground": true,
            "ticks": "",
            "zerolinecolor": "white"
           },
           "zaxis": {
            "backgroundcolor": "#E5ECF6",
            "gridcolor": "white",
            "gridwidth": 2,
            "linecolor": "white",
            "showbackground": true,
            "ticks": "",
            "zerolinecolor": "white"
           }
          },
          "shapedefaults": {
           "line": {
            "color": "#2a3f5f"
           }
          },
          "ternary": {
           "aaxis": {
            "gridcolor": "white",
            "linecolor": "white",
            "ticks": ""
           },
           "baxis": {
            "gridcolor": "white",
            "linecolor": "white",
            "ticks": ""
           },
           "bgcolor": "#E5ECF6",
           "caxis": {
            "gridcolor": "white",
            "linecolor": "white",
            "ticks": ""
           }
          },
          "title": {
           "x": 0.05
          },
          "xaxis": {
           "automargin": true,
           "gridcolor": "white",
           "linecolor": "white",
           "ticks": "",
           "title": {
            "standoff": 15
           },
           "zerolinecolor": "white",
           "zerolinewidth": 2
          },
          "yaxis": {
           "automargin": true,
           "gridcolor": "white",
           "linecolor": "white",
           "ticks": "",
           "title": {
            "standoff": 15
           },
           "zerolinecolor": "white",
           "zerolinewidth": 2
          }
         }
        },
        "title": {
         "text": "Years timeline"
        },
        "xaxis": {
         "anchor": "y",
         "domain": [
          0,
          1
         ],
         "range": [
          2020,
          2025
         ],
         "rangeslider": {
          "visible": true
         },
         "tickvals": [
          2020,
          2021,
          2022,
          2023,
          2024
         ],
         "title": {
          "text": "Years"
         }
        },
        "yaxis": {
         "anchor": "x",
         "domain": [
          0,
          1
         ],
         "title": {
          "text": "Message count"
         }
        }
       }
      }
     },
     "metadata": {},
     "output_type": "display_data"
    },
    {
     "data": {
      "application/vnd.plotly.v1+json": {
       "config": {
        "plotlyServerURL": "https://plot.ly"
       },
       "data": [
        {
         "hovertemplate": "Users=Avantika CR 7sem<br>Months=%{x}<br>Message count=%{y}<extra></extra>",
         "legendgroup": "Avantika CR 7sem",
         "line": {
          "color": "#636efa",
          "dash": "solid"
         },
         "marker": {
          "symbol": "circle"
         },
         "mode": "markers+lines",
         "name": "Avantika CR 7sem",
         "orientation": "v",
         "showlegend": true,
         "type": "scatter",
         "x": [
          "July",
          "August",
          "September",
          "October",
          "November"
         ],
         "xaxis": "x",
         "y": [
          0,
          102,
          76,
          90,
          64
         ],
         "yaxis": "y"
        },
        {
         "hovertemplate": "Users=+91 73511 44719<br>Months=%{x}<br>Message count=%{y}<extra></extra>",
         "legendgroup": "+91 73511 44719",
         "line": {
          "color": "#EF553B",
          "dash": "solid"
         },
         "marker": {
          "symbol": "circle"
         },
         "mode": "markers+lines",
         "name": "+91 73511 44719",
         "orientation": "v",
         "showlegend": true,
         "type": "scatter",
         "x": [
          "July",
          "August",
          "September",
          "October",
          "November"
         ],
         "xaxis": "x",
         "y": [
          0,
          70,
          73,
          40,
          26
         ],
         "yaxis": "y"
        },
        {
         "hovertemplate": "Users=Sourabh 7 Mentor<br>Months=%{x}<br>Message count=%{y}<extra></extra>",
         "legendgroup": "Sourabh 7 Mentor",
         "line": {
          "color": "#00cc96",
          "dash": "solid"
         },
         "marker": {
          "symbol": "circle"
         },
         "mode": "markers+lines",
         "name": "Sourabh 7 Mentor",
         "orientation": "v",
         "showlegend": true,
         "type": "scatter",
         "x": [
          "July",
          "August",
          "September",
          "October",
          "November"
         ],
         "xaxis": "x",
         "y": [
          3,
          44,
          46,
          75,
          28
         ],
         "yaxis": "y"
        },
        {
         "hovertemplate": "Users=+91 76784 09427<br>Months=%{x}<br>Message count=%{y}<extra></extra>",
         "legendgroup": "+91 76784 09427",
         "line": {
          "color": "#ab63fa",
          "dash": "solid"
         },
         "marker": {
          "symbol": "circle"
         },
         "mode": "markers+lines",
         "name": "+91 76784 09427",
         "orientation": "v",
         "showlegend": true,
         "type": "scatter",
         "x": [
          "July",
          "August",
          "September",
          "October",
          "November"
         ],
         "xaxis": "x",
         "y": [
          0,
          1,
          23,
          6,
          17
         ],
         "yaxis": "y"
        },
        {
         "hovertemplate": "Users=+91 95235 15421<br>Months=%{x}<br>Message count=%{y}<extra></extra>",
         "legendgroup": "+91 95235 15421",
         "line": {
          "color": "#FFA15A",
          "dash": "solid"
         },
         "marker": {
          "symbol": "circle"
         },
         "mode": "markers+lines",
         "name": "+91 95235 15421",
         "orientation": "v",
         "showlegend": true,
         "type": "scatter",
         "x": [
          "July",
          "August",
          "September",
          "October",
          "November"
         ],
         "xaxis": "x",
         "y": [
          7,
          7,
          4,
          6,
          10
         ],
         "yaxis": "y"
        },
        {
         "hovertemplate": "Users=+91 76888 20220<br>Months=%{x}<br>Message count=%{y}<extra></extra>",
         "legendgroup": "+91 76888 20220",
         "line": {
          "color": "#19d3f3",
          "dash": "solid"
         },
         "marker": {
          "symbol": "circle"
         },
         "mode": "markers+lines",
         "name": "+91 76888 20220",
         "orientation": "v",
         "showlegend": true,
         "type": "scatter",
         "x": [
          "July",
          "August",
          "September",
          "October",
          "November"
         ],
         "xaxis": "x",
         "y": [
          0,
          5,
          8,
          3,
          12
         ],
         "yaxis": "y"
        },
        {
         "hovertemplate": "Users=+91 83079 17347<br>Months=%{x}<br>Message count=%{y}<extra></extra>",
         "legendgroup": "+91 83079 17347",
         "line": {
          "color": "#FF6692",
          "dash": "solid"
         },
         "marker": {
          "symbol": "circle"
         },
         "mode": "markers+lines",
         "name": "+91 83079 17347",
         "orientation": "v",
         "showlegend": true,
         "type": "scatter",
         "x": [
          "July",
          "August",
          "September",
          "October",
          "November"
         ],
         "xaxis": "x",
         "y": [
          0,
          7,
          2,
          6,
          12
         ],
         "yaxis": "y"
        },
        {
         "hovertemplate": "Users=others<br>Months=%{x}<br>Message count=%{y}<extra></extra>",
         "legendgroup": "others",
         "line": {
          "color": "#B6E880",
          "dash": "solid"
         },
         "marker": {
          "symbol": "circle"
         },
         "mode": "markers+lines",
         "name": "others",
         "orientation": "v",
         "showlegend": true,
         "type": "scatter",
         "x": [
          "July",
          "August",
          "September",
          "October",
          "November"
         ],
         "xaxis": "x",
         "y": [
          11,
          193,
          101,
          109,
          182
         ],
         "yaxis": "y"
        }
       ],
       "layout": {
        "legend": {
         "title": {
          "text": "Users"
         },
         "tracegroupgap": 0
        },
        "template": {
         "data": {
          "bar": [
           {
            "error_x": {
             "color": "#2a3f5f"
            },
            "error_y": {
             "color": "#2a3f5f"
            },
            "marker": {
             "line": {
              "color": "#E5ECF6",
              "width": 0.5
             },
             "pattern": {
              "fillmode": "overlay",
              "size": 10,
              "solidity": 0.2
             }
            },
            "type": "bar"
           }
          ],
          "barpolar": [
           {
            "marker": {
             "line": {
              "color": "#E5ECF6",
              "width": 0.5
             },
             "pattern": {
              "fillmode": "overlay",
              "size": 10,
              "solidity": 0.2
             }
            },
            "type": "barpolar"
           }
          ],
          "carpet": [
           {
            "aaxis": {
             "endlinecolor": "#2a3f5f",
             "gridcolor": "white",
             "linecolor": "white",
             "minorgridcolor": "white",
             "startlinecolor": "#2a3f5f"
            },
            "baxis": {
             "endlinecolor": "#2a3f5f",
             "gridcolor": "white",
             "linecolor": "white",
             "minorgridcolor": "white",
             "startlinecolor": "#2a3f5f"
            },
            "type": "carpet"
           }
          ],
          "choropleth": [
           {
            "colorbar": {
             "outlinewidth": 0,
             "ticks": ""
            },
            "type": "choropleth"
           }
          ],
          "contour": [
           {
            "colorbar": {
             "outlinewidth": 0,
             "ticks": ""
            },
            "colorscale": [
             [
              0,
              "#0d0887"
             ],
             [
              0.1111111111111111,
              "#46039f"
             ],
             [
              0.2222222222222222,
              "#7201a8"
             ],
             [
              0.3333333333333333,
              "#9c179e"
             ],
             [
              0.4444444444444444,
              "#bd3786"
             ],
             [
              0.5555555555555556,
              "#d8576b"
             ],
             [
              0.6666666666666666,
              "#ed7953"
             ],
             [
              0.7777777777777778,
              "#fb9f3a"
             ],
             [
              0.8888888888888888,
              "#fdca26"
             ],
             [
              1,
              "#f0f921"
             ]
            ],
            "type": "contour"
           }
          ],
          "contourcarpet": [
           {
            "colorbar": {
             "outlinewidth": 0,
             "ticks": ""
            },
            "type": "contourcarpet"
           }
          ],
          "heatmap": [
           {
            "colorbar": {
             "outlinewidth": 0,
             "ticks": ""
            },
            "colorscale": [
             [
              0,
              "#0d0887"
             ],
             [
              0.1111111111111111,
              "#46039f"
             ],
             [
              0.2222222222222222,
              "#7201a8"
             ],
             [
              0.3333333333333333,
              "#9c179e"
             ],
             [
              0.4444444444444444,
              "#bd3786"
             ],
             [
              0.5555555555555556,
              "#d8576b"
             ],
             [
              0.6666666666666666,
              "#ed7953"
             ],
             [
              0.7777777777777778,
              "#fb9f3a"
             ],
             [
              0.8888888888888888,
              "#fdca26"
             ],
             [
              1,
              "#f0f921"
             ]
            ],
            "type": "heatmap"
           }
          ],
          "heatmapgl": [
           {
            "colorbar": {
             "outlinewidth": 0,
             "ticks": ""
            },
            "colorscale": [
             [
              0,
              "#0d0887"
             ],
             [
              0.1111111111111111,
              "#46039f"
             ],
             [
              0.2222222222222222,
              "#7201a8"
             ],
             [
              0.3333333333333333,
              "#9c179e"
             ],
             [
              0.4444444444444444,
              "#bd3786"
             ],
             [
              0.5555555555555556,
              "#d8576b"
             ],
             [
              0.6666666666666666,
              "#ed7953"
             ],
             [
              0.7777777777777778,
              "#fb9f3a"
             ],
             [
              0.8888888888888888,
              "#fdca26"
             ],
             [
              1,
              "#f0f921"
             ]
            ],
            "type": "heatmapgl"
           }
          ],
          "histogram": [
           {
            "marker": {
             "pattern": {
              "fillmode": "overlay",
              "size": 10,
              "solidity": 0.2
             }
            },
            "type": "histogram"
           }
          ],
          "histogram2d": [
           {
            "colorbar": {
             "outlinewidth": 0,
             "ticks": ""
            },
            "colorscale": [
             [
              0,
              "#0d0887"
             ],
             [
              0.1111111111111111,
              "#46039f"
             ],
             [
              0.2222222222222222,
              "#7201a8"
             ],
             [
              0.3333333333333333,
              "#9c179e"
             ],
             [
              0.4444444444444444,
              "#bd3786"
             ],
             [
              0.5555555555555556,
              "#d8576b"
             ],
             [
              0.6666666666666666,
              "#ed7953"
             ],
             [
              0.7777777777777778,
              "#fb9f3a"
             ],
             [
              0.8888888888888888,
              "#fdca26"
             ],
             [
              1,
              "#f0f921"
             ]
            ],
            "type": "histogram2d"
           }
          ],
          "histogram2dcontour": [
           {
            "colorbar": {
             "outlinewidth": 0,
             "ticks": ""
            },
            "colorscale": [
             [
              0,
              "#0d0887"
             ],
             [
              0.1111111111111111,
              "#46039f"
             ],
             [
              0.2222222222222222,
              "#7201a8"
             ],
             [
              0.3333333333333333,
              "#9c179e"
             ],
             [
              0.4444444444444444,
              "#bd3786"
             ],
             [
              0.5555555555555556,
              "#d8576b"
             ],
             [
              0.6666666666666666,
              "#ed7953"
             ],
             [
              0.7777777777777778,
              "#fb9f3a"
             ],
             [
              0.8888888888888888,
              "#fdca26"
             ],
             [
              1,
              "#f0f921"
             ]
            ],
            "type": "histogram2dcontour"
           }
          ],
          "mesh3d": [
           {
            "colorbar": {
             "outlinewidth": 0,
             "ticks": ""
            },
            "type": "mesh3d"
           }
          ],
          "parcoords": [
           {
            "line": {
             "colorbar": {
              "outlinewidth": 0,
              "ticks": ""
             }
            },
            "type": "parcoords"
           }
          ],
          "pie": [
           {
            "automargin": true,
            "type": "pie"
           }
          ],
          "scatter": [
           {
            "fillpattern": {
             "fillmode": "overlay",
             "size": 10,
             "solidity": 0.2
            },
            "type": "scatter"
           }
          ],
          "scatter3d": [
           {
            "line": {
             "colorbar": {
              "outlinewidth": 0,
              "ticks": ""
             }
            },
            "marker": {
             "colorbar": {
              "outlinewidth": 0,
              "ticks": ""
             }
            },
            "type": "scatter3d"
           }
          ],
          "scattercarpet": [
           {
            "marker": {
             "colorbar": {
              "outlinewidth": 0,
              "ticks": ""
             }
            },
            "type": "scattercarpet"
           }
          ],
          "scattergeo": [
           {
            "marker": {
             "colorbar": {
              "outlinewidth": 0,
              "ticks": ""
             }
            },
            "type": "scattergeo"
           }
          ],
          "scattergl": [
           {
            "marker": {
             "colorbar": {
              "outlinewidth": 0,
              "ticks": ""
             }
            },
            "type": "scattergl"
           }
          ],
          "scattermapbox": [
           {
            "marker": {
             "colorbar": {
              "outlinewidth": 0,
              "ticks": ""
             }
            },
            "type": "scattermapbox"
           }
          ],
          "scatterpolar": [
           {
            "marker": {
             "colorbar": {
              "outlinewidth": 0,
              "ticks": ""
             }
            },
            "type": "scatterpolar"
           }
          ],
          "scatterpolargl": [
           {
            "marker": {
             "colorbar": {
              "outlinewidth": 0,
              "ticks": ""
             }
            },
            "type": "scatterpolargl"
           }
          ],
          "scatterternary": [
           {
            "marker": {
             "colorbar": {
              "outlinewidth": 0,
              "ticks": ""
             }
            },
            "type": "scatterternary"
           }
          ],
          "surface": [
           {
            "colorbar": {
             "outlinewidth": 0,
             "ticks": ""
            },
            "colorscale": [
             [
              0,
              "#0d0887"
             ],
             [
              0.1111111111111111,
              "#46039f"
             ],
             [
              0.2222222222222222,
              "#7201a8"
             ],
             [
              0.3333333333333333,
              "#9c179e"
             ],
             [
              0.4444444444444444,
              "#bd3786"
             ],
             [
              0.5555555555555556,
              "#d8576b"
             ],
             [
              0.6666666666666666,
              "#ed7953"
             ],
             [
              0.7777777777777778,
              "#fb9f3a"
             ],
             [
              0.8888888888888888,
              "#fdca26"
             ],
             [
              1,
              "#f0f921"
             ]
            ],
            "type": "surface"
           }
          ],
          "table": [
           {
            "cells": {
             "fill": {
              "color": "#EBF0F8"
             },
             "line": {
              "color": "white"
             }
            },
            "header": {
             "fill": {
              "color": "#C8D4E3"
             },
             "line": {
              "color": "white"
             }
            },
            "type": "table"
           }
          ]
         },
         "layout": {
          "annotationdefaults": {
           "arrowcolor": "#2a3f5f",
           "arrowhead": 0,
           "arrowwidth": 1
          },
          "autotypenumbers": "strict",
          "coloraxis": {
           "colorbar": {
            "outlinewidth": 0,
            "ticks": ""
           }
          },
          "colorscale": {
           "diverging": [
            [
             0,
             "#8e0152"
            ],
            [
             0.1,
             "#c51b7d"
            ],
            [
             0.2,
             "#de77ae"
            ],
            [
             0.3,
             "#f1b6da"
            ],
            [
             0.4,
             "#fde0ef"
            ],
            [
             0.5,
             "#f7f7f7"
            ],
            [
             0.6,
             "#e6f5d0"
            ],
            [
             0.7,
             "#b8e186"
            ],
            [
             0.8,
             "#7fbc41"
            ],
            [
             0.9,
             "#4d9221"
            ],
            [
             1,
             "#276419"
            ]
           ],
           "sequential": [
            [
             0,
             "#0d0887"
            ],
            [
             0.1111111111111111,
             "#46039f"
            ],
            [
             0.2222222222222222,
             "#7201a8"
            ],
            [
             0.3333333333333333,
             "#9c179e"
            ],
            [
             0.4444444444444444,
             "#bd3786"
            ],
            [
             0.5555555555555556,
             "#d8576b"
            ],
            [
             0.6666666666666666,
             "#ed7953"
            ],
            [
             0.7777777777777778,
             "#fb9f3a"
            ],
            [
             0.8888888888888888,
             "#fdca26"
            ],
            [
             1,
             "#f0f921"
            ]
           ],
           "sequentialminus": [
            [
             0,
             "#0d0887"
            ],
            [
             0.1111111111111111,
             "#46039f"
            ],
            [
             0.2222222222222222,
             "#7201a8"
            ],
            [
             0.3333333333333333,
             "#9c179e"
            ],
            [
             0.4444444444444444,
             "#bd3786"
            ],
            [
             0.5555555555555556,
             "#d8576b"
            ],
            [
             0.6666666666666666,
             "#ed7953"
            ],
            [
             0.7777777777777778,
             "#fb9f3a"
            ],
            [
             0.8888888888888888,
             "#fdca26"
            ],
            [
             1,
             "#f0f921"
            ]
           ]
          },
          "colorway": [
           "#636efa",
           "#EF553B",
           "#00cc96",
           "#ab63fa",
           "#FFA15A",
           "#19d3f3",
           "#FF6692",
           "#B6E880",
           "#FF97FF",
           "#FECB52"
          ],
          "font": {
           "color": "#2a3f5f"
          },
          "geo": {
           "bgcolor": "white",
           "lakecolor": "white",
           "landcolor": "#E5ECF6",
           "showlakes": true,
           "showland": true,
           "subunitcolor": "white"
          },
          "hoverlabel": {
           "align": "left"
          },
          "hovermode": "closest",
          "mapbox": {
           "style": "light"
          },
          "paper_bgcolor": "white",
          "plot_bgcolor": "#E5ECF6",
          "polar": {
           "angularaxis": {
            "gridcolor": "white",
            "linecolor": "white",
            "ticks": ""
           },
           "bgcolor": "#E5ECF6",
           "radialaxis": {
            "gridcolor": "white",
            "linecolor": "white",
            "ticks": ""
           }
          },
          "scene": {
           "xaxis": {
            "backgroundcolor": "#E5ECF6",
            "gridcolor": "white",
            "gridwidth": 2,
            "linecolor": "white",
            "showbackground": true,
            "ticks": "",
            "zerolinecolor": "white"
           },
           "yaxis": {
            "backgroundcolor": "#E5ECF6",
            "gridcolor": "white",
            "gridwidth": 2,
            "linecolor": "white",
            "showbackground": true,
            "ticks": "",
            "zerolinecolor": "white"
           },
           "zaxis": {
            "backgroundcolor": "#E5ECF6",
            "gridcolor": "white",
            "gridwidth": 2,
            "linecolor": "white",
            "showbackground": true,
            "ticks": "",
            "zerolinecolor": "white"
           }
          },
          "shapedefaults": {
           "line": {
            "color": "#2a3f5f"
           }
          },
          "ternary": {
           "aaxis": {
            "gridcolor": "white",
            "linecolor": "white",
            "ticks": ""
           },
           "baxis": {
            "gridcolor": "white",
            "linecolor": "white",
            "ticks": ""
           },
           "bgcolor": "#E5ECF6",
           "caxis": {
            "gridcolor": "white",
            "linecolor": "white",
            "ticks": ""
           }
          },
          "title": {
           "x": 0.05
          },
          "xaxis": {
           "automargin": true,
           "gridcolor": "white",
           "linecolor": "white",
           "ticks": "",
           "title": {
            "standoff": 15
           },
           "zerolinecolor": "white",
           "zerolinewidth": 2
          },
          "yaxis": {
           "automargin": true,
           "gridcolor": "white",
           "linecolor": "white",
           "ticks": "",
           "title": {
            "standoff": 15
           },
           "zerolinecolor": "white",
           "zerolinewidth": 2
          }
         }
        },
        "title": {
         "text": "Months timeline"
        },
        "xaxis": {
         "anchor": "y",
         "domain": [
          0,
          1
         ],
         "title": {
          "text": "Months"
         }
        },
        "yaxis": {
         "anchor": "x",
         "domain": [
          0,
          1
         ],
         "title": {
          "text": "Message count"
         }
        }
       }
      }
     },
     "metadata": {},
     "output_type": "display_data"
    },
    {
     "data": {
      "application/vnd.plotly.v1+json": {
       "config": {
        "plotlyServerURL": "https://plot.ly"
       },
       "data": [
        {
         "hovertemplate": "Users=Avantika CR 7sem<br>Weekdays=%{x}<br>Message count=%{y}<extra></extra>",
         "legendgroup": "Avantika CR 7sem",
         "line": {
          "color": "#636efa",
          "dash": "solid"
         },
         "marker": {
          "symbol": "circle"
         },
         "mode": "markers+lines",
         "name": "Avantika CR 7sem",
         "orientation": "v",
         "showlegend": true,
         "type": "scatter",
         "x": [
          "Sunday",
          "Monday",
          "Tuesday",
          "Wednesday",
          "Thursday",
          "Friday",
          "Saturday"
         ],
         "xaxis": "x",
         "y": [
          0,
          4,
          7,
          8,
          4,
          3,
          8
         ],
         "yaxis": "y"
        },
        {
         "hovertemplate": "Users=+91 73511 44719<br>Weekdays=%{x}<br>Message count=%{y}<extra></extra>",
         "legendgroup": "+91 73511 44719",
         "line": {
          "color": "#EF553B",
          "dash": "solid"
         },
         "marker": {
          "symbol": "circle"
         },
         "mode": "markers+lines",
         "name": "+91 73511 44719",
         "orientation": "v",
         "showlegend": true,
         "type": "scatter",
         "x": [
          "Sunday",
          "Monday",
          "Tuesday",
          "Wednesday",
          "Thursday",
          "Friday",
          "Saturday"
         ],
         "xaxis": "x",
         "y": [
          1,
          0,
          0,
          1,
          7,
          3,
          3
         ],
         "yaxis": "y"
        },
        {
         "hovertemplate": "Users=Sourabh 7 Mentor<br>Weekdays=%{x}<br>Message count=%{y}<extra></extra>",
         "legendgroup": "Sourabh 7 Mentor",
         "line": {
          "color": "#00cc96",
          "dash": "solid"
         },
         "marker": {
          "symbol": "circle"
         },
         "mode": "markers+lines",
         "name": "Sourabh 7 Mentor",
         "orientation": "v",
         "showlegend": true,
         "type": "scatter",
         "x": [
          "Sunday",
          "Monday",
          "Tuesday",
          "Wednesday",
          "Thursday",
          "Friday",
          "Saturday"
         ],
         "xaxis": "x",
         "y": [
          0,
          23,
          0,
          1,
          0,
          0,
          0
         ],
         "yaxis": "y"
        },
        {
         "hovertemplate": "Users=+91 76784 09427<br>Weekdays=%{x}<br>Message count=%{y}<extra></extra>",
         "legendgroup": "+91 76784 09427",
         "line": {
          "color": "#ab63fa",
          "dash": "solid"
         },
         "marker": {
          "symbol": "circle"
         },
         "mode": "markers+lines",
         "name": "+91 76784 09427",
         "orientation": "v",
         "showlegend": true,
         "type": "scatter",
         "x": [
          "Sunday",
          "Monday",
          "Tuesday",
          "Wednesday",
          "Thursday",
          "Friday",
          "Saturday"
         ],
         "xaxis": "x",
         "y": [
          0,
          0,
          0,
          0,
          1,
          0,
          2
         ],
         "yaxis": "y"
        },
        {
         "hovertemplate": "Users=+91 95235 15421<br>Weekdays=%{x}<br>Message count=%{y}<extra></extra>",
         "legendgroup": "+91 95235 15421",
         "line": {
          "color": "#FFA15A",
          "dash": "solid"
         },
         "marker": {
          "symbol": "circle"
         },
         "mode": "markers+lines",
         "name": "+91 95235 15421",
         "orientation": "v",
         "showlegend": true,
         "type": "scatter",
         "x": [
          "Sunday",
          "Monday",
          "Tuesday",
          "Wednesday",
          "Thursday",
          "Friday",
          "Saturday"
         ],
         "xaxis": "x",
         "y": [
          0,
          2,
          0,
          0,
          0,
          0,
          0
         ],
         "yaxis": "y"
        },
        {
         "hovertemplate": "Users=+91 76888 20220<br>Weekdays=%{x}<br>Message count=%{y}<extra></extra>",
         "legendgroup": "+91 76888 20220",
         "line": {
          "color": "#19d3f3",
          "dash": "solid"
         },
         "marker": {
          "symbol": "circle"
         },
         "mode": "markers+lines",
         "name": "+91 76888 20220",
         "orientation": "v",
         "showlegend": true,
         "type": "scatter",
         "x": [
          "Sunday",
          "Monday",
          "Tuesday",
          "Wednesday",
          "Thursday",
          "Friday",
          "Saturday"
         ],
         "xaxis": "x",
         "y": [
          0,
          3,
          0,
          0,
          0,
          0,
          0
         ],
         "yaxis": "y"
        },
        {
         "hovertemplate": "Users=+91 83079 17347<br>Weekdays=%{x}<br>Message count=%{y}<extra></extra>",
         "legendgroup": "+91 83079 17347",
         "line": {
          "color": "#FF6692",
          "dash": "solid"
         },
         "marker": {
          "symbol": "circle"
         },
         "mode": "markers+lines",
         "name": "+91 83079 17347",
         "orientation": "v",
         "showlegend": true,
         "type": "scatter",
         "x": [
          "Sunday",
          "Monday",
          "Tuesday",
          "Wednesday",
          "Thursday",
          "Friday",
          "Saturday"
         ],
         "xaxis": "x",
         "y": [
          0,
          1,
          0,
          1,
          0,
          0,
          0
         ],
         "yaxis": "y"
        },
        {
         "hovertemplate": "Users=others<br>Weekdays=%{x}<br>Message count=%{y}<extra></extra>",
         "legendgroup": "others",
         "line": {
          "color": "#B6E880",
          "dash": "solid"
         },
         "marker": {
          "symbol": "circle"
         },
         "mode": "markers+lines",
         "name": "others",
         "orientation": "v",
         "showlegend": true,
         "type": "scatter",
         "x": [
          "Sunday",
          "Monday",
          "Tuesday",
          "Wednesday",
          "Thursday",
          "Friday",
          "Saturday"
         ],
         "xaxis": "x",
         "y": [
          0,
          22,
          6,
          4,
          17,
          12,
          9
         ],
         "yaxis": "y"
        }
       ],
       "layout": {
        "legend": {
         "title": {
          "text": "Users"
         },
         "tracegroupgap": 0
        },
        "template": {
         "data": {
          "bar": [
           {
            "error_x": {
             "color": "#2a3f5f"
            },
            "error_y": {
             "color": "#2a3f5f"
            },
            "marker": {
             "line": {
              "color": "#E5ECF6",
              "width": 0.5
             },
             "pattern": {
              "fillmode": "overlay",
              "size": 10,
              "solidity": 0.2
             }
            },
            "type": "bar"
           }
          ],
          "barpolar": [
           {
            "marker": {
             "line": {
              "color": "#E5ECF6",
              "width": 0.5
             },
             "pattern": {
              "fillmode": "overlay",
              "size": 10,
              "solidity": 0.2
             }
            },
            "type": "barpolar"
           }
          ],
          "carpet": [
           {
            "aaxis": {
             "endlinecolor": "#2a3f5f",
             "gridcolor": "white",
             "linecolor": "white",
             "minorgridcolor": "white",
             "startlinecolor": "#2a3f5f"
            },
            "baxis": {
             "endlinecolor": "#2a3f5f",
             "gridcolor": "white",
             "linecolor": "white",
             "minorgridcolor": "white",
             "startlinecolor": "#2a3f5f"
            },
            "type": "carpet"
           }
          ],
          "choropleth": [
           {
            "colorbar": {
             "outlinewidth": 0,
             "ticks": ""
            },
            "type": "choropleth"
           }
          ],
          "contour": [
           {
            "colorbar": {
             "outlinewidth": 0,
             "ticks": ""
            },
            "colorscale": [
             [
              0,
              "#0d0887"
             ],
             [
              0.1111111111111111,
              "#46039f"
             ],
             [
              0.2222222222222222,
              "#7201a8"
             ],
             [
              0.3333333333333333,
              "#9c179e"
             ],
             [
              0.4444444444444444,
              "#bd3786"
             ],
             [
              0.5555555555555556,
              "#d8576b"
             ],
             [
              0.6666666666666666,
              "#ed7953"
             ],
             [
              0.7777777777777778,
              "#fb9f3a"
             ],
             [
              0.8888888888888888,
              "#fdca26"
             ],
             [
              1,
              "#f0f921"
             ]
            ],
            "type": "contour"
           }
          ],
          "contourcarpet": [
           {
            "colorbar": {
             "outlinewidth": 0,
             "ticks": ""
            },
            "type": "contourcarpet"
           }
          ],
          "heatmap": [
           {
            "colorbar": {
             "outlinewidth": 0,
             "ticks": ""
            },
            "colorscale": [
             [
              0,
              "#0d0887"
             ],
             [
              0.1111111111111111,
              "#46039f"
             ],
             [
              0.2222222222222222,
              "#7201a8"
             ],
             [
              0.3333333333333333,
              "#9c179e"
             ],
             [
              0.4444444444444444,
              "#bd3786"
             ],
             [
              0.5555555555555556,
              "#d8576b"
             ],
             [
              0.6666666666666666,
              "#ed7953"
             ],
             [
              0.7777777777777778,
              "#fb9f3a"
             ],
             [
              0.8888888888888888,
              "#fdca26"
             ],
             [
              1,
              "#f0f921"
             ]
            ],
            "type": "heatmap"
           }
          ],
          "heatmapgl": [
           {
            "colorbar": {
             "outlinewidth": 0,
             "ticks": ""
            },
            "colorscale": [
             [
              0,
              "#0d0887"
             ],
             [
              0.1111111111111111,
              "#46039f"
             ],
             [
              0.2222222222222222,
              "#7201a8"
             ],
             [
              0.3333333333333333,
              "#9c179e"
             ],
             [
              0.4444444444444444,
              "#bd3786"
             ],
             [
              0.5555555555555556,
              "#d8576b"
             ],
             [
              0.6666666666666666,
              "#ed7953"
             ],
             [
              0.7777777777777778,
              "#fb9f3a"
             ],
             [
              0.8888888888888888,
              "#fdca26"
             ],
             [
              1,
              "#f0f921"
             ]
            ],
            "type": "heatmapgl"
           }
          ],
          "histogram": [
           {
            "marker": {
             "pattern": {
              "fillmode": "overlay",
              "size": 10,
              "solidity": 0.2
             }
            },
            "type": "histogram"
           }
          ],
          "histogram2d": [
           {
            "colorbar": {
             "outlinewidth": 0,
             "ticks": ""
            },
            "colorscale": [
             [
              0,
              "#0d0887"
             ],
             [
              0.1111111111111111,
              "#46039f"
             ],
             [
              0.2222222222222222,
              "#7201a8"
             ],
             [
              0.3333333333333333,
              "#9c179e"
             ],
             [
              0.4444444444444444,
              "#bd3786"
             ],
             [
              0.5555555555555556,
              "#d8576b"
             ],
             [
              0.6666666666666666,
              "#ed7953"
             ],
             [
              0.7777777777777778,
              "#fb9f3a"
             ],
             [
              0.8888888888888888,
              "#fdca26"
             ],
             [
              1,
              "#f0f921"
             ]
            ],
            "type": "histogram2d"
           }
          ],
          "histogram2dcontour": [
           {
            "colorbar": {
             "outlinewidth": 0,
             "ticks": ""
            },
            "colorscale": [
             [
              0,
              "#0d0887"
             ],
             [
              0.1111111111111111,
              "#46039f"
             ],
             [
              0.2222222222222222,
              "#7201a8"
             ],
             [
              0.3333333333333333,
              "#9c179e"
             ],
             [
              0.4444444444444444,
              "#bd3786"
             ],
             [
              0.5555555555555556,
              "#d8576b"
             ],
             [
              0.6666666666666666,
              "#ed7953"
             ],
             [
              0.7777777777777778,
              "#fb9f3a"
             ],
             [
              0.8888888888888888,
              "#fdca26"
             ],
             [
              1,
              "#f0f921"
             ]
            ],
            "type": "histogram2dcontour"
           }
          ],
          "mesh3d": [
           {
            "colorbar": {
             "outlinewidth": 0,
             "ticks": ""
            },
            "type": "mesh3d"
           }
          ],
          "parcoords": [
           {
            "line": {
             "colorbar": {
              "outlinewidth": 0,
              "ticks": ""
             }
            },
            "type": "parcoords"
           }
          ],
          "pie": [
           {
            "automargin": true,
            "type": "pie"
           }
          ],
          "scatter": [
           {
            "fillpattern": {
             "fillmode": "overlay",
             "size": 10,
             "solidity": 0.2
            },
            "type": "scatter"
           }
          ],
          "scatter3d": [
           {
            "line": {
             "colorbar": {
              "outlinewidth": 0,
              "ticks": ""
             }
            },
            "marker": {
             "colorbar": {
              "outlinewidth": 0,
              "ticks": ""
             }
            },
            "type": "scatter3d"
           }
          ],
          "scattercarpet": [
           {
            "marker": {
             "colorbar": {
              "outlinewidth": 0,
              "ticks": ""
             }
            },
            "type": "scattercarpet"
           }
          ],
          "scattergeo": [
           {
            "marker": {
             "colorbar": {
              "outlinewidth": 0,
              "ticks": ""
             }
            },
            "type": "scattergeo"
           }
          ],
          "scattergl": [
           {
            "marker": {
             "colorbar": {
              "outlinewidth": 0,
              "ticks": ""
             }
            },
            "type": "scattergl"
           }
          ],
          "scattermapbox": [
           {
            "marker": {
             "colorbar": {
              "outlinewidth": 0,
              "ticks": ""
             }
            },
            "type": "scattermapbox"
           }
          ],
          "scatterpolar": [
           {
            "marker": {
             "colorbar": {
              "outlinewidth": 0,
              "ticks": ""
             }
            },
            "type": "scatterpolar"
           }
          ],
          "scatterpolargl": [
           {
            "marker": {
             "colorbar": {
              "outlinewidth": 0,
              "ticks": ""
             }
            },
            "type": "scatterpolargl"
           }
          ],
          "scatterternary": [
           {
            "marker": {
             "colorbar": {
              "outlinewidth": 0,
              "ticks": ""
             }
            },
            "type": "scatterternary"
           }
          ],
          "surface": [
           {
            "colorbar": {
             "outlinewidth": 0,
             "ticks": ""
            },
            "colorscale": [
             [
              0,
              "#0d0887"
             ],
             [
              0.1111111111111111,
              "#46039f"
             ],
             [
              0.2222222222222222,
              "#7201a8"
             ],
             [
              0.3333333333333333,
              "#9c179e"
             ],
             [
              0.4444444444444444,
              "#bd3786"
             ],
             [
              0.5555555555555556,
              "#d8576b"
             ],
             [
              0.6666666666666666,
              "#ed7953"
             ],
             [
              0.7777777777777778,
              "#fb9f3a"
             ],
             [
              0.8888888888888888,
              "#fdca26"
             ],
             [
              1,
              "#f0f921"
             ]
            ],
            "type": "surface"
           }
          ],
          "table": [
           {
            "cells": {
             "fill": {
              "color": "#EBF0F8"
             },
             "line": {
              "color": "white"
             }
            },
            "header": {
             "fill": {
              "color": "#C8D4E3"
             },
             "line": {
              "color": "white"
             }
            },
            "type": "table"
           }
          ]
         },
         "layout": {
          "annotationdefaults": {
           "arrowcolor": "#2a3f5f",
           "arrowhead": 0,
           "arrowwidth": 1
          },
          "autotypenumbers": "strict",
          "coloraxis": {
           "colorbar": {
            "outlinewidth": 0,
            "ticks": ""
           }
          },
          "colorscale": {
           "diverging": [
            [
             0,
             "#8e0152"
            ],
            [
             0.1,
             "#c51b7d"
            ],
            [
             0.2,
             "#de77ae"
            ],
            [
             0.3,
             "#f1b6da"
            ],
            [
             0.4,
             "#fde0ef"
            ],
            [
             0.5,
             "#f7f7f7"
            ],
            [
             0.6,
             "#e6f5d0"
            ],
            [
             0.7,
             "#b8e186"
            ],
            [
             0.8,
             "#7fbc41"
            ],
            [
             0.9,
             "#4d9221"
            ],
            [
             1,
             "#276419"
            ]
           ],
           "sequential": [
            [
             0,
             "#0d0887"
            ],
            [
             0.1111111111111111,
             "#46039f"
            ],
            [
             0.2222222222222222,
             "#7201a8"
            ],
            [
             0.3333333333333333,
             "#9c179e"
            ],
            [
             0.4444444444444444,
             "#bd3786"
            ],
            [
             0.5555555555555556,
             "#d8576b"
            ],
            [
             0.6666666666666666,
             "#ed7953"
            ],
            [
             0.7777777777777778,
             "#fb9f3a"
            ],
            [
             0.8888888888888888,
             "#fdca26"
            ],
            [
             1,
             "#f0f921"
            ]
           ],
           "sequentialminus": [
            [
             0,
             "#0d0887"
            ],
            [
             0.1111111111111111,
             "#46039f"
            ],
            [
             0.2222222222222222,
             "#7201a8"
            ],
            [
             0.3333333333333333,
             "#9c179e"
            ],
            [
             0.4444444444444444,
             "#bd3786"
            ],
            [
             0.5555555555555556,
             "#d8576b"
            ],
            [
             0.6666666666666666,
             "#ed7953"
            ],
            [
             0.7777777777777778,
             "#fb9f3a"
            ],
            [
             0.8888888888888888,
             "#fdca26"
            ],
            [
             1,
             "#f0f921"
            ]
           ]
          },
          "colorway": [
           "#636efa",
           "#EF553B",
           "#00cc96",
           "#ab63fa",
           "#FFA15A",
           "#19d3f3",
           "#FF6692",
           "#B6E880",
           "#FF97FF",
           "#FECB52"
          ],
          "font": {
           "color": "#2a3f5f"
          },
          "geo": {
           "bgcolor": "white",
           "lakecolor": "white",
           "landcolor": "#E5ECF6",
           "showlakes": true,
           "showland": true,
           "subunitcolor": "white"
          },
          "hoverlabel": {
           "align": "left"
          },
          "hovermode": "closest",
          "mapbox": {
           "style": "light"
          },
          "paper_bgcolor": "white",
          "plot_bgcolor": "#E5ECF6",
          "polar": {
           "angularaxis": {
            "gridcolor": "white",
            "linecolor": "white",
            "ticks": ""
           },
           "bgcolor": "#E5ECF6",
           "radialaxis": {
            "gridcolor": "white",
            "linecolor": "white",
            "ticks": ""
           }
          },
          "scene": {
           "xaxis": {
            "backgroundcolor": "#E5ECF6",
            "gridcolor": "white",
            "gridwidth": 2,
            "linecolor": "white",
            "showbackground": true,
            "ticks": "",
            "zerolinecolor": "white"
           },
           "yaxis": {
            "backgroundcolor": "#E5ECF6",
            "gridcolor": "white",
            "gridwidth": 2,
            "linecolor": "white",
            "showbackground": true,
            "ticks": "",
            "zerolinecolor": "white"
           },
           "zaxis": {
            "backgroundcolor": "#E5ECF6",
            "gridcolor": "white",
            "gridwidth": 2,
            "linecolor": "white",
            "showbackground": true,
            "ticks": "",
            "zerolinecolor": "white"
           }
          },
          "shapedefaults": {
           "line": {
            "color": "#2a3f5f"
           }
          },
          "ternary": {
           "aaxis": {
            "gridcolor": "white",
            "linecolor": "white",
            "ticks": ""
           },
           "baxis": {
            "gridcolor": "white",
            "linecolor": "white",
            "ticks": ""
           },
           "bgcolor": "#E5ECF6",
           "caxis": {
            "gridcolor": "white",
            "linecolor": "white",
            "ticks": ""
           }
          },
          "title": {
           "x": 0.05
          },
          "xaxis": {
           "automargin": true,
           "gridcolor": "white",
           "linecolor": "white",
           "ticks": "",
           "title": {
            "standoff": 15
           },
           "zerolinecolor": "white",
           "zerolinewidth": 2
          },
          "yaxis": {
           "automargin": true,
           "gridcolor": "white",
           "linecolor": "white",
           "ticks": "",
           "title": {
            "standoff": 15
           },
           "zerolinecolor": "white",
           "zerolinewidth": 2
          }
         }
        },
        "title": {
         "text": "Weekdays [week - 1] timeline"
        },
        "xaxis": {
         "anchor": "y",
         "domain": [
          0,
          1
         ],
         "title": {
          "text": "Weekdays"
         }
        },
        "yaxis": {
         "anchor": "x",
         "domain": [
          0,
          1
         ],
         "title": {
          "text": "Message count"
         }
        }
       }
      }
     },
     "metadata": {},
     "output_type": "display_data"
    },
    {
     "data": {
      "application/vnd.plotly.v1+json": {
       "config": {
        "plotlyServerURL": "https://plot.ly"
       },
       "data": [
        {
         "hovertemplate": "Users=Avantika CR 7sem<br>Weekdays=%{x}<br>Message count=%{y}<extra></extra>",
         "legendgroup": "Avantika CR 7sem",
         "line": {
          "color": "#636efa",
          "dash": "solid"
         },
         "marker": {
          "symbol": "circle"
         },
         "mode": "markers+lines",
         "name": "Avantika CR 7sem",
         "orientation": "v",
         "showlegend": true,
         "type": "scatter",
         "x": [
          "Sunday",
          "Monday",
          "Tuesday",
          "Wednesday",
          "Thursday",
          "Friday",
          "Saturday"
         ],
         "xaxis": "x",
         "y": [
          0,
          1,
          1,
          6,
          1,
          0,
          0
         ],
         "yaxis": "y"
        },
        {
         "hovertemplate": "Users=+91 73511 44719<br>Weekdays=%{x}<br>Message count=%{y}<extra></extra>",
         "legendgroup": "+91 73511 44719",
         "line": {
          "color": "#EF553B",
          "dash": "solid"
         },
         "marker": {
          "symbol": "circle"
         },
         "mode": "markers+lines",
         "name": "+91 73511 44719",
         "orientation": "v",
         "showlegend": true,
         "type": "scatter",
         "x": [
          "Sunday",
          "Monday",
          "Tuesday",
          "Wednesday",
          "Thursday",
          "Friday",
          "Saturday"
         ],
         "xaxis": "x",
         "y": [
          0,
          3,
          4,
          1,
          0,
          1,
          0
         ],
         "yaxis": "y"
        },
        {
         "hovertemplate": "Users=Sourabh 7 Mentor<br>Weekdays=%{x}<br>Message count=%{y}<extra></extra>",
         "legendgroup": "Sourabh 7 Mentor",
         "line": {
          "color": "#00cc96",
          "dash": "solid"
         },
         "marker": {
          "symbol": "circle"
         },
         "mode": "markers+lines",
         "name": "Sourabh 7 Mentor",
         "orientation": "v",
         "showlegend": true,
         "type": "scatter",
         "x": [
          "Sunday",
          "Monday",
          "Tuesday",
          "Wednesday",
          "Thursday",
          "Friday",
          "Saturday"
         ],
         "xaxis": "x",
         "y": [
          2,
          2,
          0,
          0,
          0,
          0,
          0
         ],
         "yaxis": "y"
        },
        {
         "hovertemplate": "Users=+91 76784 09427<br>Weekdays=%{x}<br>Message count=%{y}<extra></extra>",
         "legendgroup": "+91 76784 09427",
         "line": {
          "color": "#ab63fa",
          "dash": "solid"
         },
         "marker": {
          "symbol": "circle"
         },
         "mode": "markers+lines",
         "name": "+91 76784 09427",
         "orientation": "v",
         "showlegend": true,
         "type": "scatter",
         "x": [
          "Sunday",
          "Monday",
          "Tuesday",
          "Wednesday",
          "Thursday",
          "Friday",
          "Saturday"
         ],
         "xaxis": "x",
         "y": [
          0,
          1,
          0,
          0,
          0,
          0,
          0
         ],
         "yaxis": "y"
        },
        {
         "hovertemplate": "Users=+91 95235 15421<br>Weekdays=%{x}<br>Message count=%{y}<extra></extra>",
         "legendgroup": "+91 95235 15421",
         "line": {
          "color": "#FFA15A",
          "dash": "solid"
         },
         "marker": {
          "symbol": "circle"
         },
         "mode": "markers+lines",
         "name": "+91 95235 15421",
         "orientation": "v",
         "showlegend": true,
         "type": "scatter",
         "x": [
          "Sunday",
          "Monday",
          "Tuesday",
          "Wednesday",
          "Thursday",
          "Friday",
          "Saturday"
         ],
         "xaxis": "x",
         "y": [
          0,
          0,
          2,
          0,
          0,
          0,
          0
         ],
         "yaxis": "y"
        },
        {
         "hovertemplate": "Users=+91 76888 20220<br>Weekdays=%{x}<br>Message count=%{y}<extra></extra>",
         "legendgroup": "+91 76888 20220",
         "line": {
          "color": "#19d3f3",
          "dash": "solid"
         },
         "marker": {
          "symbol": "circle"
         },
         "mode": "markers+lines",
         "name": "+91 76888 20220",
         "orientation": "v",
         "showlegend": true,
         "type": "scatter",
         "x": [
          "Sunday",
          "Monday",
          "Tuesday",
          "Wednesday",
          "Thursday",
          "Friday",
          "Saturday"
         ],
         "xaxis": "x",
         "y": [
          0,
          0,
          0,
          0,
          0,
          0,
          0
         ],
         "yaxis": "y"
        },
        {
         "hovertemplate": "Users=+91 83079 17347<br>Weekdays=%{x}<br>Message count=%{y}<extra></extra>",
         "legendgroup": "+91 83079 17347",
         "line": {
          "color": "#FF6692",
          "dash": "solid"
         },
         "marker": {
          "symbol": "circle"
         },
         "mode": "markers+lines",
         "name": "+91 83079 17347",
         "orientation": "v",
         "showlegend": true,
         "type": "scatter",
         "x": [
          "Sunday",
          "Monday",
          "Tuesday",
          "Wednesday",
          "Thursday",
          "Friday",
          "Saturday"
         ],
         "xaxis": "x",
         "y": [
          0,
          0,
          0,
          0,
          0,
          0,
          0
         ],
         "yaxis": "y"
        },
        {
         "hovertemplate": "Users=others<br>Weekdays=%{x}<br>Message count=%{y}<extra></extra>",
         "legendgroup": "others",
         "line": {
          "color": "#B6E880",
          "dash": "solid"
         },
         "marker": {
          "symbol": "circle"
         },
         "mode": "markers+lines",
         "name": "others",
         "orientation": "v",
         "showlegend": true,
         "type": "scatter",
         "x": [
          "Sunday",
          "Monday",
          "Tuesday",
          "Wednesday",
          "Thursday",
          "Friday",
          "Saturday"
         ],
         "xaxis": "x",
         "y": [
          2,
          2,
          0,
          3,
          7,
          0,
          0
         ],
         "yaxis": "y"
        }
       ],
       "layout": {
        "legend": {
         "title": {
          "text": "Users"
         },
         "tracegroupgap": 0
        },
        "template": {
         "data": {
          "bar": [
           {
            "error_x": {
             "color": "#2a3f5f"
            },
            "error_y": {
             "color": "#2a3f5f"
            },
            "marker": {
             "line": {
              "color": "#E5ECF6",
              "width": 0.5
             },
             "pattern": {
              "fillmode": "overlay",
              "size": 10,
              "solidity": 0.2
             }
            },
            "type": "bar"
           }
          ],
          "barpolar": [
           {
            "marker": {
             "line": {
              "color": "#E5ECF6",
              "width": 0.5
             },
             "pattern": {
              "fillmode": "overlay",
              "size": 10,
              "solidity": 0.2
             }
            },
            "type": "barpolar"
           }
          ],
          "carpet": [
           {
            "aaxis": {
             "endlinecolor": "#2a3f5f",
             "gridcolor": "white",
             "linecolor": "white",
             "minorgridcolor": "white",
             "startlinecolor": "#2a3f5f"
            },
            "baxis": {
             "endlinecolor": "#2a3f5f",
             "gridcolor": "white",
             "linecolor": "white",
             "minorgridcolor": "white",
             "startlinecolor": "#2a3f5f"
            },
            "type": "carpet"
           }
          ],
          "choropleth": [
           {
            "colorbar": {
             "outlinewidth": 0,
             "ticks": ""
            },
            "type": "choropleth"
           }
          ],
          "contour": [
           {
            "colorbar": {
             "outlinewidth": 0,
             "ticks": ""
            },
            "colorscale": [
             [
              0,
              "#0d0887"
             ],
             [
              0.1111111111111111,
              "#46039f"
             ],
             [
              0.2222222222222222,
              "#7201a8"
             ],
             [
              0.3333333333333333,
              "#9c179e"
             ],
             [
              0.4444444444444444,
              "#bd3786"
             ],
             [
              0.5555555555555556,
              "#d8576b"
             ],
             [
              0.6666666666666666,
              "#ed7953"
             ],
             [
              0.7777777777777778,
              "#fb9f3a"
             ],
             [
              0.8888888888888888,
              "#fdca26"
             ],
             [
              1,
              "#f0f921"
             ]
            ],
            "type": "contour"
           }
          ],
          "contourcarpet": [
           {
            "colorbar": {
             "outlinewidth": 0,
             "ticks": ""
            },
            "type": "contourcarpet"
           }
          ],
          "heatmap": [
           {
            "colorbar": {
             "outlinewidth": 0,
             "ticks": ""
            },
            "colorscale": [
             [
              0,
              "#0d0887"
             ],
             [
              0.1111111111111111,
              "#46039f"
             ],
             [
              0.2222222222222222,
              "#7201a8"
             ],
             [
              0.3333333333333333,
              "#9c179e"
             ],
             [
              0.4444444444444444,
              "#bd3786"
             ],
             [
              0.5555555555555556,
              "#d8576b"
             ],
             [
              0.6666666666666666,
              "#ed7953"
             ],
             [
              0.7777777777777778,
              "#fb9f3a"
             ],
             [
              0.8888888888888888,
              "#fdca26"
             ],
             [
              1,
              "#f0f921"
             ]
            ],
            "type": "heatmap"
           }
          ],
          "heatmapgl": [
           {
            "colorbar": {
             "outlinewidth": 0,
             "ticks": ""
            },
            "colorscale": [
             [
              0,
              "#0d0887"
             ],
             [
              0.1111111111111111,
              "#46039f"
             ],
             [
              0.2222222222222222,
              "#7201a8"
             ],
             [
              0.3333333333333333,
              "#9c179e"
             ],
             [
              0.4444444444444444,
              "#bd3786"
             ],
             [
              0.5555555555555556,
              "#d8576b"
             ],
             [
              0.6666666666666666,
              "#ed7953"
             ],
             [
              0.7777777777777778,
              "#fb9f3a"
             ],
             [
              0.8888888888888888,
              "#fdca26"
             ],
             [
              1,
              "#f0f921"
             ]
            ],
            "type": "heatmapgl"
           }
          ],
          "histogram": [
           {
            "marker": {
             "pattern": {
              "fillmode": "overlay",
              "size": 10,
              "solidity": 0.2
             }
            },
            "type": "histogram"
           }
          ],
          "histogram2d": [
           {
            "colorbar": {
             "outlinewidth": 0,
             "ticks": ""
            },
            "colorscale": [
             [
              0,
              "#0d0887"
             ],
             [
              0.1111111111111111,
              "#46039f"
             ],
             [
              0.2222222222222222,
              "#7201a8"
             ],
             [
              0.3333333333333333,
              "#9c179e"
             ],
             [
              0.4444444444444444,
              "#bd3786"
             ],
             [
              0.5555555555555556,
              "#d8576b"
             ],
             [
              0.6666666666666666,
              "#ed7953"
             ],
             [
              0.7777777777777778,
              "#fb9f3a"
             ],
             [
              0.8888888888888888,
              "#fdca26"
             ],
             [
              1,
              "#f0f921"
             ]
            ],
            "type": "histogram2d"
           }
          ],
          "histogram2dcontour": [
           {
            "colorbar": {
             "outlinewidth": 0,
             "ticks": ""
            },
            "colorscale": [
             [
              0,
              "#0d0887"
             ],
             [
              0.1111111111111111,
              "#46039f"
             ],
             [
              0.2222222222222222,
              "#7201a8"
             ],
             [
              0.3333333333333333,
              "#9c179e"
             ],
             [
              0.4444444444444444,
              "#bd3786"
             ],
             [
              0.5555555555555556,
              "#d8576b"
             ],
             [
              0.6666666666666666,
              "#ed7953"
             ],
             [
              0.7777777777777778,
              "#fb9f3a"
             ],
             [
              0.8888888888888888,
              "#fdca26"
             ],
             [
              1,
              "#f0f921"
             ]
            ],
            "type": "histogram2dcontour"
           }
          ],
          "mesh3d": [
           {
            "colorbar": {
             "outlinewidth": 0,
             "ticks": ""
            },
            "type": "mesh3d"
           }
          ],
          "parcoords": [
           {
            "line": {
             "colorbar": {
              "outlinewidth": 0,
              "ticks": ""
             }
            },
            "type": "parcoords"
           }
          ],
          "pie": [
           {
            "automargin": true,
            "type": "pie"
           }
          ],
          "scatter": [
           {
            "fillpattern": {
             "fillmode": "overlay",
             "size": 10,
             "solidity": 0.2
            },
            "type": "scatter"
           }
          ],
          "scatter3d": [
           {
            "line": {
             "colorbar": {
              "outlinewidth": 0,
              "ticks": ""
             }
            },
            "marker": {
             "colorbar": {
              "outlinewidth": 0,
              "ticks": ""
             }
            },
            "type": "scatter3d"
           }
          ],
          "scattercarpet": [
           {
            "marker": {
             "colorbar": {
              "outlinewidth": 0,
              "ticks": ""
             }
            },
            "type": "scattercarpet"
           }
          ],
          "scattergeo": [
           {
            "marker": {
             "colorbar": {
              "outlinewidth": 0,
              "ticks": ""
             }
            },
            "type": "scattergeo"
           }
          ],
          "scattergl": [
           {
            "marker": {
             "colorbar": {
              "outlinewidth": 0,
              "ticks": ""
             }
            },
            "type": "scattergl"
           }
          ],
          "scattermapbox": [
           {
            "marker": {
             "colorbar": {
              "outlinewidth": 0,
              "ticks": ""
             }
            },
            "type": "scattermapbox"
           }
          ],
          "scatterpolar": [
           {
            "marker": {
             "colorbar": {
              "outlinewidth": 0,
              "ticks": ""
             }
            },
            "type": "scatterpolar"
           }
          ],
          "scatterpolargl": [
           {
            "marker": {
             "colorbar": {
              "outlinewidth": 0,
              "ticks": ""
             }
            },
            "type": "scatterpolargl"
           }
          ],
          "scatterternary": [
           {
            "marker": {
             "colorbar": {
              "outlinewidth": 0,
              "ticks": ""
             }
            },
            "type": "scatterternary"
           }
          ],
          "surface": [
           {
            "colorbar": {
             "outlinewidth": 0,
             "ticks": ""
            },
            "colorscale": [
             [
              0,
              "#0d0887"
             ],
             [
              0.1111111111111111,
              "#46039f"
             ],
             [
              0.2222222222222222,
              "#7201a8"
             ],
             [
              0.3333333333333333,
              "#9c179e"
             ],
             [
              0.4444444444444444,
              "#bd3786"
             ],
             [
              0.5555555555555556,
              "#d8576b"
             ],
             [
              0.6666666666666666,
              "#ed7953"
             ],
             [
              0.7777777777777778,
              "#fb9f3a"
             ],
             [
              0.8888888888888888,
              "#fdca26"
             ],
             [
              1,
              "#f0f921"
             ]
            ],
            "type": "surface"
           }
          ],
          "table": [
           {
            "cells": {
             "fill": {
              "color": "#EBF0F8"
             },
             "line": {
              "color": "white"
             }
            },
            "header": {
             "fill": {
              "color": "#C8D4E3"
             },
             "line": {
              "color": "white"
             }
            },
            "type": "table"
           }
          ]
         },
         "layout": {
          "annotationdefaults": {
           "arrowcolor": "#2a3f5f",
           "arrowhead": 0,
           "arrowwidth": 1
          },
          "autotypenumbers": "strict",
          "coloraxis": {
           "colorbar": {
            "outlinewidth": 0,
            "ticks": ""
           }
          },
          "colorscale": {
           "diverging": [
            [
             0,
             "#8e0152"
            ],
            [
             0.1,
             "#c51b7d"
            ],
            [
             0.2,
             "#de77ae"
            ],
            [
             0.3,
             "#f1b6da"
            ],
            [
             0.4,
             "#fde0ef"
            ],
            [
             0.5,
             "#f7f7f7"
            ],
            [
             0.6,
             "#e6f5d0"
            ],
            [
             0.7,
             "#b8e186"
            ],
            [
             0.8,
             "#7fbc41"
            ],
            [
             0.9,
             "#4d9221"
            ],
            [
             1,
             "#276419"
            ]
           ],
           "sequential": [
            [
             0,
             "#0d0887"
            ],
            [
             0.1111111111111111,
             "#46039f"
            ],
            [
             0.2222222222222222,
             "#7201a8"
            ],
            [
             0.3333333333333333,
             "#9c179e"
            ],
            [
             0.4444444444444444,
             "#bd3786"
            ],
            [
             0.5555555555555556,
             "#d8576b"
            ],
            [
             0.6666666666666666,
             "#ed7953"
            ],
            [
             0.7777777777777778,
             "#fb9f3a"
            ],
            [
             0.8888888888888888,
             "#fdca26"
            ],
            [
             1,
             "#f0f921"
            ]
           ],
           "sequentialminus": [
            [
             0,
             "#0d0887"
            ],
            [
             0.1111111111111111,
             "#46039f"
            ],
            [
             0.2222222222222222,
             "#7201a8"
            ],
            [
             0.3333333333333333,
             "#9c179e"
            ],
            [
             0.4444444444444444,
             "#bd3786"
            ],
            [
             0.5555555555555556,
             "#d8576b"
            ],
            [
             0.6666666666666666,
             "#ed7953"
            ],
            [
             0.7777777777777778,
             "#fb9f3a"
            ],
            [
             0.8888888888888888,
             "#fdca26"
            ],
            [
             1,
             "#f0f921"
            ]
           ]
          },
          "colorway": [
           "#636efa",
           "#EF553B",
           "#00cc96",
           "#ab63fa",
           "#FFA15A",
           "#19d3f3",
           "#FF6692",
           "#B6E880",
           "#FF97FF",
           "#FECB52"
          ],
          "font": {
           "color": "#2a3f5f"
          },
          "geo": {
           "bgcolor": "white",
           "lakecolor": "white",
           "landcolor": "#E5ECF6",
           "showlakes": true,
           "showland": true,
           "subunitcolor": "white"
          },
          "hoverlabel": {
           "align": "left"
          },
          "hovermode": "closest",
          "mapbox": {
           "style": "light"
          },
          "paper_bgcolor": "white",
          "plot_bgcolor": "#E5ECF6",
          "polar": {
           "angularaxis": {
            "gridcolor": "white",
            "linecolor": "white",
            "ticks": ""
           },
           "bgcolor": "#E5ECF6",
           "radialaxis": {
            "gridcolor": "white",
            "linecolor": "white",
            "ticks": ""
           }
          },
          "scene": {
           "xaxis": {
            "backgroundcolor": "#E5ECF6",
            "gridcolor": "white",
            "gridwidth": 2,
            "linecolor": "white",
            "showbackground": true,
            "ticks": "",
            "zerolinecolor": "white"
           },
           "yaxis": {
            "backgroundcolor": "#E5ECF6",
            "gridcolor": "white",
            "gridwidth": 2,
            "linecolor": "white",
            "showbackground": true,
            "ticks": "",
            "zerolinecolor": "white"
           },
           "zaxis": {
            "backgroundcolor": "#E5ECF6",
            "gridcolor": "white",
            "gridwidth": 2,
            "linecolor": "white",
            "showbackground": true,
            "ticks": "",
            "zerolinecolor": "white"
           }
          },
          "shapedefaults": {
           "line": {
            "color": "#2a3f5f"
           }
          },
          "ternary": {
           "aaxis": {
            "gridcolor": "white",
            "linecolor": "white",
            "ticks": ""
           },
           "baxis": {
            "gridcolor": "white",
            "linecolor": "white",
            "ticks": ""
           },
           "bgcolor": "#E5ECF6",
           "caxis": {
            "gridcolor": "white",
            "linecolor": "white",
            "ticks": ""
           }
          },
          "title": {
           "x": 0.05
          },
          "xaxis": {
           "automargin": true,
           "gridcolor": "white",
           "linecolor": "white",
           "ticks": "",
           "title": {
            "standoff": 15
           },
           "zerolinecolor": "white",
           "zerolinewidth": 2
          },
          "yaxis": {
           "automargin": true,
           "gridcolor": "white",
           "linecolor": "white",
           "ticks": "",
           "title": {
            "standoff": 15
           },
           "zerolinecolor": "white",
           "zerolinewidth": 2
          }
         }
        },
        "title": {
         "text": "Weekdays [week - 2] timeline"
        },
        "xaxis": {
         "anchor": "y",
         "domain": [
          0,
          1
         ],
         "title": {
          "text": "Weekdays"
         }
        },
        "yaxis": {
         "anchor": "x",
         "domain": [
          0,
          1
         ],
         "title": {
          "text": "Message count"
         }
        }
       }
      }
     },
     "metadata": {},
     "output_type": "display_data"
    },
    {
     "data": {
      "application/vnd.plotly.v1+json": {
       "config": {
        "plotlyServerURL": "https://plot.ly"
       },
       "data": [
        {
         "hovertemplate": "Users=Avantika CR 7sem<br>Weekdays=%{x}<br>Message count=%{y}<extra></extra>",
         "legendgroup": "Avantika CR 7sem",
         "line": {
          "color": "#636efa",
          "dash": "solid"
         },
         "marker": {
          "symbol": "circle"
         },
         "mode": "markers+lines",
         "name": "Avantika CR 7sem",
         "orientation": "v",
         "showlegend": true,
         "type": "scatter",
         "x": [
          "Sunday",
          "Monday",
          "Tuesday",
          "Wednesday",
          "Thursday",
          "Friday",
          "Saturday"
         ],
         "xaxis": "x",
         "y": [
          0,
          3,
          0,
          5,
          0,
          0,
          0
         ],
         "yaxis": "y"
        },
        {
         "hovertemplate": "Users=+91 73511 44719<br>Weekdays=%{x}<br>Message count=%{y}<extra></extra>",
         "legendgroup": "+91 73511 44719",
         "line": {
          "color": "#EF553B",
          "dash": "solid"
         },
         "marker": {
          "symbol": "circle"
         },
         "mode": "markers+lines",
         "name": "+91 73511 44719",
         "orientation": "v",
         "showlegend": true,
         "type": "scatter",
         "x": [
          "Sunday",
          "Monday",
          "Tuesday",
          "Wednesday",
          "Thursday",
          "Friday",
          "Saturday"
         ],
         "xaxis": "x",
         "y": [
          0,
          0,
          5,
          0,
          0,
          0,
          0
         ],
         "yaxis": "y"
        },
        {
         "hovertemplate": "Users=Sourabh 7 Mentor<br>Weekdays=%{x}<br>Message count=%{y}<extra></extra>",
         "legendgroup": "Sourabh 7 Mentor",
         "line": {
          "color": "#00cc96",
          "dash": "solid"
         },
         "marker": {
          "symbol": "circle"
         },
         "mode": "markers+lines",
         "name": "Sourabh 7 Mentor",
         "orientation": "v",
         "showlegend": true,
         "type": "scatter",
         "x": [
          "Sunday",
          "Monday",
          "Tuesday",
          "Wednesday",
          "Thursday",
          "Friday",
          "Saturday"
         ],
         "xaxis": "x",
         "y": [
          0,
          0,
          0,
          6,
          0,
          0,
          0
         ],
         "yaxis": "y"
        },
        {
         "hovertemplate": "Users=+91 76784 09427<br>Weekdays=%{x}<br>Message count=%{y}<extra></extra>",
         "legendgroup": "+91 76784 09427",
         "line": {
          "color": "#ab63fa",
          "dash": "solid"
         },
         "marker": {
          "symbol": "circle"
         },
         "mode": "markers+lines",
         "name": "+91 76784 09427",
         "orientation": "v",
         "showlegend": true,
         "type": "scatter",
         "x": [
          "Sunday",
          "Monday",
          "Tuesday",
          "Wednesday",
          "Thursday",
          "Friday",
          "Saturday"
         ],
         "xaxis": "x",
         "y": [
          0,
          0,
          0,
          0,
          0,
          0,
          0
         ],
         "yaxis": "y"
        },
        {
         "hovertemplate": "Users=+91 95235 15421<br>Weekdays=%{x}<br>Message count=%{y}<extra></extra>",
         "legendgroup": "+91 95235 15421",
         "line": {
          "color": "#FFA15A",
          "dash": "solid"
         },
         "marker": {
          "symbol": "circle"
         },
         "mode": "markers+lines",
         "name": "+91 95235 15421",
         "orientation": "v",
         "showlegend": true,
         "type": "scatter",
         "x": [
          "Sunday",
          "Monday",
          "Tuesday",
          "Wednesday",
          "Thursday",
          "Friday",
          "Saturday"
         ],
         "xaxis": "x",
         "y": [
          0,
          0,
          0,
          0,
          0,
          0,
          0
         ],
         "yaxis": "y"
        },
        {
         "hovertemplate": "Users=+91 76888 20220<br>Weekdays=%{x}<br>Message count=%{y}<extra></extra>",
         "legendgroup": "+91 76888 20220",
         "line": {
          "color": "#19d3f3",
          "dash": "solid"
         },
         "marker": {
          "symbol": "circle"
         },
         "mode": "markers+lines",
         "name": "+91 76888 20220",
         "orientation": "v",
         "showlegend": true,
         "type": "scatter",
         "x": [
          "Sunday",
          "Monday",
          "Tuesday",
          "Wednesday",
          "Thursday",
          "Friday",
          "Saturday"
         ],
         "xaxis": "x",
         "y": [
          0,
          0,
          0,
          0,
          0,
          0,
          0
         ],
         "yaxis": "y"
        },
        {
         "hovertemplate": "Users=+91 83079 17347<br>Weekdays=%{x}<br>Message count=%{y}<extra></extra>",
         "legendgroup": "+91 83079 17347",
         "line": {
          "color": "#FF6692",
          "dash": "solid"
         },
         "marker": {
          "symbol": "circle"
         },
         "mode": "markers+lines",
         "name": "+91 83079 17347",
         "orientation": "v",
         "showlegend": true,
         "type": "scatter",
         "x": [
          "Sunday",
          "Monday",
          "Tuesday",
          "Wednesday",
          "Thursday",
          "Friday",
          "Saturday"
         ],
         "xaxis": "x",
         "y": [
          0,
          0,
          0,
          4,
          0,
          0,
          0
         ],
         "yaxis": "y"
        },
        {
         "hovertemplate": "Users=others<br>Weekdays=%{x}<br>Message count=%{y}<extra></extra>",
         "legendgroup": "others",
         "line": {
          "color": "#B6E880",
          "dash": "solid"
         },
         "marker": {
          "symbol": "circle"
         },
         "mode": "markers+lines",
         "name": "others",
         "orientation": "v",
         "showlegend": true,
         "type": "scatter",
         "x": [
          "Sunday",
          "Monday",
          "Tuesday",
          "Wednesday",
          "Thursday",
          "Friday",
          "Saturday"
         ],
         "xaxis": "x",
         "y": [
          0,
          0,
          1,
          7,
          4,
          0,
          1
         ],
         "yaxis": "y"
        }
       ],
       "layout": {
        "legend": {
         "title": {
          "text": "Users"
         },
         "tracegroupgap": 0
        },
        "template": {
         "data": {
          "bar": [
           {
            "error_x": {
             "color": "#2a3f5f"
            },
            "error_y": {
             "color": "#2a3f5f"
            },
            "marker": {
             "line": {
              "color": "#E5ECF6",
              "width": 0.5
             },
             "pattern": {
              "fillmode": "overlay",
              "size": 10,
              "solidity": 0.2
             }
            },
            "type": "bar"
           }
          ],
          "barpolar": [
           {
            "marker": {
             "line": {
              "color": "#E5ECF6",
              "width": 0.5
             },
             "pattern": {
              "fillmode": "overlay",
              "size": 10,
              "solidity": 0.2
             }
            },
            "type": "barpolar"
           }
          ],
          "carpet": [
           {
            "aaxis": {
             "endlinecolor": "#2a3f5f",
             "gridcolor": "white",
             "linecolor": "white",
             "minorgridcolor": "white",
             "startlinecolor": "#2a3f5f"
            },
            "baxis": {
             "endlinecolor": "#2a3f5f",
             "gridcolor": "white",
             "linecolor": "white",
             "minorgridcolor": "white",
             "startlinecolor": "#2a3f5f"
            },
            "type": "carpet"
           }
          ],
          "choropleth": [
           {
            "colorbar": {
             "outlinewidth": 0,
             "ticks": ""
            },
            "type": "choropleth"
           }
          ],
          "contour": [
           {
            "colorbar": {
             "outlinewidth": 0,
             "ticks": ""
            },
            "colorscale": [
             [
              0,
              "#0d0887"
             ],
             [
              0.1111111111111111,
              "#46039f"
             ],
             [
              0.2222222222222222,
              "#7201a8"
             ],
             [
              0.3333333333333333,
              "#9c179e"
             ],
             [
              0.4444444444444444,
              "#bd3786"
             ],
             [
              0.5555555555555556,
              "#d8576b"
             ],
             [
              0.6666666666666666,
              "#ed7953"
             ],
             [
              0.7777777777777778,
              "#fb9f3a"
             ],
             [
              0.8888888888888888,
              "#fdca26"
             ],
             [
              1,
              "#f0f921"
             ]
            ],
            "type": "contour"
           }
          ],
          "contourcarpet": [
           {
            "colorbar": {
             "outlinewidth": 0,
             "ticks": ""
            },
            "type": "contourcarpet"
           }
          ],
          "heatmap": [
           {
            "colorbar": {
             "outlinewidth": 0,
             "ticks": ""
            },
            "colorscale": [
             [
              0,
              "#0d0887"
             ],
             [
              0.1111111111111111,
              "#46039f"
             ],
             [
              0.2222222222222222,
              "#7201a8"
             ],
             [
              0.3333333333333333,
              "#9c179e"
             ],
             [
              0.4444444444444444,
              "#bd3786"
             ],
             [
              0.5555555555555556,
              "#d8576b"
             ],
             [
              0.6666666666666666,
              "#ed7953"
             ],
             [
              0.7777777777777778,
              "#fb9f3a"
             ],
             [
              0.8888888888888888,
              "#fdca26"
             ],
             [
              1,
              "#f0f921"
             ]
            ],
            "type": "heatmap"
           }
          ],
          "heatmapgl": [
           {
            "colorbar": {
             "outlinewidth": 0,
             "ticks": ""
            },
            "colorscale": [
             [
              0,
              "#0d0887"
             ],
             [
              0.1111111111111111,
              "#46039f"
             ],
             [
              0.2222222222222222,
              "#7201a8"
             ],
             [
              0.3333333333333333,
              "#9c179e"
             ],
             [
              0.4444444444444444,
              "#bd3786"
             ],
             [
              0.5555555555555556,
              "#d8576b"
             ],
             [
              0.6666666666666666,
              "#ed7953"
             ],
             [
              0.7777777777777778,
              "#fb9f3a"
             ],
             [
              0.8888888888888888,
              "#fdca26"
             ],
             [
              1,
              "#f0f921"
             ]
            ],
            "type": "heatmapgl"
           }
          ],
          "histogram": [
           {
            "marker": {
             "pattern": {
              "fillmode": "overlay",
              "size": 10,
              "solidity": 0.2
             }
            },
            "type": "histogram"
           }
          ],
          "histogram2d": [
           {
            "colorbar": {
             "outlinewidth": 0,
             "ticks": ""
            },
            "colorscale": [
             [
              0,
              "#0d0887"
             ],
             [
              0.1111111111111111,
              "#46039f"
             ],
             [
              0.2222222222222222,
              "#7201a8"
             ],
             [
              0.3333333333333333,
              "#9c179e"
             ],
             [
              0.4444444444444444,
              "#bd3786"
             ],
             [
              0.5555555555555556,
              "#d8576b"
             ],
             [
              0.6666666666666666,
              "#ed7953"
             ],
             [
              0.7777777777777778,
              "#fb9f3a"
             ],
             [
              0.8888888888888888,
              "#fdca26"
             ],
             [
              1,
              "#f0f921"
             ]
            ],
            "type": "histogram2d"
           }
          ],
          "histogram2dcontour": [
           {
            "colorbar": {
             "outlinewidth": 0,
             "ticks": ""
            },
            "colorscale": [
             [
              0,
              "#0d0887"
             ],
             [
              0.1111111111111111,
              "#46039f"
             ],
             [
              0.2222222222222222,
              "#7201a8"
             ],
             [
              0.3333333333333333,
              "#9c179e"
             ],
             [
              0.4444444444444444,
              "#bd3786"
             ],
             [
              0.5555555555555556,
              "#d8576b"
             ],
             [
              0.6666666666666666,
              "#ed7953"
             ],
             [
              0.7777777777777778,
              "#fb9f3a"
             ],
             [
              0.8888888888888888,
              "#fdca26"
             ],
             [
              1,
              "#f0f921"
             ]
            ],
            "type": "histogram2dcontour"
           }
          ],
          "mesh3d": [
           {
            "colorbar": {
             "outlinewidth": 0,
             "ticks": ""
            },
            "type": "mesh3d"
           }
          ],
          "parcoords": [
           {
            "line": {
             "colorbar": {
              "outlinewidth": 0,
              "ticks": ""
             }
            },
            "type": "parcoords"
           }
          ],
          "pie": [
           {
            "automargin": true,
            "type": "pie"
           }
          ],
          "scatter": [
           {
            "fillpattern": {
             "fillmode": "overlay",
             "size": 10,
             "solidity": 0.2
            },
            "type": "scatter"
           }
          ],
          "scatter3d": [
           {
            "line": {
             "colorbar": {
              "outlinewidth": 0,
              "ticks": ""
             }
            },
            "marker": {
             "colorbar": {
              "outlinewidth": 0,
              "ticks": ""
             }
            },
            "type": "scatter3d"
           }
          ],
          "scattercarpet": [
           {
            "marker": {
             "colorbar": {
              "outlinewidth": 0,
              "ticks": ""
             }
            },
            "type": "scattercarpet"
           }
          ],
          "scattergeo": [
           {
            "marker": {
             "colorbar": {
              "outlinewidth": 0,
              "ticks": ""
             }
            },
            "type": "scattergeo"
           }
          ],
          "scattergl": [
           {
            "marker": {
             "colorbar": {
              "outlinewidth": 0,
              "ticks": ""
             }
            },
            "type": "scattergl"
           }
          ],
          "scattermapbox": [
           {
            "marker": {
             "colorbar": {
              "outlinewidth": 0,
              "ticks": ""
             }
            },
            "type": "scattermapbox"
           }
          ],
          "scatterpolar": [
           {
            "marker": {
             "colorbar": {
              "outlinewidth": 0,
              "ticks": ""
             }
            },
            "type": "scatterpolar"
           }
          ],
          "scatterpolargl": [
           {
            "marker": {
             "colorbar": {
              "outlinewidth": 0,
              "ticks": ""
             }
            },
            "type": "scatterpolargl"
           }
          ],
          "scatterternary": [
           {
            "marker": {
             "colorbar": {
              "outlinewidth": 0,
              "ticks": ""
             }
            },
            "type": "scatterternary"
           }
          ],
          "surface": [
           {
            "colorbar": {
             "outlinewidth": 0,
             "ticks": ""
            },
            "colorscale": [
             [
              0,
              "#0d0887"
             ],
             [
              0.1111111111111111,
              "#46039f"
             ],
             [
              0.2222222222222222,
              "#7201a8"
             ],
             [
              0.3333333333333333,
              "#9c179e"
             ],
             [
              0.4444444444444444,
              "#bd3786"
             ],
             [
              0.5555555555555556,
              "#d8576b"
             ],
             [
              0.6666666666666666,
              "#ed7953"
             ],
             [
              0.7777777777777778,
              "#fb9f3a"
             ],
             [
              0.8888888888888888,
              "#fdca26"
             ],
             [
              1,
              "#f0f921"
             ]
            ],
            "type": "surface"
           }
          ],
          "table": [
           {
            "cells": {
             "fill": {
              "color": "#EBF0F8"
             },
             "line": {
              "color": "white"
             }
            },
            "header": {
             "fill": {
              "color": "#C8D4E3"
             },
             "line": {
              "color": "white"
             }
            },
            "type": "table"
           }
          ]
         },
         "layout": {
          "annotationdefaults": {
           "arrowcolor": "#2a3f5f",
           "arrowhead": 0,
           "arrowwidth": 1
          },
          "autotypenumbers": "strict",
          "coloraxis": {
           "colorbar": {
            "outlinewidth": 0,
            "ticks": ""
           }
          },
          "colorscale": {
           "diverging": [
            [
             0,
             "#8e0152"
            ],
            [
             0.1,
             "#c51b7d"
            ],
            [
             0.2,
             "#de77ae"
            ],
            [
             0.3,
             "#f1b6da"
            ],
            [
             0.4,
             "#fde0ef"
            ],
            [
             0.5,
             "#f7f7f7"
            ],
            [
             0.6,
             "#e6f5d0"
            ],
            [
             0.7,
             "#b8e186"
            ],
            [
             0.8,
             "#7fbc41"
            ],
            [
             0.9,
             "#4d9221"
            ],
            [
             1,
             "#276419"
            ]
           ],
           "sequential": [
            [
             0,
             "#0d0887"
            ],
            [
             0.1111111111111111,
             "#46039f"
            ],
            [
             0.2222222222222222,
             "#7201a8"
            ],
            [
             0.3333333333333333,
             "#9c179e"
            ],
            [
             0.4444444444444444,
             "#bd3786"
            ],
            [
             0.5555555555555556,
             "#d8576b"
            ],
            [
             0.6666666666666666,
             "#ed7953"
            ],
            [
             0.7777777777777778,
             "#fb9f3a"
            ],
            [
             0.8888888888888888,
             "#fdca26"
            ],
            [
             1,
             "#f0f921"
            ]
           ],
           "sequentialminus": [
            [
             0,
             "#0d0887"
            ],
            [
             0.1111111111111111,
             "#46039f"
            ],
            [
             0.2222222222222222,
             "#7201a8"
            ],
            [
             0.3333333333333333,
             "#9c179e"
            ],
            [
             0.4444444444444444,
             "#bd3786"
            ],
            [
             0.5555555555555556,
             "#d8576b"
            ],
            [
             0.6666666666666666,
             "#ed7953"
            ],
            [
             0.7777777777777778,
             "#fb9f3a"
            ],
            [
             0.8888888888888888,
             "#fdca26"
            ],
            [
             1,
             "#f0f921"
            ]
           ]
          },
          "colorway": [
           "#636efa",
           "#EF553B",
           "#00cc96",
           "#ab63fa",
           "#FFA15A",
           "#19d3f3",
           "#FF6692",
           "#B6E880",
           "#FF97FF",
           "#FECB52"
          ],
          "font": {
           "color": "#2a3f5f"
          },
          "geo": {
           "bgcolor": "white",
           "lakecolor": "white",
           "landcolor": "#E5ECF6",
           "showlakes": true,
           "showland": true,
           "subunitcolor": "white"
          },
          "hoverlabel": {
           "align": "left"
          },
          "hovermode": "closest",
          "mapbox": {
           "style": "light"
          },
          "paper_bgcolor": "white",
          "plot_bgcolor": "#E5ECF6",
          "polar": {
           "angularaxis": {
            "gridcolor": "white",
            "linecolor": "white",
            "ticks": ""
           },
           "bgcolor": "#E5ECF6",
           "radialaxis": {
            "gridcolor": "white",
            "linecolor": "white",
            "ticks": ""
           }
          },
          "scene": {
           "xaxis": {
            "backgroundcolor": "#E5ECF6",
            "gridcolor": "white",
            "gridwidth": 2,
            "linecolor": "white",
            "showbackground": true,
            "ticks": "",
            "zerolinecolor": "white"
           },
           "yaxis": {
            "backgroundcolor": "#E5ECF6",
            "gridcolor": "white",
            "gridwidth": 2,
            "linecolor": "white",
            "showbackground": true,
            "ticks": "",
            "zerolinecolor": "white"
           },
           "zaxis": {
            "backgroundcolor": "#E5ECF6",
            "gridcolor": "white",
            "gridwidth": 2,
            "linecolor": "white",
            "showbackground": true,
            "ticks": "",
            "zerolinecolor": "white"
           }
          },
          "shapedefaults": {
           "line": {
            "color": "#2a3f5f"
           }
          },
          "ternary": {
           "aaxis": {
            "gridcolor": "white",
            "linecolor": "white",
            "ticks": ""
           },
           "baxis": {
            "gridcolor": "white",
            "linecolor": "white",
            "ticks": ""
           },
           "bgcolor": "#E5ECF6",
           "caxis": {
            "gridcolor": "white",
            "linecolor": "white",
            "ticks": ""
           }
          },
          "title": {
           "x": 0.05
          },
          "xaxis": {
           "automargin": true,
           "gridcolor": "white",
           "linecolor": "white",
           "ticks": "",
           "title": {
            "standoff": 15
           },
           "zerolinecolor": "white",
           "zerolinewidth": 2
          },
          "yaxis": {
           "automargin": true,
           "gridcolor": "white",
           "linecolor": "white",
           "ticks": "",
           "title": {
            "standoff": 15
           },
           "zerolinecolor": "white",
           "zerolinewidth": 2
          }
         }
        },
        "title": {
         "text": "Weekdays [week - 3] timeline"
        },
        "xaxis": {
         "anchor": "y",
         "domain": [
          0,
          1
         ],
         "title": {
          "text": "Weekdays"
         }
        },
        "yaxis": {
         "anchor": "x",
         "domain": [
          0,
          1
         ],
         "title": {
          "text": "Message count"
         }
        }
       }
      }
     },
     "metadata": {},
     "output_type": "display_data"
    },
    {
     "data": {
      "application/vnd.plotly.v1+json": {
       "config": {
        "plotlyServerURL": "https://plot.ly"
       },
       "data": [
        {
         "hovertemplate": "Users=Avantika CR 7sem<br>Weekdays=%{x}<br>Message count=%{y}<extra></extra>",
         "legendgroup": "Avantika CR 7sem",
         "line": {
          "color": "#636efa",
          "dash": "solid"
         },
         "marker": {
          "symbol": "circle"
         },
         "mode": "markers+lines",
         "name": "Avantika CR 7sem",
         "orientation": "v",
         "showlegend": true,
         "type": "scatter",
         "x": [
          "Sunday",
          "Monday",
          "Tuesday",
          "Wednesday",
          "Thursday",
          "Friday",
          "Saturday"
         ],
         "xaxis": "x",
         "y": [
          1,
          5,
          0,
          1,
          13,
          3,
          7
         ],
         "yaxis": "y"
        },
        {
         "hovertemplate": "Users=+91 73511 44719<br>Weekdays=%{x}<br>Message count=%{y}<extra></extra>",
         "legendgroup": "+91 73511 44719",
         "line": {
          "color": "#EF553B",
          "dash": "solid"
         },
         "marker": {
          "symbol": "circle"
         },
         "mode": "markers+lines",
         "name": "+91 73511 44719",
         "orientation": "v",
         "showlegend": true,
         "type": "scatter",
         "x": [
          "Sunday",
          "Monday",
          "Tuesday",
          "Wednesday",
          "Thursday",
          "Friday",
          "Saturday"
         ],
         "xaxis": "x",
         "y": [
          3,
          0,
          0,
          3,
          0,
          4,
          0
         ],
         "yaxis": "y"
        },
        {
         "hovertemplate": "Users=Sourabh 7 Mentor<br>Weekdays=%{x}<br>Message count=%{y}<extra></extra>",
         "legendgroup": "Sourabh 7 Mentor",
         "line": {
          "color": "#00cc96",
          "dash": "solid"
         },
         "marker": {
          "symbol": "circle"
         },
         "mode": "markers+lines",
         "name": "Sourabh 7 Mentor",
         "orientation": "v",
         "showlegend": true,
         "type": "scatter",
         "x": [
          "Sunday",
          "Monday",
          "Tuesday",
          "Wednesday",
          "Thursday",
          "Friday",
          "Saturday"
         ],
         "xaxis": "x",
         "y": [
          0,
          10,
          0,
          6,
          7,
          6,
          3
         ],
         "yaxis": "y"
        },
        {
         "hovertemplate": "Users=+91 76784 09427<br>Weekdays=%{x}<br>Message count=%{y}<extra></extra>",
         "legendgroup": "+91 76784 09427",
         "line": {
          "color": "#ab63fa",
          "dash": "solid"
         },
         "marker": {
          "symbol": "circle"
         },
         "mode": "markers+lines",
         "name": "+91 76784 09427",
         "orientation": "v",
         "showlegend": true,
         "type": "scatter",
         "x": [
          "Sunday",
          "Monday",
          "Tuesday",
          "Wednesday",
          "Thursday",
          "Friday",
          "Saturday"
         ],
         "xaxis": "x",
         "y": [
          0,
          0,
          0,
          1,
          0,
          1,
          0
         ],
         "yaxis": "y"
        },
        {
         "hovertemplate": "Users=+91 95235 15421<br>Weekdays=%{x}<br>Message count=%{y}<extra></extra>",
         "legendgroup": "+91 95235 15421",
         "line": {
          "color": "#FFA15A",
          "dash": "solid"
         },
         "marker": {
          "symbol": "circle"
         },
         "mode": "markers+lines",
         "name": "+91 95235 15421",
         "orientation": "v",
         "showlegend": true,
         "type": "scatter",
         "x": [
          "Sunday",
          "Monday",
          "Tuesday",
          "Wednesday",
          "Thursday",
          "Friday",
          "Saturday"
         ],
         "xaxis": "x",
         "y": [
          0,
          0,
          0,
          2,
          0,
          0,
          0
         ],
         "yaxis": "y"
        },
        {
         "hovertemplate": "Users=+91 76888 20220<br>Weekdays=%{x}<br>Message count=%{y}<extra></extra>",
         "legendgroup": "+91 76888 20220",
         "line": {
          "color": "#19d3f3",
          "dash": "solid"
         },
         "marker": {
          "symbol": "circle"
         },
         "mode": "markers+lines",
         "name": "+91 76888 20220",
         "orientation": "v",
         "showlegend": true,
         "type": "scatter",
         "x": [
          "Sunday",
          "Monday",
          "Tuesday",
          "Wednesday",
          "Thursday",
          "Friday",
          "Saturday"
         ],
         "xaxis": "x",
         "y": [
          0,
          0,
          0,
          0,
          0,
          0,
          0
         ],
         "yaxis": "y"
        },
        {
         "hovertemplate": "Users=+91 83079 17347<br>Weekdays=%{x}<br>Message count=%{y}<extra></extra>",
         "legendgroup": "+91 83079 17347",
         "line": {
          "color": "#FF6692",
          "dash": "solid"
         },
         "marker": {
          "symbol": "circle"
         },
         "mode": "markers+lines",
         "name": "+91 83079 17347",
         "orientation": "v",
         "showlegend": true,
         "type": "scatter",
         "x": [
          "Sunday",
          "Monday",
          "Tuesday",
          "Wednesday",
          "Thursday",
          "Friday",
          "Saturday"
         ],
         "xaxis": "x",
         "y": [
          0,
          0,
          0,
          0,
          0,
          0,
          0
         ],
         "yaxis": "y"
        },
        {
         "hovertemplate": "Users=others<br>Weekdays=%{x}<br>Message count=%{y}<extra></extra>",
         "legendgroup": "others",
         "line": {
          "color": "#B6E880",
          "dash": "solid"
         },
         "marker": {
          "symbol": "circle"
         },
         "mode": "markers+lines",
         "name": "others",
         "orientation": "v",
         "showlegend": true,
         "type": "scatter",
         "x": [
          "Sunday",
          "Monday",
          "Tuesday",
          "Wednesday",
          "Thursday",
          "Friday",
          "Saturday"
         ],
         "xaxis": "x",
         "y": [
          0,
          1,
          0,
          7,
          2,
          2,
          0
         ],
         "yaxis": "y"
        }
       ],
       "layout": {
        "legend": {
         "title": {
          "text": "Users"
         },
         "tracegroupgap": 0
        },
        "template": {
         "data": {
          "bar": [
           {
            "error_x": {
             "color": "#2a3f5f"
            },
            "error_y": {
             "color": "#2a3f5f"
            },
            "marker": {
             "line": {
              "color": "#E5ECF6",
              "width": 0.5
             },
             "pattern": {
              "fillmode": "overlay",
              "size": 10,
              "solidity": 0.2
             }
            },
            "type": "bar"
           }
          ],
          "barpolar": [
           {
            "marker": {
             "line": {
              "color": "#E5ECF6",
              "width": 0.5
             },
             "pattern": {
              "fillmode": "overlay",
              "size": 10,
              "solidity": 0.2
             }
            },
            "type": "barpolar"
           }
          ],
          "carpet": [
           {
            "aaxis": {
             "endlinecolor": "#2a3f5f",
             "gridcolor": "white",
             "linecolor": "white",
             "minorgridcolor": "white",
             "startlinecolor": "#2a3f5f"
            },
            "baxis": {
             "endlinecolor": "#2a3f5f",
             "gridcolor": "white",
             "linecolor": "white",
             "minorgridcolor": "white",
             "startlinecolor": "#2a3f5f"
            },
            "type": "carpet"
           }
          ],
          "choropleth": [
           {
            "colorbar": {
             "outlinewidth": 0,
             "ticks": ""
            },
            "type": "choropleth"
           }
          ],
          "contour": [
           {
            "colorbar": {
             "outlinewidth": 0,
             "ticks": ""
            },
            "colorscale": [
             [
              0,
              "#0d0887"
             ],
             [
              0.1111111111111111,
              "#46039f"
             ],
             [
              0.2222222222222222,
              "#7201a8"
             ],
             [
              0.3333333333333333,
              "#9c179e"
             ],
             [
              0.4444444444444444,
              "#bd3786"
             ],
             [
              0.5555555555555556,
              "#d8576b"
             ],
             [
              0.6666666666666666,
              "#ed7953"
             ],
             [
              0.7777777777777778,
              "#fb9f3a"
             ],
             [
              0.8888888888888888,
              "#fdca26"
             ],
             [
              1,
              "#f0f921"
             ]
            ],
            "type": "contour"
           }
          ],
          "contourcarpet": [
           {
            "colorbar": {
             "outlinewidth": 0,
             "ticks": ""
            },
            "type": "contourcarpet"
           }
          ],
          "heatmap": [
           {
            "colorbar": {
             "outlinewidth": 0,
             "ticks": ""
            },
            "colorscale": [
             [
              0,
              "#0d0887"
             ],
             [
              0.1111111111111111,
              "#46039f"
             ],
             [
              0.2222222222222222,
              "#7201a8"
             ],
             [
              0.3333333333333333,
              "#9c179e"
             ],
             [
              0.4444444444444444,
              "#bd3786"
             ],
             [
              0.5555555555555556,
              "#d8576b"
             ],
             [
              0.6666666666666666,
              "#ed7953"
             ],
             [
              0.7777777777777778,
              "#fb9f3a"
             ],
             [
              0.8888888888888888,
              "#fdca26"
             ],
             [
              1,
              "#f0f921"
             ]
            ],
            "type": "heatmap"
           }
          ],
          "heatmapgl": [
           {
            "colorbar": {
             "outlinewidth": 0,
             "ticks": ""
            },
            "colorscale": [
             [
              0,
              "#0d0887"
             ],
             [
              0.1111111111111111,
              "#46039f"
             ],
             [
              0.2222222222222222,
              "#7201a8"
             ],
             [
              0.3333333333333333,
              "#9c179e"
             ],
             [
              0.4444444444444444,
              "#bd3786"
             ],
             [
              0.5555555555555556,
              "#d8576b"
             ],
             [
              0.6666666666666666,
              "#ed7953"
             ],
             [
              0.7777777777777778,
              "#fb9f3a"
             ],
             [
              0.8888888888888888,
              "#fdca26"
             ],
             [
              1,
              "#f0f921"
             ]
            ],
            "type": "heatmapgl"
           }
          ],
          "histogram": [
           {
            "marker": {
             "pattern": {
              "fillmode": "overlay",
              "size": 10,
              "solidity": 0.2
             }
            },
            "type": "histogram"
           }
          ],
          "histogram2d": [
           {
            "colorbar": {
             "outlinewidth": 0,
             "ticks": ""
            },
            "colorscale": [
             [
              0,
              "#0d0887"
             ],
             [
              0.1111111111111111,
              "#46039f"
             ],
             [
              0.2222222222222222,
              "#7201a8"
             ],
             [
              0.3333333333333333,
              "#9c179e"
             ],
             [
              0.4444444444444444,
              "#bd3786"
             ],
             [
              0.5555555555555556,
              "#d8576b"
             ],
             [
              0.6666666666666666,
              "#ed7953"
             ],
             [
              0.7777777777777778,
              "#fb9f3a"
             ],
             [
              0.8888888888888888,
              "#fdca26"
             ],
             [
              1,
              "#f0f921"
             ]
            ],
            "type": "histogram2d"
           }
          ],
          "histogram2dcontour": [
           {
            "colorbar": {
             "outlinewidth": 0,
             "ticks": ""
            },
            "colorscale": [
             [
              0,
              "#0d0887"
             ],
             [
              0.1111111111111111,
              "#46039f"
             ],
             [
              0.2222222222222222,
              "#7201a8"
             ],
             [
              0.3333333333333333,
              "#9c179e"
             ],
             [
              0.4444444444444444,
              "#bd3786"
             ],
             [
              0.5555555555555556,
              "#d8576b"
             ],
             [
              0.6666666666666666,
              "#ed7953"
             ],
             [
              0.7777777777777778,
              "#fb9f3a"
             ],
             [
              0.8888888888888888,
              "#fdca26"
             ],
             [
              1,
              "#f0f921"
             ]
            ],
            "type": "histogram2dcontour"
           }
          ],
          "mesh3d": [
           {
            "colorbar": {
             "outlinewidth": 0,
             "ticks": ""
            },
            "type": "mesh3d"
           }
          ],
          "parcoords": [
           {
            "line": {
             "colorbar": {
              "outlinewidth": 0,
              "ticks": ""
             }
            },
            "type": "parcoords"
           }
          ],
          "pie": [
           {
            "automargin": true,
            "type": "pie"
           }
          ],
          "scatter": [
           {
            "fillpattern": {
             "fillmode": "overlay",
             "size": 10,
             "solidity": 0.2
            },
            "type": "scatter"
           }
          ],
          "scatter3d": [
           {
            "line": {
             "colorbar": {
              "outlinewidth": 0,
              "ticks": ""
             }
            },
            "marker": {
             "colorbar": {
              "outlinewidth": 0,
              "ticks": ""
             }
            },
            "type": "scatter3d"
           }
          ],
          "scattercarpet": [
           {
            "marker": {
             "colorbar": {
              "outlinewidth": 0,
              "ticks": ""
             }
            },
            "type": "scattercarpet"
           }
          ],
          "scattergeo": [
           {
            "marker": {
             "colorbar": {
              "outlinewidth": 0,
              "ticks": ""
             }
            },
            "type": "scattergeo"
           }
          ],
          "scattergl": [
           {
            "marker": {
             "colorbar": {
              "outlinewidth": 0,
              "ticks": ""
             }
            },
            "type": "scattergl"
           }
          ],
          "scattermapbox": [
           {
            "marker": {
             "colorbar": {
              "outlinewidth": 0,
              "ticks": ""
             }
            },
            "type": "scattermapbox"
           }
          ],
          "scatterpolar": [
           {
            "marker": {
             "colorbar": {
              "outlinewidth": 0,
              "ticks": ""
             }
            },
            "type": "scatterpolar"
           }
          ],
          "scatterpolargl": [
           {
            "marker": {
             "colorbar": {
              "outlinewidth": 0,
              "ticks": ""
             }
            },
            "type": "scatterpolargl"
           }
          ],
          "scatterternary": [
           {
            "marker": {
             "colorbar": {
              "outlinewidth": 0,
              "ticks": ""
             }
            },
            "type": "scatterternary"
           }
          ],
          "surface": [
           {
            "colorbar": {
             "outlinewidth": 0,
             "ticks": ""
            },
            "colorscale": [
             [
              0,
              "#0d0887"
             ],
             [
              0.1111111111111111,
              "#46039f"
             ],
             [
              0.2222222222222222,
              "#7201a8"
             ],
             [
              0.3333333333333333,
              "#9c179e"
             ],
             [
              0.4444444444444444,
              "#bd3786"
             ],
             [
              0.5555555555555556,
              "#d8576b"
             ],
             [
              0.6666666666666666,
              "#ed7953"
             ],
             [
              0.7777777777777778,
              "#fb9f3a"
             ],
             [
              0.8888888888888888,
              "#fdca26"
             ],
             [
              1,
              "#f0f921"
             ]
            ],
            "type": "surface"
           }
          ],
          "table": [
           {
            "cells": {
             "fill": {
              "color": "#EBF0F8"
             },
             "line": {
              "color": "white"
             }
            },
            "header": {
             "fill": {
              "color": "#C8D4E3"
             },
             "line": {
              "color": "white"
             }
            },
            "type": "table"
           }
          ]
         },
         "layout": {
          "annotationdefaults": {
           "arrowcolor": "#2a3f5f",
           "arrowhead": 0,
           "arrowwidth": 1
          },
          "autotypenumbers": "strict",
          "coloraxis": {
           "colorbar": {
            "outlinewidth": 0,
            "ticks": ""
           }
          },
          "colorscale": {
           "diverging": [
            [
             0,
             "#8e0152"
            ],
            [
             0.1,
             "#c51b7d"
            ],
            [
             0.2,
             "#de77ae"
            ],
            [
             0.3,
             "#f1b6da"
            ],
            [
             0.4,
             "#fde0ef"
            ],
            [
             0.5,
             "#f7f7f7"
            ],
            [
             0.6,
             "#e6f5d0"
            ],
            [
             0.7,
             "#b8e186"
            ],
            [
             0.8,
             "#7fbc41"
            ],
            [
             0.9,
             "#4d9221"
            ],
            [
             1,
             "#276419"
            ]
           ],
           "sequential": [
            [
             0,
             "#0d0887"
            ],
            [
             0.1111111111111111,
             "#46039f"
            ],
            [
             0.2222222222222222,
             "#7201a8"
            ],
            [
             0.3333333333333333,
             "#9c179e"
            ],
            [
             0.4444444444444444,
             "#bd3786"
            ],
            [
             0.5555555555555556,
             "#d8576b"
            ],
            [
             0.6666666666666666,
             "#ed7953"
            ],
            [
             0.7777777777777778,
             "#fb9f3a"
            ],
            [
             0.8888888888888888,
             "#fdca26"
            ],
            [
             1,
             "#f0f921"
            ]
           ],
           "sequentialminus": [
            [
             0,
             "#0d0887"
            ],
            [
             0.1111111111111111,
             "#46039f"
            ],
            [
             0.2222222222222222,
             "#7201a8"
            ],
            [
             0.3333333333333333,
             "#9c179e"
            ],
            [
             0.4444444444444444,
             "#bd3786"
            ],
            [
             0.5555555555555556,
             "#d8576b"
            ],
            [
             0.6666666666666666,
             "#ed7953"
            ],
            [
             0.7777777777777778,
             "#fb9f3a"
            ],
            [
             0.8888888888888888,
             "#fdca26"
            ],
            [
             1,
             "#f0f921"
            ]
           ]
          },
          "colorway": [
           "#636efa",
           "#EF553B",
           "#00cc96",
           "#ab63fa",
           "#FFA15A",
           "#19d3f3",
           "#FF6692",
           "#B6E880",
           "#FF97FF",
           "#FECB52"
          ],
          "font": {
           "color": "#2a3f5f"
          },
          "geo": {
           "bgcolor": "white",
           "lakecolor": "white",
           "landcolor": "#E5ECF6",
           "showlakes": true,
           "showland": true,
           "subunitcolor": "white"
          },
          "hoverlabel": {
           "align": "left"
          },
          "hovermode": "closest",
          "mapbox": {
           "style": "light"
          },
          "paper_bgcolor": "white",
          "plot_bgcolor": "#E5ECF6",
          "polar": {
           "angularaxis": {
            "gridcolor": "white",
            "linecolor": "white",
            "ticks": ""
           },
           "bgcolor": "#E5ECF6",
           "radialaxis": {
            "gridcolor": "white",
            "linecolor": "white",
            "ticks": ""
           }
          },
          "scene": {
           "xaxis": {
            "backgroundcolor": "#E5ECF6",
            "gridcolor": "white",
            "gridwidth": 2,
            "linecolor": "white",
            "showbackground": true,
            "ticks": "",
            "zerolinecolor": "white"
           },
           "yaxis": {
            "backgroundcolor": "#E5ECF6",
            "gridcolor": "white",
            "gridwidth": 2,
            "linecolor": "white",
            "showbackground": true,
            "ticks": "",
            "zerolinecolor": "white"
           },
           "zaxis": {
            "backgroundcolor": "#E5ECF6",
            "gridcolor": "white",
            "gridwidth": 2,
            "linecolor": "white",
            "showbackground": true,
            "ticks": "",
            "zerolinecolor": "white"
           }
          },
          "shapedefaults": {
           "line": {
            "color": "#2a3f5f"
           }
          },
          "ternary": {
           "aaxis": {
            "gridcolor": "white",
            "linecolor": "white",
            "ticks": ""
           },
           "baxis": {
            "gridcolor": "white",
            "linecolor": "white",
            "ticks": ""
           },
           "bgcolor": "#E5ECF6",
           "caxis": {
            "gridcolor": "white",
            "linecolor": "white",
            "ticks": ""
           }
          },
          "title": {
           "x": 0.05
          },
          "xaxis": {
           "automargin": true,
           "gridcolor": "white",
           "linecolor": "white",
           "ticks": "",
           "title": {
            "standoff": 15
           },
           "zerolinecolor": "white",
           "zerolinewidth": 2
          },
          "yaxis": {
           "automargin": true,
           "gridcolor": "white",
           "linecolor": "white",
           "ticks": "",
           "title": {
            "standoff": 15
           },
           "zerolinecolor": "white",
           "zerolinewidth": 2
          }
         }
        },
        "title": {
         "text": "Weekdays [week - 4] timeline"
        },
        "xaxis": {
         "anchor": "y",
         "domain": [
          0,
          1
         ],
         "title": {
          "text": "Weekdays"
         }
        },
        "yaxis": {
         "anchor": "x",
         "domain": [
          0,
          1
         ],
         "title": {
          "text": "Message count"
         }
        }
       }
      }
     },
     "metadata": {},
     "output_type": "display_data"
    },
    {
     "data": {
      "application/vnd.plotly.v1+json": {
       "config": {
        "plotlyServerURL": "https://plot.ly"
       },
       "data": [
        {
         "hovertemplate": "Users=Avantika CR 7sem<br>Days=%{x}<br>Message count=%{y}<extra></extra>",
         "legendgroup": "Avantika CR 7sem",
         "line": {
          "color": "#636efa",
          "dash": "solid"
         },
         "marker": {
          "symbol": "circle"
         },
         "mode": "markers+lines",
         "name": "Avantika CR 7sem",
         "orientation": "v",
         "showlegend": true,
         "type": "scatter",
         "x": [
          "2023-08-01",
          "2023-08-02",
          "2023-08-03",
          "2023-08-04",
          "2023-08-05",
          "2023-08-06",
          "2023-08-07",
          "2023-08-08",
          "2023-08-09",
          "2023-08-10",
          "2023-08-11",
          "2023-08-12",
          "2023-08-13",
          "2023-08-14",
          "2023-08-15",
          "2023-08-16",
          "2023-08-17",
          "2023-08-18",
          "2023-08-19",
          "2023-08-20",
          "2023-08-21",
          "2023-08-22",
          "2023-08-23",
          "2023-08-24",
          "2023-08-25",
          "2023-08-26",
          "2023-08-27",
          "2023-08-28",
          "2023-08-29",
          "2023-08-30"
         ],
         "xaxis": "x",
         "y": [
          0,
          0,
          1,
          5,
          7,
          0,
          2,
          10,
          2,
          4,
          2,
          2,
          0,
          1,
          0,
          0,
          5,
          0,
          1,
          0,
          0,
          10,
          15,
          5,
          3,
          1,
          4,
          5,
          4,
          6
         ],
         "yaxis": "y"
        },
        {
         "hovertemplate": "Users=+91 73511 44719<br>Days=%{x}<br>Message count=%{y}<extra></extra>",
         "legendgroup": "+91 73511 44719",
         "line": {
          "color": "#EF553B",
          "dash": "solid"
         },
         "marker": {
          "symbol": "circle"
         },
         "mode": "markers+lines",
         "name": "+91 73511 44719",
         "orientation": "v",
         "showlegend": true,
         "type": "scatter",
         "x": [
          "2023-08-01",
          "2023-08-02",
          "2023-08-03",
          "2023-08-04",
          "2023-08-05",
          "2023-08-06",
          "2023-08-07",
          "2023-08-08",
          "2023-08-09",
          "2023-08-10",
          "2023-08-11",
          "2023-08-12",
          "2023-08-13",
          "2023-08-14",
          "2023-08-15",
          "2023-08-16",
          "2023-08-17",
          "2023-08-18",
          "2023-08-19",
          "2023-08-20",
          "2023-08-21",
          "2023-08-22",
          "2023-08-23",
          "2023-08-24",
          "2023-08-25",
          "2023-08-26",
          "2023-08-27",
          "2023-08-28",
          "2023-08-29",
          "2023-08-30"
         ],
         "xaxis": "x",
         "y": [
          0,
          2,
          1,
          2,
          11,
          0,
          8,
          10,
          0,
          0,
          2,
          4,
          0,
          1,
          2,
          1,
          0,
          1,
          8,
          0,
          1,
          2,
          0,
          4,
          3,
          0,
          0,
          3,
          1,
          0
         ],
         "yaxis": "y"
        },
        {
         "hovertemplate": "Users=Sourabh 7 Mentor<br>Days=%{x}<br>Message count=%{y}<extra></extra>",
         "legendgroup": "Sourabh 7 Mentor",
         "line": {
          "color": "#00cc96",
          "dash": "solid"
         },
         "marker": {
          "symbol": "circle"
         },
         "mode": "markers+lines",
         "name": "Sourabh 7 Mentor",
         "orientation": "v",
         "showlegend": true,
         "type": "scatter",
         "x": [
          "2023-08-01",
          "2023-08-02",
          "2023-08-03",
          "2023-08-04",
          "2023-08-05",
          "2023-08-06",
          "2023-08-07",
          "2023-08-08",
          "2023-08-09",
          "2023-08-10",
          "2023-08-11",
          "2023-08-12",
          "2023-08-13",
          "2023-08-14",
          "2023-08-15",
          "2023-08-16",
          "2023-08-17",
          "2023-08-18",
          "2023-08-19",
          "2023-08-20",
          "2023-08-21",
          "2023-08-22",
          "2023-08-23",
          "2023-08-24",
          "2023-08-25",
          "2023-08-26",
          "2023-08-27",
          "2023-08-28",
          "2023-08-29",
          "2023-08-30"
         ],
         "xaxis": "x",
         "y": [
          0,
          3,
          9,
          8,
          2,
          0,
          0,
          0,
          0,
          0,
          0,
          0,
          0,
          0,
          0,
          0,
          10,
          0,
          4,
          0,
          0,
          0,
          0,
          2,
          0,
          0,
          6,
          0,
          0,
          0
         ],
         "yaxis": "y"
        },
        {
         "hovertemplate": "Users=+91 76784 09427<br>Days=%{x}<br>Message count=%{y}<extra></extra>",
         "legendgroup": "+91 76784 09427",
         "line": {
          "color": "#ab63fa",
          "dash": "solid"
         },
         "marker": {
          "symbol": "circle"
         },
         "mode": "markers+lines",
         "name": "+91 76784 09427",
         "orientation": "v",
         "showlegend": true,
         "type": "scatter",
         "x": [
          "2023-08-01",
          "2023-08-02",
          "2023-08-03",
          "2023-08-04",
          "2023-08-05",
          "2023-08-06",
          "2023-08-07",
          "2023-08-08",
          "2023-08-09",
          "2023-08-10",
          "2023-08-11",
          "2023-08-12",
          "2023-08-13",
          "2023-08-14",
          "2023-08-15",
          "2023-08-16",
          "2023-08-17",
          "2023-08-18",
          "2023-08-19",
          "2023-08-20",
          "2023-08-21",
          "2023-08-22",
          "2023-08-23",
          "2023-08-24",
          "2023-08-25",
          "2023-08-26",
          "2023-08-27",
          "2023-08-28",
          "2023-08-29",
          "2023-08-30"
         ],
         "xaxis": "x",
         "y": [
          0,
          0,
          0,
          0,
          0,
          0,
          0,
          0,
          0,
          0,
          0,
          0,
          0,
          0,
          0,
          0,
          0,
          0,
          0,
          0,
          0,
          0,
          0,
          0,
          0,
          0,
          0,
          0,
          0,
          0
         ],
         "yaxis": "y"
        },
        {
         "hovertemplate": "Users=+91 95235 15421<br>Days=%{x}<br>Message count=%{y}<extra></extra>",
         "legendgroup": "+91 95235 15421",
         "line": {
          "color": "#FFA15A",
          "dash": "solid"
         },
         "marker": {
          "symbol": "circle"
         },
         "mode": "markers+lines",
         "name": "+91 95235 15421",
         "orientation": "v",
         "showlegend": true,
         "type": "scatter",
         "x": [
          "2023-08-01",
          "2023-08-02",
          "2023-08-03",
          "2023-08-04",
          "2023-08-05",
          "2023-08-06",
          "2023-08-07",
          "2023-08-08",
          "2023-08-09",
          "2023-08-10",
          "2023-08-11",
          "2023-08-12",
          "2023-08-13",
          "2023-08-14",
          "2023-08-15",
          "2023-08-16",
          "2023-08-17",
          "2023-08-18",
          "2023-08-19",
          "2023-08-20",
          "2023-08-21",
          "2023-08-22",
          "2023-08-23",
          "2023-08-24",
          "2023-08-25",
          "2023-08-26",
          "2023-08-27",
          "2023-08-28",
          "2023-08-29",
          "2023-08-30"
         ],
         "xaxis": "x",
         "y": [
          0,
          0,
          6,
          1,
          0,
          0,
          0,
          0,
          0,
          0,
          0,
          0,
          0,
          0,
          0,
          0,
          0,
          0,
          0,
          0,
          0,
          0,
          0,
          0,
          0,
          0,
          0,
          0,
          0,
          0
         ],
         "yaxis": "y"
        },
        {
         "hovertemplate": "Users=+91 76888 20220<br>Days=%{x}<br>Message count=%{y}<extra></extra>",
         "legendgroup": "+91 76888 20220",
         "line": {
          "color": "#19d3f3",
          "dash": "solid"
         },
         "marker": {
          "symbol": "circle"
         },
         "mode": "markers+lines",
         "name": "+91 76888 20220",
         "orientation": "v",
         "showlegend": true,
         "type": "scatter",
         "x": [
          "2023-08-01",
          "2023-08-02",
          "2023-08-03",
          "2023-08-04",
          "2023-08-05",
          "2023-08-06",
          "2023-08-07",
          "2023-08-08",
          "2023-08-09",
          "2023-08-10",
          "2023-08-11",
          "2023-08-12",
          "2023-08-13",
          "2023-08-14",
          "2023-08-15",
          "2023-08-16",
          "2023-08-17",
          "2023-08-18",
          "2023-08-19",
          "2023-08-20",
          "2023-08-21",
          "2023-08-22",
          "2023-08-23",
          "2023-08-24",
          "2023-08-25",
          "2023-08-26",
          "2023-08-27",
          "2023-08-28",
          "2023-08-29",
          "2023-08-30"
         ],
         "xaxis": "x",
         "y": [
          0,
          0,
          1,
          0,
          1,
          0,
          0,
          0,
          0,
          0,
          0,
          0,
          0,
          0,
          0,
          0,
          3,
          0,
          0,
          0,
          0,
          0,
          0,
          0,
          0,
          0,
          0,
          0,
          0,
          0
         ],
         "yaxis": "y"
        },
        {
         "hovertemplate": "Users=+91 83079 17347<br>Days=%{x}<br>Message count=%{y}<extra></extra>",
         "legendgroup": "+91 83079 17347",
         "line": {
          "color": "#FF6692",
          "dash": "solid"
         },
         "marker": {
          "symbol": "circle"
         },
         "mode": "markers+lines",
         "name": "+91 83079 17347",
         "orientation": "v",
         "showlegend": true,
         "type": "scatter",
         "x": [
          "2023-08-01",
          "2023-08-02",
          "2023-08-03",
          "2023-08-04",
          "2023-08-05",
          "2023-08-06",
          "2023-08-07",
          "2023-08-08",
          "2023-08-09",
          "2023-08-10",
          "2023-08-11",
          "2023-08-12",
          "2023-08-13",
          "2023-08-14",
          "2023-08-15",
          "2023-08-16",
          "2023-08-17",
          "2023-08-18",
          "2023-08-19",
          "2023-08-20",
          "2023-08-21",
          "2023-08-22",
          "2023-08-23",
          "2023-08-24",
          "2023-08-25",
          "2023-08-26",
          "2023-08-27",
          "2023-08-28",
          "2023-08-29",
          "2023-08-30"
         ],
         "xaxis": "x",
         "y": [
          0,
          0,
          0,
          2,
          1,
          0,
          0,
          0,
          0,
          1,
          3,
          0,
          0,
          0,
          0,
          0,
          0,
          0,
          0,
          0,
          0,
          0,
          0,
          0,
          0,
          0,
          0,
          0,
          0,
          0
         ],
         "yaxis": "y"
        },
        {
         "hovertemplate": "Users=others<br>Days=%{x}<br>Message count=%{y}<extra></extra>",
         "legendgroup": "others",
         "line": {
          "color": "#B6E880",
          "dash": "solid"
         },
         "marker": {
          "symbol": "circle"
         },
         "mode": "markers+lines",
         "name": "others",
         "orientation": "v",
         "showlegend": true,
         "type": "scatter",
         "x": [
          "2023-08-01",
          "2023-08-02",
          "2023-08-03",
          "2023-08-04",
          "2023-08-05",
          "2023-08-06",
          "2023-08-07",
          "2023-08-08",
          "2023-08-09",
          "2023-08-10",
          "2023-08-11",
          "2023-08-12",
          "2023-08-13",
          "2023-08-14",
          "2023-08-15",
          "2023-08-16",
          "2023-08-17",
          "2023-08-18",
          "2023-08-19",
          "2023-08-20",
          "2023-08-21",
          "2023-08-22",
          "2023-08-23",
          "2023-08-24",
          "2023-08-25",
          "2023-08-26",
          "2023-08-27",
          "2023-08-28",
          "2023-08-29",
          "2023-08-30"
         ],
         "xaxis": "x",
         "y": [
          0,
          6,
          66,
          16,
          24,
          0,
          2,
          7,
          1,
          2,
          6,
          5,
          0,
          0,
          0,
          1,
          21,
          0,
          0,
          2,
          0,
          1,
          8,
          4,
          7,
          0,
          0,
          1,
          2,
          11
         ],
         "yaxis": "y"
        }
       ],
       "layout": {
        "legend": {
         "title": {
          "text": "Users"
         },
         "tracegroupgap": 0
        },
        "template": {
         "data": {
          "bar": [
           {
            "error_x": {
             "color": "#2a3f5f"
            },
            "error_y": {
             "color": "#2a3f5f"
            },
            "marker": {
             "line": {
              "color": "#E5ECF6",
              "width": 0.5
             },
             "pattern": {
              "fillmode": "overlay",
              "size": 10,
              "solidity": 0.2
             }
            },
            "type": "bar"
           }
          ],
          "barpolar": [
           {
            "marker": {
             "line": {
              "color": "#E5ECF6",
              "width": 0.5
             },
             "pattern": {
              "fillmode": "overlay",
              "size": 10,
              "solidity": 0.2
             }
            },
            "type": "barpolar"
           }
          ],
          "carpet": [
           {
            "aaxis": {
             "endlinecolor": "#2a3f5f",
             "gridcolor": "white",
             "linecolor": "white",
             "minorgridcolor": "white",
             "startlinecolor": "#2a3f5f"
            },
            "baxis": {
             "endlinecolor": "#2a3f5f",
             "gridcolor": "white",
             "linecolor": "white",
             "minorgridcolor": "white",
             "startlinecolor": "#2a3f5f"
            },
            "type": "carpet"
           }
          ],
          "choropleth": [
           {
            "colorbar": {
             "outlinewidth": 0,
             "ticks": ""
            },
            "type": "choropleth"
           }
          ],
          "contour": [
           {
            "colorbar": {
             "outlinewidth": 0,
             "ticks": ""
            },
            "colorscale": [
             [
              0,
              "#0d0887"
             ],
             [
              0.1111111111111111,
              "#46039f"
             ],
             [
              0.2222222222222222,
              "#7201a8"
             ],
             [
              0.3333333333333333,
              "#9c179e"
             ],
             [
              0.4444444444444444,
              "#bd3786"
             ],
             [
              0.5555555555555556,
              "#d8576b"
             ],
             [
              0.6666666666666666,
              "#ed7953"
             ],
             [
              0.7777777777777778,
              "#fb9f3a"
             ],
             [
              0.8888888888888888,
              "#fdca26"
             ],
             [
              1,
              "#f0f921"
             ]
            ],
            "type": "contour"
           }
          ],
          "contourcarpet": [
           {
            "colorbar": {
             "outlinewidth": 0,
             "ticks": ""
            },
            "type": "contourcarpet"
           }
          ],
          "heatmap": [
           {
            "colorbar": {
             "outlinewidth": 0,
             "ticks": ""
            },
            "colorscale": [
             [
              0,
              "#0d0887"
             ],
             [
              0.1111111111111111,
              "#46039f"
             ],
             [
              0.2222222222222222,
              "#7201a8"
             ],
             [
              0.3333333333333333,
              "#9c179e"
             ],
             [
              0.4444444444444444,
              "#bd3786"
             ],
             [
              0.5555555555555556,
              "#d8576b"
             ],
             [
              0.6666666666666666,
              "#ed7953"
             ],
             [
              0.7777777777777778,
              "#fb9f3a"
             ],
             [
              0.8888888888888888,
              "#fdca26"
             ],
             [
              1,
              "#f0f921"
             ]
            ],
            "type": "heatmap"
           }
          ],
          "heatmapgl": [
           {
            "colorbar": {
             "outlinewidth": 0,
             "ticks": ""
            },
            "colorscale": [
             [
              0,
              "#0d0887"
             ],
             [
              0.1111111111111111,
              "#46039f"
             ],
             [
              0.2222222222222222,
              "#7201a8"
             ],
             [
              0.3333333333333333,
              "#9c179e"
             ],
             [
              0.4444444444444444,
              "#bd3786"
             ],
             [
              0.5555555555555556,
              "#d8576b"
             ],
             [
              0.6666666666666666,
              "#ed7953"
             ],
             [
              0.7777777777777778,
              "#fb9f3a"
             ],
             [
              0.8888888888888888,
              "#fdca26"
             ],
             [
              1,
              "#f0f921"
             ]
            ],
            "type": "heatmapgl"
           }
          ],
          "histogram": [
           {
            "marker": {
             "pattern": {
              "fillmode": "overlay",
              "size": 10,
              "solidity": 0.2
             }
            },
            "type": "histogram"
           }
          ],
          "histogram2d": [
           {
            "colorbar": {
             "outlinewidth": 0,
             "ticks": ""
            },
            "colorscale": [
             [
              0,
              "#0d0887"
             ],
             [
              0.1111111111111111,
              "#46039f"
             ],
             [
              0.2222222222222222,
              "#7201a8"
             ],
             [
              0.3333333333333333,
              "#9c179e"
             ],
             [
              0.4444444444444444,
              "#bd3786"
             ],
             [
              0.5555555555555556,
              "#d8576b"
             ],
             [
              0.6666666666666666,
              "#ed7953"
             ],
             [
              0.7777777777777778,
              "#fb9f3a"
             ],
             [
              0.8888888888888888,
              "#fdca26"
             ],
             [
              1,
              "#f0f921"
             ]
            ],
            "type": "histogram2d"
           }
          ],
          "histogram2dcontour": [
           {
            "colorbar": {
             "outlinewidth": 0,
             "ticks": ""
            },
            "colorscale": [
             [
              0,
              "#0d0887"
             ],
             [
              0.1111111111111111,
              "#46039f"
             ],
             [
              0.2222222222222222,
              "#7201a8"
             ],
             [
              0.3333333333333333,
              "#9c179e"
             ],
             [
              0.4444444444444444,
              "#bd3786"
             ],
             [
              0.5555555555555556,
              "#d8576b"
             ],
             [
              0.6666666666666666,
              "#ed7953"
             ],
             [
              0.7777777777777778,
              "#fb9f3a"
             ],
             [
              0.8888888888888888,
              "#fdca26"
             ],
             [
              1,
              "#f0f921"
             ]
            ],
            "type": "histogram2dcontour"
           }
          ],
          "mesh3d": [
           {
            "colorbar": {
             "outlinewidth": 0,
             "ticks": ""
            },
            "type": "mesh3d"
           }
          ],
          "parcoords": [
           {
            "line": {
             "colorbar": {
              "outlinewidth": 0,
              "ticks": ""
             }
            },
            "type": "parcoords"
           }
          ],
          "pie": [
           {
            "automargin": true,
            "type": "pie"
           }
          ],
          "scatter": [
           {
            "fillpattern": {
             "fillmode": "overlay",
             "size": 10,
             "solidity": 0.2
            },
            "type": "scatter"
           }
          ],
          "scatter3d": [
           {
            "line": {
             "colorbar": {
              "outlinewidth": 0,
              "ticks": ""
             }
            },
            "marker": {
             "colorbar": {
              "outlinewidth": 0,
              "ticks": ""
             }
            },
            "type": "scatter3d"
           }
          ],
          "scattercarpet": [
           {
            "marker": {
             "colorbar": {
              "outlinewidth": 0,
              "ticks": ""
             }
            },
            "type": "scattercarpet"
           }
          ],
          "scattergeo": [
           {
            "marker": {
             "colorbar": {
              "outlinewidth": 0,
              "ticks": ""
             }
            },
            "type": "scattergeo"
           }
          ],
          "scattergl": [
           {
            "marker": {
             "colorbar": {
              "outlinewidth": 0,
              "ticks": ""
             }
            },
            "type": "scattergl"
           }
          ],
          "scattermapbox": [
           {
            "marker": {
             "colorbar": {
              "outlinewidth": 0,
              "ticks": ""
             }
            },
            "type": "scattermapbox"
           }
          ],
          "scatterpolar": [
           {
            "marker": {
             "colorbar": {
              "outlinewidth": 0,
              "ticks": ""
             }
            },
            "type": "scatterpolar"
           }
          ],
          "scatterpolargl": [
           {
            "marker": {
             "colorbar": {
              "outlinewidth": 0,
              "ticks": ""
             }
            },
            "type": "scatterpolargl"
           }
          ],
          "scatterternary": [
           {
            "marker": {
             "colorbar": {
              "outlinewidth": 0,
              "ticks": ""
             }
            },
            "type": "scatterternary"
           }
          ],
          "surface": [
           {
            "colorbar": {
             "outlinewidth": 0,
             "ticks": ""
            },
            "colorscale": [
             [
              0,
              "#0d0887"
             ],
             [
              0.1111111111111111,
              "#46039f"
             ],
             [
              0.2222222222222222,
              "#7201a8"
             ],
             [
              0.3333333333333333,
              "#9c179e"
             ],
             [
              0.4444444444444444,
              "#bd3786"
             ],
             [
              0.5555555555555556,
              "#d8576b"
             ],
             [
              0.6666666666666666,
              "#ed7953"
             ],
             [
              0.7777777777777778,
              "#fb9f3a"
             ],
             [
              0.8888888888888888,
              "#fdca26"
             ],
             [
              1,
              "#f0f921"
             ]
            ],
            "type": "surface"
           }
          ],
          "table": [
           {
            "cells": {
             "fill": {
              "color": "#EBF0F8"
             },
             "line": {
              "color": "white"
             }
            },
            "header": {
             "fill": {
              "color": "#C8D4E3"
             },
             "line": {
              "color": "white"
             }
            },
            "type": "table"
           }
          ]
         },
         "layout": {
          "annotationdefaults": {
           "arrowcolor": "#2a3f5f",
           "arrowhead": 0,
           "arrowwidth": 1
          },
          "autotypenumbers": "strict",
          "coloraxis": {
           "colorbar": {
            "outlinewidth": 0,
            "ticks": ""
           }
          },
          "colorscale": {
           "diverging": [
            [
             0,
             "#8e0152"
            ],
            [
             0.1,
             "#c51b7d"
            ],
            [
             0.2,
             "#de77ae"
            ],
            [
             0.3,
             "#f1b6da"
            ],
            [
             0.4,
             "#fde0ef"
            ],
            [
             0.5,
             "#f7f7f7"
            ],
            [
             0.6,
             "#e6f5d0"
            ],
            [
             0.7,
             "#b8e186"
            ],
            [
             0.8,
             "#7fbc41"
            ],
            [
             0.9,
             "#4d9221"
            ],
            [
             1,
             "#276419"
            ]
           ],
           "sequential": [
            [
             0,
             "#0d0887"
            ],
            [
             0.1111111111111111,
             "#46039f"
            ],
            [
             0.2222222222222222,
             "#7201a8"
            ],
            [
             0.3333333333333333,
             "#9c179e"
            ],
            [
             0.4444444444444444,
             "#bd3786"
            ],
            [
             0.5555555555555556,
             "#d8576b"
            ],
            [
             0.6666666666666666,
             "#ed7953"
            ],
            [
             0.7777777777777778,
             "#fb9f3a"
            ],
            [
             0.8888888888888888,
             "#fdca26"
            ],
            [
             1,
             "#f0f921"
            ]
           ],
           "sequentialminus": [
            [
             0,
             "#0d0887"
            ],
            [
             0.1111111111111111,
             "#46039f"
            ],
            [
             0.2222222222222222,
             "#7201a8"
            ],
            [
             0.3333333333333333,
             "#9c179e"
            ],
            [
             0.4444444444444444,
             "#bd3786"
            ],
            [
             0.5555555555555556,
             "#d8576b"
            ],
            [
             0.6666666666666666,
             "#ed7953"
            ],
            [
             0.7777777777777778,
             "#fb9f3a"
            ],
            [
             0.8888888888888888,
             "#fdca26"
            ],
            [
             1,
             "#f0f921"
            ]
           ]
          },
          "colorway": [
           "#636efa",
           "#EF553B",
           "#00cc96",
           "#ab63fa",
           "#FFA15A",
           "#19d3f3",
           "#FF6692",
           "#B6E880",
           "#FF97FF",
           "#FECB52"
          ],
          "font": {
           "color": "#2a3f5f"
          },
          "geo": {
           "bgcolor": "white",
           "lakecolor": "white",
           "landcolor": "#E5ECF6",
           "showlakes": true,
           "showland": true,
           "subunitcolor": "white"
          },
          "hoverlabel": {
           "align": "left"
          },
          "hovermode": "closest",
          "mapbox": {
           "style": "light"
          },
          "paper_bgcolor": "white",
          "plot_bgcolor": "#E5ECF6",
          "polar": {
           "angularaxis": {
            "gridcolor": "white",
            "linecolor": "white",
            "ticks": ""
           },
           "bgcolor": "#E5ECF6",
           "radialaxis": {
            "gridcolor": "white",
            "linecolor": "white",
            "ticks": ""
           }
          },
          "scene": {
           "xaxis": {
            "backgroundcolor": "#E5ECF6",
            "gridcolor": "white",
            "gridwidth": 2,
            "linecolor": "white",
            "showbackground": true,
            "ticks": "",
            "zerolinecolor": "white"
           },
           "yaxis": {
            "backgroundcolor": "#E5ECF6",
            "gridcolor": "white",
            "gridwidth": 2,
            "linecolor": "white",
            "showbackground": true,
            "ticks": "",
            "zerolinecolor": "white"
           },
           "zaxis": {
            "backgroundcolor": "#E5ECF6",
            "gridcolor": "white",
            "gridwidth": 2,
            "linecolor": "white",
            "showbackground": true,
            "ticks": "",
            "zerolinecolor": "white"
           }
          },
          "shapedefaults": {
           "line": {
            "color": "#2a3f5f"
           }
          },
          "ternary": {
           "aaxis": {
            "gridcolor": "white",
            "linecolor": "white",
            "ticks": ""
           },
           "baxis": {
            "gridcolor": "white",
            "linecolor": "white",
            "ticks": ""
           },
           "bgcolor": "#E5ECF6",
           "caxis": {
            "gridcolor": "white",
            "linecolor": "white",
            "ticks": ""
           }
          },
          "title": {
           "x": 0.05
          },
          "xaxis": {
           "automargin": true,
           "gridcolor": "white",
           "linecolor": "white",
           "ticks": "",
           "title": {
            "standoff": 15
           },
           "zerolinecolor": "white",
           "zerolinewidth": 2
          },
          "yaxis": {
           "automargin": true,
           "gridcolor": "white",
           "linecolor": "white",
           "ticks": "",
           "title": {
            "standoff": 15
           },
           "zerolinecolor": "white",
           "zerolinewidth": 2
          }
         }
        },
        "title": {
         "text": "Days timeline"
        },
        "xaxis": {
         "anchor": "y",
         "domain": [
          0,
          1
         ],
         "rangeslider": {
          "visible": true
         },
         "title": {
          "text": "Days"
         }
        },
        "yaxis": {
         "anchor": "x",
         "domain": [
          0,
          1
         ],
         "title": {
          "text": "Message count"
         }
        }
       }
      }
     },
     "metadata": {},
     "output_type": "display_data"
    },
    {
     "data": {
      "application/vnd.plotly.v1+json": {
       "config": {
        "plotlyServerURL": "https://plot.ly"
       },
       "data": [
        {
         "hovertemplate": "Users=Avantika CR 7sem<br>Hours=%{x}<br>Message count=%{y}<extra></extra>",
         "legendgroup": "Avantika CR 7sem",
         "line": {
          "color": "#636efa",
          "dash": "solid"
         },
         "marker": {
          "symbol": "circle"
         },
         "mode": "markers+lines",
         "name": "Avantika CR 7sem",
         "orientation": "v",
         "showlegend": true,
         "type": "scatter",
         "x": [
          "2023-08-03T10:00:00",
          "2023-08-03T11:00:00",
          "2023-08-03T12:00:00",
          "2023-08-03T13:00:00",
          "2023-08-03T14:00:00",
          "2023-08-03T15:00:00",
          "2023-08-03T16:00:00",
          "2023-08-03T17:00:00",
          "2023-08-03T18:00:00",
          "2023-08-03T19:00:00",
          "2023-08-03T20:00:00"
         ],
         "xaxis": "x",
         "y": [
          0,
          0,
          0,
          0,
          0,
          0,
          0,
          0,
          0,
          0,
          0
         ],
         "yaxis": "y"
        },
        {
         "hovertemplate": "Users=+91 73511 44719<br>Hours=%{x}<br>Message count=%{y}<extra></extra>",
         "legendgroup": "+91 73511 44719",
         "line": {
          "color": "#EF553B",
          "dash": "solid"
         },
         "marker": {
          "symbol": "circle"
         },
         "mode": "markers+lines",
         "name": "+91 73511 44719",
         "orientation": "v",
         "showlegend": true,
         "type": "scatter",
         "x": [
          "2023-08-03T10:00:00",
          "2023-08-03T11:00:00",
          "2023-08-03T12:00:00",
          "2023-08-03T13:00:00",
          "2023-08-03T14:00:00",
          "2023-08-03T15:00:00",
          "2023-08-03T16:00:00",
          "2023-08-03T17:00:00",
          "2023-08-03T18:00:00",
          "2023-08-03T19:00:00",
          "2023-08-03T20:00:00"
         ],
         "xaxis": "x",
         "y": [
          0,
          1,
          0,
          0,
          0,
          0,
          0,
          0,
          0,
          0,
          0
         ],
         "yaxis": "y"
        },
        {
         "hovertemplate": "Users=Sourabh 7 Mentor<br>Hours=%{x}<br>Message count=%{y}<extra></extra>",
         "legendgroup": "Sourabh 7 Mentor",
         "line": {
          "color": "#00cc96",
          "dash": "solid"
         },
         "marker": {
          "symbol": "circle"
         },
         "mode": "markers+lines",
         "name": "Sourabh 7 Mentor",
         "orientation": "v",
         "showlegend": true,
         "type": "scatter",
         "x": [
          "2023-08-03T10:00:00",
          "2023-08-03T11:00:00",
          "2023-08-03T12:00:00",
          "2023-08-03T13:00:00",
          "2023-08-03T14:00:00",
          "2023-08-03T15:00:00",
          "2023-08-03T16:00:00",
          "2023-08-03T17:00:00",
          "2023-08-03T18:00:00",
          "2023-08-03T19:00:00",
          "2023-08-03T20:00:00"
         ],
         "xaxis": "x",
         "y": [
          0,
          2,
          1,
          0,
          0,
          0,
          0,
          0,
          0,
          0,
          0
         ],
         "yaxis": "y"
        },
        {
         "hovertemplate": "Users=+91 76784 09427<br>Hours=%{x}<br>Message count=%{y}<extra></extra>",
         "legendgroup": "+91 76784 09427",
         "line": {
          "color": "#ab63fa",
          "dash": "solid"
         },
         "marker": {
          "symbol": "circle"
         },
         "mode": "markers+lines",
         "name": "+91 76784 09427",
         "orientation": "v",
         "showlegend": true,
         "type": "scatter",
         "x": [
          "2023-08-03T10:00:00",
          "2023-08-03T11:00:00",
          "2023-08-03T12:00:00",
          "2023-08-03T13:00:00",
          "2023-08-03T14:00:00",
          "2023-08-03T15:00:00",
          "2023-08-03T16:00:00",
          "2023-08-03T17:00:00",
          "2023-08-03T18:00:00",
          "2023-08-03T19:00:00",
          "2023-08-03T20:00:00"
         ],
         "xaxis": "x",
         "y": [
          0,
          0,
          0,
          0,
          0,
          0,
          0,
          0,
          0,
          0,
          0
         ],
         "yaxis": "y"
        },
        {
         "hovertemplate": "Users=+91 95235 15421<br>Hours=%{x}<br>Message count=%{y}<extra></extra>",
         "legendgroup": "+91 95235 15421",
         "line": {
          "color": "#FFA15A",
          "dash": "solid"
         },
         "marker": {
          "symbol": "circle"
         },
         "mode": "markers+lines",
         "name": "+91 95235 15421",
         "orientation": "v",
         "showlegend": true,
         "type": "scatter",
         "x": [
          "2023-08-03T10:00:00",
          "2023-08-03T11:00:00",
          "2023-08-03T12:00:00",
          "2023-08-03T13:00:00",
          "2023-08-03T14:00:00",
          "2023-08-03T15:00:00",
          "2023-08-03T16:00:00",
          "2023-08-03T17:00:00",
          "2023-08-03T18:00:00",
          "2023-08-03T19:00:00",
          "2023-08-03T20:00:00"
         ],
         "xaxis": "x",
         "y": [
          2,
          0,
          2,
          0,
          0,
          0,
          0,
          0,
          0,
          0,
          0
         ],
         "yaxis": "y"
        },
        {
         "hovertemplate": "Users=+91 76888 20220<br>Hours=%{x}<br>Message count=%{y}<extra></extra>",
         "legendgroup": "+91 76888 20220",
         "line": {
          "color": "#19d3f3",
          "dash": "solid"
         },
         "marker": {
          "symbol": "circle"
         },
         "mode": "markers+lines",
         "name": "+91 76888 20220",
         "orientation": "v",
         "showlegend": true,
         "type": "scatter",
         "x": [
          "2023-08-03T10:00:00",
          "2023-08-03T11:00:00",
          "2023-08-03T12:00:00",
          "2023-08-03T13:00:00",
          "2023-08-03T14:00:00",
          "2023-08-03T15:00:00",
          "2023-08-03T16:00:00",
          "2023-08-03T17:00:00",
          "2023-08-03T18:00:00",
          "2023-08-03T19:00:00",
          "2023-08-03T20:00:00"
         ],
         "xaxis": "x",
         "y": [
          0,
          1,
          0,
          0,
          0,
          0,
          0,
          0,
          0,
          0,
          0
         ],
         "yaxis": "y"
        },
        {
         "hovertemplate": "Users=+91 83079 17347<br>Hours=%{x}<br>Message count=%{y}<extra></extra>",
         "legendgroup": "+91 83079 17347",
         "line": {
          "color": "#FF6692",
          "dash": "solid"
         },
         "marker": {
          "symbol": "circle"
         },
         "mode": "markers+lines",
         "name": "+91 83079 17347",
         "orientation": "v",
         "showlegend": true,
         "type": "scatter",
         "x": [
          "2023-08-03T10:00:00",
          "2023-08-03T11:00:00",
          "2023-08-03T12:00:00",
          "2023-08-03T13:00:00",
          "2023-08-03T14:00:00",
          "2023-08-03T15:00:00",
          "2023-08-03T16:00:00",
          "2023-08-03T17:00:00",
          "2023-08-03T18:00:00",
          "2023-08-03T19:00:00",
          "2023-08-03T20:00:00"
         ],
         "xaxis": "x",
         "y": [
          0,
          0,
          0,
          0,
          0,
          0,
          0,
          0,
          0,
          0,
          0
         ],
         "yaxis": "y"
        },
        {
         "hovertemplate": "Users=others<br>Hours=%{x}<br>Message count=%{y}<extra></extra>",
         "legendgroup": "others",
         "line": {
          "color": "#B6E880",
          "dash": "solid"
         },
         "marker": {
          "symbol": "circle"
         },
         "mode": "markers+lines",
         "name": "others",
         "orientation": "v",
         "showlegend": true,
         "type": "scatter",
         "x": [
          "2023-08-03T10:00:00",
          "2023-08-03T11:00:00",
          "2023-08-03T12:00:00",
          "2023-08-03T13:00:00",
          "2023-08-03T14:00:00",
          "2023-08-03T15:00:00",
          "2023-08-03T16:00:00",
          "2023-08-03T17:00:00",
          "2023-08-03T18:00:00",
          "2023-08-03T19:00:00",
          "2023-08-03T20:00:00"
         ],
         "xaxis": "x",
         "y": [
          4,
          19,
          11,
          0,
          0,
          0,
          0,
          0,
          0,
          0,
          0
         ],
         "yaxis": "y"
        }
       ],
       "layout": {
        "legend": {
         "title": {
          "text": "Users"
         },
         "tracegroupgap": 0
        },
        "template": {
         "data": {
          "bar": [
           {
            "error_x": {
             "color": "#2a3f5f"
            },
            "error_y": {
             "color": "#2a3f5f"
            },
            "marker": {
             "line": {
              "color": "#E5ECF6",
              "width": 0.5
             },
             "pattern": {
              "fillmode": "overlay",
              "size": 10,
              "solidity": 0.2
             }
            },
            "type": "bar"
           }
          ],
          "barpolar": [
           {
            "marker": {
             "line": {
              "color": "#E5ECF6",
              "width": 0.5
             },
             "pattern": {
              "fillmode": "overlay",
              "size": 10,
              "solidity": 0.2
             }
            },
            "type": "barpolar"
           }
          ],
          "carpet": [
           {
            "aaxis": {
             "endlinecolor": "#2a3f5f",
             "gridcolor": "white",
             "linecolor": "white",
             "minorgridcolor": "white",
             "startlinecolor": "#2a3f5f"
            },
            "baxis": {
             "endlinecolor": "#2a3f5f",
             "gridcolor": "white",
             "linecolor": "white",
             "minorgridcolor": "white",
             "startlinecolor": "#2a3f5f"
            },
            "type": "carpet"
           }
          ],
          "choropleth": [
           {
            "colorbar": {
             "outlinewidth": 0,
             "ticks": ""
            },
            "type": "choropleth"
           }
          ],
          "contour": [
           {
            "colorbar": {
             "outlinewidth": 0,
             "ticks": ""
            },
            "colorscale": [
             [
              0,
              "#0d0887"
             ],
             [
              0.1111111111111111,
              "#46039f"
             ],
             [
              0.2222222222222222,
              "#7201a8"
             ],
             [
              0.3333333333333333,
              "#9c179e"
             ],
             [
              0.4444444444444444,
              "#bd3786"
             ],
             [
              0.5555555555555556,
              "#d8576b"
             ],
             [
              0.6666666666666666,
              "#ed7953"
             ],
             [
              0.7777777777777778,
              "#fb9f3a"
             ],
             [
              0.8888888888888888,
              "#fdca26"
             ],
             [
              1,
              "#f0f921"
             ]
            ],
            "type": "contour"
           }
          ],
          "contourcarpet": [
           {
            "colorbar": {
             "outlinewidth": 0,
             "ticks": ""
            },
            "type": "contourcarpet"
           }
          ],
          "heatmap": [
           {
            "colorbar": {
             "outlinewidth": 0,
             "ticks": ""
            },
            "colorscale": [
             [
              0,
              "#0d0887"
             ],
             [
              0.1111111111111111,
              "#46039f"
             ],
             [
              0.2222222222222222,
              "#7201a8"
             ],
             [
              0.3333333333333333,
              "#9c179e"
             ],
             [
              0.4444444444444444,
              "#bd3786"
             ],
             [
              0.5555555555555556,
              "#d8576b"
             ],
             [
              0.6666666666666666,
              "#ed7953"
             ],
             [
              0.7777777777777778,
              "#fb9f3a"
             ],
             [
              0.8888888888888888,
              "#fdca26"
             ],
             [
              1,
              "#f0f921"
             ]
            ],
            "type": "heatmap"
           }
          ],
          "heatmapgl": [
           {
            "colorbar": {
             "outlinewidth": 0,
             "ticks": ""
            },
            "colorscale": [
             [
              0,
              "#0d0887"
             ],
             [
              0.1111111111111111,
              "#46039f"
             ],
             [
              0.2222222222222222,
              "#7201a8"
             ],
             [
              0.3333333333333333,
              "#9c179e"
             ],
             [
              0.4444444444444444,
              "#bd3786"
             ],
             [
              0.5555555555555556,
              "#d8576b"
             ],
             [
              0.6666666666666666,
              "#ed7953"
             ],
             [
              0.7777777777777778,
              "#fb9f3a"
             ],
             [
              0.8888888888888888,
              "#fdca26"
             ],
             [
              1,
              "#f0f921"
             ]
            ],
            "type": "heatmapgl"
           }
          ],
          "histogram": [
           {
            "marker": {
             "pattern": {
              "fillmode": "overlay",
              "size": 10,
              "solidity": 0.2
             }
            },
            "type": "histogram"
           }
          ],
          "histogram2d": [
           {
            "colorbar": {
             "outlinewidth": 0,
             "ticks": ""
            },
            "colorscale": [
             [
              0,
              "#0d0887"
             ],
             [
              0.1111111111111111,
              "#46039f"
             ],
             [
              0.2222222222222222,
              "#7201a8"
             ],
             [
              0.3333333333333333,
              "#9c179e"
             ],
             [
              0.4444444444444444,
              "#bd3786"
             ],
             [
              0.5555555555555556,
              "#d8576b"
             ],
             [
              0.6666666666666666,
              "#ed7953"
             ],
             [
              0.7777777777777778,
              "#fb9f3a"
             ],
             [
              0.8888888888888888,
              "#fdca26"
             ],
             [
              1,
              "#f0f921"
             ]
            ],
            "type": "histogram2d"
           }
          ],
          "histogram2dcontour": [
           {
            "colorbar": {
             "outlinewidth": 0,
             "ticks": ""
            },
            "colorscale": [
             [
              0,
              "#0d0887"
             ],
             [
              0.1111111111111111,
              "#46039f"
             ],
             [
              0.2222222222222222,
              "#7201a8"
             ],
             [
              0.3333333333333333,
              "#9c179e"
             ],
             [
              0.4444444444444444,
              "#bd3786"
             ],
             [
              0.5555555555555556,
              "#d8576b"
             ],
             [
              0.6666666666666666,
              "#ed7953"
             ],
             [
              0.7777777777777778,
              "#fb9f3a"
             ],
             [
              0.8888888888888888,
              "#fdca26"
             ],
             [
              1,
              "#f0f921"
             ]
            ],
            "type": "histogram2dcontour"
           }
          ],
          "mesh3d": [
           {
            "colorbar": {
             "outlinewidth": 0,
             "ticks": ""
            },
            "type": "mesh3d"
           }
          ],
          "parcoords": [
           {
            "line": {
             "colorbar": {
              "outlinewidth": 0,
              "ticks": ""
             }
            },
            "type": "parcoords"
           }
          ],
          "pie": [
           {
            "automargin": true,
            "type": "pie"
           }
          ],
          "scatter": [
           {
            "fillpattern": {
             "fillmode": "overlay",
             "size": 10,
             "solidity": 0.2
            },
            "type": "scatter"
           }
          ],
          "scatter3d": [
           {
            "line": {
             "colorbar": {
              "outlinewidth": 0,
              "ticks": ""
             }
            },
            "marker": {
             "colorbar": {
              "outlinewidth": 0,
              "ticks": ""
             }
            },
            "type": "scatter3d"
           }
          ],
          "scattercarpet": [
           {
            "marker": {
             "colorbar": {
              "outlinewidth": 0,
              "ticks": ""
             }
            },
            "type": "scattercarpet"
           }
          ],
          "scattergeo": [
           {
            "marker": {
             "colorbar": {
              "outlinewidth": 0,
              "ticks": ""
             }
            },
            "type": "scattergeo"
           }
          ],
          "scattergl": [
           {
            "marker": {
             "colorbar": {
              "outlinewidth": 0,
              "ticks": ""
             }
            },
            "type": "scattergl"
           }
          ],
          "scattermapbox": [
           {
            "marker": {
             "colorbar": {
              "outlinewidth": 0,
              "ticks": ""
             }
            },
            "type": "scattermapbox"
           }
          ],
          "scatterpolar": [
           {
            "marker": {
             "colorbar": {
              "outlinewidth": 0,
              "ticks": ""
             }
            },
            "type": "scatterpolar"
           }
          ],
          "scatterpolargl": [
           {
            "marker": {
             "colorbar": {
              "outlinewidth": 0,
              "ticks": ""
             }
            },
            "type": "scatterpolargl"
           }
          ],
          "scatterternary": [
           {
            "marker": {
             "colorbar": {
              "outlinewidth": 0,
              "ticks": ""
             }
            },
            "type": "scatterternary"
           }
          ],
          "surface": [
           {
            "colorbar": {
             "outlinewidth": 0,
             "ticks": ""
            },
            "colorscale": [
             [
              0,
              "#0d0887"
             ],
             [
              0.1111111111111111,
              "#46039f"
             ],
             [
              0.2222222222222222,
              "#7201a8"
             ],
             [
              0.3333333333333333,
              "#9c179e"
             ],
             [
              0.4444444444444444,
              "#bd3786"
             ],
             [
              0.5555555555555556,
              "#d8576b"
             ],
             [
              0.6666666666666666,
              "#ed7953"
             ],
             [
              0.7777777777777778,
              "#fb9f3a"
             ],
             [
              0.8888888888888888,
              "#fdca26"
             ],
             [
              1,
              "#f0f921"
             ]
            ],
            "type": "surface"
           }
          ],
          "table": [
           {
            "cells": {
             "fill": {
              "color": "#EBF0F8"
             },
             "line": {
              "color": "white"
             }
            },
            "header": {
             "fill": {
              "color": "#C8D4E3"
             },
             "line": {
              "color": "white"
             }
            },
            "type": "table"
           }
          ]
         },
         "layout": {
          "annotationdefaults": {
           "arrowcolor": "#2a3f5f",
           "arrowhead": 0,
           "arrowwidth": 1
          },
          "autotypenumbers": "strict",
          "coloraxis": {
           "colorbar": {
            "outlinewidth": 0,
            "ticks": ""
           }
          },
          "colorscale": {
           "diverging": [
            [
             0,
             "#8e0152"
            ],
            [
             0.1,
             "#c51b7d"
            ],
            [
             0.2,
             "#de77ae"
            ],
            [
             0.3,
             "#f1b6da"
            ],
            [
             0.4,
             "#fde0ef"
            ],
            [
             0.5,
             "#f7f7f7"
            ],
            [
             0.6,
             "#e6f5d0"
            ],
            [
             0.7,
             "#b8e186"
            ],
            [
             0.8,
             "#7fbc41"
            ],
            [
             0.9,
             "#4d9221"
            ],
            [
             1,
             "#276419"
            ]
           ],
           "sequential": [
            [
             0,
             "#0d0887"
            ],
            [
             0.1111111111111111,
             "#46039f"
            ],
            [
             0.2222222222222222,
             "#7201a8"
            ],
            [
             0.3333333333333333,
             "#9c179e"
            ],
            [
             0.4444444444444444,
             "#bd3786"
            ],
            [
             0.5555555555555556,
             "#d8576b"
            ],
            [
             0.6666666666666666,
             "#ed7953"
            ],
            [
             0.7777777777777778,
             "#fb9f3a"
            ],
            [
             0.8888888888888888,
             "#fdca26"
            ],
            [
             1,
             "#f0f921"
            ]
           ],
           "sequentialminus": [
            [
             0,
             "#0d0887"
            ],
            [
             0.1111111111111111,
             "#46039f"
            ],
            [
             0.2222222222222222,
             "#7201a8"
            ],
            [
             0.3333333333333333,
             "#9c179e"
            ],
            [
             0.4444444444444444,
             "#bd3786"
            ],
            [
             0.5555555555555556,
             "#d8576b"
            ],
            [
             0.6666666666666666,
             "#ed7953"
            ],
            [
             0.7777777777777778,
             "#fb9f3a"
            ],
            [
             0.8888888888888888,
             "#fdca26"
            ],
            [
             1,
             "#f0f921"
            ]
           ]
          },
          "colorway": [
           "#636efa",
           "#EF553B",
           "#00cc96",
           "#ab63fa",
           "#FFA15A",
           "#19d3f3",
           "#FF6692",
           "#B6E880",
           "#FF97FF",
           "#FECB52"
          ],
          "font": {
           "color": "#2a3f5f"
          },
          "geo": {
           "bgcolor": "white",
           "lakecolor": "white",
           "landcolor": "#E5ECF6",
           "showlakes": true,
           "showland": true,
           "subunitcolor": "white"
          },
          "hoverlabel": {
           "align": "left"
          },
          "hovermode": "closest",
          "mapbox": {
           "style": "light"
          },
          "paper_bgcolor": "white",
          "plot_bgcolor": "#E5ECF6",
          "polar": {
           "angularaxis": {
            "gridcolor": "white",
            "linecolor": "white",
            "ticks": ""
           },
           "bgcolor": "#E5ECF6",
           "radialaxis": {
            "gridcolor": "white",
            "linecolor": "white",
            "ticks": ""
           }
          },
          "scene": {
           "xaxis": {
            "backgroundcolor": "#E5ECF6",
            "gridcolor": "white",
            "gridwidth": 2,
            "linecolor": "white",
            "showbackground": true,
            "ticks": "",
            "zerolinecolor": "white"
           },
           "yaxis": {
            "backgroundcolor": "#E5ECF6",
            "gridcolor": "white",
            "gridwidth": 2,
            "linecolor": "white",
            "showbackground": true,
            "ticks": "",
            "zerolinecolor": "white"
           },
           "zaxis": {
            "backgroundcolor": "#E5ECF6",
            "gridcolor": "white",
            "gridwidth": 2,
            "linecolor": "white",
            "showbackground": true,
            "ticks": "",
            "zerolinecolor": "white"
           }
          },
          "shapedefaults": {
           "line": {
            "color": "#2a3f5f"
           }
          },
          "ternary": {
           "aaxis": {
            "gridcolor": "white",
            "linecolor": "white",
            "ticks": ""
           },
           "baxis": {
            "gridcolor": "white",
            "linecolor": "white",
            "ticks": ""
           },
           "bgcolor": "#E5ECF6",
           "caxis": {
            "gridcolor": "white",
            "linecolor": "white",
            "ticks": ""
           }
          },
          "title": {
           "x": 0.05
          },
          "xaxis": {
           "automargin": true,
           "gridcolor": "white",
           "linecolor": "white",
           "ticks": "",
           "title": {
            "standoff": 15
           },
           "zerolinecolor": "white",
           "zerolinewidth": 2
          },
          "yaxis": {
           "automargin": true,
           "gridcolor": "white",
           "linecolor": "white",
           "ticks": "",
           "title": {
            "standoff": 15
           },
           "zerolinecolor": "white",
           "zerolinewidth": 2
          }
         }
        },
        "title": {
         "text": "Hours timeline"
        },
        "xaxis": {
         "anchor": "y",
         "domain": [
          0,
          1
         ],
         "rangeslider": {
          "visible": true
         },
         "title": {
          "text": "Hours"
         }
        },
        "yaxis": {
         "anchor": "x",
         "domain": [
          0,
          1
         ],
         "title": {
          "text": "Message count"
         }
        }
       }
      }
     },
     "metadata": {},
     "output_type": "display_data"
    },
    {
     "data": {
      "application/vnd.plotly.v1+json": {
       "config": {
        "plotlyServerURL": "https://plot.ly"
       },
       "data": [
        {
         "hovertemplate": "Users=Avantika CR 7sem<br>Minutes=%{x}<br>Message count=%{y}<extra></extra>",
         "legendgroup": "Avantika CR 7sem",
         "line": {
          "color": "#636efa",
          "dash": "solid"
         },
         "marker": {
          "symbol": "circle"
         },
         "mode": "markers+lines",
         "name": "Avantika CR 7sem",
         "orientation": "v",
         "showlegend": true,
         "type": "scatter",
         "x": [
          "2023-08-03T10:00:00",
          "2023-08-03T10:01:00",
          "2023-08-03T10:02:00",
          "2023-08-03T10:03:00",
          "2023-08-03T10:04:00",
          "2023-08-03T10:05:00",
          "2023-08-03T10:06:00",
          "2023-08-03T10:07:00",
          "2023-08-03T10:08:00",
          "2023-08-03T10:09:00",
          "2023-08-03T10:10:00",
          "2023-08-03T10:11:00",
          "2023-08-03T10:12:00",
          "2023-08-03T10:13:00",
          "2023-08-03T10:14:00",
          "2023-08-03T10:15:00",
          "2023-08-03T10:16:00",
          "2023-08-03T10:17:00",
          "2023-08-03T10:18:00",
          "2023-08-03T10:19:00",
          "2023-08-03T10:20:00",
          "2023-08-03T10:21:00",
          "2023-08-03T10:22:00",
          "2023-08-03T10:23:00",
          "2023-08-03T10:24:00",
          "2023-08-03T10:25:00",
          "2023-08-03T10:26:00",
          "2023-08-03T10:27:00",
          "2023-08-03T10:28:00",
          "2023-08-03T10:29:00",
          "2023-08-03T10:30:00",
          "2023-08-03T10:31:00",
          "2023-08-03T10:32:00",
          "2023-08-03T10:33:00",
          "2023-08-03T10:34:00",
          "2023-08-03T10:35:00",
          "2023-08-03T10:36:00",
          "2023-08-03T10:37:00",
          "2023-08-03T10:38:00",
          "2023-08-03T10:39:00",
          "2023-08-03T10:40:00",
          "2023-08-03T10:41:00",
          "2023-08-03T10:42:00",
          "2023-08-03T10:43:00",
          "2023-08-03T10:44:00",
          "2023-08-03T10:45:00",
          "2023-08-03T10:46:00",
          "2023-08-03T10:47:00",
          "2023-08-03T10:48:00",
          "2023-08-03T10:49:00",
          "2023-08-03T10:50:00",
          "2023-08-03T10:51:00",
          "2023-08-03T10:52:00",
          "2023-08-03T10:53:00",
          "2023-08-03T10:54:00",
          "2023-08-03T10:55:00",
          "2023-08-03T10:56:00",
          "2023-08-03T10:57:00",
          "2023-08-03T10:58:00",
          "2023-08-03T10:59:00",
          "2023-08-03T11:00:00",
          "2023-08-03T11:01:00",
          "2023-08-03T11:02:00",
          "2023-08-03T11:03:00",
          "2023-08-03T11:04:00",
          "2023-08-03T11:05:00",
          "2023-08-03T11:06:00",
          "2023-08-03T11:07:00",
          "2023-08-03T11:08:00",
          "2023-08-03T11:09:00",
          "2023-08-03T11:10:00",
          "2023-08-03T11:11:00",
          "2023-08-03T11:12:00",
          "2023-08-03T11:13:00",
          "2023-08-03T11:14:00",
          "2023-08-03T11:15:00",
          "2023-08-03T11:16:00",
          "2023-08-03T11:17:00",
          "2023-08-03T11:18:00",
          "2023-08-03T11:19:00",
          "2023-08-03T11:20:00",
          "2023-08-03T11:21:00",
          "2023-08-03T11:22:00",
          "2023-08-03T11:23:00",
          "2023-08-03T11:24:00",
          "2023-08-03T11:25:00",
          "2023-08-03T11:26:00",
          "2023-08-03T11:27:00",
          "2023-08-03T11:28:00",
          "2023-08-03T11:29:00",
          "2023-08-03T11:30:00",
          "2023-08-03T11:31:00",
          "2023-08-03T11:32:00",
          "2023-08-03T11:33:00",
          "2023-08-03T11:34:00",
          "2023-08-03T11:35:00",
          "2023-08-03T11:36:00",
          "2023-08-03T11:37:00",
          "2023-08-03T11:38:00",
          "2023-08-03T11:39:00",
          "2023-08-03T11:40:00",
          "2023-08-03T11:41:00",
          "2023-08-03T11:42:00",
          "2023-08-03T11:43:00",
          "2023-08-03T11:44:00",
          "2023-08-03T11:45:00",
          "2023-08-03T11:46:00",
          "2023-08-03T11:47:00",
          "2023-08-03T11:48:00",
          "2023-08-03T11:49:00",
          "2023-08-03T11:50:00"
         ],
         "xaxis": "x",
         "y": [
          0,
          0,
          0,
          0,
          0,
          0,
          0,
          0,
          0,
          0,
          0,
          0,
          0,
          0,
          0,
          0,
          0,
          0,
          0,
          0,
          0,
          0,
          0,
          0,
          0,
          0,
          0,
          0,
          0,
          0,
          0,
          0,
          0,
          0,
          0,
          0,
          0,
          0,
          0,
          0,
          0,
          0,
          0,
          0,
          0,
          0,
          0,
          0,
          0,
          0,
          0,
          0,
          0,
          0,
          0,
          0,
          0,
          0,
          0,
          0,
          0,
          0,
          0,
          0,
          0,
          0,
          0,
          0,
          0,
          0,
          0,
          0,
          0,
          0,
          0,
          0,
          0,
          0,
          0,
          0,
          0,
          0,
          0,
          0,
          0,
          0,
          0,
          0,
          0,
          0,
          0,
          0,
          0,
          0,
          0,
          0,
          0,
          0,
          0,
          0,
          0,
          0,
          0,
          0,
          0,
          0,
          0,
          0,
          0,
          0,
          0
         ],
         "yaxis": "y"
        },
        {
         "hovertemplate": "Users=+91 73511 44719<br>Minutes=%{x}<br>Message count=%{y}<extra></extra>",
         "legendgroup": "+91 73511 44719",
         "line": {
          "color": "#EF553B",
          "dash": "solid"
         },
         "marker": {
          "symbol": "circle"
         },
         "mode": "markers+lines",
         "name": "+91 73511 44719",
         "orientation": "v",
         "showlegend": true,
         "type": "scatter",
         "x": [
          "2023-08-03T10:00:00",
          "2023-08-03T10:01:00",
          "2023-08-03T10:02:00",
          "2023-08-03T10:03:00",
          "2023-08-03T10:04:00",
          "2023-08-03T10:05:00",
          "2023-08-03T10:06:00",
          "2023-08-03T10:07:00",
          "2023-08-03T10:08:00",
          "2023-08-03T10:09:00",
          "2023-08-03T10:10:00",
          "2023-08-03T10:11:00",
          "2023-08-03T10:12:00",
          "2023-08-03T10:13:00",
          "2023-08-03T10:14:00",
          "2023-08-03T10:15:00",
          "2023-08-03T10:16:00",
          "2023-08-03T10:17:00",
          "2023-08-03T10:18:00",
          "2023-08-03T10:19:00",
          "2023-08-03T10:20:00",
          "2023-08-03T10:21:00",
          "2023-08-03T10:22:00",
          "2023-08-03T10:23:00",
          "2023-08-03T10:24:00",
          "2023-08-03T10:25:00",
          "2023-08-03T10:26:00",
          "2023-08-03T10:27:00",
          "2023-08-03T10:28:00",
          "2023-08-03T10:29:00",
          "2023-08-03T10:30:00",
          "2023-08-03T10:31:00",
          "2023-08-03T10:32:00",
          "2023-08-03T10:33:00",
          "2023-08-03T10:34:00",
          "2023-08-03T10:35:00",
          "2023-08-03T10:36:00",
          "2023-08-03T10:37:00",
          "2023-08-03T10:38:00",
          "2023-08-03T10:39:00",
          "2023-08-03T10:40:00",
          "2023-08-03T10:41:00",
          "2023-08-03T10:42:00",
          "2023-08-03T10:43:00",
          "2023-08-03T10:44:00",
          "2023-08-03T10:45:00",
          "2023-08-03T10:46:00",
          "2023-08-03T10:47:00",
          "2023-08-03T10:48:00",
          "2023-08-03T10:49:00",
          "2023-08-03T10:50:00",
          "2023-08-03T10:51:00",
          "2023-08-03T10:52:00",
          "2023-08-03T10:53:00",
          "2023-08-03T10:54:00",
          "2023-08-03T10:55:00",
          "2023-08-03T10:56:00",
          "2023-08-03T10:57:00",
          "2023-08-03T10:58:00",
          "2023-08-03T10:59:00",
          "2023-08-03T11:00:00",
          "2023-08-03T11:01:00",
          "2023-08-03T11:02:00",
          "2023-08-03T11:03:00",
          "2023-08-03T11:04:00",
          "2023-08-03T11:05:00",
          "2023-08-03T11:06:00",
          "2023-08-03T11:07:00",
          "2023-08-03T11:08:00",
          "2023-08-03T11:09:00",
          "2023-08-03T11:10:00",
          "2023-08-03T11:11:00",
          "2023-08-03T11:12:00",
          "2023-08-03T11:13:00",
          "2023-08-03T11:14:00",
          "2023-08-03T11:15:00",
          "2023-08-03T11:16:00",
          "2023-08-03T11:17:00",
          "2023-08-03T11:18:00",
          "2023-08-03T11:19:00",
          "2023-08-03T11:20:00",
          "2023-08-03T11:21:00",
          "2023-08-03T11:22:00",
          "2023-08-03T11:23:00",
          "2023-08-03T11:24:00",
          "2023-08-03T11:25:00",
          "2023-08-03T11:26:00",
          "2023-08-03T11:27:00",
          "2023-08-03T11:28:00",
          "2023-08-03T11:29:00",
          "2023-08-03T11:30:00",
          "2023-08-03T11:31:00",
          "2023-08-03T11:32:00",
          "2023-08-03T11:33:00",
          "2023-08-03T11:34:00",
          "2023-08-03T11:35:00",
          "2023-08-03T11:36:00",
          "2023-08-03T11:37:00",
          "2023-08-03T11:38:00",
          "2023-08-03T11:39:00",
          "2023-08-03T11:40:00",
          "2023-08-03T11:41:00",
          "2023-08-03T11:42:00",
          "2023-08-03T11:43:00",
          "2023-08-03T11:44:00",
          "2023-08-03T11:45:00",
          "2023-08-03T11:46:00",
          "2023-08-03T11:47:00",
          "2023-08-03T11:48:00",
          "2023-08-03T11:49:00",
          "2023-08-03T11:50:00"
         ],
         "xaxis": "x",
         "y": [
          0,
          0,
          0,
          0,
          0,
          0,
          0,
          0,
          0,
          0,
          0,
          0,
          0,
          0,
          0,
          0,
          0,
          0,
          0,
          0,
          0,
          0,
          0,
          0,
          0,
          0,
          0,
          0,
          0,
          0,
          0,
          0,
          0,
          0,
          0,
          0,
          0,
          0,
          0,
          0,
          0,
          0,
          0,
          0,
          0,
          0,
          0,
          0,
          0,
          0,
          0,
          0,
          0,
          0,
          0,
          0,
          0,
          0,
          0,
          0,
          0,
          0,
          0,
          0,
          0,
          0,
          0,
          0,
          0,
          0,
          0,
          0,
          0,
          0,
          0,
          0,
          0,
          0,
          0,
          0,
          0,
          0,
          0,
          0,
          0,
          0,
          0,
          0,
          0,
          0,
          0,
          0,
          0,
          0,
          0,
          0,
          0,
          0,
          0,
          0,
          0,
          0,
          0,
          0,
          0,
          0,
          0,
          0,
          0,
          0,
          0
         ],
         "yaxis": "y"
        },
        {
         "hovertemplate": "Users=Sourabh 7 Mentor<br>Minutes=%{x}<br>Message count=%{y}<extra></extra>",
         "legendgroup": "Sourabh 7 Mentor",
         "line": {
          "color": "#00cc96",
          "dash": "solid"
         },
         "marker": {
          "symbol": "circle"
         },
         "mode": "markers+lines",
         "name": "Sourabh 7 Mentor",
         "orientation": "v",
         "showlegend": true,
         "type": "scatter",
         "x": [
          "2023-08-03T10:00:00",
          "2023-08-03T10:01:00",
          "2023-08-03T10:02:00",
          "2023-08-03T10:03:00",
          "2023-08-03T10:04:00",
          "2023-08-03T10:05:00",
          "2023-08-03T10:06:00",
          "2023-08-03T10:07:00",
          "2023-08-03T10:08:00",
          "2023-08-03T10:09:00",
          "2023-08-03T10:10:00",
          "2023-08-03T10:11:00",
          "2023-08-03T10:12:00",
          "2023-08-03T10:13:00",
          "2023-08-03T10:14:00",
          "2023-08-03T10:15:00",
          "2023-08-03T10:16:00",
          "2023-08-03T10:17:00",
          "2023-08-03T10:18:00",
          "2023-08-03T10:19:00",
          "2023-08-03T10:20:00",
          "2023-08-03T10:21:00",
          "2023-08-03T10:22:00",
          "2023-08-03T10:23:00",
          "2023-08-03T10:24:00",
          "2023-08-03T10:25:00",
          "2023-08-03T10:26:00",
          "2023-08-03T10:27:00",
          "2023-08-03T10:28:00",
          "2023-08-03T10:29:00",
          "2023-08-03T10:30:00",
          "2023-08-03T10:31:00",
          "2023-08-03T10:32:00",
          "2023-08-03T10:33:00",
          "2023-08-03T10:34:00",
          "2023-08-03T10:35:00",
          "2023-08-03T10:36:00",
          "2023-08-03T10:37:00",
          "2023-08-03T10:38:00",
          "2023-08-03T10:39:00",
          "2023-08-03T10:40:00",
          "2023-08-03T10:41:00",
          "2023-08-03T10:42:00",
          "2023-08-03T10:43:00",
          "2023-08-03T10:44:00",
          "2023-08-03T10:45:00",
          "2023-08-03T10:46:00",
          "2023-08-03T10:47:00",
          "2023-08-03T10:48:00",
          "2023-08-03T10:49:00",
          "2023-08-03T10:50:00",
          "2023-08-03T10:51:00",
          "2023-08-03T10:52:00",
          "2023-08-03T10:53:00",
          "2023-08-03T10:54:00",
          "2023-08-03T10:55:00",
          "2023-08-03T10:56:00",
          "2023-08-03T10:57:00",
          "2023-08-03T10:58:00",
          "2023-08-03T10:59:00",
          "2023-08-03T11:00:00",
          "2023-08-03T11:01:00",
          "2023-08-03T11:02:00",
          "2023-08-03T11:03:00",
          "2023-08-03T11:04:00",
          "2023-08-03T11:05:00",
          "2023-08-03T11:06:00",
          "2023-08-03T11:07:00",
          "2023-08-03T11:08:00",
          "2023-08-03T11:09:00",
          "2023-08-03T11:10:00",
          "2023-08-03T11:11:00",
          "2023-08-03T11:12:00",
          "2023-08-03T11:13:00",
          "2023-08-03T11:14:00",
          "2023-08-03T11:15:00",
          "2023-08-03T11:16:00",
          "2023-08-03T11:17:00",
          "2023-08-03T11:18:00",
          "2023-08-03T11:19:00",
          "2023-08-03T11:20:00",
          "2023-08-03T11:21:00",
          "2023-08-03T11:22:00",
          "2023-08-03T11:23:00",
          "2023-08-03T11:24:00",
          "2023-08-03T11:25:00",
          "2023-08-03T11:26:00",
          "2023-08-03T11:27:00",
          "2023-08-03T11:28:00",
          "2023-08-03T11:29:00",
          "2023-08-03T11:30:00",
          "2023-08-03T11:31:00",
          "2023-08-03T11:32:00",
          "2023-08-03T11:33:00",
          "2023-08-03T11:34:00",
          "2023-08-03T11:35:00",
          "2023-08-03T11:36:00",
          "2023-08-03T11:37:00",
          "2023-08-03T11:38:00",
          "2023-08-03T11:39:00",
          "2023-08-03T11:40:00",
          "2023-08-03T11:41:00",
          "2023-08-03T11:42:00",
          "2023-08-03T11:43:00",
          "2023-08-03T11:44:00",
          "2023-08-03T11:45:00",
          "2023-08-03T11:46:00",
          "2023-08-03T11:47:00",
          "2023-08-03T11:48:00",
          "2023-08-03T11:49:00",
          "2023-08-03T11:50:00"
         ],
         "xaxis": "x",
         "y": [
          0,
          0,
          0,
          0,
          0,
          0,
          0,
          0,
          0,
          0,
          0,
          0,
          0,
          0,
          0,
          0,
          0,
          0,
          0,
          0,
          0,
          0,
          0,
          0,
          0,
          0,
          0,
          0,
          0,
          0,
          0,
          0,
          0,
          0,
          0,
          0,
          0,
          0,
          0,
          0,
          0,
          0,
          0,
          0,
          0,
          0,
          0,
          0,
          0,
          0,
          0,
          0,
          0,
          0,
          0,
          0,
          0,
          0,
          0,
          0,
          0,
          1,
          0,
          0,
          0,
          0,
          0,
          0,
          0,
          0,
          0,
          0,
          0,
          0,
          0,
          0,
          0,
          0,
          0,
          1,
          0,
          0,
          0,
          0,
          0,
          0,
          0,
          0,
          0,
          0,
          0,
          0,
          0,
          0,
          0,
          0,
          0,
          0,
          0,
          0,
          0,
          0,
          0,
          0,
          0,
          0,
          0,
          0,
          0,
          0,
          0
         ],
         "yaxis": "y"
        },
        {
         "hovertemplate": "Users=+91 76784 09427<br>Minutes=%{x}<br>Message count=%{y}<extra></extra>",
         "legendgroup": "+91 76784 09427",
         "line": {
          "color": "#ab63fa",
          "dash": "solid"
         },
         "marker": {
          "symbol": "circle"
         },
         "mode": "markers+lines",
         "name": "+91 76784 09427",
         "orientation": "v",
         "showlegend": true,
         "type": "scatter",
         "x": [
          "2023-08-03T10:00:00",
          "2023-08-03T10:01:00",
          "2023-08-03T10:02:00",
          "2023-08-03T10:03:00",
          "2023-08-03T10:04:00",
          "2023-08-03T10:05:00",
          "2023-08-03T10:06:00",
          "2023-08-03T10:07:00",
          "2023-08-03T10:08:00",
          "2023-08-03T10:09:00",
          "2023-08-03T10:10:00",
          "2023-08-03T10:11:00",
          "2023-08-03T10:12:00",
          "2023-08-03T10:13:00",
          "2023-08-03T10:14:00",
          "2023-08-03T10:15:00",
          "2023-08-03T10:16:00",
          "2023-08-03T10:17:00",
          "2023-08-03T10:18:00",
          "2023-08-03T10:19:00",
          "2023-08-03T10:20:00",
          "2023-08-03T10:21:00",
          "2023-08-03T10:22:00",
          "2023-08-03T10:23:00",
          "2023-08-03T10:24:00",
          "2023-08-03T10:25:00",
          "2023-08-03T10:26:00",
          "2023-08-03T10:27:00",
          "2023-08-03T10:28:00",
          "2023-08-03T10:29:00",
          "2023-08-03T10:30:00",
          "2023-08-03T10:31:00",
          "2023-08-03T10:32:00",
          "2023-08-03T10:33:00",
          "2023-08-03T10:34:00",
          "2023-08-03T10:35:00",
          "2023-08-03T10:36:00",
          "2023-08-03T10:37:00",
          "2023-08-03T10:38:00",
          "2023-08-03T10:39:00",
          "2023-08-03T10:40:00",
          "2023-08-03T10:41:00",
          "2023-08-03T10:42:00",
          "2023-08-03T10:43:00",
          "2023-08-03T10:44:00",
          "2023-08-03T10:45:00",
          "2023-08-03T10:46:00",
          "2023-08-03T10:47:00",
          "2023-08-03T10:48:00",
          "2023-08-03T10:49:00",
          "2023-08-03T10:50:00",
          "2023-08-03T10:51:00",
          "2023-08-03T10:52:00",
          "2023-08-03T10:53:00",
          "2023-08-03T10:54:00",
          "2023-08-03T10:55:00",
          "2023-08-03T10:56:00",
          "2023-08-03T10:57:00",
          "2023-08-03T10:58:00",
          "2023-08-03T10:59:00",
          "2023-08-03T11:00:00",
          "2023-08-03T11:01:00",
          "2023-08-03T11:02:00",
          "2023-08-03T11:03:00",
          "2023-08-03T11:04:00",
          "2023-08-03T11:05:00",
          "2023-08-03T11:06:00",
          "2023-08-03T11:07:00",
          "2023-08-03T11:08:00",
          "2023-08-03T11:09:00",
          "2023-08-03T11:10:00",
          "2023-08-03T11:11:00",
          "2023-08-03T11:12:00",
          "2023-08-03T11:13:00",
          "2023-08-03T11:14:00",
          "2023-08-03T11:15:00",
          "2023-08-03T11:16:00",
          "2023-08-03T11:17:00",
          "2023-08-03T11:18:00",
          "2023-08-03T11:19:00",
          "2023-08-03T11:20:00",
          "2023-08-03T11:21:00",
          "2023-08-03T11:22:00",
          "2023-08-03T11:23:00",
          "2023-08-03T11:24:00",
          "2023-08-03T11:25:00",
          "2023-08-03T11:26:00",
          "2023-08-03T11:27:00",
          "2023-08-03T11:28:00",
          "2023-08-03T11:29:00",
          "2023-08-03T11:30:00",
          "2023-08-03T11:31:00",
          "2023-08-03T11:32:00",
          "2023-08-03T11:33:00",
          "2023-08-03T11:34:00",
          "2023-08-03T11:35:00",
          "2023-08-03T11:36:00",
          "2023-08-03T11:37:00",
          "2023-08-03T11:38:00",
          "2023-08-03T11:39:00",
          "2023-08-03T11:40:00",
          "2023-08-03T11:41:00",
          "2023-08-03T11:42:00",
          "2023-08-03T11:43:00",
          "2023-08-03T11:44:00",
          "2023-08-03T11:45:00",
          "2023-08-03T11:46:00",
          "2023-08-03T11:47:00",
          "2023-08-03T11:48:00",
          "2023-08-03T11:49:00",
          "2023-08-03T11:50:00"
         ],
         "xaxis": "x",
         "y": [
          0,
          0,
          0,
          0,
          0,
          0,
          0,
          0,
          0,
          0,
          0,
          0,
          0,
          0,
          0,
          0,
          0,
          0,
          0,
          0,
          0,
          0,
          0,
          0,
          0,
          0,
          0,
          0,
          0,
          0,
          0,
          0,
          0,
          0,
          0,
          0,
          0,
          0,
          0,
          0,
          0,
          0,
          0,
          0,
          0,
          0,
          0,
          0,
          0,
          0,
          0,
          0,
          0,
          0,
          0,
          0,
          0,
          0,
          0,
          0,
          0,
          0,
          0,
          0,
          0,
          0,
          0,
          0,
          0,
          0,
          0,
          0,
          0,
          0,
          0,
          0,
          0,
          0,
          0,
          0,
          0,
          0,
          0,
          0,
          0,
          0,
          0,
          0,
          0,
          0,
          0,
          0,
          0,
          0,
          0,
          0,
          0,
          0,
          0,
          0,
          0,
          0,
          0,
          0,
          0,
          0,
          0,
          0,
          0,
          0,
          0
         ],
         "yaxis": "y"
        },
        {
         "hovertemplate": "Users=+91 95235 15421<br>Minutes=%{x}<br>Message count=%{y}<extra></extra>",
         "legendgroup": "+91 95235 15421",
         "line": {
          "color": "#FFA15A",
          "dash": "solid"
         },
         "marker": {
          "symbol": "circle"
         },
         "mode": "markers+lines",
         "name": "+91 95235 15421",
         "orientation": "v",
         "showlegend": true,
         "type": "scatter",
         "x": [
          "2023-08-03T10:00:00",
          "2023-08-03T10:01:00",
          "2023-08-03T10:02:00",
          "2023-08-03T10:03:00",
          "2023-08-03T10:04:00",
          "2023-08-03T10:05:00",
          "2023-08-03T10:06:00",
          "2023-08-03T10:07:00",
          "2023-08-03T10:08:00",
          "2023-08-03T10:09:00",
          "2023-08-03T10:10:00",
          "2023-08-03T10:11:00",
          "2023-08-03T10:12:00",
          "2023-08-03T10:13:00",
          "2023-08-03T10:14:00",
          "2023-08-03T10:15:00",
          "2023-08-03T10:16:00",
          "2023-08-03T10:17:00",
          "2023-08-03T10:18:00",
          "2023-08-03T10:19:00",
          "2023-08-03T10:20:00",
          "2023-08-03T10:21:00",
          "2023-08-03T10:22:00",
          "2023-08-03T10:23:00",
          "2023-08-03T10:24:00",
          "2023-08-03T10:25:00",
          "2023-08-03T10:26:00",
          "2023-08-03T10:27:00",
          "2023-08-03T10:28:00",
          "2023-08-03T10:29:00",
          "2023-08-03T10:30:00",
          "2023-08-03T10:31:00",
          "2023-08-03T10:32:00",
          "2023-08-03T10:33:00",
          "2023-08-03T10:34:00",
          "2023-08-03T10:35:00",
          "2023-08-03T10:36:00",
          "2023-08-03T10:37:00",
          "2023-08-03T10:38:00",
          "2023-08-03T10:39:00",
          "2023-08-03T10:40:00",
          "2023-08-03T10:41:00",
          "2023-08-03T10:42:00",
          "2023-08-03T10:43:00",
          "2023-08-03T10:44:00",
          "2023-08-03T10:45:00",
          "2023-08-03T10:46:00",
          "2023-08-03T10:47:00",
          "2023-08-03T10:48:00",
          "2023-08-03T10:49:00",
          "2023-08-03T10:50:00",
          "2023-08-03T10:51:00",
          "2023-08-03T10:52:00",
          "2023-08-03T10:53:00",
          "2023-08-03T10:54:00",
          "2023-08-03T10:55:00",
          "2023-08-03T10:56:00",
          "2023-08-03T10:57:00",
          "2023-08-03T10:58:00",
          "2023-08-03T10:59:00",
          "2023-08-03T11:00:00",
          "2023-08-03T11:01:00",
          "2023-08-03T11:02:00",
          "2023-08-03T11:03:00",
          "2023-08-03T11:04:00",
          "2023-08-03T11:05:00",
          "2023-08-03T11:06:00",
          "2023-08-03T11:07:00",
          "2023-08-03T11:08:00",
          "2023-08-03T11:09:00",
          "2023-08-03T11:10:00",
          "2023-08-03T11:11:00",
          "2023-08-03T11:12:00",
          "2023-08-03T11:13:00",
          "2023-08-03T11:14:00",
          "2023-08-03T11:15:00",
          "2023-08-03T11:16:00",
          "2023-08-03T11:17:00",
          "2023-08-03T11:18:00",
          "2023-08-03T11:19:00",
          "2023-08-03T11:20:00",
          "2023-08-03T11:21:00",
          "2023-08-03T11:22:00",
          "2023-08-03T11:23:00",
          "2023-08-03T11:24:00",
          "2023-08-03T11:25:00",
          "2023-08-03T11:26:00",
          "2023-08-03T11:27:00",
          "2023-08-03T11:28:00",
          "2023-08-03T11:29:00",
          "2023-08-03T11:30:00",
          "2023-08-03T11:31:00",
          "2023-08-03T11:32:00",
          "2023-08-03T11:33:00",
          "2023-08-03T11:34:00",
          "2023-08-03T11:35:00",
          "2023-08-03T11:36:00",
          "2023-08-03T11:37:00",
          "2023-08-03T11:38:00",
          "2023-08-03T11:39:00",
          "2023-08-03T11:40:00",
          "2023-08-03T11:41:00",
          "2023-08-03T11:42:00",
          "2023-08-03T11:43:00",
          "2023-08-03T11:44:00",
          "2023-08-03T11:45:00",
          "2023-08-03T11:46:00",
          "2023-08-03T11:47:00",
          "2023-08-03T11:48:00",
          "2023-08-03T11:49:00",
          "2023-08-03T11:50:00"
         ],
         "xaxis": "x",
         "y": [
          0,
          0,
          0,
          0,
          0,
          0,
          0,
          0,
          0,
          0,
          0,
          0,
          0,
          0,
          0,
          0,
          0,
          0,
          0,
          0,
          0,
          0,
          0,
          0,
          0,
          0,
          0,
          0,
          0,
          0,
          0,
          0,
          0,
          0,
          0,
          0,
          0,
          0,
          0,
          0,
          0,
          0,
          0,
          0,
          0,
          0,
          0,
          0,
          0,
          0,
          0,
          2,
          0,
          0,
          0,
          0,
          0,
          0,
          0,
          0,
          0,
          0,
          0,
          0,
          0,
          0,
          0,
          0,
          0,
          0,
          0,
          0,
          0,
          0,
          0,
          0,
          0,
          0,
          0,
          0,
          0,
          0,
          0,
          0,
          0,
          0,
          0,
          0,
          0,
          0,
          0,
          0,
          0,
          0,
          0,
          0,
          0,
          0,
          0,
          0,
          0,
          0,
          0,
          0,
          0,
          0,
          0,
          0,
          0,
          0,
          0
         ],
         "yaxis": "y"
        },
        {
         "hovertemplate": "Users=+91 76888 20220<br>Minutes=%{x}<br>Message count=%{y}<extra></extra>",
         "legendgroup": "+91 76888 20220",
         "line": {
          "color": "#19d3f3",
          "dash": "solid"
         },
         "marker": {
          "symbol": "circle"
         },
         "mode": "markers+lines",
         "name": "+91 76888 20220",
         "orientation": "v",
         "showlegend": true,
         "type": "scatter",
         "x": [
          "2023-08-03T10:00:00",
          "2023-08-03T10:01:00",
          "2023-08-03T10:02:00",
          "2023-08-03T10:03:00",
          "2023-08-03T10:04:00",
          "2023-08-03T10:05:00",
          "2023-08-03T10:06:00",
          "2023-08-03T10:07:00",
          "2023-08-03T10:08:00",
          "2023-08-03T10:09:00",
          "2023-08-03T10:10:00",
          "2023-08-03T10:11:00",
          "2023-08-03T10:12:00",
          "2023-08-03T10:13:00",
          "2023-08-03T10:14:00",
          "2023-08-03T10:15:00",
          "2023-08-03T10:16:00",
          "2023-08-03T10:17:00",
          "2023-08-03T10:18:00",
          "2023-08-03T10:19:00",
          "2023-08-03T10:20:00",
          "2023-08-03T10:21:00",
          "2023-08-03T10:22:00",
          "2023-08-03T10:23:00",
          "2023-08-03T10:24:00",
          "2023-08-03T10:25:00",
          "2023-08-03T10:26:00",
          "2023-08-03T10:27:00",
          "2023-08-03T10:28:00",
          "2023-08-03T10:29:00",
          "2023-08-03T10:30:00",
          "2023-08-03T10:31:00",
          "2023-08-03T10:32:00",
          "2023-08-03T10:33:00",
          "2023-08-03T10:34:00",
          "2023-08-03T10:35:00",
          "2023-08-03T10:36:00",
          "2023-08-03T10:37:00",
          "2023-08-03T10:38:00",
          "2023-08-03T10:39:00",
          "2023-08-03T10:40:00",
          "2023-08-03T10:41:00",
          "2023-08-03T10:42:00",
          "2023-08-03T10:43:00",
          "2023-08-03T10:44:00",
          "2023-08-03T10:45:00",
          "2023-08-03T10:46:00",
          "2023-08-03T10:47:00",
          "2023-08-03T10:48:00",
          "2023-08-03T10:49:00",
          "2023-08-03T10:50:00",
          "2023-08-03T10:51:00",
          "2023-08-03T10:52:00",
          "2023-08-03T10:53:00",
          "2023-08-03T10:54:00",
          "2023-08-03T10:55:00",
          "2023-08-03T10:56:00",
          "2023-08-03T10:57:00",
          "2023-08-03T10:58:00",
          "2023-08-03T10:59:00",
          "2023-08-03T11:00:00",
          "2023-08-03T11:01:00",
          "2023-08-03T11:02:00",
          "2023-08-03T11:03:00",
          "2023-08-03T11:04:00",
          "2023-08-03T11:05:00",
          "2023-08-03T11:06:00",
          "2023-08-03T11:07:00",
          "2023-08-03T11:08:00",
          "2023-08-03T11:09:00",
          "2023-08-03T11:10:00",
          "2023-08-03T11:11:00",
          "2023-08-03T11:12:00",
          "2023-08-03T11:13:00",
          "2023-08-03T11:14:00",
          "2023-08-03T11:15:00",
          "2023-08-03T11:16:00",
          "2023-08-03T11:17:00",
          "2023-08-03T11:18:00",
          "2023-08-03T11:19:00",
          "2023-08-03T11:20:00",
          "2023-08-03T11:21:00",
          "2023-08-03T11:22:00",
          "2023-08-03T11:23:00",
          "2023-08-03T11:24:00",
          "2023-08-03T11:25:00",
          "2023-08-03T11:26:00",
          "2023-08-03T11:27:00",
          "2023-08-03T11:28:00",
          "2023-08-03T11:29:00",
          "2023-08-03T11:30:00",
          "2023-08-03T11:31:00",
          "2023-08-03T11:32:00",
          "2023-08-03T11:33:00",
          "2023-08-03T11:34:00",
          "2023-08-03T11:35:00",
          "2023-08-03T11:36:00",
          "2023-08-03T11:37:00",
          "2023-08-03T11:38:00",
          "2023-08-03T11:39:00",
          "2023-08-03T11:40:00",
          "2023-08-03T11:41:00",
          "2023-08-03T11:42:00",
          "2023-08-03T11:43:00",
          "2023-08-03T11:44:00",
          "2023-08-03T11:45:00",
          "2023-08-03T11:46:00",
          "2023-08-03T11:47:00",
          "2023-08-03T11:48:00",
          "2023-08-03T11:49:00",
          "2023-08-03T11:50:00"
         ],
         "xaxis": "x",
         "y": [
          0,
          0,
          0,
          0,
          0,
          0,
          0,
          0,
          0,
          0,
          0,
          0,
          0,
          0,
          0,
          0,
          0,
          0,
          0,
          0,
          0,
          0,
          0,
          0,
          0,
          0,
          0,
          0,
          0,
          0,
          0,
          0,
          0,
          0,
          0,
          0,
          0,
          0,
          0,
          0,
          0,
          0,
          0,
          0,
          0,
          0,
          0,
          0,
          0,
          0,
          0,
          0,
          0,
          0,
          0,
          0,
          0,
          0,
          0,
          0,
          0,
          0,
          0,
          0,
          0,
          0,
          0,
          0,
          0,
          0,
          0,
          0,
          0,
          0,
          0,
          0,
          0,
          0,
          0,
          0,
          0,
          0,
          0,
          0,
          0,
          0,
          0,
          0,
          0,
          0,
          0,
          0,
          0,
          0,
          0,
          0,
          0,
          0,
          0,
          0,
          0,
          0,
          0,
          0,
          0,
          0,
          0,
          0,
          0,
          0,
          0
         ],
         "yaxis": "y"
        },
        {
         "hovertemplate": "Users=+91 83079 17347<br>Minutes=%{x}<br>Message count=%{y}<extra></extra>",
         "legendgroup": "+91 83079 17347",
         "line": {
          "color": "#FF6692",
          "dash": "solid"
         },
         "marker": {
          "symbol": "circle"
         },
         "mode": "markers+lines",
         "name": "+91 83079 17347",
         "orientation": "v",
         "showlegend": true,
         "type": "scatter",
         "x": [
          "2023-08-03T10:00:00",
          "2023-08-03T10:01:00",
          "2023-08-03T10:02:00",
          "2023-08-03T10:03:00",
          "2023-08-03T10:04:00",
          "2023-08-03T10:05:00",
          "2023-08-03T10:06:00",
          "2023-08-03T10:07:00",
          "2023-08-03T10:08:00",
          "2023-08-03T10:09:00",
          "2023-08-03T10:10:00",
          "2023-08-03T10:11:00",
          "2023-08-03T10:12:00",
          "2023-08-03T10:13:00",
          "2023-08-03T10:14:00",
          "2023-08-03T10:15:00",
          "2023-08-03T10:16:00",
          "2023-08-03T10:17:00",
          "2023-08-03T10:18:00",
          "2023-08-03T10:19:00",
          "2023-08-03T10:20:00",
          "2023-08-03T10:21:00",
          "2023-08-03T10:22:00",
          "2023-08-03T10:23:00",
          "2023-08-03T10:24:00",
          "2023-08-03T10:25:00",
          "2023-08-03T10:26:00",
          "2023-08-03T10:27:00",
          "2023-08-03T10:28:00",
          "2023-08-03T10:29:00",
          "2023-08-03T10:30:00",
          "2023-08-03T10:31:00",
          "2023-08-03T10:32:00",
          "2023-08-03T10:33:00",
          "2023-08-03T10:34:00",
          "2023-08-03T10:35:00",
          "2023-08-03T10:36:00",
          "2023-08-03T10:37:00",
          "2023-08-03T10:38:00",
          "2023-08-03T10:39:00",
          "2023-08-03T10:40:00",
          "2023-08-03T10:41:00",
          "2023-08-03T10:42:00",
          "2023-08-03T10:43:00",
          "2023-08-03T10:44:00",
          "2023-08-03T10:45:00",
          "2023-08-03T10:46:00",
          "2023-08-03T10:47:00",
          "2023-08-03T10:48:00",
          "2023-08-03T10:49:00",
          "2023-08-03T10:50:00",
          "2023-08-03T10:51:00",
          "2023-08-03T10:52:00",
          "2023-08-03T10:53:00",
          "2023-08-03T10:54:00",
          "2023-08-03T10:55:00",
          "2023-08-03T10:56:00",
          "2023-08-03T10:57:00",
          "2023-08-03T10:58:00",
          "2023-08-03T10:59:00",
          "2023-08-03T11:00:00",
          "2023-08-03T11:01:00",
          "2023-08-03T11:02:00",
          "2023-08-03T11:03:00",
          "2023-08-03T11:04:00",
          "2023-08-03T11:05:00",
          "2023-08-03T11:06:00",
          "2023-08-03T11:07:00",
          "2023-08-03T11:08:00",
          "2023-08-03T11:09:00",
          "2023-08-03T11:10:00",
          "2023-08-03T11:11:00",
          "2023-08-03T11:12:00",
          "2023-08-03T11:13:00",
          "2023-08-03T11:14:00",
          "2023-08-03T11:15:00",
          "2023-08-03T11:16:00",
          "2023-08-03T11:17:00",
          "2023-08-03T11:18:00",
          "2023-08-03T11:19:00",
          "2023-08-03T11:20:00",
          "2023-08-03T11:21:00",
          "2023-08-03T11:22:00",
          "2023-08-03T11:23:00",
          "2023-08-03T11:24:00",
          "2023-08-03T11:25:00",
          "2023-08-03T11:26:00",
          "2023-08-03T11:27:00",
          "2023-08-03T11:28:00",
          "2023-08-03T11:29:00",
          "2023-08-03T11:30:00",
          "2023-08-03T11:31:00",
          "2023-08-03T11:32:00",
          "2023-08-03T11:33:00",
          "2023-08-03T11:34:00",
          "2023-08-03T11:35:00",
          "2023-08-03T11:36:00",
          "2023-08-03T11:37:00",
          "2023-08-03T11:38:00",
          "2023-08-03T11:39:00",
          "2023-08-03T11:40:00",
          "2023-08-03T11:41:00",
          "2023-08-03T11:42:00",
          "2023-08-03T11:43:00",
          "2023-08-03T11:44:00",
          "2023-08-03T11:45:00",
          "2023-08-03T11:46:00",
          "2023-08-03T11:47:00",
          "2023-08-03T11:48:00",
          "2023-08-03T11:49:00",
          "2023-08-03T11:50:00"
         ],
         "xaxis": "x",
         "y": [
          0,
          0,
          0,
          0,
          0,
          0,
          0,
          0,
          0,
          0,
          0,
          0,
          0,
          0,
          0,
          0,
          0,
          0,
          0,
          0,
          0,
          0,
          0,
          0,
          0,
          0,
          0,
          0,
          0,
          0,
          0,
          0,
          0,
          0,
          0,
          0,
          0,
          0,
          0,
          0,
          0,
          0,
          0,
          0,
          0,
          0,
          0,
          0,
          0,
          0,
          0,
          0,
          0,
          0,
          0,
          0,
          0,
          0,
          0,
          0,
          0,
          0,
          0,
          0,
          0,
          0,
          0,
          0,
          0,
          0,
          0,
          0,
          0,
          0,
          0,
          0,
          0,
          0,
          0,
          0,
          0,
          0,
          0,
          0,
          0,
          0,
          0,
          0,
          0,
          0,
          0,
          0,
          0,
          0,
          0,
          0,
          0,
          0,
          0,
          0,
          0,
          0,
          0,
          0,
          0,
          0,
          0,
          0,
          0,
          0,
          0
         ],
         "yaxis": "y"
        },
        {
         "hovertemplate": "Users=others<br>Minutes=%{x}<br>Message count=%{y}<extra></extra>",
         "legendgroup": "others",
         "line": {
          "color": "#B6E880",
          "dash": "solid"
         },
         "marker": {
          "symbol": "circle"
         },
         "mode": "markers+lines",
         "name": "others",
         "orientation": "v",
         "showlegend": true,
         "type": "scatter",
         "x": [
          "2023-08-03T10:00:00",
          "2023-08-03T10:01:00",
          "2023-08-03T10:02:00",
          "2023-08-03T10:03:00",
          "2023-08-03T10:04:00",
          "2023-08-03T10:05:00",
          "2023-08-03T10:06:00",
          "2023-08-03T10:07:00",
          "2023-08-03T10:08:00",
          "2023-08-03T10:09:00",
          "2023-08-03T10:10:00",
          "2023-08-03T10:11:00",
          "2023-08-03T10:12:00",
          "2023-08-03T10:13:00",
          "2023-08-03T10:14:00",
          "2023-08-03T10:15:00",
          "2023-08-03T10:16:00",
          "2023-08-03T10:17:00",
          "2023-08-03T10:18:00",
          "2023-08-03T10:19:00",
          "2023-08-03T10:20:00",
          "2023-08-03T10:21:00",
          "2023-08-03T10:22:00",
          "2023-08-03T10:23:00",
          "2023-08-03T10:24:00",
          "2023-08-03T10:25:00",
          "2023-08-03T10:26:00",
          "2023-08-03T10:27:00",
          "2023-08-03T10:28:00",
          "2023-08-03T10:29:00",
          "2023-08-03T10:30:00",
          "2023-08-03T10:31:00",
          "2023-08-03T10:32:00",
          "2023-08-03T10:33:00",
          "2023-08-03T10:34:00",
          "2023-08-03T10:35:00",
          "2023-08-03T10:36:00",
          "2023-08-03T10:37:00",
          "2023-08-03T10:38:00",
          "2023-08-03T10:39:00",
          "2023-08-03T10:40:00",
          "2023-08-03T10:41:00",
          "2023-08-03T10:42:00",
          "2023-08-03T10:43:00",
          "2023-08-03T10:44:00",
          "2023-08-03T10:45:00",
          "2023-08-03T10:46:00",
          "2023-08-03T10:47:00",
          "2023-08-03T10:48:00",
          "2023-08-03T10:49:00",
          "2023-08-03T10:50:00",
          "2023-08-03T10:51:00",
          "2023-08-03T10:52:00",
          "2023-08-03T10:53:00",
          "2023-08-03T10:54:00",
          "2023-08-03T10:55:00",
          "2023-08-03T10:56:00",
          "2023-08-03T10:57:00",
          "2023-08-03T10:58:00",
          "2023-08-03T10:59:00",
          "2023-08-03T11:00:00",
          "2023-08-03T11:01:00",
          "2023-08-03T11:02:00",
          "2023-08-03T11:03:00",
          "2023-08-03T11:04:00",
          "2023-08-03T11:05:00",
          "2023-08-03T11:06:00",
          "2023-08-03T11:07:00",
          "2023-08-03T11:08:00",
          "2023-08-03T11:09:00",
          "2023-08-03T11:10:00",
          "2023-08-03T11:11:00",
          "2023-08-03T11:12:00",
          "2023-08-03T11:13:00",
          "2023-08-03T11:14:00",
          "2023-08-03T11:15:00",
          "2023-08-03T11:16:00",
          "2023-08-03T11:17:00",
          "2023-08-03T11:18:00",
          "2023-08-03T11:19:00",
          "2023-08-03T11:20:00",
          "2023-08-03T11:21:00",
          "2023-08-03T11:22:00",
          "2023-08-03T11:23:00",
          "2023-08-03T11:24:00",
          "2023-08-03T11:25:00",
          "2023-08-03T11:26:00",
          "2023-08-03T11:27:00",
          "2023-08-03T11:28:00",
          "2023-08-03T11:29:00",
          "2023-08-03T11:30:00",
          "2023-08-03T11:31:00",
          "2023-08-03T11:32:00",
          "2023-08-03T11:33:00",
          "2023-08-03T11:34:00",
          "2023-08-03T11:35:00",
          "2023-08-03T11:36:00",
          "2023-08-03T11:37:00",
          "2023-08-03T11:38:00",
          "2023-08-03T11:39:00",
          "2023-08-03T11:40:00",
          "2023-08-03T11:41:00",
          "2023-08-03T11:42:00",
          "2023-08-03T11:43:00",
          "2023-08-03T11:44:00",
          "2023-08-03T11:45:00",
          "2023-08-03T11:46:00",
          "2023-08-03T11:47:00",
          "2023-08-03T11:48:00",
          "2023-08-03T11:49:00",
          "2023-08-03T11:50:00"
         ],
         "xaxis": "x",
         "y": [
          1,
          0,
          1,
          0,
          0,
          0,
          0,
          0,
          0,
          0,
          0,
          0,
          0,
          0,
          1,
          0,
          0,
          0,
          0,
          0,
          0,
          0,
          0,
          0,
          1,
          0,
          0,
          0,
          0,
          0,
          0,
          0,
          0,
          0,
          0,
          0,
          0,
          0,
          0,
          0,
          0,
          0,
          0,
          0,
          0,
          0,
          0,
          0,
          0,
          0,
          0,
          0,
          0,
          0,
          0,
          0,
          0,
          0,
          0,
          0,
          0,
          0,
          0,
          0,
          0,
          0,
          0,
          0,
          0,
          0,
          0,
          0,
          0,
          0,
          0,
          0,
          0,
          0,
          0,
          0,
          0,
          0,
          1,
          0,
          2,
          0,
          0,
          0,
          0,
          1,
          1,
          0,
          1,
          2,
          0,
          0,
          0,
          0,
          0,
          0,
          0,
          0,
          1,
          0,
          0,
          0,
          0,
          0,
          0,
          1,
          1
         ],
         "yaxis": "y"
        }
       ],
       "layout": {
        "legend": {
         "title": {
          "text": "Users"
         },
         "tracegroupgap": 0
        },
        "template": {
         "data": {
          "bar": [
           {
            "error_x": {
             "color": "#2a3f5f"
            },
            "error_y": {
             "color": "#2a3f5f"
            },
            "marker": {
             "line": {
              "color": "#E5ECF6",
              "width": 0.5
             },
             "pattern": {
              "fillmode": "overlay",
              "size": 10,
              "solidity": 0.2
             }
            },
            "type": "bar"
           }
          ],
          "barpolar": [
           {
            "marker": {
             "line": {
              "color": "#E5ECF6",
              "width": 0.5
             },
             "pattern": {
              "fillmode": "overlay",
              "size": 10,
              "solidity": 0.2
             }
            },
            "type": "barpolar"
           }
          ],
          "carpet": [
           {
            "aaxis": {
             "endlinecolor": "#2a3f5f",
             "gridcolor": "white",
             "linecolor": "white",
             "minorgridcolor": "white",
             "startlinecolor": "#2a3f5f"
            },
            "baxis": {
             "endlinecolor": "#2a3f5f",
             "gridcolor": "white",
             "linecolor": "white",
             "minorgridcolor": "white",
             "startlinecolor": "#2a3f5f"
            },
            "type": "carpet"
           }
          ],
          "choropleth": [
           {
            "colorbar": {
             "outlinewidth": 0,
             "ticks": ""
            },
            "type": "choropleth"
           }
          ],
          "contour": [
           {
            "colorbar": {
             "outlinewidth": 0,
             "ticks": ""
            },
            "colorscale": [
             [
              0,
              "#0d0887"
             ],
             [
              0.1111111111111111,
              "#46039f"
             ],
             [
              0.2222222222222222,
              "#7201a8"
             ],
             [
              0.3333333333333333,
              "#9c179e"
             ],
             [
              0.4444444444444444,
              "#bd3786"
             ],
             [
              0.5555555555555556,
              "#d8576b"
             ],
             [
              0.6666666666666666,
              "#ed7953"
             ],
             [
              0.7777777777777778,
              "#fb9f3a"
             ],
             [
              0.8888888888888888,
              "#fdca26"
             ],
             [
              1,
              "#f0f921"
             ]
            ],
            "type": "contour"
           }
          ],
          "contourcarpet": [
           {
            "colorbar": {
             "outlinewidth": 0,
             "ticks": ""
            },
            "type": "contourcarpet"
           }
          ],
          "heatmap": [
           {
            "colorbar": {
             "outlinewidth": 0,
             "ticks": ""
            },
            "colorscale": [
             [
              0,
              "#0d0887"
             ],
             [
              0.1111111111111111,
              "#46039f"
             ],
             [
              0.2222222222222222,
              "#7201a8"
             ],
             [
              0.3333333333333333,
              "#9c179e"
             ],
             [
              0.4444444444444444,
              "#bd3786"
             ],
             [
              0.5555555555555556,
              "#d8576b"
             ],
             [
              0.6666666666666666,
              "#ed7953"
             ],
             [
              0.7777777777777778,
              "#fb9f3a"
             ],
             [
              0.8888888888888888,
              "#fdca26"
             ],
             [
              1,
              "#f0f921"
             ]
            ],
            "type": "heatmap"
           }
          ],
          "heatmapgl": [
           {
            "colorbar": {
             "outlinewidth": 0,
             "ticks": ""
            },
            "colorscale": [
             [
              0,
              "#0d0887"
             ],
             [
              0.1111111111111111,
              "#46039f"
             ],
             [
              0.2222222222222222,
              "#7201a8"
             ],
             [
              0.3333333333333333,
              "#9c179e"
             ],
             [
              0.4444444444444444,
              "#bd3786"
             ],
             [
              0.5555555555555556,
              "#d8576b"
             ],
             [
              0.6666666666666666,
              "#ed7953"
             ],
             [
              0.7777777777777778,
              "#fb9f3a"
             ],
             [
              0.8888888888888888,
              "#fdca26"
             ],
             [
              1,
              "#f0f921"
             ]
            ],
            "type": "heatmapgl"
           }
          ],
          "histogram": [
           {
            "marker": {
             "pattern": {
              "fillmode": "overlay",
              "size": 10,
              "solidity": 0.2
             }
            },
            "type": "histogram"
           }
          ],
          "histogram2d": [
           {
            "colorbar": {
             "outlinewidth": 0,
             "ticks": ""
            },
            "colorscale": [
             [
              0,
              "#0d0887"
             ],
             [
              0.1111111111111111,
              "#46039f"
             ],
             [
              0.2222222222222222,
              "#7201a8"
             ],
             [
              0.3333333333333333,
              "#9c179e"
             ],
             [
              0.4444444444444444,
              "#bd3786"
             ],
             [
              0.5555555555555556,
              "#d8576b"
             ],
             [
              0.6666666666666666,
              "#ed7953"
             ],
             [
              0.7777777777777778,
              "#fb9f3a"
             ],
             [
              0.8888888888888888,
              "#fdca26"
             ],
             [
              1,
              "#f0f921"
             ]
            ],
            "type": "histogram2d"
           }
          ],
          "histogram2dcontour": [
           {
            "colorbar": {
             "outlinewidth": 0,
             "ticks": ""
            },
            "colorscale": [
             [
              0,
              "#0d0887"
             ],
             [
              0.1111111111111111,
              "#46039f"
             ],
             [
              0.2222222222222222,
              "#7201a8"
             ],
             [
              0.3333333333333333,
              "#9c179e"
             ],
             [
              0.4444444444444444,
              "#bd3786"
             ],
             [
              0.5555555555555556,
              "#d8576b"
             ],
             [
              0.6666666666666666,
              "#ed7953"
             ],
             [
              0.7777777777777778,
              "#fb9f3a"
             ],
             [
              0.8888888888888888,
              "#fdca26"
             ],
             [
              1,
              "#f0f921"
             ]
            ],
            "type": "histogram2dcontour"
           }
          ],
          "mesh3d": [
           {
            "colorbar": {
             "outlinewidth": 0,
             "ticks": ""
            },
            "type": "mesh3d"
           }
          ],
          "parcoords": [
           {
            "line": {
             "colorbar": {
              "outlinewidth": 0,
              "ticks": ""
             }
            },
            "type": "parcoords"
           }
          ],
          "pie": [
           {
            "automargin": true,
            "type": "pie"
           }
          ],
          "scatter": [
           {
            "fillpattern": {
             "fillmode": "overlay",
             "size": 10,
             "solidity": 0.2
            },
            "type": "scatter"
           }
          ],
          "scatter3d": [
           {
            "line": {
             "colorbar": {
              "outlinewidth": 0,
              "ticks": ""
             }
            },
            "marker": {
             "colorbar": {
              "outlinewidth": 0,
              "ticks": ""
             }
            },
            "type": "scatter3d"
           }
          ],
          "scattercarpet": [
           {
            "marker": {
             "colorbar": {
              "outlinewidth": 0,
              "ticks": ""
             }
            },
            "type": "scattercarpet"
           }
          ],
          "scattergeo": [
           {
            "marker": {
             "colorbar": {
              "outlinewidth": 0,
              "ticks": ""
             }
            },
            "type": "scattergeo"
           }
          ],
          "scattergl": [
           {
            "marker": {
             "colorbar": {
              "outlinewidth": 0,
              "ticks": ""
             }
            },
            "type": "scattergl"
           }
          ],
          "scattermapbox": [
           {
            "marker": {
             "colorbar": {
              "outlinewidth": 0,
              "ticks": ""
             }
            },
            "type": "scattermapbox"
           }
          ],
          "scatterpolar": [
           {
            "marker": {
             "colorbar": {
              "outlinewidth": 0,
              "ticks": ""
             }
            },
            "type": "scatterpolar"
           }
          ],
          "scatterpolargl": [
           {
            "marker": {
             "colorbar": {
              "outlinewidth": 0,
              "ticks": ""
             }
            },
            "type": "scatterpolargl"
           }
          ],
          "scatterternary": [
           {
            "marker": {
             "colorbar": {
              "outlinewidth": 0,
              "ticks": ""
             }
            },
            "type": "scatterternary"
           }
          ],
          "surface": [
           {
            "colorbar": {
             "outlinewidth": 0,
             "ticks": ""
            },
            "colorscale": [
             [
              0,
              "#0d0887"
             ],
             [
              0.1111111111111111,
              "#46039f"
             ],
             [
              0.2222222222222222,
              "#7201a8"
             ],
             [
              0.3333333333333333,
              "#9c179e"
             ],
             [
              0.4444444444444444,
              "#bd3786"
             ],
             [
              0.5555555555555556,
              "#d8576b"
             ],
             [
              0.6666666666666666,
              "#ed7953"
             ],
             [
              0.7777777777777778,
              "#fb9f3a"
             ],
             [
              0.8888888888888888,
              "#fdca26"
             ],
             [
              1,
              "#f0f921"
             ]
            ],
            "type": "surface"
           }
          ],
          "table": [
           {
            "cells": {
             "fill": {
              "color": "#EBF0F8"
             },
             "line": {
              "color": "white"
             }
            },
            "header": {
             "fill": {
              "color": "#C8D4E3"
             },
             "line": {
              "color": "white"
             }
            },
            "type": "table"
           }
          ]
         },
         "layout": {
          "annotationdefaults": {
           "arrowcolor": "#2a3f5f",
           "arrowhead": 0,
           "arrowwidth": 1
          },
          "autotypenumbers": "strict",
          "coloraxis": {
           "colorbar": {
            "outlinewidth": 0,
            "ticks": ""
           }
          },
          "colorscale": {
           "diverging": [
            [
             0,
             "#8e0152"
            ],
            [
             0.1,
             "#c51b7d"
            ],
            [
             0.2,
             "#de77ae"
            ],
            [
             0.3,
             "#f1b6da"
            ],
            [
             0.4,
             "#fde0ef"
            ],
            [
             0.5,
             "#f7f7f7"
            ],
            [
             0.6,
             "#e6f5d0"
            ],
            [
             0.7,
             "#b8e186"
            ],
            [
             0.8,
             "#7fbc41"
            ],
            [
             0.9,
             "#4d9221"
            ],
            [
             1,
             "#276419"
            ]
           ],
           "sequential": [
            [
             0,
             "#0d0887"
            ],
            [
             0.1111111111111111,
             "#46039f"
            ],
            [
             0.2222222222222222,
             "#7201a8"
            ],
            [
             0.3333333333333333,
             "#9c179e"
            ],
            [
             0.4444444444444444,
             "#bd3786"
            ],
            [
             0.5555555555555556,
             "#d8576b"
            ],
            [
             0.6666666666666666,
             "#ed7953"
            ],
            [
             0.7777777777777778,
             "#fb9f3a"
            ],
            [
             0.8888888888888888,
             "#fdca26"
            ],
            [
             1,
             "#f0f921"
            ]
           ],
           "sequentialminus": [
            [
             0,
             "#0d0887"
            ],
            [
             0.1111111111111111,
             "#46039f"
            ],
            [
             0.2222222222222222,
             "#7201a8"
            ],
            [
             0.3333333333333333,
             "#9c179e"
            ],
            [
             0.4444444444444444,
             "#bd3786"
            ],
            [
             0.5555555555555556,
             "#d8576b"
            ],
            [
             0.6666666666666666,
             "#ed7953"
            ],
            [
             0.7777777777777778,
             "#fb9f3a"
            ],
            [
             0.8888888888888888,
             "#fdca26"
            ],
            [
             1,
             "#f0f921"
            ]
           ]
          },
          "colorway": [
           "#636efa",
           "#EF553B",
           "#00cc96",
           "#ab63fa",
           "#FFA15A",
           "#19d3f3",
           "#FF6692",
           "#B6E880",
           "#FF97FF",
           "#FECB52"
          ],
          "font": {
           "color": "#2a3f5f"
          },
          "geo": {
           "bgcolor": "white",
           "lakecolor": "white",
           "landcolor": "#E5ECF6",
           "showlakes": true,
           "showland": true,
           "subunitcolor": "white"
          },
          "hoverlabel": {
           "align": "left"
          },
          "hovermode": "closest",
          "mapbox": {
           "style": "light"
          },
          "paper_bgcolor": "white",
          "plot_bgcolor": "#E5ECF6",
          "polar": {
           "angularaxis": {
            "gridcolor": "white",
            "linecolor": "white",
            "ticks": ""
           },
           "bgcolor": "#E5ECF6",
           "radialaxis": {
            "gridcolor": "white",
            "linecolor": "white",
            "ticks": ""
           }
          },
          "scene": {
           "xaxis": {
            "backgroundcolor": "#E5ECF6",
            "gridcolor": "white",
            "gridwidth": 2,
            "linecolor": "white",
            "showbackground": true,
            "ticks": "",
            "zerolinecolor": "white"
           },
           "yaxis": {
            "backgroundcolor": "#E5ECF6",
            "gridcolor": "white",
            "gridwidth": 2,
            "linecolor": "white",
            "showbackground": true,
            "ticks": "",
            "zerolinecolor": "white"
           },
           "zaxis": {
            "backgroundcolor": "#E5ECF6",
            "gridcolor": "white",
            "gridwidth": 2,
            "linecolor": "white",
            "showbackground": true,
            "ticks": "",
            "zerolinecolor": "white"
           }
          },
          "shapedefaults": {
           "line": {
            "color": "#2a3f5f"
           }
          },
          "ternary": {
           "aaxis": {
            "gridcolor": "white",
            "linecolor": "white",
            "ticks": ""
           },
           "baxis": {
            "gridcolor": "white",
            "linecolor": "white",
            "ticks": ""
           },
           "bgcolor": "#E5ECF6",
           "caxis": {
            "gridcolor": "white",
            "linecolor": "white",
            "ticks": ""
           }
          },
          "title": {
           "x": 0.05
          },
          "xaxis": {
           "automargin": true,
           "gridcolor": "white",
           "linecolor": "white",
           "ticks": "",
           "title": {
            "standoff": 15
           },
           "zerolinecolor": "white",
           "zerolinewidth": 2
          },
          "yaxis": {
           "automargin": true,
           "gridcolor": "white",
           "linecolor": "white",
           "ticks": "",
           "title": {
            "standoff": 15
           },
           "zerolinecolor": "white",
           "zerolinewidth": 2
          }
         }
        },
        "title": {
         "text": "Minutes timeline"
        },
        "xaxis": {
         "anchor": "y",
         "domain": [
          0,
          1
         ],
         "rangeslider": {
          "visible": true
         },
         "title": {
          "text": "Minutes"
         }
        },
        "yaxis": {
         "anchor": "x",
         "domain": [
          0,
          1
         ],
         "title": {
          "text": "Message count"
         }
        }
       }
      }
     },
     "metadata": {},
     "output_type": "display_data"
    }
   ],
   "source": [
    "import plotly.express as px\n",
    "\n",
    "figures = {}\n",
    "\n",
    "for timeline_type in timeline_type_dataframe.keys():\n",
    "\n",
    "    timeline_df = timeline_type_dataframe[timeline_type]\n",
    "\n",
    "\n",
    "    if timeline_type == \"Weekdays\":\n",
    "\n",
    "        weeks_plot = []\n",
    "\n",
    "        for week_num in range(1,5):\n",
    "\n",
    "            fig = px.line(timeline_df, x=\"x\", y=f\"y{week_num}\", \n",
    "                        labels={\n",
    "                                \"x\": timeline_type,\n",
    "                                f\"y{week_num}\": \"Message count\",\n",
    "                                \"username\": \"Users\"\n",
    "                            },\n",
    "\n",
    "                        title=f\"{timeline_type} [week - {week_num}] timeline\", \n",
    "                        color='username',markers = True\n",
    "                        \n",
    "                        )\n",
    "    \n",
    "            weeks_plot.append(fig)\n",
    "            fig.show()\n",
    "\n",
    "        figures[timeline_type] = weeks_plot\n",
    "             \n",
    "        continue          \n",
    "\n",
    "\n",
    "\n",
    "    fig = px.line(timeline_df, x=\"x\", y=\"y\", \n",
    "                labels={\n",
    "                        \"x\": timeline_type,\n",
    "                        \"y\": \"Message count\",\n",
    "                        \"username\": \"Users\"\n",
    "                    },\n",
    "\n",
    "                title=f\"{timeline_type} timeline\", \n",
    "                color='username',markers = True\n",
    "                \n",
    "                )\n",
    "\n",
    "\n",
    "    if timeline_type == \"Years\":\n",
    "        fig.update_layout( xaxis={\n",
    "            'range': [timeline_df['x'].min(), timeline_df['x'].max()], \n",
    "            'tickvals': [*range(int(timeline_df['x'].min()), int(timeline_df['x'].max()))]})\n",
    "\n",
    "    if timeline_type in [\"Years\",\"Days\",\"Hours\",\"Minutes\"]:\n",
    "        fig.update_xaxes(rangeslider_visible=True)            \n",
    "\n",
    "    figures[timeline_type] = fig\n",
    "\n",
    "    fig.show()\n",
    "\n"
   ]
  },
  {
   "cell_type": "markdown",
   "metadata": {},
   "source": [
    "# Bargraph - counting No. of messages in a given timeline"
   ]
  },
  {
   "cell_type": "code",
   "execution_count": 89,
   "metadata": {},
   "outputs": [],
   "source": [
    "bar_plot_names = [\"Years\",\"Months\",\"Weekdays\",\"Days\",\"Hours\",\"Minutes\"]\n",
    "bar_type_dataframe = {bar_plot_type : \"\" for bar_plot_type in bar_plot_names }"
   ]
  },
  {
   "cell_type": "code",
   "execution_count": 90,
   "metadata": {},
   "outputs": [],
   "source": [
    "for timeline_type,timeline_df in timeline_type_dataframe.items():\n",
    "    df = timeline_df.groupby(\"x\").sum()\n",
    "    df.drop(\"username\",inplace=True,axis=1)\n",
    "    df.reset_index(inplace=True)\n",
    "    bar_type_dataframe[timeline_type]=df"
   ]
  },
  {
   "cell_type": "code",
   "execution_count": 91,
   "metadata": {},
   "outputs": [
    {
     "data": {
      "application/vnd.plotly.v1+json": {
       "config": {
        "plotlyServerURL": "https://plot.ly"
       },
       "data": [
        {
         "alignmentgroup": "True",
         "hovertemplate": "Years=%{x}<br>Message count=%{y}<extra></extra>",
         "legendgroup": "",
         "marker": {
          "color": "#636efa",
          "pattern": {
           "shape": ""
          }
         },
         "name": "",
         "offsetgroup": "",
         "orientation": "v",
         "showlegend": false,
         "textposition": "auto",
         "texttemplate": "%{y:.2s}",
         "type": "bar",
         "x": [
          2020,
          2021,
          2022,
          2023,
          2024,
          2025
         ],
         "xaxis": "x",
         "y": [
          0,
          0,
          0,
          1554,
          0,
          0
         ],
         "yaxis": "y"
        }
       ],
       "layout": {
        "barmode": "relative",
        "legend": {
         "tracegroupgap": 0
        },
        "template": {
         "data": {
          "bar": [
           {
            "error_x": {
             "color": "#2a3f5f"
            },
            "error_y": {
             "color": "#2a3f5f"
            },
            "marker": {
             "line": {
              "color": "#E5ECF6",
              "width": 0.5
             },
             "pattern": {
              "fillmode": "overlay",
              "size": 10,
              "solidity": 0.2
             }
            },
            "type": "bar"
           }
          ],
          "barpolar": [
           {
            "marker": {
             "line": {
              "color": "#E5ECF6",
              "width": 0.5
             },
             "pattern": {
              "fillmode": "overlay",
              "size": 10,
              "solidity": 0.2
             }
            },
            "type": "barpolar"
           }
          ],
          "carpet": [
           {
            "aaxis": {
             "endlinecolor": "#2a3f5f",
             "gridcolor": "white",
             "linecolor": "white",
             "minorgridcolor": "white",
             "startlinecolor": "#2a3f5f"
            },
            "baxis": {
             "endlinecolor": "#2a3f5f",
             "gridcolor": "white",
             "linecolor": "white",
             "minorgridcolor": "white",
             "startlinecolor": "#2a3f5f"
            },
            "type": "carpet"
           }
          ],
          "choropleth": [
           {
            "colorbar": {
             "outlinewidth": 0,
             "ticks": ""
            },
            "type": "choropleth"
           }
          ],
          "contour": [
           {
            "colorbar": {
             "outlinewidth": 0,
             "ticks": ""
            },
            "colorscale": [
             [
              0,
              "#0d0887"
             ],
             [
              0.1111111111111111,
              "#46039f"
             ],
             [
              0.2222222222222222,
              "#7201a8"
             ],
             [
              0.3333333333333333,
              "#9c179e"
             ],
             [
              0.4444444444444444,
              "#bd3786"
             ],
             [
              0.5555555555555556,
              "#d8576b"
             ],
             [
              0.6666666666666666,
              "#ed7953"
             ],
             [
              0.7777777777777778,
              "#fb9f3a"
             ],
             [
              0.8888888888888888,
              "#fdca26"
             ],
             [
              1,
              "#f0f921"
             ]
            ],
            "type": "contour"
           }
          ],
          "contourcarpet": [
           {
            "colorbar": {
             "outlinewidth": 0,
             "ticks": ""
            },
            "type": "contourcarpet"
           }
          ],
          "heatmap": [
           {
            "colorbar": {
             "outlinewidth": 0,
             "ticks": ""
            },
            "colorscale": [
             [
              0,
              "#0d0887"
             ],
             [
              0.1111111111111111,
              "#46039f"
             ],
             [
              0.2222222222222222,
              "#7201a8"
             ],
             [
              0.3333333333333333,
              "#9c179e"
             ],
             [
              0.4444444444444444,
              "#bd3786"
             ],
             [
              0.5555555555555556,
              "#d8576b"
             ],
             [
              0.6666666666666666,
              "#ed7953"
             ],
             [
              0.7777777777777778,
              "#fb9f3a"
             ],
             [
              0.8888888888888888,
              "#fdca26"
             ],
             [
              1,
              "#f0f921"
             ]
            ],
            "type": "heatmap"
           }
          ],
          "heatmapgl": [
           {
            "colorbar": {
             "outlinewidth": 0,
             "ticks": ""
            },
            "colorscale": [
             [
              0,
              "#0d0887"
             ],
             [
              0.1111111111111111,
              "#46039f"
             ],
             [
              0.2222222222222222,
              "#7201a8"
             ],
             [
              0.3333333333333333,
              "#9c179e"
             ],
             [
              0.4444444444444444,
              "#bd3786"
             ],
             [
              0.5555555555555556,
              "#d8576b"
             ],
             [
              0.6666666666666666,
              "#ed7953"
             ],
             [
              0.7777777777777778,
              "#fb9f3a"
             ],
             [
              0.8888888888888888,
              "#fdca26"
             ],
             [
              1,
              "#f0f921"
             ]
            ],
            "type": "heatmapgl"
           }
          ],
          "histogram": [
           {
            "marker": {
             "pattern": {
              "fillmode": "overlay",
              "size": 10,
              "solidity": 0.2
             }
            },
            "type": "histogram"
           }
          ],
          "histogram2d": [
           {
            "colorbar": {
             "outlinewidth": 0,
             "ticks": ""
            },
            "colorscale": [
             [
              0,
              "#0d0887"
             ],
             [
              0.1111111111111111,
              "#46039f"
             ],
             [
              0.2222222222222222,
              "#7201a8"
             ],
             [
              0.3333333333333333,
              "#9c179e"
             ],
             [
              0.4444444444444444,
              "#bd3786"
             ],
             [
              0.5555555555555556,
              "#d8576b"
             ],
             [
              0.6666666666666666,
              "#ed7953"
             ],
             [
              0.7777777777777778,
              "#fb9f3a"
             ],
             [
              0.8888888888888888,
              "#fdca26"
             ],
             [
              1,
              "#f0f921"
             ]
            ],
            "type": "histogram2d"
           }
          ],
          "histogram2dcontour": [
           {
            "colorbar": {
             "outlinewidth": 0,
             "ticks": ""
            },
            "colorscale": [
             [
              0,
              "#0d0887"
             ],
             [
              0.1111111111111111,
              "#46039f"
             ],
             [
              0.2222222222222222,
              "#7201a8"
             ],
             [
              0.3333333333333333,
              "#9c179e"
             ],
             [
              0.4444444444444444,
              "#bd3786"
             ],
             [
              0.5555555555555556,
              "#d8576b"
             ],
             [
              0.6666666666666666,
              "#ed7953"
             ],
             [
              0.7777777777777778,
              "#fb9f3a"
             ],
             [
              0.8888888888888888,
              "#fdca26"
             ],
             [
              1,
              "#f0f921"
             ]
            ],
            "type": "histogram2dcontour"
           }
          ],
          "mesh3d": [
           {
            "colorbar": {
             "outlinewidth": 0,
             "ticks": ""
            },
            "type": "mesh3d"
           }
          ],
          "parcoords": [
           {
            "line": {
             "colorbar": {
              "outlinewidth": 0,
              "ticks": ""
             }
            },
            "type": "parcoords"
           }
          ],
          "pie": [
           {
            "automargin": true,
            "type": "pie"
           }
          ],
          "scatter": [
           {
            "fillpattern": {
             "fillmode": "overlay",
             "size": 10,
             "solidity": 0.2
            },
            "type": "scatter"
           }
          ],
          "scatter3d": [
           {
            "line": {
             "colorbar": {
              "outlinewidth": 0,
              "ticks": ""
             }
            },
            "marker": {
             "colorbar": {
              "outlinewidth": 0,
              "ticks": ""
             }
            },
            "type": "scatter3d"
           }
          ],
          "scattercarpet": [
           {
            "marker": {
             "colorbar": {
              "outlinewidth": 0,
              "ticks": ""
             }
            },
            "type": "scattercarpet"
           }
          ],
          "scattergeo": [
           {
            "marker": {
             "colorbar": {
              "outlinewidth": 0,
              "ticks": ""
             }
            },
            "type": "scattergeo"
           }
          ],
          "scattergl": [
           {
            "marker": {
             "colorbar": {
              "outlinewidth": 0,
              "ticks": ""
             }
            },
            "type": "scattergl"
           }
          ],
          "scattermapbox": [
           {
            "marker": {
             "colorbar": {
              "outlinewidth": 0,
              "ticks": ""
             }
            },
            "type": "scattermapbox"
           }
          ],
          "scatterpolar": [
           {
            "marker": {
             "colorbar": {
              "outlinewidth": 0,
              "ticks": ""
             }
            },
            "type": "scatterpolar"
           }
          ],
          "scatterpolargl": [
           {
            "marker": {
             "colorbar": {
              "outlinewidth": 0,
              "ticks": ""
             }
            },
            "type": "scatterpolargl"
           }
          ],
          "scatterternary": [
           {
            "marker": {
             "colorbar": {
              "outlinewidth": 0,
              "ticks": ""
             }
            },
            "type": "scatterternary"
           }
          ],
          "surface": [
           {
            "colorbar": {
             "outlinewidth": 0,
             "ticks": ""
            },
            "colorscale": [
             [
              0,
              "#0d0887"
             ],
             [
              0.1111111111111111,
              "#46039f"
             ],
             [
              0.2222222222222222,
              "#7201a8"
             ],
             [
              0.3333333333333333,
              "#9c179e"
             ],
             [
              0.4444444444444444,
              "#bd3786"
             ],
             [
              0.5555555555555556,
              "#d8576b"
             ],
             [
              0.6666666666666666,
              "#ed7953"
             ],
             [
              0.7777777777777778,
              "#fb9f3a"
             ],
             [
              0.8888888888888888,
              "#fdca26"
             ],
             [
              1,
              "#f0f921"
             ]
            ],
            "type": "surface"
           }
          ],
          "table": [
           {
            "cells": {
             "fill": {
              "color": "#EBF0F8"
             },
             "line": {
              "color": "white"
             }
            },
            "header": {
             "fill": {
              "color": "#C8D4E3"
             },
             "line": {
              "color": "white"
             }
            },
            "type": "table"
           }
          ]
         },
         "layout": {
          "annotationdefaults": {
           "arrowcolor": "#2a3f5f",
           "arrowhead": 0,
           "arrowwidth": 1
          },
          "autotypenumbers": "strict",
          "coloraxis": {
           "colorbar": {
            "outlinewidth": 0,
            "ticks": ""
           }
          },
          "colorscale": {
           "diverging": [
            [
             0,
             "#8e0152"
            ],
            [
             0.1,
             "#c51b7d"
            ],
            [
             0.2,
             "#de77ae"
            ],
            [
             0.3,
             "#f1b6da"
            ],
            [
             0.4,
             "#fde0ef"
            ],
            [
             0.5,
             "#f7f7f7"
            ],
            [
             0.6,
             "#e6f5d0"
            ],
            [
             0.7,
             "#b8e186"
            ],
            [
             0.8,
             "#7fbc41"
            ],
            [
             0.9,
             "#4d9221"
            ],
            [
             1,
             "#276419"
            ]
           ],
           "sequential": [
            [
             0,
             "#0d0887"
            ],
            [
             0.1111111111111111,
             "#46039f"
            ],
            [
             0.2222222222222222,
             "#7201a8"
            ],
            [
             0.3333333333333333,
             "#9c179e"
            ],
            [
             0.4444444444444444,
             "#bd3786"
            ],
            [
             0.5555555555555556,
             "#d8576b"
            ],
            [
             0.6666666666666666,
             "#ed7953"
            ],
            [
             0.7777777777777778,
             "#fb9f3a"
            ],
            [
             0.8888888888888888,
             "#fdca26"
            ],
            [
             1,
             "#f0f921"
            ]
           ],
           "sequentialminus": [
            [
             0,
             "#0d0887"
            ],
            [
             0.1111111111111111,
             "#46039f"
            ],
            [
             0.2222222222222222,
             "#7201a8"
            ],
            [
             0.3333333333333333,
             "#9c179e"
            ],
            [
             0.4444444444444444,
             "#bd3786"
            ],
            [
             0.5555555555555556,
             "#d8576b"
            ],
            [
             0.6666666666666666,
             "#ed7953"
            ],
            [
             0.7777777777777778,
             "#fb9f3a"
            ],
            [
             0.8888888888888888,
             "#fdca26"
            ],
            [
             1,
             "#f0f921"
            ]
           ]
          },
          "colorway": [
           "#636efa",
           "#EF553B",
           "#00cc96",
           "#ab63fa",
           "#FFA15A",
           "#19d3f3",
           "#FF6692",
           "#B6E880",
           "#FF97FF",
           "#FECB52"
          ],
          "font": {
           "color": "#2a3f5f"
          },
          "geo": {
           "bgcolor": "white",
           "lakecolor": "white",
           "landcolor": "#E5ECF6",
           "showlakes": true,
           "showland": true,
           "subunitcolor": "white"
          },
          "hoverlabel": {
           "align": "left"
          },
          "hovermode": "closest",
          "mapbox": {
           "style": "light"
          },
          "paper_bgcolor": "white",
          "plot_bgcolor": "#E5ECF6",
          "polar": {
           "angularaxis": {
            "gridcolor": "white",
            "linecolor": "white",
            "ticks": ""
           },
           "bgcolor": "#E5ECF6",
           "radialaxis": {
            "gridcolor": "white",
            "linecolor": "white",
            "ticks": ""
           }
          },
          "scene": {
           "xaxis": {
            "backgroundcolor": "#E5ECF6",
            "gridcolor": "white",
            "gridwidth": 2,
            "linecolor": "white",
            "showbackground": true,
            "ticks": "",
            "zerolinecolor": "white"
           },
           "yaxis": {
            "backgroundcolor": "#E5ECF6",
            "gridcolor": "white",
            "gridwidth": 2,
            "linecolor": "white",
            "showbackground": true,
            "ticks": "",
            "zerolinecolor": "white"
           },
           "zaxis": {
            "backgroundcolor": "#E5ECF6",
            "gridcolor": "white",
            "gridwidth": 2,
            "linecolor": "white",
            "showbackground": true,
            "ticks": "",
            "zerolinecolor": "white"
           }
          },
          "shapedefaults": {
           "line": {
            "color": "#2a3f5f"
           }
          },
          "ternary": {
           "aaxis": {
            "gridcolor": "white",
            "linecolor": "white",
            "ticks": ""
           },
           "baxis": {
            "gridcolor": "white",
            "linecolor": "white",
            "ticks": ""
           },
           "bgcolor": "#E5ECF6",
           "caxis": {
            "gridcolor": "white",
            "linecolor": "white",
            "ticks": ""
           }
          },
          "title": {
           "x": 0.05
          },
          "xaxis": {
           "automargin": true,
           "gridcolor": "white",
           "linecolor": "white",
           "ticks": "",
           "title": {
            "standoff": 15
           },
           "zerolinecolor": "white",
           "zerolinewidth": 2
          },
          "yaxis": {
           "automargin": true,
           "gridcolor": "white",
           "linecolor": "white",
           "ticks": "",
           "title": {
            "standoff": 15
           },
           "zerolinecolor": "white",
           "zerolinewidth": 2
          }
         }
        },
        "title": {
         "text": "Years timeline"
        },
        "xaxis": {
         "anchor": "y",
         "domain": [
          0,
          1
         ],
         "range": [
          2020,
          2025
         ],
         "rangeslider": {
          "visible": true
         },
         "tickvals": [
          2020,
          2021,
          2022,
          2023,
          2024
         ],
         "title": {
          "text": "Years"
         }
        },
        "yaxis": {
         "anchor": "x",
         "domain": [
          0,
          1
         ],
         "title": {
          "text": "Message count"
         }
        }
       }
      }
     },
     "metadata": {},
     "output_type": "display_data"
    },
    {
     "data": {
      "application/vnd.plotly.v1+json": {
       "config": {
        "plotlyServerURL": "https://plot.ly"
       },
       "data": [
        {
         "alignmentgroup": "True",
         "hovertemplate": "Months=%{x}<br>Message count=%{y}<extra></extra>",
         "legendgroup": "",
         "marker": {
          "color": "#636efa",
          "pattern": {
           "shape": ""
          }
         },
         "name": "",
         "offsetgroup": "",
         "orientation": "v",
         "showlegend": false,
         "textposition": "auto",
         "texttemplate": "%{y:.2s}",
         "type": "bar",
         "x": [
          "August",
          "July",
          "November",
          "October",
          "September"
         ],
         "xaxis": "x",
         "y": [
          429,
          21,
          351,
          335,
          333
         ],
         "yaxis": "y"
        }
       ],
       "layout": {
        "barmode": "relative",
        "legend": {
         "tracegroupgap": 0
        },
        "template": {
         "data": {
          "bar": [
           {
            "error_x": {
             "color": "#2a3f5f"
            },
            "error_y": {
             "color": "#2a3f5f"
            },
            "marker": {
             "line": {
              "color": "#E5ECF6",
              "width": 0.5
             },
             "pattern": {
              "fillmode": "overlay",
              "size": 10,
              "solidity": 0.2
             }
            },
            "type": "bar"
           }
          ],
          "barpolar": [
           {
            "marker": {
             "line": {
              "color": "#E5ECF6",
              "width": 0.5
             },
             "pattern": {
              "fillmode": "overlay",
              "size": 10,
              "solidity": 0.2
             }
            },
            "type": "barpolar"
           }
          ],
          "carpet": [
           {
            "aaxis": {
             "endlinecolor": "#2a3f5f",
             "gridcolor": "white",
             "linecolor": "white",
             "minorgridcolor": "white",
             "startlinecolor": "#2a3f5f"
            },
            "baxis": {
             "endlinecolor": "#2a3f5f",
             "gridcolor": "white",
             "linecolor": "white",
             "minorgridcolor": "white",
             "startlinecolor": "#2a3f5f"
            },
            "type": "carpet"
           }
          ],
          "choropleth": [
           {
            "colorbar": {
             "outlinewidth": 0,
             "ticks": ""
            },
            "type": "choropleth"
           }
          ],
          "contour": [
           {
            "colorbar": {
             "outlinewidth": 0,
             "ticks": ""
            },
            "colorscale": [
             [
              0,
              "#0d0887"
             ],
             [
              0.1111111111111111,
              "#46039f"
             ],
             [
              0.2222222222222222,
              "#7201a8"
             ],
             [
              0.3333333333333333,
              "#9c179e"
             ],
             [
              0.4444444444444444,
              "#bd3786"
             ],
             [
              0.5555555555555556,
              "#d8576b"
             ],
             [
              0.6666666666666666,
              "#ed7953"
             ],
             [
              0.7777777777777778,
              "#fb9f3a"
             ],
             [
              0.8888888888888888,
              "#fdca26"
             ],
             [
              1,
              "#f0f921"
             ]
            ],
            "type": "contour"
           }
          ],
          "contourcarpet": [
           {
            "colorbar": {
             "outlinewidth": 0,
             "ticks": ""
            },
            "type": "contourcarpet"
           }
          ],
          "heatmap": [
           {
            "colorbar": {
             "outlinewidth": 0,
             "ticks": ""
            },
            "colorscale": [
             [
              0,
              "#0d0887"
             ],
             [
              0.1111111111111111,
              "#46039f"
             ],
             [
              0.2222222222222222,
              "#7201a8"
             ],
             [
              0.3333333333333333,
              "#9c179e"
             ],
             [
              0.4444444444444444,
              "#bd3786"
             ],
             [
              0.5555555555555556,
              "#d8576b"
             ],
             [
              0.6666666666666666,
              "#ed7953"
             ],
             [
              0.7777777777777778,
              "#fb9f3a"
             ],
             [
              0.8888888888888888,
              "#fdca26"
             ],
             [
              1,
              "#f0f921"
             ]
            ],
            "type": "heatmap"
           }
          ],
          "heatmapgl": [
           {
            "colorbar": {
             "outlinewidth": 0,
             "ticks": ""
            },
            "colorscale": [
             [
              0,
              "#0d0887"
             ],
             [
              0.1111111111111111,
              "#46039f"
             ],
             [
              0.2222222222222222,
              "#7201a8"
             ],
             [
              0.3333333333333333,
              "#9c179e"
             ],
             [
              0.4444444444444444,
              "#bd3786"
             ],
             [
              0.5555555555555556,
              "#d8576b"
             ],
             [
              0.6666666666666666,
              "#ed7953"
             ],
             [
              0.7777777777777778,
              "#fb9f3a"
             ],
             [
              0.8888888888888888,
              "#fdca26"
             ],
             [
              1,
              "#f0f921"
             ]
            ],
            "type": "heatmapgl"
           }
          ],
          "histogram": [
           {
            "marker": {
             "pattern": {
              "fillmode": "overlay",
              "size": 10,
              "solidity": 0.2
             }
            },
            "type": "histogram"
           }
          ],
          "histogram2d": [
           {
            "colorbar": {
             "outlinewidth": 0,
             "ticks": ""
            },
            "colorscale": [
             [
              0,
              "#0d0887"
             ],
             [
              0.1111111111111111,
              "#46039f"
             ],
             [
              0.2222222222222222,
              "#7201a8"
             ],
             [
              0.3333333333333333,
              "#9c179e"
             ],
             [
              0.4444444444444444,
              "#bd3786"
             ],
             [
              0.5555555555555556,
              "#d8576b"
             ],
             [
              0.6666666666666666,
              "#ed7953"
             ],
             [
              0.7777777777777778,
              "#fb9f3a"
             ],
             [
              0.8888888888888888,
              "#fdca26"
             ],
             [
              1,
              "#f0f921"
             ]
            ],
            "type": "histogram2d"
           }
          ],
          "histogram2dcontour": [
           {
            "colorbar": {
             "outlinewidth": 0,
             "ticks": ""
            },
            "colorscale": [
             [
              0,
              "#0d0887"
             ],
             [
              0.1111111111111111,
              "#46039f"
             ],
             [
              0.2222222222222222,
              "#7201a8"
             ],
             [
              0.3333333333333333,
              "#9c179e"
             ],
             [
              0.4444444444444444,
              "#bd3786"
             ],
             [
              0.5555555555555556,
              "#d8576b"
             ],
             [
              0.6666666666666666,
              "#ed7953"
             ],
             [
              0.7777777777777778,
              "#fb9f3a"
             ],
             [
              0.8888888888888888,
              "#fdca26"
             ],
             [
              1,
              "#f0f921"
             ]
            ],
            "type": "histogram2dcontour"
           }
          ],
          "mesh3d": [
           {
            "colorbar": {
             "outlinewidth": 0,
             "ticks": ""
            },
            "type": "mesh3d"
           }
          ],
          "parcoords": [
           {
            "line": {
             "colorbar": {
              "outlinewidth": 0,
              "ticks": ""
             }
            },
            "type": "parcoords"
           }
          ],
          "pie": [
           {
            "automargin": true,
            "type": "pie"
           }
          ],
          "scatter": [
           {
            "fillpattern": {
             "fillmode": "overlay",
             "size": 10,
             "solidity": 0.2
            },
            "type": "scatter"
           }
          ],
          "scatter3d": [
           {
            "line": {
             "colorbar": {
              "outlinewidth": 0,
              "ticks": ""
             }
            },
            "marker": {
             "colorbar": {
              "outlinewidth": 0,
              "ticks": ""
             }
            },
            "type": "scatter3d"
           }
          ],
          "scattercarpet": [
           {
            "marker": {
             "colorbar": {
              "outlinewidth": 0,
              "ticks": ""
             }
            },
            "type": "scattercarpet"
           }
          ],
          "scattergeo": [
           {
            "marker": {
             "colorbar": {
              "outlinewidth": 0,
              "ticks": ""
             }
            },
            "type": "scattergeo"
           }
          ],
          "scattergl": [
           {
            "marker": {
             "colorbar": {
              "outlinewidth": 0,
              "ticks": ""
             }
            },
            "type": "scattergl"
           }
          ],
          "scattermapbox": [
           {
            "marker": {
             "colorbar": {
              "outlinewidth": 0,
              "ticks": ""
             }
            },
            "type": "scattermapbox"
           }
          ],
          "scatterpolar": [
           {
            "marker": {
             "colorbar": {
              "outlinewidth": 0,
              "ticks": ""
             }
            },
            "type": "scatterpolar"
           }
          ],
          "scatterpolargl": [
           {
            "marker": {
             "colorbar": {
              "outlinewidth": 0,
              "ticks": ""
             }
            },
            "type": "scatterpolargl"
           }
          ],
          "scatterternary": [
           {
            "marker": {
             "colorbar": {
              "outlinewidth": 0,
              "ticks": ""
             }
            },
            "type": "scatterternary"
           }
          ],
          "surface": [
           {
            "colorbar": {
             "outlinewidth": 0,
             "ticks": ""
            },
            "colorscale": [
             [
              0,
              "#0d0887"
             ],
             [
              0.1111111111111111,
              "#46039f"
             ],
             [
              0.2222222222222222,
              "#7201a8"
             ],
             [
              0.3333333333333333,
              "#9c179e"
             ],
             [
              0.4444444444444444,
              "#bd3786"
             ],
             [
              0.5555555555555556,
              "#d8576b"
             ],
             [
              0.6666666666666666,
              "#ed7953"
             ],
             [
              0.7777777777777778,
              "#fb9f3a"
             ],
             [
              0.8888888888888888,
              "#fdca26"
             ],
             [
              1,
              "#f0f921"
             ]
            ],
            "type": "surface"
           }
          ],
          "table": [
           {
            "cells": {
             "fill": {
              "color": "#EBF0F8"
             },
             "line": {
              "color": "white"
             }
            },
            "header": {
             "fill": {
              "color": "#C8D4E3"
             },
             "line": {
              "color": "white"
             }
            },
            "type": "table"
           }
          ]
         },
         "layout": {
          "annotationdefaults": {
           "arrowcolor": "#2a3f5f",
           "arrowhead": 0,
           "arrowwidth": 1
          },
          "autotypenumbers": "strict",
          "coloraxis": {
           "colorbar": {
            "outlinewidth": 0,
            "ticks": ""
           }
          },
          "colorscale": {
           "diverging": [
            [
             0,
             "#8e0152"
            ],
            [
             0.1,
             "#c51b7d"
            ],
            [
             0.2,
             "#de77ae"
            ],
            [
             0.3,
             "#f1b6da"
            ],
            [
             0.4,
             "#fde0ef"
            ],
            [
             0.5,
             "#f7f7f7"
            ],
            [
             0.6,
             "#e6f5d0"
            ],
            [
             0.7,
             "#b8e186"
            ],
            [
             0.8,
             "#7fbc41"
            ],
            [
             0.9,
             "#4d9221"
            ],
            [
             1,
             "#276419"
            ]
           ],
           "sequential": [
            [
             0,
             "#0d0887"
            ],
            [
             0.1111111111111111,
             "#46039f"
            ],
            [
             0.2222222222222222,
             "#7201a8"
            ],
            [
             0.3333333333333333,
             "#9c179e"
            ],
            [
             0.4444444444444444,
             "#bd3786"
            ],
            [
             0.5555555555555556,
             "#d8576b"
            ],
            [
             0.6666666666666666,
             "#ed7953"
            ],
            [
             0.7777777777777778,
             "#fb9f3a"
            ],
            [
             0.8888888888888888,
             "#fdca26"
            ],
            [
             1,
             "#f0f921"
            ]
           ],
           "sequentialminus": [
            [
             0,
             "#0d0887"
            ],
            [
             0.1111111111111111,
             "#46039f"
            ],
            [
             0.2222222222222222,
             "#7201a8"
            ],
            [
             0.3333333333333333,
             "#9c179e"
            ],
            [
             0.4444444444444444,
             "#bd3786"
            ],
            [
             0.5555555555555556,
             "#d8576b"
            ],
            [
             0.6666666666666666,
             "#ed7953"
            ],
            [
             0.7777777777777778,
             "#fb9f3a"
            ],
            [
             0.8888888888888888,
             "#fdca26"
            ],
            [
             1,
             "#f0f921"
            ]
           ]
          },
          "colorway": [
           "#636efa",
           "#EF553B",
           "#00cc96",
           "#ab63fa",
           "#FFA15A",
           "#19d3f3",
           "#FF6692",
           "#B6E880",
           "#FF97FF",
           "#FECB52"
          ],
          "font": {
           "color": "#2a3f5f"
          },
          "geo": {
           "bgcolor": "white",
           "lakecolor": "white",
           "landcolor": "#E5ECF6",
           "showlakes": true,
           "showland": true,
           "subunitcolor": "white"
          },
          "hoverlabel": {
           "align": "left"
          },
          "hovermode": "closest",
          "mapbox": {
           "style": "light"
          },
          "paper_bgcolor": "white",
          "plot_bgcolor": "#E5ECF6",
          "polar": {
           "angularaxis": {
            "gridcolor": "white",
            "linecolor": "white",
            "ticks": ""
           },
           "bgcolor": "#E5ECF6",
           "radialaxis": {
            "gridcolor": "white",
            "linecolor": "white",
            "ticks": ""
           }
          },
          "scene": {
           "xaxis": {
            "backgroundcolor": "#E5ECF6",
            "gridcolor": "white",
            "gridwidth": 2,
            "linecolor": "white",
            "showbackground": true,
            "ticks": "",
            "zerolinecolor": "white"
           },
           "yaxis": {
            "backgroundcolor": "#E5ECF6",
            "gridcolor": "white",
            "gridwidth": 2,
            "linecolor": "white",
            "showbackground": true,
            "ticks": "",
            "zerolinecolor": "white"
           },
           "zaxis": {
            "backgroundcolor": "#E5ECF6",
            "gridcolor": "white",
            "gridwidth": 2,
            "linecolor": "white",
            "showbackground": true,
            "ticks": "",
            "zerolinecolor": "white"
           }
          },
          "shapedefaults": {
           "line": {
            "color": "#2a3f5f"
           }
          },
          "ternary": {
           "aaxis": {
            "gridcolor": "white",
            "linecolor": "white",
            "ticks": ""
           },
           "baxis": {
            "gridcolor": "white",
            "linecolor": "white",
            "ticks": ""
           },
           "bgcolor": "#E5ECF6",
           "caxis": {
            "gridcolor": "white",
            "linecolor": "white",
            "ticks": ""
           }
          },
          "title": {
           "x": 0.05
          },
          "xaxis": {
           "automargin": true,
           "gridcolor": "white",
           "linecolor": "white",
           "ticks": "",
           "title": {
            "standoff": 15
           },
           "zerolinecolor": "white",
           "zerolinewidth": 2
          },
          "yaxis": {
           "automargin": true,
           "gridcolor": "white",
           "linecolor": "white",
           "ticks": "",
           "title": {
            "standoff": 15
           },
           "zerolinecolor": "white",
           "zerolinewidth": 2
          }
         }
        },
        "title": {
         "text": "Months timeline"
        },
        "xaxis": {
         "anchor": "y",
         "domain": [
          0,
          1
         ],
         "title": {
          "text": "Months"
         }
        },
        "yaxis": {
         "anchor": "x",
         "domain": [
          0,
          1
         ],
         "title": {
          "text": "Message count"
         }
        }
       }
      }
     },
     "metadata": {},
     "output_type": "display_data"
    },
    {
     "data": {
      "application/vnd.plotly.v1+json": {
       "config": {
        "plotlyServerURL": "https://plot.ly"
       },
       "data": [
        {
         "alignmentgroup": "True",
         "hovertemplate": "Weekdays=%{x}<br>Message count=%{y}<extra></extra>",
         "legendgroup": "",
         "marker": {
          "color": "#636efa",
          "pattern": {
           "shape": ""
          }
         },
         "name": "",
         "offsetgroup": "",
         "orientation": "v",
         "showlegend": false,
         "textposition": "auto",
         "texttemplate": "%{y:.2s}",
         "type": "bar",
         "x": [
          "Friday",
          "Monday",
          "Saturday",
          "Sunday",
          "Thursday",
          "Tuesday",
          "Wednesday"
         ],
         "xaxis": "x",
         "y": [
          18,
          55,
          22,
          1,
          29,
          13,
          15
         ],
         "yaxis": "y"
        }
       ],
       "layout": {
        "barmode": "relative",
        "legend": {
         "tracegroupgap": 0
        },
        "template": {
         "data": {
          "bar": [
           {
            "error_x": {
             "color": "#2a3f5f"
            },
            "error_y": {
             "color": "#2a3f5f"
            },
            "marker": {
             "line": {
              "color": "#E5ECF6",
              "width": 0.5
             },
             "pattern": {
              "fillmode": "overlay",
              "size": 10,
              "solidity": 0.2
             }
            },
            "type": "bar"
           }
          ],
          "barpolar": [
           {
            "marker": {
             "line": {
              "color": "#E5ECF6",
              "width": 0.5
             },
             "pattern": {
              "fillmode": "overlay",
              "size": 10,
              "solidity": 0.2
             }
            },
            "type": "barpolar"
           }
          ],
          "carpet": [
           {
            "aaxis": {
             "endlinecolor": "#2a3f5f",
             "gridcolor": "white",
             "linecolor": "white",
             "minorgridcolor": "white",
             "startlinecolor": "#2a3f5f"
            },
            "baxis": {
             "endlinecolor": "#2a3f5f",
             "gridcolor": "white",
             "linecolor": "white",
             "minorgridcolor": "white",
             "startlinecolor": "#2a3f5f"
            },
            "type": "carpet"
           }
          ],
          "choropleth": [
           {
            "colorbar": {
             "outlinewidth": 0,
             "ticks": ""
            },
            "type": "choropleth"
           }
          ],
          "contour": [
           {
            "colorbar": {
             "outlinewidth": 0,
             "ticks": ""
            },
            "colorscale": [
             [
              0,
              "#0d0887"
             ],
             [
              0.1111111111111111,
              "#46039f"
             ],
             [
              0.2222222222222222,
              "#7201a8"
             ],
             [
              0.3333333333333333,
              "#9c179e"
             ],
             [
              0.4444444444444444,
              "#bd3786"
             ],
             [
              0.5555555555555556,
              "#d8576b"
             ],
             [
              0.6666666666666666,
              "#ed7953"
             ],
             [
              0.7777777777777778,
              "#fb9f3a"
             ],
             [
              0.8888888888888888,
              "#fdca26"
             ],
             [
              1,
              "#f0f921"
             ]
            ],
            "type": "contour"
           }
          ],
          "contourcarpet": [
           {
            "colorbar": {
             "outlinewidth": 0,
             "ticks": ""
            },
            "type": "contourcarpet"
           }
          ],
          "heatmap": [
           {
            "colorbar": {
             "outlinewidth": 0,
             "ticks": ""
            },
            "colorscale": [
             [
              0,
              "#0d0887"
             ],
             [
              0.1111111111111111,
              "#46039f"
             ],
             [
              0.2222222222222222,
              "#7201a8"
             ],
             [
              0.3333333333333333,
              "#9c179e"
             ],
             [
              0.4444444444444444,
              "#bd3786"
             ],
             [
              0.5555555555555556,
              "#d8576b"
             ],
             [
              0.6666666666666666,
              "#ed7953"
             ],
             [
              0.7777777777777778,
              "#fb9f3a"
             ],
             [
              0.8888888888888888,
              "#fdca26"
             ],
             [
              1,
              "#f0f921"
             ]
            ],
            "type": "heatmap"
           }
          ],
          "heatmapgl": [
           {
            "colorbar": {
             "outlinewidth": 0,
             "ticks": ""
            },
            "colorscale": [
             [
              0,
              "#0d0887"
             ],
             [
              0.1111111111111111,
              "#46039f"
             ],
             [
              0.2222222222222222,
              "#7201a8"
             ],
             [
              0.3333333333333333,
              "#9c179e"
             ],
             [
              0.4444444444444444,
              "#bd3786"
             ],
             [
              0.5555555555555556,
              "#d8576b"
             ],
             [
              0.6666666666666666,
              "#ed7953"
             ],
             [
              0.7777777777777778,
              "#fb9f3a"
             ],
             [
              0.8888888888888888,
              "#fdca26"
             ],
             [
              1,
              "#f0f921"
             ]
            ],
            "type": "heatmapgl"
           }
          ],
          "histogram": [
           {
            "marker": {
             "pattern": {
              "fillmode": "overlay",
              "size": 10,
              "solidity": 0.2
             }
            },
            "type": "histogram"
           }
          ],
          "histogram2d": [
           {
            "colorbar": {
             "outlinewidth": 0,
             "ticks": ""
            },
            "colorscale": [
             [
              0,
              "#0d0887"
             ],
             [
              0.1111111111111111,
              "#46039f"
             ],
             [
              0.2222222222222222,
              "#7201a8"
             ],
             [
              0.3333333333333333,
              "#9c179e"
             ],
             [
              0.4444444444444444,
              "#bd3786"
             ],
             [
              0.5555555555555556,
              "#d8576b"
             ],
             [
              0.6666666666666666,
              "#ed7953"
             ],
             [
              0.7777777777777778,
              "#fb9f3a"
             ],
             [
              0.8888888888888888,
              "#fdca26"
             ],
             [
              1,
              "#f0f921"
             ]
            ],
            "type": "histogram2d"
           }
          ],
          "histogram2dcontour": [
           {
            "colorbar": {
             "outlinewidth": 0,
             "ticks": ""
            },
            "colorscale": [
             [
              0,
              "#0d0887"
             ],
             [
              0.1111111111111111,
              "#46039f"
             ],
             [
              0.2222222222222222,
              "#7201a8"
             ],
             [
              0.3333333333333333,
              "#9c179e"
             ],
             [
              0.4444444444444444,
              "#bd3786"
             ],
             [
              0.5555555555555556,
              "#d8576b"
             ],
             [
              0.6666666666666666,
              "#ed7953"
             ],
             [
              0.7777777777777778,
              "#fb9f3a"
             ],
             [
              0.8888888888888888,
              "#fdca26"
             ],
             [
              1,
              "#f0f921"
             ]
            ],
            "type": "histogram2dcontour"
           }
          ],
          "mesh3d": [
           {
            "colorbar": {
             "outlinewidth": 0,
             "ticks": ""
            },
            "type": "mesh3d"
           }
          ],
          "parcoords": [
           {
            "line": {
             "colorbar": {
              "outlinewidth": 0,
              "ticks": ""
             }
            },
            "type": "parcoords"
           }
          ],
          "pie": [
           {
            "automargin": true,
            "type": "pie"
           }
          ],
          "scatter": [
           {
            "fillpattern": {
             "fillmode": "overlay",
             "size": 10,
             "solidity": 0.2
            },
            "type": "scatter"
           }
          ],
          "scatter3d": [
           {
            "line": {
             "colorbar": {
              "outlinewidth": 0,
              "ticks": ""
             }
            },
            "marker": {
             "colorbar": {
              "outlinewidth": 0,
              "ticks": ""
             }
            },
            "type": "scatter3d"
           }
          ],
          "scattercarpet": [
           {
            "marker": {
             "colorbar": {
              "outlinewidth": 0,
              "ticks": ""
             }
            },
            "type": "scattercarpet"
           }
          ],
          "scattergeo": [
           {
            "marker": {
             "colorbar": {
              "outlinewidth": 0,
              "ticks": ""
             }
            },
            "type": "scattergeo"
           }
          ],
          "scattergl": [
           {
            "marker": {
             "colorbar": {
              "outlinewidth": 0,
              "ticks": ""
             }
            },
            "type": "scattergl"
           }
          ],
          "scattermapbox": [
           {
            "marker": {
             "colorbar": {
              "outlinewidth": 0,
              "ticks": ""
             }
            },
            "type": "scattermapbox"
           }
          ],
          "scatterpolar": [
           {
            "marker": {
             "colorbar": {
              "outlinewidth": 0,
              "ticks": ""
             }
            },
            "type": "scatterpolar"
           }
          ],
          "scatterpolargl": [
           {
            "marker": {
             "colorbar": {
              "outlinewidth": 0,
              "ticks": ""
             }
            },
            "type": "scatterpolargl"
           }
          ],
          "scatterternary": [
           {
            "marker": {
             "colorbar": {
              "outlinewidth": 0,
              "ticks": ""
             }
            },
            "type": "scatterternary"
           }
          ],
          "surface": [
           {
            "colorbar": {
             "outlinewidth": 0,
             "ticks": ""
            },
            "colorscale": [
             [
              0,
              "#0d0887"
             ],
             [
              0.1111111111111111,
              "#46039f"
             ],
             [
              0.2222222222222222,
              "#7201a8"
             ],
             [
              0.3333333333333333,
              "#9c179e"
             ],
             [
              0.4444444444444444,
              "#bd3786"
             ],
             [
              0.5555555555555556,
              "#d8576b"
             ],
             [
              0.6666666666666666,
              "#ed7953"
             ],
             [
              0.7777777777777778,
              "#fb9f3a"
             ],
             [
              0.8888888888888888,
              "#fdca26"
             ],
             [
              1,
              "#f0f921"
             ]
            ],
            "type": "surface"
           }
          ],
          "table": [
           {
            "cells": {
             "fill": {
              "color": "#EBF0F8"
             },
             "line": {
              "color": "white"
             }
            },
            "header": {
             "fill": {
              "color": "#C8D4E3"
             },
             "line": {
              "color": "white"
             }
            },
            "type": "table"
           }
          ]
         },
         "layout": {
          "annotationdefaults": {
           "arrowcolor": "#2a3f5f",
           "arrowhead": 0,
           "arrowwidth": 1
          },
          "autotypenumbers": "strict",
          "coloraxis": {
           "colorbar": {
            "outlinewidth": 0,
            "ticks": ""
           }
          },
          "colorscale": {
           "diverging": [
            [
             0,
             "#8e0152"
            ],
            [
             0.1,
             "#c51b7d"
            ],
            [
             0.2,
             "#de77ae"
            ],
            [
             0.3,
             "#f1b6da"
            ],
            [
             0.4,
             "#fde0ef"
            ],
            [
             0.5,
             "#f7f7f7"
            ],
            [
             0.6,
             "#e6f5d0"
            ],
            [
             0.7,
             "#b8e186"
            ],
            [
             0.8,
             "#7fbc41"
            ],
            [
             0.9,
             "#4d9221"
            ],
            [
             1,
             "#276419"
            ]
           ],
           "sequential": [
            [
             0,
             "#0d0887"
            ],
            [
             0.1111111111111111,
             "#46039f"
            ],
            [
             0.2222222222222222,
             "#7201a8"
            ],
            [
             0.3333333333333333,
             "#9c179e"
            ],
            [
             0.4444444444444444,
             "#bd3786"
            ],
            [
             0.5555555555555556,
             "#d8576b"
            ],
            [
             0.6666666666666666,
             "#ed7953"
            ],
            [
             0.7777777777777778,
             "#fb9f3a"
            ],
            [
             0.8888888888888888,
             "#fdca26"
            ],
            [
             1,
             "#f0f921"
            ]
           ],
           "sequentialminus": [
            [
             0,
             "#0d0887"
            ],
            [
             0.1111111111111111,
             "#46039f"
            ],
            [
             0.2222222222222222,
             "#7201a8"
            ],
            [
             0.3333333333333333,
             "#9c179e"
            ],
            [
             0.4444444444444444,
             "#bd3786"
            ],
            [
             0.5555555555555556,
             "#d8576b"
            ],
            [
             0.6666666666666666,
             "#ed7953"
            ],
            [
             0.7777777777777778,
             "#fb9f3a"
            ],
            [
             0.8888888888888888,
             "#fdca26"
            ],
            [
             1,
             "#f0f921"
            ]
           ]
          },
          "colorway": [
           "#636efa",
           "#EF553B",
           "#00cc96",
           "#ab63fa",
           "#FFA15A",
           "#19d3f3",
           "#FF6692",
           "#B6E880",
           "#FF97FF",
           "#FECB52"
          ],
          "font": {
           "color": "#2a3f5f"
          },
          "geo": {
           "bgcolor": "white",
           "lakecolor": "white",
           "landcolor": "#E5ECF6",
           "showlakes": true,
           "showland": true,
           "subunitcolor": "white"
          },
          "hoverlabel": {
           "align": "left"
          },
          "hovermode": "closest",
          "mapbox": {
           "style": "light"
          },
          "paper_bgcolor": "white",
          "plot_bgcolor": "#E5ECF6",
          "polar": {
           "angularaxis": {
            "gridcolor": "white",
            "linecolor": "white",
            "ticks": ""
           },
           "bgcolor": "#E5ECF6",
           "radialaxis": {
            "gridcolor": "white",
            "linecolor": "white",
            "ticks": ""
           }
          },
          "scene": {
           "xaxis": {
            "backgroundcolor": "#E5ECF6",
            "gridcolor": "white",
            "gridwidth": 2,
            "linecolor": "white",
            "showbackground": true,
            "ticks": "",
            "zerolinecolor": "white"
           },
           "yaxis": {
            "backgroundcolor": "#E5ECF6",
            "gridcolor": "white",
            "gridwidth": 2,
            "linecolor": "white",
            "showbackground": true,
            "ticks": "",
            "zerolinecolor": "white"
           },
           "zaxis": {
            "backgroundcolor": "#E5ECF6",
            "gridcolor": "white",
            "gridwidth": 2,
            "linecolor": "white",
            "showbackground": true,
            "ticks": "",
            "zerolinecolor": "white"
           }
          },
          "shapedefaults": {
           "line": {
            "color": "#2a3f5f"
           }
          },
          "ternary": {
           "aaxis": {
            "gridcolor": "white",
            "linecolor": "white",
            "ticks": ""
           },
           "baxis": {
            "gridcolor": "white",
            "linecolor": "white",
            "ticks": ""
           },
           "bgcolor": "#E5ECF6",
           "caxis": {
            "gridcolor": "white",
            "linecolor": "white",
            "ticks": ""
           }
          },
          "title": {
           "x": 0.05
          },
          "xaxis": {
           "automargin": true,
           "gridcolor": "white",
           "linecolor": "white",
           "ticks": "",
           "title": {
            "standoff": 15
           },
           "zerolinecolor": "white",
           "zerolinewidth": 2
          },
          "yaxis": {
           "automargin": true,
           "gridcolor": "white",
           "linecolor": "white",
           "ticks": "",
           "title": {
            "standoff": 15
           },
           "zerolinecolor": "white",
           "zerolinewidth": 2
          }
         }
        },
        "title": {
         "text": "Weekdays [week - 1] timeline"
        },
        "xaxis": {
         "anchor": "y",
         "domain": [
          0,
          1
         ],
         "title": {
          "text": "Weekdays"
         }
        },
        "yaxis": {
         "anchor": "x",
         "domain": [
          0,
          1
         ],
         "title": {
          "text": "Message count"
         }
        }
       }
      }
     },
     "metadata": {},
     "output_type": "display_data"
    },
    {
     "data": {
      "application/vnd.plotly.v1+json": {
       "config": {
        "plotlyServerURL": "https://plot.ly"
       },
       "data": [
        {
         "alignmentgroup": "True",
         "hovertemplate": "Weekdays=%{x}<br>Message count=%{y}<extra></extra>",
         "legendgroup": "",
         "marker": {
          "color": "#636efa",
          "pattern": {
           "shape": ""
          }
         },
         "name": "",
         "offsetgroup": "",
         "orientation": "v",
         "showlegend": false,
         "textposition": "auto",
         "texttemplate": "%{y:.2s}",
         "type": "bar",
         "x": [
          "Friday",
          "Monday",
          "Saturday",
          "Sunday",
          "Thursday",
          "Tuesday",
          "Wednesday"
         ],
         "xaxis": "x",
         "y": [
          1,
          9,
          0,
          4,
          8,
          7,
          10
         ],
         "yaxis": "y"
        }
       ],
       "layout": {
        "barmode": "relative",
        "legend": {
         "tracegroupgap": 0
        },
        "template": {
         "data": {
          "bar": [
           {
            "error_x": {
             "color": "#2a3f5f"
            },
            "error_y": {
             "color": "#2a3f5f"
            },
            "marker": {
             "line": {
              "color": "#E5ECF6",
              "width": 0.5
             },
             "pattern": {
              "fillmode": "overlay",
              "size": 10,
              "solidity": 0.2
             }
            },
            "type": "bar"
           }
          ],
          "barpolar": [
           {
            "marker": {
             "line": {
              "color": "#E5ECF6",
              "width": 0.5
             },
             "pattern": {
              "fillmode": "overlay",
              "size": 10,
              "solidity": 0.2
             }
            },
            "type": "barpolar"
           }
          ],
          "carpet": [
           {
            "aaxis": {
             "endlinecolor": "#2a3f5f",
             "gridcolor": "white",
             "linecolor": "white",
             "minorgridcolor": "white",
             "startlinecolor": "#2a3f5f"
            },
            "baxis": {
             "endlinecolor": "#2a3f5f",
             "gridcolor": "white",
             "linecolor": "white",
             "minorgridcolor": "white",
             "startlinecolor": "#2a3f5f"
            },
            "type": "carpet"
           }
          ],
          "choropleth": [
           {
            "colorbar": {
             "outlinewidth": 0,
             "ticks": ""
            },
            "type": "choropleth"
           }
          ],
          "contour": [
           {
            "colorbar": {
             "outlinewidth": 0,
             "ticks": ""
            },
            "colorscale": [
             [
              0,
              "#0d0887"
             ],
             [
              0.1111111111111111,
              "#46039f"
             ],
             [
              0.2222222222222222,
              "#7201a8"
             ],
             [
              0.3333333333333333,
              "#9c179e"
             ],
             [
              0.4444444444444444,
              "#bd3786"
             ],
             [
              0.5555555555555556,
              "#d8576b"
             ],
             [
              0.6666666666666666,
              "#ed7953"
             ],
             [
              0.7777777777777778,
              "#fb9f3a"
             ],
             [
              0.8888888888888888,
              "#fdca26"
             ],
             [
              1,
              "#f0f921"
             ]
            ],
            "type": "contour"
           }
          ],
          "contourcarpet": [
           {
            "colorbar": {
             "outlinewidth": 0,
             "ticks": ""
            },
            "type": "contourcarpet"
           }
          ],
          "heatmap": [
           {
            "colorbar": {
             "outlinewidth": 0,
             "ticks": ""
            },
            "colorscale": [
             [
              0,
              "#0d0887"
             ],
             [
              0.1111111111111111,
              "#46039f"
             ],
             [
              0.2222222222222222,
              "#7201a8"
             ],
             [
              0.3333333333333333,
              "#9c179e"
             ],
             [
              0.4444444444444444,
              "#bd3786"
             ],
             [
              0.5555555555555556,
              "#d8576b"
             ],
             [
              0.6666666666666666,
              "#ed7953"
             ],
             [
              0.7777777777777778,
              "#fb9f3a"
             ],
             [
              0.8888888888888888,
              "#fdca26"
             ],
             [
              1,
              "#f0f921"
             ]
            ],
            "type": "heatmap"
           }
          ],
          "heatmapgl": [
           {
            "colorbar": {
             "outlinewidth": 0,
             "ticks": ""
            },
            "colorscale": [
             [
              0,
              "#0d0887"
             ],
             [
              0.1111111111111111,
              "#46039f"
             ],
             [
              0.2222222222222222,
              "#7201a8"
             ],
             [
              0.3333333333333333,
              "#9c179e"
             ],
             [
              0.4444444444444444,
              "#bd3786"
             ],
             [
              0.5555555555555556,
              "#d8576b"
             ],
             [
              0.6666666666666666,
              "#ed7953"
             ],
             [
              0.7777777777777778,
              "#fb9f3a"
             ],
             [
              0.8888888888888888,
              "#fdca26"
             ],
             [
              1,
              "#f0f921"
             ]
            ],
            "type": "heatmapgl"
           }
          ],
          "histogram": [
           {
            "marker": {
             "pattern": {
              "fillmode": "overlay",
              "size": 10,
              "solidity": 0.2
             }
            },
            "type": "histogram"
           }
          ],
          "histogram2d": [
           {
            "colorbar": {
             "outlinewidth": 0,
             "ticks": ""
            },
            "colorscale": [
             [
              0,
              "#0d0887"
             ],
             [
              0.1111111111111111,
              "#46039f"
             ],
             [
              0.2222222222222222,
              "#7201a8"
             ],
             [
              0.3333333333333333,
              "#9c179e"
             ],
             [
              0.4444444444444444,
              "#bd3786"
             ],
             [
              0.5555555555555556,
              "#d8576b"
             ],
             [
              0.6666666666666666,
              "#ed7953"
             ],
             [
              0.7777777777777778,
              "#fb9f3a"
             ],
             [
              0.8888888888888888,
              "#fdca26"
             ],
             [
              1,
              "#f0f921"
             ]
            ],
            "type": "histogram2d"
           }
          ],
          "histogram2dcontour": [
           {
            "colorbar": {
             "outlinewidth": 0,
             "ticks": ""
            },
            "colorscale": [
             [
              0,
              "#0d0887"
             ],
             [
              0.1111111111111111,
              "#46039f"
             ],
             [
              0.2222222222222222,
              "#7201a8"
             ],
             [
              0.3333333333333333,
              "#9c179e"
             ],
             [
              0.4444444444444444,
              "#bd3786"
             ],
             [
              0.5555555555555556,
              "#d8576b"
             ],
             [
              0.6666666666666666,
              "#ed7953"
             ],
             [
              0.7777777777777778,
              "#fb9f3a"
             ],
             [
              0.8888888888888888,
              "#fdca26"
             ],
             [
              1,
              "#f0f921"
             ]
            ],
            "type": "histogram2dcontour"
           }
          ],
          "mesh3d": [
           {
            "colorbar": {
             "outlinewidth": 0,
             "ticks": ""
            },
            "type": "mesh3d"
           }
          ],
          "parcoords": [
           {
            "line": {
             "colorbar": {
              "outlinewidth": 0,
              "ticks": ""
             }
            },
            "type": "parcoords"
           }
          ],
          "pie": [
           {
            "automargin": true,
            "type": "pie"
           }
          ],
          "scatter": [
           {
            "fillpattern": {
             "fillmode": "overlay",
             "size": 10,
             "solidity": 0.2
            },
            "type": "scatter"
           }
          ],
          "scatter3d": [
           {
            "line": {
             "colorbar": {
              "outlinewidth": 0,
              "ticks": ""
             }
            },
            "marker": {
             "colorbar": {
              "outlinewidth": 0,
              "ticks": ""
             }
            },
            "type": "scatter3d"
           }
          ],
          "scattercarpet": [
           {
            "marker": {
             "colorbar": {
              "outlinewidth": 0,
              "ticks": ""
             }
            },
            "type": "scattercarpet"
           }
          ],
          "scattergeo": [
           {
            "marker": {
             "colorbar": {
              "outlinewidth": 0,
              "ticks": ""
             }
            },
            "type": "scattergeo"
           }
          ],
          "scattergl": [
           {
            "marker": {
             "colorbar": {
              "outlinewidth": 0,
              "ticks": ""
             }
            },
            "type": "scattergl"
           }
          ],
          "scattermapbox": [
           {
            "marker": {
             "colorbar": {
              "outlinewidth": 0,
              "ticks": ""
             }
            },
            "type": "scattermapbox"
           }
          ],
          "scatterpolar": [
           {
            "marker": {
             "colorbar": {
              "outlinewidth": 0,
              "ticks": ""
             }
            },
            "type": "scatterpolar"
           }
          ],
          "scatterpolargl": [
           {
            "marker": {
             "colorbar": {
              "outlinewidth": 0,
              "ticks": ""
             }
            },
            "type": "scatterpolargl"
           }
          ],
          "scatterternary": [
           {
            "marker": {
             "colorbar": {
              "outlinewidth": 0,
              "ticks": ""
             }
            },
            "type": "scatterternary"
           }
          ],
          "surface": [
           {
            "colorbar": {
             "outlinewidth": 0,
             "ticks": ""
            },
            "colorscale": [
             [
              0,
              "#0d0887"
             ],
             [
              0.1111111111111111,
              "#46039f"
             ],
             [
              0.2222222222222222,
              "#7201a8"
             ],
             [
              0.3333333333333333,
              "#9c179e"
             ],
             [
              0.4444444444444444,
              "#bd3786"
             ],
             [
              0.5555555555555556,
              "#d8576b"
             ],
             [
              0.6666666666666666,
              "#ed7953"
             ],
             [
              0.7777777777777778,
              "#fb9f3a"
             ],
             [
              0.8888888888888888,
              "#fdca26"
             ],
             [
              1,
              "#f0f921"
             ]
            ],
            "type": "surface"
           }
          ],
          "table": [
           {
            "cells": {
             "fill": {
              "color": "#EBF0F8"
             },
             "line": {
              "color": "white"
             }
            },
            "header": {
             "fill": {
              "color": "#C8D4E3"
             },
             "line": {
              "color": "white"
             }
            },
            "type": "table"
           }
          ]
         },
         "layout": {
          "annotationdefaults": {
           "arrowcolor": "#2a3f5f",
           "arrowhead": 0,
           "arrowwidth": 1
          },
          "autotypenumbers": "strict",
          "coloraxis": {
           "colorbar": {
            "outlinewidth": 0,
            "ticks": ""
           }
          },
          "colorscale": {
           "diverging": [
            [
             0,
             "#8e0152"
            ],
            [
             0.1,
             "#c51b7d"
            ],
            [
             0.2,
             "#de77ae"
            ],
            [
             0.3,
             "#f1b6da"
            ],
            [
             0.4,
             "#fde0ef"
            ],
            [
             0.5,
             "#f7f7f7"
            ],
            [
             0.6,
             "#e6f5d0"
            ],
            [
             0.7,
             "#b8e186"
            ],
            [
             0.8,
             "#7fbc41"
            ],
            [
             0.9,
             "#4d9221"
            ],
            [
             1,
             "#276419"
            ]
           ],
           "sequential": [
            [
             0,
             "#0d0887"
            ],
            [
             0.1111111111111111,
             "#46039f"
            ],
            [
             0.2222222222222222,
             "#7201a8"
            ],
            [
             0.3333333333333333,
             "#9c179e"
            ],
            [
             0.4444444444444444,
             "#bd3786"
            ],
            [
             0.5555555555555556,
             "#d8576b"
            ],
            [
             0.6666666666666666,
             "#ed7953"
            ],
            [
             0.7777777777777778,
             "#fb9f3a"
            ],
            [
             0.8888888888888888,
             "#fdca26"
            ],
            [
             1,
             "#f0f921"
            ]
           ],
           "sequentialminus": [
            [
             0,
             "#0d0887"
            ],
            [
             0.1111111111111111,
             "#46039f"
            ],
            [
             0.2222222222222222,
             "#7201a8"
            ],
            [
             0.3333333333333333,
             "#9c179e"
            ],
            [
             0.4444444444444444,
             "#bd3786"
            ],
            [
             0.5555555555555556,
             "#d8576b"
            ],
            [
             0.6666666666666666,
             "#ed7953"
            ],
            [
             0.7777777777777778,
             "#fb9f3a"
            ],
            [
             0.8888888888888888,
             "#fdca26"
            ],
            [
             1,
             "#f0f921"
            ]
           ]
          },
          "colorway": [
           "#636efa",
           "#EF553B",
           "#00cc96",
           "#ab63fa",
           "#FFA15A",
           "#19d3f3",
           "#FF6692",
           "#B6E880",
           "#FF97FF",
           "#FECB52"
          ],
          "font": {
           "color": "#2a3f5f"
          },
          "geo": {
           "bgcolor": "white",
           "lakecolor": "white",
           "landcolor": "#E5ECF6",
           "showlakes": true,
           "showland": true,
           "subunitcolor": "white"
          },
          "hoverlabel": {
           "align": "left"
          },
          "hovermode": "closest",
          "mapbox": {
           "style": "light"
          },
          "paper_bgcolor": "white",
          "plot_bgcolor": "#E5ECF6",
          "polar": {
           "angularaxis": {
            "gridcolor": "white",
            "linecolor": "white",
            "ticks": ""
           },
           "bgcolor": "#E5ECF6",
           "radialaxis": {
            "gridcolor": "white",
            "linecolor": "white",
            "ticks": ""
           }
          },
          "scene": {
           "xaxis": {
            "backgroundcolor": "#E5ECF6",
            "gridcolor": "white",
            "gridwidth": 2,
            "linecolor": "white",
            "showbackground": true,
            "ticks": "",
            "zerolinecolor": "white"
           },
           "yaxis": {
            "backgroundcolor": "#E5ECF6",
            "gridcolor": "white",
            "gridwidth": 2,
            "linecolor": "white",
            "showbackground": true,
            "ticks": "",
            "zerolinecolor": "white"
           },
           "zaxis": {
            "backgroundcolor": "#E5ECF6",
            "gridcolor": "white",
            "gridwidth": 2,
            "linecolor": "white",
            "showbackground": true,
            "ticks": "",
            "zerolinecolor": "white"
           }
          },
          "shapedefaults": {
           "line": {
            "color": "#2a3f5f"
           }
          },
          "ternary": {
           "aaxis": {
            "gridcolor": "white",
            "linecolor": "white",
            "ticks": ""
           },
           "baxis": {
            "gridcolor": "white",
            "linecolor": "white",
            "ticks": ""
           },
           "bgcolor": "#E5ECF6",
           "caxis": {
            "gridcolor": "white",
            "linecolor": "white",
            "ticks": ""
           }
          },
          "title": {
           "x": 0.05
          },
          "xaxis": {
           "automargin": true,
           "gridcolor": "white",
           "linecolor": "white",
           "ticks": "",
           "title": {
            "standoff": 15
           },
           "zerolinecolor": "white",
           "zerolinewidth": 2
          },
          "yaxis": {
           "automargin": true,
           "gridcolor": "white",
           "linecolor": "white",
           "ticks": "",
           "title": {
            "standoff": 15
           },
           "zerolinecolor": "white",
           "zerolinewidth": 2
          }
         }
        },
        "title": {
         "text": "Weekdays [week - 2] timeline"
        },
        "xaxis": {
         "anchor": "y",
         "domain": [
          0,
          1
         ],
         "title": {
          "text": "Weekdays"
         }
        },
        "yaxis": {
         "anchor": "x",
         "domain": [
          0,
          1
         ],
         "title": {
          "text": "Message count"
         }
        }
       }
      }
     },
     "metadata": {},
     "output_type": "display_data"
    },
    {
     "data": {
      "application/vnd.plotly.v1+json": {
       "config": {
        "plotlyServerURL": "https://plot.ly"
       },
       "data": [
        {
         "alignmentgroup": "True",
         "hovertemplate": "Weekdays=%{x}<br>Message count=%{y}<extra></extra>",
         "legendgroup": "",
         "marker": {
          "color": "#636efa",
          "pattern": {
           "shape": ""
          }
         },
         "name": "",
         "offsetgroup": "",
         "orientation": "v",
         "showlegend": false,
         "textposition": "auto",
         "texttemplate": "%{y:.2s}",
         "type": "bar",
         "x": [
          "Friday",
          "Monday",
          "Saturday",
          "Sunday",
          "Thursday",
          "Tuesday",
          "Wednesday"
         ],
         "xaxis": "x",
         "y": [
          0,
          3,
          1,
          0,
          4,
          6,
          22
         ],
         "yaxis": "y"
        }
       ],
       "layout": {
        "barmode": "relative",
        "legend": {
         "tracegroupgap": 0
        },
        "template": {
         "data": {
          "bar": [
           {
            "error_x": {
             "color": "#2a3f5f"
            },
            "error_y": {
             "color": "#2a3f5f"
            },
            "marker": {
             "line": {
              "color": "#E5ECF6",
              "width": 0.5
             },
             "pattern": {
              "fillmode": "overlay",
              "size": 10,
              "solidity": 0.2
             }
            },
            "type": "bar"
           }
          ],
          "barpolar": [
           {
            "marker": {
             "line": {
              "color": "#E5ECF6",
              "width": 0.5
             },
             "pattern": {
              "fillmode": "overlay",
              "size": 10,
              "solidity": 0.2
             }
            },
            "type": "barpolar"
           }
          ],
          "carpet": [
           {
            "aaxis": {
             "endlinecolor": "#2a3f5f",
             "gridcolor": "white",
             "linecolor": "white",
             "minorgridcolor": "white",
             "startlinecolor": "#2a3f5f"
            },
            "baxis": {
             "endlinecolor": "#2a3f5f",
             "gridcolor": "white",
             "linecolor": "white",
             "minorgridcolor": "white",
             "startlinecolor": "#2a3f5f"
            },
            "type": "carpet"
           }
          ],
          "choropleth": [
           {
            "colorbar": {
             "outlinewidth": 0,
             "ticks": ""
            },
            "type": "choropleth"
           }
          ],
          "contour": [
           {
            "colorbar": {
             "outlinewidth": 0,
             "ticks": ""
            },
            "colorscale": [
             [
              0,
              "#0d0887"
             ],
             [
              0.1111111111111111,
              "#46039f"
             ],
             [
              0.2222222222222222,
              "#7201a8"
             ],
             [
              0.3333333333333333,
              "#9c179e"
             ],
             [
              0.4444444444444444,
              "#bd3786"
             ],
             [
              0.5555555555555556,
              "#d8576b"
             ],
             [
              0.6666666666666666,
              "#ed7953"
             ],
             [
              0.7777777777777778,
              "#fb9f3a"
             ],
             [
              0.8888888888888888,
              "#fdca26"
             ],
             [
              1,
              "#f0f921"
             ]
            ],
            "type": "contour"
           }
          ],
          "contourcarpet": [
           {
            "colorbar": {
             "outlinewidth": 0,
             "ticks": ""
            },
            "type": "contourcarpet"
           }
          ],
          "heatmap": [
           {
            "colorbar": {
             "outlinewidth": 0,
             "ticks": ""
            },
            "colorscale": [
             [
              0,
              "#0d0887"
             ],
             [
              0.1111111111111111,
              "#46039f"
             ],
             [
              0.2222222222222222,
              "#7201a8"
             ],
             [
              0.3333333333333333,
              "#9c179e"
             ],
             [
              0.4444444444444444,
              "#bd3786"
             ],
             [
              0.5555555555555556,
              "#d8576b"
             ],
             [
              0.6666666666666666,
              "#ed7953"
             ],
             [
              0.7777777777777778,
              "#fb9f3a"
             ],
             [
              0.8888888888888888,
              "#fdca26"
             ],
             [
              1,
              "#f0f921"
             ]
            ],
            "type": "heatmap"
           }
          ],
          "heatmapgl": [
           {
            "colorbar": {
             "outlinewidth": 0,
             "ticks": ""
            },
            "colorscale": [
             [
              0,
              "#0d0887"
             ],
             [
              0.1111111111111111,
              "#46039f"
             ],
             [
              0.2222222222222222,
              "#7201a8"
             ],
             [
              0.3333333333333333,
              "#9c179e"
             ],
             [
              0.4444444444444444,
              "#bd3786"
             ],
             [
              0.5555555555555556,
              "#d8576b"
             ],
             [
              0.6666666666666666,
              "#ed7953"
             ],
             [
              0.7777777777777778,
              "#fb9f3a"
             ],
             [
              0.8888888888888888,
              "#fdca26"
             ],
             [
              1,
              "#f0f921"
             ]
            ],
            "type": "heatmapgl"
           }
          ],
          "histogram": [
           {
            "marker": {
             "pattern": {
              "fillmode": "overlay",
              "size": 10,
              "solidity": 0.2
             }
            },
            "type": "histogram"
           }
          ],
          "histogram2d": [
           {
            "colorbar": {
             "outlinewidth": 0,
             "ticks": ""
            },
            "colorscale": [
             [
              0,
              "#0d0887"
             ],
             [
              0.1111111111111111,
              "#46039f"
             ],
             [
              0.2222222222222222,
              "#7201a8"
             ],
             [
              0.3333333333333333,
              "#9c179e"
             ],
             [
              0.4444444444444444,
              "#bd3786"
             ],
             [
              0.5555555555555556,
              "#d8576b"
             ],
             [
              0.6666666666666666,
              "#ed7953"
             ],
             [
              0.7777777777777778,
              "#fb9f3a"
             ],
             [
              0.8888888888888888,
              "#fdca26"
             ],
             [
              1,
              "#f0f921"
             ]
            ],
            "type": "histogram2d"
           }
          ],
          "histogram2dcontour": [
           {
            "colorbar": {
             "outlinewidth": 0,
             "ticks": ""
            },
            "colorscale": [
             [
              0,
              "#0d0887"
             ],
             [
              0.1111111111111111,
              "#46039f"
             ],
             [
              0.2222222222222222,
              "#7201a8"
             ],
             [
              0.3333333333333333,
              "#9c179e"
             ],
             [
              0.4444444444444444,
              "#bd3786"
             ],
             [
              0.5555555555555556,
              "#d8576b"
             ],
             [
              0.6666666666666666,
              "#ed7953"
             ],
             [
              0.7777777777777778,
              "#fb9f3a"
             ],
             [
              0.8888888888888888,
              "#fdca26"
             ],
             [
              1,
              "#f0f921"
             ]
            ],
            "type": "histogram2dcontour"
           }
          ],
          "mesh3d": [
           {
            "colorbar": {
             "outlinewidth": 0,
             "ticks": ""
            },
            "type": "mesh3d"
           }
          ],
          "parcoords": [
           {
            "line": {
             "colorbar": {
              "outlinewidth": 0,
              "ticks": ""
             }
            },
            "type": "parcoords"
           }
          ],
          "pie": [
           {
            "automargin": true,
            "type": "pie"
           }
          ],
          "scatter": [
           {
            "fillpattern": {
             "fillmode": "overlay",
             "size": 10,
             "solidity": 0.2
            },
            "type": "scatter"
           }
          ],
          "scatter3d": [
           {
            "line": {
             "colorbar": {
              "outlinewidth": 0,
              "ticks": ""
             }
            },
            "marker": {
             "colorbar": {
              "outlinewidth": 0,
              "ticks": ""
             }
            },
            "type": "scatter3d"
           }
          ],
          "scattercarpet": [
           {
            "marker": {
             "colorbar": {
              "outlinewidth": 0,
              "ticks": ""
             }
            },
            "type": "scattercarpet"
           }
          ],
          "scattergeo": [
           {
            "marker": {
             "colorbar": {
              "outlinewidth": 0,
              "ticks": ""
             }
            },
            "type": "scattergeo"
           }
          ],
          "scattergl": [
           {
            "marker": {
             "colorbar": {
              "outlinewidth": 0,
              "ticks": ""
             }
            },
            "type": "scattergl"
           }
          ],
          "scattermapbox": [
           {
            "marker": {
             "colorbar": {
              "outlinewidth": 0,
              "ticks": ""
             }
            },
            "type": "scattermapbox"
           }
          ],
          "scatterpolar": [
           {
            "marker": {
             "colorbar": {
              "outlinewidth": 0,
              "ticks": ""
             }
            },
            "type": "scatterpolar"
           }
          ],
          "scatterpolargl": [
           {
            "marker": {
             "colorbar": {
              "outlinewidth": 0,
              "ticks": ""
             }
            },
            "type": "scatterpolargl"
           }
          ],
          "scatterternary": [
           {
            "marker": {
             "colorbar": {
              "outlinewidth": 0,
              "ticks": ""
             }
            },
            "type": "scatterternary"
           }
          ],
          "surface": [
           {
            "colorbar": {
             "outlinewidth": 0,
             "ticks": ""
            },
            "colorscale": [
             [
              0,
              "#0d0887"
             ],
             [
              0.1111111111111111,
              "#46039f"
             ],
             [
              0.2222222222222222,
              "#7201a8"
             ],
             [
              0.3333333333333333,
              "#9c179e"
             ],
             [
              0.4444444444444444,
              "#bd3786"
             ],
             [
              0.5555555555555556,
              "#d8576b"
             ],
             [
              0.6666666666666666,
              "#ed7953"
             ],
             [
              0.7777777777777778,
              "#fb9f3a"
             ],
             [
              0.8888888888888888,
              "#fdca26"
             ],
             [
              1,
              "#f0f921"
             ]
            ],
            "type": "surface"
           }
          ],
          "table": [
           {
            "cells": {
             "fill": {
              "color": "#EBF0F8"
             },
             "line": {
              "color": "white"
             }
            },
            "header": {
             "fill": {
              "color": "#C8D4E3"
             },
             "line": {
              "color": "white"
             }
            },
            "type": "table"
           }
          ]
         },
         "layout": {
          "annotationdefaults": {
           "arrowcolor": "#2a3f5f",
           "arrowhead": 0,
           "arrowwidth": 1
          },
          "autotypenumbers": "strict",
          "coloraxis": {
           "colorbar": {
            "outlinewidth": 0,
            "ticks": ""
           }
          },
          "colorscale": {
           "diverging": [
            [
             0,
             "#8e0152"
            ],
            [
             0.1,
             "#c51b7d"
            ],
            [
             0.2,
             "#de77ae"
            ],
            [
             0.3,
             "#f1b6da"
            ],
            [
             0.4,
             "#fde0ef"
            ],
            [
             0.5,
             "#f7f7f7"
            ],
            [
             0.6,
             "#e6f5d0"
            ],
            [
             0.7,
             "#b8e186"
            ],
            [
             0.8,
             "#7fbc41"
            ],
            [
             0.9,
             "#4d9221"
            ],
            [
             1,
             "#276419"
            ]
           ],
           "sequential": [
            [
             0,
             "#0d0887"
            ],
            [
             0.1111111111111111,
             "#46039f"
            ],
            [
             0.2222222222222222,
             "#7201a8"
            ],
            [
             0.3333333333333333,
             "#9c179e"
            ],
            [
             0.4444444444444444,
             "#bd3786"
            ],
            [
             0.5555555555555556,
             "#d8576b"
            ],
            [
             0.6666666666666666,
             "#ed7953"
            ],
            [
             0.7777777777777778,
             "#fb9f3a"
            ],
            [
             0.8888888888888888,
             "#fdca26"
            ],
            [
             1,
             "#f0f921"
            ]
           ],
           "sequentialminus": [
            [
             0,
             "#0d0887"
            ],
            [
             0.1111111111111111,
             "#46039f"
            ],
            [
             0.2222222222222222,
             "#7201a8"
            ],
            [
             0.3333333333333333,
             "#9c179e"
            ],
            [
             0.4444444444444444,
             "#bd3786"
            ],
            [
             0.5555555555555556,
             "#d8576b"
            ],
            [
             0.6666666666666666,
             "#ed7953"
            ],
            [
             0.7777777777777778,
             "#fb9f3a"
            ],
            [
             0.8888888888888888,
             "#fdca26"
            ],
            [
             1,
             "#f0f921"
            ]
           ]
          },
          "colorway": [
           "#636efa",
           "#EF553B",
           "#00cc96",
           "#ab63fa",
           "#FFA15A",
           "#19d3f3",
           "#FF6692",
           "#B6E880",
           "#FF97FF",
           "#FECB52"
          ],
          "font": {
           "color": "#2a3f5f"
          },
          "geo": {
           "bgcolor": "white",
           "lakecolor": "white",
           "landcolor": "#E5ECF6",
           "showlakes": true,
           "showland": true,
           "subunitcolor": "white"
          },
          "hoverlabel": {
           "align": "left"
          },
          "hovermode": "closest",
          "mapbox": {
           "style": "light"
          },
          "paper_bgcolor": "white",
          "plot_bgcolor": "#E5ECF6",
          "polar": {
           "angularaxis": {
            "gridcolor": "white",
            "linecolor": "white",
            "ticks": ""
           },
           "bgcolor": "#E5ECF6",
           "radialaxis": {
            "gridcolor": "white",
            "linecolor": "white",
            "ticks": ""
           }
          },
          "scene": {
           "xaxis": {
            "backgroundcolor": "#E5ECF6",
            "gridcolor": "white",
            "gridwidth": 2,
            "linecolor": "white",
            "showbackground": true,
            "ticks": "",
            "zerolinecolor": "white"
           },
           "yaxis": {
            "backgroundcolor": "#E5ECF6",
            "gridcolor": "white",
            "gridwidth": 2,
            "linecolor": "white",
            "showbackground": true,
            "ticks": "",
            "zerolinecolor": "white"
           },
           "zaxis": {
            "backgroundcolor": "#E5ECF6",
            "gridcolor": "white",
            "gridwidth": 2,
            "linecolor": "white",
            "showbackground": true,
            "ticks": "",
            "zerolinecolor": "white"
           }
          },
          "shapedefaults": {
           "line": {
            "color": "#2a3f5f"
           }
          },
          "ternary": {
           "aaxis": {
            "gridcolor": "white",
            "linecolor": "white",
            "ticks": ""
           },
           "baxis": {
            "gridcolor": "white",
            "linecolor": "white",
            "ticks": ""
           },
           "bgcolor": "#E5ECF6",
           "caxis": {
            "gridcolor": "white",
            "linecolor": "white",
            "ticks": ""
           }
          },
          "title": {
           "x": 0.05
          },
          "xaxis": {
           "automargin": true,
           "gridcolor": "white",
           "linecolor": "white",
           "ticks": "",
           "title": {
            "standoff": 15
           },
           "zerolinecolor": "white",
           "zerolinewidth": 2
          },
          "yaxis": {
           "automargin": true,
           "gridcolor": "white",
           "linecolor": "white",
           "ticks": "",
           "title": {
            "standoff": 15
           },
           "zerolinecolor": "white",
           "zerolinewidth": 2
          }
         }
        },
        "title": {
         "text": "Weekdays [week - 3] timeline"
        },
        "xaxis": {
         "anchor": "y",
         "domain": [
          0,
          1
         ],
         "title": {
          "text": "Weekdays"
         }
        },
        "yaxis": {
         "anchor": "x",
         "domain": [
          0,
          1
         ],
         "title": {
          "text": "Message count"
         }
        }
       }
      }
     },
     "metadata": {},
     "output_type": "display_data"
    },
    {
     "data": {
      "application/vnd.plotly.v1+json": {
       "config": {
        "plotlyServerURL": "https://plot.ly"
       },
       "data": [
        {
         "alignmentgroup": "True",
         "hovertemplate": "Weekdays=%{x}<br>Message count=%{y}<extra></extra>",
         "legendgroup": "",
         "marker": {
          "color": "#636efa",
          "pattern": {
           "shape": ""
          }
         },
         "name": "",
         "offsetgroup": "",
         "orientation": "v",
         "showlegend": false,
         "textposition": "auto",
         "texttemplate": "%{y:.2s}",
         "type": "bar",
         "x": [
          "Friday",
          "Monday",
          "Saturday",
          "Sunday",
          "Thursday",
          "Tuesday",
          "Wednesday"
         ],
         "xaxis": "x",
         "y": [
          16,
          16,
          10,
          4,
          22,
          0,
          20
         ],
         "yaxis": "y"
        }
       ],
       "layout": {
        "barmode": "relative",
        "legend": {
         "tracegroupgap": 0
        },
        "template": {
         "data": {
          "bar": [
           {
            "error_x": {
             "color": "#2a3f5f"
            },
            "error_y": {
             "color": "#2a3f5f"
            },
            "marker": {
             "line": {
              "color": "#E5ECF6",
              "width": 0.5
             },
             "pattern": {
              "fillmode": "overlay",
              "size": 10,
              "solidity": 0.2
             }
            },
            "type": "bar"
           }
          ],
          "barpolar": [
           {
            "marker": {
             "line": {
              "color": "#E5ECF6",
              "width": 0.5
             },
             "pattern": {
              "fillmode": "overlay",
              "size": 10,
              "solidity": 0.2
             }
            },
            "type": "barpolar"
           }
          ],
          "carpet": [
           {
            "aaxis": {
             "endlinecolor": "#2a3f5f",
             "gridcolor": "white",
             "linecolor": "white",
             "minorgridcolor": "white",
             "startlinecolor": "#2a3f5f"
            },
            "baxis": {
             "endlinecolor": "#2a3f5f",
             "gridcolor": "white",
             "linecolor": "white",
             "minorgridcolor": "white",
             "startlinecolor": "#2a3f5f"
            },
            "type": "carpet"
           }
          ],
          "choropleth": [
           {
            "colorbar": {
             "outlinewidth": 0,
             "ticks": ""
            },
            "type": "choropleth"
           }
          ],
          "contour": [
           {
            "colorbar": {
             "outlinewidth": 0,
             "ticks": ""
            },
            "colorscale": [
             [
              0,
              "#0d0887"
             ],
             [
              0.1111111111111111,
              "#46039f"
             ],
             [
              0.2222222222222222,
              "#7201a8"
             ],
             [
              0.3333333333333333,
              "#9c179e"
             ],
             [
              0.4444444444444444,
              "#bd3786"
             ],
             [
              0.5555555555555556,
              "#d8576b"
             ],
             [
              0.6666666666666666,
              "#ed7953"
             ],
             [
              0.7777777777777778,
              "#fb9f3a"
             ],
             [
              0.8888888888888888,
              "#fdca26"
             ],
             [
              1,
              "#f0f921"
             ]
            ],
            "type": "contour"
           }
          ],
          "contourcarpet": [
           {
            "colorbar": {
             "outlinewidth": 0,
             "ticks": ""
            },
            "type": "contourcarpet"
           }
          ],
          "heatmap": [
           {
            "colorbar": {
             "outlinewidth": 0,
             "ticks": ""
            },
            "colorscale": [
             [
              0,
              "#0d0887"
             ],
             [
              0.1111111111111111,
              "#46039f"
             ],
             [
              0.2222222222222222,
              "#7201a8"
             ],
             [
              0.3333333333333333,
              "#9c179e"
             ],
             [
              0.4444444444444444,
              "#bd3786"
             ],
             [
              0.5555555555555556,
              "#d8576b"
             ],
             [
              0.6666666666666666,
              "#ed7953"
             ],
             [
              0.7777777777777778,
              "#fb9f3a"
             ],
             [
              0.8888888888888888,
              "#fdca26"
             ],
             [
              1,
              "#f0f921"
             ]
            ],
            "type": "heatmap"
           }
          ],
          "heatmapgl": [
           {
            "colorbar": {
             "outlinewidth": 0,
             "ticks": ""
            },
            "colorscale": [
             [
              0,
              "#0d0887"
             ],
             [
              0.1111111111111111,
              "#46039f"
             ],
             [
              0.2222222222222222,
              "#7201a8"
             ],
             [
              0.3333333333333333,
              "#9c179e"
             ],
             [
              0.4444444444444444,
              "#bd3786"
             ],
             [
              0.5555555555555556,
              "#d8576b"
             ],
             [
              0.6666666666666666,
              "#ed7953"
             ],
             [
              0.7777777777777778,
              "#fb9f3a"
             ],
             [
              0.8888888888888888,
              "#fdca26"
             ],
             [
              1,
              "#f0f921"
             ]
            ],
            "type": "heatmapgl"
           }
          ],
          "histogram": [
           {
            "marker": {
             "pattern": {
              "fillmode": "overlay",
              "size": 10,
              "solidity": 0.2
             }
            },
            "type": "histogram"
           }
          ],
          "histogram2d": [
           {
            "colorbar": {
             "outlinewidth": 0,
             "ticks": ""
            },
            "colorscale": [
             [
              0,
              "#0d0887"
             ],
             [
              0.1111111111111111,
              "#46039f"
             ],
             [
              0.2222222222222222,
              "#7201a8"
             ],
             [
              0.3333333333333333,
              "#9c179e"
             ],
             [
              0.4444444444444444,
              "#bd3786"
             ],
             [
              0.5555555555555556,
              "#d8576b"
             ],
             [
              0.6666666666666666,
              "#ed7953"
             ],
             [
              0.7777777777777778,
              "#fb9f3a"
             ],
             [
              0.8888888888888888,
              "#fdca26"
             ],
             [
              1,
              "#f0f921"
             ]
            ],
            "type": "histogram2d"
           }
          ],
          "histogram2dcontour": [
           {
            "colorbar": {
             "outlinewidth": 0,
             "ticks": ""
            },
            "colorscale": [
             [
              0,
              "#0d0887"
             ],
             [
              0.1111111111111111,
              "#46039f"
             ],
             [
              0.2222222222222222,
              "#7201a8"
             ],
             [
              0.3333333333333333,
              "#9c179e"
             ],
             [
              0.4444444444444444,
              "#bd3786"
             ],
             [
              0.5555555555555556,
              "#d8576b"
             ],
             [
              0.6666666666666666,
              "#ed7953"
             ],
             [
              0.7777777777777778,
              "#fb9f3a"
             ],
             [
              0.8888888888888888,
              "#fdca26"
             ],
             [
              1,
              "#f0f921"
             ]
            ],
            "type": "histogram2dcontour"
           }
          ],
          "mesh3d": [
           {
            "colorbar": {
             "outlinewidth": 0,
             "ticks": ""
            },
            "type": "mesh3d"
           }
          ],
          "parcoords": [
           {
            "line": {
             "colorbar": {
              "outlinewidth": 0,
              "ticks": ""
             }
            },
            "type": "parcoords"
           }
          ],
          "pie": [
           {
            "automargin": true,
            "type": "pie"
           }
          ],
          "scatter": [
           {
            "fillpattern": {
             "fillmode": "overlay",
             "size": 10,
             "solidity": 0.2
            },
            "type": "scatter"
           }
          ],
          "scatter3d": [
           {
            "line": {
             "colorbar": {
              "outlinewidth": 0,
              "ticks": ""
             }
            },
            "marker": {
             "colorbar": {
              "outlinewidth": 0,
              "ticks": ""
             }
            },
            "type": "scatter3d"
           }
          ],
          "scattercarpet": [
           {
            "marker": {
             "colorbar": {
              "outlinewidth": 0,
              "ticks": ""
             }
            },
            "type": "scattercarpet"
           }
          ],
          "scattergeo": [
           {
            "marker": {
             "colorbar": {
              "outlinewidth": 0,
              "ticks": ""
             }
            },
            "type": "scattergeo"
           }
          ],
          "scattergl": [
           {
            "marker": {
             "colorbar": {
              "outlinewidth": 0,
              "ticks": ""
             }
            },
            "type": "scattergl"
           }
          ],
          "scattermapbox": [
           {
            "marker": {
             "colorbar": {
              "outlinewidth": 0,
              "ticks": ""
             }
            },
            "type": "scattermapbox"
           }
          ],
          "scatterpolar": [
           {
            "marker": {
             "colorbar": {
              "outlinewidth": 0,
              "ticks": ""
             }
            },
            "type": "scatterpolar"
           }
          ],
          "scatterpolargl": [
           {
            "marker": {
             "colorbar": {
              "outlinewidth": 0,
              "ticks": ""
             }
            },
            "type": "scatterpolargl"
           }
          ],
          "scatterternary": [
           {
            "marker": {
             "colorbar": {
              "outlinewidth": 0,
              "ticks": ""
             }
            },
            "type": "scatterternary"
           }
          ],
          "surface": [
           {
            "colorbar": {
             "outlinewidth": 0,
             "ticks": ""
            },
            "colorscale": [
             [
              0,
              "#0d0887"
             ],
             [
              0.1111111111111111,
              "#46039f"
             ],
             [
              0.2222222222222222,
              "#7201a8"
             ],
             [
              0.3333333333333333,
              "#9c179e"
             ],
             [
              0.4444444444444444,
              "#bd3786"
             ],
             [
              0.5555555555555556,
              "#d8576b"
             ],
             [
              0.6666666666666666,
              "#ed7953"
             ],
             [
              0.7777777777777778,
              "#fb9f3a"
             ],
             [
              0.8888888888888888,
              "#fdca26"
             ],
             [
              1,
              "#f0f921"
             ]
            ],
            "type": "surface"
           }
          ],
          "table": [
           {
            "cells": {
             "fill": {
              "color": "#EBF0F8"
             },
             "line": {
              "color": "white"
             }
            },
            "header": {
             "fill": {
              "color": "#C8D4E3"
             },
             "line": {
              "color": "white"
             }
            },
            "type": "table"
           }
          ]
         },
         "layout": {
          "annotationdefaults": {
           "arrowcolor": "#2a3f5f",
           "arrowhead": 0,
           "arrowwidth": 1
          },
          "autotypenumbers": "strict",
          "coloraxis": {
           "colorbar": {
            "outlinewidth": 0,
            "ticks": ""
           }
          },
          "colorscale": {
           "diverging": [
            [
             0,
             "#8e0152"
            ],
            [
             0.1,
             "#c51b7d"
            ],
            [
             0.2,
             "#de77ae"
            ],
            [
             0.3,
             "#f1b6da"
            ],
            [
             0.4,
             "#fde0ef"
            ],
            [
             0.5,
             "#f7f7f7"
            ],
            [
             0.6,
             "#e6f5d0"
            ],
            [
             0.7,
             "#b8e186"
            ],
            [
             0.8,
             "#7fbc41"
            ],
            [
             0.9,
             "#4d9221"
            ],
            [
             1,
             "#276419"
            ]
           ],
           "sequential": [
            [
             0,
             "#0d0887"
            ],
            [
             0.1111111111111111,
             "#46039f"
            ],
            [
             0.2222222222222222,
             "#7201a8"
            ],
            [
             0.3333333333333333,
             "#9c179e"
            ],
            [
             0.4444444444444444,
             "#bd3786"
            ],
            [
             0.5555555555555556,
             "#d8576b"
            ],
            [
             0.6666666666666666,
             "#ed7953"
            ],
            [
             0.7777777777777778,
             "#fb9f3a"
            ],
            [
             0.8888888888888888,
             "#fdca26"
            ],
            [
             1,
             "#f0f921"
            ]
           ],
           "sequentialminus": [
            [
             0,
             "#0d0887"
            ],
            [
             0.1111111111111111,
             "#46039f"
            ],
            [
             0.2222222222222222,
             "#7201a8"
            ],
            [
             0.3333333333333333,
             "#9c179e"
            ],
            [
             0.4444444444444444,
             "#bd3786"
            ],
            [
             0.5555555555555556,
             "#d8576b"
            ],
            [
             0.6666666666666666,
             "#ed7953"
            ],
            [
             0.7777777777777778,
             "#fb9f3a"
            ],
            [
             0.8888888888888888,
             "#fdca26"
            ],
            [
             1,
             "#f0f921"
            ]
           ]
          },
          "colorway": [
           "#636efa",
           "#EF553B",
           "#00cc96",
           "#ab63fa",
           "#FFA15A",
           "#19d3f3",
           "#FF6692",
           "#B6E880",
           "#FF97FF",
           "#FECB52"
          ],
          "font": {
           "color": "#2a3f5f"
          },
          "geo": {
           "bgcolor": "white",
           "lakecolor": "white",
           "landcolor": "#E5ECF6",
           "showlakes": true,
           "showland": true,
           "subunitcolor": "white"
          },
          "hoverlabel": {
           "align": "left"
          },
          "hovermode": "closest",
          "mapbox": {
           "style": "light"
          },
          "paper_bgcolor": "white",
          "plot_bgcolor": "#E5ECF6",
          "polar": {
           "angularaxis": {
            "gridcolor": "white",
            "linecolor": "white",
            "ticks": ""
           },
           "bgcolor": "#E5ECF6",
           "radialaxis": {
            "gridcolor": "white",
            "linecolor": "white",
            "ticks": ""
           }
          },
          "scene": {
           "xaxis": {
            "backgroundcolor": "#E5ECF6",
            "gridcolor": "white",
            "gridwidth": 2,
            "linecolor": "white",
            "showbackground": true,
            "ticks": "",
            "zerolinecolor": "white"
           },
           "yaxis": {
            "backgroundcolor": "#E5ECF6",
            "gridcolor": "white",
            "gridwidth": 2,
            "linecolor": "white",
            "showbackground": true,
            "ticks": "",
            "zerolinecolor": "white"
           },
           "zaxis": {
            "backgroundcolor": "#E5ECF6",
            "gridcolor": "white",
            "gridwidth": 2,
            "linecolor": "white",
            "showbackground": true,
            "ticks": "",
            "zerolinecolor": "white"
           }
          },
          "shapedefaults": {
           "line": {
            "color": "#2a3f5f"
           }
          },
          "ternary": {
           "aaxis": {
            "gridcolor": "white",
            "linecolor": "white",
            "ticks": ""
           },
           "baxis": {
            "gridcolor": "white",
            "linecolor": "white",
            "ticks": ""
           },
           "bgcolor": "#E5ECF6",
           "caxis": {
            "gridcolor": "white",
            "linecolor": "white",
            "ticks": ""
           }
          },
          "title": {
           "x": 0.05
          },
          "xaxis": {
           "automargin": true,
           "gridcolor": "white",
           "linecolor": "white",
           "ticks": "",
           "title": {
            "standoff": 15
           },
           "zerolinecolor": "white",
           "zerolinewidth": 2
          },
          "yaxis": {
           "automargin": true,
           "gridcolor": "white",
           "linecolor": "white",
           "ticks": "",
           "title": {
            "standoff": 15
           },
           "zerolinecolor": "white",
           "zerolinewidth": 2
          }
         }
        },
        "title": {
         "text": "Weekdays [week - 4] timeline"
        },
        "xaxis": {
         "anchor": "y",
         "domain": [
          0,
          1
         ],
         "title": {
          "text": "Weekdays"
         }
        },
        "yaxis": {
         "anchor": "x",
         "domain": [
          0,
          1
         ],
         "title": {
          "text": "Message count"
         }
        }
       }
      }
     },
     "metadata": {},
     "output_type": "display_data"
    },
    {
     "data": {
      "application/vnd.plotly.v1+json": {
       "config": {
        "plotlyServerURL": "https://plot.ly"
       },
       "data": [
        {
         "alignmentgroup": "True",
         "hovertemplate": "Days=%{x}<br>Message count=%{y}<extra></extra>",
         "legendgroup": "",
         "marker": {
          "color": "#636efa",
          "pattern": {
           "shape": ""
          }
         },
         "name": "",
         "offsetgroup": "",
         "orientation": "v",
         "showlegend": false,
         "textposition": "auto",
         "texttemplate": "%{y:.2s}",
         "type": "bar",
         "x": [
          "2023-08-01",
          "2023-08-02",
          "2023-08-03",
          "2023-08-04",
          "2023-08-05",
          "2023-08-06",
          "2023-08-07",
          "2023-08-08",
          "2023-08-09",
          "2023-08-10",
          "2023-08-11",
          "2023-08-12",
          "2023-08-13",
          "2023-08-14",
          "2023-08-15",
          "2023-08-16",
          "2023-08-17",
          "2023-08-18",
          "2023-08-19",
          "2023-08-20",
          "2023-08-21",
          "2023-08-22",
          "2023-08-23",
          "2023-08-24",
          "2023-08-25",
          "2023-08-26",
          "2023-08-27",
          "2023-08-28",
          "2023-08-29",
          "2023-08-30"
         ],
         "xaxis": "x",
         "y": [
          0,
          11,
          84,
          34,
          46,
          0,
          12,
          27,
          3,
          7,
          13,
          11,
          0,
          2,
          2,
          2,
          39,
          1,
          13,
          2,
          1,
          13,
          23,
          15,
          13,
          1,
          10,
          9,
          7,
          17
         ],
         "yaxis": "y"
        }
       ],
       "layout": {
        "barmode": "relative",
        "legend": {
         "tracegroupgap": 0
        },
        "template": {
         "data": {
          "bar": [
           {
            "error_x": {
             "color": "#2a3f5f"
            },
            "error_y": {
             "color": "#2a3f5f"
            },
            "marker": {
             "line": {
              "color": "#E5ECF6",
              "width": 0.5
             },
             "pattern": {
              "fillmode": "overlay",
              "size": 10,
              "solidity": 0.2
             }
            },
            "type": "bar"
           }
          ],
          "barpolar": [
           {
            "marker": {
             "line": {
              "color": "#E5ECF6",
              "width": 0.5
             },
             "pattern": {
              "fillmode": "overlay",
              "size": 10,
              "solidity": 0.2
             }
            },
            "type": "barpolar"
           }
          ],
          "carpet": [
           {
            "aaxis": {
             "endlinecolor": "#2a3f5f",
             "gridcolor": "white",
             "linecolor": "white",
             "minorgridcolor": "white",
             "startlinecolor": "#2a3f5f"
            },
            "baxis": {
             "endlinecolor": "#2a3f5f",
             "gridcolor": "white",
             "linecolor": "white",
             "minorgridcolor": "white",
             "startlinecolor": "#2a3f5f"
            },
            "type": "carpet"
           }
          ],
          "choropleth": [
           {
            "colorbar": {
             "outlinewidth": 0,
             "ticks": ""
            },
            "type": "choropleth"
           }
          ],
          "contour": [
           {
            "colorbar": {
             "outlinewidth": 0,
             "ticks": ""
            },
            "colorscale": [
             [
              0,
              "#0d0887"
             ],
             [
              0.1111111111111111,
              "#46039f"
             ],
             [
              0.2222222222222222,
              "#7201a8"
             ],
             [
              0.3333333333333333,
              "#9c179e"
             ],
             [
              0.4444444444444444,
              "#bd3786"
             ],
             [
              0.5555555555555556,
              "#d8576b"
             ],
             [
              0.6666666666666666,
              "#ed7953"
             ],
             [
              0.7777777777777778,
              "#fb9f3a"
             ],
             [
              0.8888888888888888,
              "#fdca26"
             ],
             [
              1,
              "#f0f921"
             ]
            ],
            "type": "contour"
           }
          ],
          "contourcarpet": [
           {
            "colorbar": {
             "outlinewidth": 0,
             "ticks": ""
            },
            "type": "contourcarpet"
           }
          ],
          "heatmap": [
           {
            "colorbar": {
             "outlinewidth": 0,
             "ticks": ""
            },
            "colorscale": [
             [
              0,
              "#0d0887"
             ],
             [
              0.1111111111111111,
              "#46039f"
             ],
             [
              0.2222222222222222,
              "#7201a8"
             ],
             [
              0.3333333333333333,
              "#9c179e"
             ],
             [
              0.4444444444444444,
              "#bd3786"
             ],
             [
              0.5555555555555556,
              "#d8576b"
             ],
             [
              0.6666666666666666,
              "#ed7953"
             ],
             [
              0.7777777777777778,
              "#fb9f3a"
             ],
             [
              0.8888888888888888,
              "#fdca26"
             ],
             [
              1,
              "#f0f921"
             ]
            ],
            "type": "heatmap"
           }
          ],
          "heatmapgl": [
           {
            "colorbar": {
             "outlinewidth": 0,
             "ticks": ""
            },
            "colorscale": [
             [
              0,
              "#0d0887"
             ],
             [
              0.1111111111111111,
              "#46039f"
             ],
             [
              0.2222222222222222,
              "#7201a8"
             ],
             [
              0.3333333333333333,
              "#9c179e"
             ],
             [
              0.4444444444444444,
              "#bd3786"
             ],
             [
              0.5555555555555556,
              "#d8576b"
             ],
             [
              0.6666666666666666,
              "#ed7953"
             ],
             [
              0.7777777777777778,
              "#fb9f3a"
             ],
             [
              0.8888888888888888,
              "#fdca26"
             ],
             [
              1,
              "#f0f921"
             ]
            ],
            "type": "heatmapgl"
           }
          ],
          "histogram": [
           {
            "marker": {
             "pattern": {
              "fillmode": "overlay",
              "size": 10,
              "solidity": 0.2
             }
            },
            "type": "histogram"
           }
          ],
          "histogram2d": [
           {
            "colorbar": {
             "outlinewidth": 0,
             "ticks": ""
            },
            "colorscale": [
             [
              0,
              "#0d0887"
             ],
             [
              0.1111111111111111,
              "#46039f"
             ],
             [
              0.2222222222222222,
              "#7201a8"
             ],
             [
              0.3333333333333333,
              "#9c179e"
             ],
             [
              0.4444444444444444,
              "#bd3786"
             ],
             [
              0.5555555555555556,
              "#d8576b"
             ],
             [
              0.6666666666666666,
              "#ed7953"
             ],
             [
              0.7777777777777778,
              "#fb9f3a"
             ],
             [
              0.8888888888888888,
              "#fdca26"
             ],
             [
              1,
              "#f0f921"
             ]
            ],
            "type": "histogram2d"
           }
          ],
          "histogram2dcontour": [
           {
            "colorbar": {
             "outlinewidth": 0,
             "ticks": ""
            },
            "colorscale": [
             [
              0,
              "#0d0887"
             ],
             [
              0.1111111111111111,
              "#46039f"
             ],
             [
              0.2222222222222222,
              "#7201a8"
             ],
             [
              0.3333333333333333,
              "#9c179e"
             ],
             [
              0.4444444444444444,
              "#bd3786"
             ],
             [
              0.5555555555555556,
              "#d8576b"
             ],
             [
              0.6666666666666666,
              "#ed7953"
             ],
             [
              0.7777777777777778,
              "#fb9f3a"
             ],
             [
              0.8888888888888888,
              "#fdca26"
             ],
             [
              1,
              "#f0f921"
             ]
            ],
            "type": "histogram2dcontour"
           }
          ],
          "mesh3d": [
           {
            "colorbar": {
             "outlinewidth": 0,
             "ticks": ""
            },
            "type": "mesh3d"
           }
          ],
          "parcoords": [
           {
            "line": {
             "colorbar": {
              "outlinewidth": 0,
              "ticks": ""
             }
            },
            "type": "parcoords"
           }
          ],
          "pie": [
           {
            "automargin": true,
            "type": "pie"
           }
          ],
          "scatter": [
           {
            "fillpattern": {
             "fillmode": "overlay",
             "size": 10,
             "solidity": 0.2
            },
            "type": "scatter"
           }
          ],
          "scatter3d": [
           {
            "line": {
             "colorbar": {
              "outlinewidth": 0,
              "ticks": ""
             }
            },
            "marker": {
             "colorbar": {
              "outlinewidth": 0,
              "ticks": ""
             }
            },
            "type": "scatter3d"
           }
          ],
          "scattercarpet": [
           {
            "marker": {
             "colorbar": {
              "outlinewidth": 0,
              "ticks": ""
             }
            },
            "type": "scattercarpet"
           }
          ],
          "scattergeo": [
           {
            "marker": {
             "colorbar": {
              "outlinewidth": 0,
              "ticks": ""
             }
            },
            "type": "scattergeo"
           }
          ],
          "scattergl": [
           {
            "marker": {
             "colorbar": {
              "outlinewidth": 0,
              "ticks": ""
             }
            },
            "type": "scattergl"
           }
          ],
          "scattermapbox": [
           {
            "marker": {
             "colorbar": {
              "outlinewidth": 0,
              "ticks": ""
             }
            },
            "type": "scattermapbox"
           }
          ],
          "scatterpolar": [
           {
            "marker": {
             "colorbar": {
              "outlinewidth": 0,
              "ticks": ""
             }
            },
            "type": "scatterpolar"
           }
          ],
          "scatterpolargl": [
           {
            "marker": {
             "colorbar": {
              "outlinewidth": 0,
              "ticks": ""
             }
            },
            "type": "scatterpolargl"
           }
          ],
          "scatterternary": [
           {
            "marker": {
             "colorbar": {
              "outlinewidth": 0,
              "ticks": ""
             }
            },
            "type": "scatterternary"
           }
          ],
          "surface": [
           {
            "colorbar": {
             "outlinewidth": 0,
             "ticks": ""
            },
            "colorscale": [
             [
              0,
              "#0d0887"
             ],
             [
              0.1111111111111111,
              "#46039f"
             ],
             [
              0.2222222222222222,
              "#7201a8"
             ],
             [
              0.3333333333333333,
              "#9c179e"
             ],
             [
              0.4444444444444444,
              "#bd3786"
             ],
             [
              0.5555555555555556,
              "#d8576b"
             ],
             [
              0.6666666666666666,
              "#ed7953"
             ],
             [
              0.7777777777777778,
              "#fb9f3a"
             ],
             [
              0.8888888888888888,
              "#fdca26"
             ],
             [
              1,
              "#f0f921"
             ]
            ],
            "type": "surface"
           }
          ],
          "table": [
           {
            "cells": {
             "fill": {
              "color": "#EBF0F8"
             },
             "line": {
              "color": "white"
             }
            },
            "header": {
             "fill": {
              "color": "#C8D4E3"
             },
             "line": {
              "color": "white"
             }
            },
            "type": "table"
           }
          ]
         },
         "layout": {
          "annotationdefaults": {
           "arrowcolor": "#2a3f5f",
           "arrowhead": 0,
           "arrowwidth": 1
          },
          "autotypenumbers": "strict",
          "coloraxis": {
           "colorbar": {
            "outlinewidth": 0,
            "ticks": ""
           }
          },
          "colorscale": {
           "diverging": [
            [
             0,
             "#8e0152"
            ],
            [
             0.1,
             "#c51b7d"
            ],
            [
             0.2,
             "#de77ae"
            ],
            [
             0.3,
             "#f1b6da"
            ],
            [
             0.4,
             "#fde0ef"
            ],
            [
             0.5,
             "#f7f7f7"
            ],
            [
             0.6,
             "#e6f5d0"
            ],
            [
             0.7,
             "#b8e186"
            ],
            [
             0.8,
             "#7fbc41"
            ],
            [
             0.9,
             "#4d9221"
            ],
            [
             1,
             "#276419"
            ]
           ],
           "sequential": [
            [
             0,
             "#0d0887"
            ],
            [
             0.1111111111111111,
             "#46039f"
            ],
            [
             0.2222222222222222,
             "#7201a8"
            ],
            [
             0.3333333333333333,
             "#9c179e"
            ],
            [
             0.4444444444444444,
             "#bd3786"
            ],
            [
             0.5555555555555556,
             "#d8576b"
            ],
            [
             0.6666666666666666,
             "#ed7953"
            ],
            [
             0.7777777777777778,
             "#fb9f3a"
            ],
            [
             0.8888888888888888,
             "#fdca26"
            ],
            [
             1,
             "#f0f921"
            ]
           ],
           "sequentialminus": [
            [
             0,
             "#0d0887"
            ],
            [
             0.1111111111111111,
             "#46039f"
            ],
            [
             0.2222222222222222,
             "#7201a8"
            ],
            [
             0.3333333333333333,
             "#9c179e"
            ],
            [
             0.4444444444444444,
             "#bd3786"
            ],
            [
             0.5555555555555556,
             "#d8576b"
            ],
            [
             0.6666666666666666,
             "#ed7953"
            ],
            [
             0.7777777777777778,
             "#fb9f3a"
            ],
            [
             0.8888888888888888,
             "#fdca26"
            ],
            [
             1,
             "#f0f921"
            ]
           ]
          },
          "colorway": [
           "#636efa",
           "#EF553B",
           "#00cc96",
           "#ab63fa",
           "#FFA15A",
           "#19d3f3",
           "#FF6692",
           "#B6E880",
           "#FF97FF",
           "#FECB52"
          ],
          "font": {
           "color": "#2a3f5f"
          },
          "geo": {
           "bgcolor": "white",
           "lakecolor": "white",
           "landcolor": "#E5ECF6",
           "showlakes": true,
           "showland": true,
           "subunitcolor": "white"
          },
          "hoverlabel": {
           "align": "left"
          },
          "hovermode": "closest",
          "mapbox": {
           "style": "light"
          },
          "paper_bgcolor": "white",
          "plot_bgcolor": "#E5ECF6",
          "polar": {
           "angularaxis": {
            "gridcolor": "white",
            "linecolor": "white",
            "ticks": ""
           },
           "bgcolor": "#E5ECF6",
           "radialaxis": {
            "gridcolor": "white",
            "linecolor": "white",
            "ticks": ""
           }
          },
          "scene": {
           "xaxis": {
            "backgroundcolor": "#E5ECF6",
            "gridcolor": "white",
            "gridwidth": 2,
            "linecolor": "white",
            "showbackground": true,
            "ticks": "",
            "zerolinecolor": "white"
           },
           "yaxis": {
            "backgroundcolor": "#E5ECF6",
            "gridcolor": "white",
            "gridwidth": 2,
            "linecolor": "white",
            "showbackground": true,
            "ticks": "",
            "zerolinecolor": "white"
           },
           "zaxis": {
            "backgroundcolor": "#E5ECF6",
            "gridcolor": "white",
            "gridwidth": 2,
            "linecolor": "white",
            "showbackground": true,
            "ticks": "",
            "zerolinecolor": "white"
           }
          },
          "shapedefaults": {
           "line": {
            "color": "#2a3f5f"
           }
          },
          "ternary": {
           "aaxis": {
            "gridcolor": "white",
            "linecolor": "white",
            "ticks": ""
           },
           "baxis": {
            "gridcolor": "white",
            "linecolor": "white",
            "ticks": ""
           },
           "bgcolor": "#E5ECF6",
           "caxis": {
            "gridcolor": "white",
            "linecolor": "white",
            "ticks": ""
           }
          },
          "title": {
           "x": 0.05
          },
          "xaxis": {
           "automargin": true,
           "gridcolor": "white",
           "linecolor": "white",
           "ticks": "",
           "title": {
            "standoff": 15
           },
           "zerolinecolor": "white",
           "zerolinewidth": 2
          },
          "yaxis": {
           "automargin": true,
           "gridcolor": "white",
           "linecolor": "white",
           "ticks": "",
           "title": {
            "standoff": 15
           },
           "zerolinecolor": "white",
           "zerolinewidth": 2
          }
         }
        },
        "title": {
         "text": "Days timeline"
        },
        "xaxis": {
         "anchor": "y",
         "domain": [
          0,
          1
         ],
         "rangeslider": {
          "visible": true
         },
         "title": {
          "text": "Days"
         }
        },
        "yaxis": {
         "anchor": "x",
         "domain": [
          0,
          1
         ],
         "title": {
          "text": "Message count"
         }
        }
       }
      }
     },
     "metadata": {},
     "output_type": "display_data"
    },
    {
     "data": {
      "application/vnd.plotly.v1+json": {
       "config": {
        "plotlyServerURL": "https://plot.ly"
       },
       "data": [
        {
         "alignmentgroup": "True",
         "hovertemplate": "Hours=%{x}<br>Message count=%{y}<extra></extra>",
         "legendgroup": "",
         "marker": {
          "color": "#636efa",
          "pattern": {
           "shape": ""
          }
         },
         "name": "",
         "offsetgroup": "",
         "orientation": "v",
         "showlegend": false,
         "textposition": "auto",
         "texttemplate": "%{y:.2s}",
         "type": "bar",
         "x": [
          "2023-08-03T10:00:00",
          "2023-08-03T11:00:00",
          "2023-08-03T12:00:00",
          "2023-08-03T13:00:00",
          "2023-08-03T14:00:00",
          "2023-08-03T15:00:00",
          "2023-08-03T16:00:00",
          "2023-08-03T17:00:00",
          "2023-08-03T18:00:00",
          "2023-08-03T19:00:00",
          "2023-08-03T20:00:00"
         ],
         "xaxis": "x",
         "y": [
          6,
          23,
          14,
          0,
          0,
          0,
          0,
          0,
          0,
          0,
          0
         ],
         "yaxis": "y"
        }
       ],
       "layout": {
        "barmode": "relative",
        "legend": {
         "tracegroupgap": 0
        },
        "template": {
         "data": {
          "bar": [
           {
            "error_x": {
             "color": "#2a3f5f"
            },
            "error_y": {
             "color": "#2a3f5f"
            },
            "marker": {
             "line": {
              "color": "#E5ECF6",
              "width": 0.5
             },
             "pattern": {
              "fillmode": "overlay",
              "size": 10,
              "solidity": 0.2
             }
            },
            "type": "bar"
           }
          ],
          "barpolar": [
           {
            "marker": {
             "line": {
              "color": "#E5ECF6",
              "width": 0.5
             },
             "pattern": {
              "fillmode": "overlay",
              "size": 10,
              "solidity": 0.2
             }
            },
            "type": "barpolar"
           }
          ],
          "carpet": [
           {
            "aaxis": {
             "endlinecolor": "#2a3f5f",
             "gridcolor": "white",
             "linecolor": "white",
             "minorgridcolor": "white",
             "startlinecolor": "#2a3f5f"
            },
            "baxis": {
             "endlinecolor": "#2a3f5f",
             "gridcolor": "white",
             "linecolor": "white",
             "minorgridcolor": "white",
             "startlinecolor": "#2a3f5f"
            },
            "type": "carpet"
           }
          ],
          "choropleth": [
           {
            "colorbar": {
             "outlinewidth": 0,
             "ticks": ""
            },
            "type": "choropleth"
           }
          ],
          "contour": [
           {
            "colorbar": {
             "outlinewidth": 0,
             "ticks": ""
            },
            "colorscale": [
             [
              0,
              "#0d0887"
             ],
             [
              0.1111111111111111,
              "#46039f"
             ],
             [
              0.2222222222222222,
              "#7201a8"
             ],
             [
              0.3333333333333333,
              "#9c179e"
             ],
             [
              0.4444444444444444,
              "#bd3786"
             ],
             [
              0.5555555555555556,
              "#d8576b"
             ],
             [
              0.6666666666666666,
              "#ed7953"
             ],
             [
              0.7777777777777778,
              "#fb9f3a"
             ],
             [
              0.8888888888888888,
              "#fdca26"
             ],
             [
              1,
              "#f0f921"
             ]
            ],
            "type": "contour"
           }
          ],
          "contourcarpet": [
           {
            "colorbar": {
             "outlinewidth": 0,
             "ticks": ""
            },
            "type": "contourcarpet"
           }
          ],
          "heatmap": [
           {
            "colorbar": {
             "outlinewidth": 0,
             "ticks": ""
            },
            "colorscale": [
             [
              0,
              "#0d0887"
             ],
             [
              0.1111111111111111,
              "#46039f"
             ],
             [
              0.2222222222222222,
              "#7201a8"
             ],
             [
              0.3333333333333333,
              "#9c179e"
             ],
             [
              0.4444444444444444,
              "#bd3786"
             ],
             [
              0.5555555555555556,
              "#d8576b"
             ],
             [
              0.6666666666666666,
              "#ed7953"
             ],
             [
              0.7777777777777778,
              "#fb9f3a"
             ],
             [
              0.8888888888888888,
              "#fdca26"
             ],
             [
              1,
              "#f0f921"
             ]
            ],
            "type": "heatmap"
           }
          ],
          "heatmapgl": [
           {
            "colorbar": {
             "outlinewidth": 0,
             "ticks": ""
            },
            "colorscale": [
             [
              0,
              "#0d0887"
             ],
             [
              0.1111111111111111,
              "#46039f"
             ],
             [
              0.2222222222222222,
              "#7201a8"
             ],
             [
              0.3333333333333333,
              "#9c179e"
             ],
             [
              0.4444444444444444,
              "#bd3786"
             ],
             [
              0.5555555555555556,
              "#d8576b"
             ],
             [
              0.6666666666666666,
              "#ed7953"
             ],
             [
              0.7777777777777778,
              "#fb9f3a"
             ],
             [
              0.8888888888888888,
              "#fdca26"
             ],
             [
              1,
              "#f0f921"
             ]
            ],
            "type": "heatmapgl"
           }
          ],
          "histogram": [
           {
            "marker": {
             "pattern": {
              "fillmode": "overlay",
              "size": 10,
              "solidity": 0.2
             }
            },
            "type": "histogram"
           }
          ],
          "histogram2d": [
           {
            "colorbar": {
             "outlinewidth": 0,
             "ticks": ""
            },
            "colorscale": [
             [
              0,
              "#0d0887"
             ],
             [
              0.1111111111111111,
              "#46039f"
             ],
             [
              0.2222222222222222,
              "#7201a8"
             ],
             [
              0.3333333333333333,
              "#9c179e"
             ],
             [
              0.4444444444444444,
              "#bd3786"
             ],
             [
              0.5555555555555556,
              "#d8576b"
             ],
             [
              0.6666666666666666,
              "#ed7953"
             ],
             [
              0.7777777777777778,
              "#fb9f3a"
             ],
             [
              0.8888888888888888,
              "#fdca26"
             ],
             [
              1,
              "#f0f921"
             ]
            ],
            "type": "histogram2d"
           }
          ],
          "histogram2dcontour": [
           {
            "colorbar": {
             "outlinewidth": 0,
             "ticks": ""
            },
            "colorscale": [
             [
              0,
              "#0d0887"
             ],
             [
              0.1111111111111111,
              "#46039f"
             ],
             [
              0.2222222222222222,
              "#7201a8"
             ],
             [
              0.3333333333333333,
              "#9c179e"
             ],
             [
              0.4444444444444444,
              "#bd3786"
             ],
             [
              0.5555555555555556,
              "#d8576b"
             ],
             [
              0.6666666666666666,
              "#ed7953"
             ],
             [
              0.7777777777777778,
              "#fb9f3a"
             ],
             [
              0.8888888888888888,
              "#fdca26"
             ],
             [
              1,
              "#f0f921"
             ]
            ],
            "type": "histogram2dcontour"
           }
          ],
          "mesh3d": [
           {
            "colorbar": {
             "outlinewidth": 0,
             "ticks": ""
            },
            "type": "mesh3d"
           }
          ],
          "parcoords": [
           {
            "line": {
             "colorbar": {
              "outlinewidth": 0,
              "ticks": ""
             }
            },
            "type": "parcoords"
           }
          ],
          "pie": [
           {
            "automargin": true,
            "type": "pie"
           }
          ],
          "scatter": [
           {
            "fillpattern": {
             "fillmode": "overlay",
             "size": 10,
             "solidity": 0.2
            },
            "type": "scatter"
           }
          ],
          "scatter3d": [
           {
            "line": {
             "colorbar": {
              "outlinewidth": 0,
              "ticks": ""
             }
            },
            "marker": {
             "colorbar": {
              "outlinewidth": 0,
              "ticks": ""
             }
            },
            "type": "scatter3d"
           }
          ],
          "scattercarpet": [
           {
            "marker": {
             "colorbar": {
              "outlinewidth": 0,
              "ticks": ""
             }
            },
            "type": "scattercarpet"
           }
          ],
          "scattergeo": [
           {
            "marker": {
             "colorbar": {
              "outlinewidth": 0,
              "ticks": ""
             }
            },
            "type": "scattergeo"
           }
          ],
          "scattergl": [
           {
            "marker": {
             "colorbar": {
              "outlinewidth": 0,
              "ticks": ""
             }
            },
            "type": "scattergl"
           }
          ],
          "scattermapbox": [
           {
            "marker": {
             "colorbar": {
              "outlinewidth": 0,
              "ticks": ""
             }
            },
            "type": "scattermapbox"
           }
          ],
          "scatterpolar": [
           {
            "marker": {
             "colorbar": {
              "outlinewidth": 0,
              "ticks": ""
             }
            },
            "type": "scatterpolar"
           }
          ],
          "scatterpolargl": [
           {
            "marker": {
             "colorbar": {
              "outlinewidth": 0,
              "ticks": ""
             }
            },
            "type": "scatterpolargl"
           }
          ],
          "scatterternary": [
           {
            "marker": {
             "colorbar": {
              "outlinewidth": 0,
              "ticks": ""
             }
            },
            "type": "scatterternary"
           }
          ],
          "surface": [
           {
            "colorbar": {
             "outlinewidth": 0,
             "ticks": ""
            },
            "colorscale": [
             [
              0,
              "#0d0887"
             ],
             [
              0.1111111111111111,
              "#46039f"
             ],
             [
              0.2222222222222222,
              "#7201a8"
             ],
             [
              0.3333333333333333,
              "#9c179e"
             ],
             [
              0.4444444444444444,
              "#bd3786"
             ],
             [
              0.5555555555555556,
              "#d8576b"
             ],
             [
              0.6666666666666666,
              "#ed7953"
             ],
             [
              0.7777777777777778,
              "#fb9f3a"
             ],
             [
              0.8888888888888888,
              "#fdca26"
             ],
             [
              1,
              "#f0f921"
             ]
            ],
            "type": "surface"
           }
          ],
          "table": [
           {
            "cells": {
             "fill": {
              "color": "#EBF0F8"
             },
             "line": {
              "color": "white"
             }
            },
            "header": {
             "fill": {
              "color": "#C8D4E3"
             },
             "line": {
              "color": "white"
             }
            },
            "type": "table"
           }
          ]
         },
         "layout": {
          "annotationdefaults": {
           "arrowcolor": "#2a3f5f",
           "arrowhead": 0,
           "arrowwidth": 1
          },
          "autotypenumbers": "strict",
          "coloraxis": {
           "colorbar": {
            "outlinewidth": 0,
            "ticks": ""
           }
          },
          "colorscale": {
           "diverging": [
            [
             0,
             "#8e0152"
            ],
            [
             0.1,
             "#c51b7d"
            ],
            [
             0.2,
             "#de77ae"
            ],
            [
             0.3,
             "#f1b6da"
            ],
            [
             0.4,
             "#fde0ef"
            ],
            [
             0.5,
             "#f7f7f7"
            ],
            [
             0.6,
             "#e6f5d0"
            ],
            [
             0.7,
             "#b8e186"
            ],
            [
             0.8,
             "#7fbc41"
            ],
            [
             0.9,
             "#4d9221"
            ],
            [
             1,
             "#276419"
            ]
           ],
           "sequential": [
            [
             0,
             "#0d0887"
            ],
            [
             0.1111111111111111,
             "#46039f"
            ],
            [
             0.2222222222222222,
             "#7201a8"
            ],
            [
             0.3333333333333333,
             "#9c179e"
            ],
            [
             0.4444444444444444,
             "#bd3786"
            ],
            [
             0.5555555555555556,
             "#d8576b"
            ],
            [
             0.6666666666666666,
             "#ed7953"
            ],
            [
             0.7777777777777778,
             "#fb9f3a"
            ],
            [
             0.8888888888888888,
             "#fdca26"
            ],
            [
             1,
             "#f0f921"
            ]
           ],
           "sequentialminus": [
            [
             0,
             "#0d0887"
            ],
            [
             0.1111111111111111,
             "#46039f"
            ],
            [
             0.2222222222222222,
             "#7201a8"
            ],
            [
             0.3333333333333333,
             "#9c179e"
            ],
            [
             0.4444444444444444,
             "#bd3786"
            ],
            [
             0.5555555555555556,
             "#d8576b"
            ],
            [
             0.6666666666666666,
             "#ed7953"
            ],
            [
             0.7777777777777778,
             "#fb9f3a"
            ],
            [
             0.8888888888888888,
             "#fdca26"
            ],
            [
             1,
             "#f0f921"
            ]
           ]
          },
          "colorway": [
           "#636efa",
           "#EF553B",
           "#00cc96",
           "#ab63fa",
           "#FFA15A",
           "#19d3f3",
           "#FF6692",
           "#B6E880",
           "#FF97FF",
           "#FECB52"
          ],
          "font": {
           "color": "#2a3f5f"
          },
          "geo": {
           "bgcolor": "white",
           "lakecolor": "white",
           "landcolor": "#E5ECF6",
           "showlakes": true,
           "showland": true,
           "subunitcolor": "white"
          },
          "hoverlabel": {
           "align": "left"
          },
          "hovermode": "closest",
          "mapbox": {
           "style": "light"
          },
          "paper_bgcolor": "white",
          "plot_bgcolor": "#E5ECF6",
          "polar": {
           "angularaxis": {
            "gridcolor": "white",
            "linecolor": "white",
            "ticks": ""
           },
           "bgcolor": "#E5ECF6",
           "radialaxis": {
            "gridcolor": "white",
            "linecolor": "white",
            "ticks": ""
           }
          },
          "scene": {
           "xaxis": {
            "backgroundcolor": "#E5ECF6",
            "gridcolor": "white",
            "gridwidth": 2,
            "linecolor": "white",
            "showbackground": true,
            "ticks": "",
            "zerolinecolor": "white"
           },
           "yaxis": {
            "backgroundcolor": "#E5ECF6",
            "gridcolor": "white",
            "gridwidth": 2,
            "linecolor": "white",
            "showbackground": true,
            "ticks": "",
            "zerolinecolor": "white"
           },
           "zaxis": {
            "backgroundcolor": "#E5ECF6",
            "gridcolor": "white",
            "gridwidth": 2,
            "linecolor": "white",
            "showbackground": true,
            "ticks": "",
            "zerolinecolor": "white"
           }
          },
          "shapedefaults": {
           "line": {
            "color": "#2a3f5f"
           }
          },
          "ternary": {
           "aaxis": {
            "gridcolor": "white",
            "linecolor": "white",
            "ticks": ""
           },
           "baxis": {
            "gridcolor": "white",
            "linecolor": "white",
            "ticks": ""
           },
           "bgcolor": "#E5ECF6",
           "caxis": {
            "gridcolor": "white",
            "linecolor": "white",
            "ticks": ""
           }
          },
          "title": {
           "x": 0.05
          },
          "xaxis": {
           "automargin": true,
           "gridcolor": "white",
           "linecolor": "white",
           "ticks": "",
           "title": {
            "standoff": 15
           },
           "zerolinecolor": "white",
           "zerolinewidth": 2
          },
          "yaxis": {
           "automargin": true,
           "gridcolor": "white",
           "linecolor": "white",
           "ticks": "",
           "title": {
            "standoff": 15
           },
           "zerolinecolor": "white",
           "zerolinewidth": 2
          }
         }
        },
        "title": {
         "text": "Hours timeline"
        },
        "xaxis": {
         "anchor": "y",
         "domain": [
          0,
          1
         ],
         "rangeslider": {
          "visible": true
         },
         "title": {
          "text": "Hours"
         }
        },
        "yaxis": {
         "anchor": "x",
         "domain": [
          0,
          1
         ],
         "title": {
          "text": "Message count"
         }
        }
       }
      }
     },
     "metadata": {},
     "output_type": "display_data"
    },
    {
     "data": {
      "application/vnd.plotly.v1+json": {
       "config": {
        "plotlyServerURL": "https://plot.ly"
       },
       "data": [
        {
         "alignmentgroup": "True",
         "hovertemplate": "Minutes=%{x}<br>Message count=%{y}<extra></extra>",
         "legendgroup": "",
         "marker": {
          "color": "#636efa",
          "pattern": {
           "shape": ""
          }
         },
         "name": "",
         "offsetgroup": "",
         "orientation": "v",
         "showlegend": false,
         "textposition": "auto",
         "texttemplate": "%{y:.2s}",
         "type": "bar",
         "x": [
          "2023-08-03T10:00:00",
          "2023-08-03T10:01:00",
          "2023-08-03T10:02:00",
          "2023-08-03T10:03:00",
          "2023-08-03T10:04:00",
          "2023-08-03T10:05:00",
          "2023-08-03T10:06:00",
          "2023-08-03T10:07:00",
          "2023-08-03T10:08:00",
          "2023-08-03T10:09:00",
          "2023-08-03T10:10:00",
          "2023-08-03T10:11:00",
          "2023-08-03T10:12:00",
          "2023-08-03T10:13:00",
          "2023-08-03T10:14:00",
          "2023-08-03T10:15:00",
          "2023-08-03T10:16:00",
          "2023-08-03T10:17:00",
          "2023-08-03T10:18:00",
          "2023-08-03T10:19:00",
          "2023-08-03T10:20:00",
          "2023-08-03T10:21:00",
          "2023-08-03T10:22:00",
          "2023-08-03T10:23:00",
          "2023-08-03T10:24:00",
          "2023-08-03T10:25:00",
          "2023-08-03T10:26:00",
          "2023-08-03T10:27:00",
          "2023-08-03T10:28:00",
          "2023-08-03T10:29:00",
          "2023-08-03T10:30:00",
          "2023-08-03T10:31:00",
          "2023-08-03T10:32:00",
          "2023-08-03T10:33:00",
          "2023-08-03T10:34:00",
          "2023-08-03T10:35:00",
          "2023-08-03T10:36:00",
          "2023-08-03T10:37:00",
          "2023-08-03T10:38:00",
          "2023-08-03T10:39:00",
          "2023-08-03T10:40:00",
          "2023-08-03T10:41:00",
          "2023-08-03T10:42:00",
          "2023-08-03T10:43:00",
          "2023-08-03T10:44:00",
          "2023-08-03T10:45:00",
          "2023-08-03T10:46:00",
          "2023-08-03T10:47:00",
          "2023-08-03T10:48:00",
          "2023-08-03T10:49:00",
          "2023-08-03T10:50:00",
          "2023-08-03T10:51:00",
          "2023-08-03T10:52:00",
          "2023-08-03T10:53:00",
          "2023-08-03T10:54:00",
          "2023-08-03T10:55:00",
          "2023-08-03T10:56:00",
          "2023-08-03T10:57:00",
          "2023-08-03T10:58:00",
          "2023-08-03T10:59:00",
          "2023-08-03T11:00:00",
          "2023-08-03T11:01:00",
          "2023-08-03T11:02:00",
          "2023-08-03T11:03:00",
          "2023-08-03T11:04:00",
          "2023-08-03T11:05:00",
          "2023-08-03T11:06:00",
          "2023-08-03T11:07:00",
          "2023-08-03T11:08:00",
          "2023-08-03T11:09:00",
          "2023-08-03T11:10:00",
          "2023-08-03T11:11:00",
          "2023-08-03T11:12:00",
          "2023-08-03T11:13:00",
          "2023-08-03T11:14:00",
          "2023-08-03T11:15:00",
          "2023-08-03T11:16:00",
          "2023-08-03T11:17:00",
          "2023-08-03T11:18:00",
          "2023-08-03T11:19:00",
          "2023-08-03T11:20:00",
          "2023-08-03T11:21:00",
          "2023-08-03T11:22:00",
          "2023-08-03T11:23:00",
          "2023-08-03T11:24:00",
          "2023-08-03T11:25:00",
          "2023-08-03T11:26:00",
          "2023-08-03T11:27:00",
          "2023-08-03T11:28:00",
          "2023-08-03T11:29:00",
          "2023-08-03T11:30:00",
          "2023-08-03T11:31:00",
          "2023-08-03T11:32:00",
          "2023-08-03T11:33:00",
          "2023-08-03T11:34:00",
          "2023-08-03T11:35:00",
          "2023-08-03T11:36:00",
          "2023-08-03T11:37:00",
          "2023-08-03T11:38:00",
          "2023-08-03T11:39:00",
          "2023-08-03T11:40:00",
          "2023-08-03T11:41:00",
          "2023-08-03T11:42:00",
          "2023-08-03T11:43:00",
          "2023-08-03T11:44:00",
          "2023-08-03T11:45:00",
          "2023-08-03T11:46:00",
          "2023-08-03T11:47:00",
          "2023-08-03T11:48:00",
          "2023-08-03T11:49:00",
          "2023-08-03T11:50:00"
         ],
         "xaxis": "x",
         "y": [
          1,
          0,
          1,
          0,
          0,
          0,
          0,
          0,
          0,
          0,
          0,
          0,
          0,
          0,
          1,
          0,
          0,
          0,
          0,
          0,
          0,
          0,
          0,
          0,
          1,
          0,
          0,
          0,
          0,
          0,
          0,
          0,
          0,
          0,
          0,
          0,
          0,
          0,
          0,
          0,
          0,
          0,
          0,
          0,
          0,
          0,
          0,
          0,
          0,
          0,
          0,
          2,
          0,
          0,
          0,
          0,
          0,
          0,
          0,
          0,
          0,
          1,
          0,
          0,
          0,
          0,
          0,
          0,
          0,
          0,
          0,
          0,
          0,
          0,
          0,
          0,
          0,
          0,
          0,
          1,
          0,
          0,
          1,
          0,
          2,
          0,
          0,
          0,
          0,
          1,
          1,
          0,
          1,
          2,
          0,
          0,
          0,
          0,
          0,
          0,
          0,
          0,
          1,
          0,
          0,
          0,
          0,
          0,
          0,
          1,
          1
         ],
         "yaxis": "y"
        }
       ],
       "layout": {
        "barmode": "relative",
        "legend": {
         "tracegroupgap": 0
        },
        "template": {
         "data": {
          "bar": [
           {
            "error_x": {
             "color": "#2a3f5f"
            },
            "error_y": {
             "color": "#2a3f5f"
            },
            "marker": {
             "line": {
              "color": "#E5ECF6",
              "width": 0.5
             },
             "pattern": {
              "fillmode": "overlay",
              "size": 10,
              "solidity": 0.2
             }
            },
            "type": "bar"
           }
          ],
          "barpolar": [
           {
            "marker": {
             "line": {
              "color": "#E5ECF6",
              "width": 0.5
             },
             "pattern": {
              "fillmode": "overlay",
              "size": 10,
              "solidity": 0.2
             }
            },
            "type": "barpolar"
           }
          ],
          "carpet": [
           {
            "aaxis": {
             "endlinecolor": "#2a3f5f",
             "gridcolor": "white",
             "linecolor": "white",
             "minorgridcolor": "white",
             "startlinecolor": "#2a3f5f"
            },
            "baxis": {
             "endlinecolor": "#2a3f5f",
             "gridcolor": "white",
             "linecolor": "white",
             "minorgridcolor": "white",
             "startlinecolor": "#2a3f5f"
            },
            "type": "carpet"
           }
          ],
          "choropleth": [
           {
            "colorbar": {
             "outlinewidth": 0,
             "ticks": ""
            },
            "type": "choropleth"
           }
          ],
          "contour": [
           {
            "colorbar": {
             "outlinewidth": 0,
             "ticks": ""
            },
            "colorscale": [
             [
              0,
              "#0d0887"
             ],
             [
              0.1111111111111111,
              "#46039f"
             ],
             [
              0.2222222222222222,
              "#7201a8"
             ],
             [
              0.3333333333333333,
              "#9c179e"
             ],
             [
              0.4444444444444444,
              "#bd3786"
             ],
             [
              0.5555555555555556,
              "#d8576b"
             ],
             [
              0.6666666666666666,
              "#ed7953"
             ],
             [
              0.7777777777777778,
              "#fb9f3a"
             ],
             [
              0.8888888888888888,
              "#fdca26"
             ],
             [
              1,
              "#f0f921"
             ]
            ],
            "type": "contour"
           }
          ],
          "contourcarpet": [
           {
            "colorbar": {
             "outlinewidth": 0,
             "ticks": ""
            },
            "type": "contourcarpet"
           }
          ],
          "heatmap": [
           {
            "colorbar": {
             "outlinewidth": 0,
             "ticks": ""
            },
            "colorscale": [
             [
              0,
              "#0d0887"
             ],
             [
              0.1111111111111111,
              "#46039f"
             ],
             [
              0.2222222222222222,
              "#7201a8"
             ],
             [
              0.3333333333333333,
              "#9c179e"
             ],
             [
              0.4444444444444444,
              "#bd3786"
             ],
             [
              0.5555555555555556,
              "#d8576b"
             ],
             [
              0.6666666666666666,
              "#ed7953"
             ],
             [
              0.7777777777777778,
              "#fb9f3a"
             ],
             [
              0.8888888888888888,
              "#fdca26"
             ],
             [
              1,
              "#f0f921"
             ]
            ],
            "type": "heatmap"
           }
          ],
          "heatmapgl": [
           {
            "colorbar": {
             "outlinewidth": 0,
             "ticks": ""
            },
            "colorscale": [
             [
              0,
              "#0d0887"
             ],
             [
              0.1111111111111111,
              "#46039f"
             ],
             [
              0.2222222222222222,
              "#7201a8"
             ],
             [
              0.3333333333333333,
              "#9c179e"
             ],
             [
              0.4444444444444444,
              "#bd3786"
             ],
             [
              0.5555555555555556,
              "#d8576b"
             ],
             [
              0.6666666666666666,
              "#ed7953"
             ],
             [
              0.7777777777777778,
              "#fb9f3a"
             ],
             [
              0.8888888888888888,
              "#fdca26"
             ],
             [
              1,
              "#f0f921"
             ]
            ],
            "type": "heatmapgl"
           }
          ],
          "histogram": [
           {
            "marker": {
             "pattern": {
              "fillmode": "overlay",
              "size": 10,
              "solidity": 0.2
             }
            },
            "type": "histogram"
           }
          ],
          "histogram2d": [
           {
            "colorbar": {
             "outlinewidth": 0,
             "ticks": ""
            },
            "colorscale": [
             [
              0,
              "#0d0887"
             ],
             [
              0.1111111111111111,
              "#46039f"
             ],
             [
              0.2222222222222222,
              "#7201a8"
             ],
             [
              0.3333333333333333,
              "#9c179e"
             ],
             [
              0.4444444444444444,
              "#bd3786"
             ],
             [
              0.5555555555555556,
              "#d8576b"
             ],
             [
              0.6666666666666666,
              "#ed7953"
             ],
             [
              0.7777777777777778,
              "#fb9f3a"
             ],
             [
              0.8888888888888888,
              "#fdca26"
             ],
             [
              1,
              "#f0f921"
             ]
            ],
            "type": "histogram2d"
           }
          ],
          "histogram2dcontour": [
           {
            "colorbar": {
             "outlinewidth": 0,
             "ticks": ""
            },
            "colorscale": [
             [
              0,
              "#0d0887"
             ],
             [
              0.1111111111111111,
              "#46039f"
             ],
             [
              0.2222222222222222,
              "#7201a8"
             ],
             [
              0.3333333333333333,
              "#9c179e"
             ],
             [
              0.4444444444444444,
              "#bd3786"
             ],
             [
              0.5555555555555556,
              "#d8576b"
             ],
             [
              0.6666666666666666,
              "#ed7953"
             ],
             [
              0.7777777777777778,
              "#fb9f3a"
             ],
             [
              0.8888888888888888,
              "#fdca26"
             ],
             [
              1,
              "#f0f921"
             ]
            ],
            "type": "histogram2dcontour"
           }
          ],
          "mesh3d": [
           {
            "colorbar": {
             "outlinewidth": 0,
             "ticks": ""
            },
            "type": "mesh3d"
           }
          ],
          "parcoords": [
           {
            "line": {
             "colorbar": {
              "outlinewidth": 0,
              "ticks": ""
             }
            },
            "type": "parcoords"
           }
          ],
          "pie": [
           {
            "automargin": true,
            "type": "pie"
           }
          ],
          "scatter": [
           {
            "fillpattern": {
             "fillmode": "overlay",
             "size": 10,
             "solidity": 0.2
            },
            "type": "scatter"
           }
          ],
          "scatter3d": [
           {
            "line": {
             "colorbar": {
              "outlinewidth": 0,
              "ticks": ""
             }
            },
            "marker": {
             "colorbar": {
              "outlinewidth": 0,
              "ticks": ""
             }
            },
            "type": "scatter3d"
           }
          ],
          "scattercarpet": [
           {
            "marker": {
             "colorbar": {
              "outlinewidth": 0,
              "ticks": ""
             }
            },
            "type": "scattercarpet"
           }
          ],
          "scattergeo": [
           {
            "marker": {
             "colorbar": {
              "outlinewidth": 0,
              "ticks": ""
             }
            },
            "type": "scattergeo"
           }
          ],
          "scattergl": [
           {
            "marker": {
             "colorbar": {
              "outlinewidth": 0,
              "ticks": ""
             }
            },
            "type": "scattergl"
           }
          ],
          "scattermapbox": [
           {
            "marker": {
             "colorbar": {
              "outlinewidth": 0,
              "ticks": ""
             }
            },
            "type": "scattermapbox"
           }
          ],
          "scatterpolar": [
           {
            "marker": {
             "colorbar": {
              "outlinewidth": 0,
              "ticks": ""
             }
            },
            "type": "scatterpolar"
           }
          ],
          "scatterpolargl": [
           {
            "marker": {
             "colorbar": {
              "outlinewidth": 0,
              "ticks": ""
             }
            },
            "type": "scatterpolargl"
           }
          ],
          "scatterternary": [
           {
            "marker": {
             "colorbar": {
              "outlinewidth": 0,
              "ticks": ""
             }
            },
            "type": "scatterternary"
           }
          ],
          "surface": [
           {
            "colorbar": {
             "outlinewidth": 0,
             "ticks": ""
            },
            "colorscale": [
             [
              0,
              "#0d0887"
             ],
             [
              0.1111111111111111,
              "#46039f"
             ],
             [
              0.2222222222222222,
              "#7201a8"
             ],
             [
              0.3333333333333333,
              "#9c179e"
             ],
             [
              0.4444444444444444,
              "#bd3786"
             ],
             [
              0.5555555555555556,
              "#d8576b"
             ],
             [
              0.6666666666666666,
              "#ed7953"
             ],
             [
              0.7777777777777778,
              "#fb9f3a"
             ],
             [
              0.8888888888888888,
              "#fdca26"
             ],
             [
              1,
              "#f0f921"
             ]
            ],
            "type": "surface"
           }
          ],
          "table": [
           {
            "cells": {
             "fill": {
              "color": "#EBF0F8"
             },
             "line": {
              "color": "white"
             }
            },
            "header": {
             "fill": {
              "color": "#C8D4E3"
             },
             "line": {
              "color": "white"
             }
            },
            "type": "table"
           }
          ]
         },
         "layout": {
          "annotationdefaults": {
           "arrowcolor": "#2a3f5f",
           "arrowhead": 0,
           "arrowwidth": 1
          },
          "autotypenumbers": "strict",
          "coloraxis": {
           "colorbar": {
            "outlinewidth": 0,
            "ticks": ""
           }
          },
          "colorscale": {
           "diverging": [
            [
             0,
             "#8e0152"
            ],
            [
             0.1,
             "#c51b7d"
            ],
            [
             0.2,
             "#de77ae"
            ],
            [
             0.3,
             "#f1b6da"
            ],
            [
             0.4,
             "#fde0ef"
            ],
            [
             0.5,
             "#f7f7f7"
            ],
            [
             0.6,
             "#e6f5d0"
            ],
            [
             0.7,
             "#b8e186"
            ],
            [
             0.8,
             "#7fbc41"
            ],
            [
             0.9,
             "#4d9221"
            ],
            [
             1,
             "#276419"
            ]
           ],
           "sequential": [
            [
             0,
             "#0d0887"
            ],
            [
             0.1111111111111111,
             "#46039f"
            ],
            [
             0.2222222222222222,
             "#7201a8"
            ],
            [
             0.3333333333333333,
             "#9c179e"
            ],
            [
             0.4444444444444444,
             "#bd3786"
            ],
            [
             0.5555555555555556,
             "#d8576b"
            ],
            [
             0.6666666666666666,
             "#ed7953"
            ],
            [
             0.7777777777777778,
             "#fb9f3a"
            ],
            [
             0.8888888888888888,
             "#fdca26"
            ],
            [
             1,
             "#f0f921"
            ]
           ],
           "sequentialminus": [
            [
             0,
             "#0d0887"
            ],
            [
             0.1111111111111111,
             "#46039f"
            ],
            [
             0.2222222222222222,
             "#7201a8"
            ],
            [
             0.3333333333333333,
             "#9c179e"
            ],
            [
             0.4444444444444444,
             "#bd3786"
            ],
            [
             0.5555555555555556,
             "#d8576b"
            ],
            [
             0.6666666666666666,
             "#ed7953"
            ],
            [
             0.7777777777777778,
             "#fb9f3a"
            ],
            [
             0.8888888888888888,
             "#fdca26"
            ],
            [
             1,
             "#f0f921"
            ]
           ]
          },
          "colorway": [
           "#636efa",
           "#EF553B",
           "#00cc96",
           "#ab63fa",
           "#FFA15A",
           "#19d3f3",
           "#FF6692",
           "#B6E880",
           "#FF97FF",
           "#FECB52"
          ],
          "font": {
           "color": "#2a3f5f"
          },
          "geo": {
           "bgcolor": "white",
           "lakecolor": "white",
           "landcolor": "#E5ECF6",
           "showlakes": true,
           "showland": true,
           "subunitcolor": "white"
          },
          "hoverlabel": {
           "align": "left"
          },
          "hovermode": "closest",
          "mapbox": {
           "style": "light"
          },
          "paper_bgcolor": "white",
          "plot_bgcolor": "#E5ECF6",
          "polar": {
           "angularaxis": {
            "gridcolor": "white",
            "linecolor": "white",
            "ticks": ""
           },
           "bgcolor": "#E5ECF6",
           "radialaxis": {
            "gridcolor": "white",
            "linecolor": "white",
            "ticks": ""
           }
          },
          "scene": {
           "xaxis": {
            "backgroundcolor": "#E5ECF6",
            "gridcolor": "white",
            "gridwidth": 2,
            "linecolor": "white",
            "showbackground": true,
            "ticks": "",
            "zerolinecolor": "white"
           },
           "yaxis": {
            "backgroundcolor": "#E5ECF6",
            "gridcolor": "white",
            "gridwidth": 2,
            "linecolor": "white",
            "showbackground": true,
            "ticks": "",
            "zerolinecolor": "white"
           },
           "zaxis": {
            "backgroundcolor": "#E5ECF6",
            "gridcolor": "white",
            "gridwidth": 2,
            "linecolor": "white",
            "showbackground": true,
            "ticks": "",
            "zerolinecolor": "white"
           }
          },
          "shapedefaults": {
           "line": {
            "color": "#2a3f5f"
           }
          },
          "ternary": {
           "aaxis": {
            "gridcolor": "white",
            "linecolor": "white",
            "ticks": ""
           },
           "baxis": {
            "gridcolor": "white",
            "linecolor": "white",
            "ticks": ""
           },
           "bgcolor": "#E5ECF6",
           "caxis": {
            "gridcolor": "white",
            "linecolor": "white",
            "ticks": ""
           }
          },
          "title": {
           "x": 0.05
          },
          "xaxis": {
           "automargin": true,
           "gridcolor": "white",
           "linecolor": "white",
           "ticks": "",
           "title": {
            "standoff": 15
           },
           "zerolinecolor": "white",
           "zerolinewidth": 2
          },
          "yaxis": {
           "automargin": true,
           "gridcolor": "white",
           "linecolor": "white",
           "ticks": "",
           "title": {
            "standoff": 15
           },
           "zerolinecolor": "white",
           "zerolinewidth": 2
          }
         }
        },
        "title": {
         "text": "Minutes timeline"
        },
        "xaxis": {
         "anchor": "y",
         "domain": [
          0,
          1
         ],
         "rangeslider": {
          "visible": true
         },
         "title": {
          "text": "Minutes"
         }
        },
        "yaxis": {
         "anchor": "x",
         "domain": [
          0,
          1
         ],
         "title": {
          "text": "Message count"
         }
        }
       }
      }
     },
     "metadata": {},
     "output_type": "display_data"
    }
   ],
   "source": [
    "import plotly.express as px\n",
    "\n",
    "bar_figures = {}\n",
    "\n",
    "for barplot_type in bar_type_dataframe.keys():\n",
    "\n",
    "    barplot_df = bar_type_dataframe[barplot_type]\n",
    "\n",
    "\n",
    "    if barplot_type == \"Weekdays\":\n",
    "\n",
    "        weeks_plot = []\n",
    "\n",
    "        for week_num in range(1,5):\n",
    "\n",
    "            fig = px.bar(barplot_df, x=\"x\", y=f\"y{week_num}\", text_auto='.2s',\n",
    "                        labels={\n",
    "                                \"x\": barplot_type,\n",
    "                                f\"y{week_num}\": \"Message count\",\n",
    "                                 },\n",
    "\n",
    "                        title=f\"{barplot_type} [week - {week_num}] timeline\", \n",
    "                      \n",
    "                        )\n",
    "    \n",
    "            weeks_plot.append(fig)\n",
    "            fig.show()\n",
    "\n",
    "        bar_figures[barplot_type] = weeks_plot\n",
    "             \n",
    "        continue          \n",
    "\n",
    "\n",
    "\n",
    "    fig = px.bar(barplot_df, x=\"x\", y=\"y\", text_auto='.2s',\n",
    "                labels={\n",
    "                        \"x\": barplot_type,\n",
    "                        \"y\": \"Message count\",\n",
    "                        \"username\": \"Users\"\n",
    "                    },\n",
    "\n",
    "                title=f\"{barplot_type} timeline\", \n",
    "                            \n",
    "                )\n",
    "\n",
    "    if barplot_type == \"Years\":\n",
    "        fig.update_layout( xaxis={\n",
    "            'range': [barplot_df['x'].min(), barplot_df['x'].max()], \n",
    "            'tickvals': [*range(int(barplot_df['x'].min()), int(barplot_df['x'].max()))]})         \n",
    "\n",
    "    if barplot_type in [\"Years\",\"Days\",\"Hours\",\"Minutes\"]:\n",
    "        fig.update_xaxes(rangeslider_visible=True)            \n",
    "\n",
    "    bar_figures[barplot_type] = fig\n",
    "\n",
    "    fig.show()\n",
    "\n"
   ]
  },
  {
   "cell_type": "code",
   "execution_count": 184,
   "metadata": {},
   "outputs": [],
   "source": [
    "stopwords = open('stop_hinglish.txt').read()   \n",
    "stopwords = stopwords.split('\\n')"
   ]
  },
  {
   "cell_type": "code",
   "execution_count": 203,
   "metadata": {},
   "outputs": [],
   "source": [
    "import string\n",
    "import re\n",
    " \n",
    "def clean_message(message):\n",
    "\n",
    "    message = message.strip()\n",
    "    lower_case = message.lower()\n",
    "    translation_table = str.maketrans('', '', string.punctuation+'0123456789\\t')\n",
    "    without_punctuations = lower_case.translate(translation_table)\n",
    "    removed_extra_blank_spaces = re.sub(' +', ' ',without_punctuations)\n",
    "\n",
    "    with_stopwords = removed_extra_blank_spaces.split(\" \")\n",
    "\n",
    "    without_stopwords = []\n",
    "\n",
    "    for word in with_stopwords:\n",
    "        if word not in stopwords:\n",
    "            without_stopwords.append(word)\n",
    "\n",
    "    cleaned_message = ' '.join(without_stopwords)\n",
    "    \n",
    "    return cleaned_message"
   ]
  },
  {
   "cell_type": "code",
   "execution_count": 308,
   "metadata": {},
   "outputs": [],
   "source": [
    "from collections import Counter \n",
    "\n",
    "def get_most_frequent_word(message,word_frequency_threshold = 3,word_length_threshold = 1):\n",
    "    \n",
    "    words_list = message.split(\" \")\n",
    "    proper_length_word_list = [word for word in words_list if len(word)>word_length_threshold]\n",
    "\n",
    "    words_duplicates_count_dict = Counter(proper_length_word_list) \n",
    "    asec_order = sorted(words_duplicates_count_dict)\n",
    "\n",
    "    if len(asec_order)==0:\n",
    "        return \"No specific discussion\"\n",
    "        \n",
    "    top_most_frequent_words = asec_order[:num_words]\n",
    "    valid_most_frequent_words = []\n",
    "    print(asec_order)\n",
    "    print(words_duplicates_count_dict)\n",
    "\n",
    "    for word in top_most_frequent_words:\n",
    "        if words_duplicates_count_dict[word]>=word_frequency_threshold:\n",
    "            valid_most_frequent_words.append(most_frequent_word)\n",
    "        else:\n",
    "            valid_most_frequent_words.append(\"No specific discussion\")\n",
    "\n",
    "    return  valid_most_frequent_words       "
   ]
  },
  {
   "cell_type": "code",
   "execution_count": 309,
   "metadata": {},
   "outputs": [],
   "source": [
    "def year_wise_most_frequent_word(chat_details,start_year,end_year):\n",
    "    \n",
    "    start_date = datetime(start_year,1,1)\n",
    "    end_date = datetime(end_year,1,1)\n",
    "\n",
    "    delta = relativedelta(years=1)\n",
    "\n",
    "    years = []\n",
    "    most_frequent_words = []\n",
    "\n",
    "    while start_date <= end_date:\n",
    "        years.append(start_date.year)\n",
    "        start_date += delta\n",
    "\n",
    "    user_activity = [\"no specific discussion\" for count in range(len(years))] \n",
    "   \n",
    "    for year in years:\n",
    "        activity_year = chat_details[chat_details.Year == year]\n",
    "        message = ' '.join(list(activity_year.message.values))\n",
    "        cleaned_message = clean_message(message)\n",
    "        most_frequent_word = get_most_frequent_word(cleaned_message,3,1,2)\n",
    "        most_frequent_words.append(most_frequent_word)\n",
    "\n",
    "            \n",
    "    return years,most_frequent_words"
   ]
  },
  {
   "cell_type": "code",
   "execution_count": 310,
   "metadata": {},
   "outputs": [
    {
     "name": "stdout",
     "output_type": "stream",
     "text": [
      "['aaaya', 'aadhar', 'aajke', 'aana', 'aankhe', 'aayega', 'aayi', 'abandonment', 'abet', 'abhe', 'abhijeet', 'abi', 'abilities', 'abovementioned', 'abroad', 'absent', 'absentee', 'absentees', 'absent\\u2068apsingh\\u2069', 'abstract', 'academic', 'academics', 'accelerating', 'accenture', 'accept', 'accepted', 'access', 'accessible', 'accident', 'accompany', 'accomplished', 'accomplishments', 'account', 'accounts', 'accurately', 'achieve', 'achievement', 'achievements', 'achievers', 'acknowledgment', 'aco', 'acos', 'acs', 'action', 'actionable', 'actions', 'activate', 'activated', 'activation', 'active', 'activities', 'activity', 'actual', 'adaptable', 'added', 'addition', 'additional', 'additionally', 'address', 'adhere', 'adhikari', 'adhikaribcs', 'adil', 'aditya', 'adjust', 'adjustments', 'admin', 'administration', 'administrative', 'admission', 'advance', 'advantage', 'adversely', 'advice', 'advisable', 'advise', 'advised', 'advisor', 'aegis', 'aerospace', 'aesa', 'aesthetically', 'aesthetics', 'affairs', 'affect', 'affidavitfor', 'affidevit', 'affiliation', 'afrojrtuesdaythursday', 'afternoon', 'afterward', 'agency', 'agenda', 'agendas', 'ago', 'agr', 'agree', 'agreement', 'ahuja', 'aicindian', 'aid', 'aim', 'aimed', 'aiml', 'aims', 'ajay', 'akar', 'akshat', 'alarming', 'alert', 'algorithms', 'alive', 'allocated', 'allocating', 'allocation', 'alloted', 'allotment', 'allotted', 'allowed', 'alltime', 'alstom', 'altair', 'altered', 'alternate', 'alternatively', 'amancrccumailin', 'amandeep', 'amanpreet', 'amazing', 'ambitious', 'amcat', 'amisha', 'amit', 'amount', 'amplify', 'ampm', 'analysis', 'analyst', 'analytical', 'analytics', 'analyzing', 'anamika', 'anchal', 'anchoring', 'andor', 'angel', 'aniket', 'ankit', 'ankita', 'ankur', 'anmol', 'annexurei', 'announce', 'announced', 'announcement', 'annual', 'ans', 'anshul', 'answer', 'answered', 'anup', 'anushka', 'anyones', 'anytime', 'appeal', 'appealing', 'appeared', 'appearing', 'apple', 'applicable', 'applicants', 'application', 'applications', 'apply', 'applying', 'appointed', 'appreciated', 'apprised', 'approach', 'appropriate', 'approval', 'approved', 'approvemake', 'apptiv', 'aptitude', 'aptiv', 'architecture', 'area', 'aree', 'argueathon', 'arm', 'arora', 'arorabcs', 'arrangement', 'arrears', 'arrived', 'art', 'articulate', 'artificial', 'artistic', 'arts', 'arts”', 'arya', 'aryan', 'asap', 'ashraf', 'asked', 'asmit', 'aspects', 'aspirants', 'aspire', 'aspires', 'aspiretothenewcom', 'aspiring', 'assess', 'assessment', 'assessments', 'assigned', 'assignment', 'assignmentquiz', 'assignmentquizst', 'assignmentquizsurprise', 'assignments', 'assignmentsquizsurprise', 'assist', 'assistance', 'assisting', 'associate', 'associated', 'association', 'astronomy', 'astros', 'ata', 'atlassian', 'atleast', 'attach', 'attached', 'attaching', 'attachments', 'attacks', 'attained', 'attempt', 'attempted', 'attend', 'attendance', 'attended', 'attending', 'attention', 'audi', 'audience', 'auditing', 'auditorium', 'aug', 'augdec', 'augment', 'august', 'authentication', 'authories', 'authorities', 'authority', 'authors', 'automatically', 'avail', 'available', 'avalable', 'avantika', 'avenues', 'aviraj', 'avneet', 'avoid', 'award', 'awarded', 'awards', 'awareness', 'ayushi', 'azhar', 'azhartuesdaythursday', 'baat', 'back', 'backbone', 'backend', 'background', 'backgrounds', 'backlogs', 'bag', 'baigan', 'bait', 'bajajtuesdaythursday', 'balancing', 'balatuesdaythursday', 'bandwidth', 'bangalore', 'bank', 'bar', 'based', 'basic', 'basis', 'basisno', 'basket', 'batana', 'bataya', 'batch', 'batches', 'bca', 'bcho', 'bcs', 'bcsa', 'bcsb', 'bcsgovind', 'bcslabc', 'bcslhc', 'bct', 'bebtech', 'becse', 'becseit', 'bedi', 'bedibcs', 'befour', 'begin', 'behalf', 'behan', 'behaviour', 'bellow', 'belong', 'belonging', 'benefit', 'benefits', 'bet', 'betdhanoj', 'betmaneet', 'bettushar', 'betvishal', 'bhar', 'bharo', 'bhatituesdaythursday', 'bhe', 'bhej', 'bhjdo', 'bhjna', 'bhool', 'bhudhirajatuesdaythursday', 'bhul', 'bhupinder', 'bhutan', 'big', 'biggest', 'bihar', 'bina', 'binani', 'bind', 'binding', 'biomedical', 'birth', 'bit', 'bites', 'black', 'blacksilver', 'block', 'blocka', 'blockb', 'blockc', 'blockchain', 'blockchainenabled', 'blockchainevent', 'blocks', 'blue', 'board', 'boards', 'bodysociety', 'boldo', 'bolke', 'bolne', 'bombay', 'bond', 'bonus', 'book', 'books', 'bottle', 'bottom', 'bound', 'bout', 'bps', 'brain', 'branch', 'branchdepartment', 'branches', 'branchstream', 'brand', 'branding', 'bridge', 'bring', 'brings', 'broad', 'brochure', 'brought', 'bro🥲', 'bsba', 'bsccs', 'bschools', 'bse', 'bta', 'btech', 'budding', 'buddy', 'buddystudy', 'buddystudycom', 'build', 'building', 'buildings', 'bunaviewform', 'bus', 'business', 'businesses', 'button', 'buzzing', 'bvicam', 'cabin', 'calendar', 'calendars', 'call', 'calle', 'called', 'calling', 'callmessage', 'camp', 'campaign', 'campus', 'cancelled', 'candidate', 'candidates', 'candidature', 'capacity', 'capital', 'captivate', 'captivates', 'card', 'cards', 'care', 'career', 'carefully', 'carry', 'cart', 'case', 'cases', 'cash', 'cat', 'categories', 'category', 'caught', 'cautioned', 'cds', 'celebrate', 'celebrated', 'celebration', 'cell', 'center', 'centered', 'certificate', 'certificates', 'certification', 'cgpa', 'chain', 'challenge', 'challenges', 'challenging', 'championship', 'chance', 'chancellor', 'chances', 'chandeltuesdaythursday', 'chandertuesdaythursday', 'chandigarh', 'chandigarhuniversity', 'chandrayaan', 'change', 'changedthat', 'changes', 'channel', 'chaos', 'chapter', 'chapters', 'charan', 'charge', 'charted', 'chartered', 'chaudhary', 'chauhan', 'check', 'checked', 'checking', 'chitkara', 'choice', 'choices', 'choose', 'choosing', 'chopra', 'chosen', 'choudhary', 'choudharybcs', 'chutti', 'circular', 'circulate', 'circulated', 'circumstances', 'citizen', 'citizens', 'city', 'civil', 'claiming', 'clarification', 'clarity', 'clash', 'clashing', 'class', 'classes', 'classgrp', 'classroom', 'classs', 'cleaning', 'cleanliness', 'clear', 'cleared', 'clearing', 'clges', 'click', 'clicking', 'clinical', 'close', 'closed', 'closely', 'closes', 'closing', 'clothes', 'cloud', 'club', 'clubs', 'clue', 'clusters', 'cmon', 'cocurricular', 'code', 'codekaze', 'codeknack', 'coding', 'cofounder', 'collaborate', 'collaboration', 'colleagues', 'collect', 'collected', 'college', 'colleges', 'color', 'colour', 'column', 'columns', 'combined', 'comfort', 'coming', 'commence', 'commerce', 'commercial', 'commission', 'commitment', 'common', 'communicate', 'communicating', 'communication', 'communicator', 'communities', 'companies', 'company', 'companydata', 'compelling', 'compete', 'competing', 'competition', 'competitions', 'competitive', 'competitor', 'compitations', 'complete', 'completed', 'completely', 'completing', 'completion', 'complex', 'compliance', 'complications', 'complusary', 'compulsary', 'compulsory', 'computer', 'computing', 'comviva', 'conact', 'concept', 'concepts', 'concern', 'concerned', 'concise', 'conclave', 'condition', 'conditions', 'conduct', 'conducted', 'conducting', 'conference', 'conferences', 'confidence', 'confidentiality', 'confirm', 'confirmation', 'confiscated', 'congrats', 'congratulations', 'connect', 'consent', 'conservation', 'consider', 'considered', 'considering', 'constructive', 'consultancy', 'consulting', 'contact', 'contacts', 'contact\\xa0me\\xa0personally', 'containing', 'contentfont', 'contents', 'context', 'continent', 'continental', 'continents', 'contingent', 'continue', 'continuing', 'continuously', 'contracts', 'contribute', 'contributing', 'convenience', 'conversations', 'conversion', 'convey', 'cookieless', 'cooling', 'cooperation', 'coordinate', 'coordinator', 'coordinators', 'coping', 'copy', 'core', 'cornerstone', 'corporate', 'correctly', 'cost', 'counsel', 'counseling', 'counselling', 'count', 'counterfeit', 'country', 'countrys', 'counts', 'coupon', 'coupons', 'course', 'courser', 'coursera', 'courseraadmincumailin', 'courseraunit', 'courses', 'coursework', 'cover', 'covering', 'cpum', 'crack', 'cracking', 'craft', 'crafting', 'crc', 'crccorporate', 'create', 'created', 'creating', 'creation', 'creations', 'creative', 'creativity', 'credentials', 'credit', 'crewsphereebgmailcom', 'crimson', 'criteria', 'critical', 'crore', 'cross', 'crowdfunding', 'crowned', 'crs', 'crucial', 'cryptocurrencies', 'cse', 'csefinal', 'cseit', 'cseit\\xa0', 'cseth', 'cseth\\xa0year', 'cseto', 'csi', 'csr', 'cubastion', 'cuchd', 'cucrc', 'cue', 'cuims', 'cultural', 'culture', 'cultures', 'cum', 'curepresent', 'curious', 'currencies', 'current', 'currently', 'curriculum', 'cusb', 'customers', 'customized', 'cutoff', 'cuvcf', 'cyber', 'cybersecurity', 'cycles', 'daa', 'daalna', 'daljeet', 'dance', 'darecompete', 'dashniet', 'data', 'databases', 'date', 'dated', 'dates', 'datesession', 'datesheet', 'datevenue', 'day', 'days', 'dcpd', 'dcpdcewcumailin', 'deadline', 'deadlines', 'dealt', 'dear', 'debarred', 'debarring', 'debate', 'debatecompetition', 'debateoriented', 'debaters', 'debug', 'debugging', 'dec', 'december', 'decent', 'decentralized', 'decide', 'decided', 'decisions', 'deck', 'decodes', 'decorate', 'decorum', 'dedication', 'dedo', 'deducted', 'deduction', 'deekho', 'deep', 'deepak', 'deepanshu', 'deeper', 'deeply', 'defaulter', 'defaulters', 'defense', 'defferent', 'degree', 'dehradun', 'dekhaye', 'delay', 'delete', 'deleted', 'deleting', 'deletion', 'delhi', 'deliver', 'deliverables', 'delivery', 'delve', 'delving', 'demand', 'demanded', 'demonstrates', 'dene', 'department', 'departmental', 'departments', 'depend', 'depending', 'depends', 'deploy', 'deploying', 'deployment', 'deposit', 'depth', 'descepency', 'descrepecy', 'describe', 'description', 'design', 'designation', 'designed', 'designing', 'designs', 'desired', 'desk', 'despite', 'destination', 'detail', 'detailed', 'details', 'detained', 'detainee', 'detainees', 'determination', 'determine', 'develop', 'developed', 'developer', 'developing', 'development', 'deveop', 'device', 'devlelopment', 'devops', 'dfx', 'dhawan', 'dhawanbcs', 'dhillon', 'dhruv', 'diff', 'different', 'difficult', 'digit', 'digital', 'digitaltransformation', 'dilwa', 'directly', 'director', 'directors', 'disabled', 'disaster', 'disciplinary', 'discipline', 'disciplined', 'discover', 'discrepancies', 'discrepancy', 'discuss', 'discussed', 'discussion', 'discussions', 'disperency', 'displayed', 'disqualification', 'disqualified', 'disseminate', 'distant', 'distinguished', 'distributed', 'distribution', 'disturb', 'dive', 'diversity', 'divneet', 'divya', 'divyanshu', 'dixat', 'dixit', 'dls', 'document', 'documents', 'dollars', 'domain', 'done👍', 'done💯', 'donot', 'don’t', 'doubled', 'doubt', 'doubts', 'doubtsqueries', 'download', 'dreams', 'dress', 'drive', 'drives', 'drivesi', 'driving', 'drop', 'dropout', 'dropped', 'dropping', 'drug', 'dsw', 'dua', 'dual', 'dubara', 'due', 'dues', 'duration', 'duty', 'dxc', 'ear', 'earlier', 'earliest', 'early', 'earnestly', 'earpods', 'easily', 'ecertificate', 'ecolab', 'ecommerce', 'edge', 'edit', 'edited', 'edition', 'editors', 'eds', 'education', 'educational', 'eduzphere', 'eeca', 'eecaelo', 'effect', 'effective', 'effectively', 'efficiency', 'efficient', 'effort”', 'egovernance', 'ekjot', 'elective', 'electivecomputer', 'electives', 'electrical', 'electronic', 'elegantly', 'elements', 'elevate', 'eligibility', 'eligible', 'eliminated', 'eliminatory', 'elite', 'elo', 'elocutionspeech', 'email', 'emails', 'emailwhatsapp', 'embark', 'emergency', 'emerging', 'eml', 'employment', 'empty', 'enable', 'enabled', 'enabling', 'encounter', 'encourage', 'end', 'endeavor', 'ending', 'endless', 'endto', 'energy', 'engage', 'engaging', 'engg', 'engineer', 'engineering', 'engineers', 'english', 'enhance', 'enhancement', 'enhancing', 'enjoy', 'enlighten', 'enlightened', 'enlightening', 'enriching', 'enroll', 'enrolled', 'enrollment', 'ensure', 'ensures', 'enter', 'entering', 'enterprises', 'enterprisetrmbrassringcom', 'enters', 'entertain', 'entertained', 'entire', 'entrance', 'entrepreneur', 'entrepreneurial', 'entrepreneurs', 'entrepreneurship', 'entries', 'entry', 'enviornment', 'environment', 'environmental', 'eod', 'equal', 'equip', 'equipped', 'error', 'ervishav', 'esliye', 'essay', 'essential', 'esska', 'established', 'esteemed', 'estimated', 'esuraksha', 'eswdm', 'etherum', 'ethnic', 'evaluate', 'evaluated', 'evaluates', 'evaluating', 'evaluation', 'evaluations', 'evening', 'event', 'events', 'eventscse', 'evolved', 'evry', 'exact', 'exam', 'examformnptelacin', 'examination', 'examinations', 'examinations”', 'examination\\xa0', 'examiner', 'exams', 'exam”', 'exceeding', 'excel', 'excellence', 'exceptional', 'excited', 'exciting', 'exclusive', 'excuse', 'excuses', 'executive', 'exemplary', 'exemption', 'exhilarating', 'exists', 'expected', 'expenses', 'experience', 'experiences', 'expert', 'expertise', 'experts', 'expire', 'expired', 'expiry', 'explain', 'explaining', 'exploration', 'explore', 'exposing', 'exposure', 'extempore', 'extend', 'extended', 'extends', 'extension', 'extensions', 'external', 'face', 'faced', 'facilitate', 'facilitates', 'facilitating', 'facility', 'facing', 'factor', 'factors', 'faculty', 'fail', 'failed', 'failing', 'fails', 'fake', 'family', 'fantastic', 'farits', 'farsightedness', 'farwhat', 'fast', 'fastest', 'fastpaced', 'fault', 'fcfs', 'featured', 'fee', 'feedback', 'feel', 'fees', 'feilds', 'fellowship', 'female', 'fest', 'field', 'fields', 'figuring', 'file', 'files', 'fill', 'filled', 'filling', 'fillmandatory', 'filter', 'final', 'finale', 'finalists', 'finals', 'financial', 'find', 'finding', 'finds', 'fine', 'finish', 'firms', 'firrst', 'firse', 'firstyear', 'flexible', 'floor', 'fluent', 'focus', 'focused', 'folder', 'folder\\xa0at\\xa0ur\\xa0pc', 'follow', 'force', 'forced', 'foreign', 'foremost', 'forget', 'form', 'formal', 'formals', 'format', 'format\\x02', 'formerly', 'formet', 'formhttpsformsglesnmbwjykjrseuy', 'forms', 'forum', 'forward', 'forwarded', 'foster', 'fostering', 'found', 'foundational', 'founders', 'framework', 'frameworks', 'free', 'freeze', 'fresh', 'freshers', 'fri', 'friday', 'friends', 'fromcoursera', 'front', 'frontend', 'fuel', 'full', 'fulltime', 'fun', 'functional', 'functionalities', 'functionality', 'fundamentals', 'funding', 'future', 'futuristic', 'fwd', 'fyada', 'gadar', 'gaddar', 'gagandeep', 'gain', 'game', 'gamechanger', 'games', 'gandhi', 'gap', 'gaps', 'garg', 'gargstudent', 'garima', 'gate', 'gates', 'gaurang', 'gaurav', 'gautam', 'geetha', 'gen', 'gender', 'general', 'generate', 'generated', 'generate\\xa0their\\xa0teams', 'generating', 'generation', 'genesis', 'gentle', 'genuine', 'gift', 'gifts', 'girls', 'github', 'give', 'global', 'globe', 'glt', 'gmail', 'gmat', 'goal', 'goals', 'goi', 'golden', 'goodies', 'google', 'google\\xa0form\\xa0link\\xa0', 'governance', 'government', 'govind', 'govt', 'goyal', 'gps', 'gpucmoocs', 'gpucmoocsnptel', 'grab', 'grad', 'grade', 'gradei', 'gradesfor', 'grading', 'graduate', 'graduates', 'graduation', 'graduationpostgraduation', 'grand', 'grandfinale', 'granted', 'gre', 'great', 'greater', 'greatly', 'green', 'grewaltuesdaythursday', 'gre”', 'ground', 'groundbreaking', 'group', 'groupdiscussion', 'groups', 'grover', 'grow', 'growing', 'growth', 'guest', 'guests', 'guidance', 'guide', 'guidelines', 'gunjit', 'gupta', 'gurpreet', 'guys', 'gya', 'gye', 'haa', 'haar', 'hack', 'hackathon', 'hackathons', 'hackout', 'half', 'hall', 'hallchandigarh', 'hame', 'hampers', 'hand', 'handled', 'hands', 'handson', 'handwritten', 'happened', 'happy', 'hard', 'hardcopy', 'hardware', 'hardwarecomputational', 'harjeet', 'harmanpreet', 'harmony', 'harsh', 'hassle', 'hata', 'hatesh', 'havet', 'hcl', 'hcltfp', 'head', 'headouts', 'headquarters', 'heads', 'health', 'healthcare', 'heavy', 'heights', 'hein', 'held', 'helpful', 'helping', 'helpline', 'helps', 'henceforth', 'heres', 'herewith', 'heshe', 'hey', 'high', 'higher', 'highest', 'highlight', 'highlighted', 'highlights', 'highly', 'highquality', 'himanshu', 'himanshutuesdaythursday', 'himher', 'himmat', 'hiring', 'hisher', 'history', 'hitbullseye', 'hmari', 'hod', 'hoday', 'hodprincipals', 'hods', 'hogya', 'hold', 'holding', 'home', 'honble', 'honed', 'honorable', 'hope', 'hoping', 'hore', 'host', 'hosted', 'hostel', 'hostels', 'hotel', 'hotmail', 'hour', 'hours', 'house', 'ho😂', 'hpblack', 'hrs', 'httpnextsteptcscomcampus', 'httpsbitlyiyaward', 'httpsbitlyrtyaward', 'httpsbitlyunstopaccenture', 'httpsbitlyyeyaward', 'httpschatwhatsappcombtnbjvqtypgyshz', 'httpschatwhatsappcomcegopnamclfgzodjna', 'httpschatwhatsappcomddyqtqdmcwvhyabujdlei', 'httpschatwhatsappcomgzyngdkdafkmzxynta', 'httpschatwhatsappcomjxenxhjbvghtulrljsah', 'httpschatwhatsappcomkljpwttashnheekvrq', 'httpsconferencesieeeorgconferenceseventsconferencessearchqindiavirtualflagbvirtualconfreadonlyn', 'httpsdocsgooglecomformsdefaipqlscbeixupufqzluihnxcwfrchiafwbfkzwpfhduwoueaviewformuspsflink', 'httpsdocsgooglecomformsdefaipqlscbzdxxpergvukbdqqkctwrtrgkqpynaysxdihrhaviewformuspsflink', 'httpsdocsgooglecomformsdefaipqlscfpnadgpyyjkccwfnahlpswmuqydqgdmzsziqps', 'httpsdocsgooglecomformsdefaipqlscfpnadgpyyjkccwfnahlpswmuqydqgdmzsziqpsaviewform', 'httpsdocsgooglecomformsdefaipqlscxlvjhztqacglznldwjvtoicskbphlfpfakkwviewform', 'httpsdocsgooglecomformsdefaipqlsdbvcskejkncxcshqsrsywcexgcygzmhqjvwokaebdwviewformuspsflink', 'httpsdocsgooglecomformsdefaipqlsdcqpbpftwjmeraenvssyibndctwknqlvtbsflbzsxgviewformuspsflink', 'httpsdocsgooglecomformsdefaipqlsdwnbaxxvrsmgzdzjrxwimzutcxwgsueinokaviewform', 'httpsdocsgooglecomformsdefaipqlsemmbsotwsajijulkjdjbifulhzmeviixmxmwviewformuspsflink', 'httpsdocsgooglecomformsdnkwoedkarllbielpxxfbfogwtjausrrprnlvedit', 'httpsdocsgooglecomformsdyciufxexkgryhztbkwhhbhvubblubtdlsjdgedit', 'httpsdocsgooglecomformsdyiitlohcoxzfegiunkdfdftrxtffbyziedit', 'httpsdocsgooglecomspreadsheetsddgimmemldyeqlfvibprrjdmhnafswcfberaoedituspsharing', 'httpsdocsgooglecomspreadsheetsddugldtwnulmtunqcagajhtdmidcqeditresourcekeygid', 'httpsdocsgooglecomspreadsheetsdebymjreghbcbhcbyhtxsyccgjgjzqtbopdeacedituspdrivesdk', 'httpsdocsgooglecomspreadsheetsdejeojtakvagapdnunxyyizmahrfeoymawoedituspsharing', 'httpsdocsgooglecomspreadsheetsdepacxvqcbgumaoqfecfsqcjkjlxgjsxjgncjwlhynyajkhxvnkqyffhdsslquhhzhtnmpubhtmlurpgmaillink', 'httpsdocsgooglecomspreadsheetsdhqsihseikhdwhzywhgjpvythmktiekskqjeazfledituspsharing', 'httpsdocsgooglecomspreadsheetsdjxiedhbwfixkiotxjxhwwyweyyywjjhgceditgid', 'httpsdocsgooglecomspreadsheetsdlkelmokkacysychkkbonysffqcawpotpkuloimkedituspsharing', 'httpsdocsgooglecomspreadsheetsdogwrlmjynxkxkjakctuagokieiaqvpntwaedituspsharing', 'httpsdocsgooglecomspreadsheetsdonnwafhzokxccxawhqyscacodrtdcjmzeyzmedituspsharing', 'httpsdocsgooglecomspreadsheetsduttmdzbeaaytcxlvrxyqhgfoetifclqpffxccedituspsharing', 'httpsdocsgooglecomspreadsheetsdvpbpdeyoiwufndgdjjdtqwmwkebyreuobiedituspsharing', 'httpsdrivegooglecomdrivefolderspbirjxiqugjfvpwqouekeynsdw', 'httpsdrivegooglecomdrivefolderspbirjxiqugjfvpwqouekeynsdwuspsharing', 'httpsformsgleajelwcmpywada', 'httpsformsgleamyyqqrwwgewgb', 'httpsformsgleaojjfaehqp', 'httpsformsgleasnyrtdblwiktf', 'httpsformsgleawknzfrqeqhmqjkg', 'httpsformsglebddgtvpquduv', 'httpsformsglebgdkvbrilgnrwbv', 'httpsformsglebvjyvsjpkuopv', 'httpsformsgleckihjstulcjac', 'httpsformsglednigfzmrtgb', 'httpsformsgledqnqcqdagvovmuzr', 'httpsformsgledxhiqgdcxjaamixa', 'httpsformsgledyntllypkojr', 'httpsformsgleeacthpogrduex', 'httpsformsgleeiskbrfcprdedqma', 'httpsformsglefinyfpgkdgnf', 'httpsformsglegccfvyteqgs', 'httpsformsglegghbkxijdczyc', 'httpsformsglegrarmtsttoyhqa', 'httpsformsglegtpjjnwceqhcbpo', 'httpsformsglehdkewhajthfqqtf', 'httpsformsglehjuqndnbfamjg', 'httpsformsglehpcrtcmzgjjms', 'httpsformsglehsdiobbpyyjezgm', 'httpsformsglejbdpepjyyhaqy', 'httpsformsglejkoecdpyugehoas', 'httpsformsglejvqpcqpkwqsbsxb', 'httpsformsglekfhqtgrcpcwb', 'httpsformsglekpbcdanmkfwns', 'httpsformsglekqvvsqkjkarpwcs', 'httpsformsglekvjufgvjdndyz', 'httpsformsglelszismasdksvcd', 'httpsformsglembadumchcwggka', 'httpsformsglenxvybqebpqfik', 'httpsformsgleoaggdahcfipeui', 'httpsformsgleoshusyhyjyosj', 'httpsformsglepbcqfmegfwgqa', 'httpsformsglepccbaytvrmxkq', 'httpsformsglepjdxbjmppoovy', 'httpsformsgleplnujbjjvcxzr', 'httpsformsgleppxjppxhypwtmc', 'httpsformsglepqdsfucdyttcfzr', 'httpsformsgleqbbqyjnkece', 'httpsformsgleqrqvznfvezvy', 'httpsformsgleqsuajfymbuzvp', 'httpsformsgleqszxmgxvrid', 'httpsformsgleqyucthewdfjz', 'httpsformsglerrrpmzvgcsfenctr', 'httpsformsglesdfeqyzzlsgt', 'httpsformsglesecdczopechfvwaa', 'httpsformsglesgfbgmpnutkmth', 'httpsformsglesrjkftgkqvygr', 'httpsformsglestfaohmemstc', 'httpsformsgleswufibkucplv', 'httpsformsglesynbwipnigogrc', 'httpsformsglesyygadtdbvvvs', 'httpsformsgletmubgbsdckcyv', 'httpsformsgletsorhwpcsvdbo', 'httpsformsgletvfwrxwuluqiceh', 'httpsformsgletzpgujgtwrubkk', 'httpsformsgleugqbmdmhkvgzeuk', 'httpsformsgleuqebjegegrg', 'httpsformsglevfxuzuopnjyumot', 'httpsformsglevyofhgbgkjcsvf', 'httpsformsglewwkqsytkfgycya', 'httpsformsglexaubrbxqjqqyxyd', 'httpsformsglexwrehzwystkhjmfy', 'httpsformsglexycngeerqhcwedb', 'httpsformsgleybrpqwecktiwha', 'httpsformsgleybxnhrxzunpxr', 'httpsformsgleyfpjqyyflegxeb', 'httpsformsgleymahthdwthuf', 'httpsformsgleynsodmxzfyykkhd', 'httpsformsgleypncabbhqkkku', 'httpsformsglezdcgugcoohxta', 'httpsformsglezgpfbjlbezzmda', 'httpsformsglezpbkcbtwcsjjsa', 'httpsformsglezsrdkvpmgqruzbr', 'httpsformsofficecomrjpjwzssjr', 'httpsgoldmansachstalnetvxlangengbmobilebrandusercandidatesopmploppnewanalystnewassociatefulltimerolesengb', 'httpshackoutdevfolioco', 'httpsibmbizbdyh', 'httpsibmbizbdyhe', 'httpsisedconforg', 'httpsisroquizmygovin', 'httpsiventureorgteptricityedition', 'httpsjobsnetflixcomjobs', 'httpslttstechgiumcomjsregisterprocess', 'httpslumaogqwsht', 'httpsmicrosoftrecsolucomappcollecteventpisherwzywhzhqka', 'httpsontcscomtyxv', 'httpsriktamtigersheetcomformformid', 'httpssbmurbanorgfeedback', 'httpssparklekpitcom', 'httpstechfestorgcompetitionstaskwhiz', 'httpstelegrammelghznwwleotg', 'httpstinyurlcomcbhzm', 'httpstinyurlcomchmze', 'httpstinyurlcomdufyps', 'httpstinyurlcomycyy', 'httpstinyurlcomzrvjpx', 'httpsunstopcomcompetitionslorealsustainabilitychallengeloreal', 'httpsunstopcomcompetitionsregisterutmsourcelorealutmmediumplacementcellsrefpaniux', 'httpsunstopcomhackathonsesurakshachandigarhuniversitycupunjab', 'httpswebaltaircomdatasciencedayutmcampaigncorpgapaltairdatasciencedayutmmediumemailhsmihsencpanqtzohfmupfjjgdauvqdmhtssoaacdiadmlhlbeqmeuedltijbyfbyjbosafrumvvquxiqiautmcontentutmsourcehsemail', 'httpswwwcourseraorgprogramschandigarhuniversityfacultylearningprogrampipbrowsecollectionidproductidglccrnoeewjrasefawproducttypecoursequerybusinessintelligenceconceptsshowminimodaltruesourcesearch', 'httpswwwcourseraorgprogramschandigarhuniversityfacultylearningprogrampipbrowsecollectionidproductidglccrnoeewjrasefawproducttypecoursequerybusinessintelligencetoolscandapplicationsshowminimodaltruesourcesearch', 'httpswwwcourseraorgprogramschandigarhuniversityfacultylearningprogrampipbrowsecollectionidproductidkocvnqwkeeilxwqlapqmgproducttypecoursequerybusinessintelligenceanddataanalyticsagenerateinsightsshowminimodaltruesourcesearch', 'httpswwwcourseraorgprogramschandigarhuniversityfacultylearningprogrampiplearnbusinessintelligencetools', 'httpswwweenetworkscomblogwhatarescaleoutvsscaleuptechniquesforcloudperformanceandproductivity', 'httpswwwfirstnaukricomcareerscustomisedlandingpagerntbciindexhtml', 'httpswwwhcltechcomcareerscampushiring', 'httpswwwictcsin', 'httpswwwigiglobalcompublishcallforpaperssearchdtbookchapterspg', 'httpswwwjiitacinjiiticsc', 'httpswwwlinkedincompostsugcindiareadugcletterregardingparticipationactivityoplutmsourceshareutmmediummemberandroid', 'httpswwwmyamcatcomjobregistrationformiddxcregistration', 'httpswwwmygovinmygovsurveyswachhsurvekshan', 'httpswwwmygovintaskjoinchandrayaanmahaquizmygovwinuptorslakh', 'httpswwwsccomenprivacypolicy', 'httpswwwtcscomcareersindiatcsbpsfresherhiring', 'httpsyoutubecomshortsvingeypusijlcazgtczloypjkj', 'httpsyoutubejilzjxw', 'humari', 'humble', 'hunt', 'hurry', 'husain', 'h😂😂', 'ibm', 'ibmrecruitmentnoreply', 'ibs', 'icon', 'icp', 'ictcs', 'idcard', 'idea', 'ideas', 'ideation', 'identify', 'identity', 'ids', 'ieee', 'ieeecu', 'ielts', 'ignite', 'ignore', 'ignored', 'iicloud', 'iit', 'ill', 'illuminating', 'imagepng', 'immediate', 'immediately', 'immense', 'immerse', 'immersive', 'imobilothon', 'impact', 'implementation', 'implemented', 'implore', 'importance', 'important', 'importantly', 'importantmandatory', 'impromptu', 'improve', 'improvement', 'imprtant', 'inakshituesdaythursday', 'inbox', 'incampus', 'incentives', 'include', 'includes', 'including', 'incognito', 'income', 'incomplete', 'inconvenience', 'incorrect', 'increase', 'increasing', 'incredible', 'index', 'indexed', 'indexing', 'india', 'indian', 'indias', 'indicators', 'individual', 'individually', 'industrial', 'industries', 'industry', 'industrystandard', 'info', 'infogain', 'inform', 'informatics', 'information', 'informative', 'informed', 'informing', 'infosys', 'initial', 'initiated', 'initiative', 'inkspot', 'innovation', 'innovations', 'innovative', 'innovator', 'innovators', 'input', 'inputs', 'inquiries', 'inr', 'insights', 'inspection', 'inspire', 'installed', 'instantly', 'instead', 'institute', 'institutes', 'institution', 'institutional', 'instruct', 'instructed', 'instruction', 'instructions', 'integral', 'integrated', 'integration', 'intellectual', 'intelligence', 'intelligent', 'intend', 'intended', 'intent', 'intention', 'inter', 'interact', 'interaction', 'interactive', 'interchange', 'interdepartment', 'interest', 'interested', 'interesting', 'interface', 'intern', 'internal', 'international', 'internet', 'internship', 'internshipfte', 'internshipjob', 'internships', 'interoperability', 'interpersonal', 'interstatecountry', 'interview', 'interviewprep', 'interviews', 'intimate', 'intoduction', 'intra', 'intradepartment', 'intradepartmental', 'intrested', 'intricacies', 'introdction', 'introduced', 'introduction', 'intuitive', 'invaluable', 'investors', 'invigilator', 'invit', 'invitation', 'invite', 'invited', 'invites', 'involved', 'involvement', 'invorrect', 'ion', 'iot', 'irrespective', 'isro', 'issue', 'issued', 'issues', 'issuesinternet', 'ist', 'itll', 'iventureisb', 'i’m', 'jaaye', 'jada', 'jaega', 'jain', 'jaiswal', 'jaiswaltuesdaythursday', 'jan', 'jangir', 'janmay', 'jao', 'jasneet', 'jaspreet', 'jati', 'java', 'javascript', 'jay', 'jayegi', 'job', 'join', 'joining', 'josh', 'joshua', 'journals', 'journey', 'judges', 'judging', 'juldec', 'juloct', 'july', 'june', 'junk', 'jury', 'jvm', 'jyoti', 'jyotituesdaythursday', 'kaam', 'kamal', 'kamboj', 'kambojbcs', 'kamratuesdaythursday', 'kapoor', 'kapoorbcs', 'karan', 'kardo', 'kashyap', 'kaur', 'kaure', 'kaurtuesdaythursday', 'keeping', 'key', 'keynote', 'kharagpur', 'khare', 'kharetuesdaythursday', 'kholke', 'khushwant', 'khuswant', 'kickstart', 'kind', 'kindly', 'knowhow', 'knowledge', 'komaltuesdaythursday', 'kotlin', 'kour', 'kpit', 'kre', 'krenge', 'krishna', 'krisna', 'krle', 'kro', 'krva', 'kshitiz', 'kshitizbcs', 'kukreja', 'kulvinder', 'kumar', 'kumarbcs', 'kumartuesdaythursday', 'kunal', 'lab', 'labs', 'labslecture', 'lagaya', 'lagenge', 'lakh', 'lal', 'land', 'landran', 'landscape', 'language', 'languagenational', 'languages', 'laptom', 'laptop', 'laptops', 'larhgotratuesdaythursday', 'lastminute', 'late', 'latest', 'launched', 'launchpad', 'lead', 'leader', 'leaders', 'learn', 'learner', 'learners', 'learning', 'leave', 'leavei', 'leaves', 'lecture', 'lectures', 'led', 'leet', 'left', 'legacy', 'legal', 'lena', 'lets', 'letter', 'level', 'levelthe', 'leverage', 'licence', 'license', 'licenses', 'life', 'light', 'likeminded', 'likh', 'limit', 'limited', 'line', 'lining', 'link', 'linkhttpsformsglertsrqtlqzyosauh', 'links', 'list', 'listed', 'listen', 'listening', 'lists', 'literary', 'live', 'living', 'lms', 'load', 'loan', 'local', 'location', 'locations', 'lock', 'locked', 'logical', 'login', 'logo', 'loi', 'loose', 'loreal', 'loréal', 'lose', 'loses', 'loss', 'lost', 'lostfound', 'lot', 'love', 'loveneet', 'lovepreet', 'low', 'loéal', 'lpa', 'ltts', 'luck', 'lucky', 'luminary', 'lunar', 'lunch', 'maam', 'maams', 'machine', 'made', 'maha', 'mahatma', 'mahindra', 'mail', 'mailbit', 'mainnet', 'maintain', 'major', 'make', 'making', 'malicious', 'mam', 'management', 'manager', 'manch”', 'mandatory', 'manner', 'manual', 'manually', 'maps', 'mark', 'marked', 'markes', 'market', 'marks', 'marksmode', 'mark\\xa0me\\xa0as\\xa0present', 'mass', 'master', 'masters', 'material', 'materials', 'mates', 'math', 'matter', 'matters', 'maurya', 'max', 'maximize', 'maximum', 'mba', 'mbps', 'mca', 'mcq', 'mcqs', 'meaningful', 'means', 'media', 'medical', 'medium', 'meet', 'meeting', 'meetings', 'meh', 'mehta', 'mehtatuesdaythursday', 'mei', 'meine', 'member', 'members', 'mementoes', 'memorable', 'mention', 'mentioned', 'mentor', 'mentoring', 'mentors', 'mentorship', 'mentorships', 'message', 'messages', 'messaging', 'met', 'methodology', 'methwani', 'mgsipa', 'mic', 'micro', 'microosft', 'microsoft', 'microsot', 'mila', 'mile', 'milega', 'milegi', 'milton', 'min', 'minds', 'mindset', 'minimized', 'minimum', 'mining', 'miningcst', 'minister', 'minor', 'mins', 'minute', 'minutes', 'mishratuesdaythursday', 'misplaced', 'miss', 'missed', 'misses', 'missing', 'mission', 'mithlesh', 'mitigation', 'mobile', 'mock', 'mode', 'moderate', 'modern', 'modi', 'mohan', 'mohit', 'monday', 'money', 'monitor', 'monitored', 'monitoring', 'month', 'monthkindly', 'months', 'moocs', 'moons', 'moral', 'more😳', 'morning', 'motivate', 'motivated', 'motivation', 'motive', 'motoko', 'motokoiinteracting', 'move', 'movement', 'moving', 'mridul', 'msc', 'msg', 'mst', 'msti', 'mstii', 'msts', 'multiple', 'music', 'musigma', 'mydatesheet', 'mygov', 'nameecoderoom', 'nameinternational', 'namekunal', 'nameprof', 'nameroom', 'names', 'nand', 'narendra', 'narula', 'nation', 'national', 'nationals', 'nations', 'naukri', 'naukricom', 'naveen', 'navigationopen', 'navpreet', 'nayi', 'ndma', 'needed', 'needful', 'neeraj', 'neetu', 'neha', 'nepal', 'neplcoursera', 'netflix', 'network', 'networking', 'news', 'nice', 'nidm', 'night', 'nikhil', 'nil', 'nilesh', 'ninjas', 'nissan', 'noble', 'noblocktimingclass', 'noc', 'noclass', 'nocur', 'noday', 'nofaculty', 'noida', 'nominated', 'nonbinary', 'nonengg', 'nonperforming', 'noon', 'normal', 'nosrno', 'notable', 'note', 'notebooks', 'noted', 'notedear', 'notefor', 'notes', 'notice', 'notification', 'notifications', 'notified', 'notify', 'nov', 'november', 'novemberdecember', 'now”', 'nptel', 'ntpp', 'null', 'num', 'number', 'numberuafter', 'numerical', 'numericals', 'nurturing', 'objective', 'objectives', 'observe', 'obtain', 'obtaining', 'oci', 'oct', 'october', 'odd', 'offcampus', 'offer', 'offered', 'offering', 'offers', 'office', 'officer', 'official', 'officially', 'officials', 'offline', 'okayy', 'okk', 'oky', 'olease', 'omitted', 'onboard', 'onboarding', 'onces', 'onetime', 'ongoing', 'onground', 'online', 'onward', 'onwards', 'open', 'opened', 'opening', 'operations', 'opportunities', 'opportunity', 'opposite', 'opt', 'opted', 'optimal', 'optimization', 'optimize', 'opting', 'option', 'optional', 'options', 'orally', 'order', 'oreta', 'organisation', 'organisational', 'organising', 'organization', 'organize', 'organized', 'organizer', 'organizing', 'orientation', 'original', 'ourselves’', 'outcome', 'outlook', 'output', 'outputs', 'overview', 'overviews', 'ownership', 'paas', 'package', 'packets', 'padega', 'padhate', 'page', 'pagein', 'pages', 'paid', 'paisa', 'pal', 'palm', 'pan', 'pandey', 'panel', 'panelist', 'panelists', 'paper', 'paperand', 'papers', 'parentguardian', 'pareshan', 'parking', 'parma', 'parshad', 'parshadbcs', 'part', 'parth', 'participant', 'participants', 'participate', 'participated', 'participating', 'participation', 'particular', 'partner', 'partners', 'partnership', 'party', 'parul', 'parveen', 'pass', 'passing', 'passion', 'passport', 'password', 'pass…', 'past', 'patent', 'path', 'patient', 'patiently', 'pay', 'payal', 'payments', 'pbmohe', 'pdega', 'pdf', 'pee', 'peers', 'pendency', 'pending', 'penetration', 'perceive', 'percentage', 'perfect', 'performance', 'performant', 'performers', 'performing', 'period', 'permanently', 'permission', 'person', 'personal', 'personally', 'pfa', 'pharmaceutical', 'phase', 'phased', 'phases', 'phd', 'phone', 'phones', 'photograph', 'physical', 'physically', 'pio', 'pioneers', 'pitch', 'pitching', 'pivotal', 'place', 'placement', 'placementready', 'placements', 'place📍', 'plagiarised', 'plagiarism', 'plan', 'planned', 'planning', 'platform', 'platforms', 'play', 'played', 'pleased', 'pleasing', 'pls', 'plz', 'pmc', 'pmcsepthursday', 'pmcseptuesday', 'pmcsepwednesday', 'pmpm', 'pmseminar', 'pmthanks', 'pmtoday', 'pocds', 'pocds”', 'pods', 'poetic', 'poetry', 'point', 'points', 'pole', 'policy', 'poll', 'polled', 'polling', 'pool', 'portal', 'position', 'positively', 'possess', 'possibilities', 'possible', 'post', 'poster', 'postgraduate', 'postgraduation', 'posting', 'postponed', 'potential', 'potentiala', 'power', 'powered', 'powerful', 'ppi', 'ppis', 'ppr', 'ppt', 'ppts', 'prabhneet', 'practical', 'practice', 'practices', 'prajjal', 'pranab', 'prasad', 'pratap', 'pratham', 'predetermined', 'preduty', 'preference', 'preferences', 'prefinal', 'preliminary', 'prementioned', 'premier', 'preparation', 'prepare', 'prepared', 'preplacement', 'prerequisites', 'prerna', 'presence', 'present', 'presentation', 'presentations', 'presentationstart', 'presented', 'presenting', 'presents', 'prestigious', 'preventing', 'prevention', 'preview', 'previous', 'prices', 'pricing', 'primary', 'prime', 'principals', 'principles', 'print', 'printed', 'prior', 'prioritizing', 'priority', 'privacy', 'private', 'privilege', 'priyanshu', 'prize', 'prizes', 'proactively', 'probationary', 'problem', 'problemhardware', 'problemmarked', 'problems', 'problemsolving', 'procedure', 'proceed', 'proceeding', 'process', 'processed', 'processes', 'process”', 'producing', 'product', 'products', 'prof', 'professional', 'professionals', 'proficient', 'profile', 'profileuser', 'program', 'programming', 'programs', 'program”', 'progress', 'project', 'projectcsecumailin', 'projectin', 'projects', 'promised', 'promises', 'promote', 'promoting', 'promotion', 'proof', 'proofs', 'proper', 'property', 'proportionate', 'proposal', 'propose', 'proposed', 'propotinate', 'propotionate', 'prority', 'prospects', 'protection', 'proud', 'proudly', 'provc', 'provice', 'provide', 'provided', 'providedcirculated', 'provider’', 'providing', 'prowess', 'psu’s', 'public', 'publication', 'publish', 'publisher', 'puch', 'punch', 'puneet', 'punjab', 'punjabi', 'purely', 'purnima', 'purpose', 'purposes', 'pursuing', 'pursuits', 'purview', 'pushpinder', 'put', 'pvcaa', 'pvt', 'pyare', 'pymetrics', 'python', 'qno', 'qre', 'qualification', 'qualify', 'qualifying', 'quality', 'quantitative', 'queries', 'queriesdoubts', 'queriesplease', 'query', 'question', 'questions', 'quick', 'quiz', 'quizsurprise', 'quizzes', 'quizzesst', 'radhika', 'rahul', 'raise', 'raised', 'raj', 'rajnish', 'rajwinder', 'rakhte', 'rakshabandhan', 'rana', 'ranabcs', 'random', 'randomly', 'range', 'rangers', 'ranituesdaythursday', 'ranjan', 'ranjanbcs', 'rank', 'rategain', 'rategains', 'rates', 'rathartuesdaythursday', 'ratings', 'raw', 'reach', 'reached', 'reaching', 'reachsupport', 'react', 'reaction', 'read', 'readiness', 'ready', 'real', 'reality', 'realized', 'realme', 'realworld', 'reap', 'reappear', 'reason', 'reasonable', 'reasons', 'recall', 'receive', 'received', 'receiving', 'recent', 'recieved', 'recognize', 'recognized', 'recommend', 'recommended', 'reconsider', 'record', 'records', 'recover', 'recruiter', 'recruitment', 'rectification', 'rectify', 'redeeming', 'rediff', 'reduce', 'reduction', 'reengage', 'ref', 'refer', 'reference', 'references', 'refine', 'reflect', 'reflected', 'reflection', 'reformed', 'refreshments', 'refund', 'regional', 'regions', 'register', 'registeration', 'registered', 'registering', 'registerreport', 'register\\xa0here\\xa0', 'registrar', 'registration', 'registrationhttpsformsglevjuatzdoynpyuc', 'registrations', 'regn', 'regular', 'regulatory', 'reimburse', 'reject', 'rejection', 'related', 'relative', 'released', 'releasing', 'relevant', 'religions', 'remain', 'remaining', 'remains', 'remarkable', 'remarks', 'remember', 'remind', 'reminded', 'reminder', 'reminders', 'reminderswarnings', 'removing', 'renault', 'reopen', 'repair', 'repeated', 'reply', 'replying', 'report', 'reporting', 'reports', 'represent', 'representatives', 'reqd', 'request', 'requested', 'requests', 'require', 'required', 'requiredto', 'requirement', 'requirements', 'requisite', 'reschedulereconduct', 'rescheduling', 'research', 'researcher', 'reserve', 'reshape', 'reshaping', 'resiliencebuilding', 'resolve', 'resolved', 'resonate', 'resounding', 'resources', 'respect', 'respected', 'respective', 'respond', 'responded', 'response', 'responses', 'responsibilities', 'responsibility', 'responsible', 'rest', 'result', 'results', 'resume', 'return', 'returned', 'revenue', 'revert', 'review', 'reviewing', 'revised', 'revoked', 'revolution', 'revolutionary', 'rewarding', 'rewards', 'rich', 'richpanel', 'riktam', 'risk', 'ritika', 'rizul', 'rno', 'roam', 'rohan', 'role', 'roles', 'ronit', 'roo', 'room', 'rooms', 'roster', 'round', 'rounds', 'roundstart', 'route', 'routed', 'routine', 'roy', 'roy\\u2069', 'ruby', 'ruhani', 'rule', 'rules', 'rumble', 'run', 'rungta', 'runner', 'runnerup', 'runs', 'rupinder', 'rupiya', 'rust', 'saamne', 'sabre', 'sach', 'sachin', 'sai', 'saini', 'sales', 'samsontuesdaythursday', 'sandeep', 'sangeeta', 'sariya', 'sas', 'saturday', 'saturdays', 'satvik', 'save', 'scala', 'scalability', 'scalable', 'scale', 'scan', 'scanning', 'scenario', 'scene', 'schedcule', 'schedule', 'scheduled', 'scheme', 'scholars', 'scholarship', 'scholarships', 'school', 'science', 'scope', 'scopus', 'scopusindexed', 'score', 'scraping', 'screenshot', 'screenshots', 'scribbling', 'scrivener', 'scrivenerwiley', 'sde', 'seamless', 'search', 'seasonality', 'seasoned', 'seat', 'seating', 'seats', 'sec', 'section', 'sections', 'sectionsgroups', 'sectionwise', 'section\\xa0a', 'section\\xa0carefully', 'sector', 'secure', 'secured', 'securing', 'security', 'seeking', 'select', 'selected', 'selecting', 'selection', 'selfcare', 'selfmotivated', 'sem', 'semester', 'semesters', 'semi', 'semifinalists', 'seminar', 'send', 'sendersreceivers', 'senior', 'sense', 'sep', 'separate', 'separately', 'sept', 'september', 'series', 'serve', 'service', 'services', 'session', 'sessions', 'set', 'setforth', 'sethituesdaythursday', 'setting', 'seva', 'shafalii', 'shakti', 'shallu', 'shanu', 'shape', 'shaping', 'sharda', 'share', 'shared', 'share\\xa0info\\xa0option\\xa0in', 'sharing', 'sharma', 'sharmabcs', 'sharmatuesdaythursday', 'sharma\\u2069', 'sharp', 'sharpen', 'shashi', 'shashvat', 'shedding', 'sheet', 'sheets', 'sheetthey', 'shift', 'shifted', 'shifting', 'shifts', 'shikarwar', 'shopping', 'short', 'shortlist', 'shortlisted', 'shortlistedeligible', 'shortlisting', 'shortly', 'shortlyyou', 'show', 'showcase', 'showcasing', 'showing', 'shows', 'shresth', 'shresthbcs', 'shri', 'shukriyaa', 'shyantuesdaythursday', 'shyd', 'side', 'sigma', 'signatures', 'signed', 'significant', 'sih', 'silver', 'similarly', 'simple', 'simply', 'simran', 'simranjeet', 'simrantuesdaythursday', 'singh', 'singhbcs', 'singhe', 'singhtuesdaythursday', 'single', 'sir', 'sirf', 'sirmaam', 'sir👍', 'sit', 'sitting', 'situations', 'size', 'sizefont', 'skill', 'skilldevelopment', 'skills', 'skip', 'slider', 'slips', 'slot', 'slots', 'small', 'smart', 'smarter', 'smooth', 'snd', 'snosession', 'social', 'society', 'soft', 'softskills', 'software', 'solanki', 'solution', 'solutions', 'solve', 'sonituesdaythursday', 'sood', 'sop', 'sorry', 'sourabh', 'sources', 'south', 'space', 'spacecraft', 'spam', 'spare', 'spared', 'spark', 'sparkle', 'speak', 'speaker', 'speakers', 'speaking', 'speakup', 'special', 'specialized', 'specifically', 'specifications', 'specified', 'specify', 'spectacles', 'speech', 'speechenglish', 'spheron', 'spirit', 'spirits', 'spoc', 'sponsors🥳🥳', 'spontaneity', 'sports', 'spot', 'spread', 'spreadsheet', 'springboard', 'springsummer', 'ssccgl', 'ssccglbank', 'staff', 'stage', 'stages', 'stakeholders', 'stand', 'standard', 'start', 'started', 'starting', 'starts', 'startup', 'state', 'statement', 'statements', 'states', 'statistical', 'statistics', 'status', 'staug’', 'stay', 'steel', 'step', 'stepbystep', 'steps', 'steve', 'stfict', 'stipend', 'stipulated', 'story', 'strategies', 'strategy', 'stream', 'streaming', 'streamlining', 'streams', 'strength', 'stress', 'strict', 'strictly', 'strong', 'strongly', 'structured', 'structurerounds', 'structures', 'student', 'students', 'studentsdetainee', 'studentsfaculty', 'studentsthe', 'studentwise', 'student’s', 'studied', 'studies', 'studio', 'study', 'subeeca', 'subject', 'subjects', 'subjectwise', 'submission', 'submissions', 'submit', 'submitted', 'submitting', 'subramaniam', 'subsidized', 'succeed', 'success', 'successful', 'successfully', 'succinctly', 'sudden', 'sufficient', 'suggestions', 'sukhman', 'sukhmanpreet', 'sukhvir', 'summary', 'summer', 'sunday', 'suni', 'superise', 'superset', 'supervision', 'supervisor', 'supervisors', 'supply', 'support', 'supporting', 'supposed', 'surbhi', 'surely', 'surface', 'surprise', 'survekshan', 'survey', 'sushil', 'suspended', 'suspension', 'sustainability', 'sustainably', 'swach', 'swachhata', 'sweety', 'sweta', 'switch', 'switched', 'syllabus', 'synopsis', 'system', 'systematically', 'systems', 'table', 'tailormade', 'takes', 'taking', 'talent', 'talented', 'talents', 'taletrek', 'talk', 'talks', 'tanmay', 'tao', 'tarandeep', 'tareekh', 'task', 'tasks', 'taskwhiz', 'tata', 'tbb', 'tcs', 'tcs’', 'teacher', 'teachers', 'teachers💐🎂', 'teaching', 'team', 'teams', 'team\\xa0placements', 'team’s', 'tech', 'techfest', 'techgium', 'techgium®', 'techguim', 'technical', 'techniques', 'techniques”', 'technologies', 'technology', 'techthon', 'tekathon', 'tekathontech', 'telegram', 'telling', 'tentative', 'tep', 'term', 'test', 'testing', 'testingcsm', 'testpymetrics', 'testquizpractical', 'tests', 'text', 'texted', 'thakurtuesdaythursday', 'thanku', 'thankyou', 'thaug’', 'theatre', 'thechat', 'themail', 'theory', 'thetop', 'theyll', 'thier', 'things', 'thiscan', 'thoughtprovoking', 'thr', 'threeday', 'thrilled', 'thrive', 'thth', 'thumbnail', 'thumbs', 'thumbsup', 'thumsup', 'thursday', 'thursdayth', 'ticket', 'till', 'time', 'timeframe', 'timeline', 'timelines', 'timely', 'timeroomblocksession', 'times', 'timestamping', 'timetable', 'timing', 'timings', 'title', 'today', 'todays', 'toggle', 'told', 'tommorow', 'tomorrow', 'tomorrows', 'tonight', 'tools', 'top', 'topic', 'topics', 'topperforming', 'toptier', 'toshniwal', 'total', 'totally', 'tough', 'tpp', 'tracked', 'tracker', 'tracking', 'trailing', 'training', 'transform', 'transforming', 'transparent', 'transport', 'travel', 'treasure', 'treated', 'trends', 'trials', 'tricity', 'troubleshooting', 'tuesday', 'tuesdayth', 'tuesdaythursday', 'tumhe', 'turning', 'tuseday', 'tushar', 'tvta', 'twominute', 'tyagi', 'type', 'typescript', 'typesession', 'typically', 'ucaptitudemcq', 'udise', 'uid', 'uidbcs', 'uidcuchdin', 'uidname', 'uids', 'uidwise', 'uie', 'uilah', 'uims', 'uis', 'ultimately', 'umang', 'unable', 'unanswered', 'unauthorised', 'uncover', 'undergo', 'undergone', 'undergraduate', 'undersigned', 'understand', 'understanding', 'understands', 'undertaken', 'undertaking', 'unfair', 'uniform', 'uniformformal', 'unique', 'unit', 'units', 'university', 'universitycollege', 'universityrs', 'unlocking', 'unofficial', 'unpaid', 'unparalleled', 'unparliamentary', 'unplaced', 'unstop', 'unusual', 'upcoming', 'update', 'updated', 'updates', 'updating', 'upload', 'uploaded', 'uploading', 'upskillreskill', 'upto', 'up😀', 'urdu', 'urgent', 'urgently', 'usa', 'usage', 'useless', 'user', 'usercentric', 'username', 'usme', 'usual', 'utilize', 'utilized', 'utkarsh', 'uttranchal', 'vac', 'valid', 'valuable', 'value', 'valueadded', 'valued', 'vansh', 'vardhan', 'variety', 'vasu', 'venture', 'venue', 'verbal', 'verification', 'verificationpersonal', 'verified', 'verify', 'verma', 'vermabcs', 'version', 'verticals', 'vibe”', 'viceversa', 'vide', 'video', 'view', 'vikash', 'vinay', 'virdi', 'virdievent', 'virdituesdaythursday', 'virtual', 'visa', 'vishal', 'visible', 'vision', 'visionaries', 'visionary', 'visit', 'visiting', 'visually', 'vital', 'viva', 'vivaunder', 'vlo', 'volkswagen', 'volunteers', 'voter', 'voting', 'wait', 'waiting', 'walia', 'waliatuesdaythursday', 'walo', 'ward', 'warm', 'warning', 'wason', 'wear', 'wearing', 'web', 'webcam', 'website', 'wed', 'wednesday', 'wednesdays', 'week', 'wef', 'welcome', 'welcoming', 'welfare', 'wellprepared', 'weve', 'we’ll', 'we’re', 'whats', 'whatsapp', 'whichever', 'whichll', 'wholl', 'whove', 'whtsapp', 'widely', 'widespread', 'wifi', 'wiley', 'win', 'winner', 'winners', 'winning', 'winter', 'wipro', 'wisdom', 'wise', 'wisely', 'wish', 'wishes', 'witnessing', 'word', 'words', 'work', 'working', 'works', 'worksheets', 'workshop', 'workshopdesigned', 'workshops', 'world', 'worry', 'worth', 'wos', 'write', 'writex', 'writing', 'written', 'wrong', 'wwwcuchdin', 'yaar', 'yadav', 'yadavtuesdaythursday', 'yahoo', 'year', 'years', 'yearsbatches', 'yearsemester', 'year👆👆', 'yesterday', 'yhi', 'yop', 'youd', 'youll', 'young', 'youno', 'youre', 'youth', 'you’ll', 'you’re', 'you’ve', 'yss', 'yuvapratibha', 'zada', 'zakir', 'zero', 'zoom', 'अंधकार', 'आपके', 'आपको', 'उजियारा', 'ऊर्जा', 'एवं', 'ऐश्वर्य', 'करने', 'करें।', 'दीपावली', 'दूर', 'नकारात्मक', 'निराशा', 'परिवार', 'पर्व', 'प्रदान', 'प्रसन्नता', 'महालक्ष्मी', 'माँ', 'वाले', 'वैभव', 'शुभ', 'शुभकामनाएं।', 'सम्पन्नता', 'साथ', 'सुख', 'स्फूर्ति', 'स्वास्थ्य', 'हर्षोल्लास', 'हार्दिक', '–registration', '‘bps’', '‘tcs', '‘through', '“apply', '“benefits', '“design', '“disaster', '“fine', '“kala', '“mba', '“productivity', '“strategy', '“sur”', '“the', '“verify', '“yes”', '•automated', '•automating', '•blockchain', '•career', '•cash', '•counterfeit', '•dr', '•ecertificates', '•enabling', '•enhanced', '•finalyear', '•gate', '•higher', '•job', '•pharmaceutical', '•preplacement', '•scholarship', '•secure', '\\u2068avantika', '\\u2068himanshu', '₹member', '✈☄🚀', '🇮🇳💻', '🏆🧠🤓', '💐🪔🕉️']\n",
      "Counter({'students': 494, 'media': 350, 'omitted': 348, 'bcs': 235, 'form': 168, 'kindly': 163, 'registration': 155, 'link': 138, 'fill': 135, 'dear': 123, 'marks': 112, 'uid': 106, 'test': 105, 'message': 104, 'student': 101, 'section': 101, 'date': 95, 'register': 94, 'today': 93, 'assignment': 84, 'google': 83, 'team': 83, 'quiz': 74, 'problem': 67, 'present': 66, 'project': 66, 'surprise': 65, 'submitted': 64, 'event': 63, 'note': 62, 'mark': 60, 'leave': 60, 'time': 57, 'sir': 56, 'medical': 56, 'final': 55, 'year': 55, 'mam': 55, 'placement': 54, 'deleted': 54, 'crs': 54, 'group': 52, 'course': 52, 'complete': 52, 'list': 51, 'class': 51, 'absent': 51, 'classes': 50, 'respective': 50, 'cuims': 48, 'till': 48, 'assignments': 48, 'share': 47, 'required': 46, 'day': 46, 'open': 45, 'shared': 45, 'check': 44, 'coordinator': 44, 'request': 44, 'elective': 44, 'round': 43, 'inform': 42, 'teachers': 42, 'university': 42, 'tomorrow': 41, 'department': 41, 'details': 40, 'reminder': 40, 'showing': 40, 'drive': 39, 'competition': 39, 'number': 38, 'mst': 38, 'placements': 37, 'case': 37, 'internship': 37, 'attendance': 36, 'immediately': 35, 'mandatory': 35, 'find': 35, 'india': 35, 'respected': 35, 'attached': 34, 'subject': 34, 'data': 34, 'circulate': 33, 'kumar': 33, 'groups': 33, 'information': 33, 'submit': 33, 'submission': 32, 'mentioned': 32, 'semester': 32, 'provided': 31, 'sheet': 30, 'business': 30, 'email': 30, 'coursera': 30, 'process': 30, 'room': 30, 'bcsb': 30, 'chandigarh': 30, 'block': 29, 'contact': 29, 'join': 28, 'cse': 28, 'opportunity': 28, 'seminar': 28, 'certificates': 28, 'session': 27, 'apply': 27, 'participation': 27, 'participate': 27, 'make': 27, 'report': 27, 'teams': 27, 'unit': 26, 'basis': 26, 'academic': 26, 'campus': 26, 'maam': 26, 'based': 26, 'industry': 26, 'attend': 25, 'confirmation': 25, 'faculty': 25, 'filled': 25, 'allowed': 24, 'singh': 24, 'phase': 24, 'related': 24, 'deadline': 23, 'received': 23, 'skills': 23, 'september': 23, 'ill': 23, 'registered': 22, 'august': 22, 'upload': 22, 'eligible': 22, 'currently': 22, 'exam': 22, 'innovation': 22, 'writing': 22, 'send': 21, 'solution': 21, 'members': 21, 'vac': 21, 'sem': 20, 'reach': 20, 'days': 20, 'courses': 20, 'chance': 20, 'mail': 20, 'requested': 20, 'full': 20, 'starting': 20, 'made': 20, 'subjects': 20, 'engineering': 20, 'hackathon': 20, 'give': 20, 'october': 20, 'accenture': 19, 'hurry': 19, 'guidelines': 19, 'provide': 19, 'polling': 19, 'updated': 19, 'interested': 19, 'criteria': 19, 'active': 19, 'science': 19, 'practical': 19, 'bcsa': 19, 'urgent': 18, 'uploaded': 18, 'result': 18, 'career': 18, 'important': 18, 'inr': 18, 'end': 18, 'insights': 18, 'workshop': 18, 'certificate': 18, 'prizes': 18, 'future': 17, 'onwards': 17, 'issue': 17, 'venue': 17, 'program': 17, 'select': 17, 'company': 17, 'update': 17, 'candidates': 17, 'schedule': 17, 'applications': 17, 'call': 17, 'management': 17, 'lab': 17, 'events': 17, 'technology': 16, 'ensure': 16, 'teacher': 16, 'successful': 16, 'task': 16, 'available': 16, 'online': 16, 'exciting': 16, 'hall': 16, 'cloud': 16, 'office': 16, 'challenge': 16, 'laptop': 16, '•blockchain': 16, 'oct': 16, 'atlassian': 16, 'follow': 15, 'asap': 15, 'aug': 15, 'eligibility': 15, 'blockchain': 15, 'receive': 15, 'projects': 15, 'development': 15, 'queries': 15, 'forward': 15, 'kaur': 15, 'marked': 15, 'preference': 15, 'nov': 15, 'goodies': 15, 'due': 14, 'entertained': 14, 'opportunities': 14, 'completed': 14, 'support': 14, 'crc': 14, 'application': 14, 'statement': 14, 'dcpd': 14, 'hiring': 14, 'upcoming': 14, 'computing': 14, 'hod': 14, 'participants': 14, 'tcs': 14, 'filling': 13, 'work': 13, 'working': 13, 'detailed': 13, 'supervisor': 13, 'drives': 13, 'count': 13, 'advised': 13, 'code': 13, 'professional': 13, 'level': 13, 'technologies': 13, 'design': 13, 'computer': 13, 'knowledge': 13, 'record': 13, 'book': 13, 'evaluation': 13, 'viva': 13, 'held': 13, 'live': 13, 'solutions': 13, 'proportionate': 13, 'november': 13, 'ist': 13, 'cgpa': 13, 'preferences': 13, 'batch': 12, 'intelligence': 12, 'corporate': 12, 'step': 12, 'approval': 12, 'lecture': 12, 'offer': 12, 'training': 12, 'notice': 12, 'presentation': 12, 'part': 12, 'initiative': 12, 'found': 12, 'bct': 12, 'drug': 12, 'ideas': 12, 'choose': 12, 'choices': 12, 'links': 11, 'free': 11, 'query': 11, 'auditorium': 11, 'morning': 11, 'sharma': 11, 'job': 11, 'limited': 11, 'journey': 11, 'question': 11, 'visit': 11, 'wednesday': 11, 'friday': 11, 'card': 11, 'challenges': 11, 'leaders': 11, 'kaurtuesdaythursday': 11, 'reappear': 11, 'maximum': 11, 'scholarship': 11, 'mode': 11, 'cash': 11, 'objective': 11, 'dec': 11, 'left': 10, 'whatsapp': 10, 'coordinate': 10, 'action': 10, 'hope': 10, 'minutes': 10, 'shortlisted': 10, 'possible': 10, 'click': 10, 'hours': 10, 'names': 10, 'notes': 10, 'exams': 10, 'concerned': 10, 'allocation': 10, 'understanding': 10, 'unable': 10, 'edited': 10, 'assistance': 10, 'format': 10, 'making': 10, 'experience': 10, 'cards': 10, 'examinations': 10, '•dr': 10, 'lead': 10, 'accounts': 10, 'verified': 10, 'special': 10, 'national': 10, 'top': 10, 'noc': 10, 'change': 10, 'table': 9, 'shifted': 9, 'instructions': 9, 'uidbcs': 9, 'miss': 9, 'issues': 9, 'strict': 9, 'wait': 9, 'choice': 9, 'communication': 9, 'carefully': 9, 'start': 9, 'education': 9, 'meet': 9, 'sharing': 9, 'disaster': 9, 'bring': 9, 'opting': 9, 'departments': 9, 'art': 9, 'financial': 9, 'conduct': 9, 'considered': 9, 'pharmaceutical': 9, 'identity': 9, 'realworld': 9, 'chandrayaan': 9, 'ltts': 9, 'quizsurprise': 9, 'ago': 9, 'opt': 9, 'becseit': 8, 'learning': 8, 'portal': 8, 'priority': 8, 'official': 8, 'verification': 8, 'coordinators': 8, 'assessment': 8, 'fee': 8, 'added': 8, 'kind': 8, 'random': 8, 'plan': 8, 'interviews': 8, 'dls': 8, 'taking': 8, 'timings': 8, 'post': 8, 'platform': 8, 'week': 8, 'sept': 8, 'organize': 8, 'pool': 8, 'responses': 8, 'head': 8, 'wearing': 8, 'heshe': 8, 'results': 8, 'chain': 8, 'scopus': 8, 'indexed': 8, 'international': 8, 'jain': 8, 'supply': 8, 'talent': 8, 'encourage': 8, 'rank': 8, 'allotted': 8, 'aditya': 8, 'innovative': 8, 'exclusive': 8, 'thumsup': 8, 'judging': 8, 'status': 7, 'conducted': 7, 'pvt': 7, 'mobile': 7, 'license': 7, 'noon': 7, 'avantika': 7, 'nikhil': 7, 'dates': 7, 'reference': 7, 'reply': 7, 'guys': 7, 'selection': 7, 'living': 7, 'answer': 7, 'creation': 7, 'global': 7, 'planning': 7, 'evening': 7, 'batches': 7, 'prepare': 7, 'telegram': 7, 'user': 7, 'fail': 7, 'back': 7, 'documents': 7, 'forms': 7, 'amanpreet': 7, 'interview': 7, 'btech': 7, 'key': 7, 'letter': 7, 'meeting': 7, 'experts': 7, 'gain': 7, 'duty': 7, 'attending': 7, 'file': 7, 'sirmaam': 7, 'period': 7, 'singhtuesdaythursday': 7, 'raj': 7, 'mentors': 7, 'order': 7, 'hods': 7, 'categories': 7, 'approved': 7, 'cultural': 7, 'benefits': 7, 'pleased': 7, 'technical': 7, 'fast': 7, 'rahul': 7, 'responsible': 7, 'topics': 7, 'conference': 7, 'paper': 7, 'fwd': 7, 'chapters': 7, 'monitoring': 7, 'imagepng': 7, 'scheduled': 7, 'success': 7, 'prize': 7, 'discussion': 7, 'unique': 7, 'workshops': 7, 'current': 7, 'achievement': 7, 'faced': 7, 'presenting': 7, 'taskwhiz': 7, 'icp': 7, 'syllabus': 7, 'youll': 6, 'center': 6, 'folder': 6, 'sop': 6, 'screenshot': 6, 'tonight': 6, 'immediate': 6, 'closed': 6, 'proof': 6, 'july': 6, 'services': 6, 'coding': 6, 'gate': 6, 'highly': 6, 'option': 6, 'performance': 6, 'seating': 6, 'dxc': 6, 'graduation': 6, 'software': 6, 'language': 6, 'including': 6, 'informed': 6, 'collaboration': 6, 'revised': 6, 'kamal': 6, 'daa': 6, 'late': 6, 'previous': 6, 'missed': 6, 'excel': 6, 'notification': 6, 'affairs': 6, 'topic': 6, 'consider': 6, 'generate': 6, 'tools': 6, 'means': 6, 'alstom': 6, 'pursuing': 6, 'participating': 6, 'monday': 6, 'wear': 6, 'rewards': 6, 'core': 6, 'entries': 6, 'sep': 6, 'facility': 6, 'publisher': 6, 'editors': 6, 'literary': 6, 'eeca': 6, 'pay': 6, 'account': 6, 'engineers': 6, 'organizing': 6, 'debate': 6, 'aptitude': 6, 'award': 6, 'bps': 6, 'invited': 6, 'timing': 6, 'copy': 6, 'physical': 6, 'early': 6, 'verma': 6, 'connect': 6, 'valuable': 6, 'chosen': 6, 'universityrs': 6, 'internal': 6, 'deck': 6, 'techgium®': 6, 'intern': 6, 'janmay': 6, 'ticket': 6, 'vasu': 5, 'confirm': 5, 'implemented': 5, 'ids': 5, 'inbox': 5, 'licenses': 5, 'particular': 5, 'feel': 5, 'type': 5, 'neha': 5, 'ibm': 5, 'registrations': 5, 'guide': 5, 'msg': 5, 'messages': 5, 'counts': 5, 'show': 5, 'questions': 5, 'create': 5, 'fields': 5, 'learn': 5, 'bank': 5, 'aims': 5, 'avail': 5, 'golden': 5, 'uniform': 5, 'english': 5, 'shift': 5, 'ppt': 5, 'stream': 5, 'senior': 5, 'assigned': 5, 'identify': 5, 'written': 5, 'unplaced': 5, 'organized': 5, 'baat': 5, 'extended': 5, 'higher': 5, 'supervisors': 5, 'pratap': 5, 'prasad': 5, 'growth': 5, 'great': 5, 'wise': 5, 'sections': 5, 'attempt': 5, 'individual': 5, 'submissions': 5, 'showcase': 5, 'represent': 5, 'culture': 5, 'supposed': 5, 'reasons': 5, 'analytics': 5, 'institute': 5, 'cover': 5, 'win': 5, 'things': 5, 'microsoft': 5, 'chapter': 5, 'moocs': 5, 'earlier': 5, 'phones': 5, 'formals': 5, 'speech': 5, 'programming': 5, 'applying': 5, 'harsh': 5, 'points': 5, 'doubts': 5, 'hackathons': 5, 'undergraduate': 5, 'exposure': 5, 'professionals': 5, 'consent': 5, 'place': 5, 'notified': 5, 'arora': 5, 'noida': 5, 'build': 5, 'books': 5, 'ignore': 5, 'soft': 5, 'announce': 5, 'lms': 5, 'asked': 5, 'announcement': 5, 'young': 5, 'state': 5, 'tech': 5, 'puneet': 5, 'amount': 5, 'certification': 5, 'external': 5, 'enter': 5, 'hisher': 5, 'fees': 5, 'ignite': 5, 'accept': 5, 'bus': 5, 'past': 5, 'semesters': 5, 'remain': 5, 'principles': 5, 'activity': 5, 'grand': 5, 'loréal': 5, 'prajjal': 5, 'esuraksha': 5, 'study': 5, 'rates': 5, 'ronit': 5, 'evaluated': 5, 'hackout': 5, 'proposed': 5, 'null': 5, 'pandey': 4, 'gaurav': 4, 'mohan': 4, 'solanki': 4, 'listed': 4, 'resolved': 4, 'reminders': 4, 'vision': 4, 'cuchd': 4, 'junk': 4, 'activate': 4, 'directly': 4, 'respect': 4, 'methwani': 4, 'himanshu': 4, 'govind': 4, 'registering': 4, 'low': 4, 'college': 4, 'told': 4, 'companies': 4, 'side': 4, 'spam': 4, 'explain': 4, 'invite': 4, 'finds': 4, 'understand': 4, 'importance': 4, 'prepared': 4, 'ready': 4, 'embark': 4, 'mention': 4, 'private': 4, 'steps': 4, 'personal': 4, 'talents': 4, 'move': 4, 'preparation': 4, 'cat': 4, 'gmat': 4, 'options': 4, 'spoc': 4, 'cabin': 4, 'research': 4, 'stay': 4, 'excuses': 4, 'read': 4, 'hour': 4, 'virtual': 4, 'backlogs': 4, 'activities': 4, 'guidance': 4, 'handson': 4, 'expected': 4, 'timely': 4, 'manner': 4, 'skill': 4, 'location': 4, 'member': 4, 'industries': 4, 'concepts': 4, 'prospects': 4, 'expert': 4, 'panelists': 4, 'roles': 4, 'offers': 4, 'seats': 4, 'ongoing': 4, 'khushwant': 4, 'naveen': 4, 'eod': 4, 'require': 4, 'needful': 4, 'tpp': 4, 'slots': 4, 'nptel': 4, 'reason': 4, 'notify': 4, 'error': 4, 'changes': 4, 'cracking': 4, 'brings': 4, 'clicking': 4, 'bebtech': 4, 'onetime': 4, 'colleges': 4, 'upto': 4, 'edit': 4, 'abstract': 4, 'selected': 4, 'proper': 4, 'school': 4, 'network': 4, 'java': 4, 'building': 4, 'problems': 4, 'mehta': 4, 'postgraduate': 4, 'mentorship': 4, 'competitions': 4, 'cseth': 4, 'environmental': 4, 'theory': 4, 'video': 4, 'minimum': 4, 'presence': 4, 'permanently': 4, 'healthcare': 4, 'bvicam': 4, 'delhi': 4, 'sharda': 4, 'greater': 4, 'chitkara': 4, 'quality': 4, 'prevention': 4, 'contracts': 4, 'publication': 4, 'successfully': 4, 'min': 4, 'limit': 4, 'phone': 4, 'hunt': 4, 'incredible': 4, 'creativity': 4, 'fine': 4, 'arts': 4, 'selecting': 4, 'mohit': 4, 'maurya': 4, 'msts': 4, 'completion': 4, 'login': 4, 'concern': 4, 'clash': 4, 'strategy': 4, 'nation': 4, 'supporting': 4, 'conducting': 4, 'sessions': 4, 'innovator': 4, 'winner': 4, 'face': 4, 'youre': 4, 'half': 4, 'tushar': 4, 'idea': 4, 'pmseminar': 4, 'gunjit': 4, 'requisite': 4, 'permission': 4, 'gates': 4, 'designed': 4, 'summer': 4, 'vansh': 4, 'chaudhary': 4, 'guest': 4, 'missing': 4, 'entrance': 4, 'egovernance': 4, 'formal': 4, 'dress': 4, 'hostel': 4, 'kunal': 4, 'entrepreneurship': 4, 'pitch': 4, 'explore': 4, 'updates': 4, 'volunteers': 4, 'refreshments': 4, 'noble': 4, 'thier': 4, 'volkswagen': 4, 'risk': 4, 'role': 4, 'pending': 4, 'rana': 4, 'attempted': 4, 'internships': 4, 'december': 4, 'real': 4, 'scheme': 4, 'routed': 4, 'techniques': 4, 'finale': 4, 'preplacement': 4, 'ppis': 4, 'adhikari': 4, 'cart': 4, 'abandonment': 4, 'shashi': 4, 'regular': 4, 'mission': 4, 'evaluating': 4, 'clarity': 4, 'shortly': 4, 'httpstechfestorgcompetitionstaskwhiz': 4, 'httpsformsglesyygadtdbvvvs': 4, 'plz': 4, 'paid': 4, 'ruhani': 4, 'term': 4, 'awarded': 4, 'hcl': 4, 'domain': 4, 'zero': 4, 'mentor': 4, 'depends': 4, 'system': 4, 'assignmentquizsurprise': 4, 'valid': 4, 'propotionate': 4, 'reporting': 4, 'garima': 3, 'satvik': 3, 'carry': 3, 'becse': 3, 'maintain': 3, 'httpssbmurbanorgfeedback': 3, 'httpswwwmygovinmygovsurveyswachhsurvekshan': 3, 'invites': 3, 'benefit': 3, 'discrepancy': 3, 'floor': 3, 'audi': 3, 'close': 3, 'karan': 3, 'roy': 3, 'shashvat': 3, 'survey': 3, 'httpswwwcourseraorgprogramschandigarhuniversityfacultylearningprogrampipbrowsecollectionidproductidkocvnqwkeeilxwqlapqmgproducttypecoursequerybusinessintelligenceanddataanalyticsagenerateinsightsshowminimodaltruesourcesearch': 3, 'parshad': 3, 'sigma': 3, 'drop': 3, 'stages': 3, 'paas': 3, 'ajay': 3, 'pal': 3, 'spirits': 3, 'promotion': 3, 'positively': 3, 'admin': 3, 'coming': 3, 'learner': 3, 'home': 3, 'delay': 3, 'poll': 3, 'standard': 3, 'password': 3, 'diversity': 3, 'review': 3, 'access': 3, 'clear': 3, 'rest': 3, 'recruitment': 3, 'refer': 3, 'student’s': 3, 'gre': 3, 'commence': 3, 'enroll': 3, 'max': 3, 'condition': 3, 'profile': 3, 'instruction': 3, 'mila': 3, 'processes': 3, 'thursday': 3, 'dropout': 3, 'cseit': 3, 'indian': 3, 'hold': 3, 'passport': 3, 'country': 3, 'title': 3, 'responsibilities': 3, 'requirements': 3, 'programs': 3, 'deploy': 3, 'entering': 3, 'testing': 3, 'commitment': 3, 'emerging': 3, 'joining': 3, 'offline': 3, 'world': 3, 'digital': 3, 'avenues': 3, 'deep': 3, 'wisdom': 3, 'experiences': 3, 'prior': 3, 'spot': 3, 'backend': 3, 'sukhvir': 3, 'csefinal': 3, 'activated': 3, 'systems': 3, 'ankita': 3, 'avneet': 3, 'shanu': 3, 'yesterday': 3, 'saturday': 3, 'achievements': 3, 'collect': 3, 'basket': 3, 'environment': 3, 'pages': 3, 'motive': 3, 'deadlines': 3, 'attention': 3, 'club': 3, 'interdepartment': 3, 'music': 3, 'goyal': 3, 'cooperation': 3, 'timetable': 3, 'detail': 3, 'bellow': 3, 'blockc': 3, 'dcpdcewcumailin': 3, 'announced': 3, 'streams': 3, 'secured': 3, 'tommorow': 3, 'write': 3, 'talk': 3, 'regional': 3, 'httpsdrivegooglecomdrivefolderspbirjxiqugjfvpwqouekeynsdwuspsharing': 3, 'field': 3, 'practice': 3, 'distributed': 3, 'machine': 3, 'happy': 3, 'solve': 3, 'engaging': 3, 'partners': 3, 'area': 3, 'aviraj': 3, 'earpods': 3, 'proofs': 3, 'poster': 3, 'fulltime': 3, 'seasoned': 3, 'msc': 3, 'httpsdocsgooglecomspreadsheetsdogwrlmjynxkxkjakctuagokieiaqvpntwaedituspsharing': 3, 'bandwidth': 3, 'skip': 3, 'avoid': 3, 'debarred': 3, 'usa': 3, 'series': 3, 'vishal': 3, 'punjab': 3, 'welcome': 3, 'cases': 3, 'sector': 3, 'smart': 3, 'indexing': 3, 'wos': 3, 'afternoon': 3, 'improve': 3, 'abilities': 3, 'enhance': 3, 'disqualification': 3, 'excited': 3, 'yuvapratibha': 3, 'celebration': 3, 'intradepartmental': 3, 'aim': 3, 'adhere': 3, 'finalists': 3, 'strategies': 3, 'bina': 3, 'crack': 3, 'ssccglbank': 3, 'combined': 3, 'info': 3, 'participant': 3, 'states': 3, 'indias': 3, 'nations': 3, 'hosted': 3, 'talented': 3, 'httpsformsgleppxjppxhypwtmc': 3, 'organising': 3, 'treasure': 3, 'wishes': 3, 'pmc': 3, 'pfa': 3, 'winners': 3, 'stand': 3, 'bcslhc': 3, 'parth': 3, 'kapoor': 3, 'mark\\xa0me\\xa0as\\xa0present': 3, 'authors': 3, 'msti': 3, 'providing': 3, 'initiated': 3, 'associated': 3, 'passing': 3, 'aadhar': 3, 'category': 3, 'proceed': 3, 'deposit': 3, 'abroad': 3, 'mba': 3, 'perfect': 3, 'sit': 3, 'continue': 3, 'lectures': 3, 'planned': 3, 'search': 3, 'umang': 3, 'arya': 3, 'checked': 3, 'descepency': 3, 'krishna': 3, 'vardhan': 3, 'buildings': 3, 'switch': 3, 'degree': 3, 'noted': 3, 'entrepreneurial': 3, 'leverage': 3, 'funding': 3, 'warm': 3, 'conferences': 3, 'reject': 3, 'loi': 3, 'pratham': 3, 'jaiswal': 3, 'campaign': 3, 'gya': 3, 'extend': 3, 'reduction': 3, 'misplaced': 3, 'advantage': 3, 'policy': 3, 'engage': 3, 'defaulters': 3, 'essential': 3, 'effective': 3, 'general': 3, 'anytime': 3, 'anshul': 3, 'utkarsh': 3, 'optimize': 3, 'increase': 3, 'dashniet': 3, 'patent': 3, 'deepak': 3, 'gautam': 3, 'aryan': 3, 'optimization': 3, 'ranjan': 3, 'herewith': 3, 'convey': 3, 'maha': 3, 'enable': 3, 'submitting': 3, 'sustainability': 3, 'lunch': 3, 'kpit': 3, 'major': 3, 'launched': 3, 'primary': 3, 'minds': 3, 'invaluable': 3, 'futuristic': 3, 'augment': 3, 'recognized': 3, 'importantly': 3, 'helping': 3, 'mindset': 3, 'exposing': 3, 'httpslttstechgiumcomjsregisterprocess': 3, 'linkhttpsformsglertsrqtlqzyosauh': 3, 'techgium': 3, 'hard': 3, 'poetic': 3, 'poetry': 3, 'दीपावली': 3, 'communicate': 3, 'allocated': 3, 'energy': 3, 'auditing': 3, 'anmol': 3, 'garg': 3, 'genuine': 3, 'assignmentquiz': 3, 'superise': 3, 'color': 3, 'odd': 3, 'navigationopen': 3, 'offered': 3, 'branchdepartment': 3, 'studied': 3, 'displayed': 3, 'electives': 3, 'wisely': 3, 'allotment': 3, 'generated': 3, 'highest': 3, 'viceversa': 3, 'run': 3, 'care': 3, 'fails': 3, 'prerequisites': 3, 'interface': 3, 'reviewing': 3, 'afterward': 3, 'bag': 3, 'httpsformsgleymahthdwthuf': 3, 'print': 3, 'facing': 2, 'rooms': 2, 'acs': 2, 'covering': 2, 'officer': 2, 'amandeep': 2, 'renault': 2, 'nissan': 2, 'scope': 2, 'extensions': 2, 'electivecomputer': 2, 'expired': 2, 'begin': 2, 'alternatively': 2, 'enrollment': 2, 'augdec': 2, 'sec': 2, 'httpschatwhatsappcomkljpwttashnheekvrq': 2, 'codeknack': 2, 'opening': 2, 'candidate': 2, 'bhar': 2, 'httpsformsglezgpfbjlbezzmda': 2, 'httpsformsglepbcqfmegfwgqa': 2, 'aayi': 2, 'lagaya': 2, 'sirf': 2, 'urgently': 2, 'josh': 2, 'sharp': 2, 'theyll': 2, 'health': 2, 'high': 2, 'enriching': 2, 'moral': 2, 'responsibility': 2, 'verify': 2, 'resolve': 2, 'keeping': 2, 'i’m': 2, 'enrolled': 2, 'include': 2, 'pushpinder': 2, 'chartered': 2, 'finish': 2, 'assessments': 2, 'don’t': 2, 'pass': 2, 'tests': 2, 'needed': 2, 'privacy': 2, 'treated': 2, 'adjustments': 2, 'processed': 2, 'competitive': 2, 'stipulated': 2, 'civil': 2, 'ssccgl': 2, 'cds': 2, 'abovementioned': 2, 'uims': 2, 'simple': 2, 'dropped': 2, 'physically': 2, 'shifts': 2, 'propose': 2, 'extension': 2, 'completing': 2, 'httpsformsglepccbaytvrmxkq': 2, 'repeated': 2, 'dhillon': 2, 'gen': 2, 'person': 2, 'gaps': 2, 'years': 2, 'andor': 2, 'citizen': 2, 'holding': 2, 'associate': 2, 'designing': 2, 'develop': 2, 'requirement': 2, 'performing': 2, 'administrative': 2, 'reports': 2, 'customers': 2, 'outcome': 2, 'mitigation': 2, 'basic': 2, 'problemsolving': 2, 'different': 2, 'pan': 2, 'package': 2, 'service': 2, 'fundamentals': 2, 'employment': 2, 'applicable': 2, 'intimate': 2, 'musigma': 2, 'puch': 2, 'kro': 2, 'usme': 2, 'spheron': 2, 'promises': 2, 'uncover': 2, 'potential': 2, 'dive': 2, 'speakers': 2, 'pivotal': 2, 'shaping': 2, 'light': 2, 'organizer': 2, 'calendar': 2, 'kaure': 2, 'loveneet': 2, 'kamboj': 2, 'navpreet': 2, 'bhupinder': 2, 'sangeeta': 2, 'sonituesdaythursday': 2, 'gagandeep': 2, 'sharmatuesdaythursday': 2, 'khare': 2, 'pvcaa': 2, 'accomplishments': 2, 'heights': 2, 'reflect': 2, 'spirit': 2, 'decided': 2, 'memorable': 2, 'social': 2, 'appreciated': 2, 'statistics': 2, 'springboard': 2, 'duration': 2, 'handwritten': 2, 'atleast': 2, 'esteemed': 2, 'advise': 2, 'polled': 2, 'rule': 2, 'appointed': 2, 'blockb': 2, 'front': 2, 'guests': 2, 'informative': 2, 'matter': 2, '\\u2068himanshu': 2, 'sharma\\u2069': 2, '\\u2068avantika': 2, 'roy\\u2069': 2, 'short': 2, 'sorry': 2, 'minor': 2, 'httpswwwcourseraorgprogramschandigarhuniversityfacultylearningprogrampipbrowsecollectionidproductidglccrnoeewjrasefawproducttypecoursequerybusinessintelligenceconceptsshowminimodaltruesourcesearch': 2, 'httpswwwcourseraorgprogramschandigarhuniversityfacultylearningprogrampipbrowsecollectionidproductidglccrnoeewjrasefawproducttypecoursequerybusinessintelligencetoolscandapplicationsshowminimodaltruesourcesearch': 2, 'agenda': 2, '•job': 2, 'scanning': 2, 'communities': 2, 'partner': 2, 'applicants': 2, 'annual': 2, 'belonging': 2, 'specified': 2, 'size': 2, 'photograph': 2, 'preventing': 2, 'seeking': 2, 'scholarships': 2, 'expenses': 2, 'buddystudycom': 2, 'registrationhttpsformsglevjuatzdoynpyuc': 2, 'azhar': 2, 'rajwinder': 2, 'gupta': 2, 'bangalore': 2, 'interactive': 2, 'intrested': 2, 'testingcsm': 2, 'miningcst': 2, 'branch': 2, 'httpsdocsgooglecomformsdefaipqlsdbvcskejkncxcshqsrsywcexgcygzmhqjvwokaebdwviewformuspsflink': 2, 'excuse': 2, 'courser': 2, 'articulate': 2, 'listening': 2, 'relative': 2, 'web': 2, 'security': 2, 'fluent': 2, 'netflix': 2, 'market': 2, 'kumarbcs': 2, 'amisha': 2, 'chauhan': 2, 'rajnish': 2, 'mates': 2, 'evaluations': 2, 'cancelled': 2, 'govt': 2, 'accepted': 2, 'hand': 2, 'remains': 2, 'officials': 2, 'chances': 2, 'debarring': 2, 'remember': 2, 'yearsbatches': 2, 'instruct': 2, 'featured': 2, 'httpsbitlyunstopaccenture': 2, 'toptier': 2, 'teaching': 2, 'printed': 2, 'appearing': 2, 'incampus': 2, 'internet': 2, 'mic': 2, 'arrangement': 2, 'sufficient': 2, 'hardware': 2, 'datesheet': 2, 'wholl': 2, 'separately': 2, 'forget': 2, 'scrivenerwiley': 2, 'biomedical': 2, 'informatics': 2, 'httpsformsgleqrqvznfvezvy': 2, 'ritika': 2, 'wason': 2, 'parul': 2, 'parma': 2, 'nand': 2, 'vinay': 2, 'kukreja': 2, 'framework': 2, 'counterfeit': 2, 'clinical': 2, 'trials': 2, 'secure': 2, 'interoperability': 2, '•secure': 2, 'patient': 2, 'regulatory': 2, 'compliance': 2, '•automating': 2, 'streamlining': 2, 'payments': 2, 'recall': 2, '•automated': 2, 'authentication': 2, 'expiry': 2, 'tracking': 2, '•pharmaceutical': 2, 'intellectual': 2, 'property': 2, 'protection': 2, 'timestamping': 2, 'etherum': 2, '•counterfeit': 2, '•enabling': 2, 'transparent': 2, 'generation': 2, 'endto': 2, 'efficiency': 2, 'decide': 2, 'strictly': 2, 'uploading': 2, 'impromptu': 2, 'speaking': 2, 'capacity': 2, 'quick': 2, 'closes': 2, 'rules': 2, 'creative': 2, 'calendars': 2, 'theatre': 2, 'dance': 2, 'departmental': 2, 'takes': 2, 'endeavor': 2, 'resources': 2, 'manager': 2, 'incorrect': 2, 'luck': 2, 'gye': 2, 'examination': 2, 'tomorrows': 2, 'conditions': 2, 'pocds': 2, 'staff': 2, '•career': 2, 'mining': 2, 'paisa': 2, 'appeared': 2, 'feedback': 2, 'promote': 2, 'created': 2, 'sense': 2, 'host': 2, 'sih': 2, 'tekathon': 2, 'timeline': 2, 'lets': 2, 'bait': 2, 'astronomy': 2, 'aerospace': 2, 'automatically': 2, 'compete': 2, 'considering': 2, 'raised': 2, 'optional': 2, 'stage': 2, 'prices': 2, 'virdi': 2, 'simran': 2, 'sharpen': 2, 'interviewprep': 2, 'debatecompetition': 2, 'groupdiscussion': 2, 'eventscse': 2, 'masters': 2, 'httpsdocsgooglecomformsdyciufxexkgryhztbkwhhbhvubblubtdlsjdgedit': 2, 'httpsdocsgooglecomformsdyiitlohcoxzfegiunkdfdftrxtffbyziedit': 2, 'arorabcs': 2, 'genesis': 2, 'apple': 2, 'maps': 2, 'public': 2, 'scala': 2, 'play': 2, 'input': 2, 'fake': 2, 'suspension': 2, 'deleting': 2, 'issued': 2, 'graduates': 2, 'units': 2, 'manual': 2, 'view': 2, 'original': 2, 'love': 2, 'rounds': 2, 'recieved': 2, 'dixat': 2, 'hitbullseye': 2, 'speaker': 2, 'launchpad': 2, 'buddy': 2, 'httpsontcscomtyxv': 2, 'httpsformsglestfaohmemstc': 2, 'thanku': 2, 'surely': 2, 'nameinternational': 2, 'expertise': 2, 'nameprof': 2, 'joshua': 2, 'ground': 2, 'interaction': 2, 'disciplined': 2, 'promised': 2, 'brought': 2, 'thr': 2, 'disperency': 2, 'personally': 2, 'fault': 2, 'wifi': 2, 'manually': 2, 'enters': 2, 'desk': 2, 'cautioned': 2, 'alltime': 2, 'exemplary': 2, 'opposite': 2, 'gender': 2, 'legal': 2, 'complications': 2, 'loses': 2, 'dsw': 2, 'dene': 2, 'pareshan': 2, 'counselling': 2, 'admission': 2, 'lena': 2, 'pdega': 2, 'enabling': 2, 'entrepreneurs': 2, 'tep': 2, 'delve': 2, 'product': 2, 'startup': 2, 'kickstart': 2, 'craft': 2, 'investors': 2, 'trends': 2, 'director': 2, 'sweety': 2, 'todays': 2, 'plagiarism': 2, 'channel': 2, 'recognize': 2, 'httpsdocsgooglecomformsdefaipqlsdcqpbpftwjmeraenvssyibndctwknqlvtbsflbzsxgviewformuspsflink': 2, 'privilege': 2, 'detained': 2, 'httpsformsglesynbwipnigogrc': 2, '•finalyear': 2, 'mca': 2, 'remaining': 2, 'sir👍': 2, 'mgsipa': 2, 'vital': 2, 'aimed': 2, 'practices': 2, 'led': 2, 'big': 2, 'devops': 2, 'black': 2, 'colour': 2, 'closing': 2, 'fri': 2, 'eswdm': 2, 'integral': 2, 'classroom': 2, 'situations': 2, 'cucrc': 2, 'provice': 2, 'chancellor': 2, 'signatures': 2, 'principals': 2, 'affiliation': 2, 'effect': 2, 'worksheets': 2, 'aspire': 2, 'conclave': 2, 'highlights': 2, 'panel': 2, 'discussions': 2, 'httpswwwjiitacinjiiticsc': 2, 'alive': 2, 'uttranchal': 2, 'jay': 2, 'pee': 2, 'httpsdocsgooglecomspreadsheetsdjxiedhbwfixkiotxjxhwwyweyyywjjhgceditgid': 2, 'bihar': 2, 'page': 2, 'executive': 2, 'industrial': 2, '“design': 2, 'process”': 2, 'neeraj': 2, 'cofounder': 2, 'crimson': 2, 'master': 2, 'foundational': 2, 'designs': 2, 'functional': 2, 'goal': 2, 'usercentric': 2, 'systematically': 2, 'approach': 2, 'creations': 2, 'set': 2, 'superset': 2, 'wrong': 2, 'mstii': 2, 'crccorporate': 2, 'itll': 2, 'forwarded': 2, 'response': 2, 'single': 2, 'henceforth': 2, 'discipline': 2, 'jury': 2, 'worth': 2, 'semifinalists': 2, 'httpsunstopcomcompetitionslorealsustainabilitychallengeloreal': 2, 'shresth': 2, 'column': 2, 'columns': 2, 'empty': 2, 'times': 2, 'directors': 2, 'entry': 2, 'cyber': 2, 'kshitiz': 2, 'ecommerce': 2, 'reduce': 2, 'shopping': 2, 'conversion': 2, 'sales': 2, 'abet': 2, 'choudhary': 2, 'kambojbcs': 2, 'remarkable': 2, 'awareness': 2, 'absentee': 2, 'lunar': 2, 'mygov': 2, 'isro': 2, 'firstyear': 2, 'abhe': 2, 'refund': 2, 'branches': 2, 'runner': 2, 'cost': 2, 'httpsformsgleynsodmxzfyykkhd': 2, 'cleaning': 2, 'common': 2, 'altair': 2, 'httpsformsglekpbcdanmkfwns': 2, 'gentle': 2, 'thrilled': 2, 'partnership': 2, 'iit': 2, 'bombay': 2, 'foster': 2, 'postgraduation': 2, 'graduationpostgraduation': 2, 'dollars': 2, 'motoko': 2, 'distribution': 2, 'cycles': 2, 'mainnet': 2, 'thumbnail': 2, 'sparkle': 2, 'load': 2, 'balancing': 2, 'scalability': 2, 'techguim': 2, 'httpsdrivegooglecomdrivefolderspbirjxiqugjfvpwqouekeynsdw': 2, 'strength': 2, 'individually': 2, 'dated': 2, 'depend': 2, 'winter': 2, 'onces': 2, 'eliminatory': 2, 'assess': 2, 'runnerup': 2, 'dhawan': 2, 'kashyap': 2, 'fest': 2, 'एवं': 2, 'करने': 2, 'वाले': 2, 'आपको': 2, 'httpswwwhcltechcomcareerscampushiring': 2, 'elo': 2, 'slot': 2, 'uidwise': 2, 'instructed': 2, 'entertain': 2, 'rizul': 2, 'zoom': 2, 'licence': 2, 'expire': 2, 'download': 2, 'haa': 2, 'httpsformsgleeiskbrfcprdedqma': 2, 'failing': 2, 'text': 2, 'purnima': 2, 'formet': 2, 'affect': 2, 'problemmarked': 2, 'assignmentsquizsurprise': 2, 'ekjot': 2, 'chopra': 2, 'materials': 2, 'numerical': 2, 'electrical': 2, 'conservation': 2, 'zakir': 2, 'opted': 2, 'internshipfte': 2, 'undertaking': 2, 'signed': 2, 'responded': 1, 'done💯': 1, 'httpsformsgleyfpjqyyflegxeb': 1, 'procedure': 1, 'laptom': 1, 'repair': 1, 'boards': 1, 'installed': 1, 'cooling': 1, 'amancrccumailin': 1, 'httpschatwhatsappcomgzyngdkdafkmzxynta': 1, 'undersigned': 1, 'gpucmoocs': 1, 'gradesfor': 1, 'discrepancies': 1, 'gpucmoocsnptel': 1, 'httpsdocsgooglecomspreadsheetsdejeojtakvagapdnunxyyizmahrfeoymawoedituspsharing': 1, 'accessible': 1, 'nominated': 1, 'voting': 1, 'congratulations': 1, 'congrats': 1, 'party': 1, 'httpsformsgleqszxmgxvrid': 1, 'leavei': 1, 'httpswwwfirstnaukricomcareerscustomisedlandingpagerntbciindexhtml': 1, 'httpsformsglebgdkvbrilgnrwbv': 1, 'httpsformsofficecomrjpjwzssjr': 1, 'httpsformsgleugqbmdmhkvgzeuk': 1, '–registration': 1, 'httpsibmbizbdyhe': 1, 'ibmrecruitmentnoreply': 1, 'enterprisetrmbrassringcom': 1, 'httpsibmbizbdyh': 1, 'httpsformsgleybxnhrxzunpxr': 1, 'riktam': 1, 'consulting': 1, 'httpsriktamtigersheetcomformformid': 1, 'httpsformsgleamyyqqrwwgewgb': 1, 'counsel': 1, 'fyada': 1, 'bcho': 1, 'mass': 1, 'recruiter': 1, 'jayegi': 1, 'httpschatwhatsappcomcegopnamclfgzodjna': 1, 'discussed': 1, 'alarming': 1, 'orientation': 1, 'pendency': 1, 'thumbs': 1, 'sai': 1, 'despite': 1, 'aesa': 1, 'rejection': 1, 'aayega': 1, 'aree': 1, 'filter': 1, 'hata': 1, 'aaaya': 1, 'whtsapp': 1, 'ata': 1, 'yss': 1, 'httpschatwhatsappcomddyqtqdmcwvhyabujdlei': 1, 'unofficial': 1, 'unusual': 1, 'httpschatwhatsappcombtnbjvqtypgyshz': 1, 'swach': 1, 'survekshan': 1, 'appropriate': 1, 'olease': 1, 'thiscan': 1, 'cmon': 1, 'singhe': 1, 'hame': 1, 'padhate': 1, 'httpsformsgleqbbqyjnkece': 1, 'remind': 1, 'httpsformsglexwrehzwystkhjmfy': 1, 'hostels': 1, 'gadar': 1, 'wish': 1, 'gaddar': 1, 'cubastion': 1, 'httpsdocsgooglecomspreadsheetsdhqsihseikhdwhzywhgjpvythmktiekskqjeazfledituspsharing': 1, 'mailbit': 1, '“verify': 1, 'program”': 1, 'outlook': 1, 'ans': 1, 'attach': 1, 'fromcoursera': 1, 'themail': 1, 'address': 1, 'notefor': 1, 'learners': 1, 'reachsupport': 1, 'thechat': 1, 'icon': 1, 'bottom': 1, 'pagein': 1, 'format\\x02': 1, 'courseraadmincumailin': 1, 'sukhman': 1, 'assisting': 1, 'projectin': 1, 'punch': 1, 'doubt': 1, 'engineer': 1, 'username': 1, 'resume': 1, 'pymetrics': 1, 'games': 1, 'recommend': 1, 'testpymetrics': 1, 'valued': 1, 'behaviour': 1, 'predetermined': 1, 'timeframe': 1, 'eliminated': 1, 'point': 1, 'confidentiality': 1, 'we’ll': 1, 'reasonable': 1, 'httpswwwsccomenprivacypolicy': 1, 'rewarding': 1, 'continuing': 1, 'legacy': 1, 'facilitates': 1, 'ielts': 1, 'subsidized': 1, 'staug’': 1, 'path': 1, 'thaug’': 1, 'roo': 1, 'exact': 1, 'called': 1, 'paperand': 1, 'foremost': 1, 'reminded': 1, 'dropping': 1, 'profileuser': 1, 'cleared': 1, 'happened': 1, 'oky': 1, 'richpanel': 1, 'charted': 1, 'walo': 1, 'shukriyaa': 1, 'focus': 1, 'httpsdocsgooglecomspreadsheetsddgimmemldyeqlfvibprrjdmhnafswcfberaoedituspsharing': 1, 'basisno': 1, 'spared': 1, 'arrears': 1, 'onboarding': 1, 'flexible': 1, 'pio': 1, 'oci': 1, 'bhutan': 1, 'nepal': 1, 'nationals': 1, 'obtaining': 1, 'visa': 1, 'position': 1, 'designation': 1, 'routine': 1, 'objectives': 1, 'met': 1, 'developing': 1, 'troubleshooting': 1, 'analyzing': 1, 'debug': 1, 'specifications': 1, 'assist': 1, 'databases': 1, 'producing': 1, 'statistical': 1, 'presentations': 1, 'meetings': 1, 'document': 1, 'works': 1, 'moderate': 1, 'ownership': 1, 'tasks': 1, 'deliver': 1, 'efficient': 1, 'proactively': 1, 'continuously': 1, 'upskillreskill': 1, 'cross': 1, 'scale': 1, 'proficient': 1, 'verbal': 1, 'interpersonal': 1, 'interact': 1, 'analytical': 1, 'adaptable': 1, 'selfmotivated': 1, 'demonstrates': 1, 'deliverables': 1, 'locations': 1, 'knowhow': 1, 'lpa': 1, 'bond': 1, 'agreement': 1, 'logical': 1, 'quantitative': 1, 'writex': 1, 'intent': 1, 'undergo': 1, 'months': 1, 'contingent': 1, 'educational': 1, 'setforth': 1, 'qualifying': 1, 'curriculum': 1, 'cutoff': 1, 'scene': 1, 'agr': 1, 'suni': 1, 'bataya': 1, 'alert': 1, 'illuminating': 1, 'exploration': 1, 'gamechanger': 1, 'offering': 1, 'reshape': 1, 'perceive': 1, 'backbone': 1, 'cryptocurrencies': 1, 'evolved': 1, 'revolutionary': 1, 'force': 1, 'extends': 1, 'currencies': 1, 'transforming': 1, 'securing': 1, 'creating': 1, 'decentralized': 1, 'enlightened': 1, 'distinguished': 1, 'played': 1, 'landscape': 1, 'pioneers': 1, 'visionaries': 1, 'shedding': 1, 'endless': 1, 'possibilities': 1, 'reserve': 1, 'httpslumaogqwsht': 1, 'inquiries': 1, 'khuswant': 1, 'virdievent': 1, 'dhruv': 1, 'gargstudent': 1, 'spread': 1, 'word': 1, 'welcoming': 1, 'enlightening': 1, 'blockchainevent': 1, 'chandigarhuniversity': 1, 'digitaltransformation': 1, 'gifts': 1, 'shyd': 1, 'dilwa': 1, 'cum': 1, 'httpsformsglegghbkxijdczyc': 1, 'proposal': 1, 'authority': 1, 'drivesi': 1, 'infogain': 1, 'httpsformsglebddgtvpquduv': 1, 'eml': 1, 'studentwise': 1, 'tracked': 1, 'httpsdocsgooglecomspreadsheetsdonnwafhzokxccxawhqyscacodrtdcjmzeyzmedituspsharing': 1, 'nice': 1, 'httpsformsglekqvvsqkjkarpwcs': 1, 'team\\xa0placements': 1, 'nofaculty': 1, 'nameecoderoom': 1, 'noday': 1, 'waliatuesdaythursday': 1, 'sushil': 1, 'mishratuesdaythursday': 1, 'kulvinder': 1, 'kumartuesdaythursday': 1, 'anchal': 1, 'kamratuesdaythursday': 1, 'steve': 1, 'samsontuesdaythursday': 1, 'prabhneet': 1, 'hatesh': 1, 'shyantuesdaythursday': 1, 'daljeet': 1, 'jasneet': 1, 'payal': 1, 'thakurtuesdaythursday': 1, 'himanshutuesdaythursday': 1, 'shafalii': 1, 'inakshituesdaythursday': 1, 'harmanpreet': 1, 'virdituesdaythursday': 1, 'adil': 1, 'husain': 1, 'rathartuesdaythursday': 1, 'azhartuesdaythursday': 1, 'kharetuesdaythursday': 1, 'sandeep': 1, 'anamika': 1, 'larhgotratuesdaythursday': 1, 'anup': 1, 'lal': 1, 'yadavtuesdaythursday': 1, 'sourabh': 1, 'bhudhirajatuesdaythursday': 1, 'simrantuesdaythursday': 1, 'ervishav': 1, 'amit': 1, 'jaiswaltuesdaythursday': 1, 'gurpreet': 1, 'shallu': 1, 'ranituesdaythursday': 1, 'neetu': 1, 'balatuesdaythursday': 1, 'rupinder': 1, 'bhatituesdaythursday': 1, 'jyoti': 1, 'chandeltuesdaythursday': 1, 'komaltuesdaythursday': 1, 'afrojrtuesdaythursday': 1, 'jyotituesdaythursday': 1, 'parveen': 1, 'bajajtuesdaythursday': 1, 'chandertuesdaythursday': 1, 'jaspreet': 1, 'grewaltuesdaythursday': 1, 'mehtatuesdaythursday': 1, 'shakti': 1, 'sethituesdaythursday': 1, 'sukhmanpreet': 1, 'monitored': 1, 'notable': 1, 'reached': 1, 'realized': 1, 'goals': 1, 'distant': 1, 'determination': 1, 'prestigious': 1, 'organisation': 1, 'brand': 1, 'achievers': 1, 'accomplished': 1, 'posting': 1, 'month': 1, 'httpsformsglepjdxbjmppoovy': 1, 'night': 1, 'httpsformsgleqyucthewdfjz': 1, 'valueadded': 1, 'value': 1, 'infosys': 1, 'requiredto': 1, 'qualify': 1, 'httpsformsglesdfeqyzzlsgt': 1, 'regn': 1, 'examformnptelacin': 1, 'tentative': 1, 'httpsdocsgooglecomspreadsheetsdepacxvqcbgumaoqfecfsqcjkjlxgjsxjgncjwlhynyajkhxvnkqyffhdsslquhhzhtnmpubhtmlurpgmaillink': 1, 'mahindra': 1, 'comviva': 1, 'amcat': 1, 'httpsformsgleasnyrtdblwiktf': 1, 'detainees': 1, 'httpschatwhatsappcomjxenxhjbvghtulrljsah': 1, 'evry': 1, 'ending': 1, 'qno': 1, 'girls': 1, 'multiple': 1, 'explaining': 1, 'clashing': 1, 'bit': 1, 'strongly': 1, 'generate\\xa0their\\xa0teams': 1, 'approvemake': 1, 'requests': 1, '“the': 1, 'vibe”': 1, '“sur”': 1, 'blocka': 1, 'httpsformsglesrjkftgkqvygr': 1, '“fine': 1, 'arts”': 1, '“kala': 1, 'manch”': 1, 'httpsformsgledxhiqgdcxjaamixa': 1, 'presented': 1, 'alloted': 1, 'digit': 1, 'milton': 1, 'steel': 1, 'bottle': 1, 'mile': 1, 'seat': 1, 'arrived': 1, 'greatly': 1, 'httpsformsglehpcrtcmzgjjms': 1, 'inconvenience': 1, 'convenience': 1, 'version': 1, 'humble': 1, '“benefits': 1, 'exam”': 1, 'eduzphere': 1, '•higher': 1, '•scholarship': 1, 'fellowship': 1, 'psu’s': 1, '•enhanced': 1, '•gate': 1, 'matters': 1, 'foreign': 1, 'phd': 1, 'httpsformsgledyntllypkojr': 1, 'queriesplease': 1, 'csr': 1, 'contributing': 1, 'sustainably': 1, 'buddystudy': 1, 'implementation': 1, 'yearsemester': 1, 'family': 1, 'income': 1, 'equal': 1, 'sources': 1, 'purely': 1, 'ashraf': 1, 'projectcsecumailin': 1, 'lostfound': 1, 'lost': 1, 'rakshabandhan': 1, 'chutti': 1, 'feilds': 1, 'remarks': 1, 'progress': 1, 'surbhi': 1, 'advisor': 1, 'broad': 1, 'commercial': 1, 'tuesdaythursday': 1, 'intoduction': 1, 'ear': 1, 'pods': 1, 'branding': 1, 'bites': 1, 'purposes': 1, 'uidname': 1, 'httpsformsglembadumchcwggka': 1, 'cseth\\xa0year': 1, 'qualification': 1, 'grad': 1, 'bsba': 1, 'math': 1, 'springsummer': 1, 'relevant': 1, 'curious': 1, 'motivated': 1, 'communicator': 1, 'concise': 1, 'coursework': 1, 'structures': 1, 'algorithms': 1, 'debugging': 1, 'bonus': 1, 'you’ve': 1, 'languages': 1, 'kotlin': 1, 'javascript': 1, 'typescript': 1, 'python': 1, 'ruby': 1, 'rust': 1, 'you’re': 1, 'modern': 1, 'strong': 1, 'we’re': 1, 'widely': 1, 'complex': 1, 'elegantly': 1, 'scalable': 1, 'architecture': 1, 'highquality': 1, 'performant': 1, 'industrystandard': 1, 'closely': 1, 'stakeholders': 1, 'fastpaced': 1, 'uis': 1, 'intuitive': 1, 'surface': 1, 'range': 1, 'typically': 1, 'httpsjobsnetflixcomjobs': 1, 'httpsformsgleybrpqwecktiwha': 1, 'ranabcs': 1, 'kshitizbcs': 1, 'vermabcs': 1, 'rohan': 1, 'bedibcs': 1, 'diff': 1, 'clges': 1, 'informing': 1, 'httpsgoldmansachstalnetvxlangengbmobilebrandusercandidatesopmploppnewanalystnewassociatefulltimerolesengb': 1, 'analyst': 1, 'caught': 1, 'board': 1, 'altered': 1, 'leaves': 1, 'acknowledgment': 1, 'compitations': 1, 'iot': 1, 'hardwarecomputational': 1, 'participated': 1, 'deduction': 1, 'house': 1, 'doubtsqueries': 1, 'visiting': 1, 'answered': 1, 'queriesdoubts': 1, 'sitting': 1, 'wef': 1, 'normal': 1, 'roster': 1, 'hmari': 1, 'save': 1, 'folder\\xa0at\\xa0ur\\xa0pc': 1, 'dehradun': 1, 'httpsisedconforg': 1, 'reqd': 1, 'ictcs': 1, 'httpswwwictcsin': 1, 'ucaptitudemcq': 1, 'mbps': 1, 'webcam': 1, 'streaming': 1, 'smooth': 1, 'fillmandatory': 1, 'uidcuchdin': 1, 'httpsformsglevfxuzuopnjyumot': 1, 'issuesinternet': 1, 'problemhardware': 1, 'reschedulereconduct': 1, 'examinations”': 1, 'labs': 1, 'labslecture': 1, 'invigilator': 1, 'mcqs': 1, 'visible': 1, 'mydatesheet': 1, 'dealt': 1, 'himher': 1, 'classs': 1, 'httpswwwmyamcatcomjobregistrationformiddxcregistration': 1, 'httpsformsglejbdpepjyyhaqy': 1, 'figuring': 1, 'earliest': 1, 'bound': 1, 'alternate': 1, 'space': 1, 'advisable': 1, 'helpful': 1, 'understands': 1, 'httpsformsglegtpjjnwceqhcbpo': 1, 'uilah': 1, 'presents': 1, '‘through': 1, 'spontaneity': 1, 'reformed': 1, 'ourselves’': 1, 'evaluates': 1, 'reflection': 1, 'variety': 1, 'confidence': 1, 'accurately': 1, 'extempore': 1, 'medium': 1, 'speechenglish': 1, 'onward': 1, 'delivery': 1, 'httpsformsglezsrdkvpmgqruzbr': 1, 'meaningful': 1, 'speak': 1, 'usage': 1, 'unparliamentary': 1, 'exceeding': 1, 'aid': 1, 'cue': 1, 'slips': 1, 'scribbling': 1, 'palm': 1, 'arm': 1, 'electronic': 1, 'device': 1, 'decisions': 1, 'judges': 1, 'binding': 1, 'immense': 1, 'possess': 1, 'resounding': 1, 'reaching': 1, 'involvement': 1, 'intradepartment': 1, 'intra': 1, 'attachments': 1, 'nurturing': 1, 'representatives': 1, 'wellprepared': 1, 'helpline': 1, 'ankit': 1, 'deducted': 1, 'incomplete': 1, 'ppts': 1, 'artificial': 1, 'enabled': 1, 'businesses': 1, 'sweta': 1, 'dixit': 1, 'geetha': 1, 'subramaniam': 1, 'scrivener': 1, 'wiley': 1, 'httpsformsgletzpgujgtwrubkk': 1, 'teachers💐🎂': 1, 'decorate': 1, 'inspection': 1, 'haar': 1, 'collected': 1, 'credentials': 1, 'dues': 1, 'loan': 1, 'reflected': 1, 'depending': 1, 'whichll': 1, 'circulated': 1, 'allocating': 1, '“strategy': 1, 'pocds”': 1, 'ibs': 1, 'commission': 1, 'graduate': 1, 'clearing': 1, 'defense': 1, 'probationary': 1, 'httpsformsgleswufibkucplv': 1, 'rupiya': 1, 'milega': 1, 'bhe': 1, 'dua': 1, 'jaaye': 1, 'bhool': 1, 'jao': 1, 'tbb': 1, 'httpsdocsgooglecomformsdefaipqlsemmbsotwsajijulkjdjbifulhzmeviixmxmwviewformuspsflink': 1, 'httpsformsglehdkewhajthfqqtf': 1, 'inputs': 1, 'httpswwwlinkedincompostsugcindiareadugcletterregardingparticipationactivityoplutmsourceshareutmmediummemberandroid': 1, 'httpswwwmygovintaskjoinchandrayaanmahaquizmygovwinuptorslakh': 1, 'minute': 1, 'goi': 1, 'developed': 1, 'concept': 1, 'rich': 1, 'forum': 1, 'harmony': 1, 'interchange': 1, 'regions': 1, 'religions': 1, 'established': 1, 'intention': 1, 'youth': 1, 'artistic': 1, 'pursuits': 1, 'fostering': 1, 'integration': 1, 'weve': 1, 'clubs': 1, 'continents': 1, 'institution': 1, 'highlight': 1, 'cultures': 1, 'ethnic': 1, 'interstatecountry': 1, 'attaching': 1, 'continent': 1, 'httpstinyurlcomycyy': 1, 'continental': 1, 'httpstinyurlcomzrvjpx': 1, 'codekaze': 1, 'biggest': 1, 'proudly': 1, 'ninjas': 1, 'powered': 1, 'naukricom': 1, 'premier': 1, 'celebrated': 1, 'naukri': 1, 'bridge': 1, 'gap': 1, 'visionary': 1, 'enterprises': 1, 'httpstinyurlcomdufyps': 1, 'waiting': 1, 'finals': 1, 'revolution': 1, 'brochure': 1, 'tekathontech': 1, 'website': 1, 'proud': 1, 'hack': 1, 'smarter': 1, '🇮🇳💻': 1, 'curepresent': 1, 'httpsformsglexycngeerqhcwedb': 1, 'astros': 1, 'championship': 1, 'debateoriented': 1, 'discuss': 1, 'agendas': 1, '✈☄🚀': 1, 'httpsformsglehsdiobbpyyjezgm': 1, 'sabre': 1, 'travel': 1, 'specialized': 1, 'facilitate': 1, 'achieve': 1, 'snosession': 1, 'typesession': 1, 'timeroomblocksession': 1, 'datesession': 1, 'pmcseptuesday': 1, 'pmcsepwednesday': 1, 'pmcsepthursday': 1, 'httpsdocsgooglecomformsdnkwoedkarllbielpxxfbfogwtjausrrprnlvedit': 1, 'httpsbitlyiyaward': 1, 'httpsbitlyrtyaward': 1, 'researcher': 1, 'httpsbitlyyeyaward': 1, 'entrepreneur': 1, 'clarification': 1, 'society': 1, 'luminary': 1, 'june': 1, 'httpsformsgleajelwcmpywada': 1, 'description': 1, 'includes': 1, 'orally': 1, 'clue': 1, 'destination': 1, 'similarly': 1, 'moving': 1, 'whichever': 1, 'decodes': 1, 'saturdays': 1, 'tarandeep': 1, 'elevate': 1, 'game': 1, 'prowess': 1, 'refine': 1, 'skilldevelopment': 1, 'hey': 1, 'debaters': 1, 'heres': 1, 'news': 1, 'ambitious': 1, 'enjoy': 1, 'granted': 1, 'preduty': 1, 'grab': 1, 'enhancement': 1, 'readiness': 1, 'httpsformsglejvqpcqpkwqsbsxb': 1, 'dhawanbcs': 1, 'sharmabcs': 1, 'rumble': 1, 'noclass': 1, 'nameroom': 1, 'noblocktimingclass': 1, 'bcslabc': 1, 'fresh': 1, 'httpsformsgleypncabbhqkkku': 1, 'doubled': 1, 'incentives': 1, 'impact': 1, 'factor': 1, 'journals': 1, 'belong': 1, 'desired': 1, 'spark': 1, 'frameworks': 1, 'micro': 1, 'demanded': 1, 'httpsformsglegrarmtsttoyhqa': 1, 'tuesdayth': 1, 'thursdayth': 1, 'entire': 1, 'httpsformsgleoaggdahcfipeui': 1, 'inter': 1, 'sports': 1, 'httpswwwcourseraorgprogramschandigarhuniversityfacultylearningprogrampiplearnbusinessintelligencetools': 1, 'httpsformsglekfhqtgrcpcwb': 1, 'disseminate': 1, 'loss': 1, 'circumstances': 1, 'delete': 1, 'lose': 1, 'activation': 1, 'material': 1, 'obtain': 1, 'communicating': 1, 'critical': 1, 'purview': 1, 'actions': 1, 'deletion': 1, 'encounter': 1, 'httpsformsglelszismasdksvcd': 1, 'blockchainenabled': 1, 'tata': 1, 'consultancy': 1, 'uie': 1, 'commerce': 1, 'freshers': 1, 'fuel': 1, 'organization': 1, 'exceptional': 1, 'performers': 1, 'tcs’': 1, 'fastest': 1, 'growing': 1, 'amplify': 1, 'yop': 1, 'verificationpersonal': 1, 'importantmandatory': 1, 'birth': 1, 'correctly': 1, 'candidature': 1, '‘bps’': 1, 'preview': 1, 'recommended': 1, 'seamless': 1, '‘tcs': 1, 'ion': 1, 'provider’': 1, 'unauthorised': 1, 'gmail': 1, 'rediff': 1, 'yahoo': 1, 'hotmail': 1, 'money': 1, 'agency': 1, 'behalf': 1, 'httpswwwtcscomcareersindiatcsbpsfresherhiring': 1, 'httpsformsgleeacthpogrduex': 1, 'hoday': 1, 'calling': 1, '🏆🧠🤓': 1, 'httpsdocsgooglecomformsdefaipqlscfpnadgpyyjkccwfnahlpswmuqydqgdmzsziqps': 1, 'bunaviewform': 1, 'httpsformsgleoshusyhyjyosj': 1, 'httpsdocsgooglecomformsdefaipqlscfpnadgpyyjkccwfnahlpswmuqydqgdmzsziqpsaviewform': 1, 'sectionsgroups': 1, 'confiscated': 1, 'returned': 1, '“mba': 1, 'gre”': 1, 'elite': 1, 'bschools': 1, 'ankur': 1, 'grover': 1, 'httpsformsglekvjufgvjdndyz': 1, 'httpsformsglewwkqsytkfgycya': 1, 'roam': 1, 'httpsdocsgooglecomspreadsheetsdvpbpdeyoiwufndgdjjdtqwmwkebyreuobiedituspsharing': 1, 'acos': 1, 'lock': 1, 'charge': 1, 'aana': 1, 'padega': 1, 'changedthat': 1, 'shortlyyou': 1, 'specify': 1, 'havet': 1, 'laptops': 1, 'enlighten': 1, 'sheetthey': 1, 'estimated': 1, 'ward': 1, 'techthon': 1, 'sheets': 1, 'pmthanks': 1, 'defferent': 1, 'packets': 1, 'divya': 1, 'texted': 1, 'tao': 1, 'dekhaye': 1, 'zada': 1, 'akar': 1, 'absent\\u2068apsingh\\u2069': 1, 'talks': 1, 'nayi': 1, 'tareekh': 1, 'jati': 1, 'abi': 1, 'aankhe': 1, 'kholke': 1, 'deekho': 1, 'meh': 1, 'yaar': 1, 'krva': 1, 'vlo': 1, 'adjust': 1, 'glt': 1, 'yhi': 1, 'firse': 1, 'sach': 1, 'bolne': 1, 'himmat': 1, 'rakhte': 1, 'counseling': 1, 'ho😂': 1, 'attended': 1, 'decorum': 1, 'checking': 1, 'ieeecu': 1, 'association': 1, 'aicindian': 1, 'tricity': 1, 'edition': 1, 'accelerating': 1, 'aspiring': 1, 'budding': 1, 'thrive': 1, 'grow': 1, 'specifically': 1, 'background': 1, 'innovators': 1, 'verticals': 1, 'unparalleled': 1, 'iventureisb': 1, 'aspirants': 1, 'interest': 1, 'formhttpsformsglesnmbwjykjrseuy': 1, 'immerse': 1, 'buzzing': 1, 'transform': 1, 'advance': 1, 'founders': 1, 'crucial': 1, 'aspects': 1, 'ideation': 1, 'penetration': 1, 'pitching': 1, 'mock': 1, 'constructive': 1, 'compelling': 1, 'captivates': 1, 'angel': 1, 'venture': 1, 'capital': 1, 'firms': 1, 'crowdfunding': 1, 'platforms': 1, 'deeper': 1, 'reshaping': 1, 'discover': 1, 'innovations': 1, 'edge': 1, 'httpsiventureorgteptricityedition': 1, 'dreams': 1, 'groundbreaking': 1, 'simply': 1, 'passion': 1, 'equip': 1, 'tailormade': 1, 'exhilarating': 1, 'turning': 1, 'reality': 1, 'prof': 1, 'nilesh': 1, 'wwwcuchdin': 1, 'fcfs': 1, 'aniket': 1, 'dedo': 1, 'companydata': 1, 'nil': 1, 'httpstinyurlcomchmze': 1, 'httpsformsgleuqebjegegrg': 1, 'httpswwwigiglobalcompublishcallforpaperssearchdtbookchapterspg': 1, 'ieee': 1, 'httpsconferencesieeeorgconferenceseventsconferencessearchqindiavirtualflagbvirtualconfreadonlyn': 1, 'forced': 1, 'heavy': 1, 'failed': 1, 'plagiarised': 1, 'httpstelegrammelghznwwleotg': 1, 'cocurricular': 1, 'calle': 1, 'milegi': 1, 'httpsformsgletsorhwpcsvdbo': 1, 'cseto': 1, 'city': 1, 'purpose': 1, 'contribute': 1, 'promoting': 1, 'cleanliness': 1, 'citizens': 1, 'httpsformsgletmubgbsdckcyv': 1, 'prority': 1, 'imprtant': 1, 'notedear': 1, 'swachhata': 1, 'seva': 1, 'reap': 1, 'httpsformsglehjuqndnbfamjg': 1, 'imobilothon': 1, 'whats': 1, '•cash': 1, '•preplacement': 1, 'ppi': 1, 'sde': 1, '•ecertificates': 1, 'integrated': 1, 'dual': 1, 'unstop': 1, 'formerly': 1, 'darecompete': 1, 'thumbsup': 1, 'reaction': 1, 'maams': 1, 'lucky': 1, 'up😀': 1, 'httpsyoutubecomshortsvingeypusijlcazgtczloypjkj': 1, 'pyare': 1, 'done👍': 1, 'supervision': 1, 'invitation': 1, '“disaster': 1, 'techniques”': 1, 'mahatma': 1, 'gandhi': 1, 'administration': 1, 'institutional': 1, 'overview': 1, 'enhancing': 1, 'resiliencebuilding': 1, 'latest': 1, 'ndma': 1, 'nidm': 1, 'ecertificate': 1, 'httpsdocsgooglecomformsdefaipqlscbzdxxpergvukbdqqkctwrtrgkqpynaysxdihrhaviewformuspsflink': 1, 'jvm': 1, 'deveop': 1, 'aspiretothenewcom': 1, 'tracker': 1, 'youno': 1, 'shortlist': 1, 'aiml': 1, 'neplcoursera': 1, 'timelines': 1, 'exists': 1, 'incognito': 1, 'mins': 1, 'notebooks': 1, 'return': 1, 'harjeet': 1, 'spectacles': 1, 'revert': 1, 'farsightedness': 1, 'studentsfaculty': 1, 'share\\xa0info\\xa0option\\xa0in': 1, 'juloct': 1, 'google\\xa0form\\xa0link\\xa0': 1, 'httpsformsglebvjyvsjpkuopv': 1, 'freeze': 1, 'ratings': 1, 'juldec': 1, 'tuesday': 1, 'gps': 1, 'words': 1, 'conact': 1, 'opened': 1, 'provc': 1, 'accompany': 1, 'num': 1, 'trailing': 1, 'scopusindexed': 1, 'instead': 1, 'papers': 1, 'reimburse': 1, 'okayy': 1, 'keynote': 1, 'microsot': 1, 'leader': 1, 'actionable': 1, 'advice': 1, 'observe': 1, 'challenging': 1, 'thoughtprovoking': 1, 'microosft': 1, 'avalable': 1, 'httpstinyurlcomcbhzm': 1, 'httpsformsglednigfzmrtgb': 1, 'httpsmicrosoftrecsolucomappcollecteventpisherwzywhzhqka': 1, 'releasing': 1, 'disciplinary': 1, 'bar': 1, 'toggle': 1, 'cuvcf': 1, 'circular': 1, 'credit': 1, 'bsccs': 1, 'apprised': 1, 'subjectwise': 1, 'route': 1, 'separate': 1, 'detainee': 1, 'providedcirculated': 1, 'appeal': 1, 'exemption': 1, 'clusters': 1, 'contents': 1, 'loose': 1, 'postponed': 1, 'serve': 1, 'cornerstone': 1, 'delving': 1, 'crafting': 1, 'aesthetically': 1, 'pleasing': 1, 'elements': 1, 'products': 1, 'context': 1, 'immersive': 1, 'structured': 1, 'methodology': 1, 'ensures': 1, 'aesthetics': 1, 'prioritizing': 1, 'functionality': 1, 'honed': 1, 'visually': 1, 'appealing': 1, 'centered': 1, 'output': 1, 'equipped': 1, 'powerful': 1, 'captivate': 1, 'deeply': 1, 'resonate': 1, 'intended': 1, 'audience': 1, 'utilize': 1, 'attained': 1, 'panelist': 1, 'chaos': 1, 'blocks': 1, 'bodysociety': 1, 'mentorships': 1, 'httpsdocsgooglecomformsdefaipqlscbeixupufqzluihnxcwfrchiafwbfkzwpfhduwoueaviewformuspsflink': 1, 'pass…': 1, 'aajke': 1, 'hore': 1, 'shortlistedeligible': 1, 'universitycollege': 1, 'branchstream': 1, 'percentage': 1, 'patiently': 1, 'operations': 1, 'usual': 1, 'httpsformsglefinyfpgkdgnf': 1, 'improvement': 1, 'tough': 1, 'prementioned': 1, 'instantly': 1, 'minimized': 1, 'ignored': 1, 'unanswered': 1, 'prefinal': 1, 'summary': 1, 'roundstart': 1, 'presentationstart': 1, 'thetop': 1, 'httpsformsglerrrpmzvgcsfenctr': 1, 'httpsformsgledqnqcqdagvovmuzr': 1, 'abhijeet': 1, 'spreadsheet': 1, 'bharo': 1, 'disqualified': 1, 'bta': 1, 'daalna': 1, 'jaega': 1, 'kaam': 1, 'saamne': 1, 'behan': 1, 'colleagues': 1, 'eds': 1, 'disturb': 1, 'clothes': 1, 'wednesdays': 1, 'decent': 1, 'hoping': 1, 'cybersecurity': 1, 'onboard': 1, 'csi': 1, 'cusb': 1, 'recover': 1, 'malicious': 1, 'attacks': 1, 'phases': 1, 'lot': 1, 'place📍': 1, 'more😳': 1, 'lakh': 1, 'mementoes': 1, 'sponsors🥳🥳': 1, '₹member': 1, 'coupon': 1, 'register\\xa0here\\xa0': 1, 'httpsunstopcomhackathonsesurakshachandigarhuniversitycupunjab': 1, 'radhika': 1, 'rungta': 1, 'tanmay': 1, 'toshniwal': 1, 'suspended': 1, 'pmtoday': 1, 'ranjanbcs': 1, 'shresthbcs': 1, 'asmit': 1, 'choudharybcs': 1, 'kapoorbcs': 1, 'singhbcs': 1, 'adhikaribcs': 1, 'parshadbcs': 1, 'uids': 1, 'mei': 1, 'lists': 1, 'invorrect': 1, '“productivity': 1, 'accident': 1, 'excellence': 1, 'intelligent': 1, 'focused': 1, 'effort”': 1, 'unlocking': 1, 'you’ll': 1, 'depth': 1, 'functionalities': 1, 'ampm': 1, 'pmpm': 1, 'amazing': 1, 'studentsthe': 1, 'priyanshu': 1, 'sood': 1, 'httpsdocsgooglecomspreadsheetsdebymjreghbcbhcbyhtxsyccgjgjzqtbopdeacedituspdrivesdk': 1, 'scan': 1, 'mentoring': 1, 'cell': 1, 'aegis': 1, 'welfare': 1, 'potentiala': 1, 'workshopdesigned': 1, 'studentsdetainee': 1, 'levelthe': 1, 'organisational': 1, 'setting': 1, 'motivation': 1, 'coping': 1, 'stress': 1, 'selfcare': 1, 'helps': 1, 'reengage': 1, 'studies': 1, 'effectively': 1, 'httpsdocsgooglecomspreadsheetsduttmdzbeaaytcxlvrxyqhgfoetifclqpffxccedituspsharing': 1, 'significant': 1, 'undertaken': 1, 'honorable': 1, 'prime': 1, 'minister': 1, 'shri': 1, 'narendra': 1, 'modi': 1, 'aspires': 1, 'crore': 1, 'showcasing': 1, 'history': 1, 'spacecraft': 1, 'land': 1, 'moons': 1, 'south': 1, 'pole': 1, 'introduced': 1, 'implore': 1, 'hands': 1, 'heads': 1, 'httpsisroquizmygovin': 1, 'udise': 1, 'numberuafter': 1, 'started': 1, 'httpsformsglexaubrbxqjqqyxyd': 1, 'awards': 1, 'government': 1, 'topperforming': 1, 'widespread': 1, 'spare': 1, 'officially': 1, 'earnestly': 1, 'intricacies': 1, 'countrys': 1, 'compulsary': 1, 'recent': 1, 'bolke': 1, 'lagenge': 1, 'publish': 1, 'httpsformsglevyofhgbgkjcsvf': 1, 'authories': 1, 'whove': 1, 'testquizpractical': 1, 'worry': 1, 'updating': 1, 'rno': 1, 'headouts': 1, 'life': 1, 'fun': 1, 'interesting': 1, 'backgrounds': 1, 'raw': 1, 'female': 1, 'nonbinary': 1, 'developer': 1, 'wed': 1, 'httpshackoutdevfolioco': 1, 'runs': 1, 'kharagpur': 1, 'farwhat': 1, 'hotel': 1, 'pricing': 1, 'maximize': 1, 'revenue': 1, 'utilized': 1, 'determine': 1, 'optimal': 1, 'factors': 1, 'demand': 1, 'seasonality': 1, 'competitor': 1, 'analysis': 1, 'describe': 1, 'indicators': 1, 'generating': 1, 'sas': 1, 'studio': 1, 'reminderswarnings': 1, 'httpsformsglenxvybqebpqfik': 1, 'httpsdocsgooglecomspreadsheetsddugldtwnulmtunqcagajhtdmidcqeditresourcekeygid': 1, 'descrepecy': 1, 'shows': 1, 'power': 1, 'tvta': 1, 'bca': 1, 'bse': 1, 'likeminded': 1, 'academics': 1, 'shape': 1, 'button': 1, 'httpswebaltaircomdatasciencedayutmcampaigncorpgapaltairdatasciencedayutmmediumemailhsmihsencpanqtzohfmupfjjgdauvqdmhtssoaacdiadmlhlbeqmeuedltijbyfbyjbosafrumvvquxiqiautmcontentutmsourcehsemail': 1, 'stfict': 1, 'techfest': 1, 'loreal': 1, 'unpaid': 1, 'loéal': 1, 'registeration': 1, 'threeday': 1, 'hallchandigarh': 1, 'introdction': 1, 'dfx': 1, 'devlelopment': 1, 'enviornment': 1, 'overviews': 1, 'tuseday': 1, 'introduction': 1, 'motokoiinteracting': 1, 'frontend': 1, 'react': 1, 'deployment': 1, 'redeeming': 1, 'coupons': 1, 'deploying': 1, 'networking': 1, 'intend': 1, 'succeed': 1, 'httpsformsglezpbkcbtwcsjjsa': 1, 'fantastic': 1, 'collaborate': 1, 'peers': 1, 'scenario': 1, 'crewsphereebgmailcom': 1, 'witnessing': 1, 'globe': 1, 'httpssparklekpitcom': 1, 'httpsformsgleawknzfrqeqhmqjkg': 1, 'iicloud': 1, 'bedi': 1, 'httpsformsglesecdczopechfvwaa': 1, 'httpsyoutubejilzjxw': 1, 'stepbystep': 1, 'simranjeet': 1, 'screenshots': 1, 'complusary': 1, 'pbmohe': 1, 'qre': 1, 'httpsformsgleaojjfaehqp': 1, 'hrs': 1, 'marksmode': 1, 'completely': 1, 'small': 1, 'inspire': 1, 'celebrate': 1, 'dedication': 1, 'httpsdocsgooglecomformsdefaipqlsdwnbaxxvrsmgzdzjrxwimzutcxwgsueinokaviewform': 1, 'youd': 1, 'suggestions': 1, 'httpsdocsgooglecomformsdefaipqlscxlvjhztqacglznldwjvtoicskbphlfpfakkwviewform': 1, 'gradei': 1, 'pls': 1, 'courseraunit': 1, 'structurerounds': 1, 'preliminary': 1, 'mcq': 1, 'compulsory': 1, 'initial': 1, 'shortlisting': 1, 'synopsis': 1, 'statements': 1, 'scraping': 1, 'cookieless': 1, 'slider': 1, 'twominute': 1, 'github': 1, 'succinctly': 1, 'team’s': 1, 'lastminute': 1, 'hassle': 1, 'grandfinale': 1, 'onground': 1, 'rategains': 1, 'headquarters': 1, 'competing': 1, 'crowned': 1, 'rategain': 1, 'rangers': 1, 'customized': 1, 'gift': 1, 'hampers': 1, 'httpsunstopcomcompetitionsregisterutmsourcelorealutmmediumplacementcellsrefpaniux': 1, 'httpsformsgleckihjstulcjac': 1, 'deepanshu': 1, 'namekunal': 1, 'urdu': 1, 'punjabi': 1, 'argueathon': 1, 'speakup': 1, 'elocutionspeech': 1, 'anchoring': 1, 'taletrek': 1, 'story': 1, 'telling': 1, 'brain': 1, 'bout': 1, 'inkspot': 1, 'essay': 1, 'httpsformsglegccfvyteqgs': 1, 'anushka': 1, 'tyagi': 1, 'निराशा': 1, 'नकारात्मक': 1, 'ऊर्जा': 1, 'अंधकार': 1, 'दूर': 1, 'स्फूर्ति': 1, 'प्रसन्नता': 1, 'उजियारा': 1, 'पर्व': 1, 'आपके': 1, 'परिवार': 1, 'हार्दिक': 1, 'शुभकामनाएं।': 1, 'वैभव': 1, 'ऐश्वर्य': 1, 'साथ': 1, 'माँ': 1, 'महालक्ष्मी': 1, 'सुख': 1, 'सम्पन्नता': 1, 'स्वास्थ्य': 1, 'हर्षोल्लास': 1, 'प्रदान': 1, 'करें।': 1, 'शुभ': 1, '💐🪔🕉️': 1, '“apply': 1, 'now”': 1, 'httpsformsgleqsuajfymbuzvp': 1, 'bhul': 1, 'esliye': 1, 'likh': 1, 'h😂😂': 1, 'divyanshu': 1, 'donot': 1, 'mithlesh': 1, 'index': 1, 'outputs': 1, 'hardcopy': 1, 'section\\xa0a': 1, 'vikash': 1, 'yadav': 1, 'httpsformsgletvfwrxwuluqiceh': 1, 'httpsformsglezdcgugcoohxta': 1, 'section\\xa0carefully': 1, 'honble': 1, 'engg': 1, 'nonengg': 1, 'httpsformsglesgfbgmpnutkmth': 1, 'sunday': 1, 'undergone': 1, 'wipro': 1, 'softskills': 1, 'additionally': 1, 'uniformformal': 1, 'idcard': 1, 'examiner': 1, 'rescheduling': 1, 'absentees': 1, 'nonperforming': 1, 'additional': 1, 'logo': 1, 'bro🥲': 1, 'bhjdo': 1, 'sariya': 1, 'eecaelo': 1, 'befour': 1, 'quizzes': 1, 'reopen': 1, 'contact\\xa0me\\xa0personally': 1, 'invit': 1, 'conversations': 1, 'snd': 1, 'schedcule': 1, 'cseit\\xa0': 1, 'examination\\xa0': 1, 'thth': 1, 'semi': 1, 'sectionwise': 1, 'addition': 1, 'irrespective': 1, 'aco': 1, 'monitor': 1, 'emergency': 1, 'movement': 1, 'starts': 1, 'scholars': 1, 'difficult': 1, 'sudden': 1, 'raise': 1, 'authorities': 1, 'mridul': 1, 'gaurang': 1, 'binani': 1, 'akshat': 1, 'pranab': 1, 'shikarwar': 1, 'krisna': 1, 'lovepreet': 1, 'prerna': 1, 'ayushi': 1, 'locked': 1, 'firrst': 1, 'year👆👆': 1, 'vivaunder': 1, 'total': 1, 'jada': 1, 'okk': 1, 'baigan': 1, 'kardo': 1, 'rectification': 1, 'boldo': 1, 'krle': 1, 'warning': 1, 'claiming': 1, 'shifting': 1, 'ntpp': 1, 'hcltfp': 1, 'removing': 1, 'notifications': 1, 'emails': 1, 'revoked': 1, 'put': 1, 'defaulter': 1, 'esska': 1, 'dubara': 1, 'actual': 1, 'comfort': 1, 'listen': 1, 'receiving': 1, 'replying': 1, 'quizzesst': 1, 'messaging': 1, 'agree': 1, 'markes': 1, 'krenge': 1, 'switched': 1, 'batana': 1, 'adversely': 1, 'evaluate': 1, 'grading': 1, 'ultimately': 1, 'easily': 1, 'subeeca': 1, 'score': 1, 'tumhe': 1, 'kre': 1, 'hein': 1, 'meine': 1, 'classgrp': 1, 'rectify': 1, 'jangir': 1, 'charan': 1, 'hogya': 1, 'useless': 1, 'assignmentquizst': 1, 'httpsformsglejkoecdpyugehoas': 1, 'apptiv': 1, 'respond': 1, 'increasing': 1, 'humari': 1, 'bhjna': 1, 'contentfont': 1, 'sizefont': 1, 'languagenational': 1, 'references': 1, 'bind': 1, 'blacksilver': 1, 'silver': 1, 'bhej': 1, 'files': 1, 'httpsdocsgooglecomspreadsheetsdlkelmokkacysychkkbonysffqcawpotpkuloimkedituspsharing': 1, 'motivate': 1, 'line': 1, 'facilitating': 1, 'placementready': 1, 'aptiv': 1, 'pdf': 1, 'totally': 1, 'numericals': 1, 'misses': 1, 'oreta': 1, 'transport': 1, 'landran': 1, 'parking': 1, 'bet': 1, 'saini': 1, 'betvishal': 1, 'betmaneet': 1, 'kour': 1, 'betdhanoj': 1, 'bettushar': 1, 'anyones': 1, 'propotinate': 1, 'ecolab': 1, 'httpswwweenetworkscomblogwhatarescaleoutvsscaleuptechniquesforcloudperformanceandproductivity': 1, 'friends': 1, 'containing': 1, 'realme': 1, 'driving': 1, 'voter': 1, 'hpblack': 1, 'blue': 1, 'lining': 1, 'contacts': 1, 'finding': 1, 'choosing': 1, 'httpsformsglepqdsfucdyttcfzr': 1, 'disabled': 1, 'farits': 1, 'monthkindly': 1, 'reconsider': 1, 'bcsgovind': 1, 'thankyou': 1, 'ppr': 1, 'handled': 1, 'governance': 1, 'grade': 1, 'records': 1, 'randomly': 1, 'highlighted': 1, 'green': 1, 'local': 1, '“yes”': 1, 'involved': 1, 'unfair': 1, 'novemberdecember': 1, 'cpum': 1, 'nosrno': 1, 'datevenue': 1, 'registrar': 1, 'hodprincipals': 1, 'offcampus': 1, 'stipend': 1, 'internshipjob': 1, 'affidevit': 1, 'callmessage': 1, 'parentguardian': 1, 'sendersreceivers': 1, 'affidavitfor': 1, 'walia': 1, 'sachin': 1, 'ahuja': 1, 'narula': 1, 'divneet': 1, 'emailwhatsapp': 1, 'proceeding': 1, 'vide': 1, 'ref': 1, 'nocur': 1, 'jan': 1, 'winning': 1, 'camp': 1, 'institutes': 1, 'phased': 1, 'annexurei': 1, 'leet': 1, 'registerreport': 1, 'httpnextsteptcscomcampus': 1, 'httpsformsgleplnujbjjvcxzr': 1, 'released': 1})\n"
     ]
    },
    {
     "data": {
      "text/plain": [
       "([2020, 2021, 2022, 2023, 2024, 2025],\n",
       " ['No specific discussion',\n",
       "  'No specific discussion',\n",
       "  'No specific discussion',\n",
       "  [['No specific discussion'],\n",
       "   ['No specific discussion'],\n",
       "   ['No specific discussion']],\n",
       "  'No specific discussion',\n",
       "  'No specific discussion'])"
      ]
     },
     "execution_count": 310,
     "metadata": {},
     "output_type": "execute_result"
    }
   ],
   "source": [
    "chat_details = without_notifications.copy()\n",
    "\n",
    "year_wise_most_frequent_word(chat_details,2020,2025)"
   ]
  },
  {
   "cell_type": "code",
   "execution_count": 92,
   "metadata": {},
   "outputs": [],
   "source": [
    "# # I largely keep the codes and comments the same as the original answer, with the modification highlighted under '#######'\n",
    "# import plotly.express as px\n",
    "# import plotly.subplots as sp\n",
    "\n",
    "# # Create figures in Express\n",
    "\n",
    "# traces = []\n",
    "\n",
    "# for idx,figure in enumerate(figures):\n",
    "\n",
    "#     figure_trace = []\n",
    "\n",
    "#     for trace in range(len(figure[\"data\"])):\n",
    "\n",
    "#         # if idx==0:\n",
    "#         #     figure[\"data\"][trace]['showlegend'] = False\n",
    "\n",
    "#         figure_trace.append(figure[\"data\"][trace])\n",
    "#         # figure[\"data\"][trace]['showlegend'] = False \n",
    "\n",
    "#     traces.append(figure_trace)    \n",
    "\n",
    "\n",
    "\n",
    "   \n",
    "# # Create a 1x2 subplot\n",
    "# this_figure = sp.make_subplots(rows = 1, cols = len(traces), subplot_titles = ['', 'Line'])\n",
    "# this_figure.update_layout(height = 500, width = 2500, title_text = \"User timelines\", title_font_size = 25)\n",
    "\n",
    "# # Get the Express fig broken down as traces and add the traces to the proper plot within the subplot\n",
    "\n",
    "# for idx,figure_traces in enumerate(traces):\n",
    "\n",
    "#     for trace in figure_traces:\n",
    "#         this_figure.append_trace(trace, row = 1, col = idx+1)\n",
    "\n",
    "\n",
    "    \n",
    "# this_figure.show()"
   ]
  },
  {
   "cell_type": "markdown",
   "id": "5caeeabf",
   "metadata": {},
   "source": [
    "# Converting raw data into Data frame"
   ]
  },
  {
   "cell_type": "code",
   "execution_count": null,
   "id": "b5ebc86d",
   "metadata": {},
   "outputs": [
    {
     "data": {
      "text/html": [
       "<div>\n",
       "<style scoped>\n",
       "    .dataframe tbody tr th:only-of-type {\n",
       "        vertical-align: middle;\n",
       "    }\n",
       "\n",
       "    .dataframe tbody tr th {\n",
       "        vertical-align: top;\n",
       "    }\n",
       "\n",
       "    .dataframe thead th {\n",
       "        text-align: right;\n",
       "    }\n",
       "</style>\n",
       "<table border=\"1\" class=\"dataframe\">\n",
       "  <thead>\n",
       "    <tr style=\"text-align: right;\">\n",
       "      <th>periods</th>\n",
       "      <th>00-01</th>\n",
       "      <th>10-11</th>\n",
       "      <th>11-12</th>\n",
       "      <th>13-14</th>\n",
       "      <th>14-15</th>\n",
       "      <th>15-16</th>\n",
       "      <th>16-17</th>\n",
       "      <th>17-18</th>\n",
       "      <th>18-19</th>\n",
       "      <th>19-20</th>\n",
       "      <th>20-21</th>\n",
       "      <th>21-22</th>\n",
       "      <th>22-23</th>\n",
       "      <th>23-00</th>\n",
       "      <th>9-10</th>\n",
       "    </tr>\n",
       "    <tr>\n",
       "      <th>Day name</th>\n",
       "      <th></th>\n",
       "      <th></th>\n",
       "      <th></th>\n",
       "      <th></th>\n",
       "      <th></th>\n",
       "      <th></th>\n",
       "      <th></th>\n",
       "      <th></th>\n",
       "      <th></th>\n",
       "      <th></th>\n",
       "      <th></th>\n",
       "      <th></th>\n",
       "      <th></th>\n",
       "      <th></th>\n",
       "      <th></th>\n",
       "    </tr>\n",
       "  </thead>\n",
       "  <tbody>\n",
       "    <tr>\n",
       "      <th>Friday</th>\n",
       "      <td>0.0</td>\n",
       "      <td>0.0</td>\n",
       "      <td>0.0</td>\n",
       "      <td>0.0</td>\n",
       "      <td>3.0</td>\n",
       "      <td>0.0</td>\n",
       "      <td>0.0</td>\n",
       "      <td>0.0</td>\n",
       "      <td>0.0</td>\n",
       "      <td>0.0</td>\n",
       "      <td>0.0</td>\n",
       "      <td>1.0</td>\n",
       "      <td>0.0</td>\n",
       "      <td>0.0</td>\n",
       "      <td>0.0</td>\n",
       "    </tr>\n",
       "    <tr>\n",
       "      <th>Monday</th>\n",
       "      <td>0.0</td>\n",
       "      <td>0.0</td>\n",
       "      <td>3.0</td>\n",
       "      <td>0.0</td>\n",
       "      <td>0.0</td>\n",
       "      <td>0.0</td>\n",
       "      <td>0.0</td>\n",
       "      <td>0.0</td>\n",
       "      <td>0.0</td>\n",
       "      <td>0.0</td>\n",
       "      <td>0.0</td>\n",
       "      <td>0.0</td>\n",
       "      <td>0.0</td>\n",
       "      <td>0.0</td>\n",
       "      <td>0.0</td>\n",
       "    </tr>\n",
       "    <tr>\n",
       "      <th>Saturday</th>\n",
       "      <td>0.0</td>\n",
       "      <td>1.0</td>\n",
       "      <td>0.0</td>\n",
       "      <td>1.0</td>\n",
       "      <td>0.0</td>\n",
       "      <td>0.0</td>\n",
       "      <td>0.0</td>\n",
       "      <td>0.0</td>\n",
       "      <td>0.0</td>\n",
       "      <td>0.0</td>\n",
       "      <td>0.0</td>\n",
       "      <td>0.0</td>\n",
       "      <td>0.0</td>\n",
       "      <td>0.0</td>\n",
       "      <td>0.0</td>\n",
       "    </tr>\n",
       "    <tr>\n",
       "      <th>Sunday</th>\n",
       "      <td>0.0</td>\n",
       "      <td>0.0</td>\n",
       "      <td>0.0</td>\n",
       "      <td>0.0</td>\n",
       "      <td>0.0</td>\n",
       "      <td>0.0</td>\n",
       "      <td>0.0</td>\n",
       "      <td>0.0</td>\n",
       "      <td>0.0</td>\n",
       "      <td>0.0</td>\n",
       "      <td>0.0</td>\n",
       "      <td>7.0</td>\n",
       "      <td>2.0</td>\n",
       "      <td>0.0</td>\n",
       "      <td>0.0</td>\n",
       "    </tr>\n",
       "    <tr>\n",
       "      <th>Thursday</th>\n",
       "      <td>0.0</td>\n",
       "      <td>0.0</td>\n",
       "      <td>0.0</td>\n",
       "      <td>4.0</td>\n",
       "      <td>0.0</td>\n",
       "      <td>0.0</td>\n",
       "      <td>9.0</td>\n",
       "      <td>0.0</td>\n",
       "      <td>0.0</td>\n",
       "      <td>0.0</td>\n",
       "      <td>0.0</td>\n",
       "      <td>0.0</td>\n",
       "      <td>0.0</td>\n",
       "      <td>0.0</td>\n",
       "      <td>0.0</td>\n",
       "    </tr>\n",
       "    <tr>\n",
       "      <th>Tuesday</th>\n",
       "      <td>1.0</td>\n",
       "      <td>3.0</td>\n",
       "      <td>2.0</td>\n",
       "      <td>0.0</td>\n",
       "      <td>7.0</td>\n",
       "      <td>0.0</td>\n",
       "      <td>0.0</td>\n",
       "      <td>0.0</td>\n",
       "      <td>1.0</td>\n",
       "      <td>1.0</td>\n",
       "      <td>1.0</td>\n",
       "      <td>0.0</td>\n",
       "      <td>0.0</td>\n",
       "      <td>14.0</td>\n",
       "      <td>2.0</td>\n",
       "    </tr>\n",
       "    <tr>\n",
       "      <th>Wednesday</th>\n",
       "      <td>7.0</td>\n",
       "      <td>0.0</td>\n",
       "      <td>11.0</td>\n",
       "      <td>0.0</td>\n",
       "      <td>4.0</td>\n",
       "      <td>4.0</td>\n",
       "      <td>4.0</td>\n",
       "      <td>1.0</td>\n",
       "      <td>0.0</td>\n",
       "      <td>0.0</td>\n",
       "      <td>0.0</td>\n",
       "      <td>0.0</td>\n",
       "      <td>0.0</td>\n",
       "      <td>0.0</td>\n",
       "      <td>0.0</td>\n",
       "    </tr>\n",
       "  </tbody>\n",
       "</table>\n",
       "</div>"
      ],
      "text/plain": [
       "periods    00-01  10-11  11-12  13-14  14-15  15-16  16-17  17-18  18-19  \\\n",
       "Day name                                                                   \n",
       "Friday       0.0    0.0    0.0    0.0    3.0    0.0    0.0    0.0    0.0   \n",
       "Monday       0.0    0.0    3.0    0.0    0.0    0.0    0.0    0.0    0.0   \n",
       "Saturday     0.0    1.0    0.0    1.0    0.0    0.0    0.0    0.0    0.0   \n",
       "Sunday       0.0    0.0    0.0    0.0    0.0    0.0    0.0    0.0    0.0   \n",
       "Thursday     0.0    0.0    0.0    4.0    0.0    0.0    9.0    0.0    0.0   \n",
       "Tuesday      1.0    3.0    2.0    0.0    7.0    0.0    0.0    0.0    1.0   \n",
       "Wednesday    7.0    0.0   11.0    0.0    4.0    4.0    4.0    1.0    0.0   \n",
       "\n",
       "periods    19-20  20-21  21-22  22-23  23-00  9-10  \n",
       "Day name                                            \n",
       "Friday       0.0    0.0    1.0    0.0    0.0   0.0  \n",
       "Monday       0.0    0.0    0.0    0.0    0.0   0.0  \n",
       "Saturday     0.0    0.0    0.0    0.0    0.0   0.0  \n",
       "Sunday       0.0    0.0    7.0    2.0    0.0   0.0  \n",
       "Thursday     0.0    0.0    0.0    0.0    0.0   0.0  \n",
       "Tuesday      1.0    1.0    0.0    0.0   14.0   2.0  \n",
       "Wednesday    0.0    0.0    0.0    0.0    0.0   0.0  "
      ]
     },
     "execution_count": 65,
     "metadata": {},
     "output_type": "execute_result"
    }
   ],
   "source": [
    "# for particular user\n",
    "df = WCA[WCA[\"username\"]=='Aditya Thakur Cu']\n",
    "hourly = df.pivot_table(index='Day name', columns='periods', values='chats', aggfunc='count').fillna(0)\n",
    "hourly"
   ]
  },
  {
   "cell_type": "code",
   "execution_count": null,
   "id": "682c8bf1",
   "metadata": {},
   "outputs": [
    {
     "data": {
      "text/plain": [
       "<AxesSubplot: xlabel='periods', ylabel='Day name'>"
      ]
     },
     "execution_count": 66,
     "metadata": {},
     "output_type": "execute_result"
    },
    {
     "data": {
      "image/png": "[encoded data removed]",
      "text/plain": [
       "<Figure size 864x360 with 2 Axes>"
      ]
     },
     "metadata": {
      "needs_background": "light"
     },
     "output_type": "display_data"
    }
   ],
   "source": [
    "plt.figure(figsize=(12,5))\n",
    "sns.heatmap(hourly)"
   ]
  },
  {
   "cell_type": "code",
   "execution_count": null,
   "id": "6ba5e4f1",
   "metadata": {},
   "outputs": [
    {
     "data": {
      "text/html": [
       "<div>\n",
       "<style scoped>\n",
       "    .dataframe tbody tr th:only-of-type {\n",
       "        vertical-align: middle;\n",
       "    }\n",
       "\n",
       "    .dataframe tbody tr th {\n",
       "        vertical-align: top;\n",
       "    }\n",
       "\n",
       "    .dataframe thead th {\n",
       "        text-align: right;\n",
       "    }\n",
       "</style>\n",
       "<table border=\"1\" class=\"dataframe\">\n",
       "  <thead>\n",
       "    <tr style=\"text-align: right;\">\n",
       "      <th></th>\n",
       "      <th>date</th>\n",
       "      <th>time</th>\n",
       "      <th>username</th>\n",
       "      <th>chats</th>\n",
       "      <th>date_time</th>\n",
       "      <th>Year</th>\n",
       "      <th>Month_name</th>\n",
       "      <th>Month</th>\n",
       "      <th>Day</th>\n",
       "      <th>Hours</th>\n",
       "      <th>Minutes</th>\n",
       "      <th>only_date</th>\n",
       "      <th>Day name</th>\n",
       "      <th>periods</th>\n",
       "    </tr>\n",
       "  </thead>\n",
       "  <tbody>\n",
       "    <tr>\n",
       "      <th>1533</th>\n",
       "      <td>9/18/22</td>\n",
       "      <td>1:31</td>\n",
       "      <td>Rahul Sem 6</td>\n",
       "      <td>https://youtu.be/eo5bmse-Chs</td>\n",
       "      <td>2022-09-18 01:31:00</td>\n",
       "      <td>2022</td>\n",
       "      <td>September</td>\n",
       "      <td>9</td>\n",
       "      <td>18</td>\n",
       "      <td>1</td>\n",
       "      <td>31</td>\n",
       "      <td>2022-09-18</td>\n",
       "      <td>Sunday</td>\n",
       "      <td>01-02</td>\n",
       "    </tr>\n",
       "    <tr>\n",
       "      <th>1534</th>\n",
       "      <td>9/18/22</td>\n",
       "      <td>1:42</td>\n",
       "      <td>Rahul Sem 6</td>\n",
       "      <td>https://youtu.be/fqfUwFmEbJU</td>\n",
       "      <td>2022-09-18 01:42:00</td>\n",
       "      <td>2022</td>\n",
       "      <td>September</td>\n",
       "      <td>9</td>\n",
       "      <td>18</td>\n",
       "      <td>1</td>\n",
       "      <td>42</td>\n",
       "      <td>2022-09-18</td>\n",
       "      <td>Sunday</td>\n",
       "      <td>01-02</td>\n",
       "    </tr>\n",
       "    <tr>\n",
       "      <th>1535</th>\n",
       "      <td>9/18/22</td>\n",
       "      <td>2:03</td>\n",
       "      <td>+91 79090 27850</td>\n",
       "      <td>69 signatures are still needed, can you add yo...</td>\n",
       "      <td>2022-09-18 02:03:00</td>\n",
       "      <td>2022</td>\n",
       "      <td>September</td>\n",
       "      <td>9</td>\n",
       "      <td>18</td>\n",
       "      <td>2</td>\n",
       "      <td>3</td>\n",
       "      <td>2022-09-18</td>\n",
       "      <td>Sunday</td>\n",
       "      <td>02-03</td>\n",
       "    </tr>\n",
       "    <tr>\n",
       "      <th>1536</th>\n",
       "      <td>9/18/22</td>\n",
       "      <td>7:45</td>\n",
       "      <td>+91 97791 17726</td>\n",
       "      <td>https://twitter.com/MirrorNow/status/157131591...</td>\n",
       "      <td>2022-09-18 07:45:00</td>\n",
       "      <td>2022</td>\n",
       "      <td>September</td>\n",
       "      <td>9</td>\n",
       "      <td>18</td>\n",
       "      <td>7</td>\n",
       "      <td>45</td>\n",
       "      <td>2022-09-18</td>\n",
       "      <td>Sunday</td>\n",
       "      <td>07-08</td>\n",
       "    </tr>\n",
       "    <tr>\n",
       "      <th>1537</th>\n",
       "      <td>9/18/22</td>\n",
       "      <td>7:59</td>\n",
       "      <td>+91 97791 17726</td>\n",
       "      <td>https://www.google.com/amp/s/m.jagran.com/lite...</td>\n",
       "      <td>2022-09-18 07:59:00</td>\n",
       "      <td>2022</td>\n",
       "      <td>September</td>\n",
       "      <td>9</td>\n",
       "      <td>18</td>\n",
       "      <td>7</td>\n",
       "      <td>59</td>\n",
       "      <td>2022-09-18</td>\n",
       "      <td>Sunday</td>\n",
       "      <td>07-08</td>\n",
       "    </tr>\n",
       "  </tbody>\n",
       "</table>\n",
       "</div>"
      ],
      "text/plain": [
       "         date  time         username  \\\n",
       "1533  9/18/22  1:31      Rahul Sem 6   \n",
       "1534  9/18/22  1:42      Rahul Sem 6   \n",
       "1535  9/18/22  2:03  +91 79090 27850   \n",
       "1536  9/18/22  7:45  +91 97791 17726   \n",
       "1537  9/18/22  7:59  +91 97791 17726   \n",
       "\n",
       "                                                  chats           date_time  \\\n",
       "1533                      https://youtu.be/eo5bmse-Chs  2022-09-18 01:31:00   \n",
       "1534                      https://youtu.be/fqfUwFmEbJU  2022-09-18 01:42:00   \n",
       "1535  69 signatures are still needed, can you add yo... 2022-09-18 02:03:00   \n",
       "1536  https://twitter.com/MirrorNow/status/157131591... 2022-09-18 07:45:00   \n",
       "1537  https://www.google.com/amp/s/m.jagran.com/lite... 2022-09-18 07:59:00   \n",
       "\n",
       "      Year Month_name  Month  Day  Hours  Minutes   only_date Day name periods  \n",
       "1533  2022  September      9   18      1       31  2022-09-18   Sunday   01-02  \n",
       "1534  2022  September      9   18      1       42  2022-09-18   Sunday   01-02  \n",
       "1535  2022  September      9   18      2        3  2022-09-18   Sunday   02-03  \n",
       "1536  2022  September      9   18      7       45  2022-09-18   Sunday   07-08  \n",
       "1537  2022  September      9   18      7       59  2022-09-18   Sunday   07-08  "
      ]
     },
     "execution_count": 67,
     "metadata": {},
     "output_type": "execute_result"
    }
   ],
   "source": [
    "WCA[\"only_date\"]=WCA[\"date_time\"].dt.date\n",
    "WCA.tail()"
   ]
  },
  {
   "cell_type": "code",
   "execution_count": null,
   "id": "dfefd858",
   "metadata": {},
   "outputs": [],
   "source": [
    "# import os\n",
    "\n",
    "# txt_data=[]\n",
    "# for i in os.listdir(\"Hinglish data set\"):\n",
    "#     path=f\"Hinglish data set\\{i}\"\n",
    "#     f = open(path,'r',encoding=\"mbcs\")\n",
    "#     txt_data.append(f.read())\n",
    "\n",
    "    \n",
    "# txt_data=' '.join(txt_data)    \n",
    "# txt_data"
   ]
  },
  {
   "cell_type": "markdown",
   "id": "848b1427",
   "metadata": {},
   "source": [
    "# Similar users"
   ]
  },
  {
   "cell_type": "code",
   "execution_count": null,
   "id": "7d0a366e",
   "metadata": {},
   "outputs": [
    {
     "data": {
      "text/html": [
       "<div>\n",
       "<style scoped>\n",
       "    .dataframe tbody tr th:only-of-type {\n",
       "        vertical-align: middle;\n",
       "    }\n",
       "\n",
       "    .dataframe tbody tr th {\n",
       "        vertical-align: top;\n",
       "    }\n",
       "\n",
       "    .dataframe thead th {\n",
       "        text-align: right;\n",
       "    }\n",
       "</style>\n",
       "<table border=\"1\" class=\"dataframe\">\n",
       "  <thead>\n",
       "    <tr style=\"text-align: right;\">\n",
       "      <th></th>\n",
       "      <th>username</th>\n",
       "      <th>chats</th>\n",
       "    </tr>\n",
       "  </thead>\n",
       "  <tbody>\n",
       "    <tr>\n",
       "      <th>0</th>\n",
       "      <td>+91 6395 347 424</td>\n",
       "      <td>&lt;Media omitted&gt;</td>\n",
       "    </tr>\n",
       "    <tr>\n",
       "      <th>1</th>\n",
       "      <td>+91 6395 347 424</td>\n",
       "      <td>&lt;Media omitted&gt;</td>\n",
       "    </tr>\n",
       "    <tr>\n",
       "      <th>2</th>\n",
       "      <td>+91 6395 347 424</td>\n",
       "      <td>&lt;Media omitted&gt;</td>\n",
       "    </tr>\n",
       "    <tr>\n",
       "      <th>3</th>\n",
       "      <td>+91 6395 347 424</td>\n",
       "      <td>&lt;Media omitted&gt;</td>\n",
       "    </tr>\n",
       "    <tr>\n",
       "      <th>4</th>\n",
       "      <td>+91 6395 347 424</td>\n",
       "      <td>&lt;Media omitted&gt;</td>\n",
       "    </tr>\n",
       "    <tr>\n",
       "      <th>...</th>\n",
       "      <td>...</td>\n",
       "      <td>...</td>\n",
       "    </tr>\n",
       "    <tr>\n",
       "      <th>1533</th>\n",
       "      <td>Rahul Sem 6</td>\n",
       "      <td>https://youtu.be/eo5bmse-Chs</td>\n",
       "    </tr>\n",
       "    <tr>\n",
       "      <th>1534</th>\n",
       "      <td>Rahul Sem 6</td>\n",
       "      <td>https://youtu.be/fqfUwFmEbJU</td>\n",
       "    </tr>\n",
       "    <tr>\n",
       "      <th>1535</th>\n",
       "      <td>+91 79090 27850</td>\n",
       "      <td>69 signatures are still needed, can you add yo...</td>\n",
       "    </tr>\n",
       "    <tr>\n",
       "      <th>1536</th>\n",
       "      <td>+91 97791 17726</td>\n",
       "      <td>https://twitter.com/MirrorNow/status/157131591...</td>\n",
       "    </tr>\n",
       "    <tr>\n",
       "      <th>1537</th>\n",
       "      <td>+91 97791 17726</td>\n",
       "      <td>https://www.google.com/amp/s/m.jagran.com/lite...</td>\n",
       "    </tr>\n",
       "  </tbody>\n",
       "</table>\n",
       "<p>1538 rows × 2 columns</p>\n",
       "</div>"
      ],
      "text/plain": [
       "              username                                              chats\n",
       "0     +91 6395 347 424                                   <Media omitted> \n",
       "1     +91 6395 347 424                                   <Media omitted> \n",
       "2     +91 6395 347 424                                   <Media omitted> \n",
       "3     +91 6395 347 424                                   <Media omitted> \n",
       "4     +91 6395 347 424                                   <Media omitted> \n",
       "...                ...                                                ...\n",
       "1533       Rahul Sem 6                      https://youtu.be/eo5bmse-Chs \n",
       "1534       Rahul Sem 6                      https://youtu.be/fqfUwFmEbJU \n",
       "1535   +91 79090 27850  69 signatures are still needed, can you add yo...\n",
       "1536   +91 97791 17726  https://twitter.com/MirrorNow/status/157131591...\n",
       "1537   +91 97791 17726  https://www.google.com/amp/s/m.jagran.com/lite...\n",
       "\n",
       "[1538 rows x 2 columns]"
      ]
     },
     "execution_count": 128,
     "metadata": {},
     "output_type": "execute_result"
    }
   ],
   "source": [
    "WCA_copy.drop([\"date\",\"time\"],inplace=True,axis=1)\n",
    "WCA_copy"
   ]
  },
  {
   "cell_type": "code",
   "execution_count": null,
   "id": "a8635264",
   "metadata": {},
   "outputs": [],
   "source": [
    "emojis=[]\n",
    "\n",
    "e=[]\n",
    "\n",
    "for i,j in emoji.get_emoji_unicode_dict('en').items():\n",
    "    e.append(j)\n",
    "\n",
    "e.append('✌')\n",
    "e.append('✍️')\n",
    "e.append('☝️')\n",
    "\n",
    "new_chats=[] \n",
    "\n",
    "for msg in WCA_copy[\"chats\"]:\n",
    "    for words in msg:\n",
    "        for letters in words:\n",
    "            if(letters in e):\n",
    "                msg = msg.replace(letters,\"\")\n",
    "    \n",
    "    new_chats.append(msg)\n",
    "\n",
    "WCA_copy[\"chats\"]=new_chats \n"
   ]
  },
  {
   "cell_type": "code",
   "execution_count": null,
   "id": "0e947a27",
   "metadata": {},
   "outputs": [],
   "source": [
    "from urlextract import URLExtract\n",
    "extract = URLExtract()\n",
    "\n",
    "new_chats=[]\n",
    "for msg in WCA_copy[\"chats\"]:\n",
    "    for links in extract.find_urls(msg):\n",
    "        msg=msg.replace(links,'')\n",
    "    \n",
    "    new_chats.append(msg)\n",
    "    \n",
    "WCA_copy[\"chats\"]=new_chats\n",
    "WCA_copy=WCA_copy[WCA_copy[\"chats\"]!='<Media omitted> ']"
   ]
  },
  {
   "cell_type": "code",
   "execution_count": null,
   "id": "2acfd1e9",
   "metadata": {},
   "outputs": [],
   "source": [
    "WCA_copy.drop(\"index\",axis=1,inplace=True)"
   ]
  },
  {
   "cell_type": "code",
   "execution_count": null,
   "id": "afb88216",
   "metadata": {},
   "outputs": [],
   "source": [
    "WCA_copy=WCA_copy[WCA_copy[\"chats\"]!=' ']"
   ]
  },
  {
   "cell_type": "code",
   "execution_count": null,
   "id": "1e9a336a",
   "metadata": {},
   "outputs": [],
   "source": [
    "WCA_copy.reset_index(inplace=True)"
   ]
  },
  {
   "cell_type": "code",
   "execution_count": null,
   "id": "8cbbaab0",
   "metadata": {},
   "outputs": [],
   "source": [
    "WCA_copy.drop(\"index\",axis=1,inplace=True)"
   ]
  },
  {
   "cell_type": "code",
   "execution_count": null,
   "id": "4393d27f",
   "metadata": {},
   "outputs": [
    {
     "data": {
      "text/html": [
       "<div>\n",
       "<style scoped>\n",
       "    .dataframe tbody tr th:only-of-type {\n",
       "        vertical-align: middle;\n",
       "    }\n",
       "\n",
       "    .dataframe tbody tr th {\n",
       "        vertical-align: top;\n",
       "    }\n",
       "\n",
       "    .dataframe thead th {\n",
       "        text-align: right;\n",
       "    }\n",
       "</style>\n",
       "<table border=\"1\" class=\"dataframe\">\n",
       "  <thead>\n",
       "    <tr style=\"text-align: right;\">\n",
       "      <th></th>\n",
       "      <th>username</th>\n",
       "      <th>chats</th>\n",
       "    </tr>\n",
       "  </thead>\n",
       "  <tbody>\n",
       "    <tr>\n",
       "      <th>0</th>\n",
       "      <td>Gourav</td>\n",
       "      <td>Someone please share the mooc form</td>\n",
       "    </tr>\n",
       "    <tr>\n",
       "      <th>1</th>\n",
       "      <td>Aditya Thakur Cu</td>\n",
       "      <td>Regarding MOOCS-III   Pls do not try and uploa...</td>\n",
       "    </tr>\n",
       "    <tr>\n",
       "      <th>2</th>\n",
       "      <td>Gourav</td>\n",
       "      <td>Thank</td>\n",
       "    </tr>\n",
       "    <tr>\n",
       "      <th>3</th>\n",
       "      <td>Gourav</td>\n",
       "      <td>Thank</td>\n",
       "    </tr>\n",
       "    <tr>\n",
       "      <th>4</th>\n",
       "      <td>+91 70090 64835</td>\n",
       "      <td>Chill buddy</td>\n",
       "    </tr>\n",
       "    <tr>\n",
       "      <th>...</th>\n",
       "      <td>...</td>\n",
       "      <td>...</td>\n",
       "    </tr>\n",
       "    <tr>\n",
       "      <th>1007</th>\n",
       "      <td>+91 94226 69124</td>\n",
       "      <td>Full support</td>\n",
       "    </tr>\n",
       "    <tr>\n",
       "      <th>1008</th>\n",
       "      <td>+91 79090 27850</td>\n",
       "      <td>Hello guys, A girl attempted suicide in Cu tod...</td>\n",
       "    </tr>\n",
       "    <tr>\n",
       "      <th>1009</th>\n",
       "      <td>+91 79090 27850</td>\n",
       "      <td>++infinity</td>\n",
       "    </tr>\n",
       "    <tr>\n",
       "      <th>1010</th>\n",
       "      <td>+91 70823 30760</td>\n",
       "      <td>Full support</td>\n",
       "    </tr>\n",
       "    <tr>\n",
       "      <th>1011</th>\n",
       "      <td>+91 79090 27850</td>\n",
       "      <td>69 signatures are still needed, can you add yo...</td>\n",
       "    </tr>\n",
       "  </tbody>\n",
       "</table>\n",
       "<p>1012 rows × 2 columns</p>\n",
       "</div>"
      ],
      "text/plain": [
       "              username                                              chats\n",
       "0               Gourav                Someone please share the mooc form \n",
       "1     Aditya Thakur Cu  Regarding MOOCS-III   Pls do not try and uploa...\n",
       "2               Gourav                                            Thank  \n",
       "3               Gourav                                            Thank  \n",
       "4      +91 70090 64835                                       Chill buddy \n",
       "...                ...                                                ...\n",
       "1007   +91 94226 69124                                      Full support \n",
       "1008   +91 79090 27850  Hello guys, A girl attempted suicide in Cu tod...\n",
       "1009   +91 79090 27850                                        ++infinity \n",
       "1010   +91 70823 30760                                      Full support \n",
       "1011   +91 79090 27850  69 signatures are still needed, can you add yo...\n",
       "\n",
       "[1012 rows x 2 columns]"
      ]
     },
     "execution_count": 137,
     "metadata": {},
     "output_type": "execute_result"
    }
   ],
   "source": [
    "WCA_copy"
   ]
  },
  {
   "cell_type": "code",
   "execution_count": null,
   "id": "1f3cc8f5",
   "metadata": {},
   "outputs": [
    {
     "data": {
      "text/html": [
       "<div>\n",
       "<style scoped>\n",
       "    .dataframe tbody tr th:only-of-type {\n",
       "        vertical-align: middle;\n",
       "    }\n",
       "\n",
       "    .dataframe tbody tr th {\n",
       "        vertical-align: top;\n",
       "    }\n",
       "\n",
       "    .dataframe thead th {\n",
       "        text-align: right;\n",
       "    }\n",
       "</style>\n",
       "<table border=\"1\" class=\"dataframe\">\n",
       "  <thead>\n",
       "    <tr style=\"text-align: right;\">\n",
       "      <th></th>\n",
       "      <th>username</th>\n",
       "      <th>chats</th>\n",
       "    </tr>\n",
       "  </thead>\n",
       "  <tbody>\n",
       "    <tr>\n",
       "      <th>0</th>\n",
       "      <td>Gourav</td>\n",
       "      <td>Someone please share the mooc form</td>\n",
       "    </tr>\n",
       "    <tr>\n",
       "      <th>1</th>\n",
       "      <td>Aditya Thakur Cu</td>\n",
       "      <td>Regarding MOOCS-III   Pls do not try and uploa...</td>\n",
       "    </tr>\n",
       "    <tr>\n",
       "      <th>2</th>\n",
       "      <td>Gourav</td>\n",
       "      <td>Thank</td>\n",
       "    </tr>\n",
       "    <tr>\n",
       "      <th>3</th>\n",
       "      <td>+91 70090 64835</td>\n",
       "      <td>Chill buddy</td>\n",
       "    </tr>\n",
       "    <tr>\n",
       "      <th>4</th>\n",
       "      <td>Aditya Thakur Cu</td>\n",
       "      <td>@919422669124</td>\n",
       "    </tr>\n",
       "    <tr>\n",
       "      <th>...</th>\n",
       "      <td>...</td>\n",
       "      <td>...</td>\n",
       "    </tr>\n",
       "    <tr>\n",
       "      <th>930</th>\n",
       "      <td>+91 94226 69124</td>\n",
       "      <td>Full support</td>\n",
       "    </tr>\n",
       "    <tr>\n",
       "      <th>931</th>\n",
       "      <td>+91 79090 27850</td>\n",
       "      <td>Hello guys, A girl attempted suicide in Cu tod...</td>\n",
       "    </tr>\n",
       "    <tr>\n",
       "      <th>932</th>\n",
       "      <td>+91 79090 27850</td>\n",
       "      <td>++infinity</td>\n",
       "    </tr>\n",
       "    <tr>\n",
       "      <th>933</th>\n",
       "      <td>+91 70823 30760</td>\n",
       "      <td>Full support</td>\n",
       "    </tr>\n",
       "    <tr>\n",
       "      <th>934</th>\n",
       "      <td>+91 79090 27850</td>\n",
       "      <td>69 signatures are still needed, can you add yo...</td>\n",
       "    </tr>\n",
       "  </tbody>\n",
       "</table>\n",
       "<p>935 rows × 2 columns</p>\n",
       "</div>"
      ],
      "text/plain": [
       "             username                                              chats\n",
       "0              Gourav                Someone please share the mooc form \n",
       "1    Aditya Thakur Cu  Regarding MOOCS-III   Pls do not try and uploa...\n",
       "2              Gourav                                            Thank  \n",
       "3     +91 70090 64835                                       Chill buddy \n",
       "4    Aditya Thakur Cu                                     @919422669124 \n",
       "..                ...                                                ...\n",
       "930   +91 94226 69124                                      Full support \n",
       "931   +91 79090 27850  Hello guys, A girl attempted suicide in Cu tod...\n",
       "932   +91 79090 27850                                        ++infinity \n",
       "933   +91 70823 30760                                      Full support \n",
       "934   +91 79090 27850  69 signatures are still needed, can you add yo...\n",
       "\n",
       "[935 rows x 2 columns]"
      ]
     },
     "execution_count": 138,
     "metadata": {},
     "output_type": "execute_result"
    }
   ],
   "source": [
    "WCA_copy=WCA_copy.drop_duplicates(keep=\"first\").reset_index().drop(\"index\",axis=1)\n",
    "WCA_copy "
   ]
  },
  {
   "cell_type": "code",
   "execution_count": null,
   "id": "08336121",
   "metadata": {},
   "outputs": [],
   "source": [
    "\n"
   ]
  },
  {
   "cell_type": "code",
   "execution_count": null,
   "id": "fce8c968",
   "metadata": {},
   "outputs": [],
   "source": [
    "user_dict={}\n",
    "\n",
    "for user in WCA_copy[\"username\"].unique().tolist():\n",
    "    user_WCA = WCA_copy[WCA_copy[\"username\"]==user]\n",
    "    \n",
    "    user_chats=[]\n",
    "    for msg in user_WCA[\"chats\"]:\n",
    "        user_chats.append(msg)\n",
    "    \n",
    "    user_chats=' '.join(user_chats)\n",
    "    user_dict[user]=user_chats    "
   ]
  },
  {
   "cell_type": "code",
   "execution_count": null,
   "id": "97b175de",
   "metadata": {},
   "outputs": [
    {
     "data": {
      "text/plain": [
       "{'Gourav': 'Someone please share the mooc form  Thank   Domain?  You deleted this message  White sheet  Anyone good at node js ',\n",
       " 'Aditya Thakur Cu': 'Regarding MOOCS-III   Pls do not try and upload ur proofs on the Drive.... pls kindly upload the proofs in the pdf format under the name (UID_NAME)  in the form link...    Link of Form (for proof) :   @919422669124  As per instructions received, a workshop is scheduled in the auditorium of Block-C2 on 9th August, 2022  and for that around 500 students are required from CSE-3rd Year.   Note: It is mandatory for students to bring their laptops during the workshop.   Kindly find the details of the TPP sections(BE CSE/IT 2020 Batch) which are required for a workshop on 9th August, 2022 and they are required to report in the auditorium at 10:25 am sharp.   1. 20BCS_MM-804 2. 20BCS_MM-805 3. 20BCS_MM-806 4. 20BCS_MM-807 5. 20BCS_MM-901 6. 20BCS_MM-902 7. 20BCS_MM-903   @DeepShikha Chhabra  Kindly ensure faculty having lectures in the said duration should be available in the auditorium along with students and instruct them to take the attendance of the student so that attendance will be shared with DCPD trainers for marking of attendance on CUIMS.  Also inform students of your respective sections through mentors and CRs.  No lecture will be conducted for the above mentioned sections on 9th August, 2022 from 10:20 am till 12:50 pm. The lectures will commence from 1:00 pm onwards.  Han bhaii  Jo bhi auditorium mei aya h vo apni attendence lga do karan ke pass  Kha ho bhai dikhe nhi  Lga diya.  Bhai college band karwa de   Nhi  bhaii ml wali ne bola toh hai pr kal class nhi h  Ane ml wali ne bhi bola h  Nhi  Bhai tu apne section mei bol jaa kr humare toh abhi tak koi nhi kr  rha  Cr grp mei bhi ye bej deee  Full support bhaii   Han mei kr rha hu support   Fir ye print kyu karwa rhy h sare  Sab ke sab hai   Han  Bej de aptitude walo   Ko  Han bhai bol answer bato is ka  Done bhaii   Tu matt karna bdsk  A walo ke liye h  Selmon bhai  Bhai ki movie aa rhi h   Ye toh selmon bhai hi bta paye ge  Yeahhhhh   Swag se kre ge sakba swaagat   Ye answer bta rha h ya puch rha h?  Abe  Han whi kr rhy h   Bhai bej se hai toh   Ye kuch aaya  Dukh huya muje  +1  1  Abe iska answer bej do koi  Upr dekh le beje h  Nhi bhai..  Vro   Tu shi wale bej deee  Nhi tuka lga diya  D  Bhai goggle pr mil rhy iske toh  32  Bhaii passage ke answer bejo yarr   @917082330760  5  Hnn  Hnnn  Pta ni bhai naam toh timetable mei dekh le  Abe kuch matt kroo  Jadya ho jaye gaaa  null  Abe dekhne gya tha abhi  class mei  Yeahh  boi   Hmm ',\n",
       " '+91 70090 64835': 'Chill buddy  Cr ne bheja  Kya mtlb h  Impressive  Buddij Daa ke exp. kaha submit krne hain  Topper kon h  Abhi tak lga ni koi  Laaye hum b h but krne ka icchuk nii  70 lge h bhai but koi dikkt ni  Chill  Full support from my side  Himanshu ko bolo  Jyada mauj hojegi  @916284341681 @917082530508 @916283753746 @918307789067 @919755246756 @918299678341  Tagged  Mmt wale ko bolo ki soft copy ka juggad dekhle koi  Terko lgra inti convo. Padhenge  Itni  Sir ko bolo folder vgera ya kuch bnaye  Worksheet pdi h  Think so  35  This 1  Result aagya  Topper bhaii  Your choice buddy  Mene toh yhi kre hai  Agr isi ki video bheju toh sai lgega?  .5 wale krne hai abhi mne  null  4th ki gurantee ni baaki sai h  Changed answers  *Process Synchronisation Process Wala Para* ☝️  Sabr kro  Not till now  Iska confirm ni  Koi 64 bolra koi 32  C confirm  32 confirm  App. soft  Use nested macros  @917297924756 bhai net pe sare pde hain  search krle  Iska answer glt hai mera  yeh option ni g  h  When there is single input variable para 1. Regression coefficients 2. Ignore 3. Coefficient of determination 4. Direct 5. Anova  Machine learning is an application of ...  1. Hidden attribute 2. PCA 3. Purposive sampling 4. The distribution of means from multiple samples 5. Given email labeled as spam, not spam, learn a spam filter  Process which is used to determine the best... 1. Dataset 2. i, ii, iii, and iv 3. By its slope 4. Feature F1 is an example of ordinal variable 5. All of the above  Data visualization provides a perspective... 1. plt.plot(x,y) 2. plt.plot(h,w,marker=\"*\") #h and w are data representing x axis and y axis 3. hist() 4. Line chart 5. xticks()  Merko b chahiye  Mene continous kra  Yeh sai h  Jo marked ni h unka C ayega  C  Ya  Implies  ??  Mene output krr dia  Para upr saare bheje huye h  72 aaye  C wala glt c table ch  Baaki saii c  Dn ',\n",
       " '+91 70823 30760': 'Congrats Nikhil  Congrats karan  Grp mein hai voh?  Ok  Abhi naye hai na sabh bhai toh ptaa na lagta   *Important Update*You can make project from Any Section. Also no project classes from next week probably because it will give us free time to work on project  ye sahi hai kya??  Acha     Bhai individual bnaa skte?  Kuch class ke  Cr bol rahe ki project coordinator ne bola hai meeting mein ki bnaa skte  Ek baar confirm krdo  Sat working??  Kya pta  Abh kya nya bhakchodi aya hai   Ye toh CU mein aate hi khtm ho gaye the   Kisi ke grp mein jagah ho toh yaar add krlo Mujhe bhi  10:20 se workshop hai na   Register kl hi kr liya tha lekin Ss nhi liya Abh mil jaayega ss?  Left side 6th row  ML ka worksheet kabh tk submit krna hai??  Or krna kya hai usme ??  Khaali worksheet submit krde kya   Han  Han bhai bhej dena idhar bhi  I am on medical leave from 16th to 18th August  Pls, yaar dhyan rkhna kahin koi teacher present na lagaa de  @919422669124  Uid 20bcs7992 Name pranaya  Aaj SS Mein kya hua tha??  Next class ke liye kuch bola hai?  Ki resume banana hai ya or kuch?  Thik hai  Dhanyavaad  Java 1.1 ka worksheet hai toh bhejdo  Han pls   @919422669124 pls try if possible  Ok Thanks  D4  Same question  Har Subject\\'s teacher ke naam or unke phone number bhej skta koi?  Phone number?  Monika Mam Rakesh Sir - Aptitude Namarata Mam - competitive coding Monika Mam - SP  Inka number bhejna  Dear All  As per the discussion with E-governance, the revised assessment guidelines  for Physical reported students(B.E CSE/IT-5th semester students) are as follows.  The assessments namely Assignments and Surprise test are required to be submitted by students in the form of Hardcopy i.e Handwritten.  While the worksheets for practical must be submitted by students through LMS only.  Note: The guidelines for Online students will remain same as per shared SOPs.  Yes satya hai??  Yeh*  Kya padhaya hai sir ne abhi tk mmt mein??  Apna java ka kitna experiment hua hai abhi tk?  Teeno ka worksheet bhej skte ho?  Or koi worksheet bhi submit krna tha kya?  Aaj tk mein ?  Thik hai   Dhanyavaad bhai   Assignment apne ko White sheet pr likhna ya copy ke page pr chlega ??  OS ki Assignment kaise krni hai?  Sir ne jo section list bheja hai  voh 804 ka hai Apne ko kaise krna  Ye java Assignment ke set kidhar bheje hai??  Viva theory class mein hoga ya lab class mein??  SP ki 10sep OS ki 12sep MMT ki 10sep   Or baaki kisi sub ki Assignment ki due date batai hai?  807-A ko  Ok Thanks   Java ka worksheet quize bhej do agr kisine kr liye toh  5  Dear all,  Check drive for the topics Model validation Approach and Bias - Variance Dichotomy that are to be discussed in class tomorrow  Konsa drive??  Pehle kr diya phir kyun karega   Mujhe bhi batao   OS ka set na smjh aya Baaki ML ka mam bhej diye the  Section 804 nhi tha usme   A  Srry dikha nhi tha  Thanks   Java?  Use Google  Sabh ans milega   ML set 4 OS  set 1 Or baaki kisi aur subject ka Assignment banaya ho toh Ans bhej do   Viva mein kya kya pucha??  Acha    question btaa skte ho?  dhnayavaad bhai    kya hai ye  kyun ?      usse kaho big boss se sambhaale bs abh  eid pe bechaare producers ka paisa kyun dubaa rahe  selmon bhai fan  Kisi ne start karaa?  Asaan hai ya mushkil?   Mtlb para mein lagenge  When u have Google and good internet speed  Sbke para same hai kya   Paper dekh ke behosh  Bhai ye mila?  Ans bhejna iske   Mile ans.?  Media wala shayad isme hai  Case wala bhi hai isme  Iske teen ans mil gaye hai alg alg   A and c only karaa iska  Mere dost ka Solaris sahi hua    Kya chl rha ye  Toh abh unix krna ya Solaris   Na  daa ka assignment ka ans hai kisi ke paas ?  mane submit nhi karaa tha  isliye maang rha  Hai?  Dhanyavaad bhai   Agr dusre attempt mein aaye toh pehle wala mana jaayega?   Number ke liye?  Jo drive bheja hai official mein usme sirf cc ka 1.4 hi submit krna hai???  Thik hai   Dear CR,   Please inform the Students via WhatsApp Group that their Topic for Formal Presentation is *\"One Emerging Technology/Innovation in your Domain (Engineering)* And they have time till Sunday 18th Sept Midnight to submit it to the CR. (Via Drive Link created by the CR)  isme kya krna hai??  aaj hua tha ye ?  kya krna hoga usme?  ok thanks  Soft skills ke teacher change hue hai kya??  Naye teacher ka naam ya number hai?   aaj hi  acha   han bhai bhej dena  Han bhai bhej do  Quiz krne the kya kisi sub ke??  Ye bhi btaa do   Shubhratri  Full support ',\n",
       " '+91 6392 315 634': 'Karan bhai apna cr  Hn hai  @919422669124  Piche baitha hai cr everyone say hi  Workshops hai c2 block mein  Right side ke row mein  +1  =?  Hn  Dear All,   The student Hitesh having UID 20bBCS2175 of Section 20BCS_MM_802 has not contacted his family or friends since yesterday.. His parents are worried.. This  is the latest clip shared from the University authorities... Anyone if can identify the girl .. kindly contact AD Sir office immediately...  20bcs2715  Is the UID  Viva mm mein hai  Apni shradha se jab dedo  Are chlo  Tumhare class wale sb laen hn hardcopy  Unko roko  1800 mein humlog funcity ja skte hn  Abe hn b wale  Vhi karan hod ban jaega tb ye sab krna  Hn kar chiz ka reminder dete rha karo  Kal hai mmt ka viva?  Stapler laana class mein  Hn bhai humko bhi  Han  Bhai time waste hoga na  Ho rha itna der se login?  React sabkoi kr skte hn  Abe aptitude  Ka bhjo koi ',\n",
       " 'Rahul Sem 6': 'congratulations karan bhai  anyone want to join project group we need 2 members  we are making research paper  sayad 15  c2 me kha  konse floor pe h auditorium  thike bhai  @919422669124 bhai right side bhi aana  summer training me jo detain h wo kya kare bhai kisi ko koi idea   resume k bare me bata rahe  rahi*  ha next class se pahle resume drive pe upload karna h  1 ko h na wo to  3 sayad  Ha bhejta hu  na sayad yahi tha  experiments se related  thoda bahut theory se bhi  Ha  use of numpy info kya hota hai recursion bias variance types of ml- 4 types explain  kisi ka lms open ho Raha h?  recurrence tree method wala para h kya kisi pe  kisi k pass ( Statement 1 abstract class Shape { String color; abstract double area();   ye parah kya  bhej na bhai  ok mil gya  kisi pe mmt 1.4 hai to bhej do  what is bitmap iska bata do koi  thx bro   71  3:30  what is the remainder when 1!+3!+3!+....+50! is divisible by 6? 1 4 2 3  anyone pls  paka na bhai  thx bhai  unit digit of sum of first 121 natural number 1 4 2 3  @917009064835  ha bhai  passage me bahut galat answer bhi h guys  mane submit kiya sirf 55 marks aaye hai   51*  question to bhej de bhai  in linear regression the output isdiscrete  continuous and always lies in a finite range  continuous  may be discrete or continuous  a histogram is  is a bar chart  is a graphic representation of frequency of a qualitative or categorical variable  is a graphic representation of the frequency of a continuous variable  is an alternative yo a pie chart  ??  and this??  @917297924756  @917009064835 bhai bata na  exogenous variables are the name given to  input variable output variable input and output both none  select the disadvantage of decisions tree  factor analysis  decision tree are robust to outlier  decision tree are are prone to be overfit  none  ok  bhai iska confirm bata do koi  bhai koi batayega mmt me kitne questions karne hai  ???  ok thanks  quiz 2  under unit 2  ha  Harpreet Singh jagi sayd  kab tak karni h  kal tak time h na sayad?  kya bhai faltu tention de raha  kal bhej dunga  abhi hua nhi hai  thike  aptitude hi tha sayad bas  bas sayad ppt hi upload karna h  good night bhai ',\n",
       " '+91 94226 69124': 'Thanx boiz   Han bhai hu  sahi h ye  bna sakte h  Nhi bhai  Meeting m hi hu m  Join next meeting  Ise join karlo abi suru hue h  Yaaaa   Kaha baitha h?  Abscentees Kamya Brata Vanshika Saba Mohmood  Kamya  Vanshika  Abscentees todal  Today*  Follow this link to join my WhatsApp group All jaldi se join karlo  Okay bro  Ok bat karta hu  Seating plan check kar uid dalke  Sabko pata h bhae itna faltu paisa nhi h to please koi bhi submit mat karna  Bohot jyada worksheet hone wali h aane wale experiment m sirf yahi karate reh jayenge , abhi unhone suru kiya h abi tym h saare support karo or responsiblity lo yaaar koi bhi nahi karega  Pehle se pange chalre h waha  Guys apni class ki responsibility m lunga agr kuch hua to par saare support karna aage agr kuch hua to dekh lenge  Or isse barbad hum  Saare confirmation dalo or agr koi karna chahta to vo bhi bata dio pls  B walo se bhi baat karli h  Vo bhi nahi karenge  Tu apne unofficial grp m dhyan dena unhe samja tere class m unity kamm h  Aaaj hi btaya na  Abhi sirf ek worksheet h bhai aage bohot hone wali h utna hi jyada content bhi hoga to abi ise dabaya jaaa skata h  Teacher ko clr bata do ki hmare paas nhi h itna paisa or tym ki yaha barbad karen  Or class m koi ek nahi saare bolna aaj B walon ka h vo sab bolenge or kal humara mtlb A walo ka  Unke pass jyada paisa h kya  Bhae B walo ko sambhalo  Naahi bhae agr kisi cheej ke against khade h to khud ko perfect rakhna hoga , ye mat karna ki tunne soft copy bnayi hi nhi h  Kaaam jrur karna or perfect karke rakhna par printout nhi dena h  Abey tansion naa lonagr kisi ki nahi bni h koi to bta diya karo worksheet saari mil jaegi bas complete rakhna ,  Virodh karna h Hard copy ka naaki kaam ka ok Dhyam rakhna motive kya h  Bhai pass rakh apne  Haan shi bolra h tu  Bhai bhai pad lenge sab itni tansion kyu lera h  Jo bhi na mile muje bta dio bhai  Ye b shi kehra  Uska jugad karta hu m aaj hi  43 p3  3* only  Random no leke karde  Haan 3 hi sets h or teeno m  3-3 qsn h jo dono section ke 76 bacho ko koi b ek set select or us set ke teeno qsns ko karke sir ko submit karne h  Assignment me first page bnana h bhae har subject m  Official grp b dekh liya kro kbi  ML ki 6 sep and PBLJ ki 5 sep  Yes bro  Worksheet bhi sari  karni h  MSTs se pehle  OS and SP  ki nhi h koi worksheets  Naa mandatory nhi h par ho jaaye to la sakte ho  Nah  Isme se koi bi ek set attempt karna h java assignment m  Bhoiz form fill karte do jaldi se official jo bheja h mne  Jaldi fill kardo fayde ki baat h  Tu rehne de  Solaris  H  nhi agr ye wala diya to jo bhi hoga yhi hoga  Noted  Guys Next class bunk maara jaaye kya  Maza aaegnga  ++1  +1  Coordinator se baat ho gyi h bhoiz kal ya iske baad agr koi puchta h kya reason tha to bolna h hmari second last class bhi basement m hi thi pr fir last class bhi  Second last class m suffocation hadd se jyada ho rha h niche  Hmare andar himmat nhi thi ek class or itni garmi m jhelne ki  Already m pehle hi Cr meetings m ye pt utha chuka hu ki niche wale floor m dikkat hoti h to tum sab bol sakte ho aaram se ki ye reason tha hm nhi padh paate h basement m  Baat khtm  Reason valid h or Cordinator se mne bta diya h yhi call aya tha cordinator maam ka  Full support ',\n",
       " '+91 99921 99871': \"  *FOR CRYPTO TRADERS*  *Daily Earn Profite*   *Helping Traders and Newbie's*  Bht atche signal aate h iss Telegram Chanel pe crypto ke   *If you are a trader then you must have to check it once.*   Or agr koi aapka dost trading krta h to uske saath bhi share kro  *Bht help milegi* iss Channel se usko \",\n",
       " '+91 79090 27850': \"haan  Jaan hi lelo hamaari ....  Haan  Yahi due list hai na sab subject ki @919422669124  Ok  Kab tak?  Ohk  Ml ka set 2 kisi hai assignment ...bhej do plz  Bhai iska  Ri8  Os ka set 6 hai kisi k pass  Plz bhejna  Hello guys, A girl attempted suicide in Cu today. Try to share on Twitter,  Twitter trend can reach national wide, WhatsApp waste We released a tag   Start retweeting and let's make a trend  If you share any pics or videos try to blur face  ++infinity  69 signatures are still needed, can you add your signature? ✍️  \",\n",
       " '+91 86072 73793': 'Chal kya rha vha  Kitne meeting chalri?  Kisi ka quiz show hora h LMS pe?  Soft skills ka  Reminder aaj ku diya fir?  +1  Ha issi se khulra h  H kisi ka?  Merko dekh ke lgta h m ans btauga?  31-35 bhejdo koi  Hogye ho to  -1  Vo to net pe tha  Boht kuch agya  Agle exam ka bhi agya ye to  Substitution method wala  H?  Dhanywaad  Terko bhi dhanywaad  Is passage ke bhi  DCPD trainer ne bnaya hoga ques paper.  Sorry late hogye aap  5 min phle aajate to hum patient bcha skte the  Merko bhi bhejio  @917878616708  Ye h?  Ha milgyaa  Tag krio  Is para ke ans h  A and B only  Na  Milege bhejdio  H par ans ni  Cloud storage wala  Iske bhi  Aise aise hor h?  Merko b chaiye  1  @916284039214 natural numbers postive hi hote h shyd?  Test and set  Old  Unix  Net pe yhi h  @916395347424  Ans key glt h piche  Aptitude ke ans h to bhejdena  Ye ml ka h ',\n",
       " '+91 6395 347 424': \"Anyone interested in making blockchain/web3 related project can dm me  Project idea submission aaj hi hoga kya  And if yes to kidhar hoga  Okk  Ig mam ne hide kardiya  Kl karna tha usko  Idk Mam se pucho ye baat  Kon se block me Jana h hmko aaj ?  Bhai block nahi mil ra muje  TT me h sbke name  Nahi h  Nitasha mam ka grp me share Kiya h ek bande ne  Baki cr se lelo  Assignment ka set kon sa ye kaha se dekha tumlogo ne ?  Bhai Aaj kya kya karna h   Assignment bhi to thi na shyd ?  Kya kya tha ?  Java ki bs ?  Worksheet kon si 3 ?  Dono karna h ?  Kya beja dm karna  Quiz 1  Quiz 1.2  Quiz 1.3  To aaj koi sa nahi Lana na ?  Class kon se room me h phli ?  Google kar mil jaega sb  aptitude kb tak karna h ?  Kya mtlb eid aane wali h  2  Haa  1  2 wala option h iska  74  Magical number   D  C or d ?  @918307789067 @918607273793   chlo submit Karo fir merko batana  me sahi wala kar dunga  Thnx  Hn bejta 1 min  @918307789067  Type 2  Cuims pe project select bs team leader ko karna h ya sare team members ko ?  Iska kon sa assignment h ab  Ye to ho gaya tha na ?  Hn  Aaj formal assignment hoga ya next week hoga ?  A girl from LC hostel leaked the bathing videos of around 50-60 girls from same hostel to her boyfriend in NC hostel .. she put those videos  on a adult site and ek ladke ne apni friend ki video is porn site PE dekhi and she got a panic attack and she's in ICU rn  This is so so shameful ...Ldkio ke parents unko hostel me ye sochke rakhte h ki ladki safe rhegi yaha dekho safety yrr  Sharam aani chahiye yr had hogai  3 girls have been sent to hospital.  I had got info tht icu m h abhi ig  Suicide, I think they cut their veins  someone's saying one of them is dead \",\n",
       " '+91 79054 34552': 'Movie tym yaaaaaa   Kamal ojha  Raise your hand  20bcs11252  +2  +1  Guys we are not going to submit any hardcopy in any subject.  So kindly support  Ws padhta koi nhi hai buss paper + paison+ time ki barbadi hai  Specially  toppers and girls  Please support  Age baithne wale he hongay  shyd  Haa  Mutt krna warna aaj 18 rs kye jaga kl 1800 barbad hoga  Andi bandi sandi kr diya hai maine grp pr apne  Ladkiyon ko samjhana hai buss  Bachpan sye aaj tk toe mujhe yahi lgta aya hai  @919422669124 sari ladkiyon ko personally dm krdo ki   Hard copy n nikaln class mye  Kya  Wtf  Partiality  Dm Aditya for coupan  Ye hai  Mile toe batana  Tq bro  3  Ha  Tq  Dl approve hoe gaya tha n ?  Or dl lagana hoe toe batana   Mausam kafi acha hai  Sab ye wala react krdo (   )   Bunk marke sbko fountain pr Mausam k maza lena chahiye tha  But sb ghar bhag gye  Come to lc  We all r protesting ',\n",
       " '+91 84938 70808': 'Kyun??????? Bc asa kyu hai  Bhej bhi do Bhai  Asa hai kya?  Sch mein  Kya hi rakha hai padhai mein shodo soft copy bhi nahi krni submit maaze kro sab   maine toh hard copy bhi bnai hai  MMT toh mil jayegi  Bhai yeh cusat ka reminder dete raha karo  Aaj hai kya koi?  Next ki last date kab hai bhai  Bhai koi kaam submit krna hai b walo ko aaj  Merko bhi send krna aga mila toh  Kya sahi value hai kuch pta?  Bc tune video kaise bnai  Madam bhi nahi thi kya  Chalo bhai kal Shaheed hone ke liye tayar ho jao  Okay buddy  ',\n",
       " 'Rahul Sem5 Kumar': 'Bro tension na le  Teacher baat karenge sabse personally for future plan  Once again welcome to cu  Kisi ke pass cc ki practical hai  1 to 3  Or 1 to 4 ',\n",
       " '+91 72979 24756': 'Aaj class ka kya scene hai  Kitne bje se hai and kdjr hai ?  Kal kis kis subject ke exp. kki hard copy le jani hai  Anything else we need to submit anywhere ?  MMT wale assignment me kisi ki 5 questions ko solve krna hai  ?  kisi bhi*  ML SET 4 ?  Anyone ?  Abhi to log in kra hai   सब्र kro  Sab aayega  Ye cu hai  Yaha sab hota hai  Amitabh bachhan banna bnd kro  Dhanyawad lelo  Fir to pakka yahi hoga  Koi nhi, Jane wale ko kon rok skta hai  Nazuk halaat me hai  Ye lo  @918607273793 @917667402926 @917006191615 @917878616708  Google lens  sabko yahi chaiye  Scanner  C (with confusion)  Option C (done)  .  Iss wale me hai shayad  Keh skte hai  Mereko koi iska batao  Done  Ye chaiye ...  Iska mila  Iska hai ?  Ok boss  Iss wale me confused hun  Iska koi bata do  C  Iss Para k 2 questions nhi huye hai  Iss wale ka dekh ek baar  Nhi mil raha  @918607273793 @917009064835 @918307789067 @919422669124  Hai but 2 ka sure nhi hai  Rtt  Iska koi krwa do  Aaj, kal me kuch submit krna hai ?  Wo to kl krni hai na ?  Fir good night ',\n",
       " '+91 88043 80831': 'Kitte bje se ??  Kl 1st half ka DL lgega ??  Marathon mein participate krne pr??  Phir toh main second half se hi aaunga  Kl viva wagera bhi hai kya ??  Aaj MMT ki viva hogi ??  MMT lab ki koi pdf ya doc file hai kisike paas toh bhej do  Java assignment ke set 1 ke ques 2 mein number user se input lena hai ya koi bhi random number select krna hai ??  Pehle ye bta  Monday ko ML ki viva hogi ??  Kl saare assignments laane hai??  I mean aaj   ??  Vansh ka contact number hai kisike paas ??  Jldi bhej bro  Ab jiss University ka naam hi C se strt ho unko kya hi keh skte hai  Out of syllabus   True  Ppt mein tha aisa kuch likha hua  Which instruction move a value between a memory word and a register in assembly language   MOTION ADD MOVE SHIFT  What is max macro length  32 char 1026 char 16 char 64 char  Sure na  Favorite CEO ka kya hua??  NPTEL waale answer bhejo koi ',\n",
       " '+91 76674 02926': '10:30  Bring laptop compulsary?  Fr  Tagore  Ye toh cr batayega   Top pe hi hoga  Probably  I m. Present bhai  Mera tick lagadi bhai  Aage  Ohk  bana ke bhej do  @917009064835  @918764187032   Yee  Date extend karva d  Do*  +1  Power dikhara  mera bhi bana de  A4  format kaha hai?  omk  Ye assignment ka bhi koi index format hai kya ? @919422669124  Sir ko bhej dete hai  Sidha  Done  Ye bhi flop hoga  In progress  Kisko answer chaiye say yes   Bhai tricke hai 3 saal ho gaye sab karte   Tomper  Not yet..milta toh bhjera  Nice cooler  Iska upar hai baba  Iska toh hai upar  Hhn  Bhai saba vidoe already upar hai  Sabka*  Lagta hai ab Banna padega  Damn  Hein?  Sab so gaye hai kya?  Areh bahiya  Yes  A  Wahi kaara hu   Answer nahi mila  Khud se kara hu  Chahiye toh bul  Cu Wale c hai  Cloud computing ke questions se rakhe hai  DM aa  Tab theek hai  50/80  Next exam kab hai?  Multi mediA .e cloud computing ke questions dete hai bhadve  69/80  Lol  Even better than magic Bois   Ankit wala saara gaalt hai maacho  80/80 kiske aaye?  Quiz konsa karna hai ?  @918804380831  Vo cancel  ml 2.1 workseet ke codes dedo  ni mam ne kal  tak bola tha  aj hi lab me toh bola tha ',\n",
       " 'ANKUSH Sem 6': \"Top 7  Koi baat nahi bro  Life hai kavi kavi hota hai  @919582636226 bhai tu dekh le  all rounder banna parega bhai  That's not a complete version  @919422669124  iss hhai se puch  Daa wali mam ka text dekh  Daa wali mam ka message dekh   Official pe hai     Only Admins can..  Accha ha  Start tu kr  Ha  ha ok  Kyu bhai \",\n",
       " 'Akshat Sem6': 'Greetings of the Day,   Elated to announce our collaboration with Reskilll to bring to you an amazing opportunity to announce your creativity at Meta.    *Reskilll X Spark AR* brings to you Learn, an initiative aimed at initiating students journey into the field of Augmented Reality. The initiative focuses on upskilling tech enthusiasts on emerging AR with the help of workshops, Hackathons, internship/ job opportunities and more..  In this series for the first installment we are hosting a workshop:  Date: August 8-9, 2022  Time: 11:00 AM -12:00PM (both days)  Register here to participate and upskill:    Each participant who submits their effects at the end of the workshop will get: Brand Vouchers  Valuable Certificate from Meta  Hurry up and register!  Kha he Karan?  Ok  Saba is present  Agar bana li to bhej dunga ',\n",
       " '+91 78078 44279': '2864 ',\n",
       " '+91 70090 33645': '7992  Ok bro   Pranaya 20BCS7992  Absent   ',\n",
       " '+91 70525 50704': '      MOOCS-II (4 sem) Disqaualified(backlog) students of 2020-2024 Batch. Kindly fill this form and upload the certificates(proof) in pdf format whosesoever is having the status \"Disqualified\" in 4th Sem Moocs  *ML lab experiment 1 and 2*  @919422669124 Java assignment ki last date kab hai?  Iska send kro  Ye wala koi pura answer send kro  C  Right tailed test  ???  In dono ka batao ',\n",
       " '+91 89305 00597': 'Medical leave ka procedure pta h kisi ko? ',\n",
       " '+91 83077 89067': 'Nahi  Kal toh koii viva nhi h na????  Ok  True  B  Nhi pta  Iske answer chahiye? ',\n",
       " '+91 99214 93696': \"Yes it's visible  It'll be visible till tomorrow  Please complete it before time  You are viewing contents section  Please go to 20tdy soft skills  Then click on unit 1  Ok bhai  Just posted in grp  It's sept 6  That is next Tuesday \",\n",
       " '+91 82996 78341': \"Han  Guys I'll be on leave from tomorrow i.e. 13th to 21st. Please ensure k galti se meri koi present na lg jae  CC: karan & nikhil \",\n",
       " '+91 72484 04363': \"bhai koi ml ki ppt ka link bhejdo ?  hn bhai bhejde  thanks bro isme  bhai koi mmt ki ppt bhejdo ??  @919422669124bhai  index page kis kis subject ka banana hai??  ok thanks bhai  ml ka exp3 hoga  bhai waise ?  @919422669124 bhai cuims open nhi horaha ???  Bhai sure ??  ??  +1  hn bhai  Govid bhai ye saara shi hai kya ??  OS ka 3 set hoga ksisipe  All  aaj hi submit karna tha bhai  agar hoga toa bhejdena ??  aaj kal lag bhag  chill bhai but code bhejde agar kiya hai toa  thik hai bhai  Bhai 2.1 ml ka bangaya toa bhejde bhai ??  Final Extension-(Attempt the below mentioned tests before tomorrow(17 September  11:59 pm))  Dear All You have to attempt 4 sections(ONE ATTEMPT ALLOWED ONLY For Each Section So please check your internet connection before attempting )-:   1st -: Assignment 1.1 (Unit 1)   2nd -: Surprise Test 1.1   3rd-: Quiz 1.1   4th -: Quiz 1.2   Regards Kamal Deep Aptitude Faculty  Note-: The one who has already submitted the assignment and all other quizzes, doesn't require to do it again.  Ye aptitude ka hai kya ???  Okk \",\n",
       " '+91 95826 36226': 'drive  k  kya  @917248404363  bhai  ye   raha  bhai  Rajender Singh sodhi Bhai  Apna no. Bej n  Bhai dono section ka question same hai kya  Assignment ka  Java  ?  Bhai muja bhi karna  H taab  Puch raha hu  Ye pta hai tho bta d  Ye bta bhai  @917006191615  Ok  H  Likha tho yahi  Bhai worksheet  Lab ki h n  ye ml  ka  Bhai list bejna  Ml ki assignment ka  Bhai  Ye  kon si  assignment  nahi  quiz  tha java  ki  and worsheet  but cr sa  confirm kar  lena  jis n phele kiya h  submit  usa tho  nahi karna  @916395347424  Puch  raha h  bhai m puch  h  tera sa  bhai list  beja h  sir n  Os ka  set ka  प्रणय सिंगला  tera kon sa section h  807  n  807 n  h Is  m  h  set  no. lika  yahi  tho  h  h n  bhai quiz ka  answer bejna  java ka  bhai  8  question ka  btana  Bhai quiz 2  H kya  Multimedia ka kya  @917009781196  And @917248404363  Bhai Saba multimedia ka  N  Bhai ye bta  Confirm  H n  Ye wala  Bhai Is ka bta  D  Kar Bhai  Ye k h kya  Bhai 38  Ka bej  Answer  Rahul ',\n",
       " '+91 70061 91615': 'Bhai example mien diya h input or output  Bhai woh CR se puch le  Ek hi hua h  31  Hn   Hn  Abi pehle 20 toh asaan hi lg rhe hain  Hamesha ki tarah  *Extend Exception Wala Para* 1- No, it can also extends throwable class 2- True  3- Try need not to be followed by anything 4- Got the Test Exception Inside Finally Block (Output of code ) 5- Compilation Error (when statement replaced)  Hn bhai  Bhai yeh bhi upar h  Nhi bhai mil nii rha  Nhi mila bhai  Bej de  Nhi mile  Ok  Bhai yeh para h kisi k paas ?  Yehi nhi mil rha bhai  Video  Camera shyd  Bhai mila @917878616708  +1  Bhai 31 to 35 bej  Jan aayega bej dena  B  Haan bhai @917009064835  Yehi h iska ',\n",
       " '+91 6284 341 681': 'Ml ki worksheet staple krni hai ja file main submit krni hai?  Assignment*  Java ki assignment main coding questions hai toh...voh bhi paper pe write krne hai?  ?  Overfitting ',\n",
       " '+91 91030 15446': '+1  Sahi hae  12 hae iska ans  Option bhj na  Yeh sahi hae  Kya  . ',\n",
       " '+91 94106 87922': 'A ',\n",
       " '+91 6299 200 484': 'D  B  +1 ',\n",
       " '+91 88879 10020': 'Shi hai  ? ',\n",
       " '+91 82739 09035': \"HAHAHAHAHAHA! XD Ur so funny because you did the 69 number! XD  If you people don’t get it the 69 number is a that move XDDD! It’s like 420 is the weed number XD but 69 makes it funny because it makes you wonder if ur them does the 69 number XDDD! But u r still so funny! XD Be my friends LOL! XD  Guys, I'm gonna be on medical till 16th, so please do ensure I'm not marked present in any class until then @919422669124 \",\n",
       " '+91 89200 72478': 'Dundo yr  Yai ni milra  Glt sa lgrah  3 jaga se mile h teeno me alag answer h  Iska solution h?  Sure ?  Okok  Shyd D h ',\n",
       " '+91 78386 78426': 'C  D  Hn  Result aa gya hai unix thik hai ',\n",
       " '+91 70151 03472': 'OS assignment set 9 hai kisi k paas? ',\n",
       " '+91 70077 84133': 'Ni agle Tuesday ko  Ppt presentation on above topic '}"
      ]
     },
     "execution_count": 142,
     "metadata": {},
     "output_type": "execute_result"
    }
   ],
   "source": [
    "user_dict"
   ]
  },
  {
   "cell_type": "code",
   "execution_count": null,
   "id": "d33d7e79",
   "metadata": {},
   "outputs": [],
   "source": [
    "user=[]\n",
    "chats=[]\n",
    "\n",
    "for k,v in user_dict.items():\n",
    "    user.append(k)\n",
    "    chats.append(v)\n",
    "    \n",
    "new_WCA=pd.DataFrame({'user':user,'chats':chats})    "
   ]
  },
  {
   "cell_type": "code",
   "execution_count": null,
   "id": "2d6a180b",
   "metadata": {},
   "outputs": [
    {
     "data": {
      "text/html": [
       "<div>\n",
       "<style scoped>\n",
       "    .dataframe tbody tr th:only-of-type {\n",
       "        vertical-align: middle;\n",
       "    }\n",
       "\n",
       "    .dataframe tbody tr th {\n",
       "        vertical-align: top;\n",
       "    }\n",
       "\n",
       "    .dataframe thead th {\n",
       "        text-align: right;\n",
       "    }\n",
       "</style>\n",
       "<table border=\"1\" class=\"dataframe\">\n",
       "  <thead>\n",
       "    <tr style=\"text-align: right;\">\n",
       "      <th></th>\n",
       "      <th>user</th>\n",
       "      <th>chats</th>\n",
       "    </tr>\n",
       "  </thead>\n",
       "  <tbody>\n",
       "    <tr>\n",
       "      <th>0</th>\n",
       "      <td>Gourav</td>\n",
       "      <td>Someone please share the mooc form  Thank   Do...</td>\n",
       "    </tr>\n",
       "    <tr>\n",
       "      <th>1</th>\n",
       "      <td>Aditya Thakur Cu</td>\n",
       "      <td>Regarding MOOCS-III   Pls do not try and uploa...</td>\n",
       "    </tr>\n",
       "    <tr>\n",
       "      <th>2</th>\n",
       "      <td>+91 70090 64835</td>\n",
       "      <td>Chill buddy  Cr ne bheja  Kya mtlb h  Impressi...</td>\n",
       "    </tr>\n",
       "    <tr>\n",
       "      <th>3</th>\n",
       "      <td>+91 70823 30760</td>\n",
       "      <td>Congrats Nikhil  Congrats karan  Grp mein hai ...</td>\n",
       "    </tr>\n",
       "    <tr>\n",
       "      <th>4</th>\n",
       "      <td>+91 6392 315 634</td>\n",
       "      <td>Karan bhai apna cr  Hn hai  @919422669124  Pic...</td>\n",
       "    </tr>\n",
       "    <tr>\n",
       "      <th>5</th>\n",
       "      <td>Rahul Sem 6</td>\n",
       "      <td>congratulations karan bhai  anyone want to joi...</td>\n",
       "    </tr>\n",
       "    <tr>\n",
       "      <th>6</th>\n",
       "      <td>+91 94226 69124</td>\n",
       "      <td>Thanx boiz   Han bhai hu  sahi h ye  bna sakte...</td>\n",
       "    </tr>\n",
       "    <tr>\n",
       "      <th>7</th>\n",
       "      <td>+91 99921 99871</td>\n",
       "      <td>*FOR CRYPTO TRADERS*  *Daily Earn Profite*  ...</td>\n",
       "    </tr>\n",
       "    <tr>\n",
       "      <th>8</th>\n",
       "      <td>+91 79090 27850</td>\n",
       "      <td>haan  Jaan hi lelo hamaari ....  Haan  Yahi du...</td>\n",
       "    </tr>\n",
       "    <tr>\n",
       "      <th>9</th>\n",
       "      <td>+91 86072 73793</td>\n",
       "      <td>Chal kya rha vha  Kitne meeting chalri?  Kisi ...</td>\n",
       "    </tr>\n",
       "    <tr>\n",
       "      <th>10</th>\n",
       "      <td>+91 6395 347 424</td>\n",
       "      <td>Anyone interested in making blockchain/web3 re...</td>\n",
       "    </tr>\n",
       "    <tr>\n",
       "      <th>11</th>\n",
       "      <td>+91 79054 34552</td>\n",
       "      <td>Movie tym yaaaaaa   Kamal ojha  Raise your han...</td>\n",
       "    </tr>\n",
       "    <tr>\n",
       "      <th>12</th>\n",
       "      <td>+91 84938 70808</td>\n",
       "      <td>Kyun??????? Bc asa kyu hai  Bhej bhi do Bhai  ...</td>\n",
       "    </tr>\n",
       "    <tr>\n",
       "      <th>13</th>\n",
       "      <td>Rahul Sem5 Kumar</td>\n",
       "      <td>Bro tension na le  Teacher baat karenge sabse ...</td>\n",
       "    </tr>\n",
       "    <tr>\n",
       "      <th>14</th>\n",
       "      <td>+91 72979 24756</td>\n",
       "      <td>Aaj class ka kya scene hai  Kitne bje se hai a...</td>\n",
       "    </tr>\n",
       "    <tr>\n",
       "      <th>15</th>\n",
       "      <td>+91 88043 80831</td>\n",
       "      <td>Kitte bje se ??  Kl 1st half ka DL lgega ??  M...</td>\n",
       "    </tr>\n",
       "    <tr>\n",
       "      <th>16</th>\n",
       "      <td>+91 76674 02926</td>\n",
       "      <td>10:30  Bring laptop compulsary?  Fr  Tagore  Y...</td>\n",
       "    </tr>\n",
       "    <tr>\n",
       "      <th>17</th>\n",
       "      <td>ANKUSH Sem 6</td>\n",
       "      <td>Top 7  Koi baat nahi bro  Life hai kavi kavi h...</td>\n",
       "    </tr>\n",
       "    <tr>\n",
       "      <th>18</th>\n",
       "      <td>Akshat Sem6</td>\n",
       "      <td>Greetings of the Day,   Elated to announce our...</td>\n",
       "    </tr>\n",
       "    <tr>\n",
       "      <th>19</th>\n",
       "      <td>+91 78078 44279</td>\n",
       "      <td>2864</td>\n",
       "    </tr>\n",
       "    <tr>\n",
       "      <th>20</th>\n",
       "      <td>+91 70090 33645</td>\n",
       "      <td>7992  Ok bro   Pranaya 20BCS7992  Absent</td>\n",
       "    </tr>\n",
       "    <tr>\n",
       "      <th>21</th>\n",
       "      <td>+91 70525 50704</td>\n",
       "      <td>MOOCS-II (4 sem) Disqaualified(backlog) ...</td>\n",
       "    </tr>\n",
       "    <tr>\n",
       "      <th>22</th>\n",
       "      <td>+91 89305 00597</td>\n",
       "      <td>Medical leave ka procedure pta h kisi ko?</td>\n",
       "    </tr>\n",
       "    <tr>\n",
       "      <th>23</th>\n",
       "      <td>+91 83077 89067</td>\n",
       "      <td>Nahi  Kal toh koii viva nhi h na????  Ok  True...</td>\n",
       "    </tr>\n",
       "    <tr>\n",
       "      <th>24</th>\n",
       "      <td>+91 99214 93696</td>\n",
       "      <td>Yes it's visible  It'll be visible till tomorr...</td>\n",
       "    </tr>\n",
       "    <tr>\n",
       "      <th>25</th>\n",
       "      <td>+91 82996 78341</td>\n",
       "      <td>Han  Guys I'll be on leave from tomorrow i.e. ...</td>\n",
       "    </tr>\n",
       "    <tr>\n",
       "      <th>26</th>\n",
       "      <td>+91 72484 04363</td>\n",
       "      <td>bhai koi ml ki ppt ka link bhejdo ?  hn bhai b...</td>\n",
       "    </tr>\n",
       "    <tr>\n",
       "      <th>27</th>\n",
       "      <td>+91 95826 36226</td>\n",
       "      <td>drive  k  kya  @917248404363  bhai  ye   raha ...</td>\n",
       "    </tr>\n",
       "    <tr>\n",
       "      <th>28</th>\n",
       "      <td>+91 70061 91615</td>\n",
       "      <td>Bhai example mien diya h input or output  Bhai...</td>\n",
       "    </tr>\n",
       "    <tr>\n",
       "      <th>29</th>\n",
       "      <td>+91 6284 341 681</td>\n",
       "      <td>Ml ki worksheet staple krni hai ja file main s...</td>\n",
       "    </tr>\n",
       "    <tr>\n",
       "      <th>30</th>\n",
       "      <td>+91 91030 15446</td>\n",
       "      <td>+1  Sahi hae  12 hae iska ans  Option bhj na  ...</td>\n",
       "    </tr>\n",
       "    <tr>\n",
       "      <th>31</th>\n",
       "      <td>+91 94106 87922</td>\n",
       "      <td>A</td>\n",
       "    </tr>\n",
       "    <tr>\n",
       "      <th>32</th>\n",
       "      <td>+91 6299 200 484</td>\n",
       "      <td>D  B  +1</td>\n",
       "    </tr>\n",
       "    <tr>\n",
       "      <th>33</th>\n",
       "      <td>+91 88879 10020</td>\n",
       "      <td>Shi hai  ?</td>\n",
       "    </tr>\n",
       "    <tr>\n",
       "      <th>34</th>\n",
       "      <td>+91 82739 09035</td>\n",
       "      <td>HAHAHAHAHAHA! XD Ur so funny because you did t...</td>\n",
       "    </tr>\n",
       "    <tr>\n",
       "      <th>35</th>\n",
       "      <td>+91 89200 72478</td>\n",
       "      <td>Dundo yr  Yai ni milra  Glt sa lgrah  3 jaga s...</td>\n",
       "    </tr>\n",
       "    <tr>\n",
       "      <th>36</th>\n",
       "      <td>+91 78386 78426</td>\n",
       "      <td>C  D  Hn  Result aa gya hai unix thik hai</td>\n",
       "    </tr>\n",
       "    <tr>\n",
       "      <th>37</th>\n",
       "      <td>+91 70151 03472</td>\n",
       "      <td>OS assignment set 9 hai kisi k paas?</td>\n",
       "    </tr>\n",
       "    <tr>\n",
       "      <th>38</th>\n",
       "      <td>+91 70077 84133</td>\n",
       "      <td>Ni agle Tuesday ko  Ppt presentation on above ...</td>\n",
       "    </tr>\n",
       "  </tbody>\n",
       "</table>\n",
       "</div>"
      ],
      "text/plain": [
       "                user                                              chats\n",
       "0             Gourav  Someone please share the mooc form  Thank   Do...\n",
       "1   Aditya Thakur Cu  Regarding MOOCS-III   Pls do not try and uploa...\n",
       "2    +91 70090 64835  Chill buddy  Cr ne bheja  Kya mtlb h  Impressi...\n",
       "3    +91 70823 30760  Congrats Nikhil  Congrats karan  Grp mein hai ...\n",
       "4   +91 6392 315 634  Karan bhai apna cr  Hn hai  @919422669124  Pic...\n",
       "5        Rahul Sem 6  congratulations karan bhai  anyone want to joi...\n",
       "6    +91 94226 69124  Thanx boiz   Han bhai hu  sahi h ye  bna sakte...\n",
       "7    +91 99921 99871    *FOR CRYPTO TRADERS*  *Daily Earn Profite*  ...\n",
       "8    +91 79090 27850  haan  Jaan hi lelo hamaari ....  Haan  Yahi du...\n",
       "9    +91 86072 73793  Chal kya rha vha  Kitne meeting chalri?  Kisi ...\n",
       "10  +91 6395 347 424  Anyone interested in making blockchain/web3 re...\n",
       "11   +91 79054 34552  Movie tym yaaaaaa   Kamal ojha  Raise your han...\n",
       "12   +91 84938 70808  Kyun??????? Bc asa kyu hai  Bhej bhi do Bhai  ...\n",
       "13  Rahul Sem5 Kumar  Bro tension na le  Teacher baat karenge sabse ...\n",
       "14   +91 72979 24756  Aaj class ka kya scene hai  Kitne bje se hai a...\n",
       "15   +91 88043 80831  Kitte bje se ??  Kl 1st half ka DL lgega ??  M...\n",
       "16   +91 76674 02926  10:30  Bring laptop compulsary?  Fr  Tagore  Y...\n",
       "17      ANKUSH Sem 6  Top 7  Koi baat nahi bro  Life hai kavi kavi h...\n",
       "18       Akshat Sem6  Greetings of the Day,   Elated to announce our...\n",
       "19   +91 78078 44279                                              2864 \n",
       "20   +91 70090 33645        7992  Ok bro   Pranaya 20BCS7992  Absent   \n",
       "21   +91 70525 50704        MOOCS-II (4 sem) Disqaualified(backlog) ...\n",
       "22   +91 89305 00597         Medical leave ka procedure pta h kisi ko? \n",
       "23   +91 83077 89067  Nahi  Kal toh koii viva nhi h na????  Ok  True...\n",
       "24   +91 99214 93696  Yes it's visible  It'll be visible till tomorr...\n",
       "25   +91 82996 78341  Han  Guys I'll be on leave from tomorrow i.e. ...\n",
       "26   +91 72484 04363  bhai koi ml ki ppt ka link bhejdo ?  hn bhai b...\n",
       "27   +91 95826 36226  drive  k  kya  @917248404363  bhai  ye   raha ...\n",
       "28   +91 70061 91615  Bhai example mien diya h input or output  Bhai...\n",
       "29  +91 6284 341 681  Ml ki worksheet staple krni hai ja file main s...\n",
       "30   +91 91030 15446  +1  Sahi hae  12 hae iska ans  Option bhj na  ...\n",
       "31   +91 94106 87922                                                 A \n",
       "32  +91 6299 200 484                                          D  B  +1 \n",
       "33   +91 88879 10020                                        Shi hai  ? \n",
       "34   +91 82739 09035  HAHAHAHAHAHA! XD Ur so funny because you did t...\n",
       "35   +91 89200 72478  Dundo yr  Yai ni milra  Glt sa lgrah  3 jaga s...\n",
       "36   +91 78386 78426         C  D  Hn  Result aa gya hai unix thik hai \n",
       "37   +91 70151 03472              OS assignment set 9 hai kisi k paas? \n",
       "38   +91 70077 84133  Ni agle Tuesday ko  Ppt presentation on above ..."
      ]
     },
     "execution_count": 151,
     "metadata": {},
     "output_type": "execute_result"
    }
   ],
   "source": [
    "new_WCA"
   ]
  },
  {
   "cell_type": "code",
   "execution_count": null,
   "id": "fa51ed67",
   "metadata": {},
   "outputs": [],
   "source": [
    "words=[]\n",
    "\n",
    "\n",
    "for i in range(new_WCA.shape[0]):    \n",
    "        test_str = new_WCA[\"chats\"][i]\n",
    "        trans_table = test_str.maketrans('','',\"\"\"0123456789!\"#$%&'()*+,-_–./·:;<=>?@[\\]^_`{|}~\"\"\")\n",
    "        test_str = test_str.translate(trans_table)\n",
    "\n",
    "        for wrd in test_str.lower().split(\" \"):\n",
    "            if wrd not in hinglish_stopwords and  wrd not in english_stopwords:\n",
    "                words.append(wrd)\n",
    "        \n",
    "        new_WCA[\"chats\"][i]=' '.join(words)\n",
    "        words=[]"
   ]
  },
  {
   "cell_type": "code",
   "execution_count": null,
   "id": "034777a0",
   "metadata": {},
   "outputs": [
    {
     "data": {
      "text/html": [
       "<div>\n",
       "<style scoped>\n",
       "    .dataframe tbody tr th:only-of-type {\n",
       "        vertical-align: middle;\n",
       "    }\n",
       "\n",
       "    .dataframe tbody tr th {\n",
       "        vertical-align: top;\n",
       "    }\n",
       "\n",
       "    .dataframe thead th {\n",
       "        text-align: right;\n",
       "    }\n",
       "</style>\n",
       "<table border=\"1\" class=\"dataframe\">\n",
       "  <thead>\n",
       "    <tr style=\"text-align: right;\">\n",
       "      <th></th>\n",
       "      <th>user</th>\n",
       "      <th>chats</th>\n",
       "    </tr>\n",
       "  </thead>\n",
       "  <tbody>\n",
       "    <tr>\n",
       "      <th>0</th>\n",
       "      <td>Gourav</td>\n",
       "      <td>share mooc form domain deleted message white s...</td>\n",
       "    </tr>\n",
       "    <tr>\n",
       "      <th>1</th>\n",
       "      <td>Aditya Thakur Cu</td>\n",
       "      <td>moocsiii pls upload proofs drive pls kindly up...</td>\n",
       "    </tr>\n",
       "    <tr>\n",
       "      <th>2</th>\n",
       "      <td>+91 70090 64835</td>\n",
       "      <td>chill buddy bheja mtlb impressive buddij daa e...</td>\n",
       "    </tr>\n",
       "    <tr>\n",
       "      <th>3</th>\n",
       "      <td>+91 70823 30760</td>\n",
       "      <td>congrats nikhil congrats karan grp voh ptaa im...</td>\n",
       "    </tr>\n",
       "    <tr>\n",
       "      <th>4</th>\n",
       "      <td>+91 6392 315 634</td>\n",
       "      <td>karan hn piche baitha workshops block row hn d...</td>\n",
       "    </tr>\n",
       "    <tr>\n",
       "      <th>5</th>\n",
       "      <td>Rahul Sem 6</td>\n",
       "      <td>congratulations karan join project group membe...</td>\n",
       "    </tr>\n",
       "    <tr>\n",
       "      <th>6</th>\n",
       "      <td>+91 94226 69124</td>\n",
       "      <td>boiz bna meeting join meeting join karlo abi s...</td>\n",
       "    </tr>\n",
       "    <tr>\n",
       "      <th>7</th>\n",
       "      <td>+91 99921 99871</td>\n",
       "      <td>crypto traders daily earn profite helping trad...</td>\n",
       "    </tr>\n",
       "    <tr>\n",
       "      <th>8</th>\n",
       "      <td>+91 79090 27850</td>\n",
       "      <td>jaan lelo hamaari due list subject ohk ml set ...</td>\n",
       "    </tr>\n",
       "    <tr>\n",
       "      <th>9</th>\n",
       "      <td>+91 86072 73793</td>\n",
       "      <td>vha meeting chalri quiz show hora lms soft ski...</td>\n",
       "    </tr>\n",
       "    <tr>\n",
       "      <th>10</th>\n",
       "      <td>+91 6395 347 424</td>\n",
       "      <td>interested making blockchainweb related projec...</td>\n",
       "    </tr>\n",
       "    <tr>\n",
       "      <th>11</th>\n",
       "      <td>+91 79054 34552</td>\n",
       "      <td>movie tym yaaaaaa kamal ojha raise bcs submit ...</td>\n",
       "    </tr>\n",
       "    <tr>\n",
       "      <th>12</th>\n",
       "      <td>+91 84938 70808</td>\n",
       "      <td>asa bhej asa sch padhai shodo soft copy krni s...</td>\n",
       "    </tr>\n",
       "    <tr>\n",
       "      <th>13</th>\n",
       "      <td>Rahul Sem5 Kumar</td>\n",
       "      <td>tension teacher baat personally future plan we...</td>\n",
       "    </tr>\n",
       "    <tr>\n",
       "      <th>14</th>\n",
       "      <td>+91 72979 24756</td>\n",
       "      <td>class scene bje kdjr subject exp kki copy jani...</td>\n",
       "    </tr>\n",
       "    <tr>\n",
       "      <th>15</th>\n",
       "      <td>+91 88043 80831</td>\n",
       "      <td>kitte bje kl half lgega marathon participate p...</td>\n",
       "    </tr>\n",
       "    <tr>\n",
       "      <th>16</th>\n",
       "      <td>+91 76674 02926</td>\n",
       "      <td>bring laptop compulsary tagore batayega top pr...</td>\n",
       "    </tr>\n",
       "    <tr>\n",
       "      <th>17</th>\n",
       "      <td>ANKUSH Sem 6</td>\n",
       "      <td>top baat life kavi kavi rounder banna parega c...</td>\n",
       "    </tr>\n",
       "    <tr>\n",
       "      <th>18</th>\n",
       "      <td>Akshat Sem6</td>\n",
       "      <td>day elated announce collaboration reskilll bri...</td>\n",
       "    </tr>\n",
       "    <tr>\n",
       "      <th>19</th>\n",
       "      <td>+91 70090 33645</td>\n",
       "      <td>pranaya bcs absent</td>\n",
       "    </tr>\n",
       "    <tr>\n",
       "      <th>20</th>\n",
       "      <td>+91 70525 50704</td>\n",
       "      <td>moocsii sem disqaualifiedbacklog students batc...</td>\n",
       "    </tr>\n",
       "    <tr>\n",
       "      <th>21</th>\n",
       "      <td>+91 89305 00597</td>\n",
       "      <td>medical leave procedure pta</td>\n",
       "    </tr>\n",
       "    <tr>\n",
       "      <th>22</th>\n",
       "      <td>+91 83077 89067</td>\n",
       "      <td>koii viva pta answer</td>\n",
       "    </tr>\n",
       "    <tr>\n",
       "      <th>23</th>\n",
       "      <td>+91 99214 93696</td>\n",
       "      <td>visible itll visible tomorrow complete viewing...</td>\n",
       "    </tr>\n",
       "    <tr>\n",
       "      <th>24</th>\n",
       "      <td>+91 82996 78341</td>\n",
       "      <td>leave tomorrow ensure galti present lg jae kar...</td>\n",
       "    </tr>\n",
       "    <tr>\n",
       "      <th>25</th>\n",
       "      <td>+91 72484 04363</td>\n",
       "      <td>ml ppt link bhejdo hn bhejde mmt ppt bhejdo in...</td>\n",
       "    </tr>\n",
       "    <tr>\n",
       "      <th>26</th>\n",
       "      <td>+91 95826 36226</td>\n",
       "      <td>drive rajender singh sodhi bej section questio...</td>\n",
       "    </tr>\n",
       "    <tr>\n",
       "      <th>27</th>\n",
       "      <td>+91 70061 91615</td>\n",
       "      <td>mien input output puch hn hn abi asaan lg hame...</td>\n",
       "    </tr>\n",
       "    <tr>\n",
       "      <th>28</th>\n",
       "      <td>+91 6284 341 681</td>\n",
       "      <td>ml worksheet staple krni file submit krni assi...</td>\n",
       "    </tr>\n",
       "    <tr>\n",
       "      <th>29</th>\n",
       "      <td>+91 91030 15446</td>\n",
       "      <td>hae hae ans option bhj hae</td>\n",
       "    </tr>\n",
       "    <tr>\n",
       "      <th>30</th>\n",
       "      <td>+91 88879 10020</td>\n",
       "      <td>shi</td>\n",
       "    </tr>\n",
       "    <tr>\n",
       "      <th>31</th>\n",
       "      <td>+91 82739 09035</td>\n",
       "      <td>hahahahahaha xd funny number xd don’t number m...</td>\n",
       "    </tr>\n",
       "    <tr>\n",
       "      <th>32</th>\n",
       "      <td>+91 89200 72478</td>\n",
       "      <td>dundo yr yai milra glt lgrah jaga mile answer ...</td>\n",
       "    </tr>\n",
       "    <tr>\n",
       "      <th>33</th>\n",
       "      <td>+91 78386 78426</td>\n",
       "      <td>hn result gya unix</td>\n",
       "    </tr>\n",
       "    <tr>\n",
       "      <th>34</th>\n",
       "      <td>+91 70151 03472</td>\n",
       "      <td>assignment set paas</td>\n",
       "    </tr>\n",
       "    <tr>\n",
       "      <th>35</th>\n",
       "      <td>+91 70077 84133</td>\n",
       "      <td>agle tuesday ppt presentation topic</td>\n",
       "    </tr>\n",
       "  </tbody>\n",
       "</table>\n",
       "</div>"
      ],
      "text/plain": [
       "                user                                              chats\n",
       "0             Gourav  share mooc form domain deleted message white s...\n",
       "1   Aditya Thakur Cu  moocsiii pls upload proofs drive pls kindly up...\n",
       "2    +91 70090 64835  chill buddy bheja mtlb impressive buddij daa e...\n",
       "3    +91 70823 30760  congrats nikhil congrats karan grp voh ptaa im...\n",
       "4   +91 6392 315 634  karan hn piche baitha workshops block row hn d...\n",
       "5        Rahul Sem 6  congratulations karan join project group membe...\n",
       "6    +91 94226 69124  boiz bna meeting join meeting join karlo abi s...\n",
       "7    +91 99921 99871  crypto traders daily earn profite helping trad...\n",
       "8    +91 79090 27850  jaan lelo hamaari due list subject ohk ml set ...\n",
       "9    +91 86072 73793  vha meeting chalri quiz show hora lms soft ski...\n",
       "10  +91 6395 347 424  interested making blockchainweb related projec...\n",
       "11   +91 79054 34552  movie tym yaaaaaa kamal ojha raise bcs submit ...\n",
       "12   +91 84938 70808  asa bhej asa sch padhai shodo soft copy krni s...\n",
       "13  Rahul Sem5 Kumar  tension teacher baat personally future plan we...\n",
       "14   +91 72979 24756  class scene bje kdjr subject exp kki copy jani...\n",
       "15   +91 88043 80831  kitte bje kl half lgega marathon participate p...\n",
       "16   +91 76674 02926  bring laptop compulsary tagore batayega top pr...\n",
       "17      ANKUSH Sem 6  top baat life kavi kavi rounder banna parega c...\n",
       "18       Akshat Sem6  day elated announce collaboration reskilll bri...\n",
       "19   +91 70090 33645                                 pranaya bcs absent\n",
       "20   +91 70525 50704  moocsii sem disqaualifiedbacklog students batc...\n",
       "21   +91 89305 00597                        medical leave procedure pta\n",
       "22   +91 83077 89067                               koii viva pta answer\n",
       "23   +91 99214 93696  visible itll visible tomorrow complete viewing...\n",
       "24   +91 82996 78341  leave tomorrow ensure galti present lg jae kar...\n",
       "25   +91 72484 04363  ml ppt link bhejdo hn bhejde mmt ppt bhejdo in...\n",
       "26   +91 95826 36226  drive rajender singh sodhi bej section questio...\n",
       "27   +91 70061 91615  mien input output puch hn hn abi asaan lg hame...\n",
       "28  +91 6284 341 681  ml worksheet staple krni file submit krni assi...\n",
       "29   +91 91030 15446                         hae hae ans option bhj hae\n",
       "30   +91 88879 10020                                                shi\n",
       "31   +91 82739 09035  hahahahahaha xd funny number xd don’t number m...\n",
       "32   +91 89200 72478  dundo yr yai milra glt lgrah jaga mile answer ...\n",
       "33   +91 78386 78426                                 hn result gya unix\n",
       "34   +91 70151 03472                                assignment set paas\n",
       "35   +91 70077 84133                agle tuesday ppt presentation topic"
      ]
     },
     "execution_count": 155,
     "metadata": {},
     "output_type": "execute_result"
    }
   ],
   "source": [
    "new_WCA=new_WCA[new_WCA[\"chats\"]!='']\n",
    "new_WCA.reset_index(inplace=True)\n",
    "new_WCA.drop(\"index\",axis=1,inplace=True)\n",
    "new_WCA"
   ]
  },
  {
   "cell_type": "code",
   "execution_count": null,
   "id": "8a5e4b07",
   "metadata": {},
   "outputs": [],
   "source": [
    "from sklearn.feature_extraction.text import CountVectorizer\n",
    "count_vect = CountVectorizer(max_features = 200) "
   ]
  },
  {
   "cell_type": "code",
   "execution_count": null,
   "id": "70f29294",
   "metadata": {},
   "outputs": [],
   "source": [
    "WCA_vectors=count_vect.fit_transform(new_WCA[\"chats\"]).toarray()"
   ]
  },
  {
   "cell_type": "code",
   "execution_count": null,
   "id": "c774e8dc",
   "metadata": {},
   "outputs": [
    {
     "data": {
      "text/plain": [
       "array([[0, 0, 0, ..., 0, 0, 0],\n",
       "       [0, 0, 0, ..., 3, 0, 0],\n",
       "       [0, 0, 1, ..., 0, 0, 1],\n",
       "       ...,\n",
       "       [0, 0, 0, ..., 0, 0, 0],\n",
       "       [0, 0, 0, ..., 0, 0, 0],\n",
       "       [0, 0, 0, ..., 0, 0, 0]], dtype=int64)"
      ]
     },
     "execution_count": 163,
     "metadata": {},
     "output_type": "execute_result"
    }
   ],
   "source": [
    "WCA_vectors"
   ]
  },
  {
   "cell_type": "code",
   "execution_count": null,
   "id": "2bf2f3d0",
   "metadata": {},
   "outputs": [
    {
     "data": {
      "text/plain": [
       "(36, 200)"
      ]
     },
     "execution_count": 164,
     "metadata": {},
     "output_type": "execute_result"
    }
   ],
   "source": [
    "WCA_vectors.shape"
   ]
  },
  {
   "cell_type": "code",
   "execution_count": null,
   "id": "4c694ab0",
   "metadata": {},
   "outputs": [],
   "source": [
    "from sklearn.metrics.pairwise import cosine_similarity"
   ]
  },
  {
   "cell_type": "code",
   "execution_count": null,
   "id": "fe90da46",
   "metadata": {},
   "outputs": [],
   "source": [
    "similarity = cosine_similarity(WCA_vectors)"
   ]
  },
  {
   "cell_type": "code",
   "execution_count": null,
   "id": "effa6c99",
   "metadata": {},
   "outputs": [
    {
     "data": {
      "text/plain": [
       "array([[1.        , 0.08944272, 0.        , ..., 0.        , 0.        ,\n",
       "        0.        ],\n",
       "       [0.08944272, 1.        , 0.06558258, ..., 0.03651484, 0.        ,\n",
       "        0.        ],\n",
       "       [0.        , 0.06558258, 1.        , ..., 0.        , 0.        ,\n",
       "        0.        ],\n",
       "       ...,\n",
       "       [0.        , 0.03651484, 0.        , ..., 1.        , 0.        ,\n",
       "        0.        ],\n",
       "       [0.        , 0.        , 0.        , ..., 0.        , 1.        ,\n",
       "        0.        ],\n",
       "       [0.        , 0.        , 0.        , ..., 0.        , 0.        ,\n",
       "        1.        ]])"
      ]
     },
     "execution_count": 170,
     "metadata": {},
     "output_type": "execute_result"
    }
   ],
   "source": [
    "similarity"
   ]
  },
  {
   "cell_type": "code",
   "execution_count": null,
   "id": "fe185481",
   "metadata": {},
   "outputs": [
    {
     "name": "stdout",
     "output_type": "stream",
     "text": [
      "+91 99921 99871   35.35533905932737 %\n",
      "+91 79090 27850   30.151134457776358 %\n",
      "+91 70525 50704   14.744195615489714 %\n"
     ]
    }
   ],
   "source": [
    "user_index = new_WCA[new_WCA[\"user\"]==\"Gourav\"].index[0]\n",
    "user_similar = sorted(list(enumerate(similarity[user_index])),reverse=True,key=lambda x: x[1])\n",
    "\n",
    "for usr in user_similar[1:4]:\n",
    "    print(new_WCA.iloc[usr[0]].user,\" \",usr[1]*100,\"%\")\n",
    "\n"
   ]
  },
  {
   "cell_type": "code",
   "execution_count": null,
   "id": "7ca776ee",
   "metadata": {},
   "outputs": [],
   "source": []
  },
  {
   "cell_type": "code",
   "execution_count": null,
   "id": "b579f7f7",
   "metadata": {},
   "outputs": [],
   "source": [
    "\n"
   ]
  },
  {
   "cell_type": "code",
   "execution_count": null,
   "id": "aed55515",
   "metadata": {},
   "outputs": [],
   "source": []
  },
  {
   "cell_type": "code",
   "execution_count": null,
   "id": "a51914e4",
   "metadata": {},
   "outputs": [],
   "source": []
  }
 ],
 "metadata": {
  "interpreter": {
   "hash": "03ac970558e464f37c95cdeda2bdda29a8ae6572ca698145d5ae67b65c2ebc54"
  },
  "kernelspec": {
   "display_name": "Python 3.9.7 64-bit ('Project Environment': venv)",
   "name": "python3"
  },
  "language_info": {
   "codemirror_mode": {
    "name": "ipython",
    "version": 3
   },
   "file_extension": ".py",
   "mimetype": "text/x-python",
   "name": "python",
   "nbconvert_exporter": "python",
   "pygments_lexer": "ipython3",
   "version": "3.9.7"
  }
 },
 "nbformat": 4,
 "nbformat_minor": 5
}
